{
 "cells": [
  {
   "cell_type": "markdown",
   "id": "4c2f790f",
   "metadata": {
    "papermill": {
     "duration": 0.031438,
     "end_time": "2022-10-17T18:55:04.234580",
     "exception": false,
     "start_time": "2022-10-17T18:55:04.203142",
     "status": "completed"
    },
    "tags": []
   },
   "source": [
    "<a id=\"1\"></a> <br>\n",
    "# Load data"
   ]
  },
  {
   "cell_type": "code",
   "execution_count": 1,
   "id": "34905bde",
   "metadata": {
    "execution": {
     "iopub.execute_input": "2022-10-17T18:55:04.295683Z",
     "iopub.status.busy": "2022-10-17T18:55:04.294965Z",
     "iopub.status.idle": "2022-10-17T18:55:06.627418Z",
     "shell.execute_reply": "2022-10-17T18:55:06.626038Z"
    },
    "papermill": {
     "duration": 2.366366,
     "end_time": "2022-10-17T18:55:06.629973",
     "exception": false,
     "start_time": "2022-10-17T18:55:04.263607",
     "status": "completed"
    },
    "scrolled": true,
    "tags": []
   },
   "outputs": [
    {
     "data": {
      "text/html": [
       "        <script type=\"text/javascript\">\n",
       "        window.PlotlyConfig = {MathJaxConfig: 'local'};\n",
       "        if (window.MathJax && window.MathJax.Hub && window.MathJax.Hub.Config) {window.MathJax.Hub.Config({SVG: {font: \"STIX-Web\"}});}\n",
       "        if (typeof require !== 'undefined') {\n",
       "        require.undef(\"plotly\");\n",
       "        requirejs.config({\n",
       "            paths: {\n",
       "                'plotly': ['https://cdn.plot.ly/plotly-2.14.0.min']\n",
       "            }\n",
       "        });\n",
       "        require(['plotly'], function(Plotly) {\n",
       "            window._Plotly = Plotly;\n",
       "        });\n",
       "        }\n",
       "        </script>\n",
       "        "
      ]
     },
     "metadata": {},
     "output_type": "display_data"
    },
    {
     "data": {
      "text/html": [
       "<div>\n",
       "<style scoped>\n",
       "    .dataframe tbody tr th:only-of-type {\n",
       "        vertical-align: middle;\n",
       "    }\n",
       "\n",
       "    .dataframe tbody tr th {\n",
       "        vertical-align: top;\n",
       "    }\n",
       "\n",
       "    .dataframe thead th {\n",
       "        text-align: right;\n",
       "    }\n",
       "</style>\n",
       "<table border=\"1\" class=\"dataframe\">\n",
       "  <thead>\n",
       "    <tr style=\"text-align: right;\">\n",
       "      <th></th>\n",
       "      <th>year</th>\n",
       "      <th>month</th>\n",
       "      <th>day</th>\n",
       "      <th>order</th>\n",
       "      <th>country</th>\n",
       "      <th>session ID</th>\n",
       "      <th>page 1 (main category)</th>\n",
       "      <th>page 2 (clothing model)</th>\n",
       "      <th>colour</th>\n",
       "      <th>location</th>\n",
       "      <th>model photography</th>\n",
       "      <th>price</th>\n",
       "      <th>price 2</th>\n",
       "      <th>page</th>\n",
       "    </tr>\n",
       "  </thead>\n",
       "  <tbody>\n",
       "    <tr>\n",
       "      <th>0</th>\n",
       "      <td>2008</td>\n",
       "      <td>4</td>\n",
       "      <td>1</td>\n",
       "      <td>1</td>\n",
       "      <td>29</td>\n",
       "      <td>1</td>\n",
       "      <td>1</td>\n",
       "      <td>A13</td>\n",
       "      <td>1</td>\n",
       "      <td>5</td>\n",
       "      <td>1</td>\n",
       "      <td>28</td>\n",
       "      <td>2</td>\n",
       "      <td>1</td>\n",
       "    </tr>\n",
       "    <tr>\n",
       "      <th>1</th>\n",
       "      <td>2008</td>\n",
       "      <td>4</td>\n",
       "      <td>1</td>\n",
       "      <td>2</td>\n",
       "      <td>29</td>\n",
       "      <td>1</td>\n",
       "      <td>1</td>\n",
       "      <td>A16</td>\n",
       "      <td>1</td>\n",
       "      <td>6</td>\n",
       "      <td>1</td>\n",
       "      <td>33</td>\n",
       "      <td>2</td>\n",
       "      <td>1</td>\n",
       "    </tr>\n",
       "    <tr>\n",
       "      <th>2</th>\n",
       "      <td>2008</td>\n",
       "      <td>4</td>\n",
       "      <td>1</td>\n",
       "      <td>3</td>\n",
       "      <td>29</td>\n",
       "      <td>1</td>\n",
       "      <td>2</td>\n",
       "      <td>B4</td>\n",
       "      <td>10</td>\n",
       "      <td>2</td>\n",
       "      <td>1</td>\n",
       "      <td>52</td>\n",
       "      <td>1</td>\n",
       "      <td>1</td>\n",
       "    </tr>\n",
       "    <tr>\n",
       "      <th>3</th>\n",
       "      <td>2008</td>\n",
       "      <td>4</td>\n",
       "      <td>1</td>\n",
       "      <td>4</td>\n",
       "      <td>29</td>\n",
       "      <td>1</td>\n",
       "      <td>2</td>\n",
       "      <td>B17</td>\n",
       "      <td>6</td>\n",
       "      <td>6</td>\n",
       "      <td>2</td>\n",
       "      <td>38</td>\n",
       "      <td>2</td>\n",
       "      <td>1</td>\n",
       "    </tr>\n",
       "    <tr>\n",
       "      <th>4</th>\n",
       "      <td>2008</td>\n",
       "      <td>4</td>\n",
       "      <td>1</td>\n",
       "      <td>5</td>\n",
       "      <td>29</td>\n",
       "      <td>1</td>\n",
       "      <td>2</td>\n",
       "      <td>B8</td>\n",
       "      <td>4</td>\n",
       "      <td>3</td>\n",
       "      <td>2</td>\n",
       "      <td>52</td>\n",
       "      <td>1</td>\n",
       "      <td>1</td>\n",
       "    </tr>\n",
       "    <tr>\n",
       "      <th>...</th>\n",
       "      <td>...</td>\n",
       "      <td>...</td>\n",
       "      <td>...</td>\n",
       "      <td>...</td>\n",
       "      <td>...</td>\n",
       "      <td>...</td>\n",
       "      <td>...</td>\n",
       "      <td>...</td>\n",
       "      <td>...</td>\n",
       "      <td>...</td>\n",
       "      <td>...</td>\n",
       "      <td>...</td>\n",
       "      <td>...</td>\n",
       "      <td>...</td>\n",
       "    </tr>\n",
       "    <tr>\n",
       "      <th>165469</th>\n",
       "      <td>2008</td>\n",
       "      <td>8</td>\n",
       "      <td>13</td>\n",
       "      <td>1</td>\n",
       "      <td>29</td>\n",
       "      <td>24024</td>\n",
       "      <td>2</td>\n",
       "      <td>B10</td>\n",
       "      <td>2</td>\n",
       "      <td>4</td>\n",
       "      <td>1</td>\n",
       "      <td>67</td>\n",
       "      <td>1</td>\n",
       "      <td>1</td>\n",
       "    </tr>\n",
       "    <tr>\n",
       "      <th>165470</th>\n",
       "      <td>2008</td>\n",
       "      <td>8</td>\n",
       "      <td>13</td>\n",
       "      <td>1</td>\n",
       "      <td>9</td>\n",
       "      <td>24025</td>\n",
       "      <td>1</td>\n",
       "      <td>A11</td>\n",
       "      <td>3</td>\n",
       "      <td>4</td>\n",
       "      <td>1</td>\n",
       "      <td>62</td>\n",
       "      <td>1</td>\n",
       "      <td>1</td>\n",
       "    </tr>\n",
       "    <tr>\n",
       "      <th>165471</th>\n",
       "      <td>2008</td>\n",
       "      <td>8</td>\n",
       "      <td>13</td>\n",
       "      <td>1</td>\n",
       "      <td>34</td>\n",
       "      <td>24026</td>\n",
       "      <td>1</td>\n",
       "      <td>A2</td>\n",
       "      <td>3</td>\n",
       "      <td>1</td>\n",
       "      <td>1</td>\n",
       "      <td>43</td>\n",
       "      <td>2</td>\n",
       "      <td>1</td>\n",
       "    </tr>\n",
       "    <tr>\n",
       "      <th>165472</th>\n",
       "      <td>2008</td>\n",
       "      <td>8</td>\n",
       "      <td>13</td>\n",
       "      <td>2</td>\n",
       "      <td>34</td>\n",
       "      <td>24026</td>\n",
       "      <td>3</td>\n",
       "      <td>C2</td>\n",
       "      <td>12</td>\n",
       "      <td>1</td>\n",
       "      <td>1</td>\n",
       "      <td>43</td>\n",
       "      <td>1</td>\n",
       "      <td>1</td>\n",
       "    </tr>\n",
       "    <tr>\n",
       "      <th>165473</th>\n",
       "      <td>2008</td>\n",
       "      <td>8</td>\n",
       "      <td>13</td>\n",
       "      <td>3</td>\n",
       "      <td>34</td>\n",
       "      <td>24026</td>\n",
       "      <td>2</td>\n",
       "      <td>B2</td>\n",
       "      <td>3</td>\n",
       "      <td>1</td>\n",
       "      <td>2</td>\n",
       "      <td>57</td>\n",
       "      <td>1</td>\n",
       "      <td>1</td>\n",
       "    </tr>\n",
       "  </tbody>\n",
       "</table>\n",
       "<p>165474 rows × 14 columns</p>\n",
       "</div>"
      ],
      "text/plain": [
       "        year  month  day  order  country  session ID  page 1 (main category)  \\\n",
       "0       2008      4    1      1       29           1                       1   \n",
       "1       2008      4    1      2       29           1                       1   \n",
       "2       2008      4    1      3       29           1                       2   \n",
       "3       2008      4    1      4       29           1                       2   \n",
       "4       2008      4    1      5       29           1                       2   \n",
       "...      ...    ...  ...    ...      ...         ...                     ...   \n",
       "165469  2008      8   13      1       29       24024                       2   \n",
       "165470  2008      8   13      1        9       24025                       1   \n",
       "165471  2008      8   13      1       34       24026                       1   \n",
       "165472  2008      8   13      2       34       24026                       3   \n",
       "165473  2008      8   13      3       34       24026                       2   \n",
       "\n",
       "       page 2 (clothing model)  colour  location  model photography  price  \\\n",
       "0                          A13       1         5                  1     28   \n",
       "1                          A16       1         6                  1     33   \n",
       "2                           B4      10         2                  1     52   \n",
       "3                          B17       6         6                  2     38   \n",
       "4                           B8       4         3                  2     52   \n",
       "...                        ...     ...       ...                ...    ...   \n",
       "165469                     B10       2         4                  1     67   \n",
       "165470                     A11       3         4                  1     62   \n",
       "165471                      A2       3         1                  1     43   \n",
       "165472                      C2      12         1                  1     43   \n",
       "165473                      B2       3         1                  2     57   \n",
       "\n",
       "        price 2  page  \n",
       "0             2     1  \n",
       "1             2     1  \n",
       "2             1     1  \n",
       "3             2     1  \n",
       "4             1     1  \n",
       "...         ...   ...  \n",
       "165469        1     1  \n",
       "165470        1     1  \n",
       "165471        2     1  \n",
       "165472        1     1  \n",
       "165473        1     1  \n",
       "\n",
       "[165474 rows x 14 columns]"
      ]
     },
     "execution_count": 1,
     "metadata": {},
     "output_type": "execute_result"
    }
   ],
   "source": [
    "import pandas as pd\n",
    "import numpy as np\n",
    "import seaborn as sns\n",
    "import matplotlib.pyplot as plt\n",
    "import warnings\n",
    "warnings.filterwarnings(\"ignore\")\n",
    "\n",
    "import plotly.graph_objects as go\n",
    "from plotly.offline import init_notebook_mode, iplot\n",
    "init_notebook_mode(connected=True)\n",
    "\n",
    "import plotly.express as px\n",
    "\n",
    "\n",
    "df = pd.read_csv(\"../input/eshop-clothing-dataset/e-shop clothing 2008.csv\")\n",
    "df"
   ]
  },
  {
   "cell_type": "markdown",
   "id": "e855b00f",
   "metadata": {
    "id": "B619enJFp4yY",
    "papermill": {
     "duration": 0.029788,
     "end_time": "2022-10-17T18:55:06.690519",
     "exception": false,
     "start_time": "2022-10-17T18:55:06.660731",
     "status": "completed"
    },
    "tags": []
   },
   "source": [
    "<a id=\"2\"></a> <br>\n",
    "\n",
    "# Data preparation for EDA"
   ]
  },
  {
   "cell_type": "code",
   "execution_count": 2,
   "id": "162561c3",
   "metadata": {
    "execution": {
     "iopub.execute_input": "2022-10-17T18:55:06.752899Z",
     "iopub.status.busy": "2022-10-17T18:55:06.752138Z",
     "iopub.status.idle": "2022-10-17T18:55:06.786127Z",
     "shell.execute_reply": "2022-10-17T18:55:06.784860Z"
    },
    "id": "cf4ddd9e",
    "papermill": {
     "duration": 0.068079,
     "end_time": "2022-10-17T18:55:06.788702",
     "exception": false,
     "start_time": "2022-10-17T18:55:06.720623",
     "status": "completed"
    },
    "tags": []
   },
   "outputs": [
    {
     "name": "stdout",
     "output_type": "stream",
     "text": [
      "<class 'pandas.core.frame.DataFrame'>\n",
      "RangeIndex: 165474 entries, 0 to 165473\n",
      "Data columns (total 14 columns):\n",
      " #   Column                   Non-Null Count   Dtype \n",
      "---  ------                   --------------   ----- \n",
      " 0   year                     165474 non-null  int64 \n",
      " 1   month                    165474 non-null  int64 \n",
      " 2   day                      165474 non-null  int64 \n",
      " 3   order                    165474 non-null  int64 \n",
      " 4   country                  165474 non-null  int64 \n",
      " 5   session ID               165474 non-null  int64 \n",
      " 6   page 1 (main category)   165474 non-null  int64 \n",
      " 7   page 2 (clothing model)  165474 non-null  object\n",
      " 8   colour                   165474 non-null  int64 \n",
      " 9   location                 165474 non-null  int64 \n",
      " 10  model photography        165474 non-null  int64 \n",
      " 11  price                    165474 non-null  int64 \n",
      " 12  price 2                  165474 non-null  int64 \n",
      " 13  page                     165474 non-null  int64 \n",
      "dtypes: int64(13), object(1)\n",
      "memory usage: 17.7+ MB\n"
     ]
    }
   ],
   "source": [
    "df.info()\n"
   ]
  },
  {
   "cell_type": "code",
   "execution_count": 3,
   "id": "0683eb6c",
   "metadata": {
    "execution": {
     "iopub.execute_input": "2022-10-17T18:55:06.852978Z",
     "iopub.status.busy": "2022-10-17T18:55:06.852166Z",
     "iopub.status.idle": "2022-10-17T18:55:06.860752Z",
     "shell.execute_reply": "2022-10-17T18:55:06.859916Z"
    },
    "id": "30253eb0",
    "papermill": {
     "duration": 0.042747,
     "end_time": "2022-10-17T18:55:06.863084",
     "exception": false,
     "start_time": "2022-10-17T18:55:06.820337",
     "status": "completed"
    },
    "tags": []
   },
   "outputs": [],
   "source": [
    "country_map = {\n",
    "    \"1\": \"Australia\",\n",
    "    \"2\": \"Austria\",\n",
    "    \"3\": \"Belgium\",\n",
    "    \"4\": \"British Virgin Islands\",\n",
    "    \"5\": \"Cayman Islands\",\n",
    "    \"6\": \"Christmas Island\",\n",
    "    '7': \"Croatia\",\n",
    "    '8': \"Cyprus\",\n",
    "    '9': \"Czech Republic\",\n",
    "    '10': \"Denmark\",\n",
    "    \"11\": \"Estonia\",\n",
    "    \"12\": \"unidentified\",\n",
    "    \"13\": \"Faroe Islands\",\n",
    "    \"14\": \"Finland\",\n",
    "    \"15\": \"France\",\n",
    "    \"16\": \"Germany\",\n",
    "    '17': \"Greece\",\n",
    "    \"18\": \"Hungary\",\n",
    "    \"19\": \"Iceland\",\n",
    "    \"20\": \"India\",\n",
    "    \"21\": \"Ireland\",\n",
    "    \"22\": \"Italy\",\n",
    "    \"23\": \"Latvia\",\n",
    "    \"24\": \"Lithuania\",\n",
    "    \"25\": \"Luxembourg\",\n",
    "    \"26\": \"Mexico\",\n",
    "    \"27\": \"Netherlands\",\n",
    "    \"28\": \"Norway\",\n",
    "    \"29\": \"Poland\",\n",
    "    \"30\": \"Portugal\",\n",
    "    \"31\": \"Romania\",\n",
    "    '32': \"Russia\",\n",
    "    '33': \"San Marion\",\n",
    "    \"34\": \"Slovakia\",\n",
    "    \"35\": \"Slovenia\",\n",
    "    \"36\": \"Spain\",\n",
    "    '37': \"Sweden\",\n",
    "    \"38\": \"Switzerland\",\n",
    "    \"39\": \"Ukraine\",\n",
    "    \"40\": \"United Arab Emirates\",\n",
    "    \"41\": \"United Kingdom\",\n",
    "    \"42\": \"USA\",\n",
    "    \"43\": \"biz (.biz)\",\n",
    "    \"44\": \"com (.com)\",\n",
    "    \"45\": \"int (.int)\",\n",
    "    \"46\": \"net (.net)\",\n",
    "    \"47\": \"org (*.org)\"\n",
    "}\n"
   ]
  },
  {
   "cell_type": "code",
   "execution_count": 4,
   "id": "8aecb1e4",
   "metadata": {
    "execution": {
     "iopub.execute_input": "2022-10-17T18:55:06.926918Z",
     "iopub.status.busy": "2022-10-17T18:55:06.926081Z",
     "iopub.status.idle": "2022-10-17T18:55:07.070031Z",
     "shell.execute_reply": "2022-10-17T18:55:07.069084Z"
    },
    "id": "76542578",
    "papermill": {
     "duration": 0.178219,
     "end_time": "2022-10-17T18:55:07.072656",
     "exception": false,
     "start_time": "2022-10-17T18:55:06.894437",
     "status": "completed"
    },
    "tags": []
   },
   "outputs": [],
   "source": [
    "df['country'] = df['country'].astype(\"string\")\n",
    "df[\"country\"] = df[\"country\"].map(country_map)\n"
   ]
  },
  {
   "cell_type": "code",
   "execution_count": 5,
   "id": "c9614ee2",
   "metadata": {
    "execution": {
     "iopub.execute_input": "2022-10-17T18:55:07.136011Z",
     "iopub.status.busy": "2022-10-17T18:55:07.135047Z",
     "iopub.status.idle": "2022-10-17T18:55:07.152531Z",
     "shell.execute_reply": "2022-10-17T18:55:07.151579Z"
    },
    "id": "1f56ab99",
    "papermill": {
     "duration": 0.051272,
     "end_time": "2022-10-17T18:55:07.154938",
     "exception": false,
     "start_time": "2022-10-17T18:55:07.103666",
     "status": "completed"
    },
    "tags": []
   },
   "outputs": [],
   "source": [
    "page1_map = {\n",
    "    1: \"trousers\",\n",
    "    2: \"skirts\",\n",
    "    3: \"blouses\",\n",
    "    4: \"sale\"\n",
    "}\n",
    "df[\"page 1 (main category)\"] = df[\"page 1 (main category)\"].map(page1_map)\n"
   ]
  },
  {
   "cell_type": "code",
   "execution_count": 6,
   "id": "d3c09519",
   "metadata": {
    "execution": {
     "iopub.execute_input": "2022-10-17T18:55:07.217713Z",
     "iopub.status.busy": "2022-10-17T18:55:07.216758Z",
     "iopub.status.idle": "2022-10-17T18:55:07.234330Z",
     "shell.execute_reply": "2022-10-17T18:55:07.233090Z"
    },
    "id": "1668793e",
    "papermill": {
     "duration": 0.051497,
     "end_time": "2022-10-17T18:55:07.236801",
     "exception": false,
     "start_time": "2022-10-17T18:55:07.185304",
     "status": "completed"
    },
    "tags": []
   },
   "outputs": [],
   "source": [
    "location_map = {\n",
    "    1: \"top left\",\n",
    "    2: \"top in the middle\",\n",
    "    3: \"top right\",\n",
    "    4: 'bottom left',\n",
    "    5: \"bottom in the middle\",\n",
    "    6: \"bottom right\"\n",
    "}\n",
    "\n",
    "df[\"location\"] = df[\"location\"].map(location_map)\n"
   ]
  },
  {
   "cell_type": "code",
   "execution_count": 7,
   "id": "0d9149ac",
   "metadata": {
    "execution": {
     "iopub.execute_input": "2022-10-17T18:55:07.299299Z",
     "iopub.status.busy": "2022-10-17T18:55:07.298891Z",
     "iopub.status.idle": "2022-10-17T18:55:07.312582Z",
     "shell.execute_reply": "2022-10-17T18:55:07.311710Z"
    },
    "id": "0626e7ad",
    "papermill": {
     "duration": 0.047963,
     "end_time": "2022-10-17T18:55:07.314996",
     "exception": false,
     "start_time": "2022-10-17T18:55:07.267033",
     "status": "completed"
    },
    "tags": []
   },
   "outputs": [],
   "source": [
    "color_map = {\n",
    "    1: \"beige\",\n",
    "    2: \"black\",\n",
    "    3: \"blue\",\n",
    "    4: \"brown\",\n",
    "    5: \"burgundy\",\n",
    "    6: \"gray\",\n",
    "    7: \"green\",\n",
    "    8: \"navy blue\",\n",
    "    9: \"of many colors\",\n",
    "    10: \"olive\",\n",
    "    11: \"pink\",\n",
    "    12: \"red\",\n",
    "    13: \"violet\",\n",
    "    14: \"white\"\n",
    "}\n",
    "\n",
    "df[\"colour\"] = df[\"colour\"].map(color_map)\n"
   ]
  },
  {
   "cell_type": "code",
   "execution_count": 8,
   "id": "f56729e7",
   "metadata": {
    "execution": {
     "iopub.execute_input": "2022-10-17T18:55:07.376527Z",
     "iopub.status.busy": "2022-10-17T18:55:07.375666Z",
     "iopub.status.idle": "2022-10-17T18:55:07.388650Z",
     "shell.execute_reply": "2022-10-17T18:55:07.387801Z"
    },
    "id": "d2483a2c",
    "papermill": {
     "duration": 0.046068,
     "end_time": "2022-10-17T18:55:07.390852",
     "exception": false,
     "start_time": "2022-10-17T18:55:07.344784",
     "status": "completed"
    },
    "tags": []
   },
   "outputs": [],
   "source": [
    "model_map = {\n",
    "    1: \"En face\",\n",
    "    2: \"Profile\"}\n",
    "\n",
    "df[\"model photography\"] = df[\"model photography\"].map(model_map)\n"
   ]
  },
  {
   "cell_type": "code",
   "execution_count": 9,
   "id": "079fe00d",
   "metadata": {
    "execution": {
     "iopub.execute_input": "2022-10-17T18:55:07.452050Z",
     "iopub.status.busy": "2022-10-17T18:55:07.451638Z",
     "iopub.status.idle": "2022-10-17T18:55:07.467793Z",
     "shell.execute_reply": "2022-10-17T18:55:07.466658Z"
    },
    "id": "-V0I8YNVApug",
    "papermill": {
     "duration": 0.049497,
     "end_time": "2022-10-17T18:55:07.470156",
     "exception": false,
     "start_time": "2022-10-17T18:55:07.420659",
     "status": "completed"
    },
    "tags": []
   },
   "outputs": [
    {
     "data": {
      "text/plain": [
       "\"df['product price status'] = df['price 2'].map({\\n    1: 'more than average',\\n    2: 'less than average'\\n}).astype('category')\""
      ]
     },
     "execution_count": 9,
     "metadata": {},
     "output_type": "execute_result"
    }
   ],
   "source": [
    "month_map = {\n",
    "    4: \"April\",\n",
    "    5: \"May\",\n",
    "    6: \"June\",\n",
    "    7: \"July\",\n",
    "    8: \"August\",\n",
    "}\n",
    "\n",
    "df[\"month\"] = df[\"month\"].map(month_map)\n",
    "\n",
    "'''df['product price status'] = df['price 2'].map({\n",
    "    1: 'more than average',\n",
    "    2: 'less than average'\n",
    "}).astype('category')'''"
   ]
  },
  {
   "cell_type": "markdown",
   "id": "303b3667",
   "metadata": {
    "papermill": {
     "duration": 0.030178,
     "end_time": "2022-10-17T18:55:07.532782",
     "exception": false,
     "start_time": "2022-10-17T18:55:07.502604",
     "status": "completed"
    },
    "tags": []
   },
   "source": [
    "# Missing Data"
   ]
  },
  {
   "cell_type": "code",
   "execution_count": 10,
   "id": "f5241fbd",
   "metadata": {
    "execution": {
     "iopub.execute_input": "2022-10-17T18:55:07.595420Z",
     "iopub.status.busy": "2022-10-17T18:55:07.594672Z",
     "iopub.status.idle": "2022-10-17T18:55:07.661518Z",
     "shell.execute_reply": "2022-10-17T18:55:07.660313Z"
    },
    "papermill": {
     "duration": 0.101524,
     "end_time": "2022-10-17T18:55:07.664514",
     "exception": false,
     "start_time": "2022-10-17T18:55:07.562990",
     "status": "completed"
    },
    "tags": []
   },
   "outputs": [],
   "source": [
    "total = df.shape[0]\n",
    "missing_columns = [col for col in df.columns if df[col].isnull().sum() > 0]\n",
    "for col in missing_columns:\n",
    "    null_count = df[col].isnull().sum()\n",
    "    per = (null_count/total) * 100\n",
    "    print(f\"{col}: {null_count} ({round(per, 3)}%)\")"
   ]
  },
  {
   "cell_type": "markdown",
   "id": "239a20a1",
   "metadata": {
    "papermill": {
     "duration": 0.035019,
     "end_time": "2022-10-17T18:55:07.737463",
     "exception": false,
     "start_time": "2022-10-17T18:55:07.702444",
     "status": "completed"
    },
    "tags": []
   },
   "source": [
    "Great, No missing values"
   ]
  },
  {
   "cell_type": "markdown",
   "id": "fdc64c6a",
   "metadata": {
    "papermill": {
     "duration": 0.030403,
     "end_time": "2022-10-17T18:55:07.799049",
     "exception": false,
     "start_time": "2022-10-17T18:55:07.768646",
     "status": "completed"
    },
    "tags": []
   },
   "source": [
    "## Duplicates "
   ]
  },
  {
   "cell_type": "code",
   "execution_count": 11,
   "id": "a762d196",
   "metadata": {
    "execution": {
     "iopub.execute_input": "2022-10-17T18:55:07.861270Z",
     "iopub.status.busy": "2022-10-17T18:55:07.860886Z",
     "iopub.status.idle": "2022-10-17T18:55:07.973671Z",
     "shell.execute_reply": "2022-10-17T18:55:07.972489Z"
    },
    "papermill": {
     "duration": 0.146918,
     "end_time": "2022-10-17T18:55:07.976298",
     "exception": false,
     "start_time": "2022-10-17T18:55:07.829380",
     "status": "completed"
    },
    "tags": []
   },
   "outputs": [
    {
     "name": "stdout",
     "output_type": "stream",
     "text": [
      "Number of duplicate rows: 0\n"
     ]
    }
   ],
   "source": [
    "print(f\"Number of duplicate rows: {df.duplicated().sum()}\")"
   ]
  },
  {
   "cell_type": "markdown",
   "id": "84a68cde",
   "metadata": {
    "papermill": {
     "duration": 0.029743,
     "end_time": "2022-10-17T18:55:08.036135",
     "exception": false,
     "start_time": "2022-10-17T18:55:08.006392",
     "status": "completed"
    },
    "tags": []
   },
   "source": [
    "No duplicate rows"
   ]
  },
  {
   "cell_type": "markdown",
   "id": "c4c87c3d",
   "metadata": {
    "papermill": {
     "duration": 0.029609,
     "end_time": "2022-10-17T18:55:08.095789",
     "exception": false,
     "start_time": "2022-10-17T18:55:08.066180",
     "status": "completed"
    },
    "tags": []
   },
   "source": [
    "# Remove useless columns"
   ]
  },
  {
   "cell_type": "code",
   "execution_count": 12,
   "id": "57ddfeae",
   "metadata": {
    "execution": {
     "iopub.execute_input": "2022-10-17T18:55:08.159089Z",
     "iopub.status.busy": "2022-10-17T18:55:08.158414Z",
     "iopub.status.idle": "2022-10-17T18:55:08.196301Z",
     "shell.execute_reply": "2022-10-17T18:55:08.195237Z"
    },
    "papermill": {
     "duration": 0.073304,
     "end_time": "2022-10-17T18:55:08.199233",
     "exception": false,
     "start_time": "2022-10-17T18:55:08.125929",
     "status": "completed"
    },
    "tags": []
   },
   "outputs": [],
   "source": [
    "df.drop('session ID', axis=1, inplace=True)"
   ]
  },
  {
   "cell_type": "markdown",
   "id": "c570eee5",
   "metadata": {
    "papermill": {
     "duration": 0.030565,
     "end_time": "2022-10-17T18:55:08.261129",
     "exception": false,
     "start_time": "2022-10-17T18:55:08.230564",
     "status": "completed"
    },
    "tags": []
   },
   "source": [
    "# Outliers"
   ]
  },
  {
   "cell_type": "code",
   "execution_count": 13,
   "id": "3d70fbbf",
   "metadata": {
    "execution": {
     "iopub.execute_input": "2022-10-17T18:55:08.325237Z",
     "iopub.status.busy": "2022-10-17T18:55:08.324385Z",
     "iopub.status.idle": "2022-10-17T18:55:08.519795Z",
     "shell.execute_reply": "2022-10-17T18:55:08.518700Z"
    },
    "papermill": {
     "duration": 0.230392,
     "end_time": "2022-10-17T18:55:08.522277",
     "exception": false,
     "start_time": "2022-10-17T18:55:08.291885",
     "status": "completed"
    },
    "tags": []
   },
   "outputs": [
    {
     "data": {
      "image/png": "[encoded data removed]",
      "text/plain": [
       "<Figure size 432x288 with 1 Axes>"
      ]
     },
     "metadata": {
      "needs_background": "light"
     },
     "output_type": "display_data"
    }
   ],
   "source": [
    "column_list = [\"page\"]\n",
    "for col in column_list:\n",
    "    sns.boxplot(x = df[col])\n",
    "    plt.xlabel(col)\n",
    "    plt.show()"
   ]
  },
  {
   "cell_type": "markdown",
   "id": "744e4dcb",
   "metadata": {
    "papermill": {
     "duration": 0.030704,
     "end_time": "2022-10-17T18:55:08.583567",
     "exception": false,
     "start_time": "2022-10-17T18:55:08.552863",
     "status": "completed"
    },
    "tags": []
   },
   "source": [
    "After inspecting the outliers, It seems to be important data "
   ]
  },
  {
   "cell_type": "markdown",
   "id": "7938eefa",
   "metadata": {
    "id": "gqS88DWbp8dw",
    "papermill": {
     "duration": 0.030667,
     "end_time": "2022-10-17T18:55:08.645769",
     "exception": false,
     "start_time": "2022-10-17T18:55:08.615102",
     "status": "completed"
    },
    "tags": []
   },
   "source": [
    "<a id=\"3\"></a> <br>\n",
    "\n",
    "# EDA"
   ]
  },
  {
   "cell_type": "markdown",
   "id": "b5ceaab8",
   "metadata": {
    "id": "4ab66ab0",
    "papermill": {
     "duration": 0.030468,
     "end_time": "2022-10-17T18:55:08.707491",
     "exception": false,
     "start_time": "2022-10-17T18:55:08.677023",
     "status": "completed"
    },
    "tags": []
   },
   "source": [
    "## Which country has the most  website visitors?"
   ]
  },
  {
   "cell_type": "code",
   "execution_count": 14,
   "id": "f11d7187",
   "metadata": {
    "execution": {
     "iopub.execute_input": "2022-10-17T18:55:08.771777Z",
     "iopub.status.busy": "2022-10-17T18:55:08.771106Z",
     "iopub.status.idle": "2022-10-17T18:55:09.778944Z",
     "shell.execute_reply": "2022-10-17T18:55:09.777778Z"
    },
    "id": "7b3243b0",
    "papermill": {
     "duration": 1.043294,
     "end_time": "2022-10-17T18:55:09.781890",
     "exception": false,
     "start_time": "2022-10-17T18:55:08.738596",
     "status": "completed"
    },
    "tags": []
   },
   "outputs": [
    {
     "data": {
      "application/vnd.plotly.v1+json": {
       "config": {
        "plotlyServerURL": "https://plot.ly"
       },
       "data": [
        {
         "alignmentgroup": "True",
         "hovertemplate": "country=%{x}<br>price=%{y}<extra></extra>",
         "legendgroup": "",
         "marker": {
          "color": "#636efa",
          "pattern": {
           "shape": ""
          }
         },
         "name": "",
         "offsetgroup": "",
         "orientation": "v",
         "showlegend": false,
         "textposition": "auto",
         "type": "bar",
         "x": [
          "Poland",
          "Czech Republic",
          "Lithuania",
          "net (.net)",
          "com (.com)",
          "Germany",
          "Ireland",
          "Slovakia",
          "United Kingdom",
          "Belgium",
          "Netherlands",
          "unidentified",
          "USA",
          "Sweden",
          "Denmark",
          "Italy",
          "Romania",
          "Norway",
          "Switzerland",
          "France",
          "Estonia"
         ],
         "xaxis": "x",
         "y": [
          133963,
          18003,
          4091,
          2522,
          1385,
          834,
          811,
          716,
          684,
          256,
          227,
          210,
          170,
          163,
          152,
          144,
          144,
          139,
          137,
          125,
          115
         ],
         "yaxis": "y"
        }
       ],
       "layout": {
        "barmode": "relative",
        "legend": {
         "tracegroupgap": 0
        },
        "margin": {
         "t": 60
        },
        "template": {
         "data": {
          "bar": [
           {
            "error_x": {
             "color": "#2a3f5f"
            },
            "error_y": {
             "color": "#2a3f5f"
            },
            "marker": {
             "line": {
              "color": "#E5ECF6",
              "width": 0.5
             },
             "pattern": {
              "fillmode": "overlay",
              "size": 10,
              "solidity": 0.2
             }
            },
            "type": "bar"
           }
          ],
          "barpolar": [
           {
            "marker": {
             "line": {
              "color": "#E5ECF6",
              "width": 0.5
             },
             "pattern": {
              "fillmode": "overlay",
              "size": 10,
              "solidity": 0.2
             }
            },
            "type": "barpolar"
           }
          ],
          "carpet": [
           {
            "aaxis": {
             "endlinecolor": "#2a3f5f",
             "gridcolor": "white",
             "linecolor": "white",
             "minorgridcolor": "white",
             "startlinecolor": "#2a3f5f"
            },
            "baxis": {
             "endlinecolor": "#2a3f5f",
             "gridcolor": "white",
             "linecolor": "white",
             "minorgridcolor": "white",
             "startlinecolor": "#2a3f5f"
            },
            "type": "carpet"
           }
          ],
          "choropleth": [
           {
            "colorbar": {
             "outlinewidth": 0,
             "ticks": ""
            },
            "type": "choropleth"
           }
          ],
          "contour": [
           {
            "colorbar": {
             "outlinewidth": 0,
             "ticks": ""
            },
            "colorscale": [
             [
              0,
              "#0d0887"
             ],
             [
              0.1111111111111111,
              "#46039f"
             ],
             [
              0.2222222222222222,
              "#7201a8"
             ],
             [
              0.3333333333333333,
              "#9c179e"
             ],
             [
              0.4444444444444444,
              "#bd3786"
             ],
             [
              0.5555555555555556,
              "#d8576b"
             ],
             [
              0.6666666666666666,
              "#ed7953"
             ],
             [
              0.7777777777777778,
              "#fb9f3a"
             ],
             [
              0.8888888888888888,
              "#fdca26"
             ],
             [
              1,
              "#f0f921"
             ]
            ],
            "type": "contour"
           }
          ],
          "contourcarpet": [
           {
            "colorbar": {
             "outlinewidth": 0,
             "ticks": ""
            },
            "type": "contourcarpet"
           }
          ],
          "heatmap": [
           {
            "colorbar": {
             "outlinewidth": 0,
             "ticks": ""
            },
            "colorscale": [
             [
              0,
              "#0d0887"
             ],
             [
              0.1111111111111111,
              "#46039f"
             ],
             [
              0.2222222222222222,
              "#7201a8"
             ],
             [
              0.3333333333333333,
              "#9c179e"
             ],
             [
              0.4444444444444444,
              "#bd3786"
             ],
             [
              0.5555555555555556,
              "#d8576b"
             ],
             [
              0.6666666666666666,
              "#ed7953"
             ],
             [
              0.7777777777777778,
              "#fb9f3a"
             ],
             [
              0.8888888888888888,
              "#fdca26"
             ],
             [
              1,
              "#f0f921"
             ]
            ],
            "type": "heatmap"
           }
          ],
          "heatmapgl": [
           {
            "colorbar": {
             "outlinewidth": 0,
             "ticks": ""
            },
            "colorscale": [
             [
              0,
              "#0d0887"
             ],
             [
              0.1111111111111111,
              "#46039f"
             ],
             [
              0.2222222222222222,
              "#7201a8"
             ],
             [
              0.3333333333333333,
              "#9c179e"
             ],
             [
              0.4444444444444444,
              "#bd3786"
             ],
             [
              0.5555555555555556,
              "#d8576b"
             ],
             [
              0.6666666666666666,
              "#ed7953"
             ],
             [
              0.7777777777777778,
              "#fb9f3a"
             ],
             [
              0.8888888888888888,
              "#fdca26"
             ],
             [
              1,
              "#f0f921"
             ]
            ],
            "type": "heatmapgl"
           }
          ],
          "histogram": [
           {
            "marker": {
             "pattern": {
              "fillmode": "overlay",
              "size": 10,
              "solidity": 0.2
             }
            },
            "type": "histogram"
           }
          ],
          "histogram2d": [
           {
            "colorbar": {
             "outlinewidth": 0,
             "ticks": ""
            },
            "colorscale": [
             [
              0,
              "#0d0887"
             ],
             [
              0.1111111111111111,
              "#46039f"
             ],
             [
              0.2222222222222222,
              "#7201a8"
             ],
             [
              0.3333333333333333,
              "#9c179e"
             ],
             [
              0.4444444444444444,
              "#bd3786"
             ],
             [
              0.5555555555555556,
              "#d8576b"
             ],
             [
              0.6666666666666666,
              "#ed7953"
             ],
             [
              0.7777777777777778,
              "#fb9f3a"
             ],
             [
              0.8888888888888888,
              "#fdca26"
             ],
             [
              1,
              "#f0f921"
             ]
            ],
            "type": "histogram2d"
           }
          ],
          "histogram2dcontour": [
           {
            "colorbar": {
             "outlinewidth": 0,
             "ticks": ""
            },
            "colorscale": [
             [
              0,
              "#0d0887"
             ],
             [
              0.1111111111111111,
              "#46039f"
             ],
             [
              0.2222222222222222,
              "#7201a8"
             ],
             [
              0.3333333333333333,
              "#9c179e"
             ],
             [
              0.4444444444444444,
              "#bd3786"
             ],
             [
              0.5555555555555556,
              "#d8576b"
             ],
             [
              0.6666666666666666,
              "#ed7953"
             ],
             [
              0.7777777777777778,
              "#fb9f3a"
             ],
             [
              0.8888888888888888,
              "#fdca26"
             ],
             [
              1,
              "#f0f921"
             ]
            ],
            "type": "histogram2dcontour"
           }
          ],
          "mesh3d": [
           {
            "colorbar": {
             "outlinewidth": 0,
             "ticks": ""
            },
            "type": "mesh3d"
           }
          ],
          "parcoords": [
           {
            "line": {
             "colorbar": {
              "outlinewidth": 0,
              "ticks": ""
             }
            },
            "type": "parcoords"
           }
          ],
          "pie": [
           {
            "automargin": true,
            "type": "pie"
           }
          ],
          "scatter": [
           {
            "fillpattern": {
             "fillmode": "overlay",
             "size": 10,
             "solidity": 0.2
            },
            "type": "scatter"
           }
          ],
          "scatter3d": [
           {
            "line": {
             "colorbar": {
              "outlinewidth": 0,
              "ticks": ""
             }
            },
            "marker": {
             "colorbar": {
              "outlinewidth": 0,
              "ticks": ""
             }
            },
            "type": "scatter3d"
           }
          ],
          "scattercarpet": [
           {
            "marker": {
             "colorbar": {
              "outlinewidth": 0,
              "ticks": ""
             }
            },
            "type": "scattercarpet"
           }
          ],
          "scattergeo": [
           {
            "marker": {
             "colorbar": {
              "outlinewidth": 0,
              "ticks": ""
             }
            },
            "type": "scattergeo"
           }
          ],
          "scattergl": [
           {
            "marker": {
             "colorbar": {
              "outlinewidth": 0,
              "ticks": ""
             }
            },
            "type": "scattergl"
           }
          ],
          "scattermapbox": [
           {
            "marker": {
             "colorbar": {
              "outlinewidth": 0,
              "ticks": ""
             }
            },
            "type": "scattermapbox"
           }
          ],
          "scatterpolar": [
           {
            "marker": {
             "colorbar": {
              "outlinewidth": 0,
              "ticks": ""
             }
            },
            "type": "scatterpolar"
           }
          ],
          "scatterpolargl": [
           {
            "marker": {
             "colorbar": {
              "outlinewidth": 0,
              "ticks": ""
             }
            },
            "type": "scatterpolargl"
           }
          ],
          "scatterternary": [
           {
            "marker": {
             "colorbar": {
              "outlinewidth": 0,
              "ticks": ""
             }
            },
            "type": "scatterternary"
           }
          ],
          "surface": [
           {
            "colorbar": {
             "outlinewidth": 0,
             "ticks": ""
            },
            "colorscale": [
             [
              0,
              "#0d0887"
             ],
             [
              0.1111111111111111,
              "#46039f"
             ],
             [
              0.2222222222222222,
              "#7201a8"
             ],
             [
              0.3333333333333333,
              "#9c179e"
             ],
             [
              0.4444444444444444,
              "#bd3786"
             ],
             [
              0.5555555555555556,
              "#d8576b"
             ],
             [
              0.6666666666666666,
              "#ed7953"
             ],
             [
              0.7777777777777778,
              "#fb9f3a"
             ],
             [
              0.8888888888888888,
              "#fdca26"
             ],
             [
              1,
              "#f0f921"
             ]
            ],
            "type": "surface"
           }
          ],
          "table": [
           {
            "cells": {
             "fill": {
              "color": "#EBF0F8"
             },
             "line": {
              "color": "white"
             }
            },
            "header": {
             "fill": {
              "color": "#C8D4E3"
             },
             "line": {
              "color": "white"
             }
            },
            "type": "table"
           }
          ]
         },
         "layout": {
          "annotationdefaults": {
           "arrowcolor": "#2a3f5f",
           "arrowhead": 0,
           "arrowwidth": 1
          },
          "autotypenumbers": "strict",
          "coloraxis": {
           "colorbar": {
            "outlinewidth": 0,
            "ticks": ""
           }
          },
          "colorscale": {
           "diverging": [
            [
             0,
             "#8e0152"
            ],
            [
             0.1,
             "#c51b7d"
            ],
            [
             0.2,
             "#de77ae"
            ],
            [
             0.3,
             "#f1b6da"
            ],
            [
             0.4,
             "#fde0ef"
            ],
            [
             0.5,
             "#f7f7f7"
            ],
            [
             0.6,
             "#e6f5d0"
            ],
            [
             0.7,
             "#b8e186"
            ],
            [
             0.8,
             "#7fbc41"
            ],
            [
             0.9,
             "#4d9221"
            ],
            [
             1,
             "#276419"
            ]
           ],
           "sequential": [
            [
             0,
             "#0d0887"
            ],
            [
             0.1111111111111111,
             "#46039f"
            ],
            [
             0.2222222222222222,
             "#7201a8"
            ],
            [
             0.3333333333333333,
             "#9c179e"
            ],
            [
             0.4444444444444444,
             "#bd3786"
            ],
            [
             0.5555555555555556,
             "#d8576b"
            ],
            [
             0.6666666666666666,
             "#ed7953"
            ],
            [
             0.7777777777777778,
             "#fb9f3a"
            ],
            [
             0.8888888888888888,
             "#fdca26"
            ],
            [
             1,
             "#f0f921"
            ]
           ],
           "sequentialminus": [
            [
             0,
             "#0d0887"
            ],
            [
             0.1111111111111111,
             "#46039f"
            ],
            [
             0.2222222222222222,
             "#7201a8"
            ],
            [
             0.3333333333333333,
             "#9c179e"
            ],
            [
             0.4444444444444444,
             "#bd3786"
            ],
            [
             0.5555555555555556,
             "#d8576b"
            ],
            [
             0.6666666666666666,
             "#ed7953"
            ],
            [
             0.7777777777777778,
             "#fb9f3a"
            ],
            [
             0.8888888888888888,
             "#fdca26"
            ],
            [
             1,
             "#f0f921"
            ]
           ]
          },
          "colorway": [
           "#636efa",
           "#EF553B",
           "#00cc96",
           "#ab63fa",
           "#FFA15A",
           "#19d3f3",
           "#FF6692",
           "#B6E880",
           "#FF97FF",
           "#FECB52"
          ],
          "font": {
           "color": "#2a3f5f"
          },
          "geo": {
           "bgcolor": "white",
           "lakecolor": "white",
           "landcolor": "#E5ECF6",
           "showlakes": true,
           "showland": true,
           "subunitcolor": "white"
          },
          "hoverlabel": {
           "align": "left"
          },
          "hovermode": "closest",
          "mapbox": {
           "style": "light"
          },
          "paper_bgcolor": "white",
          "plot_bgcolor": "#E5ECF6",
          "polar": {
           "angularaxis": {
            "gridcolor": "white",
            "linecolor": "white",
            "ticks": ""
           },
           "bgcolor": "#E5ECF6",
           "radialaxis": {
            "gridcolor": "white",
            "linecolor": "white",
            "ticks": ""
           }
          },
          "scene": {
           "xaxis": {
            "backgroundcolor": "#E5ECF6",
            "gridcolor": "white",
            "gridwidth": 2,
            "linecolor": "white",
            "showbackground": true,
            "ticks": "",
            "zerolinecolor": "white"
           },
           "yaxis": {
            "backgroundcolor": "#E5ECF6",
            "gridcolor": "white",
            "gridwidth": 2,
            "linecolor": "white",
            "showbackground": true,
            "ticks": "",
            "zerolinecolor": "white"
           },
           "zaxis": {
            "backgroundcolor": "#E5ECF6",
            "gridcolor": "white",
            "gridwidth": 2,
            "linecolor": "white",
            "showbackground": true,
            "ticks": "",
            "zerolinecolor": "white"
           }
          },
          "shapedefaults": {
           "line": {
            "color": "#2a3f5f"
           }
          },
          "ternary": {
           "aaxis": {
            "gridcolor": "white",
            "linecolor": "white",
            "ticks": ""
           },
           "baxis": {
            "gridcolor": "white",
            "linecolor": "white",
            "ticks": ""
           },
           "bgcolor": "#E5ECF6",
           "caxis": {
            "gridcolor": "white",
            "linecolor": "white",
            "ticks": ""
           }
          },
          "title": {
           "x": 0.05
          },
          "xaxis": {
           "automargin": true,
           "gridcolor": "white",
           "linecolor": "white",
           "ticks": "",
           "title": {
            "standoff": 15
           },
           "zerolinecolor": "white",
           "zerolinewidth": 2
          },
          "yaxis": {
           "automargin": true,
           "gridcolor": "white",
           "linecolor": "white",
           "ticks": "",
           "title": {
            "standoff": 15
           },
           "zerolinecolor": "white",
           "zerolinewidth": 2
          }
         }
        },
        "xaxis": {
         "anchor": "y",
         "domain": [
          0,
          1
         ],
         "title": {
          "text": "country"
         }
        },
        "yaxis": {
         "anchor": "x",
         "domain": [
          0,
          1
         ],
         "title": {
          "text": "price"
         }
        }
       }
      },
      "text/html": [
       "<div>                            <div id=\"639a0f29-160d-4ec9-b59c-84a60bd342e3\" class=\"plotly-graph-div\" style=\"height:525px; width:100%;\"></div>            <script type=\"text/javascript\">                require([\"plotly\"], function(Plotly) {                    window.PLOTLYENV=window.PLOTLYENV || {};                                    if (document.getElementById(\"639a0f29-160d-4ec9-b59c-84a60bd342e3\")) {                    Plotly.newPlot(                        \"639a0f29-160d-4ec9-b59c-84a60bd342e3\",                        [{\"alignmentgroup\":\"True\",\"hovertemplate\":\"country=%{x}<br>price=%{y}<extra></extra>\",\"legendgroup\":\"\",\"marker\":{\"color\":\"#636efa\",\"pattern\":{\"shape\":\"\"}},\"name\":\"\",\"offsetgroup\":\"\",\"orientation\":\"v\",\"showlegend\":false,\"textposition\":\"auto\",\"x\":[\"Poland\",\"Czech Republic\",\"Lithuania\",\"net (.net)\",\"com (.com)\",\"Germany\",\"Ireland\",\"Slovakia\",\"United Kingdom\",\"Belgium\",\"Netherlands\",\"unidentified\",\"USA\",\"Sweden\",\"Denmark\",\"Italy\",\"Romania\",\"Norway\",\"Switzerland\",\"France\",\"Estonia\"],\"xaxis\":\"x\",\"y\":[133963,18003,4091,2522,1385,834,811,716,684,256,227,210,170,163,152,144,144,139,137,125,115],\"yaxis\":\"y\",\"type\":\"bar\"}],                        {\"template\":{\"data\":{\"histogram2dcontour\":[{\"type\":\"histogram2dcontour\",\"colorbar\":{\"outlinewidth\":0,\"ticks\":\"\"},\"colorscale\":[[0.0,\"#0d0887\"],[0.1111111111111111,\"#46039f\"],[0.2222222222222222,\"#7201a8\"],[0.3333333333333333,\"#9c179e\"],[0.4444444444444444,\"#bd3786\"],[0.5555555555555556,\"#d8576b\"],[0.6666666666666666,\"#ed7953\"],[0.7777777777777778,\"#fb9f3a\"],[0.8888888888888888,\"#fdca26\"],[1.0,\"#f0f921\"]]}],\"choropleth\":[{\"type\":\"choropleth\",\"colorbar\":{\"outlinewidth\":0,\"ticks\":\"\"}}],\"histogram2d\":[{\"type\":\"histogram2d\",\"colorbar\":{\"outlinewidth\":0,\"ticks\":\"\"},\"colorscale\":[[0.0,\"#0d0887\"],[0.1111111111111111,\"#46039f\"],[0.2222222222222222,\"#7201a8\"],[0.3333333333333333,\"#9c179e\"],[0.4444444444444444,\"#bd3786\"],[0.5555555555555556,\"#d8576b\"],[0.6666666666666666,\"#ed7953\"],[0.7777777777777778,\"#fb9f3a\"],[0.8888888888888888,\"#fdca26\"],[1.0,\"#f0f921\"]]}],\"heatmap\":[{\"type\":\"heatmap\",\"colorbar\":{\"outlinewidth\":0,\"ticks\":\"\"},\"colorscale\":[[0.0,\"#0d0887\"],[0.1111111111111111,\"#46039f\"],[0.2222222222222222,\"#7201a8\"],[0.3333333333333333,\"#9c179e\"],[0.4444444444444444,\"#bd3786\"],[0.5555555555555556,\"#d8576b\"],[0.6666666666666666,\"#ed7953\"],[0.7777777777777778,\"#fb9f3a\"],[0.8888888888888888,\"#fdca26\"],[1.0,\"#f0f921\"]]}],\"heatmapgl\":[{\"type\":\"heatmapgl\",\"colorbar\":{\"outlinewidth\":0,\"ticks\":\"\"},\"colorscale\":[[0.0,\"#0d0887\"],[0.1111111111111111,\"#46039f\"],[0.2222222222222222,\"#7201a8\"],[0.3333333333333333,\"#9c179e\"],[0.4444444444444444,\"#bd3786\"],[0.5555555555555556,\"#d8576b\"],[0.6666666666666666,\"#ed7953\"],[0.7777777777777778,\"#fb9f3a\"],[0.8888888888888888,\"#fdca26\"],[1.0,\"#f0f921\"]]}],\"contourcarpet\":[{\"type\":\"contourcarpet\",\"colorbar\":{\"outlinewidth\":0,\"ticks\":\"\"}}],\"contour\":[{\"type\":\"contour\",\"colorbar\":{\"outlinewidth\":0,\"ticks\":\"\"},\"colorscale\":[[0.0,\"#0d0887\"],[0.1111111111111111,\"#46039f\"],[0.2222222222222222,\"#7201a8\"],[0.3333333333333333,\"#9c179e\"],[0.4444444444444444,\"#bd3786\"],[0.5555555555555556,\"#d8576b\"],[0.6666666666666666,\"#ed7953\"],[0.7777777777777778,\"#fb9f3a\"],[0.8888888888888888,\"#fdca26\"],[1.0,\"#f0f921\"]]}],\"surface\":[{\"type\":\"surface\",\"colorbar\":{\"outlinewidth\":0,\"ticks\":\"\"},\"colorscale\":[[0.0,\"#0d0887\"],[0.1111111111111111,\"#46039f\"],[0.2222222222222222,\"#7201a8\"],[0.3333333333333333,\"#9c179e\"],[0.4444444444444444,\"#bd3786\"],[0.5555555555555556,\"#d8576b\"],[0.6666666666666666,\"#ed7953\"],[0.7777777777777778,\"#fb9f3a\"],[0.8888888888888888,\"#fdca26\"],[1.0,\"#f0f921\"]]}],\"mesh3d\":[{\"type\":\"mesh3d\",\"colorbar\":{\"outlinewidth\":0,\"ticks\":\"\"}}],\"scatter\":[{\"fillpattern\":{\"fillmode\":\"overlay\",\"size\":10,\"solidity\":0.2},\"type\":\"scatter\"}],\"parcoords\":[{\"type\":\"parcoords\",\"line\":{\"colorbar\":{\"outlinewidth\":0,\"ticks\":\"\"}}}],\"scatterpolargl\":[{\"type\":\"scatterpolargl\",\"marker\":{\"colorbar\":{\"outlinewidth\":0,\"ticks\":\"\"}}}],\"bar\":[{\"error_x\":{\"color\":\"#2a3f5f\"},\"error_y\":{\"color\":\"#2a3f5f\"},\"marker\":{\"line\":{\"color\":\"#E5ECF6\",\"width\":0.5},\"pattern\":{\"fillmode\":\"overlay\",\"size\":10,\"solidity\":0.2}},\"type\":\"bar\"}],\"scattergeo\":[{\"type\":\"scattergeo\",\"marker\":{\"colorbar\":{\"outlinewidth\":0,\"ticks\":\"\"}}}],\"scatterpolar\":[{\"type\":\"scatterpolar\",\"marker\":{\"colorbar\":{\"outlinewidth\":0,\"ticks\":\"\"}}}],\"histogram\":[{\"marker\":{\"pattern\":{\"fillmode\":\"overlay\",\"size\":10,\"solidity\":0.2}},\"type\":\"histogram\"}],\"scattergl\":[{\"type\":\"scattergl\",\"marker\":{\"colorbar\":{\"outlinewidth\":0,\"ticks\":\"\"}}}],\"scatter3d\":[{\"type\":\"scatter3d\",\"line\":{\"colorbar\":{\"outlinewidth\":0,\"ticks\":\"\"}},\"marker\":{\"colorbar\":{\"outlinewidth\":0,\"ticks\":\"\"}}}],\"scattermapbox\":[{\"type\":\"scattermapbox\",\"marker\":{\"colorbar\":{\"outlinewidth\":0,\"ticks\":\"\"}}}],\"scatterternary\":[{\"type\":\"scatterternary\",\"marker\":{\"colorbar\":{\"outlinewidth\":0,\"ticks\":\"\"}}}],\"scattercarpet\":[{\"type\":\"scattercarpet\",\"marker\":{\"colorbar\":{\"outlinewidth\":0,\"ticks\":\"\"}}}],\"carpet\":[{\"aaxis\":{\"endlinecolor\":\"#2a3f5f\",\"gridcolor\":\"white\",\"linecolor\":\"white\",\"minorgridcolor\":\"white\",\"startlinecolor\":\"#2a3f5f\"},\"baxis\":{\"endlinecolor\":\"#2a3f5f\",\"gridcolor\":\"white\",\"linecolor\":\"white\",\"minorgridcolor\":\"white\",\"startlinecolor\":\"#2a3f5f\"},\"type\":\"carpet\"}],\"table\":[{\"cells\":{\"fill\":{\"color\":\"#EBF0F8\"},\"line\":{\"color\":\"white\"}},\"header\":{\"fill\":{\"color\":\"#C8D4E3\"},\"line\":{\"color\":\"white\"}},\"type\":\"table\"}],\"barpolar\":[{\"marker\":{\"line\":{\"color\":\"#E5ECF6\",\"width\":0.5},\"pattern\":{\"fillmode\":\"overlay\",\"size\":10,\"solidity\":0.2}},\"type\":\"barpolar\"}],\"pie\":[{\"automargin\":true,\"type\":\"pie\"}]},\"layout\":{\"autotypenumbers\":\"strict\",\"colorway\":[\"#636efa\",\"#EF553B\",\"#00cc96\",\"#ab63fa\",\"#FFA15A\",\"#19d3f3\",\"#FF6692\",\"#B6E880\",\"#FF97FF\",\"#FECB52\"],\"font\":{\"color\":\"#2a3f5f\"},\"hovermode\":\"closest\",\"hoverlabel\":{\"align\":\"left\"},\"paper_bgcolor\":\"white\",\"plot_bgcolor\":\"#E5ECF6\",\"polar\":{\"bgcolor\":\"#E5ECF6\",\"angularaxis\":{\"gridcolor\":\"white\",\"linecolor\":\"white\",\"ticks\":\"\"},\"radialaxis\":{\"gridcolor\":\"white\",\"linecolor\":\"white\",\"ticks\":\"\"}},\"ternary\":{\"bgcolor\":\"#E5ECF6\",\"aaxis\":{\"gridcolor\":\"white\",\"linecolor\":\"white\",\"ticks\":\"\"},\"baxis\":{\"gridcolor\":\"white\",\"linecolor\":\"white\",\"ticks\":\"\"},\"caxis\":{\"gridcolor\":\"white\",\"linecolor\":\"white\",\"ticks\":\"\"}},\"coloraxis\":{\"colorbar\":{\"outlinewidth\":0,\"ticks\":\"\"}},\"colorscale\":{\"sequential\":[[0.0,\"#0d0887\"],[0.1111111111111111,\"#46039f\"],[0.2222222222222222,\"#7201a8\"],[0.3333333333333333,\"#9c179e\"],[0.4444444444444444,\"#bd3786\"],[0.5555555555555556,\"#d8576b\"],[0.6666666666666666,\"#ed7953\"],[0.7777777777777778,\"#fb9f3a\"],[0.8888888888888888,\"#fdca26\"],[1.0,\"#f0f921\"]],\"sequentialminus\":[[0.0,\"#0d0887\"],[0.1111111111111111,\"#46039f\"],[0.2222222222222222,\"#7201a8\"],[0.3333333333333333,\"#9c179e\"],[0.4444444444444444,\"#bd3786\"],[0.5555555555555556,\"#d8576b\"],[0.6666666666666666,\"#ed7953\"],[0.7777777777777778,\"#fb9f3a\"],[0.8888888888888888,\"#fdca26\"],[1.0,\"#f0f921\"]],\"diverging\":[[0,\"#8e0152\"],[0.1,\"#c51b7d\"],[0.2,\"#de77ae\"],[0.3,\"#f1b6da\"],[0.4,\"#fde0ef\"],[0.5,\"#f7f7f7\"],[0.6,\"#e6f5d0\"],[0.7,\"#b8e186\"],[0.8,\"#7fbc41\"],[0.9,\"#4d9221\"],[1,\"#276419\"]]},\"xaxis\":{\"gridcolor\":\"white\",\"linecolor\":\"white\",\"ticks\":\"\",\"title\":{\"standoff\":15},\"zerolinecolor\":\"white\",\"automargin\":true,\"zerolinewidth\":2},\"yaxis\":{\"gridcolor\":\"white\",\"linecolor\":\"white\",\"ticks\":\"\",\"title\":{\"standoff\":15},\"zerolinecolor\":\"white\",\"automargin\":true,\"zerolinewidth\":2},\"scene\":{\"xaxis\":{\"backgroundcolor\":\"#E5ECF6\",\"gridcolor\":\"white\",\"linecolor\":\"white\",\"showbackground\":true,\"ticks\":\"\",\"zerolinecolor\":\"white\",\"gridwidth\":2},\"yaxis\":{\"backgroundcolor\":\"#E5ECF6\",\"gridcolor\":\"white\",\"linecolor\":\"white\",\"showbackground\":true,\"ticks\":\"\",\"zerolinecolor\":\"white\",\"gridwidth\":2},\"zaxis\":{\"backgroundcolor\":\"#E5ECF6\",\"gridcolor\":\"white\",\"linecolor\":\"white\",\"showbackground\":true,\"ticks\":\"\",\"zerolinecolor\":\"white\",\"gridwidth\":2}},\"shapedefaults\":{\"line\":{\"color\":\"#2a3f5f\"}},\"annotationdefaults\":{\"arrowcolor\":\"#2a3f5f\",\"arrowhead\":0,\"arrowwidth\":1},\"geo\":{\"bgcolor\":\"white\",\"landcolor\":\"#E5ECF6\",\"subunitcolor\":\"white\",\"showland\":true,\"showlakes\":true,\"lakecolor\":\"white\"},\"title\":{\"x\":0.05},\"mapbox\":{\"style\":\"light\"}}},\"xaxis\":{\"anchor\":\"y\",\"domain\":[0.0,1.0],\"title\":{\"text\":\"country\"}},\"yaxis\":{\"anchor\":\"x\",\"domain\":[0.0,1.0],\"title\":{\"text\":\"price\"}},\"legend\":{\"tracegroupgap\":0},\"margin\":{\"t\":60},\"barmode\":\"relative\"},                        {\"responsive\": true}                    ).then(function(){\n",
       "                            \n",
       "var gd = document.getElementById('639a0f29-160d-4ec9-b59c-84a60bd342e3');\n",
       "var x = new MutationObserver(function (mutations, observer) {{\n",
       "        var display = window.getComputedStyle(gd).display;\n",
       "        if (!display || display === 'none') {{\n",
       "            console.log([gd, 'removed!']);\n",
       "            Plotly.purge(gd);\n",
       "            observer.disconnect();\n",
       "        }}\n",
       "}});\n",
       "\n",
       "// Listen for the removal of the full notebook cells\n",
       "var notebookContainer = gd.closest('#notebook-container');\n",
       "if (notebookContainer) {{\n",
       "    x.observe(notebookContainer, {childList: true});\n",
       "}}\n",
       "\n",
       "// Listen for the clearing of the current output cell\n",
       "var outputEl = gd.closest('.output');\n",
       "if (outputEl) {{\n",
       "    x.observe(outputEl, {childList: true});\n",
       "}}\n",
       "\n",
       "                        })                };                });            </script>        </div>"
      ]
     },
     "metadata": {},
     "output_type": "display_data"
    }
   ],
   "source": [
    "df7 = df.groupby('country')[['price']].count()\n",
    "df7 = df7.sort_values(['price'], ascending=False)\n",
    "df7 = df7.query(\"price > 100\")\n",
    "fig = px.bar(df7, x=df7.index, y='price')\n",
    "fig.show()"
   ]
  },
  {
   "cell_type": "markdown",
   "id": "365f6b46",
   "metadata": {
    "id": "_Jsqq_dJ1pVl",
    "papermill": {
     "duration": 0.036944,
     "end_time": "2022-10-17T18:55:09.856594",
     "exception": false,
     "start_time": "2022-10-17T18:55:09.819650",
     "status": "completed"
    },
    "tags": []
   },
   "source": [
    "It seems that Poland and Czech Republic are the countries that have most visitors"
   ]
  },
  {
   "cell_type": "markdown",
   "id": "7c83fa68",
   "metadata": {
    "id": "25f1d025",
    "papermill": {
     "duration": 0.036506,
     "end_time": "2022-10-17T18:55:09.929731",
     "exception": false,
     "start_time": "2022-10-17T18:55:09.893225",
     "status": "completed"
    },
    "tags": []
   },
   "source": [
    "## Flexibility in buying products for each country "
   ]
  },
  {
   "cell_type": "code",
   "execution_count": 15,
   "id": "1ba9c3a3",
   "metadata": {
    "execution": {
     "iopub.execute_input": "2022-10-17T18:55:10.003491Z",
     "iopub.status.busy": "2022-10-17T18:55:10.002721Z",
     "iopub.status.idle": "2022-10-17T18:55:10.050652Z",
     "shell.execute_reply": "2022-10-17T18:55:10.049692Z"
    },
    "id": "3ecd3bde",
    "papermill": {
     "duration": 0.087325,
     "end_time": "2022-10-17T18:55:10.053212",
     "exception": false,
     "start_time": "2022-10-17T18:55:09.965887",
     "status": "completed"
    },
    "scrolled": true,
    "tags": []
   },
   "outputs": [],
   "source": [
    "df8 = df.groupby('country')[['order']].sum()\n",
    "df8 = df8.sort_values(['order'], ascending=False)\n",
    "\n",
    "df9 = df.groupby('country')[['order']].count()\n",
    "df9 = df9.sort_values(['order'], ascending=False)\n",
    "\n",
    "df8['avreage_clicks'] = df8/df9\n",
    "df8 = df8.sort_values(['avreage_clicks'], ascending=False)\n",
    "df8 = df8.query(\"avreage_clicks > 3 \")\n"
   ]
  },
  {
   "cell_type": "code",
   "execution_count": 16,
   "id": "f9daf038",
   "metadata": {
    "execution": {
     "iopub.execute_input": "2022-10-17T18:55:10.128774Z",
     "iopub.status.busy": "2022-10-17T18:55:10.128352Z",
     "iopub.status.idle": "2022-10-17T18:55:10.354340Z",
     "shell.execute_reply": "2022-10-17T18:55:10.353176Z"
    },
    "id": "e2274c6f",
    "outputId": "a36add34-0db8-4a17-dc7b-227906d3d6b1",
    "papermill": {
     "duration": 0.266644,
     "end_time": "2022-10-17T18:55:10.357314",
     "exception": false,
     "start_time": "2022-10-17T18:55:10.090670",
     "status": "completed"
    },
    "tags": []
   },
   "outputs": [
    {
     "data": {
      "application/vnd.plotly.v1+json": {
       "config": {
        "plotlyServerURL": "https://plot.ly"
       },
       "data": [
        {
         "hovertemplate": "country=%{x}<br>avreage_clicks=%{marker.size}<extra></extra>",
         "legendgroup": "Romania",
         "marker": {
          "color": "#636efa",
          "size": [
           23.22222222222222
          ],
          "sizemode": "area",
          "sizeref": 0.006450617283950617,
          "symbol": "circle"
         },
         "mode": "markers",
         "name": "Romania",
         "orientation": "v",
         "showlegend": true,
         "type": "scatter",
         "x": [
          "Romania"
         ],
         "xaxis": "x",
         "y": [
          23.22222222222222
         ],
         "yaxis": "y"
        },
        {
         "hovertemplate": "country=%{x}<br>avreage_clicks=%{marker.size}<extra></extra>",
         "legendgroup": "Estonia",
         "marker": {
          "color": "#EF553B",
          "size": [
           16.14782608695652
          ],
          "sizemode": "area",
          "sizeref": 0.006450617283950617,
          "symbol": "circle"
         },
         "mode": "markers",
         "name": "Estonia",
         "orientation": "v",
         "showlegend": true,
         "type": "scatter",
         "x": [
          "Estonia"
         ],
         "xaxis": "x",
         "y": [
          16.14782608695652
         ],
         "yaxis": "y"
        },
        {
         "hovertemplate": "country=%{x}<br>avreage_clicks=%{marker.size}<extra></extra>",
         "legendgroup": "Germany",
         "marker": {
          "color": "#00cc96",
          "size": [
           15.88968824940048
          ],
          "sizemode": "area",
          "sizeref": 0.006450617283950617,
          "symbol": "circle"
         },
         "mode": "markers",
         "name": "Germany",
         "orientation": "v",
         "showlegend": true,
         "type": "scatter",
         "x": [
          "Germany"
         ],
         "xaxis": "x",
         "y": [
          15.88968824940048
         ],
         "yaxis": "y"
        },
        {
         "hovertemplate": "country=%{x}<br>avreage_clicks=%{marker.size}<extra></extra>",
         "legendgroup": "Slovakia",
         "marker": {
          "color": "#ab63fa",
          "size": [
           14.76536312849162
          ],
          "sizemode": "area",
          "sizeref": 0.006450617283950617,
          "symbol": "circle"
         },
         "mode": "markers",
         "name": "Slovakia",
         "orientation": "v",
         "showlegend": true,
         "type": "scatter",
         "x": [
          "Slovakia"
         ],
         "xaxis": "x",
         "y": [
          14.76536312849162
         ],
         "yaxis": "y"
        },
        {
         "hovertemplate": "country=%{x}<br>avreage_clicks=%{marker.size}<extra></extra>",
         "legendgroup": "Latvia",
         "marker": {
          "color": "#FFA15A",
          "size": [
           14.173913043478262
          ],
          "sizemode": "area",
          "sizeref": 0.006450617283950617,
          "symbol": "circle"
         },
         "mode": "markers",
         "name": "Latvia",
         "orientation": "v",
         "showlegend": true,
         "type": "scatter",
         "x": [
          "Latvia"
         ],
         "xaxis": "x",
         "y": [
          14.173913043478262
         ],
         "yaxis": "y"
        },
        {
         "hovertemplate": "country=%{x}<br>avreage_clicks=%{marker.size}<extra></extra>",
         "legendgroup": "Lithuania",
         "marker": {
          "color": "#19d3f3",
          "size": [
           13.710095331214863
          ],
          "sizemode": "area",
          "sizeref": 0.006450617283950617,
          "symbol": "circle"
         },
         "mode": "markers",
         "name": "Lithuania",
         "orientation": "v",
         "showlegend": true,
         "type": "scatter",
         "x": [
          "Lithuania"
         ],
         "xaxis": "x",
         "y": [
          13.710095331214863
         ],
         "yaxis": "y"
        },
        {
         "hovertemplate": "country=%{x}<br>avreage_clicks=%{marker.size}<extra></extra>",
         "legendgroup": "Belgium",
         "marker": {
          "color": "#FF6692",
          "size": [
           12.77734375
          ],
          "sizemode": "area",
          "sizeref": 0.006450617283950617,
          "symbol": "circle"
         },
         "mode": "markers",
         "name": "Belgium",
         "orientation": "v",
         "showlegend": true,
         "type": "scatter",
         "x": [
          "Belgium"
         ],
         "xaxis": "x",
         "y": [
          12.77734375
         ],
         "yaxis": "y"
        },
        {
         "hovertemplate": "country=%{x}<br>avreage_clicks=%{marker.size}<extra></extra>",
         "legendgroup": "Sweden",
         "marker": {
          "color": "#B6E880",
          "size": [
           11.969325153374234
          ],
          "sizemode": "area",
          "sizeref": 0.006450617283950617,
          "symbol": "circle"
         },
         "mode": "markers",
         "name": "Sweden",
         "orientation": "v",
         "showlegend": true,
         "type": "scatter",
         "x": [
          "Sweden"
         ],
         "xaxis": "x",
         "y": [
          11.969325153374234
         ],
         "yaxis": "y"
        },
        {
         "hovertemplate": "country=%{x}<br>avreage_clicks=%{marker.size}<extra></extra>",
         "legendgroup": "Luxembourg",
         "marker": {
          "color": "#FF97FF",
          "size": [
           11.816901408450704
          ],
          "sizemode": "area",
          "sizeref": 0.006450617283950617,
          "symbol": "circle"
         },
         "mode": "markers",
         "name": "Luxembourg",
         "orientation": "v",
         "showlegend": true,
         "type": "scatter",
         "x": [
          "Luxembourg"
         ],
         "xaxis": "x",
         "y": [
          11.816901408450704
         ],
         "yaxis": "y"
        },
        {
         "hovertemplate": "country=%{x}<br>avreage_clicks=%{marker.size}<extra></extra>",
         "legendgroup": "Czech Republic",
         "marker": {
          "color": "#FECB52",
          "size": [
           11.643837138254735
          ],
          "sizemode": "area",
          "sizeref": 0.006450617283950617,
          "symbol": "circle"
         },
         "mode": "markers",
         "name": "Czech Republic",
         "orientation": "v",
         "showlegend": true,
         "type": "scatter",
         "x": [
          "Czech Republic"
         ],
         "xaxis": "x",
         "y": [
          11.643837138254735
         ],
         "yaxis": "y"
        },
        {
         "hovertemplate": "country=%{x}<br>avreage_clicks=%{marker.size}<extra></extra>",
         "legendgroup": "unidentified",
         "marker": {
          "color": "#636efa",
          "size": [
           11.461904761904762
          ],
          "sizemode": "area",
          "sizeref": 0.006450617283950617,
          "symbol": "circle"
         },
         "mode": "markers",
         "name": "unidentified",
         "orientation": "v",
         "showlegend": true,
         "type": "scatter",
         "x": [
          "unidentified"
         ],
         "xaxis": "x",
         "y": [
          11.461904761904762
         ],
         "yaxis": "y"
        },
        {
         "hovertemplate": "country=%{x}<br>avreage_clicks=%{marker.size}<extra></extra>",
         "legendgroup": "Netherlands",
         "marker": {
          "color": "#EF553B",
          "size": [
           9.572687224669604
          ],
          "sizemode": "area",
          "sizeref": 0.006450617283950617,
          "symbol": "circle"
         },
         "mode": "markers",
         "name": "Netherlands",
         "orientation": "v",
         "showlegend": true,
         "type": "scatter",
         "x": [
          "Netherlands"
         ],
         "xaxis": "x",
         "y": [
          9.572687224669604
         ],
         "yaxis": "y"
        },
        {
         "hovertemplate": "country=%{x}<br>avreage_clicks=%{marker.size}<extra></extra>",
         "legendgroup": "Poland",
         "marker": {
          "color": "#00cc96",
          "size": [
           9.502832871763099
          ],
          "sizemode": "area",
          "sizeref": 0.006450617283950617,
          "symbol": "circle"
         },
         "mode": "markers",
         "name": "Poland",
         "orientation": "v",
         "showlegend": true,
         "type": "scatter",
         "x": [
          "Poland"
         ],
         "xaxis": "x",
         "y": [
          9.502832871763099
         ],
         "yaxis": "y"
        },
        {
         "hovertemplate": "country=%{x}<br>avreage_clicks=%{marker.size}<extra></extra>",
         "legendgroup": "Italy",
         "marker": {
          "color": "#ab63fa",
          "size": [
           8.770833333333334
          ],
          "sizemode": "area",
          "sizeref": 0.006450617283950617,
          "symbol": "circle"
         },
         "mode": "markers",
         "name": "Italy",
         "orientation": "v",
         "showlegend": true,
         "type": "scatter",
         "x": [
          "Italy"
         ],
         "xaxis": "x",
         "y": [
          8.770833333333334
         ],
         "yaxis": "y"
        },
        {
         "hovertemplate": "country=%{x}<br>avreage_clicks=%{marker.size}<extra></extra>",
         "legendgroup": "Ireland",
         "marker": {
          "color": "#FFA15A",
          "size": [
           8.56596794081381
          ],
          "sizemode": "area",
          "sizeref": 0.006450617283950617,
          "symbol": "circle"
         },
         "mode": "markers",
         "name": "Ireland",
         "orientation": "v",
         "showlegend": true,
         "type": "scatter",
         "x": [
          "Ireland"
         ],
         "xaxis": "x",
         "y": [
          8.56596794081381
         ],
         "yaxis": "y"
        },
        {
         "hovertemplate": "country=%{x}<br>avreage_clicks=%{marker.size}<extra></extra>",
         "legendgroup": "Hungary",
         "marker": {
          "color": "#19d3f3",
          "size": [
           8.555555555555555
          ],
          "sizemode": "area",
          "sizeref": 0.006450617283950617,
          "symbol": "circle"
         },
         "mode": "markers",
         "name": "Hungary",
         "orientation": "v",
         "showlegend": true,
         "type": "scatter",
         "x": [
          "Hungary"
         ],
         "xaxis": "x",
         "y": [
          8.555555555555555
         ],
         "yaxis": "y"
        },
        {
         "hovertemplate": "country=%{x}<br>avreage_clicks=%{marker.size}<extra></extra>",
         "legendgroup": "USA",
         "marker": {
          "color": "#FF6692",
          "size": [
           8.352941176470589
          ],
          "sizemode": "area",
          "sizeref": 0.006450617283950617,
          "symbol": "circle"
         },
         "mode": "markers",
         "name": "USA",
         "orientation": "v",
         "showlegend": true,
         "type": "scatter",
         "x": [
          "USA"
         ],
         "xaxis": "x",
         "y": [
          8.352941176470589
         ],
         "yaxis": "y"
        },
        {
         "hovertemplate": "country=%{x}<br>avreage_clicks=%{marker.size}<extra></extra>",
         "legendgroup": "France",
         "marker": {
          "color": "#B6E880",
          "size": [
           7.984
          ],
          "sizemode": "area",
          "sizeref": 0.006450617283950617,
          "symbol": "circle"
         },
         "mode": "markers",
         "name": "France",
         "orientation": "v",
         "showlegend": true,
         "type": "scatter",
         "x": [
          "France"
         ],
         "xaxis": "x",
         "y": [
          7.984
         ],
         "yaxis": "y"
        },
        {
         "hovertemplate": "country=%{x}<br>avreage_clicks=%{marker.size}<extra></extra>",
         "legendgroup": "com (.com)",
         "marker": {
          "color": "#FF97FF",
          "size": [
           7.885198555956679
          ],
          "sizemode": "area",
          "sizeref": 0.006450617283950617,
          "symbol": "circle"
         },
         "mode": "markers",
         "name": "com (.com)",
         "orientation": "v",
         "showlegend": true,
         "type": "scatter",
         "x": [
          "com (.com)"
         ],
         "xaxis": "x",
         "y": [
          7.885198555956679
         ],
         "yaxis": "y"
        },
        {
         "hovertemplate": "country=%{x}<br>avreage_clicks=%{marker.size}<extra></extra>",
         "legendgroup": "Norway",
         "marker": {
          "color": "#FECB52",
          "size": [
           7.510791366906475
          ],
          "sizemode": "area",
          "sizeref": 0.006450617283950617,
          "symbol": "circle"
         },
         "mode": "markers",
         "name": "Norway",
         "orientation": "v",
         "showlegend": true,
         "type": "scatter",
         "x": [
          "Norway"
         ],
         "xaxis": "x",
         "y": [
          7.510791366906475
         ],
         "yaxis": "y"
        },
        {
         "hovertemplate": "country=%{x}<br>avreage_clicks=%{marker.size}<extra></extra>",
         "legendgroup": "biz (.biz)",
         "marker": {
          "color": "#636efa",
          "size": [
           6.967741935483871
          ],
          "sizemode": "area",
          "sizeref": 0.006450617283950617,
          "symbol": "circle"
         },
         "mode": "markers",
         "name": "biz (.biz)",
         "orientation": "v",
         "showlegend": true,
         "type": "scatter",
         "x": [
          "biz (.biz)"
         ],
         "xaxis": "x",
         "y": [
          6.967741935483871
         ],
         "yaxis": "y"
        },
        {
         "hovertemplate": "country=%{x}<br>avreage_clicks=%{marker.size}<extra></extra>",
         "legendgroup": "Denmark",
         "marker": {
          "color": "#EF553B",
          "size": [
           6.921052631578948
          ],
          "sizemode": "area",
          "sizeref": 0.006450617283950617,
          "symbol": "circle"
         },
         "mode": "markers",
         "name": "Denmark",
         "orientation": "v",
         "showlegend": true,
         "type": "scatter",
         "x": [
          "Denmark"
         ],
         "xaxis": "x",
         "y": [
          6.921052631578948
         ],
         "yaxis": "y"
        },
        {
         "hovertemplate": "country=%{x}<br>avreage_clicks=%{marker.size}<extra></extra>",
         "legendgroup": "United Kingdom",
         "marker": {
          "color": "#00cc96",
          "size": [
           6.701754385964913
          ],
          "sizemode": "area",
          "sizeref": 0.006450617283950617,
          "symbol": "circle"
         },
         "mode": "markers",
         "name": "United Kingdom",
         "orientation": "v",
         "showlegend": true,
         "type": "scatter",
         "x": [
          "United Kingdom"
         ],
         "xaxis": "x",
         "y": [
          6.701754385964913
         ],
         "yaxis": "y"
        },
        {
         "hovertemplate": "country=%{x}<br>avreage_clicks=%{marker.size}<extra></extra>",
         "legendgroup": "Ukraine",
         "marker": {
          "color": "#ab63fa",
          "size": [
           6.176470588235294
          ],
          "sizemode": "area",
          "sizeref": 0.006450617283950617,
          "symbol": "circle"
         },
         "mode": "markers",
         "name": "Ukraine",
         "orientation": "v",
         "showlegend": true,
         "type": "scatter",
         "x": [
          "Ukraine"
         ],
         "xaxis": "x",
         "y": [
          6.176470588235294
         ],
         "yaxis": "y"
        },
        {
         "hovertemplate": "country=%{x}<br>avreage_clicks=%{marker.size}<extra></extra>",
         "legendgroup": "Spain",
         "marker": {
          "color": "#FFA15A",
          "size": [
           6
          ],
          "sizemode": "area",
          "sizeref": 0.006450617283950617,
          "symbol": "circle"
         },
         "mode": "markers",
         "name": "Spain",
         "orientation": "v",
         "showlegend": true,
         "type": "scatter",
         "x": [
          "Spain"
         ],
         "xaxis": "x",
         "y": [
          6
         ],
         "yaxis": "y"
        },
        {
         "hovertemplate": "country=%{x}<br>avreage_clicks=%{marker.size}<extra></extra>",
         "legendgroup": "net (.net)",
         "marker": {
          "color": "#19d3f3",
          "size": [
           5.837430610626487
          ],
          "sizemode": "area",
          "sizeref": 0.006450617283950617,
          "symbol": "circle"
         },
         "mode": "markers",
         "name": "net (.net)",
         "orientation": "v",
         "showlegend": true,
         "type": "scatter",
         "x": [
          "net (.net)"
         ],
         "xaxis": "x",
         "y": [
          5.837430610626487
         ],
         "yaxis": "y"
        },
        {
         "hovertemplate": "country=%{x}<br>avreage_clicks=%{marker.size}<extra></extra>",
         "legendgroup": "Austria",
         "marker": {
          "color": "#FF6692",
          "size": [
           5.672413793103448
          ],
          "sizemode": "area",
          "sizeref": 0.006450617283950617,
          "symbol": "circle"
         },
         "mode": "markers",
         "name": "Austria",
         "orientation": "v",
         "showlegend": true,
         "type": "scatter",
         "x": [
          "Austria"
         ],
         "xaxis": "x",
         "y": [
          5.672413793103448
         ],
         "yaxis": "y"
        },
        {
         "hovertemplate": "country=%{x}<br>avreage_clicks=%{marker.size}<extra></extra>",
         "legendgroup": "Finland",
         "marker": {
          "color": "#B6E880",
          "size": [
           5.511627906976744
          ],
          "sizemode": "area",
          "sizeref": 0.006450617283950617,
          "symbol": "circle"
         },
         "mode": "markers",
         "name": "Finland",
         "orientation": "v",
         "showlegend": true,
         "type": "scatter",
         "x": [
          "Finland"
         ],
         "xaxis": "x",
         "y": [
          5.511627906976744
         ],
         "yaxis": "y"
        },
        {
         "hovertemplate": "country=%{x}<br>avreage_clicks=%{marker.size}<extra></extra>",
         "legendgroup": "Switzerland",
         "marker": {
          "color": "#FF97FF",
          "size": [
           4.905109489051095
          ],
          "sizemode": "area",
          "sizeref": 0.006450617283950617,
          "symbol": "circle"
         },
         "mode": "markers",
         "name": "Switzerland",
         "orientation": "v",
         "showlegend": true,
         "type": "scatter",
         "x": [
          "Switzerland"
         ],
         "xaxis": "x",
         "y": [
          4.905109489051095
         ],
         "yaxis": "y"
        },
        {
         "hovertemplate": "country=%{x}<br>avreage_clicks=%{marker.size}<extra></extra>",
         "legendgroup": "India",
         "marker": {
          "color": "#FECB52",
          "size": [
           4.6
          ],
          "sizemode": "area",
          "sizeref": 0.006450617283950617,
          "symbol": "circle"
         },
         "mode": "markers",
         "name": "India",
         "orientation": "v",
         "showlegend": true,
         "type": "scatter",
         "x": [
          "India"
         ],
         "xaxis": "x",
         "y": [
          4.6
         ],
         "yaxis": "y"
        },
        {
         "hovertemplate": "country=%{x}<br>avreage_clicks=%{marker.size}<extra></extra>",
         "legendgroup": "Russia",
         "marker": {
          "color": "#636efa",
          "size": [
           4.571428571428571
          ],
          "sizemode": "area",
          "sizeref": 0.006450617283950617,
          "symbol": "circle"
         },
         "mode": "markers",
         "name": "Russia",
         "orientation": "v",
         "showlegend": true,
         "type": "scatter",
         "x": [
          "Russia"
         ],
         "xaxis": "x",
         "y": [
          4.571428571428571
         ],
         "yaxis": "y"
        },
        {
         "hovertemplate": "country=%{x}<br>avreage_clicks=%{marker.size}<extra></extra>",
         "legendgroup": "Iceland",
         "marker": {
          "color": "#EF553B",
          "size": [
           4.413793103448276
          ],
          "sizemode": "area",
          "sizeref": 0.006450617283950617,
          "symbol": "circle"
         },
         "mode": "markers",
         "name": "Iceland",
         "orientation": "v",
         "showlegend": true,
         "type": "scatter",
         "x": [
          "Iceland"
         ],
         "xaxis": "x",
         "y": [
          4.413793103448276
         ],
         "yaxis": "y"
        },
        {
         "hovertemplate": "country=%{x}<br>avreage_clicks=%{marker.size}<extra></extra>",
         "legendgroup": "Croatia",
         "marker": {
          "color": "#00cc96",
          "size": [
           3.4444444444444446
          ],
          "sizemode": "area",
          "sizeref": 0.006450617283950617,
          "symbol": "circle"
         },
         "mode": "markers",
         "name": "Croatia",
         "orientation": "v",
         "showlegend": true,
         "type": "scatter",
         "x": [
          "Croatia"
         ],
         "xaxis": "x",
         "y": [
          3.4444444444444446
         ],
         "yaxis": "y"
        },
        {
         "hovertemplate": "country=%{x}<br>avreage_clicks=%{marker.size}<extra></extra>",
         "legendgroup": "Greece",
         "marker": {
          "color": "#ab63fa",
          "size": [
           3.391304347826087
          ],
          "sizemode": "area",
          "sizeref": 0.006450617283950617,
          "symbol": "circle"
         },
         "mode": "markers",
         "name": "Greece",
         "orientation": "v",
         "showlegend": true,
         "type": "scatter",
         "x": [
          "Greece"
         ],
         "xaxis": "x",
         "y": [
          3.391304347826087
         ],
         "yaxis": "y"
        }
       ],
       "layout": {
        "legend": {
         "itemsizing": "constant",
         "title": {
          "text": "country"
         },
         "tracegroupgap": 0
        },
        "margin": {
         "t": 60
        },
        "template": {
         "data": {
          "bar": [
           {
            "error_x": {
             "color": "#2a3f5f"
            },
            "error_y": {
             "color": "#2a3f5f"
            },
            "marker": {
             "line": {
              "color": "#E5ECF6",
              "width": 0.5
             },
             "pattern": {
              "fillmode": "overlay",
              "size": 10,
              "solidity": 0.2
             }
            },
            "type": "bar"
           }
          ],
          "barpolar": [
           {
            "marker": {
             "line": {
              "color": "#E5ECF6",
              "width": 0.5
             },
             "pattern": {
              "fillmode": "overlay",
              "size": 10,
              "solidity": 0.2
             }
            },
            "type": "barpolar"
           }
          ],
          "carpet": [
           {
            "aaxis": {
             "endlinecolor": "#2a3f5f",
             "gridcolor": "white",
             "linecolor": "white",
             "minorgridcolor": "white",
             "startlinecolor": "#2a3f5f"
            },
            "baxis": {
             "endlinecolor": "#2a3f5f",
             "gridcolor": "white",
             "linecolor": "white",
             "minorgridcolor": "white",
             "startlinecolor": "#2a3f5f"
            },
            "type": "carpet"
           }
          ],
          "choropleth": [
           {
            "colorbar": {
             "outlinewidth": 0,
             "ticks": ""
            },
            "type": "choropleth"
           }
          ],
          "contour": [
           {
            "colorbar": {
             "outlinewidth": 0,
             "ticks": ""
            },
            "colorscale": [
             [
              0,
              "#0d0887"
             ],
             [
              0.1111111111111111,
              "#46039f"
             ],
             [
              0.2222222222222222,
              "#7201a8"
             ],
             [
              0.3333333333333333,
              "#9c179e"
             ],
             [
              0.4444444444444444,
              "#bd3786"
             ],
             [
              0.5555555555555556,
              "#d8576b"
             ],
             [
              0.6666666666666666,
              "#ed7953"
             ],
             [
              0.7777777777777778,
              "#fb9f3a"
             ],
             [
              0.8888888888888888,
              "#fdca26"
             ],
             [
              1,
              "#f0f921"
             ]
            ],
            "type": "contour"
           }
          ],
          "contourcarpet": [
           {
            "colorbar": {
             "outlinewidth": 0,
             "ticks": ""
            },
            "type": "contourcarpet"
           }
          ],
          "heatmap": [
           {
            "colorbar": {
             "outlinewidth": 0,
             "ticks": ""
            },
            "colorscale": [
             [
              0,
              "#0d0887"
             ],
             [
              0.1111111111111111,
              "#46039f"
             ],
             [
              0.2222222222222222,
              "#7201a8"
             ],
             [
              0.3333333333333333,
              "#9c179e"
             ],
             [
              0.4444444444444444,
              "#bd3786"
             ],
             [
              0.5555555555555556,
              "#d8576b"
             ],
             [
              0.6666666666666666,
              "#ed7953"
             ],
             [
              0.7777777777777778,
              "#fb9f3a"
             ],
             [
              0.8888888888888888,
              "#fdca26"
             ],
             [
              1,
              "#f0f921"
             ]
            ],
            "type": "heatmap"
           }
          ],
          "heatmapgl": [
           {
            "colorbar": {
             "outlinewidth": 0,
             "ticks": ""
            },
            "colorscale": [
             [
              0,
              "#0d0887"
             ],
             [
              0.1111111111111111,
              "#46039f"
             ],
             [
              0.2222222222222222,
              "#7201a8"
             ],
             [
              0.3333333333333333,
              "#9c179e"
             ],
             [
              0.4444444444444444,
              "#bd3786"
             ],
             [
              0.5555555555555556,
              "#d8576b"
             ],
             [
              0.6666666666666666,
              "#ed7953"
             ],
             [
              0.7777777777777778,
              "#fb9f3a"
             ],
             [
              0.8888888888888888,
              "#fdca26"
             ],
             [
              1,
              "#f0f921"
             ]
            ],
            "type": "heatmapgl"
           }
          ],
          "histogram": [
           {
            "marker": {
             "pattern": {
              "fillmode": "overlay",
              "size": 10,
              "solidity": 0.2
             }
            },
            "type": "histogram"
           }
          ],
          "histogram2d": [
           {
            "colorbar": {
             "outlinewidth": 0,
             "ticks": ""
            },
            "colorscale": [
             [
              0,
              "#0d0887"
             ],
             [
              0.1111111111111111,
              "#46039f"
             ],
             [
              0.2222222222222222,
              "#7201a8"
             ],
             [
              0.3333333333333333,
              "#9c179e"
             ],
             [
              0.4444444444444444,
              "#bd3786"
             ],
             [
              0.5555555555555556,
              "#d8576b"
             ],
             [
              0.6666666666666666,
              "#ed7953"
             ],
             [
              0.7777777777777778,
              "#fb9f3a"
             ],
             [
              0.8888888888888888,
              "#fdca26"
             ],
             [
              1,
              "#f0f921"
             ]
            ],
            "type": "histogram2d"
           }
          ],
          "histogram2dcontour": [
           {
            "colorbar": {
             "outlinewidth": 0,
             "ticks": ""
            },
            "colorscale": [
             [
              0,
              "#0d0887"
             ],
             [
              0.1111111111111111,
              "#46039f"
             ],
             [
              0.2222222222222222,
              "#7201a8"
             ],
             [
              0.3333333333333333,
              "#9c179e"
             ],
             [
              0.4444444444444444,
              "#bd3786"
             ],
             [
              0.5555555555555556,
              "#d8576b"
             ],
             [
              0.6666666666666666,
              "#ed7953"
             ],
             [
              0.7777777777777778,
              "#fb9f3a"
             ],
             [
              0.8888888888888888,
              "#fdca26"
             ],
             [
              1,
              "#f0f921"
             ]
            ],
            "type": "histogram2dcontour"
           }
          ],
          "mesh3d": [
           {
            "colorbar": {
             "outlinewidth": 0,
             "ticks": ""
            },
            "type": "mesh3d"
           }
          ],
          "parcoords": [
           {
            "line": {
             "colorbar": {
              "outlinewidth": 0,
              "ticks": ""
             }
            },
            "type": "parcoords"
           }
          ],
          "pie": [
           {
            "automargin": true,
            "type": "pie"
           }
          ],
          "scatter": [
           {
            "fillpattern": {
             "fillmode": "overlay",
             "size": 10,
             "solidity": 0.2
            },
            "type": "scatter"
           }
          ],
          "scatter3d": [
           {
            "line": {
             "colorbar": {
              "outlinewidth": 0,
              "ticks": ""
             }
            },
            "marker": {
             "colorbar": {
              "outlinewidth": 0,
              "ticks": ""
             }
            },
            "type": "scatter3d"
           }
          ],
          "scattercarpet": [
           {
            "marker": {
             "colorbar": {
              "outlinewidth": 0,
              "ticks": ""
             }
            },
            "type": "scattercarpet"
           }
          ],
          "scattergeo": [
           {
            "marker": {
             "colorbar": {
              "outlinewidth": 0,
              "ticks": ""
             }
            },
            "type": "scattergeo"
           }
          ],
          "scattergl": [
           {
            "marker": {
             "colorbar": {
              "outlinewidth": 0,
              "ticks": ""
             }
            },
            "type": "scattergl"
           }
          ],
          "scattermapbox": [
           {
            "marker": {
             "colorbar": {
              "outlinewidth": 0,
              "ticks": ""
             }
            },
            "type": "scattermapbox"
           }
          ],
          "scatterpolar": [
           {
            "marker": {
             "colorbar": {
              "outlinewidth": 0,
              "ticks": ""
             }
            },
            "type": "scatterpolar"
           }
          ],
          "scatterpolargl": [
           {
            "marker": {
             "colorbar": {
              "outlinewidth": 0,
              "ticks": ""
             }
            },
            "type": "scatterpolargl"
           }
          ],
          "scatterternary": [
           {
            "marker": {
             "colorbar": {
              "outlinewidth": 0,
              "ticks": ""
             }
            },
            "type": "scatterternary"
           }
          ],
          "surface": [
           {
            "colorbar": {
             "outlinewidth": 0,
             "ticks": ""
            },
            "colorscale": [
             [
              0,
              "#0d0887"
             ],
             [
              0.1111111111111111,
              "#46039f"
             ],
             [
              0.2222222222222222,
              "#7201a8"
             ],
             [
              0.3333333333333333,
              "#9c179e"
             ],
             [
              0.4444444444444444,
              "#bd3786"
             ],
             [
              0.5555555555555556,
              "#d8576b"
             ],
             [
              0.6666666666666666,
              "#ed7953"
             ],
             [
              0.7777777777777778,
              "#fb9f3a"
             ],
             [
              0.8888888888888888,
              "#fdca26"
             ],
             [
              1,
              "#f0f921"
             ]
            ],
            "type": "surface"
           }
          ],
          "table": [
           {
            "cells": {
             "fill": {
              "color": "#EBF0F8"
             },
             "line": {
              "color": "white"
             }
            },
            "header": {
             "fill": {
              "color": "#C8D4E3"
             },
             "line": {
              "color": "white"
             }
            },
            "type": "table"
           }
          ]
         },
         "layout": {
          "annotationdefaults": {
           "arrowcolor": "#2a3f5f",
           "arrowhead": 0,
           "arrowwidth": 1
          },
          "autotypenumbers": "strict",
          "coloraxis": {
           "colorbar": {
            "outlinewidth": 0,
            "ticks": ""
           }
          },
          "colorscale": {
           "diverging": [
            [
             0,
             "#8e0152"
            ],
            [
             0.1,
             "#c51b7d"
            ],
            [
             0.2,
             "#de77ae"
            ],
            [
             0.3,
             "#f1b6da"
            ],
            [
             0.4,
             "#fde0ef"
            ],
            [
             0.5,
             "#f7f7f7"
            ],
            [
             0.6,
             "#e6f5d0"
            ],
            [
             0.7,
             "#b8e186"
            ],
            [
             0.8,
             "#7fbc41"
            ],
            [
             0.9,
             "#4d9221"
            ],
            [
             1,
             "#276419"
            ]
           ],
           "sequential": [
            [
             0,
             "#0d0887"
            ],
            [
             0.1111111111111111,
             "#46039f"
            ],
            [
             0.2222222222222222,
             "#7201a8"
            ],
            [
             0.3333333333333333,
             "#9c179e"
            ],
            [
             0.4444444444444444,
             "#bd3786"
            ],
            [
             0.5555555555555556,
             "#d8576b"
            ],
            [
             0.6666666666666666,
             "#ed7953"
            ],
            [
             0.7777777777777778,
             "#fb9f3a"
            ],
            [
             0.8888888888888888,
             "#fdca26"
            ],
            [
             1,
             "#f0f921"
            ]
           ],
           "sequentialminus": [
            [
             0,
             "#0d0887"
            ],
            [
             0.1111111111111111,
             "#46039f"
            ],
            [
             0.2222222222222222,
             "#7201a8"
            ],
            [
             0.3333333333333333,
             "#9c179e"
            ],
            [
             0.4444444444444444,
             "#bd3786"
            ],
            [
             0.5555555555555556,
             "#d8576b"
            ],
            [
             0.6666666666666666,
             "#ed7953"
            ],
            [
             0.7777777777777778,
             "#fb9f3a"
            ],
            [
             0.8888888888888888,
             "#fdca26"
            ],
            [
             1,
             "#f0f921"
            ]
           ]
          },
          "colorway": [
           "#636efa",
           "#EF553B",
           "#00cc96",
           "#ab63fa",
           "#FFA15A",
           "#19d3f3",
           "#FF6692",
           "#B6E880",
           "#FF97FF",
           "#FECB52"
          ],
          "font": {
           "color": "#2a3f5f"
          },
          "geo": {
           "bgcolor": "white",
           "lakecolor": "white",
           "landcolor": "#E5ECF6",
           "showlakes": true,
           "showland": true,
           "subunitcolor": "white"
          },
          "hoverlabel": {
           "align": "left"
          },
          "hovermode": "closest",
          "mapbox": {
           "style": "light"
          },
          "paper_bgcolor": "white",
          "plot_bgcolor": "#E5ECF6",
          "polar": {
           "angularaxis": {
            "gridcolor": "white",
            "linecolor": "white",
            "ticks": ""
           },
           "bgcolor": "#E5ECF6",
           "radialaxis": {
            "gridcolor": "white",
            "linecolor": "white",
            "ticks": ""
           }
          },
          "scene": {
           "xaxis": {
            "backgroundcolor": "#E5ECF6",
            "gridcolor": "white",
            "gridwidth": 2,
            "linecolor": "white",
            "showbackground": true,
            "ticks": "",
            "zerolinecolor": "white"
           },
           "yaxis": {
            "backgroundcolor": "#E5ECF6",
            "gridcolor": "white",
            "gridwidth": 2,
            "linecolor": "white",
            "showbackground": true,
            "ticks": "",
            "zerolinecolor": "white"
           },
           "zaxis": {
            "backgroundcolor": "#E5ECF6",
            "gridcolor": "white",
            "gridwidth": 2,
            "linecolor": "white",
            "showbackground": true,
            "ticks": "",
            "zerolinecolor": "white"
           }
          },
          "shapedefaults": {
           "line": {
            "color": "#2a3f5f"
           }
          },
          "ternary": {
           "aaxis": {
            "gridcolor": "white",
            "linecolor": "white",
            "ticks": ""
           },
           "baxis": {
            "gridcolor": "white",
            "linecolor": "white",
            "ticks": ""
           },
           "bgcolor": "#E5ECF6",
           "caxis": {
            "gridcolor": "white",
            "linecolor": "white",
            "ticks": ""
           }
          },
          "title": {
           "x": 0.05
          },
          "xaxis": {
           "automargin": true,
           "gridcolor": "white",
           "linecolor": "white",
           "ticks": "",
           "title": {
            "standoff": 15
           },
           "zerolinecolor": "white",
           "zerolinewidth": 2
          },
          "yaxis": {
           "automargin": true,
           "gridcolor": "white",
           "linecolor": "white",
           "ticks": "",
           "title": {
            "standoff": 15
           },
           "zerolinecolor": "white",
           "zerolinewidth": 2
          }
         }
        },
        "xaxis": {
         "anchor": "y",
         "categoryarray": [
          "Romania",
          "Estonia",
          "Germany",
          "Slovakia",
          "Latvia",
          "Lithuania",
          "Belgium",
          "Sweden",
          "Luxembourg",
          "Czech Republic",
          "unidentified",
          "Netherlands",
          "Poland",
          "Italy",
          "Ireland",
          "Hungary",
          "USA",
          "France",
          "com (.com)",
          "Norway",
          "biz (.biz)",
          "Denmark",
          "United Kingdom",
          "Ukraine",
          "Spain",
          "net (.net)",
          "Austria",
          "Finland",
          "Switzerland",
          "India",
          "Russia",
          "Iceland",
          "Croatia",
          "Greece"
         ],
         "categoryorder": "array",
         "domain": [
          0,
          1
         ],
         "title": {
          "text": "country"
         }
        },
        "yaxis": {
         "anchor": "x",
         "domain": [
          0,
          1
         ],
         "title": {
          "text": "avreage_clicks"
         }
        }
       }
      },
      "text/html": [
       "<div>                            <div id=\"8fb85725-b749-4d1e-b34b-64bf71a3ee83\" class=\"plotly-graph-div\" style=\"height:525px; width:100%;\"></div>            <script type=\"text/javascript\">                require([\"plotly\"], function(Plotly) {                    window.PLOTLYENV=window.PLOTLYENV || {};                                    if (document.getElementById(\"8fb85725-b749-4d1e-b34b-64bf71a3ee83\")) {                    Plotly.newPlot(                        \"8fb85725-b749-4d1e-b34b-64bf71a3ee83\",                        [{\"hovertemplate\":\"country=%{x}<br>avreage_clicks=%{marker.size}<extra></extra>\",\"legendgroup\":\"Romania\",\"marker\":{\"color\":\"#636efa\",\"size\":[23.22222222222222],\"sizemode\":\"area\",\"sizeref\":0.006450617283950617,\"symbol\":\"circle\"},\"mode\":\"markers\",\"name\":\"Romania\",\"orientation\":\"v\",\"showlegend\":true,\"x\":[\"Romania\"],\"xaxis\":\"x\",\"y\":[23.22222222222222],\"yaxis\":\"y\",\"type\":\"scatter\"},{\"hovertemplate\":\"country=%{x}<br>avreage_clicks=%{marker.size}<extra></extra>\",\"legendgroup\":\"Estonia\",\"marker\":{\"color\":\"#EF553B\",\"size\":[16.14782608695652],\"sizemode\":\"area\",\"sizeref\":0.006450617283950617,\"symbol\":\"circle\"},\"mode\":\"markers\",\"name\":\"Estonia\",\"orientation\":\"v\",\"showlegend\":true,\"x\":[\"Estonia\"],\"xaxis\":\"x\",\"y\":[16.14782608695652],\"yaxis\":\"y\",\"type\":\"scatter\"},{\"hovertemplate\":\"country=%{x}<br>avreage_clicks=%{marker.size}<extra></extra>\",\"legendgroup\":\"Germany\",\"marker\":{\"color\":\"#00cc96\",\"size\":[15.88968824940048],\"sizemode\":\"area\",\"sizeref\":0.006450617283950617,\"symbol\":\"circle\"},\"mode\":\"markers\",\"name\":\"Germany\",\"orientation\":\"v\",\"showlegend\":true,\"x\":[\"Germany\"],\"xaxis\":\"x\",\"y\":[15.88968824940048],\"yaxis\":\"y\",\"type\":\"scatter\"},{\"hovertemplate\":\"country=%{x}<br>avreage_clicks=%{marker.size}<extra></extra>\",\"legendgroup\":\"Slovakia\",\"marker\":{\"color\":\"#ab63fa\",\"size\":[14.76536312849162],\"sizemode\":\"area\",\"sizeref\":0.006450617283950617,\"symbol\":\"circle\"},\"mode\":\"markers\",\"name\":\"Slovakia\",\"orientation\":\"v\",\"showlegend\":true,\"x\":[\"Slovakia\"],\"xaxis\":\"x\",\"y\":[14.76536312849162],\"yaxis\":\"y\",\"type\":\"scatter\"},{\"hovertemplate\":\"country=%{x}<br>avreage_clicks=%{marker.size}<extra></extra>\",\"legendgroup\":\"Latvia\",\"marker\":{\"color\":\"#FFA15A\",\"size\":[14.173913043478262],\"sizemode\":\"area\",\"sizeref\":0.006450617283950617,\"symbol\":\"circle\"},\"mode\":\"markers\",\"name\":\"Latvia\",\"orientation\":\"v\",\"showlegend\":true,\"x\":[\"Latvia\"],\"xaxis\":\"x\",\"y\":[14.173913043478262],\"yaxis\":\"y\",\"type\":\"scatter\"},{\"hovertemplate\":\"country=%{x}<br>avreage_clicks=%{marker.size}<extra></extra>\",\"legendgroup\":\"Lithuania\",\"marker\":{\"color\":\"#19d3f3\",\"size\":[13.710095331214863],\"sizemode\":\"area\",\"sizeref\":0.006450617283950617,\"symbol\":\"circle\"},\"mode\":\"markers\",\"name\":\"Lithuania\",\"orientation\":\"v\",\"showlegend\":true,\"x\":[\"Lithuania\"],\"xaxis\":\"x\",\"y\":[13.710095331214863],\"yaxis\":\"y\",\"type\":\"scatter\"},{\"hovertemplate\":\"country=%{x}<br>avreage_clicks=%{marker.size}<extra></extra>\",\"legendgroup\":\"Belgium\",\"marker\":{\"color\":\"#FF6692\",\"size\":[12.77734375],\"sizemode\":\"area\",\"sizeref\":0.006450617283950617,\"symbol\":\"circle\"},\"mode\":\"markers\",\"name\":\"Belgium\",\"orientation\":\"v\",\"showlegend\":true,\"x\":[\"Belgium\"],\"xaxis\":\"x\",\"y\":[12.77734375],\"yaxis\":\"y\",\"type\":\"scatter\"},{\"hovertemplate\":\"country=%{x}<br>avreage_clicks=%{marker.size}<extra></extra>\",\"legendgroup\":\"Sweden\",\"marker\":{\"color\":\"#B6E880\",\"size\":[11.969325153374234],\"sizemode\":\"area\",\"sizeref\":0.006450617283950617,\"symbol\":\"circle\"},\"mode\":\"markers\",\"name\":\"Sweden\",\"orientation\":\"v\",\"showlegend\":true,\"x\":[\"Sweden\"],\"xaxis\":\"x\",\"y\":[11.969325153374234],\"yaxis\":\"y\",\"type\":\"scatter\"},{\"hovertemplate\":\"country=%{x}<br>avreage_clicks=%{marker.size}<extra></extra>\",\"legendgroup\":\"Luxembourg\",\"marker\":{\"color\":\"#FF97FF\",\"size\":[11.816901408450704],\"sizemode\":\"area\",\"sizeref\":0.006450617283950617,\"symbol\":\"circle\"},\"mode\":\"markers\",\"name\":\"Luxembourg\",\"orientation\":\"v\",\"showlegend\":true,\"x\":[\"Luxembourg\"],\"xaxis\":\"x\",\"y\":[11.816901408450704],\"yaxis\":\"y\",\"type\":\"scatter\"},{\"hovertemplate\":\"country=%{x}<br>avreage_clicks=%{marker.size}<extra></extra>\",\"legendgroup\":\"Czech Republic\",\"marker\":{\"color\":\"#FECB52\",\"size\":[11.643837138254735],\"sizemode\":\"area\",\"sizeref\":0.006450617283950617,\"symbol\":\"circle\"},\"mode\":\"markers\",\"name\":\"Czech Republic\",\"orientation\":\"v\",\"showlegend\":true,\"x\":[\"Czech Republic\"],\"xaxis\":\"x\",\"y\":[11.643837138254735],\"yaxis\":\"y\",\"type\":\"scatter\"},{\"hovertemplate\":\"country=%{x}<br>avreage_clicks=%{marker.size}<extra></extra>\",\"legendgroup\":\"unidentified\",\"marker\":{\"color\":\"#636efa\",\"size\":[11.461904761904762],\"sizemode\":\"area\",\"sizeref\":0.006450617283950617,\"symbol\":\"circle\"},\"mode\":\"markers\",\"name\":\"unidentified\",\"orientation\":\"v\",\"showlegend\":true,\"x\":[\"unidentified\"],\"xaxis\":\"x\",\"y\":[11.461904761904762],\"yaxis\":\"y\",\"type\":\"scatter\"},{\"hovertemplate\":\"country=%{x}<br>avreage_clicks=%{marker.size}<extra></extra>\",\"legendgroup\":\"Netherlands\",\"marker\":{\"color\":\"#EF553B\",\"size\":[9.572687224669604],\"sizemode\":\"area\",\"sizeref\":0.006450617283950617,\"symbol\":\"circle\"},\"mode\":\"markers\",\"name\":\"Netherlands\",\"orientation\":\"v\",\"showlegend\":true,\"x\":[\"Netherlands\"],\"xaxis\":\"x\",\"y\":[9.572687224669604],\"yaxis\":\"y\",\"type\":\"scatter\"},{\"hovertemplate\":\"country=%{x}<br>avreage_clicks=%{marker.size}<extra></extra>\",\"legendgroup\":\"Poland\",\"marker\":{\"color\":\"#00cc96\",\"size\":[9.502832871763099],\"sizemode\":\"area\",\"sizeref\":0.006450617283950617,\"symbol\":\"circle\"},\"mode\":\"markers\",\"name\":\"Poland\",\"orientation\":\"v\",\"showlegend\":true,\"x\":[\"Poland\"],\"xaxis\":\"x\",\"y\":[9.502832871763099],\"yaxis\":\"y\",\"type\":\"scatter\"},{\"hovertemplate\":\"country=%{x}<br>avreage_clicks=%{marker.size}<extra></extra>\",\"legendgroup\":\"Italy\",\"marker\":{\"color\":\"#ab63fa\",\"size\":[8.770833333333334],\"sizemode\":\"area\",\"sizeref\":0.006450617283950617,\"symbol\":\"circle\"},\"mode\":\"markers\",\"name\":\"Italy\",\"orientation\":\"v\",\"showlegend\":true,\"x\":[\"Italy\"],\"xaxis\":\"x\",\"y\":[8.770833333333334],\"yaxis\":\"y\",\"type\":\"scatter\"},{\"hovertemplate\":\"country=%{x}<br>avreage_clicks=%{marker.size}<extra></extra>\",\"legendgroup\":\"Ireland\",\"marker\":{\"color\":\"#FFA15A\",\"size\":[8.56596794081381],\"sizemode\":\"area\",\"sizeref\":0.006450617283950617,\"symbol\":\"circle\"},\"mode\":\"markers\",\"name\":\"Ireland\",\"orientation\":\"v\",\"showlegend\":true,\"x\":[\"Ireland\"],\"xaxis\":\"x\",\"y\":[8.56596794081381],\"yaxis\":\"y\",\"type\":\"scatter\"},{\"hovertemplate\":\"country=%{x}<br>avreage_clicks=%{marker.size}<extra></extra>\",\"legendgroup\":\"Hungary\",\"marker\":{\"color\":\"#19d3f3\",\"size\":[8.555555555555555],\"sizemode\":\"area\",\"sizeref\":0.006450617283950617,\"symbol\":\"circle\"},\"mode\":\"markers\",\"name\":\"Hungary\",\"orientation\":\"v\",\"showlegend\":true,\"x\":[\"Hungary\"],\"xaxis\":\"x\",\"y\":[8.555555555555555],\"yaxis\":\"y\",\"type\":\"scatter\"},{\"hovertemplate\":\"country=%{x}<br>avreage_clicks=%{marker.size}<extra></extra>\",\"legendgroup\":\"USA\",\"marker\":{\"color\":\"#FF6692\",\"size\":[8.352941176470589],\"sizemode\":\"area\",\"sizeref\":0.006450617283950617,\"symbol\":\"circle\"},\"mode\":\"markers\",\"name\":\"USA\",\"orientation\":\"v\",\"showlegend\":true,\"x\":[\"USA\"],\"xaxis\":\"x\",\"y\":[8.352941176470589],\"yaxis\":\"y\",\"type\":\"scatter\"},{\"hovertemplate\":\"country=%{x}<br>avreage_clicks=%{marker.size}<extra></extra>\",\"legendgroup\":\"France\",\"marker\":{\"color\":\"#B6E880\",\"size\":[7.984],\"sizemode\":\"area\",\"sizeref\":0.006450617283950617,\"symbol\":\"circle\"},\"mode\":\"markers\",\"name\":\"France\",\"orientation\":\"v\",\"showlegend\":true,\"x\":[\"France\"],\"xaxis\":\"x\",\"y\":[7.984],\"yaxis\":\"y\",\"type\":\"scatter\"},{\"hovertemplate\":\"country=%{x}<br>avreage_clicks=%{marker.size}<extra></extra>\",\"legendgroup\":\"com (.com)\",\"marker\":{\"color\":\"#FF97FF\",\"size\":[7.885198555956679],\"sizemode\":\"area\",\"sizeref\":0.006450617283950617,\"symbol\":\"circle\"},\"mode\":\"markers\",\"name\":\"com (.com)\",\"orientation\":\"v\",\"showlegend\":true,\"x\":[\"com (.com)\"],\"xaxis\":\"x\",\"y\":[7.885198555956679],\"yaxis\":\"y\",\"type\":\"scatter\"},{\"hovertemplate\":\"country=%{x}<br>avreage_clicks=%{marker.size}<extra></extra>\",\"legendgroup\":\"Norway\",\"marker\":{\"color\":\"#FECB52\",\"size\":[7.510791366906475],\"sizemode\":\"area\",\"sizeref\":0.006450617283950617,\"symbol\":\"circle\"},\"mode\":\"markers\",\"name\":\"Norway\",\"orientation\":\"v\",\"showlegend\":true,\"x\":[\"Norway\"],\"xaxis\":\"x\",\"y\":[7.510791366906475],\"yaxis\":\"y\",\"type\":\"scatter\"},{\"hovertemplate\":\"country=%{x}<br>avreage_clicks=%{marker.size}<extra></extra>\",\"legendgroup\":\"biz (.biz)\",\"marker\":{\"color\":\"#636efa\",\"size\":[6.967741935483871],\"sizemode\":\"area\",\"sizeref\":0.006450617283950617,\"symbol\":\"circle\"},\"mode\":\"markers\",\"name\":\"biz (.biz)\",\"orientation\":\"v\",\"showlegend\":true,\"x\":[\"biz (.biz)\"],\"xaxis\":\"x\",\"y\":[6.967741935483871],\"yaxis\":\"y\",\"type\":\"scatter\"},{\"hovertemplate\":\"country=%{x}<br>avreage_clicks=%{marker.size}<extra></extra>\",\"legendgroup\":\"Denmark\",\"marker\":{\"color\":\"#EF553B\",\"size\":[6.921052631578948],\"sizemode\":\"area\",\"sizeref\":0.006450617283950617,\"symbol\":\"circle\"},\"mode\":\"markers\",\"name\":\"Denmark\",\"orientation\":\"v\",\"showlegend\":true,\"x\":[\"Denmark\"],\"xaxis\":\"x\",\"y\":[6.921052631578948],\"yaxis\":\"y\",\"type\":\"scatter\"},{\"hovertemplate\":\"country=%{x}<br>avreage_clicks=%{marker.size}<extra></extra>\",\"legendgroup\":\"United Kingdom\",\"marker\":{\"color\":\"#00cc96\",\"size\":[6.701754385964913],\"sizemode\":\"area\",\"sizeref\":0.006450617283950617,\"symbol\":\"circle\"},\"mode\":\"markers\",\"name\":\"United Kingdom\",\"orientation\":\"v\",\"showlegend\":true,\"x\":[\"United Kingdom\"],\"xaxis\":\"x\",\"y\":[6.701754385964913],\"yaxis\":\"y\",\"type\":\"scatter\"},{\"hovertemplate\":\"country=%{x}<br>avreage_clicks=%{marker.size}<extra></extra>\",\"legendgroup\":\"Ukraine\",\"marker\":{\"color\":\"#ab63fa\",\"size\":[6.176470588235294],\"sizemode\":\"area\",\"sizeref\":0.006450617283950617,\"symbol\":\"circle\"},\"mode\":\"markers\",\"name\":\"Ukraine\",\"orientation\":\"v\",\"showlegend\":true,\"x\":[\"Ukraine\"],\"xaxis\":\"x\",\"y\":[6.176470588235294],\"yaxis\":\"y\",\"type\":\"scatter\"},{\"hovertemplate\":\"country=%{x}<br>avreage_clicks=%{marker.size}<extra></extra>\",\"legendgroup\":\"Spain\",\"marker\":{\"color\":\"#FFA15A\",\"size\":[6.0],\"sizemode\":\"area\",\"sizeref\":0.006450617283950617,\"symbol\":\"circle\"},\"mode\":\"markers\",\"name\":\"Spain\",\"orientation\":\"v\",\"showlegend\":true,\"x\":[\"Spain\"],\"xaxis\":\"x\",\"y\":[6.0],\"yaxis\":\"y\",\"type\":\"scatter\"},{\"hovertemplate\":\"country=%{x}<br>avreage_clicks=%{marker.size}<extra></extra>\",\"legendgroup\":\"net (.net)\",\"marker\":{\"color\":\"#19d3f3\",\"size\":[5.837430610626487],\"sizemode\":\"area\",\"sizeref\":0.006450617283950617,\"symbol\":\"circle\"},\"mode\":\"markers\",\"name\":\"net (.net)\",\"orientation\":\"v\",\"showlegend\":true,\"x\":[\"net (.net)\"],\"xaxis\":\"x\",\"y\":[5.837430610626487],\"yaxis\":\"y\",\"type\":\"scatter\"},{\"hovertemplate\":\"country=%{x}<br>avreage_clicks=%{marker.size}<extra></extra>\",\"legendgroup\":\"Austria\",\"marker\":{\"color\":\"#FF6692\",\"size\":[5.672413793103448],\"sizemode\":\"area\",\"sizeref\":0.006450617283950617,\"symbol\":\"circle\"},\"mode\":\"markers\",\"name\":\"Austria\",\"orientation\":\"v\",\"showlegend\":true,\"x\":[\"Austria\"],\"xaxis\":\"x\",\"y\":[5.672413793103448],\"yaxis\":\"y\",\"type\":\"scatter\"},{\"hovertemplate\":\"country=%{x}<br>avreage_clicks=%{marker.size}<extra></extra>\",\"legendgroup\":\"Finland\",\"marker\":{\"color\":\"#B6E880\",\"size\":[5.511627906976744],\"sizemode\":\"area\",\"sizeref\":0.006450617283950617,\"symbol\":\"circle\"},\"mode\":\"markers\",\"name\":\"Finland\",\"orientation\":\"v\",\"showlegend\":true,\"x\":[\"Finland\"],\"xaxis\":\"x\",\"y\":[5.511627906976744],\"yaxis\":\"y\",\"type\":\"scatter\"},{\"hovertemplate\":\"country=%{x}<br>avreage_clicks=%{marker.size}<extra></extra>\",\"legendgroup\":\"Switzerland\",\"marker\":{\"color\":\"#FF97FF\",\"size\":[4.905109489051095],\"sizemode\":\"area\",\"sizeref\":0.006450617283950617,\"symbol\":\"circle\"},\"mode\":\"markers\",\"name\":\"Switzerland\",\"orientation\":\"v\",\"showlegend\":true,\"x\":[\"Switzerland\"],\"xaxis\":\"x\",\"y\":[4.905109489051095],\"yaxis\":\"y\",\"type\":\"scatter\"},{\"hovertemplate\":\"country=%{x}<br>avreage_clicks=%{marker.size}<extra></extra>\",\"legendgroup\":\"India\",\"marker\":{\"color\":\"#FECB52\",\"size\":[4.6],\"sizemode\":\"area\",\"sizeref\":0.006450617283950617,\"symbol\":\"circle\"},\"mode\":\"markers\",\"name\":\"India\",\"orientation\":\"v\",\"showlegend\":true,\"x\":[\"India\"],\"xaxis\":\"x\",\"y\":[4.6],\"yaxis\":\"y\",\"type\":\"scatter\"},{\"hovertemplate\":\"country=%{x}<br>avreage_clicks=%{marker.size}<extra></extra>\",\"legendgroup\":\"Russia\",\"marker\":{\"color\":\"#636efa\",\"size\":[4.571428571428571],\"sizemode\":\"area\",\"sizeref\":0.006450617283950617,\"symbol\":\"circle\"},\"mode\":\"markers\",\"name\":\"Russia\",\"orientation\":\"v\",\"showlegend\":true,\"x\":[\"Russia\"],\"xaxis\":\"x\",\"y\":[4.571428571428571],\"yaxis\":\"y\",\"type\":\"scatter\"},{\"hovertemplate\":\"country=%{x}<br>avreage_clicks=%{marker.size}<extra></extra>\",\"legendgroup\":\"Iceland\",\"marker\":{\"color\":\"#EF553B\",\"size\":[4.413793103448276],\"sizemode\":\"area\",\"sizeref\":0.006450617283950617,\"symbol\":\"circle\"},\"mode\":\"markers\",\"name\":\"Iceland\",\"orientation\":\"v\",\"showlegend\":true,\"x\":[\"Iceland\"],\"xaxis\":\"x\",\"y\":[4.413793103448276],\"yaxis\":\"y\",\"type\":\"scatter\"},{\"hovertemplate\":\"country=%{x}<br>avreage_clicks=%{marker.size}<extra></extra>\",\"legendgroup\":\"Croatia\",\"marker\":{\"color\":\"#00cc96\",\"size\":[3.4444444444444446],\"sizemode\":\"area\",\"sizeref\":0.006450617283950617,\"symbol\":\"circle\"},\"mode\":\"markers\",\"name\":\"Croatia\",\"orientation\":\"v\",\"showlegend\":true,\"x\":[\"Croatia\"],\"xaxis\":\"x\",\"y\":[3.4444444444444446],\"yaxis\":\"y\",\"type\":\"scatter\"},{\"hovertemplate\":\"country=%{x}<br>avreage_clicks=%{marker.size}<extra></extra>\",\"legendgroup\":\"Greece\",\"marker\":{\"color\":\"#ab63fa\",\"size\":[3.391304347826087],\"sizemode\":\"area\",\"sizeref\":0.006450617283950617,\"symbol\":\"circle\"},\"mode\":\"markers\",\"name\":\"Greece\",\"orientation\":\"v\",\"showlegend\":true,\"x\":[\"Greece\"],\"xaxis\":\"x\",\"y\":[3.391304347826087],\"yaxis\":\"y\",\"type\":\"scatter\"}],                        {\"template\":{\"data\":{\"histogram2dcontour\":[{\"type\":\"histogram2dcontour\",\"colorbar\":{\"outlinewidth\":0,\"ticks\":\"\"},\"colorscale\":[[0.0,\"#0d0887\"],[0.1111111111111111,\"#46039f\"],[0.2222222222222222,\"#7201a8\"],[0.3333333333333333,\"#9c179e\"],[0.4444444444444444,\"#bd3786\"],[0.5555555555555556,\"#d8576b\"],[0.6666666666666666,\"#ed7953\"],[0.7777777777777778,\"#fb9f3a\"],[0.8888888888888888,\"#fdca26\"],[1.0,\"#f0f921\"]]}],\"choropleth\":[{\"type\":\"choropleth\",\"colorbar\":{\"outlinewidth\":0,\"ticks\":\"\"}}],\"histogram2d\":[{\"type\":\"histogram2d\",\"colorbar\":{\"outlinewidth\":0,\"ticks\":\"\"},\"colorscale\":[[0.0,\"#0d0887\"],[0.1111111111111111,\"#46039f\"],[0.2222222222222222,\"#7201a8\"],[0.3333333333333333,\"#9c179e\"],[0.4444444444444444,\"#bd3786\"],[0.5555555555555556,\"#d8576b\"],[0.6666666666666666,\"#ed7953\"],[0.7777777777777778,\"#fb9f3a\"],[0.8888888888888888,\"#fdca26\"],[1.0,\"#f0f921\"]]}],\"heatmap\":[{\"type\":\"heatmap\",\"colorbar\":{\"outlinewidth\":0,\"ticks\":\"\"},\"colorscale\":[[0.0,\"#0d0887\"],[0.1111111111111111,\"#46039f\"],[0.2222222222222222,\"#7201a8\"],[0.3333333333333333,\"#9c179e\"],[0.4444444444444444,\"#bd3786\"],[0.5555555555555556,\"#d8576b\"],[0.6666666666666666,\"#ed7953\"],[0.7777777777777778,\"#fb9f3a\"],[0.8888888888888888,\"#fdca26\"],[1.0,\"#f0f921\"]]}],\"heatmapgl\":[{\"type\":\"heatmapgl\",\"colorbar\":{\"outlinewidth\":0,\"ticks\":\"\"},\"colorscale\":[[0.0,\"#0d0887\"],[0.1111111111111111,\"#46039f\"],[0.2222222222222222,\"#7201a8\"],[0.3333333333333333,\"#9c179e\"],[0.4444444444444444,\"#bd3786\"],[0.5555555555555556,\"#d8576b\"],[0.6666666666666666,\"#ed7953\"],[0.7777777777777778,\"#fb9f3a\"],[0.8888888888888888,\"#fdca26\"],[1.0,\"#f0f921\"]]}],\"contourcarpet\":[{\"type\":\"contourcarpet\",\"colorbar\":{\"outlinewidth\":0,\"ticks\":\"\"}}],\"contour\":[{\"type\":\"contour\",\"colorbar\":{\"outlinewidth\":0,\"ticks\":\"\"},\"colorscale\":[[0.0,\"#0d0887\"],[0.1111111111111111,\"#46039f\"],[0.2222222222222222,\"#7201a8\"],[0.3333333333333333,\"#9c179e\"],[0.4444444444444444,\"#bd3786\"],[0.5555555555555556,\"#d8576b\"],[0.6666666666666666,\"#ed7953\"],[0.7777777777777778,\"#fb9f3a\"],[0.8888888888888888,\"#fdca26\"],[1.0,\"#f0f921\"]]}],\"surface\":[{\"type\":\"surface\",\"colorbar\":{\"outlinewidth\":0,\"ticks\":\"\"},\"colorscale\":[[0.0,\"#0d0887\"],[0.1111111111111111,\"#46039f\"],[0.2222222222222222,\"#7201a8\"],[0.3333333333333333,\"#9c179e\"],[0.4444444444444444,\"#bd3786\"],[0.5555555555555556,\"#d8576b\"],[0.6666666666666666,\"#ed7953\"],[0.7777777777777778,\"#fb9f3a\"],[0.8888888888888888,\"#fdca26\"],[1.0,\"#f0f921\"]]}],\"mesh3d\":[{\"type\":\"mesh3d\",\"colorbar\":{\"outlinewidth\":0,\"ticks\":\"\"}}],\"scatter\":[{\"fillpattern\":{\"fillmode\":\"overlay\",\"size\":10,\"solidity\":0.2},\"type\":\"scatter\"}],\"parcoords\":[{\"type\":\"parcoords\",\"line\":{\"colorbar\":{\"outlinewidth\":0,\"ticks\":\"\"}}}],\"scatterpolargl\":[{\"type\":\"scatterpolargl\",\"marker\":{\"colorbar\":{\"outlinewidth\":0,\"ticks\":\"\"}}}],\"bar\":[{\"error_x\":{\"color\":\"#2a3f5f\"},\"error_y\":{\"color\":\"#2a3f5f\"},\"marker\":{\"line\":{\"color\":\"#E5ECF6\",\"width\":0.5},\"pattern\":{\"fillmode\":\"overlay\",\"size\":10,\"solidity\":0.2}},\"type\":\"bar\"}],\"scattergeo\":[{\"type\":\"scattergeo\",\"marker\":{\"colorbar\":{\"outlinewidth\":0,\"ticks\":\"\"}}}],\"scatterpolar\":[{\"type\":\"scatterpolar\",\"marker\":{\"colorbar\":{\"outlinewidth\":0,\"ticks\":\"\"}}}],\"histogram\":[{\"marker\":{\"pattern\":{\"fillmode\":\"overlay\",\"size\":10,\"solidity\":0.2}},\"type\":\"histogram\"}],\"scattergl\":[{\"type\":\"scattergl\",\"marker\":{\"colorbar\":{\"outlinewidth\":0,\"ticks\":\"\"}}}],\"scatter3d\":[{\"type\":\"scatter3d\",\"line\":{\"colorbar\":{\"outlinewidth\":0,\"ticks\":\"\"}},\"marker\":{\"colorbar\":{\"outlinewidth\":0,\"ticks\":\"\"}}}],\"scattermapbox\":[{\"type\":\"scattermapbox\",\"marker\":{\"colorbar\":{\"outlinewidth\":0,\"ticks\":\"\"}}}],\"scatterternary\":[{\"type\":\"scatterternary\",\"marker\":{\"colorbar\":{\"outlinewidth\":0,\"ticks\":\"\"}}}],\"scattercarpet\":[{\"type\":\"scattercarpet\",\"marker\":{\"colorbar\":{\"outlinewidth\":0,\"ticks\":\"\"}}}],\"carpet\":[{\"aaxis\":{\"endlinecolor\":\"#2a3f5f\",\"gridcolor\":\"white\",\"linecolor\":\"white\",\"minorgridcolor\":\"white\",\"startlinecolor\":\"#2a3f5f\"},\"baxis\":{\"endlinecolor\":\"#2a3f5f\",\"gridcolor\":\"white\",\"linecolor\":\"white\",\"minorgridcolor\":\"white\",\"startlinecolor\":\"#2a3f5f\"},\"type\":\"carpet\"}],\"table\":[{\"cells\":{\"fill\":{\"color\":\"#EBF0F8\"},\"line\":{\"color\":\"white\"}},\"header\":{\"fill\":{\"color\":\"#C8D4E3\"},\"line\":{\"color\":\"white\"}},\"type\":\"table\"}],\"barpolar\":[{\"marker\":{\"line\":{\"color\":\"#E5ECF6\",\"width\":0.5},\"pattern\":{\"fillmode\":\"overlay\",\"size\":10,\"solidity\":0.2}},\"type\":\"barpolar\"}],\"pie\":[{\"automargin\":true,\"type\":\"pie\"}]},\"layout\":{\"autotypenumbers\":\"strict\",\"colorway\":[\"#636efa\",\"#EF553B\",\"#00cc96\",\"#ab63fa\",\"#FFA15A\",\"#19d3f3\",\"#FF6692\",\"#B6E880\",\"#FF97FF\",\"#FECB52\"],\"font\":{\"color\":\"#2a3f5f\"},\"hovermode\":\"closest\",\"hoverlabel\":{\"align\":\"left\"},\"paper_bgcolor\":\"white\",\"plot_bgcolor\":\"#E5ECF6\",\"polar\":{\"bgcolor\":\"#E5ECF6\",\"angularaxis\":{\"gridcolor\":\"white\",\"linecolor\":\"white\",\"ticks\":\"\"},\"radialaxis\":{\"gridcolor\":\"white\",\"linecolor\":\"white\",\"ticks\":\"\"}},\"ternary\":{\"bgcolor\":\"#E5ECF6\",\"aaxis\":{\"gridcolor\":\"white\",\"linecolor\":\"white\",\"ticks\":\"\"},\"baxis\":{\"gridcolor\":\"white\",\"linecolor\":\"white\",\"ticks\":\"\"},\"caxis\":{\"gridcolor\":\"white\",\"linecolor\":\"white\",\"ticks\":\"\"}},\"coloraxis\":{\"colorbar\":{\"outlinewidth\":0,\"ticks\":\"\"}},\"colorscale\":{\"sequential\":[[0.0,\"#0d0887\"],[0.1111111111111111,\"#46039f\"],[0.2222222222222222,\"#7201a8\"],[0.3333333333333333,\"#9c179e\"],[0.4444444444444444,\"#bd3786\"],[0.5555555555555556,\"#d8576b\"],[0.6666666666666666,\"#ed7953\"],[0.7777777777777778,\"#fb9f3a\"],[0.8888888888888888,\"#fdca26\"],[1.0,\"#f0f921\"]],\"sequentialminus\":[[0.0,\"#0d0887\"],[0.1111111111111111,\"#46039f\"],[0.2222222222222222,\"#7201a8\"],[0.3333333333333333,\"#9c179e\"],[0.4444444444444444,\"#bd3786\"],[0.5555555555555556,\"#d8576b\"],[0.6666666666666666,\"#ed7953\"],[0.7777777777777778,\"#fb9f3a\"],[0.8888888888888888,\"#fdca26\"],[1.0,\"#f0f921\"]],\"diverging\":[[0,\"#8e0152\"],[0.1,\"#c51b7d\"],[0.2,\"#de77ae\"],[0.3,\"#f1b6da\"],[0.4,\"#fde0ef\"],[0.5,\"#f7f7f7\"],[0.6,\"#e6f5d0\"],[0.7,\"#b8e186\"],[0.8,\"#7fbc41\"],[0.9,\"#4d9221\"],[1,\"#276419\"]]},\"xaxis\":{\"gridcolor\":\"white\",\"linecolor\":\"white\",\"ticks\":\"\",\"title\":{\"standoff\":15},\"zerolinecolor\":\"white\",\"automargin\":true,\"zerolinewidth\":2},\"yaxis\":{\"gridcolor\":\"white\",\"linecolor\":\"white\",\"ticks\":\"\",\"title\":{\"standoff\":15},\"zerolinecolor\":\"white\",\"automargin\":true,\"zerolinewidth\":2},\"scene\":{\"xaxis\":{\"backgroundcolor\":\"#E5ECF6\",\"gridcolor\":\"white\",\"linecolor\":\"white\",\"showbackground\":true,\"ticks\":\"\",\"zerolinecolor\":\"white\",\"gridwidth\":2},\"yaxis\":{\"backgroundcolor\":\"#E5ECF6\",\"gridcolor\":\"white\",\"linecolor\":\"white\",\"showbackground\":true,\"ticks\":\"\",\"zerolinecolor\":\"white\",\"gridwidth\":2},\"zaxis\":{\"backgroundcolor\":\"#E5ECF6\",\"gridcolor\":\"white\",\"linecolor\":\"white\",\"showbackground\":true,\"ticks\":\"\",\"zerolinecolor\":\"white\",\"gridwidth\":2}},\"shapedefaults\":{\"line\":{\"color\":\"#2a3f5f\"}},\"annotationdefaults\":{\"arrowcolor\":\"#2a3f5f\",\"arrowhead\":0,\"arrowwidth\":1},\"geo\":{\"bgcolor\":\"white\",\"landcolor\":\"#E5ECF6\",\"subunitcolor\":\"white\",\"showland\":true,\"showlakes\":true,\"lakecolor\":\"white\"},\"title\":{\"x\":0.05},\"mapbox\":{\"style\":\"light\"}}},\"xaxis\":{\"anchor\":\"y\",\"domain\":[0.0,1.0],\"title\":{\"text\":\"country\"},\"categoryorder\":\"array\",\"categoryarray\":[\"Romania\",\"Estonia\",\"Germany\",\"Slovakia\",\"Latvia\",\"Lithuania\",\"Belgium\",\"Sweden\",\"Luxembourg\",\"Czech Republic\",\"unidentified\",\"Netherlands\",\"Poland\",\"Italy\",\"Ireland\",\"Hungary\",\"USA\",\"France\",\"com (.com)\",\"Norway\",\"biz (.biz)\",\"Denmark\",\"United Kingdom\",\"Ukraine\",\"Spain\",\"net (.net)\",\"Austria\",\"Finland\",\"Switzerland\",\"India\",\"Russia\",\"Iceland\",\"Croatia\",\"Greece\"]},\"yaxis\":{\"anchor\":\"x\",\"domain\":[0.0,1.0],\"title\":{\"text\":\"avreage_clicks\"}},\"legend\":{\"title\":{\"text\":\"country\"},\"tracegroupgap\":0,\"itemsizing\":\"constant\"},\"margin\":{\"t\":60}},                        {\"responsive\": true}                    ).then(function(){\n",
       "                            \n",
       "var gd = document.getElementById('8fb85725-b749-4d1e-b34b-64bf71a3ee83');\n",
       "var x = new MutationObserver(function (mutations, observer) {{\n",
       "        var display = window.getComputedStyle(gd).display;\n",
       "        if (!display || display === 'none') {{\n",
       "            console.log([gd, 'removed!']);\n",
       "            Plotly.purge(gd);\n",
       "            observer.disconnect();\n",
       "        }}\n",
       "}});\n",
       "\n",
       "// Listen for the removal of the full notebook cells\n",
       "var notebookContainer = gd.closest('#notebook-container');\n",
       "if (notebookContainer) {{\n",
       "    x.observe(notebookContainer, {childList: true});\n",
       "}}\n",
       "\n",
       "// Listen for the clearing of the current output cell\n",
       "var outputEl = gd.closest('.output');\n",
       "if (outputEl) {{\n",
       "    x.observe(outputEl, {childList: true});\n",
       "}}\n",
       "\n",
       "                        })                };                });            </script>        </div>"
      ]
     },
     "metadata": {},
     "output_type": "display_data"
    }
   ],
   "source": [
    "fig = px.scatter(df8, x=df8.index, y=\"avreage_clicks\",\n",
    "                 size=\"avreage_clicks\", color=df8.index, size_max=60)\n",
    "fig.show()\n"
   ]
  },
  {
   "cell_type": "markdown",
   "id": "9701d49e",
   "metadata": {
    "id": "HuXe5W8K2P5Y",
    "papermill": {
     "duration": 0.046396,
     "end_time": "2022-10-17T18:55:10.454063",
     "exception": false,
     "start_time": "2022-10-17T18:55:10.407667",
     "status": "completed"
    },
    "tags": []
   },
   "source": [
    "**Countries like Romani and Estonia have high flexibility (It`s Great) and countries like Greece and Croatia have low flexibility. I think there are things that affect it like**:\n",
    "- Different language that they use \n",
    "- stranger products that they searched \n",
    "- They was browsing only (viewing products)\n",
    "- Hardly getting their products (We will discuss this problem later)"
   ]
  },
  {
   "cell_type": "markdown",
   "id": "a24b0b87",
   "metadata": {
    "id": "d462c992",
    "papermill": {
     "duration": 0.046205,
     "end_time": "2022-10-17T18:55:10.548753",
     "exception": false,
     "start_time": "2022-10-17T18:55:10.502548",
     "status": "completed"
    },
    "tags": []
   },
   "source": [
    "## Relationship between months and buying from the website"
   ]
  },
  {
   "cell_type": "code",
   "execution_count": 17,
   "id": "3878ebd1",
   "metadata": {
    "execution": {
     "iopub.execute_input": "2022-10-17T18:55:10.643167Z",
     "iopub.status.busy": "2022-10-17T18:55:10.642766Z",
     "iopub.status.idle": "2022-10-17T18:55:10.762663Z",
     "shell.execute_reply": "2022-10-17T18:55:10.761610Z"
    },
    "id": "61e05dc3",
    "outputId": "6a10521b-631d-4ad1-fa05-7e9066b7f214",
    "papermill": {
     "duration": 0.170702,
     "end_time": "2022-10-17T18:55:10.765713",
     "exception": false,
     "start_time": "2022-10-17T18:55:10.595011",
     "status": "completed"
    },
    "tags": []
   },
   "outputs": [
    {
     "data": {
      "application/vnd.plotly.v1+json": {
       "config": {
        "plotlyServerURL": "https://plot.ly"
       },
       "data": [
        {
         "domain": {
          "x": [
           0,
           0.45
          ],
          "y": [
           0,
           1
          ]
         },
         "hoverinfo": "label+percent",
         "labels": [
          "April",
          "August",
          "July",
          "June",
          "May"
         ],
         "name": "All monthes",
         "type": "pie",
         "values": [
          2100924,
          625180,
          1547518,
          1411981,
          1562573
         ]
        },
        {
         "domain": {
          "x": [
           0.55,
           1
          ],
          "y": [
           0,
           1
          ]
         },
         "hoverinfo": "label+percent",
         "labels": [
          "April",
          "July",
          "June",
          "May"
         ],
         "name": "All months except August",
         "type": "pie",
         "values": [
          2100924,
          1547518,
          1411981,
          1562573
         ]
        }
       ],
       "layout": {
        "annotations": [
         {
          "font": {
           "size": 16
          },
          "showarrow": false,
          "text": "With August",
          "x": 0.225,
          "xanchor": "center",
          "xref": "paper",
          "y": 1,
          "yanchor": "bottom",
          "yref": "paper"
         },
         {
          "font": {
           "size": 16
          },
          "showarrow": false,
          "text": "Without August",
          "x": 0.775,
          "xanchor": "center",
          "xref": "paper",
          "y": 1,
          "yanchor": "bottom",
          "yref": "paper"
         }
        ],
        "template": {
         "data": {
          "bar": [
           {
            "error_x": {
             "color": "#2a3f5f"
            },
            "error_y": {
             "color": "#2a3f5f"
            },
            "marker": {
             "line": {
              "color": "#E5ECF6",
              "width": 0.5
             },
             "pattern": {
              "fillmode": "overlay",
              "size": 10,
              "solidity": 0.2
             }
            },
            "type": "bar"
           }
          ],
          "barpolar": [
           {
            "marker": {
             "line": {
              "color": "#E5ECF6",
              "width": 0.5
             },
             "pattern": {
              "fillmode": "overlay",
              "size": 10,
              "solidity": 0.2
             }
            },
            "type": "barpolar"
           }
          ],
          "carpet": [
           {
            "aaxis": {
             "endlinecolor": "#2a3f5f",
             "gridcolor": "white",
             "linecolor": "white",
             "minorgridcolor": "white",
             "startlinecolor": "#2a3f5f"
            },
            "baxis": {
             "endlinecolor": "#2a3f5f",
             "gridcolor": "white",
             "linecolor": "white",
             "minorgridcolor": "white",
             "startlinecolor": "#2a3f5f"
            },
            "type": "carpet"
           }
          ],
          "choropleth": [
           {
            "colorbar": {
             "outlinewidth": 0,
             "ticks": ""
            },
            "type": "choropleth"
           }
          ],
          "contour": [
           {
            "colorbar": {
             "outlinewidth": 0,
             "ticks": ""
            },
            "colorscale": [
             [
              0,
              "#0d0887"
             ],
             [
              0.1111111111111111,
              "#46039f"
             ],
             [
              0.2222222222222222,
              "#7201a8"
             ],
             [
              0.3333333333333333,
              "#9c179e"
             ],
             [
              0.4444444444444444,
              "#bd3786"
             ],
             [
              0.5555555555555556,
              "#d8576b"
             ],
             [
              0.6666666666666666,
              "#ed7953"
             ],
             [
              0.7777777777777778,
              "#fb9f3a"
             ],
             [
              0.8888888888888888,
              "#fdca26"
             ],
             [
              1,
              "#f0f921"
             ]
            ],
            "type": "contour"
           }
          ],
          "contourcarpet": [
           {
            "colorbar": {
             "outlinewidth": 0,
             "ticks": ""
            },
            "type": "contourcarpet"
           }
          ],
          "heatmap": [
           {
            "colorbar": {
             "outlinewidth": 0,
             "ticks": ""
            },
            "colorscale": [
             [
              0,
              "#0d0887"
             ],
             [
              0.1111111111111111,
              "#46039f"
             ],
             [
              0.2222222222222222,
              "#7201a8"
             ],
             [
              0.3333333333333333,
              "#9c179e"
             ],
             [
              0.4444444444444444,
              "#bd3786"
             ],
             [
              0.5555555555555556,
              "#d8576b"
             ],
             [
              0.6666666666666666,
              "#ed7953"
             ],
             [
              0.7777777777777778,
              "#fb9f3a"
             ],
             [
              0.8888888888888888,
              "#fdca26"
             ],
             [
              1,
              "#f0f921"
             ]
            ],
            "type": "heatmap"
           }
          ],
          "heatmapgl": [
           {
            "colorbar": {
             "outlinewidth": 0,
             "ticks": ""
            },
            "colorscale": [
             [
              0,
              "#0d0887"
             ],
             [
              0.1111111111111111,
              "#46039f"
             ],
             [
              0.2222222222222222,
              "#7201a8"
             ],
             [
              0.3333333333333333,
              "#9c179e"
             ],
             [
              0.4444444444444444,
              "#bd3786"
             ],
             [
              0.5555555555555556,
              "#d8576b"
             ],
             [
              0.6666666666666666,
              "#ed7953"
             ],
             [
              0.7777777777777778,
              "#fb9f3a"
             ],
             [
              0.8888888888888888,
              "#fdca26"
             ],
             [
              1,
              "#f0f921"
             ]
            ],
            "type": "heatmapgl"
           }
          ],
          "histogram": [
           {
            "marker": {
             "pattern": {
              "fillmode": "overlay",
              "size": 10,
              "solidity": 0.2
             }
            },
            "type": "histogram"
           }
          ],
          "histogram2d": [
           {
            "colorbar": {
             "outlinewidth": 0,
             "ticks": ""
            },
            "colorscale": [
             [
              0,
              "#0d0887"
             ],
             [
              0.1111111111111111,
              "#46039f"
             ],
             [
              0.2222222222222222,
              "#7201a8"
             ],
             [
              0.3333333333333333,
              "#9c179e"
             ],
             [
              0.4444444444444444,
              "#bd3786"
             ],
             [
              0.5555555555555556,
              "#d8576b"
             ],
             [
              0.6666666666666666,
              "#ed7953"
             ],
             [
              0.7777777777777778,
              "#fb9f3a"
             ],
             [
              0.8888888888888888,
              "#fdca26"
             ],
             [
              1,
              "#f0f921"
             ]
            ],
            "type": "histogram2d"
           }
          ],
          "histogram2dcontour": [
           {
            "colorbar": {
             "outlinewidth": 0,
             "ticks": ""
            },
            "colorscale": [
             [
              0,
              "#0d0887"
             ],
             [
              0.1111111111111111,
              "#46039f"
             ],
             [
              0.2222222222222222,
              "#7201a8"
             ],
             [
              0.3333333333333333,
              "#9c179e"
             ],
             [
              0.4444444444444444,
              "#bd3786"
             ],
             [
              0.5555555555555556,
              "#d8576b"
             ],
             [
              0.6666666666666666,
              "#ed7953"
             ],
             [
              0.7777777777777778,
              "#fb9f3a"
             ],
             [
              0.8888888888888888,
              "#fdca26"
             ],
             [
              1,
              "#f0f921"
             ]
            ],
            "type": "histogram2dcontour"
           }
          ],
          "mesh3d": [
           {
            "colorbar": {
             "outlinewidth": 0,
             "ticks": ""
            },
            "type": "mesh3d"
           }
          ],
          "parcoords": [
           {
            "line": {
             "colorbar": {
              "outlinewidth": 0,
              "ticks": ""
             }
            },
            "type": "parcoords"
           }
          ],
          "pie": [
           {
            "automargin": true,
            "type": "pie"
           }
          ],
          "scatter": [
           {
            "fillpattern": {
             "fillmode": "overlay",
             "size": 10,
             "solidity": 0.2
            },
            "type": "scatter"
           }
          ],
          "scatter3d": [
           {
            "line": {
             "colorbar": {
              "outlinewidth": 0,
              "ticks": ""
             }
            },
            "marker": {
             "colorbar": {
              "outlinewidth": 0,
              "ticks": ""
             }
            },
            "type": "scatter3d"
           }
          ],
          "scattercarpet": [
           {
            "marker": {
             "colorbar": {
              "outlinewidth": 0,
              "ticks": ""
             }
            },
            "type": "scattercarpet"
           }
          ],
          "scattergeo": [
           {
            "marker": {
             "colorbar": {
              "outlinewidth": 0,
              "ticks": ""
             }
            },
            "type": "scattergeo"
           }
          ],
          "scattergl": [
           {
            "marker": {
             "colorbar": {
              "outlinewidth": 0,
              "ticks": ""
             }
            },
            "type": "scattergl"
           }
          ],
          "scattermapbox": [
           {
            "marker": {
             "colorbar": {
              "outlinewidth": 0,
              "ticks": ""
             }
            },
            "type": "scattermapbox"
           }
          ],
          "scatterpolar": [
           {
            "marker": {
             "colorbar": {
              "outlinewidth": 0,
              "ticks": ""
             }
            },
            "type": "scatterpolar"
           }
          ],
          "scatterpolargl": [
           {
            "marker": {
             "colorbar": {
              "outlinewidth": 0,
              "ticks": ""
             }
            },
            "type": "scatterpolargl"
           }
          ],
          "scatterternary": [
           {
            "marker": {
             "colorbar": {
              "outlinewidth": 0,
              "ticks": ""
             }
            },
            "type": "scatterternary"
           }
          ],
          "surface": [
           {
            "colorbar": {
             "outlinewidth": 0,
             "ticks": ""
            },
            "colorscale": [
             [
              0,
              "#0d0887"
             ],
             [
              0.1111111111111111,
              "#46039f"
             ],
             [
              0.2222222222222222,
              "#7201a8"
             ],
             [
              0.3333333333333333,
              "#9c179e"
             ],
             [
              0.4444444444444444,
              "#bd3786"
             ],
             [
              0.5555555555555556,
              "#d8576b"
             ],
             [
              0.6666666666666666,
              "#ed7953"
             ],
             [
              0.7777777777777778,
              "#fb9f3a"
             ],
             [
              0.8888888888888888,
              "#fdca26"
             ],
             [
              1,
              "#f0f921"
             ]
            ],
            "type": "surface"
           }
          ],
          "table": [
           {
            "cells": {
             "fill": {
              "color": "#EBF0F8"
             },
             "line": {
              "color": "white"
             }
            },
            "header": {
             "fill": {
              "color": "#C8D4E3"
             },
             "line": {
              "color": "white"
             }
            },
            "type": "table"
           }
          ]
         },
         "layout": {
          "annotationdefaults": {
           "arrowcolor": "#2a3f5f",
           "arrowhead": 0,
           "arrowwidth": 1
          },
          "autotypenumbers": "strict",
          "coloraxis": {
           "colorbar": {
            "outlinewidth": 0,
            "ticks": ""
           }
          },
          "colorscale": {
           "diverging": [
            [
             0,
             "#8e0152"
            ],
            [
             0.1,
             "#c51b7d"
            ],
            [
             0.2,
             "#de77ae"
            ],
            [
             0.3,
             "#f1b6da"
            ],
            [
             0.4,
             "#fde0ef"
            ],
            [
             0.5,
             "#f7f7f7"
            ],
            [
             0.6,
             "#e6f5d0"
            ],
            [
             0.7,
             "#b8e186"
            ],
            [
             0.8,
             "#7fbc41"
            ],
            [
             0.9,
             "#4d9221"
            ],
            [
             1,
             "#276419"
            ]
           ],
           "sequential": [
            [
             0,
             "#0d0887"
            ],
            [
             0.1111111111111111,
             "#46039f"
            ],
            [
             0.2222222222222222,
             "#7201a8"
            ],
            [
             0.3333333333333333,
             "#9c179e"
            ],
            [
             0.4444444444444444,
             "#bd3786"
            ],
            [
             0.5555555555555556,
             "#d8576b"
            ],
            [
             0.6666666666666666,
             "#ed7953"
            ],
            [
             0.7777777777777778,
             "#fb9f3a"
            ],
            [
             0.8888888888888888,
             "#fdca26"
            ],
            [
             1,
             "#f0f921"
            ]
           ],
           "sequentialminus": [
            [
             0,
             "#0d0887"
            ],
            [
             0.1111111111111111,
             "#46039f"
            ],
            [
             0.2222222222222222,
             "#7201a8"
            ],
            [
             0.3333333333333333,
             "#9c179e"
            ],
            [
             0.4444444444444444,
             "#bd3786"
            ],
            [
             0.5555555555555556,
             "#d8576b"
            ],
            [
             0.6666666666666666,
             "#ed7953"
            ],
            [
             0.7777777777777778,
             "#fb9f3a"
            ],
            [
             0.8888888888888888,
             "#fdca26"
            ],
            [
             1,
             "#f0f921"
            ]
           ]
          },
          "colorway": [
           "#636efa",
           "#EF553B",
           "#00cc96",
           "#ab63fa",
           "#FFA15A",
           "#19d3f3",
           "#FF6692",
           "#B6E880",
           "#FF97FF",
           "#FECB52"
          ],
          "font": {
           "color": "#2a3f5f"
          },
          "geo": {
           "bgcolor": "white",
           "lakecolor": "white",
           "landcolor": "#E5ECF6",
           "showlakes": true,
           "showland": true,
           "subunitcolor": "white"
          },
          "hoverlabel": {
           "align": "left"
          },
          "hovermode": "closest",
          "mapbox": {
           "style": "light"
          },
          "paper_bgcolor": "white",
          "plot_bgcolor": "#E5ECF6",
          "polar": {
           "angularaxis": {
            "gridcolor": "white",
            "linecolor": "white",
            "ticks": ""
           },
           "bgcolor": "#E5ECF6",
           "radialaxis": {
            "gridcolor": "white",
            "linecolor": "white",
            "ticks": ""
           }
          },
          "scene": {
           "xaxis": {
            "backgroundcolor": "#E5ECF6",
            "gridcolor": "white",
            "gridwidth": 2,
            "linecolor": "white",
            "showbackground": true,
            "ticks": "",
            "zerolinecolor": "white"
           },
           "yaxis": {
            "backgroundcolor": "#E5ECF6",
            "gridcolor": "white",
            "gridwidth": 2,
            "linecolor": "white",
            "showbackground": true,
            "ticks": "",
            "zerolinecolor": "white"
           },
           "zaxis": {
            "backgroundcolor": "#E5ECF6",
            "gridcolor": "white",
            "gridwidth": 2,
            "linecolor": "white",
            "showbackground": true,
            "ticks": "",
            "zerolinecolor": "white"
           }
          },
          "shapedefaults": {
           "line": {
            "color": "#2a3f5f"
           }
          },
          "ternary": {
           "aaxis": {
            "gridcolor": "white",
            "linecolor": "white",
            "ticks": ""
           },
           "baxis": {
            "gridcolor": "white",
            "linecolor": "white",
            "ticks": ""
           },
           "bgcolor": "#E5ECF6",
           "caxis": {
            "gridcolor": "white",
            "linecolor": "white",
            "ticks": ""
           }
          },
          "title": {
           "x": 0.05
          },
          "xaxis": {
           "automargin": true,
           "gridcolor": "white",
           "linecolor": "white",
           "ticks": "",
           "title": {
            "standoff": 15
           },
           "zerolinecolor": "white",
           "zerolinewidth": 2
          },
          "yaxis": {
           "automargin": true,
           "gridcolor": "white",
           "linecolor": "white",
           "ticks": "",
           "title": {
            "standoff": 15
           },
           "zerolinecolor": "white",
           "zerolinewidth": 2
          }
         }
        },
        "title": {
         "text": "Relationship between month and buying from the website"
        }
       }
      },
      "text/html": [
       "<div>                            <div id=\"09ed7e73-df2b-4369-8ba7-2144b43cad65\" class=\"plotly-graph-div\" style=\"height:525px; width:100%;\"></div>            <script type=\"text/javascript\">                require([\"plotly\"], function(Plotly) {                    window.PLOTLYENV=window.PLOTLYENV || {};                                    if (document.getElementById(\"09ed7e73-df2b-4369-8ba7-2144b43cad65\")) {                    Plotly.newPlot(                        \"09ed7e73-df2b-4369-8ba7-2144b43cad65\",                        [{\"labels\":[\"April\",\"August\",\"July\",\"June\",\"May\"],\"name\":\"All monthes\",\"values\":[2100924,625180,1547518,1411981,1562573],\"type\":\"pie\",\"domain\":{\"x\":[0.0,0.45],\"y\":[0.0,1.0]},\"hoverinfo\":\"label+percent\"},{\"labels\":[\"April\",\"July\",\"June\",\"May\"],\"name\":\"All months except August\",\"values\":[2100924,1547518,1411981,1562573],\"type\":\"pie\",\"domain\":{\"x\":[0.55,1.0],\"y\":[0.0,1.0]},\"hoverinfo\":\"label+percent\"}],                        {\"template\":{\"data\":{\"histogram2dcontour\":[{\"type\":\"histogram2dcontour\",\"colorbar\":{\"outlinewidth\":0,\"ticks\":\"\"},\"colorscale\":[[0.0,\"#0d0887\"],[0.1111111111111111,\"#46039f\"],[0.2222222222222222,\"#7201a8\"],[0.3333333333333333,\"#9c179e\"],[0.4444444444444444,\"#bd3786\"],[0.5555555555555556,\"#d8576b\"],[0.6666666666666666,\"#ed7953\"],[0.7777777777777778,\"#fb9f3a\"],[0.8888888888888888,\"#fdca26\"],[1.0,\"#f0f921\"]]}],\"choropleth\":[{\"type\":\"choropleth\",\"colorbar\":{\"outlinewidth\":0,\"ticks\":\"\"}}],\"histogram2d\":[{\"type\":\"histogram2d\",\"colorbar\":{\"outlinewidth\":0,\"ticks\":\"\"},\"colorscale\":[[0.0,\"#0d0887\"],[0.1111111111111111,\"#46039f\"],[0.2222222222222222,\"#7201a8\"],[0.3333333333333333,\"#9c179e\"],[0.4444444444444444,\"#bd3786\"],[0.5555555555555556,\"#d8576b\"],[0.6666666666666666,\"#ed7953\"],[0.7777777777777778,\"#fb9f3a\"],[0.8888888888888888,\"#fdca26\"],[1.0,\"#f0f921\"]]}],\"heatmap\":[{\"type\":\"heatmap\",\"colorbar\":{\"outlinewidth\":0,\"ticks\":\"\"},\"colorscale\":[[0.0,\"#0d0887\"],[0.1111111111111111,\"#46039f\"],[0.2222222222222222,\"#7201a8\"],[0.3333333333333333,\"#9c179e\"],[0.4444444444444444,\"#bd3786\"],[0.5555555555555556,\"#d8576b\"],[0.6666666666666666,\"#ed7953\"],[0.7777777777777778,\"#fb9f3a\"],[0.8888888888888888,\"#fdca26\"],[1.0,\"#f0f921\"]]}],\"heatmapgl\":[{\"type\":\"heatmapgl\",\"colorbar\":{\"outlinewidth\":0,\"ticks\":\"\"},\"colorscale\":[[0.0,\"#0d0887\"],[0.1111111111111111,\"#46039f\"],[0.2222222222222222,\"#7201a8\"],[0.3333333333333333,\"#9c179e\"],[0.4444444444444444,\"#bd3786\"],[0.5555555555555556,\"#d8576b\"],[0.6666666666666666,\"#ed7953\"],[0.7777777777777778,\"#fb9f3a\"],[0.8888888888888888,\"#fdca26\"],[1.0,\"#f0f921\"]]}],\"contourcarpet\":[{\"type\":\"contourcarpet\",\"colorbar\":{\"outlinewidth\":0,\"ticks\":\"\"}}],\"contour\":[{\"type\":\"contour\",\"colorbar\":{\"outlinewidth\":0,\"ticks\":\"\"},\"colorscale\":[[0.0,\"#0d0887\"],[0.1111111111111111,\"#46039f\"],[0.2222222222222222,\"#7201a8\"],[0.3333333333333333,\"#9c179e\"],[0.4444444444444444,\"#bd3786\"],[0.5555555555555556,\"#d8576b\"],[0.6666666666666666,\"#ed7953\"],[0.7777777777777778,\"#fb9f3a\"],[0.8888888888888888,\"#fdca26\"],[1.0,\"#f0f921\"]]}],\"surface\":[{\"type\":\"surface\",\"colorbar\":{\"outlinewidth\":0,\"ticks\":\"\"},\"colorscale\":[[0.0,\"#0d0887\"],[0.1111111111111111,\"#46039f\"],[0.2222222222222222,\"#7201a8\"],[0.3333333333333333,\"#9c179e\"],[0.4444444444444444,\"#bd3786\"],[0.5555555555555556,\"#d8576b\"],[0.6666666666666666,\"#ed7953\"],[0.7777777777777778,\"#fb9f3a\"],[0.8888888888888888,\"#fdca26\"],[1.0,\"#f0f921\"]]}],\"mesh3d\":[{\"type\":\"mesh3d\",\"colorbar\":{\"outlinewidth\":0,\"ticks\":\"\"}}],\"scatter\":[{\"fillpattern\":{\"fillmode\":\"overlay\",\"size\":10,\"solidity\":0.2},\"type\":\"scatter\"}],\"parcoords\":[{\"type\":\"parcoords\",\"line\":{\"colorbar\":{\"outlinewidth\":0,\"ticks\":\"\"}}}],\"scatterpolargl\":[{\"type\":\"scatterpolargl\",\"marker\":{\"colorbar\":{\"outlinewidth\":0,\"ticks\":\"\"}}}],\"bar\":[{\"error_x\":{\"color\":\"#2a3f5f\"},\"error_y\":{\"color\":\"#2a3f5f\"},\"marker\":{\"line\":{\"color\":\"#E5ECF6\",\"width\":0.5},\"pattern\":{\"fillmode\":\"overlay\",\"size\":10,\"solidity\":0.2}},\"type\":\"bar\"}],\"scattergeo\":[{\"type\":\"scattergeo\",\"marker\":{\"colorbar\":{\"outlinewidth\":0,\"ticks\":\"\"}}}],\"scatterpolar\":[{\"type\":\"scatterpolar\",\"marker\":{\"colorbar\":{\"outlinewidth\":0,\"ticks\":\"\"}}}],\"histogram\":[{\"marker\":{\"pattern\":{\"fillmode\":\"overlay\",\"size\":10,\"solidity\":0.2}},\"type\":\"histogram\"}],\"scattergl\":[{\"type\":\"scattergl\",\"marker\":{\"colorbar\":{\"outlinewidth\":0,\"ticks\":\"\"}}}],\"scatter3d\":[{\"type\":\"scatter3d\",\"line\":{\"colorbar\":{\"outlinewidth\":0,\"ticks\":\"\"}},\"marker\":{\"colorbar\":{\"outlinewidth\":0,\"ticks\":\"\"}}}],\"scattermapbox\":[{\"type\":\"scattermapbox\",\"marker\":{\"colorbar\":{\"outlinewidth\":0,\"ticks\":\"\"}}}],\"scatterternary\":[{\"type\":\"scatterternary\",\"marker\":{\"colorbar\":{\"outlinewidth\":0,\"ticks\":\"\"}}}],\"scattercarpet\":[{\"type\":\"scattercarpet\",\"marker\":{\"colorbar\":{\"outlinewidth\":0,\"ticks\":\"\"}}}],\"carpet\":[{\"aaxis\":{\"endlinecolor\":\"#2a3f5f\",\"gridcolor\":\"white\",\"linecolor\":\"white\",\"minorgridcolor\":\"white\",\"startlinecolor\":\"#2a3f5f\"},\"baxis\":{\"endlinecolor\":\"#2a3f5f\",\"gridcolor\":\"white\",\"linecolor\":\"white\",\"minorgridcolor\":\"white\",\"startlinecolor\":\"#2a3f5f\"},\"type\":\"carpet\"}],\"table\":[{\"cells\":{\"fill\":{\"color\":\"#EBF0F8\"},\"line\":{\"color\":\"white\"}},\"header\":{\"fill\":{\"color\":\"#C8D4E3\"},\"line\":{\"color\":\"white\"}},\"type\":\"table\"}],\"barpolar\":[{\"marker\":{\"line\":{\"color\":\"#E5ECF6\",\"width\":0.5},\"pattern\":{\"fillmode\":\"overlay\",\"size\":10,\"solidity\":0.2}},\"type\":\"barpolar\"}],\"pie\":[{\"automargin\":true,\"type\":\"pie\"}]},\"layout\":{\"autotypenumbers\":\"strict\",\"colorway\":[\"#636efa\",\"#EF553B\",\"#00cc96\",\"#ab63fa\",\"#FFA15A\",\"#19d3f3\",\"#FF6692\",\"#B6E880\",\"#FF97FF\",\"#FECB52\"],\"font\":{\"color\":\"#2a3f5f\"},\"hovermode\":\"closest\",\"hoverlabel\":{\"align\":\"left\"},\"paper_bgcolor\":\"white\",\"plot_bgcolor\":\"#E5ECF6\",\"polar\":{\"bgcolor\":\"#E5ECF6\",\"angularaxis\":{\"gridcolor\":\"white\",\"linecolor\":\"white\",\"ticks\":\"\"},\"radialaxis\":{\"gridcolor\":\"white\",\"linecolor\":\"white\",\"ticks\":\"\"}},\"ternary\":{\"bgcolor\":\"#E5ECF6\",\"aaxis\":{\"gridcolor\":\"white\",\"linecolor\":\"white\",\"ticks\":\"\"},\"baxis\":{\"gridcolor\":\"white\",\"linecolor\":\"white\",\"ticks\":\"\"},\"caxis\":{\"gridcolor\":\"white\",\"linecolor\":\"white\",\"ticks\":\"\"}},\"coloraxis\":{\"colorbar\":{\"outlinewidth\":0,\"ticks\":\"\"}},\"colorscale\":{\"sequential\":[[0.0,\"#0d0887\"],[0.1111111111111111,\"#46039f\"],[0.2222222222222222,\"#7201a8\"],[0.3333333333333333,\"#9c179e\"],[0.4444444444444444,\"#bd3786\"],[0.5555555555555556,\"#d8576b\"],[0.6666666666666666,\"#ed7953\"],[0.7777777777777778,\"#fb9f3a\"],[0.8888888888888888,\"#fdca26\"],[1.0,\"#f0f921\"]],\"sequentialminus\":[[0.0,\"#0d0887\"],[0.1111111111111111,\"#46039f\"],[0.2222222222222222,\"#7201a8\"],[0.3333333333333333,\"#9c179e\"],[0.4444444444444444,\"#bd3786\"],[0.5555555555555556,\"#d8576b\"],[0.6666666666666666,\"#ed7953\"],[0.7777777777777778,\"#fb9f3a\"],[0.8888888888888888,\"#fdca26\"],[1.0,\"#f0f921\"]],\"diverging\":[[0,\"#8e0152\"],[0.1,\"#c51b7d\"],[0.2,\"#de77ae\"],[0.3,\"#f1b6da\"],[0.4,\"#fde0ef\"],[0.5,\"#f7f7f7\"],[0.6,\"#e6f5d0\"],[0.7,\"#b8e186\"],[0.8,\"#7fbc41\"],[0.9,\"#4d9221\"],[1,\"#276419\"]]},\"xaxis\":{\"gridcolor\":\"white\",\"linecolor\":\"white\",\"ticks\":\"\",\"title\":{\"standoff\":15},\"zerolinecolor\":\"white\",\"automargin\":true,\"zerolinewidth\":2},\"yaxis\":{\"gridcolor\":\"white\",\"linecolor\":\"white\",\"ticks\":\"\",\"title\":{\"standoff\":15},\"zerolinecolor\":\"white\",\"automargin\":true,\"zerolinewidth\":2},\"scene\":{\"xaxis\":{\"backgroundcolor\":\"#E5ECF6\",\"gridcolor\":\"white\",\"linecolor\":\"white\",\"showbackground\":true,\"ticks\":\"\",\"zerolinecolor\":\"white\",\"gridwidth\":2},\"yaxis\":{\"backgroundcolor\":\"#E5ECF6\",\"gridcolor\":\"white\",\"linecolor\":\"white\",\"showbackground\":true,\"ticks\":\"\",\"zerolinecolor\":\"white\",\"gridwidth\":2},\"zaxis\":{\"backgroundcolor\":\"#E5ECF6\",\"gridcolor\":\"white\",\"linecolor\":\"white\",\"showbackground\":true,\"ticks\":\"\",\"zerolinecolor\":\"white\",\"gridwidth\":2}},\"shapedefaults\":{\"line\":{\"color\":\"#2a3f5f\"}},\"annotationdefaults\":{\"arrowcolor\":\"#2a3f5f\",\"arrowhead\":0,\"arrowwidth\":1},\"geo\":{\"bgcolor\":\"white\",\"landcolor\":\"#E5ECF6\",\"subunitcolor\":\"white\",\"showland\":true,\"showlakes\":true,\"lakecolor\":\"white\"},\"title\":{\"x\":0.05},\"mapbox\":{\"style\":\"light\"}}},\"annotations\":[{\"font\":{\"size\":16},\"showarrow\":false,\"text\":\"With August\",\"x\":0.225,\"xanchor\":\"center\",\"xref\":\"paper\",\"y\":1.0,\"yanchor\":\"bottom\",\"yref\":\"paper\"},{\"font\":{\"size\":16},\"showarrow\":false,\"text\":\"Without August\",\"x\":0.775,\"xanchor\":\"center\",\"xref\":\"paper\",\"y\":1.0,\"yanchor\":\"bottom\",\"yref\":\"paper\"}],\"title\":{\"text\":\"Relationship between month and buying from the website\"}},                        {\"responsive\": true}                    ).then(function(){\n",
       "                            \n",
       "var gd = document.getElementById('09ed7e73-df2b-4369-8ba7-2144b43cad65');\n",
       "var x = new MutationObserver(function (mutations, observer) {{\n",
       "        var display = window.getComputedStyle(gd).display;\n",
       "        if (!display || display === 'none') {{\n",
       "            console.log([gd, 'removed!']);\n",
       "            Plotly.purge(gd);\n",
       "            observer.disconnect();\n",
       "        }}\n",
       "}});\n",
       "\n",
       "// Listen for the removal of the full notebook cells\n",
       "var notebookContainer = gd.closest('#notebook-container');\n",
       "if (notebookContainer) {{\n",
       "    x.observe(notebookContainer, {childList: true});\n",
       "}}\n",
       "\n",
       "// Listen for the clearing of the current output cell\n",
       "var outputEl = gd.closest('.output');\n",
       "if (outputEl) {{\n",
       "    x.observe(outputEl, {childList: true});\n",
       "}}\n",
       "\n",
       "                        })                };                });            </script>        </div>"
      ]
     },
     "metadata": {},
     "output_type": "display_data"
    }
   ],
   "source": [
    "df_1 = df.groupby(\"month\")[[\"price\"]].sum()\n",
    "df_2 = df[df['month'] != 'August'].groupby(\"month\")[[\"price\"]].sum()\n",
    "from plotly.subplots import make_subplots\n",
    "# Create subplots: use 'domain' type for Pie subplot\n",
    "fig = make_subplots(rows=1, cols=2, specs=[\n",
    "                    [{'type': 'domain'}, {'type': 'domain'}]],subplot_titles = [\n",
    "                        'With August',\n",
    "                        'Without August'])\n",
    "\n",
    "fig.add_trace(go.Pie(labels=df_1.index, values=df_1[\"price\"], name=\"All monthes\"),\n",
    "              1, 1)\n",
    "fig.add_trace(go.Pie(labels=df_2.index, values=df_2['price'], name=\"All months except August\"),\n",
    "              1, 2)\n",
    "\n",
    "# Use `hole` to create a donut-like pie chart\n",
    "fig.update_traces(hoverinfo=\"label+percent\")\n",
    "\n",
    "fig.update_layout(\n",
    "    title_text=\"Relationship between month and buying from the website\")\n",
    "\n",
    "fig.show()"
   ]
  },
  {
   "cell_type": "markdown",
   "id": "9a4865be",
   "metadata": {
    "id": "JvzLlWww4U26",
    "papermill": {
     "duration": 0.052662,
     "end_time": "2022-10-17T18:55:10.873276",
     "exception": false,
     "start_time": "2022-10-17T18:55:10.820614",
     "status": "completed"
    },
    "tags": []
   },
   "source": [
    "As we can see April and May is the most selling months and June is the lowest selling month \n",
    "\n",
    "The data for August is incomplete. it stops at day 13 only"
   ]
  },
  {
   "cell_type": "code",
   "execution_count": 18,
   "id": "ba463067",
   "metadata": {
    "execution": {
     "iopub.execute_input": "2022-10-17T18:55:10.982493Z",
     "iopub.status.busy": "2022-10-17T18:55:10.982104Z",
     "iopub.status.idle": "2022-10-17T18:55:11.004296Z",
     "shell.execute_reply": "2022-10-17T18:55:11.003341Z"
    },
    "id": "qfvaIwJh42xJ",
    "outputId": "75569ecf-5372-414a-a6da-1b0825621541",
    "papermill": {
     "duration": 0.079521,
     "end_time": "2022-10-17T18:55:11.006593",
     "exception": false,
     "start_time": "2022-10-17T18:55:10.927072",
     "status": "completed"
    },
    "tags": []
   },
   "outputs": [
    {
     "data": {
      "text/plain": [
       "array([ 1,  2,  3,  4,  5,  6,  7,  8,  9, 10, 11, 12, 13])"
      ]
     },
     "execution_count": 18,
     "metadata": {},
     "output_type": "execute_result"
    }
   ],
   "source": [
    "df[df['month'] == 'August']['day'].unique()"
   ]
  },
  {
   "cell_type": "markdown",
   "id": "40646b63",
   "metadata": {
    "papermill": {
     "duration": 0.053499,
     "end_time": "2022-10-17T18:55:11.113884",
     "exception": false,
     "start_time": "2022-10-17T18:55:11.060385",
     "status": "completed"
    },
    "tags": []
   },
   "source": [
    "# Does users seek cheaper products ?"
   ]
  },
  {
   "cell_type": "code",
   "execution_count": 19,
   "id": "47794672",
   "metadata": {
    "execution": {
     "iopub.execute_input": "2022-10-17T18:55:11.226154Z",
     "iopub.status.busy": "2022-10-17T18:55:11.225303Z",
     "iopub.status.idle": "2022-10-17T18:55:11.804331Z",
     "shell.execute_reply": "2022-10-17T18:55:11.803259Z"
    },
    "papermill": {
     "duration": 0.63825,
     "end_time": "2022-10-17T18:55:11.806807",
     "exception": false,
     "start_time": "2022-10-17T18:55:11.168557",
     "status": "completed"
    },
    "tags": []
   },
   "outputs": [
    {
     "data": {
      "image/png": "[encoded data removed]",
      "text/plain": [
       "<Figure size 936x360 with 3 Axes>"
      ]
     },
     "metadata": {
      "needs_background": "light"
     },
     "output_type": "display_data"
    }
   ],
   "source": [
    "df_copy=df.copy()\n",
    "df_copy['product price status'] = df_copy['price 2'].map({\n",
    "    1: 'more than average',\n",
    "    2: 'less than average'\n",
    "}).astype('category')\n",
    "\n",
    "plt.figure(figsize= (13, 5))\n",
    "#LEFT plot: Heatmap\n",
    "plt.subplot(1, 2, 1)\n",
    "# Use group_by() and size() to get the number of cars and each combination of the two variable levels as a pandas Series\n",
    "ct_counts = df_copy.groupby(['page 1 (main category)', 'product price status']).size()\n",
    "# Use Series.reset_index() to convert a series into a dataframe object\n",
    "ct_counts = ct_counts.reset_index(name='count')\n",
    "# Use DataFrame.pivot() to rearrange the data, to have page 1 (main category) names class on rows\n",
    "ct_counts = ct_counts.pivot(index = 'page 1 (main category)', columns = 'product price status', values = 'count')\n",
    "sns.heatmap(ct_counts, annot = True, fmt = 'd')\n",
    "# RIGHT plot: Clustered box plot\n",
    "plt.subplot(1, 2, 2)\n",
    "sns.countplot(data = df_copy, x = 'page 1 (main category)', hue = 'product price status')\n",
    "plt.show()"
   ]
  },
  {
   "cell_type": "markdown",
   "id": "5e596c44",
   "metadata": {
    "papermill": {
     "duration": 0.052795,
     "end_time": "2022-10-17T18:55:11.913778",
     "exception": false,
     "start_time": "2022-10-17T18:55:11.860983",
     "status": "completed"
    },
    "tags": []
   },
   "source": [
    "In contrast to other products where users don't care about price, users typically seek out more affordable trousers."
   ]
  },
  {
   "cell_type": "markdown",
   "id": "f6ea4c6f",
   "metadata": {
    "id": "c62d6cbf",
    "papermill": {
     "duration": 0.052652,
     "end_time": "2022-10-17T18:55:12.019999",
     "exception": false,
     "start_time": "2022-10-17T18:55:11.967347",
     "status": "completed"
    },
    "tags": []
   },
   "source": [
    "## Are more clicks on the website refer to higher profit ? and is the main category related?\n"
   ]
  },
  {
   "cell_type": "code",
   "execution_count": 20,
   "id": "229119a2",
   "metadata": {
    "execution": {
     "iopub.execute_input": "2022-10-17T18:55:12.128781Z",
     "iopub.status.busy": "2022-10-17T18:55:12.128356Z",
     "iopub.status.idle": "2022-10-17T18:55:12.222062Z",
     "shell.execute_reply": "2022-10-17T18:55:12.220909Z"
    },
    "id": "19546b2e",
    "outputId": "5c1560f7-14ef-4e29-ee37-01c1b1bac405",
    "papermill": {
     "duration": 0.151455,
     "end_time": "2022-10-17T18:55:12.224652",
     "exception": false,
     "start_time": "2022-10-17T18:55:12.073197",
     "status": "completed"
    },
    "tags": []
   },
   "outputs": [
    {
     "data": {
      "application/vnd.plotly.v1+json": {
       "config": {
        "plotlyServerURL": "https://plot.ly"
       },
       "data": [
        {
         "hovertemplate": "page 1 (main category)=blouses<br>order=%{x}<br>price=%{y}<extra></extra>",
         "legendgroup": "blouses",
         "marker": {
          "color": "#636efa",
          "symbol": "circle"
         },
         "mode": "markers",
         "name": "blouses",
         "orientation": "v",
         "showlegend": true,
         "type": "scatter",
         "x": [
          1,
          2,
          3,
          4,
          5,
          6,
          7,
          8,
          9,
          10,
          11,
          12,
          13,
          14,
          15,
          16,
          17,
          18,
          19,
          20,
          21,
          22,
          23,
          24,
          25,
          26,
          27,
          28,
          29,
          30,
          31,
          32,
          33,
          34,
          35,
          36,
          37,
          38,
          39,
          40,
          41,
          42,
          43,
          44,
          45,
          46,
          47,
          48,
          49,
          50,
          51,
          52,
          53,
          54,
          55,
          56,
          57,
          58,
          59,
          60,
          61,
          62,
          63,
          64,
          65,
          66,
          67,
          68,
          69,
          70,
          71,
          72,
          73,
          74,
          75,
          76,
          77,
          78,
          79,
          80,
          81,
          82,
          83,
          84,
          85,
          86,
          87,
          88,
          89,
          90,
          91,
          92,
          93,
          94,
          95,
          96,
          97,
          98,
          99,
          100,
          101,
          102,
          103,
          104,
          105,
          106,
          107,
          108,
          109,
          110,
          111,
          112,
          113,
          114,
          115,
          116,
          117,
          118,
          119,
          120,
          121,
          122,
          123,
          124,
          125,
          126,
          127,
          128,
          129,
          130,
          131,
          132,
          133,
          134,
          135,
          136,
          137,
          138,
          139,
          140,
          141,
          142,
          143,
          144,
          145,
          146,
          147,
          148,
          149,
          150,
          151,
          152,
          153,
          154,
          155,
          156,
          157,
          158,
          159,
          160,
          161,
          162,
          163,
          164,
          165,
          166,
          167,
          168,
          169,
          170,
          171,
          172,
          173,
          174,
          175,
          176,
          177,
          178,
          179,
          180,
          181,
          182,
          183,
          184,
          185,
          186,
          187,
          188,
          189,
          190,
          191,
          192,
          193,
          194,
          195
         ],
         "xaxis": "x",
         "y": [
          178830,
          149814,
          135706,
          116232,
          101521,
          90751,
          78590,
          71148,
          61374,
          53847,
          47942,
          41986,
          37795,
          34494,
          30801,
          26999,
          24785,
          21078,
          18748,
          17847,
          16011,
          13717,
          13110,
          12257,
          10745,
          10095,
          9130,
          7794,
          7669,
          7244,
          6086,
          4975,
          4954,
          4177,
          4351,
          4109,
          3837,
          3828,
          3469,
          3138,
          2741,
          2597,
          2347,
          2599,
          2167,
          2051,
          1718,
          1639,
          1538,
          1588,
          1493,
          1602,
          1384,
          1436,
          1566,
          1392,
          1167,
          1293,
          1131,
          1338,
          960,
          899,
          907,
          912,
          896,
          837,
          806,
          899,
          766,
          719,
          662,
          591,
          428,
          465,
          557,
          465,
          471,
          436,
          384,
          406,
          447,
          484,
          459,
          501,
          597,
          528,
          381,
          431,
          396,
          369,
          250,
          240,
          324,
          245,
          257,
          173,
          88,
          88,
          180,
          315,
          268,
          280,
          262,
          262,
          174,
          118,
          96,
          96,
          76,
          95,
          71,
          56,
          81,
          96,
          129,
          126,
          134,
          124,
          141,
          153,
          76,
          61,
          61,
          71,
          103,
          78,
          81,
          46,
          56,
          74,
          68,
          68,
          86,
          86,
          105,
          96,
          114,
          90,
          91,
          91,
          91,
          85,
          33,
          33,
          33,
          28,
          48,
          48,
          48,
          52,
          33,
          33,
          96,
          105,
          105,
          98,
          93,
          86,
          76,
          71,
          105,
          125,
          76,
          80,
          56,
          51,
          61,
          56,
          103,
          103,
          98,
          86,
          125,
          46,
          56,
          54,
          54,
          48,
          75,
          75,
          86,
          56,
          85,
          83,
          40,
          40,
          68,
          95,
          95,
          90,
          96,
          109,
          33,
          48,
          52
         ],
         "yaxis": "y"
        },
        {
         "hovertemplate": "page 1 (main category)=sale<br>order=%{x}<br>price=%{y}<extra></extra>",
         "legendgroup": "sale",
         "marker": {
          "color": "#EF553B",
          "symbol": "circle"
         },
         "mode": "markers",
         "name": "sale",
         "orientation": "v",
         "showlegend": true,
         "type": "scatter",
         "x": [
          1,
          2,
          3,
          4,
          5,
          6,
          7,
          8,
          9,
          10,
          11,
          12,
          13,
          14,
          15,
          16,
          17,
          18,
          19,
          20,
          21,
          22,
          23,
          24,
          25,
          26,
          27,
          28,
          29,
          30,
          31,
          32,
          33,
          34,
          35,
          36,
          37,
          38,
          39,
          40,
          41,
          42,
          43,
          44,
          45,
          46,
          47,
          48,
          49,
          50,
          51,
          52,
          53,
          54,
          55,
          56,
          57,
          58,
          59,
          60,
          61,
          62,
          63,
          64,
          65,
          66,
          67,
          68,
          69,
          70,
          71,
          72,
          73,
          74,
          75,
          76,
          77,
          78,
          79,
          80,
          81,
          82,
          83,
          84,
          85,
          86,
          87,
          88,
          89,
          90,
          91,
          92,
          93,
          94,
          95,
          96,
          97,
          98,
          99,
          100,
          101,
          102,
          103,
          104,
          105,
          106,
          107,
          108,
          109,
          110,
          111,
          112,
          113,
          114,
          115,
          116,
          117,
          118,
          119,
          120,
          121,
          122,
          123,
          124,
          125,
          126,
          127,
          128,
          129,
          130,
          131,
          132,
          133,
          134,
          135,
          136,
          137,
          138,
          139,
          140,
          141,
          142,
          143,
          144,
          145
         ],
         "xaxis": "x",
         "y": [
          140666,
          112391,
          99490,
          90462,
          81697,
          74144,
          67763,
          61694,
          56603,
          51421,
          47128,
          42232,
          38055,
          34026,
          30060,
          28551,
          25806,
          23541,
          21716,
          19571,
          18604,
          16503,
          15173,
          14547,
          13958,
          12396,
          11409,
          10428,
          9850,
          9471,
          8450,
          7759,
          7507,
          6486,
          6000,
          5598,
          4739,
          4532,
          4072,
          4056,
          3750,
          3305,
          3146,
          2863,
          2656,
          2377,
          2033,
          1762,
          1855,
          1828,
          1698,
          1440,
          1379,
          1384,
          1439,
          1043,
          1253,
          1173,
          1012,
          931,
          928,
          819,
          786,
          922,
          753,
          705,
          662,
          724,
          740,
          700,
          667,
          718,
          654,
          538,
          449,
          519,
          429,
          423,
          428,
          473,
          388,
          408,
          340,
          350,
          335,
          360,
          456,
          406,
          466,
          393,
          411,
          433,
          365,
          350,
          332,
          312,
          309,
          352,
          292,
          251,
          279,
          266,
          276,
          251,
          261,
          201,
          304,
          266,
          241,
          246,
          259,
          286,
          208,
          233,
          175,
          185,
          205,
          180,
          175,
          200,
          137,
          104,
          119,
          99,
          99,
          109,
          109,
          89,
          71,
          71,
          71,
          76,
          86,
          76,
          71,
          71,
          61,
          61,
          66,
          71,
          76,
          81,
          61,
          43,
          48
         ],
         "yaxis": "y"
        },
        {
         "hovertemplate": "page 1 (main category)=skirts<br>order=%{x}<br>price=%{y}<extra></extra>",
         "legendgroup": "skirts",
         "marker": {
          "color": "#00cc96",
          "symbol": "circle"
         },
         "mode": "markers",
         "name": "skirts",
         "orientation": "v",
         "showlegend": true,
         "type": "scatter",
         "x": [
          1,
          2,
          3,
          4,
          5,
          6,
          7,
          8,
          9,
          10,
          11,
          12,
          13,
          14,
          15,
          16,
          17,
          18,
          19,
          20,
          21,
          22,
          23,
          24,
          25,
          26,
          27,
          28,
          29,
          30,
          31,
          32,
          33,
          34,
          35,
          36,
          37,
          38,
          39,
          40,
          41,
          42,
          43,
          44,
          45,
          46,
          47,
          48,
          49,
          50,
          51,
          52,
          53,
          54,
          55,
          56,
          57,
          58,
          59,
          60,
          61,
          62,
          63,
          64,
          65,
          66,
          67,
          68,
          69,
          70,
          71,
          72,
          73,
          74,
          75,
          76,
          77,
          78,
          79,
          80,
          81,
          82,
          83,
          84,
          85,
          86,
          87,
          88,
          89,
          90,
          91,
          92,
          93,
          94,
          95,
          96,
          97,
          98,
          99,
          100,
          101,
          102,
          103,
          104,
          105,
          106,
          107,
          108,
          121,
          122,
          123,
          124,
          125,
          126,
          127,
          128,
          129,
          130,
          131,
          132,
          133,
          134,
          135,
          146,
          147,
          148,
          149,
          150,
          151,
          152,
          153,
          154,
          155,
          156,
          157,
          158,
          159,
          160,
          161
         ],
         "xaxis": "x",
         "y": [
          339955,
          262770,
          213501,
          173002,
          140334,
          115755,
          96572,
          80861,
          67162,
          57532,
          47315,
          40377,
          34411,
          29549,
          27338,
          24047,
          21661,
          19408,
          15923,
          14771,
          11341,
          10449,
          9299,
          8356,
          7143,
          6741,
          6082,
          6437,
          5757,
          4865,
          4792,
          4250,
          3440,
          3508,
          3371,
          2805,
          2796,
          2353,
          2122,
          2068,
          1831,
          1683,
          1446,
          1431,
          1245,
          1435,
          1225,
          1166,
          1227,
          946,
          1107,
          1418,
          999,
          842,
          655,
          1004,
          942,
          712,
          584,
          484,
          485,
          475,
          585,
          609,
          480,
          603,
          647,
          598,
          499,
          394,
          446,
          520,
          337,
          376,
          418,
          352,
          276,
          248,
          201,
          124,
          162,
          114,
          180,
          185,
          114,
          119,
          167,
          224,
          105,
          162,
          162,
          95,
          162,
          133,
          138,
          152,
          152,
          190,
          71,
          95,
          110,
          95,
          57,
          57,
          38,
          33,
          48,
          48,
          38,
          43,
          67,
          67,
          38,
          57,
          57,
          38,
          57,
          38,
          62,
          57,
          57,
          38,
          48,
          38,
          43,
          67,
          67,
          38,
          57,
          38,
          57,
          57,
          38,
          62,
          57,
          57,
          38,
          33,
          48
         ],
         "yaxis": "y"
        },
        {
         "hovertemplate": "page 1 (main category)=trousers<br>order=%{x}<br>price=%{y}<extra></extra>",
         "legendgroup": "trousers",
         "marker": {
          "color": "#ab63fa",
          "symbol": "circle"
         },
         "mode": "markers",
         "name": "trousers",
         "orientation": "v",
         "showlegend": true,
         "type": "scatter",
         "x": [
          1,
          2,
          3,
          4,
          5,
          6,
          7,
          8,
          9,
          10,
          11,
          12,
          13,
          14,
          15,
          16,
          17,
          18,
          19,
          20,
          21,
          22,
          23,
          24,
          25,
          26,
          27,
          28,
          29,
          30,
          31,
          32,
          33,
          34,
          35,
          36,
          37,
          38,
          39,
          40,
          41,
          42,
          43,
          44,
          45,
          46,
          47,
          48,
          49,
          50,
          51,
          52,
          53,
          54,
          55,
          56,
          57,
          58,
          59,
          60,
          61,
          62,
          63,
          64,
          65,
          66,
          67,
          68,
          69,
          70,
          71,
          72,
          73,
          74,
          75,
          76,
          77,
          78,
          79,
          80,
          81,
          82,
          83,
          84,
          85,
          86,
          87,
          88,
          89,
          90,
          91,
          92,
          93,
          94,
          95,
          96,
          97,
          98,
          99,
          100,
          101,
          102,
          103,
          104,
          105,
          106,
          107,
          108,
          109,
          110,
          136,
          137,
          138,
          139,
          140,
          141,
          142,
          143,
          144,
          145,
          146,
          147,
          148,
          149,
          150,
          151,
          152,
          153,
          154,
          155,
          156,
          157,
          158,
          159,
          160,
          161,
          162,
          163,
          164,
          165,
          166,
          167,
          168,
          169,
          170,
          171,
          172,
          173,
          174,
          175,
          176,
          177,
          178,
          179,
          180,
          181,
          182,
          183,
          184,
          185
         ],
         "xaxis": "x",
         "y": [
          405935,
          329640,
          257795,
          203414,
          164476,
          132761,
          107983,
          86903,
          72819,
          62245,
          53389,
          44754,
          38181,
          33904,
          29311,
          25857,
          22077,
          19367,
          18841,
          17044,
          15879,
          14733,
          13675,
          11988,
          10082,
          9193,
          8359,
          7044,
          6473,
          6223,
          5866,
          6084,
          5472,
          5100,
          4523,
          4439,
          4222,
          4112,
          3496,
          2943,
          2857,
          2853,
          2386,
          2143,
          1985,
          1628,
          1957,
          1831,
          1633,
          1543,
          1395,
          1292,
          1156,
          985,
          895,
          748,
          804,
          737,
          835,
          674,
          815,
          850,
          819,
          694,
          725,
          542,
          542,
          436,
          414,
          388,
          365,
          274,
          417,
          387,
          291,
          307,
          424,
          324,
          496,
          458,
          363,
          315,
          353,
          233,
          352,
          277,
          263,
          148,
          258,
          71,
          71,
          128,
          33,
          100,
          100,
          76,
          148,
          38,
          62,
          38,
          62,
          38,
          62,
          38,
          66,
          172,
          43,
          43,
          60,
          28,
          33,
          38,
          62,
          62,
          33,
          48,
          38,
          55,
          71,
          103,
          110,
          100,
          81,
          105,
          105,
          81,
          124,
          82,
          62,
          28,
          60,
          33,
          33,
          38,
          62,
          38,
          33,
          38,
          62,
          62,
          33,
          48,
          38,
          38,
          55,
          33,
          33,
          43,
          60,
          38,
          62,
          38,
          38,
          38,
          62,
          62,
          38,
          38,
          43,
          28
         ],
         "yaxis": "y"
        }
       ],
       "layout": {
        "legend": {
         "title": {
          "text": "page 1 (main category)"
         },
         "tracegroupgap": 0
        },
        "margin": {
         "t": 60
        },
        "template": {
         "data": {
          "bar": [
           {
            "error_x": {
             "color": "#2a3f5f"
            },
            "error_y": {
             "color": "#2a3f5f"
            },
            "marker": {
             "line": {
              "color": "#E5ECF6",
              "width": 0.5
             },
             "pattern": {
              "fillmode": "overlay",
              "size": 10,
              "solidity": 0.2
             }
            },
            "type": "bar"
           }
          ],
          "barpolar": [
           {
            "marker": {
             "line": {
              "color": "#E5ECF6",
              "width": 0.5
             },
             "pattern": {
              "fillmode": "overlay",
              "size": 10,
              "solidity": 0.2
             }
            },
            "type": "barpolar"
           }
          ],
          "carpet": [
           {
            "aaxis": {
             "endlinecolor": "#2a3f5f",
             "gridcolor": "white",
             "linecolor": "white",
             "minorgridcolor": "white",
             "startlinecolor": "#2a3f5f"
            },
            "baxis": {
             "endlinecolor": "#2a3f5f",
             "gridcolor": "white",
             "linecolor": "white",
             "minorgridcolor": "white",
             "startlinecolor": "#2a3f5f"
            },
            "type": "carpet"
           }
          ],
          "choropleth": [
           {
            "colorbar": {
             "outlinewidth": 0,
             "ticks": ""
            },
            "type": "choropleth"
           }
          ],
          "contour": [
           {
            "colorbar": {
             "outlinewidth": 0,
             "ticks": ""
            },
            "colorscale": [
             [
              0,
              "#0d0887"
             ],
             [
              0.1111111111111111,
              "#46039f"
             ],
             [
              0.2222222222222222,
              "#7201a8"
             ],
             [
              0.3333333333333333,
              "#9c179e"
             ],
             [
              0.4444444444444444,
              "#bd3786"
             ],
             [
              0.5555555555555556,
              "#d8576b"
             ],
             [
              0.6666666666666666,
              "#ed7953"
             ],
             [
              0.7777777777777778,
              "#fb9f3a"
             ],
             [
              0.8888888888888888,
              "#fdca26"
             ],
             [
              1,
              "#f0f921"
             ]
            ],
            "type": "contour"
           }
          ],
          "contourcarpet": [
           {
            "colorbar": {
             "outlinewidth": 0,
             "ticks": ""
            },
            "type": "contourcarpet"
           }
          ],
          "heatmap": [
           {
            "colorbar": {
             "outlinewidth": 0,
             "ticks": ""
            },
            "colorscale": [
             [
              0,
              "#0d0887"
             ],
             [
              0.1111111111111111,
              "#46039f"
             ],
             [
              0.2222222222222222,
              "#7201a8"
             ],
             [
              0.3333333333333333,
              "#9c179e"
             ],
             [
              0.4444444444444444,
              "#bd3786"
             ],
             [
              0.5555555555555556,
              "#d8576b"
             ],
             [
              0.6666666666666666,
              "#ed7953"
             ],
             [
              0.7777777777777778,
              "#fb9f3a"
             ],
             [
              0.8888888888888888,
              "#fdca26"
             ],
             [
              1,
              "#f0f921"
             ]
            ],
            "type": "heatmap"
           }
          ],
          "heatmapgl": [
           {
            "colorbar": {
             "outlinewidth": 0,
             "ticks": ""
            },
            "colorscale": [
             [
              0,
              "#0d0887"
             ],
             [
              0.1111111111111111,
              "#46039f"
             ],
             [
              0.2222222222222222,
              "#7201a8"
             ],
             [
              0.3333333333333333,
              "#9c179e"
             ],
             [
              0.4444444444444444,
              "#bd3786"
             ],
             [
              0.5555555555555556,
              "#d8576b"
             ],
             [
              0.6666666666666666,
              "#ed7953"
             ],
             [
              0.7777777777777778,
              "#fb9f3a"
             ],
             [
              0.8888888888888888,
              "#fdca26"
             ],
             [
              1,
              "#f0f921"
             ]
            ],
            "type": "heatmapgl"
           }
          ],
          "histogram": [
           {
            "marker": {
             "pattern": {
              "fillmode": "overlay",
              "size": 10,
              "solidity": 0.2
             }
            },
            "type": "histogram"
           }
          ],
          "histogram2d": [
           {
            "colorbar": {
             "outlinewidth": 0,
             "ticks": ""
            },
            "colorscale": [
             [
              0,
              "#0d0887"
             ],
             [
              0.1111111111111111,
              "#46039f"
             ],
             [
              0.2222222222222222,
              "#7201a8"
             ],
             [
              0.3333333333333333,
              "#9c179e"
             ],
             [
              0.4444444444444444,
              "#bd3786"
             ],
             [
              0.5555555555555556,
              "#d8576b"
             ],
             [
              0.6666666666666666,
              "#ed7953"
             ],
             [
              0.7777777777777778,
              "#fb9f3a"
             ],
             [
              0.8888888888888888,
              "#fdca26"
             ],
             [
              1,
              "#f0f921"
             ]
            ],
            "type": "histogram2d"
           }
          ],
          "histogram2dcontour": [
           {
            "colorbar": {
             "outlinewidth": 0,
             "ticks": ""
            },
            "colorscale": [
             [
              0,
              "#0d0887"
             ],
             [
              0.1111111111111111,
              "#46039f"
             ],
             [
              0.2222222222222222,
              "#7201a8"
             ],
             [
              0.3333333333333333,
              "#9c179e"
             ],
             [
              0.4444444444444444,
              "#bd3786"
             ],
             [
              0.5555555555555556,
              "#d8576b"
             ],
             [
              0.6666666666666666,
              "#ed7953"
             ],
             [
              0.7777777777777778,
              "#fb9f3a"
             ],
             [
              0.8888888888888888,
              "#fdca26"
             ],
             [
              1,
              "#f0f921"
             ]
            ],
            "type": "histogram2dcontour"
           }
          ],
          "mesh3d": [
           {
            "colorbar": {
             "outlinewidth": 0,
             "ticks": ""
            },
            "type": "mesh3d"
           }
          ],
          "parcoords": [
           {
            "line": {
             "colorbar": {
              "outlinewidth": 0,
              "ticks": ""
             }
            },
            "type": "parcoords"
           }
          ],
          "pie": [
           {
            "automargin": true,
            "type": "pie"
           }
          ],
          "scatter": [
           {
            "fillpattern": {
             "fillmode": "overlay",
             "size": 10,
             "solidity": 0.2
            },
            "type": "scatter"
           }
          ],
          "scatter3d": [
           {
            "line": {
             "colorbar": {
              "outlinewidth": 0,
              "ticks": ""
             }
            },
            "marker": {
             "colorbar": {
              "outlinewidth": 0,
              "ticks": ""
             }
            },
            "type": "scatter3d"
           }
          ],
          "scattercarpet": [
           {
            "marker": {
             "colorbar": {
              "outlinewidth": 0,
              "ticks": ""
             }
            },
            "type": "scattercarpet"
           }
          ],
          "scattergeo": [
           {
            "marker": {
             "colorbar": {
              "outlinewidth": 0,
              "ticks": ""
             }
            },
            "type": "scattergeo"
           }
          ],
          "scattergl": [
           {
            "marker": {
             "colorbar": {
              "outlinewidth": 0,
              "ticks": ""
             }
            },
            "type": "scattergl"
           }
          ],
          "scattermapbox": [
           {
            "marker": {
             "colorbar": {
              "outlinewidth": 0,
              "ticks": ""
             }
            },
            "type": "scattermapbox"
           }
          ],
          "scatterpolar": [
           {
            "marker": {
             "colorbar": {
              "outlinewidth": 0,
              "ticks": ""
             }
            },
            "type": "scatterpolar"
           }
          ],
          "scatterpolargl": [
           {
            "marker": {
             "colorbar": {
              "outlinewidth": 0,
              "ticks": ""
             }
            },
            "type": "scatterpolargl"
           }
          ],
          "scatterternary": [
           {
            "marker": {
             "colorbar": {
              "outlinewidth": 0,
              "ticks": ""
             }
            },
            "type": "scatterternary"
           }
          ],
          "surface": [
           {
            "colorbar": {
             "outlinewidth": 0,
             "ticks": ""
            },
            "colorscale": [
             [
              0,
              "#0d0887"
             ],
             [
              0.1111111111111111,
              "#46039f"
             ],
             [
              0.2222222222222222,
              "#7201a8"
             ],
             [
              0.3333333333333333,
              "#9c179e"
             ],
             [
              0.4444444444444444,
              "#bd3786"
             ],
             [
              0.5555555555555556,
              "#d8576b"
             ],
             [
              0.6666666666666666,
              "#ed7953"
             ],
             [
              0.7777777777777778,
              "#fb9f3a"
             ],
             [
              0.8888888888888888,
              "#fdca26"
             ],
             [
              1,
              "#f0f921"
             ]
            ],
            "type": "surface"
           }
          ],
          "table": [
           {
            "cells": {
             "fill": {
              "color": "#EBF0F8"
             },
             "line": {
              "color": "white"
             }
            },
            "header": {
             "fill": {
              "color": "#C8D4E3"
             },
             "line": {
              "color": "white"
             }
            },
            "type": "table"
           }
          ]
         },
         "layout": {
          "annotationdefaults": {
           "arrowcolor": "#2a3f5f",
           "arrowhead": 0,
           "arrowwidth": 1
          },
          "autotypenumbers": "strict",
          "coloraxis": {
           "colorbar": {
            "outlinewidth": 0,
            "ticks": ""
           }
          },
          "colorscale": {
           "diverging": [
            [
             0,
             "#8e0152"
            ],
            [
             0.1,
             "#c51b7d"
            ],
            [
             0.2,
             "#de77ae"
            ],
            [
             0.3,
             "#f1b6da"
            ],
            [
             0.4,
             "#fde0ef"
            ],
            [
             0.5,
             "#f7f7f7"
            ],
            [
             0.6,
             "#e6f5d0"
            ],
            [
             0.7,
             "#b8e186"
            ],
            [
             0.8,
             "#7fbc41"
            ],
            [
             0.9,
             "#4d9221"
            ],
            [
             1,
             "#276419"
            ]
           ],
           "sequential": [
            [
             0,
             "#0d0887"
            ],
            [
             0.1111111111111111,
             "#46039f"
            ],
            [
             0.2222222222222222,
             "#7201a8"
            ],
            [
             0.3333333333333333,
             "#9c179e"
            ],
            [
             0.4444444444444444,
             "#bd3786"
            ],
            [
             0.5555555555555556,
             "#d8576b"
            ],
            [
             0.6666666666666666,
             "#ed7953"
            ],
            [
             0.7777777777777778,
             "#fb9f3a"
            ],
            [
             0.8888888888888888,
             "#fdca26"
            ],
            [
             1,
             "#f0f921"
            ]
           ],
           "sequentialminus": [
            [
             0,
             "#0d0887"
            ],
            [
             0.1111111111111111,
             "#46039f"
            ],
            [
             0.2222222222222222,
             "#7201a8"
            ],
            [
             0.3333333333333333,
             "#9c179e"
            ],
            [
             0.4444444444444444,
             "#bd3786"
            ],
            [
             0.5555555555555556,
             "#d8576b"
            ],
            [
             0.6666666666666666,
             "#ed7953"
            ],
            [
             0.7777777777777778,
             "#fb9f3a"
            ],
            [
             0.8888888888888888,
             "#fdca26"
            ],
            [
             1,
             "#f0f921"
            ]
           ]
          },
          "colorway": [
           "#636efa",
           "#EF553B",
           "#00cc96",
           "#ab63fa",
           "#FFA15A",
           "#19d3f3",
           "#FF6692",
           "#B6E880",
           "#FF97FF",
           "#FECB52"
          ],
          "font": {
           "color": "#2a3f5f"
          },
          "geo": {
           "bgcolor": "white",
           "lakecolor": "white",
           "landcolor": "#E5ECF6",
           "showlakes": true,
           "showland": true,
           "subunitcolor": "white"
          },
          "hoverlabel": {
           "align": "left"
          },
          "hovermode": "closest",
          "mapbox": {
           "style": "light"
          },
          "paper_bgcolor": "white",
          "plot_bgcolor": "#E5ECF6",
          "polar": {
           "angularaxis": {
            "gridcolor": "white",
            "linecolor": "white",
            "ticks": ""
           },
           "bgcolor": "#E5ECF6",
           "radialaxis": {
            "gridcolor": "white",
            "linecolor": "white",
            "ticks": ""
           }
          },
          "scene": {
           "xaxis": {
            "backgroundcolor": "#E5ECF6",
            "gridcolor": "white",
            "gridwidth": 2,
            "linecolor": "white",
            "showbackground": true,
            "ticks": "",
            "zerolinecolor": "white"
           },
           "yaxis": {
            "backgroundcolor": "#E5ECF6",
            "gridcolor": "white",
            "gridwidth": 2,
            "linecolor": "white",
            "showbackground": true,
            "ticks": "",
            "zerolinecolor": "white"
           },
           "zaxis": {
            "backgroundcolor": "#E5ECF6",
            "gridcolor": "white",
            "gridwidth": 2,
            "linecolor": "white",
            "showbackground": true,
            "ticks": "",
            "zerolinecolor": "white"
           }
          },
          "shapedefaults": {
           "line": {
            "color": "#2a3f5f"
           }
          },
          "ternary": {
           "aaxis": {
            "gridcolor": "white",
            "linecolor": "white",
            "ticks": ""
           },
           "baxis": {
            "gridcolor": "white",
            "linecolor": "white",
            "ticks": ""
           },
           "bgcolor": "#E5ECF6",
           "caxis": {
            "gridcolor": "white",
            "linecolor": "white",
            "ticks": ""
           }
          },
          "title": {
           "x": 0.05
          },
          "xaxis": {
           "automargin": true,
           "gridcolor": "white",
           "linecolor": "white",
           "ticks": "",
           "title": {
            "standoff": 15
           },
           "zerolinecolor": "white",
           "zerolinewidth": 2
          },
          "yaxis": {
           "automargin": true,
           "gridcolor": "white",
           "linecolor": "white",
           "ticks": "",
           "title": {
            "standoff": 15
           },
           "zerolinecolor": "white",
           "zerolinewidth": 2
          }
         }
        },
        "xaxis": {
         "anchor": "y",
         "domain": [
          0,
          1
         ],
         "title": {
          "text": "order"
         }
        },
        "yaxis": {
         "anchor": "x",
         "domain": [
          0,
          1
         ],
         "title": {
          "text": "price"
         }
        }
       }
      },
      "text/html": [
       "<div>                            <div id=\"299a9f71-0cc3-4cd8-9cc2-f871f060d4e7\" class=\"plotly-graph-div\" style=\"height:525px; width:100%;\"></div>            <script type=\"text/javascript\">                require([\"plotly\"], function(Plotly) {                    window.PLOTLYENV=window.PLOTLYENV || {};                                    if (document.getElementById(\"299a9f71-0cc3-4cd8-9cc2-f871f060d4e7\")) {                    Plotly.newPlot(                        \"299a9f71-0cc3-4cd8-9cc2-f871f060d4e7\",                        [{\"hovertemplate\":\"page 1 (main category)=blouses<br>order=%{x}<br>price=%{y}<extra></extra>\",\"legendgroup\":\"blouses\",\"marker\":{\"color\":\"#636efa\",\"symbol\":\"circle\"},\"mode\":\"markers\",\"name\":\"blouses\",\"orientation\":\"v\",\"showlegend\":true,\"x\":[1,2,3,4,5,6,7,8,9,10,11,12,13,14,15,16,17,18,19,20,21,22,23,24,25,26,27,28,29,30,31,32,33,34,35,36,37,38,39,40,41,42,43,44,45,46,47,48,49,50,51,52,53,54,55,56,57,58,59,60,61,62,63,64,65,66,67,68,69,70,71,72,73,74,75,76,77,78,79,80,81,82,83,84,85,86,87,88,89,90,91,92,93,94,95,96,97,98,99,100,101,102,103,104,105,106,107,108,109,110,111,112,113,114,115,116,117,118,119,120,121,122,123,124,125,126,127,128,129,130,131,132,133,134,135,136,137,138,139,140,141,142,143,144,145,146,147,148,149,150,151,152,153,154,155,156,157,158,159,160,161,162,163,164,165,166,167,168,169,170,171,172,173,174,175,176,177,178,179,180,181,182,183,184,185,186,187,188,189,190,191,192,193,194,195],\"xaxis\":\"x\",\"y\":[178830,149814,135706,116232,101521,90751,78590,71148,61374,53847,47942,41986,37795,34494,30801,26999,24785,21078,18748,17847,16011,13717,13110,12257,10745,10095,9130,7794,7669,7244,6086,4975,4954,4177,4351,4109,3837,3828,3469,3138,2741,2597,2347,2599,2167,2051,1718,1639,1538,1588,1493,1602,1384,1436,1566,1392,1167,1293,1131,1338,960,899,907,912,896,837,806,899,766,719,662,591,428,465,557,465,471,436,384,406,447,484,459,501,597,528,381,431,396,369,250,240,324,245,257,173,88,88,180,315,268,280,262,262,174,118,96,96,76,95,71,56,81,96,129,126,134,124,141,153,76,61,61,71,103,78,81,46,56,74,68,68,86,86,105,96,114,90,91,91,91,85,33,33,33,28,48,48,48,52,33,33,96,105,105,98,93,86,76,71,105,125,76,80,56,51,61,56,103,103,98,86,125,46,56,54,54,48,75,75,86,56,85,83,40,40,68,95,95,90,96,109,33,48,52],\"yaxis\":\"y\",\"type\":\"scatter\"},{\"hovertemplate\":\"page 1 (main category)=sale<br>order=%{x}<br>price=%{y}<extra></extra>\",\"legendgroup\":\"sale\",\"marker\":{\"color\":\"#EF553B\",\"symbol\":\"circle\"},\"mode\":\"markers\",\"name\":\"sale\",\"orientation\":\"v\",\"showlegend\":true,\"x\":[1,2,3,4,5,6,7,8,9,10,11,12,13,14,15,16,17,18,19,20,21,22,23,24,25,26,27,28,29,30,31,32,33,34,35,36,37,38,39,40,41,42,43,44,45,46,47,48,49,50,51,52,53,54,55,56,57,58,59,60,61,62,63,64,65,66,67,68,69,70,71,72,73,74,75,76,77,78,79,80,81,82,83,84,85,86,87,88,89,90,91,92,93,94,95,96,97,98,99,100,101,102,103,104,105,106,107,108,109,110,111,112,113,114,115,116,117,118,119,120,121,122,123,124,125,126,127,128,129,130,131,132,133,134,135,136,137,138,139,140,141,142,143,144,145],\"xaxis\":\"x\",\"y\":[140666,112391,99490,90462,81697,74144,67763,61694,56603,51421,47128,42232,38055,34026,30060,28551,25806,23541,21716,19571,18604,16503,15173,14547,13958,12396,11409,10428,9850,9471,8450,7759,7507,6486,6000,5598,4739,4532,4072,4056,3750,3305,3146,2863,2656,2377,2033,1762,1855,1828,1698,1440,1379,1384,1439,1043,1253,1173,1012,931,928,819,786,922,753,705,662,724,740,700,667,718,654,538,449,519,429,423,428,473,388,408,340,350,335,360,456,406,466,393,411,433,365,350,332,312,309,352,292,251,279,266,276,251,261,201,304,266,241,246,259,286,208,233,175,185,205,180,175,200,137,104,119,99,99,109,109,89,71,71,71,76,86,76,71,71,61,61,66,71,76,81,61,43,48],\"yaxis\":\"y\",\"type\":\"scatter\"},{\"hovertemplate\":\"page 1 (main category)=skirts<br>order=%{x}<br>price=%{y}<extra></extra>\",\"legendgroup\":\"skirts\",\"marker\":{\"color\":\"#00cc96\",\"symbol\":\"circle\"},\"mode\":\"markers\",\"name\":\"skirts\",\"orientation\":\"v\",\"showlegend\":true,\"x\":[1,2,3,4,5,6,7,8,9,10,11,12,13,14,15,16,17,18,19,20,21,22,23,24,25,26,27,28,29,30,31,32,33,34,35,36,37,38,39,40,41,42,43,44,45,46,47,48,49,50,51,52,53,54,55,56,57,58,59,60,61,62,63,64,65,66,67,68,69,70,71,72,73,74,75,76,77,78,79,80,81,82,83,84,85,86,87,88,89,90,91,92,93,94,95,96,97,98,99,100,101,102,103,104,105,106,107,108,121,122,123,124,125,126,127,128,129,130,131,132,133,134,135,146,147,148,149,150,151,152,153,154,155,156,157,158,159,160,161],\"xaxis\":\"x\",\"y\":[339955,262770,213501,173002,140334,115755,96572,80861,67162,57532,47315,40377,34411,29549,27338,24047,21661,19408,15923,14771,11341,10449,9299,8356,7143,6741,6082,6437,5757,4865,4792,4250,3440,3508,3371,2805,2796,2353,2122,2068,1831,1683,1446,1431,1245,1435,1225,1166,1227,946,1107,1418,999,842,655,1004,942,712,584,484,485,475,585,609,480,603,647,598,499,394,446,520,337,376,418,352,276,248,201,124,162,114,180,185,114,119,167,224,105,162,162,95,162,133,138,152,152,190,71,95,110,95,57,57,38,33,48,48,38,43,67,67,38,57,57,38,57,38,62,57,57,38,48,38,43,67,67,38,57,38,57,57,38,62,57,57,38,33,48],\"yaxis\":\"y\",\"type\":\"scatter\"},{\"hovertemplate\":\"page 1 (main category)=trousers<br>order=%{x}<br>price=%{y}<extra></extra>\",\"legendgroup\":\"trousers\",\"marker\":{\"color\":\"#ab63fa\",\"symbol\":\"circle\"},\"mode\":\"markers\",\"name\":\"trousers\",\"orientation\":\"v\",\"showlegend\":true,\"x\":[1,2,3,4,5,6,7,8,9,10,11,12,13,14,15,16,17,18,19,20,21,22,23,24,25,26,27,28,29,30,31,32,33,34,35,36,37,38,39,40,41,42,43,44,45,46,47,48,49,50,51,52,53,54,55,56,57,58,59,60,61,62,63,64,65,66,67,68,69,70,71,72,73,74,75,76,77,78,79,80,81,82,83,84,85,86,87,88,89,90,91,92,93,94,95,96,97,98,99,100,101,102,103,104,105,106,107,108,109,110,136,137,138,139,140,141,142,143,144,145,146,147,148,149,150,151,152,153,154,155,156,157,158,159,160,161,162,163,164,165,166,167,168,169,170,171,172,173,174,175,176,177,178,179,180,181,182,183,184,185],\"xaxis\":\"x\",\"y\":[405935,329640,257795,203414,164476,132761,107983,86903,72819,62245,53389,44754,38181,33904,29311,25857,22077,19367,18841,17044,15879,14733,13675,11988,10082,9193,8359,7044,6473,6223,5866,6084,5472,5100,4523,4439,4222,4112,3496,2943,2857,2853,2386,2143,1985,1628,1957,1831,1633,1543,1395,1292,1156,985,895,748,804,737,835,674,815,850,819,694,725,542,542,436,414,388,365,274,417,387,291,307,424,324,496,458,363,315,353,233,352,277,263,148,258,71,71,128,33,100,100,76,148,38,62,38,62,38,62,38,66,172,43,43,60,28,33,38,62,62,33,48,38,55,71,103,110,100,81,105,105,81,124,82,62,28,60,33,33,38,62,38,33,38,62,62,33,48,38,38,55,33,33,43,60,38,62,38,38,38,62,62,38,38,43,28],\"yaxis\":\"y\",\"type\":\"scatter\"}],                        {\"template\":{\"data\":{\"histogram2dcontour\":[{\"type\":\"histogram2dcontour\",\"colorbar\":{\"outlinewidth\":0,\"ticks\":\"\"},\"colorscale\":[[0.0,\"#0d0887\"],[0.1111111111111111,\"#46039f\"],[0.2222222222222222,\"#7201a8\"],[0.3333333333333333,\"#9c179e\"],[0.4444444444444444,\"#bd3786\"],[0.5555555555555556,\"#d8576b\"],[0.6666666666666666,\"#ed7953\"],[0.7777777777777778,\"#fb9f3a\"],[0.8888888888888888,\"#fdca26\"],[1.0,\"#f0f921\"]]}],\"choropleth\":[{\"type\":\"choropleth\",\"colorbar\":{\"outlinewidth\":0,\"ticks\":\"\"}}],\"histogram2d\":[{\"type\":\"histogram2d\",\"colorbar\":{\"outlinewidth\":0,\"ticks\":\"\"},\"colorscale\":[[0.0,\"#0d0887\"],[0.1111111111111111,\"#46039f\"],[0.2222222222222222,\"#7201a8\"],[0.3333333333333333,\"#9c179e\"],[0.4444444444444444,\"#bd3786\"],[0.5555555555555556,\"#d8576b\"],[0.6666666666666666,\"#ed7953\"],[0.7777777777777778,\"#fb9f3a\"],[0.8888888888888888,\"#fdca26\"],[1.0,\"#f0f921\"]]}],\"heatmap\":[{\"type\":\"heatmap\",\"colorbar\":{\"outlinewidth\":0,\"ticks\":\"\"},\"colorscale\":[[0.0,\"#0d0887\"],[0.1111111111111111,\"#46039f\"],[0.2222222222222222,\"#7201a8\"],[0.3333333333333333,\"#9c179e\"],[0.4444444444444444,\"#bd3786\"],[0.5555555555555556,\"#d8576b\"],[0.6666666666666666,\"#ed7953\"],[0.7777777777777778,\"#fb9f3a\"],[0.8888888888888888,\"#fdca26\"],[1.0,\"#f0f921\"]]}],\"heatmapgl\":[{\"type\":\"heatmapgl\",\"colorbar\":{\"outlinewidth\":0,\"ticks\":\"\"},\"colorscale\":[[0.0,\"#0d0887\"],[0.1111111111111111,\"#46039f\"],[0.2222222222222222,\"#7201a8\"],[0.3333333333333333,\"#9c179e\"],[0.4444444444444444,\"#bd3786\"],[0.5555555555555556,\"#d8576b\"],[0.6666666666666666,\"#ed7953\"],[0.7777777777777778,\"#fb9f3a\"],[0.8888888888888888,\"#fdca26\"],[1.0,\"#f0f921\"]]}],\"contourcarpet\":[{\"type\":\"contourcarpet\",\"colorbar\":{\"outlinewidth\":0,\"ticks\":\"\"}}],\"contour\":[{\"type\":\"contour\",\"colorbar\":{\"outlinewidth\":0,\"ticks\":\"\"},\"colorscale\":[[0.0,\"#0d0887\"],[0.1111111111111111,\"#46039f\"],[0.2222222222222222,\"#7201a8\"],[0.3333333333333333,\"#9c179e\"],[0.4444444444444444,\"#bd3786\"],[0.5555555555555556,\"#d8576b\"],[0.6666666666666666,\"#ed7953\"],[0.7777777777777778,\"#fb9f3a\"],[0.8888888888888888,\"#fdca26\"],[1.0,\"#f0f921\"]]}],\"surface\":[{\"type\":\"surface\",\"colorbar\":{\"outlinewidth\":0,\"ticks\":\"\"},\"colorscale\":[[0.0,\"#0d0887\"],[0.1111111111111111,\"#46039f\"],[0.2222222222222222,\"#7201a8\"],[0.3333333333333333,\"#9c179e\"],[0.4444444444444444,\"#bd3786\"],[0.5555555555555556,\"#d8576b\"],[0.6666666666666666,\"#ed7953\"],[0.7777777777777778,\"#fb9f3a\"],[0.8888888888888888,\"#fdca26\"],[1.0,\"#f0f921\"]]}],\"mesh3d\":[{\"type\":\"mesh3d\",\"colorbar\":{\"outlinewidth\":0,\"ticks\":\"\"}}],\"scatter\":[{\"fillpattern\":{\"fillmode\":\"overlay\",\"size\":10,\"solidity\":0.2},\"type\":\"scatter\"}],\"parcoords\":[{\"type\":\"parcoords\",\"line\":{\"colorbar\":{\"outlinewidth\":0,\"ticks\":\"\"}}}],\"scatterpolargl\":[{\"type\":\"scatterpolargl\",\"marker\":{\"colorbar\":{\"outlinewidth\":0,\"ticks\":\"\"}}}],\"bar\":[{\"error_x\":{\"color\":\"#2a3f5f\"},\"error_y\":{\"color\":\"#2a3f5f\"},\"marker\":{\"line\":{\"color\":\"#E5ECF6\",\"width\":0.5},\"pattern\":{\"fillmode\":\"overlay\",\"size\":10,\"solidity\":0.2}},\"type\":\"bar\"}],\"scattergeo\":[{\"type\":\"scattergeo\",\"marker\":{\"colorbar\":{\"outlinewidth\":0,\"ticks\":\"\"}}}],\"scatterpolar\":[{\"type\":\"scatterpolar\",\"marker\":{\"colorbar\":{\"outlinewidth\":0,\"ticks\":\"\"}}}],\"histogram\":[{\"marker\":{\"pattern\":{\"fillmode\":\"overlay\",\"size\":10,\"solidity\":0.2}},\"type\":\"histogram\"}],\"scattergl\":[{\"type\":\"scattergl\",\"marker\":{\"colorbar\":{\"outlinewidth\":0,\"ticks\":\"\"}}}],\"scatter3d\":[{\"type\":\"scatter3d\",\"line\":{\"colorbar\":{\"outlinewidth\":0,\"ticks\":\"\"}},\"marker\":{\"colorbar\":{\"outlinewidth\":0,\"ticks\":\"\"}}}],\"scattermapbox\":[{\"type\":\"scattermapbox\",\"marker\":{\"colorbar\":{\"outlinewidth\":0,\"ticks\":\"\"}}}],\"scatterternary\":[{\"type\":\"scatterternary\",\"marker\":{\"colorbar\":{\"outlinewidth\":0,\"ticks\":\"\"}}}],\"scattercarpet\":[{\"type\":\"scattercarpet\",\"marker\":{\"colorbar\":{\"outlinewidth\":0,\"ticks\":\"\"}}}],\"carpet\":[{\"aaxis\":{\"endlinecolor\":\"#2a3f5f\",\"gridcolor\":\"white\",\"linecolor\":\"white\",\"minorgridcolor\":\"white\",\"startlinecolor\":\"#2a3f5f\"},\"baxis\":{\"endlinecolor\":\"#2a3f5f\",\"gridcolor\":\"white\",\"linecolor\":\"white\",\"minorgridcolor\":\"white\",\"startlinecolor\":\"#2a3f5f\"},\"type\":\"carpet\"}],\"table\":[{\"cells\":{\"fill\":{\"color\":\"#EBF0F8\"},\"line\":{\"color\":\"white\"}},\"header\":{\"fill\":{\"color\":\"#C8D4E3\"},\"line\":{\"color\":\"white\"}},\"type\":\"table\"}],\"barpolar\":[{\"marker\":{\"line\":{\"color\":\"#E5ECF6\",\"width\":0.5},\"pattern\":{\"fillmode\":\"overlay\",\"size\":10,\"solidity\":0.2}},\"type\":\"barpolar\"}],\"pie\":[{\"automargin\":true,\"type\":\"pie\"}]},\"layout\":{\"autotypenumbers\":\"strict\",\"colorway\":[\"#636efa\",\"#EF553B\",\"#00cc96\",\"#ab63fa\",\"#FFA15A\",\"#19d3f3\",\"#FF6692\",\"#B6E880\",\"#FF97FF\",\"#FECB52\"],\"font\":{\"color\":\"#2a3f5f\"},\"hovermode\":\"closest\",\"hoverlabel\":{\"align\":\"left\"},\"paper_bgcolor\":\"white\",\"plot_bgcolor\":\"#E5ECF6\",\"polar\":{\"bgcolor\":\"#E5ECF6\",\"angularaxis\":{\"gridcolor\":\"white\",\"linecolor\":\"white\",\"ticks\":\"\"},\"radialaxis\":{\"gridcolor\":\"white\",\"linecolor\":\"white\",\"ticks\":\"\"}},\"ternary\":{\"bgcolor\":\"#E5ECF6\",\"aaxis\":{\"gridcolor\":\"white\",\"linecolor\":\"white\",\"ticks\":\"\"},\"baxis\":{\"gridcolor\":\"white\",\"linecolor\":\"white\",\"ticks\":\"\"},\"caxis\":{\"gridcolor\":\"white\",\"linecolor\":\"white\",\"ticks\":\"\"}},\"coloraxis\":{\"colorbar\":{\"outlinewidth\":0,\"ticks\":\"\"}},\"colorscale\":{\"sequential\":[[0.0,\"#0d0887\"],[0.1111111111111111,\"#46039f\"],[0.2222222222222222,\"#7201a8\"],[0.3333333333333333,\"#9c179e\"],[0.4444444444444444,\"#bd3786\"],[0.5555555555555556,\"#d8576b\"],[0.6666666666666666,\"#ed7953\"],[0.7777777777777778,\"#fb9f3a\"],[0.8888888888888888,\"#fdca26\"],[1.0,\"#f0f921\"]],\"sequentialminus\":[[0.0,\"#0d0887\"],[0.1111111111111111,\"#46039f\"],[0.2222222222222222,\"#7201a8\"],[0.3333333333333333,\"#9c179e\"],[0.4444444444444444,\"#bd3786\"],[0.5555555555555556,\"#d8576b\"],[0.6666666666666666,\"#ed7953\"],[0.7777777777777778,\"#fb9f3a\"],[0.8888888888888888,\"#fdca26\"],[1.0,\"#f0f921\"]],\"diverging\":[[0,\"#8e0152\"],[0.1,\"#c51b7d\"],[0.2,\"#de77ae\"],[0.3,\"#f1b6da\"],[0.4,\"#fde0ef\"],[0.5,\"#f7f7f7\"],[0.6,\"#e6f5d0\"],[0.7,\"#b8e186\"],[0.8,\"#7fbc41\"],[0.9,\"#4d9221\"],[1,\"#276419\"]]},\"xaxis\":{\"gridcolor\":\"white\",\"linecolor\":\"white\",\"ticks\":\"\",\"title\":{\"standoff\":15},\"zerolinecolor\":\"white\",\"automargin\":true,\"zerolinewidth\":2},\"yaxis\":{\"gridcolor\":\"white\",\"linecolor\":\"white\",\"ticks\":\"\",\"title\":{\"standoff\":15},\"zerolinecolor\":\"white\",\"automargin\":true,\"zerolinewidth\":2},\"scene\":{\"xaxis\":{\"backgroundcolor\":\"#E5ECF6\",\"gridcolor\":\"white\",\"linecolor\":\"white\",\"showbackground\":true,\"ticks\":\"\",\"zerolinecolor\":\"white\",\"gridwidth\":2},\"yaxis\":{\"backgroundcolor\":\"#E5ECF6\",\"gridcolor\":\"white\",\"linecolor\":\"white\",\"showbackground\":true,\"ticks\":\"\",\"zerolinecolor\":\"white\",\"gridwidth\":2},\"zaxis\":{\"backgroundcolor\":\"#E5ECF6\",\"gridcolor\":\"white\",\"linecolor\":\"white\",\"showbackground\":true,\"ticks\":\"\",\"zerolinecolor\":\"white\",\"gridwidth\":2}},\"shapedefaults\":{\"line\":{\"color\":\"#2a3f5f\"}},\"annotationdefaults\":{\"arrowcolor\":\"#2a3f5f\",\"arrowhead\":0,\"arrowwidth\":1},\"geo\":{\"bgcolor\":\"white\",\"landcolor\":\"#E5ECF6\",\"subunitcolor\":\"white\",\"showland\":true,\"showlakes\":true,\"lakecolor\":\"white\"},\"title\":{\"x\":0.05},\"mapbox\":{\"style\":\"light\"}}},\"xaxis\":{\"anchor\":\"y\",\"domain\":[0.0,1.0],\"title\":{\"text\":\"order\"}},\"yaxis\":{\"anchor\":\"x\",\"domain\":[0.0,1.0],\"title\":{\"text\":\"price\"}},\"legend\":{\"title\":{\"text\":\"page 1 (main category)\"},\"tracegroupgap\":0},\"margin\":{\"t\":60}},                        {\"responsive\": true}                    ).then(function(){\n",
       "                            \n",
       "var gd = document.getElementById('299a9f71-0cc3-4cd8-9cc2-f871f060d4e7');\n",
       "var x = new MutationObserver(function (mutations, observer) {{\n",
       "        var display = window.getComputedStyle(gd).display;\n",
       "        if (!display || display === 'none') {{\n",
       "            console.log([gd, 'removed!']);\n",
       "            Plotly.purge(gd);\n",
       "            observer.disconnect();\n",
       "        }}\n",
       "}});\n",
       "\n",
       "// Listen for the removal of the full notebook cells\n",
       "var notebookContainer = gd.closest('#notebook-container');\n",
       "if (notebookContainer) {{\n",
       "    x.observe(notebookContainer, {childList: true});\n",
       "}}\n",
       "\n",
       "// Listen for the clearing of the current output cell\n",
       "var outputEl = gd.closest('.output');\n",
       "if (outputEl) {{\n",
       "    x.observe(outputEl, {childList: true});\n",
       "}}\n",
       "\n",
       "                        })                };                });            </script>        </div>"
      ]
     },
     "metadata": {},
     "output_type": "display_data"
    }
   ],
   "source": [
    "df11 = df.groupby(by=[\"order\",'page 1 (main category)'])[[\"price\"]].sum().reset_index()\n",
    "fig = px.scatter(df11, x=\"order\", y=\"price\",color=df11['page 1 (main category)'])\n",
    "fig.show()"
   ]
  },
  {
   "cell_type": "markdown",
   "id": "d1308c87",
   "metadata": {
    "id": "57_SPwtN4omK",
    "papermill": {
     "duration": 0.061584,
     "end_time": "2022-10-17T18:55:12.348455",
     "exception": false,
     "start_time": "2022-10-17T18:55:12.286871",
     "status": "completed"
    },
    "tags": []
   },
   "source": [
    "The answer for our question is NO because clicks higher than 100 are not highly selling.Generally trousers are most selling for most orders and then blouses"
   ]
  },
  {
   "cell_type": "markdown",
   "id": "0b6c9b51",
   "metadata": {
    "id": "eb32492d",
    "papermill": {
     "duration": 0.061574,
     "end_time": "2022-10-17T18:55:12.471387",
     "exception": false,
     "start_time": "2022-10-17T18:55:12.409813",
     "status": "completed"
    },
    "tags": []
   },
   "source": [
    "## What is the best selling category?"
   ]
  },
  {
   "cell_type": "code",
   "execution_count": 21,
   "id": "26421b33",
   "metadata": {
    "execution": {
     "iopub.execute_input": "2022-10-17T18:55:12.595786Z",
     "iopub.status.busy": "2022-10-17T18:55:12.595345Z",
     "iopub.status.idle": "2022-10-17T18:55:12.655049Z",
     "shell.execute_reply": "2022-10-17T18:55:12.654008Z"
    },
    "id": "61778635",
    "outputId": "22894afd-75e7-4b93-a6b9-1ab4de848709",
    "papermill": {
     "duration": 0.124671,
     "end_time": "2022-10-17T18:55:12.657315",
     "exception": false,
     "start_time": "2022-10-17T18:55:12.532644",
     "status": "completed"
    },
    "tags": []
   },
   "outputs": [
    {
     "data": {
      "application/vnd.plotly.v1+json": {
       "config": {
        "plotlyServerURL": "https://plot.ly"
       },
       "data": [
        {
         "domain": {
          "x": [
           0,
           0.45
          ],
          "y": [
           0,
           1
          ]
         },
         "hoverinfo": "label+percent",
         "labels": [
          "blouses",
          "sale",
          "skirts",
          "trousers"
         ],
         "name": "All monthes",
         "type": "pie",
         "values": [
          38577,
          38747,
          38408,
          49742
         ]
        },
        {
         "domain": {
          "x": [
           0.55,
           1
          ],
          "y": [
           0,
           1
          ]
         },
         "hoverinfo": "label+percent",
         "labels": [
          "blouses",
          "sale",
          "skirts",
          "trousers"
         ],
         "name": "All months except August",
         "type": "pie",
         "values": [
          1554334,
          1403951,
          1966199,
          2323692
         ]
        }
       ],
       "layout": {
        "annotations": [
         {
          "font": {
           "size": 16
          },
          "showarrow": false,
          "text": "Total items per Type",
          "x": 0.225,
          "xanchor": "center",
          "xref": "paper",
          "y": 1,
          "yanchor": "bottom",
          "yref": "paper"
         },
         {
          "font": {
           "size": 16
          },
          "showarrow": false,
          "text": "Total sales in dollars per Type",
          "x": 0.775,
          "xanchor": "center",
          "xref": "paper",
          "y": 1,
          "yanchor": "bottom",
          "yref": "paper"
         }
        ],
        "template": {
         "data": {
          "bar": [
           {
            "error_x": {
             "color": "#2a3f5f"
            },
            "error_y": {
             "color": "#2a3f5f"
            },
            "marker": {
             "line": {
              "color": "#E5ECF6",
              "width": 0.5
             },
             "pattern": {
              "fillmode": "overlay",
              "size": 10,
              "solidity": 0.2
             }
            },
            "type": "bar"
           }
          ],
          "barpolar": [
           {
            "marker": {
             "line": {
              "color": "#E5ECF6",
              "width": 0.5
             },
             "pattern": {
              "fillmode": "overlay",
              "size": 10,
              "solidity": 0.2
             }
            },
            "type": "barpolar"
           }
          ],
          "carpet": [
           {
            "aaxis": {
             "endlinecolor": "#2a3f5f",
             "gridcolor": "white",
             "linecolor": "white",
             "minorgridcolor": "white",
             "startlinecolor": "#2a3f5f"
            },
            "baxis": {
             "endlinecolor": "#2a3f5f",
             "gridcolor": "white",
             "linecolor": "white",
             "minorgridcolor": "white",
             "startlinecolor": "#2a3f5f"
            },
            "type": "carpet"
           }
          ],
          "choropleth": [
           {
            "colorbar": {
             "outlinewidth": 0,
             "ticks": ""
            },
            "type": "choropleth"
           }
          ],
          "contour": [
           {
            "colorbar": {
             "outlinewidth": 0,
             "ticks": ""
            },
            "colorscale": [
             [
              0,
              "#0d0887"
             ],
             [
              0.1111111111111111,
              "#46039f"
             ],
             [
              0.2222222222222222,
              "#7201a8"
             ],
             [
              0.3333333333333333,
              "#9c179e"
             ],
             [
              0.4444444444444444,
              "#bd3786"
             ],
             [
              0.5555555555555556,
              "#d8576b"
             ],
             [
              0.6666666666666666,
              "#ed7953"
             ],
             [
              0.7777777777777778,
              "#fb9f3a"
             ],
             [
              0.8888888888888888,
              "#fdca26"
             ],
             [
              1,
              "#f0f921"
             ]
            ],
            "type": "contour"
           }
          ],
          "contourcarpet": [
           {
            "colorbar": {
             "outlinewidth": 0,
             "ticks": ""
            },
            "type": "contourcarpet"
           }
          ],
          "heatmap": [
           {
            "colorbar": {
             "outlinewidth": 0,
             "ticks": ""
            },
            "colorscale": [
             [
              0,
              "#0d0887"
             ],
             [
              0.1111111111111111,
              "#46039f"
             ],
             [
              0.2222222222222222,
              "#7201a8"
             ],
             [
              0.3333333333333333,
              "#9c179e"
             ],
             [
              0.4444444444444444,
              "#bd3786"
             ],
             [
              0.5555555555555556,
              "#d8576b"
             ],
             [
              0.6666666666666666,
              "#ed7953"
             ],
             [
              0.7777777777777778,
              "#fb9f3a"
             ],
             [
              0.8888888888888888,
              "#fdca26"
             ],
             [
              1,
              "#f0f921"
             ]
            ],
            "type": "heatmap"
           }
          ],
          "heatmapgl": [
           {
            "colorbar": {
             "outlinewidth": 0,
             "ticks": ""
            },
            "colorscale": [
             [
              0,
              "#0d0887"
             ],
             [
              0.1111111111111111,
              "#46039f"
             ],
             [
              0.2222222222222222,
              "#7201a8"
             ],
             [
              0.3333333333333333,
              "#9c179e"
             ],
             [
              0.4444444444444444,
              "#bd3786"
             ],
             [
              0.5555555555555556,
              "#d8576b"
             ],
             [
              0.6666666666666666,
              "#ed7953"
             ],
             [
              0.7777777777777778,
              "#fb9f3a"
             ],
             [
              0.8888888888888888,
              "#fdca26"
             ],
             [
              1,
              "#f0f921"
             ]
            ],
            "type": "heatmapgl"
           }
          ],
          "histogram": [
           {
            "marker": {
             "pattern": {
              "fillmode": "overlay",
              "size": 10,
              "solidity": 0.2
             }
            },
            "type": "histogram"
           }
          ],
          "histogram2d": [
           {
            "colorbar": {
             "outlinewidth": 0,
             "ticks": ""
            },
            "colorscale": [
             [
              0,
              "#0d0887"
             ],
             [
              0.1111111111111111,
              "#46039f"
             ],
             [
              0.2222222222222222,
              "#7201a8"
             ],
             [
              0.3333333333333333,
              "#9c179e"
             ],
             [
              0.4444444444444444,
              "#bd3786"
             ],
             [
              0.5555555555555556,
              "#d8576b"
             ],
             [
              0.6666666666666666,
              "#ed7953"
             ],
             [
              0.7777777777777778,
              "#fb9f3a"
             ],
             [
              0.8888888888888888,
              "#fdca26"
             ],
             [
              1,
              "#f0f921"
             ]
            ],
            "type": "histogram2d"
           }
          ],
          "histogram2dcontour": [
           {
            "colorbar": {
             "outlinewidth": 0,
             "ticks": ""
            },
            "colorscale": [
             [
              0,
              "#0d0887"
             ],
             [
              0.1111111111111111,
              "#46039f"
             ],
             [
              0.2222222222222222,
              "#7201a8"
             ],
             [
              0.3333333333333333,
              "#9c179e"
             ],
             [
              0.4444444444444444,
              "#bd3786"
             ],
             [
              0.5555555555555556,
              "#d8576b"
             ],
             [
              0.6666666666666666,
              "#ed7953"
             ],
             [
              0.7777777777777778,
              "#fb9f3a"
             ],
             [
              0.8888888888888888,
              "#fdca26"
             ],
             [
              1,
              "#f0f921"
             ]
            ],
            "type": "histogram2dcontour"
           }
          ],
          "mesh3d": [
           {
            "colorbar": {
             "outlinewidth": 0,
             "ticks": ""
            },
            "type": "mesh3d"
           }
          ],
          "parcoords": [
           {
            "line": {
             "colorbar": {
              "outlinewidth": 0,
              "ticks": ""
             }
            },
            "type": "parcoords"
           }
          ],
          "pie": [
           {
            "automargin": true,
            "type": "pie"
           }
          ],
          "scatter": [
           {
            "fillpattern": {
             "fillmode": "overlay",
             "size": 10,
             "solidity": 0.2
            },
            "type": "scatter"
           }
          ],
          "scatter3d": [
           {
            "line": {
             "colorbar": {
              "outlinewidth": 0,
              "ticks": ""
             }
            },
            "marker": {
             "colorbar": {
              "outlinewidth": 0,
              "ticks": ""
             }
            },
            "type": "scatter3d"
           }
          ],
          "scattercarpet": [
           {
            "marker": {
             "colorbar": {
              "outlinewidth": 0,
              "ticks": ""
             }
            },
            "type": "scattercarpet"
           }
          ],
          "scattergeo": [
           {
            "marker": {
             "colorbar": {
              "outlinewidth": 0,
              "ticks": ""
             }
            },
            "type": "scattergeo"
           }
          ],
          "scattergl": [
           {
            "marker": {
             "colorbar": {
              "outlinewidth": 0,
              "ticks": ""
             }
            },
            "type": "scattergl"
           }
          ],
          "scattermapbox": [
           {
            "marker": {
             "colorbar": {
              "outlinewidth": 0,
              "ticks": ""
             }
            },
            "type": "scattermapbox"
           }
          ],
          "scatterpolar": [
           {
            "marker": {
             "colorbar": {
              "outlinewidth": 0,
              "ticks": ""
             }
            },
            "type": "scatterpolar"
           }
          ],
          "scatterpolargl": [
           {
            "marker": {
             "colorbar": {
              "outlinewidth": 0,
              "ticks": ""
             }
            },
            "type": "scatterpolargl"
           }
          ],
          "scatterternary": [
           {
            "marker": {
             "colorbar": {
              "outlinewidth": 0,
              "ticks": ""
             }
            },
            "type": "scatterternary"
           }
          ],
          "surface": [
           {
            "colorbar": {
             "outlinewidth": 0,
             "ticks": ""
            },
            "colorscale": [
             [
              0,
              "#0d0887"
             ],
             [
              0.1111111111111111,
              "#46039f"
             ],
             [
              0.2222222222222222,
              "#7201a8"
             ],
             [
              0.3333333333333333,
              "#9c179e"
             ],
             [
              0.4444444444444444,
              "#bd3786"
             ],
             [
              0.5555555555555556,
              "#d8576b"
             ],
             [
              0.6666666666666666,
              "#ed7953"
             ],
             [
              0.7777777777777778,
              "#fb9f3a"
             ],
             [
              0.8888888888888888,
              "#fdca26"
             ],
             [
              1,
              "#f0f921"
             ]
            ],
            "type": "surface"
           }
          ],
          "table": [
           {
            "cells": {
             "fill": {
              "color": "#EBF0F8"
             },
             "line": {
              "color": "white"
             }
            },
            "header": {
             "fill": {
              "color": "#C8D4E3"
             },
             "line": {
              "color": "white"
             }
            },
            "type": "table"
           }
          ]
         },
         "layout": {
          "annotationdefaults": {
           "arrowcolor": "#2a3f5f",
           "arrowhead": 0,
           "arrowwidth": 1
          },
          "autotypenumbers": "strict",
          "coloraxis": {
           "colorbar": {
            "outlinewidth": 0,
            "ticks": ""
           }
          },
          "colorscale": {
           "diverging": [
            [
             0,
             "#8e0152"
            ],
            [
             0.1,
             "#c51b7d"
            ],
            [
             0.2,
             "#de77ae"
            ],
            [
             0.3,
             "#f1b6da"
            ],
            [
             0.4,
             "#fde0ef"
            ],
            [
             0.5,
             "#f7f7f7"
            ],
            [
             0.6,
             "#e6f5d0"
            ],
            [
             0.7,
             "#b8e186"
            ],
            [
             0.8,
             "#7fbc41"
            ],
            [
             0.9,
             "#4d9221"
            ],
            [
             1,
             "#276419"
            ]
           ],
           "sequential": [
            [
             0,
             "#0d0887"
            ],
            [
             0.1111111111111111,
             "#46039f"
            ],
            [
             0.2222222222222222,
             "#7201a8"
            ],
            [
             0.3333333333333333,
             "#9c179e"
            ],
            [
             0.4444444444444444,
             "#bd3786"
            ],
            [
             0.5555555555555556,
             "#d8576b"
            ],
            [
             0.6666666666666666,
             "#ed7953"
            ],
            [
             0.7777777777777778,
             "#fb9f3a"
            ],
            [
             0.8888888888888888,
             "#fdca26"
            ],
            [
             1,
             "#f0f921"
            ]
           ],
           "sequentialminus": [
            [
             0,
             "#0d0887"
            ],
            [
             0.1111111111111111,
             "#46039f"
            ],
            [
             0.2222222222222222,
             "#7201a8"
            ],
            [
             0.3333333333333333,
             "#9c179e"
            ],
            [
             0.4444444444444444,
             "#bd3786"
            ],
            [
             0.5555555555555556,
             "#d8576b"
            ],
            [
             0.6666666666666666,
             "#ed7953"
            ],
            [
             0.7777777777777778,
             "#fb9f3a"
            ],
            [
             0.8888888888888888,
             "#fdca26"
            ],
            [
             1,
             "#f0f921"
            ]
           ]
          },
          "colorway": [
           "#636efa",
           "#EF553B",
           "#00cc96",
           "#ab63fa",
           "#FFA15A",
           "#19d3f3",
           "#FF6692",
           "#B6E880",
           "#FF97FF",
           "#FECB52"
          ],
          "font": {
           "color": "#2a3f5f"
          },
          "geo": {
           "bgcolor": "white",
           "lakecolor": "white",
           "landcolor": "#E5ECF6",
           "showlakes": true,
           "showland": true,
           "subunitcolor": "white"
          },
          "hoverlabel": {
           "align": "left"
          },
          "hovermode": "closest",
          "mapbox": {
           "style": "light"
          },
          "paper_bgcolor": "white",
          "plot_bgcolor": "#E5ECF6",
          "polar": {
           "angularaxis": {
            "gridcolor": "white",
            "linecolor": "white",
            "ticks": ""
           },
           "bgcolor": "#E5ECF6",
           "radialaxis": {
            "gridcolor": "white",
            "linecolor": "white",
            "ticks": ""
           }
          },
          "scene": {
           "xaxis": {
            "backgroundcolor": "#E5ECF6",
            "gridcolor": "white",
            "gridwidth": 2,
            "linecolor": "white",
            "showbackground": true,
            "ticks": "",
            "zerolinecolor": "white"
           },
           "yaxis": {
            "backgroundcolor": "#E5ECF6",
            "gridcolor": "white",
            "gridwidth": 2,
            "linecolor": "white",
            "showbackground": true,
            "ticks": "",
            "zerolinecolor": "white"
           },
           "zaxis": {
            "backgroundcolor": "#E5ECF6",
            "gridcolor": "white",
            "gridwidth": 2,
            "linecolor": "white",
            "showbackground": true,
            "ticks": "",
            "zerolinecolor": "white"
           }
          },
          "shapedefaults": {
           "line": {
            "color": "#2a3f5f"
           }
          },
          "ternary": {
           "aaxis": {
            "gridcolor": "white",
            "linecolor": "white",
            "ticks": ""
           },
           "baxis": {
            "gridcolor": "white",
            "linecolor": "white",
            "ticks": ""
           },
           "bgcolor": "#E5ECF6",
           "caxis": {
            "gridcolor": "white",
            "linecolor": "white",
            "ticks": ""
           }
          },
          "title": {
           "x": 0.05
          },
          "xaxis": {
           "automargin": true,
           "gridcolor": "white",
           "linecolor": "white",
           "ticks": "",
           "title": {
            "standoff": 15
           },
           "zerolinecolor": "white",
           "zerolinewidth": 2
          },
          "yaxis": {
           "automargin": true,
           "gridcolor": "white",
           "linecolor": "white",
           "ticks": "",
           "title": {
            "standoff": 15
           },
           "zerolinecolor": "white",
           "zerolinewidth": 2
          }
         }
        },
        "title": {
         "text": "Relationship between month and buying from the website"
        }
       }
      },
      "text/html": [
       "<div>                            <div id=\"db138fb3-76a0-411f-9e32-a7615aa1ab59\" class=\"plotly-graph-div\" style=\"height:525px; width:100%;\"></div>            <script type=\"text/javascript\">                require([\"plotly\"], function(Plotly) {                    window.PLOTLYENV=window.PLOTLYENV || {};                                    if (document.getElementById(\"db138fb3-76a0-411f-9e32-a7615aa1ab59\")) {                    Plotly.newPlot(                        \"db138fb3-76a0-411f-9e32-a7615aa1ab59\",                        [{\"labels\":[\"blouses\",\"sale\",\"skirts\",\"trousers\"],\"name\":\"All monthes\",\"values\":[38577,38747,38408,49742],\"type\":\"pie\",\"domain\":{\"x\":[0.0,0.45],\"y\":[0.0,1.0]},\"hoverinfo\":\"label+percent\"},{\"labels\":[\"blouses\",\"sale\",\"skirts\",\"trousers\"],\"name\":\"All months except August\",\"values\":[1554334,1403951,1966199,2323692],\"type\":\"pie\",\"domain\":{\"x\":[0.55,1.0],\"y\":[0.0,1.0]},\"hoverinfo\":\"label+percent\"}],                        {\"template\":{\"data\":{\"histogram2dcontour\":[{\"type\":\"histogram2dcontour\",\"colorbar\":{\"outlinewidth\":0,\"ticks\":\"\"},\"colorscale\":[[0.0,\"#0d0887\"],[0.1111111111111111,\"#46039f\"],[0.2222222222222222,\"#7201a8\"],[0.3333333333333333,\"#9c179e\"],[0.4444444444444444,\"#bd3786\"],[0.5555555555555556,\"#d8576b\"],[0.6666666666666666,\"#ed7953\"],[0.7777777777777778,\"#fb9f3a\"],[0.8888888888888888,\"#fdca26\"],[1.0,\"#f0f921\"]]}],\"choropleth\":[{\"type\":\"choropleth\",\"colorbar\":{\"outlinewidth\":0,\"ticks\":\"\"}}],\"histogram2d\":[{\"type\":\"histogram2d\",\"colorbar\":{\"outlinewidth\":0,\"ticks\":\"\"},\"colorscale\":[[0.0,\"#0d0887\"],[0.1111111111111111,\"#46039f\"],[0.2222222222222222,\"#7201a8\"],[0.3333333333333333,\"#9c179e\"],[0.4444444444444444,\"#bd3786\"],[0.5555555555555556,\"#d8576b\"],[0.6666666666666666,\"#ed7953\"],[0.7777777777777778,\"#fb9f3a\"],[0.8888888888888888,\"#fdca26\"],[1.0,\"#f0f921\"]]}],\"heatmap\":[{\"type\":\"heatmap\",\"colorbar\":{\"outlinewidth\":0,\"ticks\":\"\"},\"colorscale\":[[0.0,\"#0d0887\"],[0.1111111111111111,\"#46039f\"],[0.2222222222222222,\"#7201a8\"],[0.3333333333333333,\"#9c179e\"],[0.4444444444444444,\"#bd3786\"],[0.5555555555555556,\"#d8576b\"],[0.6666666666666666,\"#ed7953\"],[0.7777777777777778,\"#fb9f3a\"],[0.8888888888888888,\"#fdca26\"],[1.0,\"#f0f921\"]]}],\"heatmapgl\":[{\"type\":\"heatmapgl\",\"colorbar\":{\"outlinewidth\":0,\"ticks\":\"\"},\"colorscale\":[[0.0,\"#0d0887\"],[0.1111111111111111,\"#46039f\"],[0.2222222222222222,\"#7201a8\"],[0.3333333333333333,\"#9c179e\"],[0.4444444444444444,\"#bd3786\"],[0.5555555555555556,\"#d8576b\"],[0.6666666666666666,\"#ed7953\"],[0.7777777777777778,\"#fb9f3a\"],[0.8888888888888888,\"#fdca26\"],[1.0,\"#f0f921\"]]}],\"contourcarpet\":[{\"type\":\"contourcarpet\",\"colorbar\":{\"outlinewidth\":0,\"ticks\":\"\"}}],\"contour\":[{\"type\":\"contour\",\"colorbar\":{\"outlinewidth\":0,\"ticks\":\"\"},\"colorscale\":[[0.0,\"#0d0887\"],[0.1111111111111111,\"#46039f\"],[0.2222222222222222,\"#7201a8\"],[0.3333333333333333,\"#9c179e\"],[0.4444444444444444,\"#bd3786\"],[0.5555555555555556,\"#d8576b\"],[0.6666666666666666,\"#ed7953\"],[0.7777777777777778,\"#fb9f3a\"],[0.8888888888888888,\"#fdca26\"],[1.0,\"#f0f921\"]]}],\"surface\":[{\"type\":\"surface\",\"colorbar\":{\"outlinewidth\":0,\"ticks\":\"\"},\"colorscale\":[[0.0,\"#0d0887\"],[0.1111111111111111,\"#46039f\"],[0.2222222222222222,\"#7201a8\"],[0.3333333333333333,\"#9c179e\"],[0.4444444444444444,\"#bd3786\"],[0.5555555555555556,\"#d8576b\"],[0.6666666666666666,\"#ed7953\"],[0.7777777777777778,\"#fb9f3a\"],[0.8888888888888888,\"#fdca26\"],[1.0,\"#f0f921\"]]}],\"mesh3d\":[{\"type\":\"mesh3d\",\"colorbar\":{\"outlinewidth\":0,\"ticks\":\"\"}}],\"scatter\":[{\"fillpattern\":{\"fillmode\":\"overlay\",\"size\":10,\"solidity\":0.2},\"type\":\"scatter\"}],\"parcoords\":[{\"type\":\"parcoords\",\"line\":{\"colorbar\":{\"outlinewidth\":0,\"ticks\":\"\"}}}],\"scatterpolargl\":[{\"type\":\"scatterpolargl\",\"marker\":{\"colorbar\":{\"outlinewidth\":0,\"ticks\":\"\"}}}],\"bar\":[{\"error_x\":{\"color\":\"#2a3f5f\"},\"error_y\":{\"color\":\"#2a3f5f\"},\"marker\":{\"line\":{\"color\":\"#E5ECF6\",\"width\":0.5},\"pattern\":{\"fillmode\":\"overlay\",\"size\":10,\"solidity\":0.2}},\"type\":\"bar\"}],\"scattergeo\":[{\"type\":\"scattergeo\",\"marker\":{\"colorbar\":{\"outlinewidth\":0,\"ticks\":\"\"}}}],\"scatterpolar\":[{\"type\":\"scatterpolar\",\"marker\":{\"colorbar\":{\"outlinewidth\":0,\"ticks\":\"\"}}}],\"histogram\":[{\"marker\":{\"pattern\":{\"fillmode\":\"overlay\",\"size\":10,\"solidity\":0.2}},\"type\":\"histogram\"}],\"scattergl\":[{\"type\":\"scattergl\",\"marker\":{\"colorbar\":{\"outlinewidth\":0,\"ticks\":\"\"}}}],\"scatter3d\":[{\"type\":\"scatter3d\",\"line\":{\"colorbar\":{\"outlinewidth\":0,\"ticks\":\"\"}},\"marker\":{\"colorbar\":{\"outlinewidth\":0,\"ticks\":\"\"}}}],\"scattermapbox\":[{\"type\":\"scattermapbox\",\"marker\":{\"colorbar\":{\"outlinewidth\":0,\"ticks\":\"\"}}}],\"scatterternary\":[{\"type\":\"scatterternary\",\"marker\":{\"colorbar\":{\"outlinewidth\":0,\"ticks\":\"\"}}}],\"scattercarpet\":[{\"type\":\"scattercarpet\",\"marker\":{\"colorbar\":{\"outlinewidth\":0,\"ticks\":\"\"}}}],\"carpet\":[{\"aaxis\":{\"endlinecolor\":\"#2a3f5f\",\"gridcolor\":\"white\",\"linecolor\":\"white\",\"minorgridcolor\":\"white\",\"startlinecolor\":\"#2a3f5f\"},\"baxis\":{\"endlinecolor\":\"#2a3f5f\",\"gridcolor\":\"white\",\"linecolor\":\"white\",\"minorgridcolor\":\"white\",\"startlinecolor\":\"#2a3f5f\"},\"type\":\"carpet\"}],\"table\":[{\"cells\":{\"fill\":{\"color\":\"#EBF0F8\"},\"line\":{\"color\":\"white\"}},\"header\":{\"fill\":{\"color\":\"#C8D4E3\"},\"line\":{\"color\":\"white\"}},\"type\":\"table\"}],\"barpolar\":[{\"marker\":{\"line\":{\"color\":\"#E5ECF6\",\"width\":0.5},\"pattern\":{\"fillmode\":\"overlay\",\"size\":10,\"solidity\":0.2}},\"type\":\"barpolar\"}],\"pie\":[{\"automargin\":true,\"type\":\"pie\"}]},\"layout\":{\"autotypenumbers\":\"strict\",\"colorway\":[\"#636efa\",\"#EF553B\",\"#00cc96\",\"#ab63fa\",\"#FFA15A\",\"#19d3f3\",\"#FF6692\",\"#B6E880\",\"#FF97FF\",\"#FECB52\"],\"font\":{\"color\":\"#2a3f5f\"},\"hovermode\":\"closest\",\"hoverlabel\":{\"align\":\"left\"},\"paper_bgcolor\":\"white\",\"plot_bgcolor\":\"#E5ECF6\",\"polar\":{\"bgcolor\":\"#E5ECF6\",\"angularaxis\":{\"gridcolor\":\"white\",\"linecolor\":\"white\",\"ticks\":\"\"},\"radialaxis\":{\"gridcolor\":\"white\",\"linecolor\":\"white\",\"ticks\":\"\"}},\"ternary\":{\"bgcolor\":\"#E5ECF6\",\"aaxis\":{\"gridcolor\":\"white\",\"linecolor\":\"white\",\"ticks\":\"\"},\"baxis\":{\"gridcolor\":\"white\",\"linecolor\":\"white\",\"ticks\":\"\"},\"caxis\":{\"gridcolor\":\"white\",\"linecolor\":\"white\",\"ticks\":\"\"}},\"coloraxis\":{\"colorbar\":{\"outlinewidth\":0,\"ticks\":\"\"}},\"colorscale\":{\"sequential\":[[0.0,\"#0d0887\"],[0.1111111111111111,\"#46039f\"],[0.2222222222222222,\"#7201a8\"],[0.3333333333333333,\"#9c179e\"],[0.4444444444444444,\"#bd3786\"],[0.5555555555555556,\"#d8576b\"],[0.6666666666666666,\"#ed7953\"],[0.7777777777777778,\"#fb9f3a\"],[0.8888888888888888,\"#fdca26\"],[1.0,\"#f0f921\"]],\"sequentialminus\":[[0.0,\"#0d0887\"],[0.1111111111111111,\"#46039f\"],[0.2222222222222222,\"#7201a8\"],[0.3333333333333333,\"#9c179e\"],[0.4444444444444444,\"#bd3786\"],[0.5555555555555556,\"#d8576b\"],[0.6666666666666666,\"#ed7953\"],[0.7777777777777778,\"#fb9f3a\"],[0.8888888888888888,\"#fdca26\"],[1.0,\"#f0f921\"]],\"diverging\":[[0,\"#8e0152\"],[0.1,\"#c51b7d\"],[0.2,\"#de77ae\"],[0.3,\"#f1b6da\"],[0.4,\"#fde0ef\"],[0.5,\"#f7f7f7\"],[0.6,\"#e6f5d0\"],[0.7,\"#b8e186\"],[0.8,\"#7fbc41\"],[0.9,\"#4d9221\"],[1,\"#276419\"]]},\"xaxis\":{\"gridcolor\":\"white\",\"linecolor\":\"white\",\"ticks\":\"\",\"title\":{\"standoff\":15},\"zerolinecolor\":\"white\",\"automargin\":true,\"zerolinewidth\":2},\"yaxis\":{\"gridcolor\":\"white\",\"linecolor\":\"white\",\"ticks\":\"\",\"title\":{\"standoff\":15},\"zerolinecolor\":\"white\",\"automargin\":true,\"zerolinewidth\":2},\"scene\":{\"xaxis\":{\"backgroundcolor\":\"#E5ECF6\",\"gridcolor\":\"white\",\"linecolor\":\"white\",\"showbackground\":true,\"ticks\":\"\",\"zerolinecolor\":\"white\",\"gridwidth\":2},\"yaxis\":{\"backgroundcolor\":\"#E5ECF6\",\"gridcolor\":\"white\",\"linecolor\":\"white\",\"showbackground\":true,\"ticks\":\"\",\"zerolinecolor\":\"white\",\"gridwidth\":2},\"zaxis\":{\"backgroundcolor\":\"#E5ECF6\",\"gridcolor\":\"white\",\"linecolor\":\"white\",\"showbackground\":true,\"ticks\":\"\",\"zerolinecolor\":\"white\",\"gridwidth\":2}},\"shapedefaults\":{\"line\":{\"color\":\"#2a3f5f\"}},\"annotationdefaults\":{\"arrowcolor\":\"#2a3f5f\",\"arrowhead\":0,\"arrowwidth\":1},\"geo\":{\"bgcolor\":\"white\",\"landcolor\":\"#E5ECF6\",\"subunitcolor\":\"white\",\"showland\":true,\"showlakes\":true,\"lakecolor\":\"white\"},\"title\":{\"x\":0.05},\"mapbox\":{\"style\":\"light\"}}},\"annotations\":[{\"font\":{\"size\":16},\"showarrow\":false,\"text\":\"Total items per Type\",\"x\":0.225,\"xanchor\":\"center\",\"xref\":\"paper\",\"y\":1.0,\"yanchor\":\"bottom\",\"yref\":\"paper\"},{\"font\":{\"size\":16},\"showarrow\":false,\"text\":\"Total sales in dollars per Type\",\"x\":0.775,\"xanchor\":\"center\",\"xref\":\"paper\",\"y\":1.0,\"yanchor\":\"bottom\",\"yref\":\"paper\"}],\"title\":{\"text\":\"Relationship between month and buying from the website\"}},                        {\"responsive\": true}                    ).then(function(){\n",
       "                            \n",
       "var gd = document.getElementById('db138fb3-76a0-411f-9e32-a7615aa1ab59');\n",
       "var x = new MutationObserver(function (mutations, observer) {{\n",
       "        var display = window.getComputedStyle(gd).display;\n",
       "        if (!display || display === 'none') {{\n",
       "            console.log([gd, 'removed!']);\n",
       "            Plotly.purge(gd);\n",
       "            observer.disconnect();\n",
       "        }}\n",
       "}});\n",
       "\n",
       "// Listen for the removal of the full notebook cells\n",
       "var notebookContainer = gd.closest('#notebook-container');\n",
       "if (notebookContainer) {{\n",
       "    x.observe(notebookContainer, {childList: true});\n",
       "}}\n",
       "\n",
       "// Listen for the clearing of the current output cell\n",
       "var outputEl = gd.closest('.output');\n",
       "if (outputEl) {{\n",
       "    x.observe(outputEl, {childList: true});\n",
       "}}\n",
       "\n",
       "                        })                };                });            </script>        </div>"
      ]
     },
     "metadata": {},
     "output_type": "display_data"
    }
   ],
   "source": [
    "df_1 = df.groupby(\"page 1 (main category)\")[[\"price\"]].count()\n",
    "df_2 = df.groupby(\"page 1 (main category)\")[[\"price\"]].sum()\n",
    "\n",
    "# Create subplots: use 'domain' type for Pie subplot\n",
    "fig = make_subplots(rows=1, cols=2, specs=[[{'type': 'domain'}, {'type': 'domain'}]], \n",
    "                    subplot_titles = [\n",
    "                        'Total items per Type',\n",
    "                        'Total sales in dollars per Type'])\n",
    "\n",
    "fig.add_trace(go.Pie(labels=df_1.index, values=df_1[\"price\"], name=\"All monthes\"),\n",
    "              1, 1)\n",
    "fig.add_trace(go.Pie(labels=df_2.index, values=df_2['price'], name=\"All months except August\"),\n",
    "              1, 2)\n",
    "\n",
    "# Use `hole` to create a donut-like pie chart\n",
    "fig.update_traces(hoverinfo=\"label+percent\")\n",
    "\n",
    "fig.update_layout(\n",
    "    title_text=\"Relationship between month and buying from the website\")\n",
    "\n",
    "fig.show()\n"
   ]
  },
  {
   "cell_type": "markdown",
   "id": "5d7eda79",
   "metadata": {
    "id": "XukjnCrx5Nw_",
    "papermill": {
     "duration": 0.067734,
     "end_time": "2022-10-17T18:55:12.792749",
     "exception": false,
     "start_time": "2022-10-17T18:55:12.725015",
     "status": "completed"
    },
    "tags": []
   },
   "source": [
    "It seems that trousers are prefered buying but our categories is fairly distributed "
   ]
  },
  {
   "cell_type": "markdown",
   "id": "5272d8c4",
   "metadata": {
    "id": "4d2f77da",
    "papermill": {
     "duration": 0.066803,
     "end_time": "2022-10-17T18:55:12.927112",
     "exception": false,
     "start_time": "2022-10-17T18:55:12.860309",
     "status": "completed"
    },
    "tags": []
   },
   "source": [
    "## What does customers buy from each page?"
   ]
  },
  {
   "cell_type": "code",
   "execution_count": 22,
   "id": "17656bc6",
   "metadata": {
    "execution": {
     "iopub.execute_input": "2022-10-17T18:55:13.063335Z",
     "iopub.status.busy": "2022-10-17T18:55:13.062941Z",
     "iopub.status.idle": "2022-10-17T18:55:13.154338Z",
     "shell.execute_reply": "2022-10-17T18:55:13.153251Z"
    },
    "id": "457cc585",
    "outputId": "f8eb40cc-0efa-4dc4-d99e-2c1693758626",
    "papermill": {
     "duration": 0.162009,
     "end_time": "2022-10-17T18:55:13.156645",
     "exception": false,
     "start_time": "2022-10-17T18:55:12.994636",
     "status": "completed"
    },
    "tags": []
   },
   "outputs": [
    {
     "data": {
      "application/vnd.plotly.v1+json": {
       "config": {
        "plotlyServerURL": "https://plot.ly"
       },
       "data": [
        {
         "alignmentgroup": "True",
         "hovertemplate": "page 1 (main category)=blouses<br>page=%{x}<br>counts=%{y}<extra></extra>",
         "legendgroup": "blouses",
         "marker": {
          "color": "#636efa",
          "pattern": {
           "shape": ""
          }
         },
         "name": "blouses",
         "offsetgroup": "blouses",
         "orientation": "v",
         "showlegend": true,
         "textposition": "auto",
         "type": "bar",
         "x": [
          1,
          2,
          3,
          4
         ],
         "xaxis": "x",
         "y": [
          16830,
          9056,
          9080,
          3611
         ],
         "yaxis": "y"
        },
        {
         "alignmentgroup": "True",
         "hovertemplate": "page 1 (main category)=sale<br>page=%{x}<br>counts=%{y}<extra></extra>",
         "legendgroup": "sale",
         "marker": {
          "color": "#EF553B",
          "pattern": {
           "shape": ""
          }
         },
         "name": "sale",
         "offsetgroup": "sale",
         "orientation": "v",
         "showlegend": true,
         "textposition": "auto",
         "type": "bar",
         "x": [
          1,
          2,
          3,
          4,
          5
         ],
         "xaxis": "x",
         "y": [
          18086,
          6070,
          6518,
          5250,
          2823
         ],
         "yaxis": "y"
        },
        {
         "alignmentgroup": "True",
         "hovertemplate": "page 1 (main category)=skirts<br>page=%{x}<br>counts=%{y}<extra></extra>",
         "legendgroup": "skirts",
         "marker": {
          "color": "#00cc96",
          "pattern": {
           "shape": ""
          }
         },
         "name": "skirts",
         "offsetgroup": "skirts",
         "orientation": "v",
         "showlegend": true,
         "textposition": "auto",
         "type": "bar",
         "x": [
          1,
          2
         ],
         "xaxis": "x",
         "y": [
          23591,
          14817
         ],
         "yaxis": "y"
        },
        {
         "alignmentgroup": "True",
         "hovertemplate": "page 1 (main category)=trousers<br>page=%{x}<br>counts=%{y}<extra></extra>",
         "legendgroup": "trousers",
         "marker": {
          "color": "#ab63fa",
          "pattern": {
           "shape": ""
          }
         },
         "name": "trousers",
         "offsetgroup": "trousers",
         "orientation": "v",
         "showlegend": true,
         "textposition": "auto",
         "type": "bar",
         "x": [
          1,
          2,
          3
         ],
         "xaxis": "x",
         "y": [
          34945,
          11094,
          3703
         ],
         "yaxis": "y"
        }
       ],
       "layout": {
        "barmode": "group",
        "legend": {
         "title": {
          "text": "page 1 (main category)"
         },
         "tracegroupgap": 0
        },
        "margin": {
         "t": 60
        },
        "template": {
         "data": {
          "bar": [
           {
            "error_x": {
             "color": "#2a3f5f"
            },
            "error_y": {
             "color": "#2a3f5f"
            },
            "marker": {
             "line": {
              "color": "#E5ECF6",
              "width": 0.5
             },
             "pattern": {
              "fillmode": "overlay",
              "size": 10,
              "solidity": 0.2
             }
            },
            "type": "bar"
           }
          ],
          "barpolar": [
           {
            "marker": {
             "line": {
              "color": "#E5ECF6",
              "width": 0.5
             },
             "pattern": {
              "fillmode": "overlay",
              "size": 10,
              "solidity": 0.2
             }
            },
            "type": "barpolar"
           }
          ],
          "carpet": [
           {
            "aaxis": {
             "endlinecolor": "#2a3f5f",
             "gridcolor": "white",
             "linecolor": "white",
             "minorgridcolor": "white",
             "startlinecolor": "#2a3f5f"
            },
            "baxis": {
             "endlinecolor": "#2a3f5f",
             "gridcolor": "white",
             "linecolor": "white",
             "minorgridcolor": "white",
             "startlinecolor": "#2a3f5f"
            },
            "type": "carpet"
           }
          ],
          "choropleth": [
           {
            "colorbar": {
             "outlinewidth": 0,
             "ticks": ""
            },
            "type": "choropleth"
           }
          ],
          "contour": [
           {
            "colorbar": {
             "outlinewidth": 0,
             "ticks": ""
            },
            "colorscale": [
             [
              0,
              "#0d0887"
             ],
             [
              0.1111111111111111,
              "#46039f"
             ],
             [
              0.2222222222222222,
              "#7201a8"
             ],
             [
              0.3333333333333333,
              "#9c179e"
             ],
             [
              0.4444444444444444,
              "#bd3786"
             ],
             [
              0.5555555555555556,
              "#d8576b"
             ],
             [
              0.6666666666666666,
              "#ed7953"
             ],
             [
              0.7777777777777778,
              "#fb9f3a"
             ],
             [
              0.8888888888888888,
              "#fdca26"
             ],
             [
              1,
              "#f0f921"
             ]
            ],
            "type": "contour"
           }
          ],
          "contourcarpet": [
           {
            "colorbar": {
             "outlinewidth": 0,
             "ticks": ""
            },
            "type": "contourcarpet"
           }
          ],
          "heatmap": [
           {
            "colorbar": {
             "outlinewidth": 0,
             "ticks": ""
            },
            "colorscale": [
             [
              0,
              "#0d0887"
             ],
             [
              0.1111111111111111,
              "#46039f"
             ],
             [
              0.2222222222222222,
              "#7201a8"
             ],
             [
              0.3333333333333333,
              "#9c179e"
             ],
             [
              0.4444444444444444,
              "#bd3786"
             ],
             [
              0.5555555555555556,
              "#d8576b"
             ],
             [
              0.6666666666666666,
              "#ed7953"
             ],
             [
              0.7777777777777778,
              "#fb9f3a"
             ],
             [
              0.8888888888888888,
              "#fdca26"
             ],
             [
              1,
              "#f0f921"
             ]
            ],
            "type": "heatmap"
           }
          ],
          "heatmapgl": [
           {
            "colorbar": {
             "outlinewidth": 0,
             "ticks": ""
            },
            "colorscale": [
             [
              0,
              "#0d0887"
             ],
             [
              0.1111111111111111,
              "#46039f"
             ],
             [
              0.2222222222222222,
              "#7201a8"
             ],
             [
              0.3333333333333333,
              "#9c179e"
             ],
             [
              0.4444444444444444,
              "#bd3786"
             ],
             [
              0.5555555555555556,
              "#d8576b"
             ],
             [
              0.6666666666666666,
              "#ed7953"
             ],
             [
              0.7777777777777778,
              "#fb9f3a"
             ],
             [
              0.8888888888888888,
              "#fdca26"
             ],
             [
              1,
              "#f0f921"
             ]
            ],
            "type": "heatmapgl"
           }
          ],
          "histogram": [
           {
            "marker": {
             "pattern": {
              "fillmode": "overlay",
              "size": 10,
              "solidity": 0.2
             }
            },
            "type": "histogram"
           }
          ],
          "histogram2d": [
           {
            "colorbar": {
             "outlinewidth": 0,
             "ticks": ""
            },
            "colorscale": [
             [
              0,
              "#0d0887"
             ],
             [
              0.1111111111111111,
              "#46039f"
             ],
             [
              0.2222222222222222,
              "#7201a8"
             ],
             [
              0.3333333333333333,
              "#9c179e"
             ],
             [
              0.4444444444444444,
              "#bd3786"
             ],
             [
              0.5555555555555556,
              "#d8576b"
             ],
             [
              0.6666666666666666,
              "#ed7953"
             ],
             [
              0.7777777777777778,
              "#fb9f3a"
             ],
             [
              0.8888888888888888,
              "#fdca26"
             ],
             [
              1,
              "#f0f921"
             ]
            ],
            "type": "histogram2d"
           }
          ],
          "histogram2dcontour": [
           {
            "colorbar": {
             "outlinewidth": 0,
             "ticks": ""
            },
            "colorscale": [
             [
              0,
              "#0d0887"
             ],
             [
              0.1111111111111111,
              "#46039f"
             ],
             [
              0.2222222222222222,
              "#7201a8"
             ],
             [
              0.3333333333333333,
              "#9c179e"
             ],
             [
              0.4444444444444444,
              "#bd3786"
             ],
             [
              0.5555555555555556,
              "#d8576b"
             ],
             [
              0.6666666666666666,
              "#ed7953"
             ],
             [
              0.7777777777777778,
              "#fb9f3a"
             ],
             [
              0.8888888888888888,
              "#fdca26"
             ],
             [
              1,
              "#f0f921"
             ]
            ],
            "type": "histogram2dcontour"
           }
          ],
          "mesh3d": [
           {
            "colorbar": {
             "outlinewidth": 0,
             "ticks": ""
            },
            "type": "mesh3d"
           }
          ],
          "parcoords": [
           {
            "line": {
             "colorbar": {
              "outlinewidth": 0,
              "ticks": ""
             }
            },
            "type": "parcoords"
           }
          ],
          "pie": [
           {
            "automargin": true,
            "type": "pie"
           }
          ],
          "scatter": [
           {
            "fillpattern": {
             "fillmode": "overlay",
             "size": 10,
             "solidity": 0.2
            },
            "type": "scatter"
           }
          ],
          "scatter3d": [
           {
            "line": {
             "colorbar": {
              "outlinewidth": 0,
              "ticks": ""
             }
            },
            "marker": {
             "colorbar": {
              "outlinewidth": 0,
              "ticks": ""
             }
            },
            "type": "scatter3d"
           }
          ],
          "scattercarpet": [
           {
            "marker": {
             "colorbar": {
              "outlinewidth": 0,
              "ticks": ""
             }
            },
            "type": "scattercarpet"
           }
          ],
          "scattergeo": [
           {
            "marker": {
             "colorbar": {
              "outlinewidth": 0,
              "ticks": ""
             }
            },
            "type": "scattergeo"
           }
          ],
          "scattergl": [
           {
            "marker": {
             "colorbar": {
              "outlinewidth": 0,
              "ticks": ""
             }
            },
            "type": "scattergl"
           }
          ],
          "scattermapbox": [
           {
            "marker": {
             "colorbar": {
              "outlinewidth": 0,
              "ticks": ""
             }
            },
            "type": "scattermapbox"
           }
          ],
          "scatterpolar": [
           {
            "marker": {
             "colorbar": {
              "outlinewidth": 0,
              "ticks": ""
             }
            },
            "type": "scatterpolar"
           }
          ],
          "scatterpolargl": [
           {
            "marker": {
             "colorbar": {
              "outlinewidth": 0,
              "ticks": ""
             }
            },
            "type": "scatterpolargl"
           }
          ],
          "scatterternary": [
           {
            "marker": {
             "colorbar": {
              "outlinewidth": 0,
              "ticks": ""
             }
            },
            "type": "scatterternary"
           }
          ],
          "surface": [
           {
            "colorbar": {
             "outlinewidth": 0,
             "ticks": ""
            },
            "colorscale": [
             [
              0,
              "#0d0887"
             ],
             [
              0.1111111111111111,
              "#46039f"
             ],
             [
              0.2222222222222222,
              "#7201a8"
             ],
             [
              0.3333333333333333,
              "#9c179e"
             ],
             [
              0.4444444444444444,
              "#bd3786"
             ],
             [
              0.5555555555555556,
              "#d8576b"
             ],
             [
              0.6666666666666666,
              "#ed7953"
             ],
             [
              0.7777777777777778,
              "#fb9f3a"
             ],
             [
              0.8888888888888888,
              "#fdca26"
             ],
             [
              1,
              "#f0f921"
             ]
            ],
            "type": "surface"
           }
          ],
          "table": [
           {
            "cells": {
             "fill": {
              "color": "#EBF0F8"
             },
             "line": {
              "color": "white"
             }
            },
            "header": {
             "fill": {
              "color": "#C8D4E3"
             },
             "line": {
              "color": "white"
             }
            },
            "type": "table"
           }
          ]
         },
         "layout": {
          "annotationdefaults": {
           "arrowcolor": "#2a3f5f",
           "arrowhead": 0,
           "arrowwidth": 1
          },
          "autotypenumbers": "strict",
          "coloraxis": {
           "colorbar": {
            "outlinewidth": 0,
            "ticks": ""
           }
          },
          "colorscale": {
           "diverging": [
            [
             0,
             "#8e0152"
            ],
            [
             0.1,
             "#c51b7d"
            ],
            [
             0.2,
             "#de77ae"
            ],
            [
             0.3,
             "#f1b6da"
            ],
            [
             0.4,
             "#fde0ef"
            ],
            [
             0.5,
             "#f7f7f7"
            ],
            [
             0.6,
             "#e6f5d0"
            ],
            [
             0.7,
             "#b8e186"
            ],
            [
             0.8,
             "#7fbc41"
            ],
            [
             0.9,
             "#4d9221"
            ],
            [
             1,
             "#276419"
            ]
           ],
           "sequential": [
            [
             0,
             "#0d0887"
            ],
            [
             0.1111111111111111,
             "#46039f"
            ],
            [
             0.2222222222222222,
             "#7201a8"
            ],
            [
             0.3333333333333333,
             "#9c179e"
            ],
            [
             0.4444444444444444,
             "#bd3786"
            ],
            [
             0.5555555555555556,
             "#d8576b"
            ],
            [
             0.6666666666666666,
             "#ed7953"
            ],
            [
             0.7777777777777778,
             "#fb9f3a"
            ],
            [
             0.8888888888888888,
             "#fdca26"
            ],
            [
             1,
             "#f0f921"
            ]
           ],
           "sequentialminus": [
            [
             0,
             "#0d0887"
            ],
            [
             0.1111111111111111,
             "#46039f"
            ],
            [
             0.2222222222222222,
             "#7201a8"
            ],
            [
             0.3333333333333333,
             "#9c179e"
            ],
            [
             0.4444444444444444,
             "#bd3786"
            ],
            [
             0.5555555555555556,
             "#d8576b"
            ],
            [
             0.6666666666666666,
             "#ed7953"
            ],
            [
             0.7777777777777778,
             "#fb9f3a"
            ],
            [
             0.8888888888888888,
             "#fdca26"
            ],
            [
             1,
             "#f0f921"
            ]
           ]
          },
          "colorway": [
           "#636efa",
           "#EF553B",
           "#00cc96",
           "#ab63fa",
           "#FFA15A",
           "#19d3f3",
           "#FF6692",
           "#B6E880",
           "#FF97FF",
           "#FECB52"
          ],
          "font": {
           "color": "#2a3f5f"
          },
          "geo": {
           "bgcolor": "white",
           "lakecolor": "white",
           "landcolor": "#E5ECF6",
           "showlakes": true,
           "showland": true,
           "subunitcolor": "white"
          },
          "hoverlabel": {
           "align": "left"
          },
          "hovermode": "closest",
          "mapbox": {
           "style": "light"
          },
          "paper_bgcolor": "white",
          "plot_bgcolor": "#E5ECF6",
          "polar": {
           "angularaxis": {
            "gridcolor": "white",
            "linecolor": "white",
            "ticks": ""
           },
           "bgcolor": "#E5ECF6",
           "radialaxis": {
            "gridcolor": "white",
            "linecolor": "white",
            "ticks": ""
           }
          },
          "scene": {
           "xaxis": {
            "backgroundcolor": "#E5ECF6",
            "gridcolor": "white",
            "gridwidth": 2,
            "linecolor": "white",
            "showbackground": true,
            "ticks": "",
            "zerolinecolor": "white"
           },
           "yaxis": {
            "backgroundcolor": "#E5ECF6",
            "gridcolor": "white",
            "gridwidth": 2,
            "linecolor": "white",
            "showbackground": true,
            "ticks": "",
            "zerolinecolor": "white"
           },
           "zaxis": {
            "backgroundcolor": "#E5ECF6",
            "gridcolor": "white",
            "gridwidth": 2,
            "linecolor": "white",
            "showbackground": true,
            "ticks": "",
            "zerolinecolor": "white"
           }
          },
          "shapedefaults": {
           "line": {
            "color": "#2a3f5f"
           }
          },
          "ternary": {
           "aaxis": {
            "gridcolor": "white",
            "linecolor": "white",
            "ticks": ""
           },
           "baxis": {
            "gridcolor": "white",
            "linecolor": "white",
            "ticks": ""
           },
           "bgcolor": "#E5ECF6",
           "caxis": {
            "gridcolor": "white",
            "linecolor": "white",
            "ticks": ""
           }
          },
          "title": {
           "x": 0.05
          },
          "xaxis": {
           "automargin": true,
           "gridcolor": "white",
           "linecolor": "white",
           "ticks": "",
           "title": {
            "standoff": 15
           },
           "zerolinecolor": "white",
           "zerolinewidth": 2
          },
          "yaxis": {
           "automargin": true,
           "gridcolor": "white",
           "linecolor": "white",
           "ticks": "",
           "title": {
            "standoff": 15
           },
           "zerolinecolor": "white",
           "zerolinewidth": 2
          }
         }
        },
        "xaxis": {
         "anchor": "y",
         "domain": [
          0,
          1
         ],
         "title": {
          "text": "page"
         }
        },
        "yaxis": {
         "anchor": "x",
         "domain": [
          0,
          1
         ],
         "title": {
          "text": "counts"
         }
        }
       }
      },
      "text/html": [
       "<div>                            <div id=\"b822622e-289e-4db7-bcfb-67257feb11d8\" class=\"plotly-graph-div\" style=\"height:525px; width:100%;\"></div>            <script type=\"text/javascript\">                require([\"plotly\"], function(Plotly) {                    window.PLOTLYENV=window.PLOTLYENV || {};                                    if (document.getElementById(\"b822622e-289e-4db7-bcfb-67257feb11d8\")) {                    Plotly.newPlot(                        \"b822622e-289e-4db7-bcfb-67257feb11d8\",                        [{\"alignmentgroup\":\"True\",\"hovertemplate\":\"page 1 (main category)=blouses<br>page=%{x}<br>counts=%{y}<extra></extra>\",\"legendgroup\":\"blouses\",\"marker\":{\"color\":\"#636efa\",\"pattern\":{\"shape\":\"\"}},\"name\":\"blouses\",\"offsetgroup\":\"blouses\",\"orientation\":\"v\",\"showlegend\":true,\"textposition\":\"auto\",\"x\":[1,2,3,4],\"xaxis\":\"x\",\"y\":[16830,9056,9080,3611],\"yaxis\":\"y\",\"type\":\"bar\"},{\"alignmentgroup\":\"True\",\"hovertemplate\":\"page 1 (main category)=sale<br>page=%{x}<br>counts=%{y}<extra></extra>\",\"legendgroup\":\"sale\",\"marker\":{\"color\":\"#EF553B\",\"pattern\":{\"shape\":\"\"}},\"name\":\"sale\",\"offsetgroup\":\"sale\",\"orientation\":\"v\",\"showlegend\":true,\"textposition\":\"auto\",\"x\":[1,2,3,4,5],\"xaxis\":\"x\",\"y\":[18086,6070,6518,5250,2823],\"yaxis\":\"y\",\"type\":\"bar\"},{\"alignmentgroup\":\"True\",\"hovertemplate\":\"page 1 (main category)=skirts<br>page=%{x}<br>counts=%{y}<extra></extra>\",\"legendgroup\":\"skirts\",\"marker\":{\"color\":\"#00cc96\",\"pattern\":{\"shape\":\"\"}},\"name\":\"skirts\",\"offsetgroup\":\"skirts\",\"orientation\":\"v\",\"showlegend\":true,\"textposition\":\"auto\",\"x\":[1,2],\"xaxis\":\"x\",\"y\":[23591,14817],\"yaxis\":\"y\",\"type\":\"bar\"},{\"alignmentgroup\":\"True\",\"hovertemplate\":\"page 1 (main category)=trousers<br>page=%{x}<br>counts=%{y}<extra></extra>\",\"legendgroup\":\"trousers\",\"marker\":{\"color\":\"#ab63fa\",\"pattern\":{\"shape\":\"\"}},\"name\":\"trousers\",\"offsetgroup\":\"trousers\",\"orientation\":\"v\",\"showlegend\":true,\"textposition\":\"auto\",\"x\":[1,2,3],\"xaxis\":\"x\",\"y\":[34945,11094,3703],\"yaxis\":\"y\",\"type\":\"bar\"}],                        {\"template\":{\"data\":{\"histogram2dcontour\":[{\"type\":\"histogram2dcontour\",\"colorbar\":{\"outlinewidth\":0,\"ticks\":\"\"},\"colorscale\":[[0.0,\"#0d0887\"],[0.1111111111111111,\"#46039f\"],[0.2222222222222222,\"#7201a8\"],[0.3333333333333333,\"#9c179e\"],[0.4444444444444444,\"#bd3786\"],[0.5555555555555556,\"#d8576b\"],[0.6666666666666666,\"#ed7953\"],[0.7777777777777778,\"#fb9f3a\"],[0.8888888888888888,\"#fdca26\"],[1.0,\"#f0f921\"]]}],\"choropleth\":[{\"type\":\"choropleth\",\"colorbar\":{\"outlinewidth\":0,\"ticks\":\"\"}}],\"histogram2d\":[{\"type\":\"histogram2d\",\"colorbar\":{\"outlinewidth\":0,\"ticks\":\"\"},\"colorscale\":[[0.0,\"#0d0887\"],[0.1111111111111111,\"#46039f\"],[0.2222222222222222,\"#7201a8\"],[0.3333333333333333,\"#9c179e\"],[0.4444444444444444,\"#bd3786\"],[0.5555555555555556,\"#d8576b\"],[0.6666666666666666,\"#ed7953\"],[0.7777777777777778,\"#fb9f3a\"],[0.8888888888888888,\"#fdca26\"],[1.0,\"#f0f921\"]]}],\"heatmap\":[{\"type\":\"heatmap\",\"colorbar\":{\"outlinewidth\":0,\"ticks\":\"\"},\"colorscale\":[[0.0,\"#0d0887\"],[0.1111111111111111,\"#46039f\"],[0.2222222222222222,\"#7201a8\"],[0.3333333333333333,\"#9c179e\"],[0.4444444444444444,\"#bd3786\"],[0.5555555555555556,\"#d8576b\"],[0.6666666666666666,\"#ed7953\"],[0.7777777777777778,\"#fb9f3a\"],[0.8888888888888888,\"#fdca26\"],[1.0,\"#f0f921\"]]}],\"heatmapgl\":[{\"type\":\"heatmapgl\",\"colorbar\":{\"outlinewidth\":0,\"ticks\":\"\"},\"colorscale\":[[0.0,\"#0d0887\"],[0.1111111111111111,\"#46039f\"],[0.2222222222222222,\"#7201a8\"],[0.3333333333333333,\"#9c179e\"],[0.4444444444444444,\"#bd3786\"],[0.5555555555555556,\"#d8576b\"],[0.6666666666666666,\"#ed7953\"],[0.7777777777777778,\"#fb9f3a\"],[0.8888888888888888,\"#fdca26\"],[1.0,\"#f0f921\"]]}],\"contourcarpet\":[{\"type\":\"contourcarpet\",\"colorbar\":{\"outlinewidth\":0,\"ticks\":\"\"}}],\"contour\":[{\"type\":\"contour\",\"colorbar\":{\"outlinewidth\":0,\"ticks\":\"\"},\"colorscale\":[[0.0,\"#0d0887\"],[0.1111111111111111,\"#46039f\"],[0.2222222222222222,\"#7201a8\"],[0.3333333333333333,\"#9c179e\"],[0.4444444444444444,\"#bd3786\"],[0.5555555555555556,\"#d8576b\"],[0.6666666666666666,\"#ed7953\"],[0.7777777777777778,\"#fb9f3a\"],[0.8888888888888888,\"#fdca26\"],[1.0,\"#f0f921\"]]}],\"surface\":[{\"type\":\"surface\",\"colorbar\":{\"outlinewidth\":0,\"ticks\":\"\"},\"colorscale\":[[0.0,\"#0d0887\"],[0.1111111111111111,\"#46039f\"],[0.2222222222222222,\"#7201a8\"],[0.3333333333333333,\"#9c179e\"],[0.4444444444444444,\"#bd3786\"],[0.5555555555555556,\"#d8576b\"],[0.6666666666666666,\"#ed7953\"],[0.7777777777777778,\"#fb9f3a\"],[0.8888888888888888,\"#fdca26\"],[1.0,\"#f0f921\"]]}],\"mesh3d\":[{\"type\":\"mesh3d\",\"colorbar\":{\"outlinewidth\":0,\"ticks\":\"\"}}],\"scatter\":[{\"fillpattern\":{\"fillmode\":\"overlay\",\"size\":10,\"solidity\":0.2},\"type\":\"scatter\"}],\"parcoords\":[{\"type\":\"parcoords\",\"line\":{\"colorbar\":{\"outlinewidth\":0,\"ticks\":\"\"}}}],\"scatterpolargl\":[{\"type\":\"scatterpolargl\",\"marker\":{\"colorbar\":{\"outlinewidth\":0,\"ticks\":\"\"}}}],\"bar\":[{\"error_x\":{\"color\":\"#2a3f5f\"},\"error_y\":{\"color\":\"#2a3f5f\"},\"marker\":{\"line\":{\"color\":\"#E5ECF6\",\"width\":0.5},\"pattern\":{\"fillmode\":\"overlay\",\"size\":10,\"solidity\":0.2}},\"type\":\"bar\"}],\"scattergeo\":[{\"type\":\"scattergeo\",\"marker\":{\"colorbar\":{\"outlinewidth\":0,\"ticks\":\"\"}}}],\"scatterpolar\":[{\"type\":\"scatterpolar\",\"marker\":{\"colorbar\":{\"outlinewidth\":0,\"ticks\":\"\"}}}],\"histogram\":[{\"marker\":{\"pattern\":{\"fillmode\":\"overlay\",\"size\":10,\"solidity\":0.2}},\"type\":\"histogram\"}],\"scattergl\":[{\"type\":\"scattergl\",\"marker\":{\"colorbar\":{\"outlinewidth\":0,\"ticks\":\"\"}}}],\"scatter3d\":[{\"type\":\"scatter3d\",\"line\":{\"colorbar\":{\"outlinewidth\":0,\"ticks\":\"\"}},\"marker\":{\"colorbar\":{\"outlinewidth\":0,\"ticks\":\"\"}}}],\"scattermapbox\":[{\"type\":\"scattermapbox\",\"marker\":{\"colorbar\":{\"outlinewidth\":0,\"ticks\":\"\"}}}],\"scatterternary\":[{\"type\":\"scatterternary\",\"marker\":{\"colorbar\":{\"outlinewidth\":0,\"ticks\":\"\"}}}],\"scattercarpet\":[{\"type\":\"scattercarpet\",\"marker\":{\"colorbar\":{\"outlinewidth\":0,\"ticks\":\"\"}}}],\"carpet\":[{\"aaxis\":{\"endlinecolor\":\"#2a3f5f\",\"gridcolor\":\"white\",\"linecolor\":\"white\",\"minorgridcolor\":\"white\",\"startlinecolor\":\"#2a3f5f\"},\"baxis\":{\"endlinecolor\":\"#2a3f5f\",\"gridcolor\":\"white\",\"linecolor\":\"white\",\"minorgridcolor\":\"white\",\"startlinecolor\":\"#2a3f5f\"},\"type\":\"carpet\"}],\"table\":[{\"cells\":{\"fill\":{\"color\":\"#EBF0F8\"},\"line\":{\"color\":\"white\"}},\"header\":{\"fill\":{\"color\":\"#C8D4E3\"},\"line\":{\"color\":\"white\"}},\"type\":\"table\"}],\"barpolar\":[{\"marker\":{\"line\":{\"color\":\"#E5ECF6\",\"width\":0.5},\"pattern\":{\"fillmode\":\"overlay\",\"size\":10,\"solidity\":0.2}},\"type\":\"barpolar\"}],\"pie\":[{\"automargin\":true,\"type\":\"pie\"}]},\"layout\":{\"autotypenumbers\":\"strict\",\"colorway\":[\"#636efa\",\"#EF553B\",\"#00cc96\",\"#ab63fa\",\"#FFA15A\",\"#19d3f3\",\"#FF6692\",\"#B6E880\",\"#FF97FF\",\"#FECB52\"],\"font\":{\"color\":\"#2a3f5f\"},\"hovermode\":\"closest\",\"hoverlabel\":{\"align\":\"left\"},\"paper_bgcolor\":\"white\",\"plot_bgcolor\":\"#E5ECF6\",\"polar\":{\"bgcolor\":\"#E5ECF6\",\"angularaxis\":{\"gridcolor\":\"white\",\"linecolor\":\"white\",\"ticks\":\"\"},\"radialaxis\":{\"gridcolor\":\"white\",\"linecolor\":\"white\",\"ticks\":\"\"}},\"ternary\":{\"bgcolor\":\"#E5ECF6\",\"aaxis\":{\"gridcolor\":\"white\",\"linecolor\":\"white\",\"ticks\":\"\"},\"baxis\":{\"gridcolor\":\"white\",\"linecolor\":\"white\",\"ticks\":\"\"},\"caxis\":{\"gridcolor\":\"white\",\"linecolor\":\"white\",\"ticks\":\"\"}},\"coloraxis\":{\"colorbar\":{\"outlinewidth\":0,\"ticks\":\"\"}},\"colorscale\":{\"sequential\":[[0.0,\"#0d0887\"],[0.1111111111111111,\"#46039f\"],[0.2222222222222222,\"#7201a8\"],[0.3333333333333333,\"#9c179e\"],[0.4444444444444444,\"#bd3786\"],[0.5555555555555556,\"#d8576b\"],[0.6666666666666666,\"#ed7953\"],[0.7777777777777778,\"#fb9f3a\"],[0.8888888888888888,\"#fdca26\"],[1.0,\"#f0f921\"]],\"sequentialminus\":[[0.0,\"#0d0887\"],[0.1111111111111111,\"#46039f\"],[0.2222222222222222,\"#7201a8\"],[0.3333333333333333,\"#9c179e\"],[0.4444444444444444,\"#bd3786\"],[0.5555555555555556,\"#d8576b\"],[0.6666666666666666,\"#ed7953\"],[0.7777777777777778,\"#fb9f3a\"],[0.8888888888888888,\"#fdca26\"],[1.0,\"#f0f921\"]],\"diverging\":[[0,\"#8e0152\"],[0.1,\"#c51b7d\"],[0.2,\"#de77ae\"],[0.3,\"#f1b6da\"],[0.4,\"#fde0ef\"],[0.5,\"#f7f7f7\"],[0.6,\"#e6f5d0\"],[0.7,\"#b8e186\"],[0.8,\"#7fbc41\"],[0.9,\"#4d9221\"],[1,\"#276419\"]]},\"xaxis\":{\"gridcolor\":\"white\",\"linecolor\":\"white\",\"ticks\":\"\",\"title\":{\"standoff\":15},\"zerolinecolor\":\"white\",\"automargin\":true,\"zerolinewidth\":2},\"yaxis\":{\"gridcolor\":\"white\",\"linecolor\":\"white\",\"ticks\":\"\",\"title\":{\"standoff\":15},\"zerolinecolor\":\"white\",\"automargin\":true,\"zerolinewidth\":2},\"scene\":{\"xaxis\":{\"backgroundcolor\":\"#E5ECF6\",\"gridcolor\":\"white\",\"linecolor\":\"white\",\"showbackground\":true,\"ticks\":\"\",\"zerolinecolor\":\"white\",\"gridwidth\":2},\"yaxis\":{\"backgroundcolor\":\"#E5ECF6\",\"gridcolor\":\"white\",\"linecolor\":\"white\",\"showbackground\":true,\"ticks\":\"\",\"zerolinecolor\":\"white\",\"gridwidth\":2},\"zaxis\":{\"backgroundcolor\":\"#E5ECF6\",\"gridcolor\":\"white\",\"linecolor\":\"white\",\"showbackground\":true,\"ticks\":\"\",\"zerolinecolor\":\"white\",\"gridwidth\":2}},\"shapedefaults\":{\"line\":{\"color\":\"#2a3f5f\"}},\"annotationdefaults\":{\"arrowcolor\":\"#2a3f5f\",\"arrowhead\":0,\"arrowwidth\":1},\"geo\":{\"bgcolor\":\"white\",\"landcolor\":\"#E5ECF6\",\"subunitcolor\":\"white\",\"showland\":true,\"showlakes\":true,\"lakecolor\":\"white\"},\"title\":{\"x\":0.05},\"mapbox\":{\"style\":\"light\"}}},\"xaxis\":{\"anchor\":\"y\",\"domain\":[0.0,1.0],\"title\":{\"text\":\"page\"}},\"yaxis\":{\"anchor\":\"x\",\"domain\":[0.0,1.0],\"title\":{\"text\":\"counts\"}},\"legend\":{\"title\":{\"text\":\"page 1 (main category)\"},\"tracegroupgap\":0},\"margin\":{\"t\":60},\"barmode\":\"group\"},                        {\"responsive\": true}                    ).then(function(){\n",
       "                            \n",
       "var gd = document.getElementById('b822622e-289e-4db7-bcfb-67257feb11d8');\n",
       "var x = new MutationObserver(function (mutations, observer) {{\n",
       "        var display = window.getComputedStyle(gd).display;\n",
       "        if (!display || display === 'none') {{\n",
       "            console.log([gd, 'removed!']);\n",
       "            Plotly.purge(gd);\n",
       "            observer.disconnect();\n",
       "        }}\n",
       "}});\n",
       "\n",
       "// Listen for the removal of the full notebook cells\n",
       "var notebookContainer = gd.closest('#notebook-container');\n",
       "if (notebookContainer) {{\n",
       "    x.observe(notebookContainer, {childList: true});\n",
       "}}\n",
       "\n",
       "// Listen for the clearing of the current output cell\n",
       "var outputEl = gd.closest('.output');\n",
       "if (outputEl) {{\n",
       "    x.observe(outputEl, {childList: true});\n",
       "}}\n",
       "\n",
       "                        })                };                });            </script>        </div>"
      ]
     },
     "metadata": {},
     "output_type": "display_data"
    }
   ],
   "source": [
    "df1 = df.groupby(by=[\"page\", \"page 1 (main category)\"]).size().reset_index(name=\"counts\")\n",
    "\n",
    "px.bar(data_frame=df1, x=\"page\", y=\"counts\",\n",
    "       color=\"page 1 (main category)\", barmode=\"group\")"
   ]
  },
  {
   "cell_type": "markdown",
   "id": "0b80ecbd",
   "metadata": {
    "id": "4D9vSn6e6krm",
    "papermill": {
     "duration": 0.074993,
     "end_time": "2022-10-17T18:55:13.367566",
     "exception": false,
     "start_time": "2022-10-17T18:55:13.292573",
     "status": "completed"
    },
    "tags": []
   },
   "source": [
    "- The first page is the best for selling specially for trousers and skirts categories \n",
    "- It seems also that last page is preferred for sale products"
   ]
  },
  {
   "cell_type": "markdown",
   "id": "d08a21d2",
   "metadata": {
    "id": "XkRQNbYNNn5v",
    "papermill": {
     "duration": 0.073158,
     "end_time": "2022-10-17T18:55:13.514465",
     "exception": false,
     "start_time": "2022-10-17T18:55:13.441307",
     "status": "completed"
    },
    "tags": []
   },
   "source": [
    "we can also conclude that:\n",
    "- In page 1, The trousers are better than the other products\n",
    "- In page 2, The skirts are better than the other products\n",
    "- In page 3, The blouses are better than the other products\n",
    "- Finnaly in page 4 and 5, users taget the sales\n"
   ]
  },
  {
   "cell_type": "markdown",
   "id": "647e6862",
   "metadata": {
    "id": "4ce605c4",
    "papermill": {
     "duration": 0.073569,
     "end_time": "2022-10-17T18:55:13.661941",
     "exception": false,
     "start_time": "2022-10-17T18:55:13.588372",
     "status": "completed"
    },
    "tags": []
   },
   "source": [
    "## What is the most attractable section in page and color of product per type?"
   ]
  },
  {
   "cell_type": "code",
   "execution_count": 23,
   "id": "9c473ce5",
   "metadata": {
    "execution": {
     "iopub.execute_input": "2022-10-17T18:55:13.811889Z",
     "iopub.status.busy": "2022-10-17T18:55:13.811424Z",
     "iopub.status.idle": "2022-10-17T18:55:13.957601Z",
     "shell.execute_reply": "2022-10-17T18:55:13.956828Z"
    },
    "id": "b98da751",
    "outputId": "87119f98-3d34-4241-8292-0fc027ba4776",
    "papermill": {
     "duration": 0.225121,
     "end_time": "2022-10-17T18:55:13.961058",
     "exception": false,
     "start_time": "2022-10-17T18:55:13.735937",
     "status": "completed"
    },
    "tags": []
   },
   "outputs": [
    {
     "data": {
      "application/vnd.plotly.v1+json": {
       "config": {
        "plotlyServerURL": "https://plot.ly"
       },
       "data": [
        {
         "hovertemplate": "colour=beige<br>location=%{x}<br>counts=%{marker.size}<extra></extra>",
         "legendgroup": "beige",
         "marker": {
          "color": "#636efa",
          "size": [
           2416,
           509,
           1744,
           1388,
           1728
          ],
          "sizemode": "area",
          "sizeref": 11.354444444444445,
          "symbol": "circle"
         },
         "mode": "markers",
         "name": "beige",
         "orientation": "v",
         "showlegend": true,
         "type": "scatter",
         "x": [
          "bottom in the middle",
          "bottom left",
          "bottom right",
          "top left",
          "top right"
         ],
         "xaxis": "x",
         "y": [
          2416,
          509,
          1744,
          1388,
          1728
         ],
         "yaxis": "y"
        },
        {
         "hovertemplate": "colour=black<br>location=%{x}<br>counts=%{marker.size}<extra></extra>",
         "legendgroup": "black",
         "marker": {
          "color": "#EF553B",
          "size": [
           3062,
           10219,
           5349,
           3422,
           3820,
           3892
          ],
          "sizemode": "area",
          "sizeref": 11.354444444444445,
          "symbol": "circle"
         },
         "mode": "markers",
         "name": "black",
         "orientation": "v",
         "showlegend": true,
         "type": "scatter",
         "x": [
          "bottom in the middle",
          "bottom left",
          "bottom right",
          "top in the middle",
          "top left",
          "top right"
         ],
         "xaxis": "x",
         "y": [
          3062,
          10219,
          5349,
          3422,
          3820,
          3892
         ],
         "yaxis": "y"
        },
        {
         "hovertemplate": "colour=blue<br>location=%{x}<br>counts=%{marker.size}<extra></extra>",
         "legendgroup": "blue",
         "marker": {
          "color": "#00cc96",
          "size": [
           1024,
           5069,
           7771,
           9845,
           5550
          ],
          "sizemode": "area",
          "sizeref": 11.354444444444445,
          "symbol": "circle"
         },
         "mode": "markers",
         "name": "blue",
         "orientation": "v",
         "showlegend": true,
         "type": "scatter",
         "x": [
          "bottom in the middle",
          "bottom left",
          "top in the middle",
          "top left",
          "top right"
         ],
         "xaxis": "x",
         "y": [
          1024,
          5069,
          7771,
          9845,
          5550
         ],
         "yaxis": "y"
        },
        {
         "hovertemplate": "colour=brown<br>location=%{x}<br>counts=%{marker.size}<extra></extra>",
         "legendgroup": "brown",
         "marker": {
          "color": "#ab63fa",
          "size": [
           2834,
           2388,
           1157,
           3923,
           3682,
           2533
          ],
          "sizemode": "area",
          "sizeref": 11.354444444444445,
          "symbol": "circle"
         },
         "mode": "markers",
         "name": "brown",
         "orientation": "v",
         "showlegend": true,
         "type": "scatter",
         "x": [
          "bottom in the middle",
          "bottom left",
          "bottom right",
          "top in the middle",
          "top left",
          "top right"
         ],
         "xaxis": "x",
         "y": [
          2834,
          2388,
          1157,
          3923,
          3682,
          2533
         ],
         "yaxis": "y"
        },
        {
         "hovertemplate": "colour=gray<br>location=%{x}<br>counts=%{marker.size}<extra></extra>",
         "legendgroup": "gray",
         "marker": {
          "color": "#FFA15A",
          "size": [
           4879,
           2655,
           2008,
           3057,
           2427,
           2450
          ],
          "sizemode": "area",
          "sizeref": 11.354444444444445,
          "symbol": "circle"
         },
         "mode": "markers",
         "name": "gray",
         "orientation": "v",
         "showlegend": true,
         "type": "scatter",
         "x": [
          "bottom in the middle",
          "bottom left",
          "bottom right",
          "top in the middle",
          "top left",
          "top right"
         ],
         "xaxis": "x",
         "y": [
          4879,
          2655,
          2008,
          3057,
          2427,
          2450
         ],
         "yaxis": "y"
        },
        {
         "hovertemplate": "colour=of many colors<br>location=%{x}<br>counts=%{marker.size}<extra></extra>",
         "legendgroup": "of many colors",
         "marker": {
          "color": "#19d3f3",
          "size": [
           7481,
           3323,
           1830,
           529,
           218,
           150
          ],
          "sizemode": "area",
          "sizeref": 11.354444444444445,
          "symbol": "circle"
         },
         "mode": "markers",
         "name": "of many colors",
         "orientation": "v",
         "showlegend": true,
         "type": "scatter",
         "x": [
          "bottom in the middle",
          "bottom left",
          "bottom right",
          "top in the middle",
          "top left",
          "top right"
         ],
         "xaxis": "x",
         "y": [
          7481,
          3323,
          1830,
          529,
          218,
          150
         ],
         "yaxis": "y"
        },
        {
         "hovertemplate": "colour=red<br>location=%{x}<br>counts=%{marker.size}<extra></extra>",
         "legendgroup": "red",
         "marker": {
          "color": "#FF6692",
          "size": [
           2254,
           148,
           1408,
           465,
           4401,
           154
          ],
          "sizemode": "area",
          "sizeref": 11.354444444444445,
          "symbol": "circle"
         },
         "mode": "markers",
         "name": "red",
         "orientation": "v",
         "showlegend": true,
         "type": "scatter",
         "x": [
          "bottom in the middle",
          "bottom left",
          "bottom right",
          "top in the middle",
          "top left",
          "top right"
         ],
         "xaxis": "x",
         "y": [
          2254,
          148,
          1408,
          465,
          4401,
          154
         ],
         "yaxis": "y"
        },
        {
         "hovertemplate": "colour=white<br>location=%{x}<br>counts=%{marker.size}<extra></extra>",
         "legendgroup": "white",
         "marker": {
          "color": "#B6E880",
          "size": [
           3833,
           1523,
           4266,
           3069,
           1959,
           1289
          ],
          "sizemode": "area",
          "sizeref": 11.354444444444445,
          "symbol": "circle"
         },
         "mode": "markers",
         "name": "white",
         "orientation": "v",
         "showlegend": true,
         "type": "scatter",
         "x": [
          "bottom in the middle",
          "bottom left",
          "bottom right",
          "top in the middle",
          "top left",
          "top right"
         ],
         "xaxis": "x",
         "y": [
          3833,
          1523,
          4266,
          3069,
          1959,
          1289
         ],
         "yaxis": "y"
        },
        {
         "hovertemplate": "colour=burgundy<br>location=%{x}<br>counts=%{marker.size}<extra></extra>",
         "legendgroup": "burgundy",
         "marker": {
          "color": "#FF97FF",
          "size": [
           379,
           486,
           802
          ],
          "sizemode": "area",
          "sizeref": 11.354444444444445,
          "symbol": "circle"
         },
         "mode": "markers",
         "name": "burgundy",
         "orientation": "v",
         "showlegend": true,
         "type": "scatter",
         "x": [
          "bottom left",
          "top in the middle",
          "top left"
         ],
         "xaxis": "x",
         "y": [
          379,
          486,
          802
         ],
         "yaxis": "y"
        },
        {
         "hovertemplate": "colour=green<br>location=%{x}<br>counts=%{marker.size}<extra></extra>",
         "legendgroup": "green",
         "marker": {
          "color": "#FECB52",
          "size": [
           884,
           2222,
           2330,
           831,
           609
          ],
          "sizemode": "area",
          "sizeref": 11.354444444444445,
          "symbol": "circle"
         },
         "mode": "markers",
         "name": "green",
         "orientation": "v",
         "showlegend": true,
         "type": "scatter",
         "x": [
          "bottom left",
          "bottom right",
          "top in the middle",
          "top left",
          "top right"
         ],
         "xaxis": "x",
         "y": [
          884,
          2222,
          2330,
          831,
          609
         ],
         "yaxis": "y"
        },
        {
         "hovertemplate": "colour=violet<br>location=%{x}<br>counts=%{marker.size}<extra></extra>",
         "legendgroup": "violet",
         "marker": {
          "color": "#636efa",
          "size": [
           280,
           595,
           758,
           2279,
           2383
          ],
          "sizemode": "area",
          "sizeref": 11.354444444444445,
          "symbol": "circle"
         },
         "mode": "markers",
         "name": "violet",
         "orientation": "v",
         "showlegend": true,
         "type": "scatter",
         "x": [
          "bottom left",
          "bottom right",
          "top in the middle",
          "top left",
          "top right"
         ],
         "xaxis": "x",
         "y": [
          280,
          595,
          758,
          2279,
          2383
         ],
         "yaxis": "y"
        },
        {
         "hovertemplate": "colour=pink<br>location=%{x}<br>counts=%{marker.size}<extra></extra>",
         "legendgroup": "pink",
         "marker": {
          "color": "#EF553B",
          "size": [
           164,
           3994,
           216,
           918
          ],
          "sizemode": "area",
          "sizeref": 11.354444444444445,
          "symbol": "circle"
         },
         "mode": "markers",
         "name": "pink",
         "orientation": "v",
         "showlegend": true,
         "type": "scatter",
         "x": [
          "bottom right",
          "top in the middle",
          "top left",
          "top right"
         ],
         "xaxis": "x",
         "y": [
          164,
          3994,
          216,
          918
         ],
         "yaxis": "y"
        },
        {
         "hovertemplate": "colour=olive<br>location=%{x}<br>counts=%{marker.size}<extra></extra>",
         "legendgroup": "olive",
         "marker": {
          "color": "#00cc96",
          "size": [
           3579
          ],
          "sizemode": "area",
          "sizeref": 11.354444444444445,
          "symbol": "circle"
         },
         "mode": "markers",
         "name": "olive",
         "orientation": "v",
         "showlegend": true,
         "type": "scatter",
         "x": [
          "top in the middle"
         ],
         "xaxis": "x",
         "y": [
          3579
         ],
         "yaxis": "y"
        },
        {
         "hovertemplate": "colour=navy blue<br>location=%{x}<br>counts=%{marker.size}<extra></extra>",
         "legendgroup": "navy blue",
         "marker": {
          "color": "#ab63fa",
          "size": [
           2664
          ],
          "sizemode": "area",
          "sizeref": 11.354444444444445,
          "symbol": "circle"
         },
         "mode": "markers",
         "name": "navy blue",
         "orientation": "v",
         "showlegend": true,
         "type": "scatter",
         "x": [
          "top left"
         ],
         "xaxis": "x",
         "y": [
          2664
         ],
         "yaxis": "y"
        }
       ],
       "layout": {
        "legend": {
         "itemsizing": "constant",
         "title": {
          "text": "colour"
         },
         "tracegroupgap": 0
        },
        "margin": {
         "t": 60
        },
        "template": {
         "data": {
          "bar": [
           {
            "error_x": {
             "color": "#2a3f5f"
            },
            "error_y": {
             "color": "#2a3f5f"
            },
            "marker": {
             "line": {
              "color": "#E5ECF6",
              "width": 0.5
             },
             "pattern": {
              "fillmode": "overlay",
              "size": 10,
              "solidity": 0.2
             }
            },
            "type": "bar"
           }
          ],
          "barpolar": [
           {
            "marker": {
             "line": {
              "color": "#E5ECF6",
              "width": 0.5
             },
             "pattern": {
              "fillmode": "overlay",
              "size": 10,
              "solidity": 0.2
             }
            },
            "type": "barpolar"
           }
          ],
          "carpet": [
           {
            "aaxis": {
             "endlinecolor": "#2a3f5f",
             "gridcolor": "white",
             "linecolor": "white",
             "minorgridcolor": "white",
             "startlinecolor": "#2a3f5f"
            },
            "baxis": {
             "endlinecolor": "#2a3f5f",
             "gridcolor": "white",
             "linecolor": "white",
             "minorgridcolor": "white",
             "startlinecolor": "#2a3f5f"
            },
            "type": "carpet"
           }
          ],
          "choropleth": [
           {
            "colorbar": {
             "outlinewidth": 0,
             "ticks": ""
            },
            "type": "choropleth"
           }
          ],
          "contour": [
           {
            "colorbar": {
             "outlinewidth": 0,
             "ticks": ""
            },
            "colorscale": [
             [
              0,
              "#0d0887"
             ],
             [
              0.1111111111111111,
              "#46039f"
             ],
             [
              0.2222222222222222,
              "#7201a8"
             ],
             [
              0.3333333333333333,
              "#9c179e"
             ],
             [
              0.4444444444444444,
              "#bd3786"
             ],
             [
              0.5555555555555556,
              "#d8576b"
             ],
             [
              0.6666666666666666,
              "#ed7953"
             ],
             [
              0.7777777777777778,
              "#fb9f3a"
             ],
             [
              0.8888888888888888,
              "#fdca26"
             ],
             [
              1,
              "#f0f921"
             ]
            ],
            "type": "contour"
           }
          ],
          "contourcarpet": [
           {
            "colorbar": {
             "outlinewidth": 0,
             "ticks": ""
            },
            "type": "contourcarpet"
           }
          ],
          "heatmap": [
           {
            "colorbar": {
             "outlinewidth": 0,
             "ticks": ""
            },
            "colorscale": [
             [
              0,
              "#0d0887"
             ],
             [
              0.1111111111111111,
              "#46039f"
             ],
             [
              0.2222222222222222,
              "#7201a8"
             ],
             [
              0.3333333333333333,
              "#9c179e"
             ],
             [
              0.4444444444444444,
              "#bd3786"
             ],
             [
              0.5555555555555556,
              "#d8576b"
             ],
             [
              0.6666666666666666,
              "#ed7953"
             ],
             [
              0.7777777777777778,
              "#fb9f3a"
             ],
             [
              0.8888888888888888,
              "#fdca26"
             ],
             [
              1,
              "#f0f921"
             ]
            ],
            "type": "heatmap"
           }
          ],
          "heatmapgl": [
           {
            "colorbar": {
             "outlinewidth": 0,
             "ticks": ""
            },
            "colorscale": [
             [
              0,
              "#0d0887"
             ],
             [
              0.1111111111111111,
              "#46039f"
             ],
             [
              0.2222222222222222,
              "#7201a8"
             ],
             [
              0.3333333333333333,
              "#9c179e"
             ],
             [
              0.4444444444444444,
              "#bd3786"
             ],
             [
              0.5555555555555556,
              "#d8576b"
             ],
             [
              0.6666666666666666,
              "#ed7953"
             ],
             [
              0.7777777777777778,
              "#fb9f3a"
             ],
             [
              0.8888888888888888,
              "#fdca26"
             ],
             [
              1,
              "#f0f921"
             ]
            ],
            "type": "heatmapgl"
           }
          ],
          "histogram": [
           {
            "marker": {
             "pattern": {
              "fillmode": "overlay",
              "size": 10,
              "solidity": 0.2
             }
            },
            "type": "histogram"
           }
          ],
          "histogram2d": [
           {
            "colorbar": {
             "outlinewidth": 0,
             "ticks": ""
            },
            "colorscale": [
             [
              0,
              "#0d0887"
             ],
             [
              0.1111111111111111,
              "#46039f"
             ],
             [
              0.2222222222222222,
              "#7201a8"
             ],
             [
              0.3333333333333333,
              "#9c179e"
             ],
             [
              0.4444444444444444,
              "#bd3786"
             ],
             [
              0.5555555555555556,
              "#d8576b"
             ],
             [
              0.6666666666666666,
              "#ed7953"
             ],
             [
              0.7777777777777778,
              "#fb9f3a"
             ],
             [
              0.8888888888888888,
              "#fdca26"
             ],
             [
              1,
              "#f0f921"
             ]
            ],
            "type": "histogram2d"
           }
          ],
          "histogram2dcontour": [
           {
            "colorbar": {
             "outlinewidth": 0,
             "ticks": ""
            },
            "colorscale": [
             [
              0,
              "#0d0887"
             ],
             [
              0.1111111111111111,
              "#46039f"
             ],
             [
              0.2222222222222222,
              "#7201a8"
             ],
             [
              0.3333333333333333,
              "#9c179e"
             ],
             [
              0.4444444444444444,
              "#bd3786"
             ],
             [
              0.5555555555555556,
              "#d8576b"
             ],
             [
              0.6666666666666666,
              "#ed7953"
             ],
             [
              0.7777777777777778,
              "#fb9f3a"
             ],
             [
              0.8888888888888888,
              "#fdca26"
             ],
             [
              1,
              "#f0f921"
             ]
            ],
            "type": "histogram2dcontour"
           }
          ],
          "mesh3d": [
           {
            "colorbar": {
             "outlinewidth": 0,
             "ticks": ""
            },
            "type": "mesh3d"
           }
          ],
          "parcoords": [
           {
            "line": {
             "colorbar": {
              "outlinewidth": 0,
              "ticks": ""
             }
            },
            "type": "parcoords"
           }
          ],
          "pie": [
           {
            "automargin": true,
            "type": "pie"
           }
          ],
          "scatter": [
           {
            "fillpattern": {
             "fillmode": "overlay",
             "size": 10,
             "solidity": 0.2
            },
            "type": "scatter"
           }
          ],
          "scatter3d": [
           {
            "line": {
             "colorbar": {
              "outlinewidth": 0,
              "ticks": ""
             }
            },
            "marker": {
             "colorbar": {
              "outlinewidth": 0,
              "ticks": ""
             }
            },
            "type": "scatter3d"
           }
          ],
          "scattercarpet": [
           {
            "marker": {
             "colorbar": {
              "outlinewidth": 0,
              "ticks": ""
             }
            },
            "type": "scattercarpet"
           }
          ],
          "scattergeo": [
           {
            "marker": {
             "colorbar": {
              "outlinewidth": 0,
              "ticks": ""
             }
            },
            "type": "scattergeo"
           }
          ],
          "scattergl": [
           {
            "marker": {
             "colorbar": {
              "outlinewidth": 0,
              "ticks": ""
             }
            },
            "type": "scattergl"
           }
          ],
          "scattermapbox": [
           {
            "marker": {
             "colorbar": {
              "outlinewidth": 0,
              "ticks": ""
             }
            },
            "type": "scattermapbox"
           }
          ],
          "scatterpolar": [
           {
            "marker": {
             "colorbar": {
              "outlinewidth": 0,
              "ticks": ""
             }
            },
            "type": "scatterpolar"
           }
          ],
          "scatterpolargl": [
           {
            "marker": {
             "colorbar": {
              "outlinewidth": 0,
              "ticks": ""
             }
            },
            "type": "scatterpolargl"
           }
          ],
          "scatterternary": [
           {
            "marker": {
             "colorbar": {
              "outlinewidth": 0,
              "ticks": ""
             }
            },
            "type": "scatterternary"
           }
          ],
          "surface": [
           {
            "colorbar": {
             "outlinewidth": 0,
             "ticks": ""
            },
            "colorscale": [
             [
              0,
              "#0d0887"
             ],
             [
              0.1111111111111111,
              "#46039f"
             ],
             [
              0.2222222222222222,
              "#7201a8"
             ],
             [
              0.3333333333333333,
              "#9c179e"
             ],
             [
              0.4444444444444444,
              "#bd3786"
             ],
             [
              0.5555555555555556,
              "#d8576b"
             ],
             [
              0.6666666666666666,
              "#ed7953"
             ],
             [
              0.7777777777777778,
              "#fb9f3a"
             ],
             [
              0.8888888888888888,
              "#fdca26"
             ],
             [
              1,
              "#f0f921"
             ]
            ],
            "type": "surface"
           }
          ],
          "table": [
           {
            "cells": {
             "fill": {
              "color": "#EBF0F8"
             },
             "line": {
              "color": "white"
             }
            },
            "header": {
             "fill": {
              "color": "#C8D4E3"
             },
             "line": {
              "color": "white"
             }
            },
            "type": "table"
           }
          ]
         },
         "layout": {
          "annotationdefaults": {
           "arrowcolor": "#2a3f5f",
           "arrowhead": 0,
           "arrowwidth": 1
          },
          "autotypenumbers": "strict",
          "coloraxis": {
           "colorbar": {
            "outlinewidth": 0,
            "ticks": ""
           }
          },
          "colorscale": {
           "diverging": [
            [
             0,
             "#8e0152"
            ],
            [
             0.1,
             "#c51b7d"
            ],
            [
             0.2,
             "#de77ae"
            ],
            [
             0.3,
             "#f1b6da"
            ],
            [
             0.4,
             "#fde0ef"
            ],
            [
             0.5,
             "#f7f7f7"
            ],
            [
             0.6,
             "#e6f5d0"
            ],
            [
             0.7,
             "#b8e186"
            ],
            [
             0.8,
             "#7fbc41"
            ],
            [
             0.9,
             "#4d9221"
            ],
            [
             1,
             "#276419"
            ]
           ],
           "sequential": [
            [
             0,
             "#0d0887"
            ],
            [
             0.1111111111111111,
             "#46039f"
            ],
            [
             0.2222222222222222,
             "#7201a8"
            ],
            [
             0.3333333333333333,
             "#9c179e"
            ],
            [
             0.4444444444444444,
             "#bd3786"
            ],
            [
             0.5555555555555556,
             "#d8576b"
            ],
            [
             0.6666666666666666,
             "#ed7953"
            ],
            [
             0.7777777777777778,
             "#fb9f3a"
            ],
            [
             0.8888888888888888,
             "#fdca26"
            ],
            [
             1,
             "#f0f921"
            ]
           ],
           "sequentialminus": [
            [
             0,
             "#0d0887"
            ],
            [
             0.1111111111111111,
             "#46039f"
            ],
            [
             0.2222222222222222,
             "#7201a8"
            ],
            [
             0.3333333333333333,
             "#9c179e"
            ],
            [
             0.4444444444444444,
             "#bd3786"
            ],
            [
             0.5555555555555556,
             "#d8576b"
            ],
            [
             0.6666666666666666,
             "#ed7953"
            ],
            [
             0.7777777777777778,
             "#fb9f3a"
            ],
            [
             0.8888888888888888,
             "#fdca26"
            ],
            [
             1,
             "#f0f921"
            ]
           ]
          },
          "colorway": [
           "#636efa",
           "#EF553B",
           "#00cc96",
           "#ab63fa",
           "#FFA15A",
           "#19d3f3",
           "#FF6692",
           "#B6E880",
           "#FF97FF",
           "#FECB52"
          ],
          "font": {
           "color": "#2a3f5f"
          },
          "geo": {
           "bgcolor": "white",
           "lakecolor": "white",
           "landcolor": "#E5ECF6",
           "showlakes": true,
           "showland": true,
           "subunitcolor": "white"
          },
          "hoverlabel": {
           "align": "left"
          },
          "hovermode": "closest",
          "mapbox": {
           "style": "light"
          },
          "paper_bgcolor": "white",
          "plot_bgcolor": "#E5ECF6",
          "polar": {
           "angularaxis": {
            "gridcolor": "white",
            "linecolor": "white",
            "ticks": ""
           },
           "bgcolor": "#E5ECF6",
           "radialaxis": {
            "gridcolor": "white",
            "linecolor": "white",
            "ticks": ""
           }
          },
          "scene": {
           "xaxis": {
            "backgroundcolor": "#E5ECF6",
            "gridcolor": "white",
            "gridwidth": 2,
            "linecolor": "white",
            "showbackground": true,
            "ticks": "",
            "zerolinecolor": "white"
           },
           "yaxis": {
            "backgroundcolor": "#E5ECF6",
            "gridcolor": "white",
            "gridwidth": 2,
            "linecolor": "white",
            "showbackground": true,
            "ticks": "",
            "zerolinecolor": "white"
           },
           "zaxis": {
            "backgroundcolor": "#E5ECF6",
            "gridcolor": "white",
            "gridwidth": 2,
            "linecolor": "white",
            "showbackground": true,
            "ticks": "",
            "zerolinecolor": "white"
           }
          },
          "shapedefaults": {
           "line": {
            "color": "#2a3f5f"
           }
          },
          "ternary": {
           "aaxis": {
            "gridcolor": "white",
            "linecolor": "white",
            "ticks": ""
           },
           "baxis": {
            "gridcolor": "white",
            "linecolor": "white",
            "ticks": ""
           },
           "bgcolor": "#E5ECF6",
           "caxis": {
            "gridcolor": "white",
            "linecolor": "white",
            "ticks": ""
           }
          },
          "title": {
           "x": 0.05
          },
          "xaxis": {
           "automargin": true,
           "gridcolor": "white",
           "linecolor": "white",
           "ticks": "",
           "title": {
            "standoff": 15
           },
           "zerolinecolor": "white",
           "zerolinewidth": 2
          },
          "yaxis": {
           "automargin": true,
           "gridcolor": "white",
           "linecolor": "white",
           "ticks": "",
           "title": {
            "standoff": 15
           },
           "zerolinecolor": "white",
           "zerolinewidth": 2
          }
         }
        },
        "xaxis": {
         "anchor": "y",
         "domain": [
          0,
          1
         ],
         "title": {
          "text": "location"
         }
        },
        "yaxis": {
         "anchor": "x",
         "domain": [
          0,
          1
         ],
         "title": {
          "text": "counts"
         }
        }
       }
      },
      "text/html": [
       "<div>                            <div id=\"5d5415c6-e6bb-4219-8ef1-2ffcd850abaa\" class=\"plotly-graph-div\" style=\"height:525px; width:100%;\"></div>            <script type=\"text/javascript\">                require([\"plotly\"], function(Plotly) {                    window.PLOTLYENV=window.PLOTLYENV || {};                                    if (document.getElementById(\"5d5415c6-e6bb-4219-8ef1-2ffcd850abaa\")) {                    Plotly.newPlot(                        \"5d5415c6-e6bb-4219-8ef1-2ffcd850abaa\",                        [{\"hovertemplate\":\"colour=beige<br>location=%{x}<br>counts=%{marker.size}<extra></extra>\",\"legendgroup\":\"beige\",\"marker\":{\"color\":\"#636efa\",\"size\":[2416,509,1744,1388,1728],\"sizemode\":\"area\",\"sizeref\":11.354444444444445,\"symbol\":\"circle\"},\"mode\":\"markers\",\"name\":\"beige\",\"orientation\":\"v\",\"showlegend\":true,\"x\":[\"bottom in the middle\",\"bottom left\",\"bottom right\",\"top left\",\"top right\"],\"xaxis\":\"x\",\"y\":[2416,509,1744,1388,1728],\"yaxis\":\"y\",\"type\":\"scatter\"},{\"hovertemplate\":\"colour=black<br>location=%{x}<br>counts=%{marker.size}<extra></extra>\",\"legendgroup\":\"black\",\"marker\":{\"color\":\"#EF553B\",\"size\":[3062,10219,5349,3422,3820,3892],\"sizemode\":\"area\",\"sizeref\":11.354444444444445,\"symbol\":\"circle\"},\"mode\":\"markers\",\"name\":\"black\",\"orientation\":\"v\",\"showlegend\":true,\"x\":[\"bottom in the middle\",\"bottom left\",\"bottom right\",\"top in the middle\",\"top left\",\"top right\"],\"xaxis\":\"x\",\"y\":[3062,10219,5349,3422,3820,3892],\"yaxis\":\"y\",\"type\":\"scatter\"},{\"hovertemplate\":\"colour=blue<br>location=%{x}<br>counts=%{marker.size}<extra></extra>\",\"legendgroup\":\"blue\",\"marker\":{\"color\":\"#00cc96\",\"size\":[1024,5069,7771,9845,5550],\"sizemode\":\"area\",\"sizeref\":11.354444444444445,\"symbol\":\"circle\"},\"mode\":\"markers\",\"name\":\"blue\",\"orientation\":\"v\",\"showlegend\":true,\"x\":[\"bottom in the middle\",\"bottom left\",\"top in the middle\",\"top left\",\"top right\"],\"xaxis\":\"x\",\"y\":[1024,5069,7771,9845,5550],\"yaxis\":\"y\",\"type\":\"scatter\"},{\"hovertemplate\":\"colour=brown<br>location=%{x}<br>counts=%{marker.size}<extra></extra>\",\"legendgroup\":\"brown\",\"marker\":{\"color\":\"#ab63fa\",\"size\":[2834,2388,1157,3923,3682,2533],\"sizemode\":\"area\",\"sizeref\":11.354444444444445,\"symbol\":\"circle\"},\"mode\":\"markers\",\"name\":\"brown\",\"orientation\":\"v\",\"showlegend\":true,\"x\":[\"bottom in the middle\",\"bottom left\",\"bottom right\",\"top in the middle\",\"top left\",\"top right\"],\"xaxis\":\"x\",\"y\":[2834,2388,1157,3923,3682,2533],\"yaxis\":\"y\",\"type\":\"scatter\"},{\"hovertemplate\":\"colour=gray<br>location=%{x}<br>counts=%{marker.size}<extra></extra>\",\"legendgroup\":\"gray\",\"marker\":{\"color\":\"#FFA15A\",\"size\":[4879,2655,2008,3057,2427,2450],\"sizemode\":\"area\",\"sizeref\":11.354444444444445,\"symbol\":\"circle\"},\"mode\":\"markers\",\"name\":\"gray\",\"orientation\":\"v\",\"showlegend\":true,\"x\":[\"bottom in the middle\",\"bottom left\",\"bottom right\",\"top in the middle\",\"top left\",\"top right\"],\"xaxis\":\"x\",\"y\":[4879,2655,2008,3057,2427,2450],\"yaxis\":\"y\",\"type\":\"scatter\"},{\"hovertemplate\":\"colour=of many colors<br>location=%{x}<br>counts=%{marker.size}<extra></extra>\",\"legendgroup\":\"of many colors\",\"marker\":{\"color\":\"#19d3f3\",\"size\":[7481,3323,1830,529,218,150],\"sizemode\":\"area\",\"sizeref\":11.354444444444445,\"symbol\":\"circle\"},\"mode\":\"markers\",\"name\":\"of many colors\",\"orientation\":\"v\",\"showlegend\":true,\"x\":[\"bottom in the middle\",\"bottom left\",\"bottom right\",\"top in the middle\",\"top left\",\"top right\"],\"xaxis\":\"x\",\"y\":[7481,3323,1830,529,218,150],\"yaxis\":\"y\",\"type\":\"scatter\"},{\"hovertemplate\":\"colour=red<br>location=%{x}<br>counts=%{marker.size}<extra></extra>\",\"legendgroup\":\"red\",\"marker\":{\"color\":\"#FF6692\",\"size\":[2254,148,1408,465,4401,154],\"sizemode\":\"area\",\"sizeref\":11.354444444444445,\"symbol\":\"circle\"},\"mode\":\"markers\",\"name\":\"red\",\"orientation\":\"v\",\"showlegend\":true,\"x\":[\"bottom in the middle\",\"bottom left\",\"bottom right\",\"top in the middle\",\"top left\",\"top right\"],\"xaxis\":\"x\",\"y\":[2254,148,1408,465,4401,154],\"yaxis\":\"y\",\"type\":\"scatter\"},{\"hovertemplate\":\"colour=white<br>location=%{x}<br>counts=%{marker.size}<extra></extra>\",\"legendgroup\":\"white\",\"marker\":{\"color\":\"#B6E880\",\"size\":[3833,1523,4266,3069,1959,1289],\"sizemode\":\"area\",\"sizeref\":11.354444444444445,\"symbol\":\"circle\"},\"mode\":\"markers\",\"name\":\"white\",\"orientation\":\"v\",\"showlegend\":true,\"x\":[\"bottom in the middle\",\"bottom left\",\"bottom right\",\"top in the middle\",\"top left\",\"top right\"],\"xaxis\":\"x\",\"y\":[3833,1523,4266,3069,1959,1289],\"yaxis\":\"y\",\"type\":\"scatter\"},{\"hovertemplate\":\"colour=burgundy<br>location=%{x}<br>counts=%{marker.size}<extra></extra>\",\"legendgroup\":\"burgundy\",\"marker\":{\"color\":\"#FF97FF\",\"size\":[379,486,802],\"sizemode\":\"area\",\"sizeref\":11.354444444444445,\"symbol\":\"circle\"},\"mode\":\"markers\",\"name\":\"burgundy\",\"orientation\":\"v\",\"showlegend\":true,\"x\":[\"bottom left\",\"top in the middle\",\"top left\"],\"xaxis\":\"x\",\"y\":[379,486,802],\"yaxis\":\"y\",\"type\":\"scatter\"},{\"hovertemplate\":\"colour=green<br>location=%{x}<br>counts=%{marker.size}<extra></extra>\",\"legendgroup\":\"green\",\"marker\":{\"color\":\"#FECB52\",\"size\":[884,2222,2330,831,609],\"sizemode\":\"area\",\"sizeref\":11.354444444444445,\"symbol\":\"circle\"},\"mode\":\"markers\",\"name\":\"green\",\"orientation\":\"v\",\"showlegend\":true,\"x\":[\"bottom left\",\"bottom right\",\"top in the middle\",\"top left\",\"top right\"],\"xaxis\":\"x\",\"y\":[884,2222,2330,831,609],\"yaxis\":\"y\",\"type\":\"scatter\"},{\"hovertemplate\":\"colour=violet<br>location=%{x}<br>counts=%{marker.size}<extra></extra>\",\"legendgroup\":\"violet\",\"marker\":{\"color\":\"#636efa\",\"size\":[280,595,758,2279,2383],\"sizemode\":\"area\",\"sizeref\":11.354444444444445,\"symbol\":\"circle\"},\"mode\":\"markers\",\"name\":\"violet\",\"orientation\":\"v\",\"showlegend\":true,\"x\":[\"bottom left\",\"bottom right\",\"top in the middle\",\"top left\",\"top right\"],\"xaxis\":\"x\",\"y\":[280,595,758,2279,2383],\"yaxis\":\"y\",\"type\":\"scatter\"},{\"hovertemplate\":\"colour=pink<br>location=%{x}<br>counts=%{marker.size}<extra></extra>\",\"legendgroup\":\"pink\",\"marker\":{\"color\":\"#EF553B\",\"size\":[164,3994,216,918],\"sizemode\":\"area\",\"sizeref\":11.354444444444445,\"symbol\":\"circle\"},\"mode\":\"markers\",\"name\":\"pink\",\"orientation\":\"v\",\"showlegend\":true,\"x\":[\"bottom right\",\"top in the middle\",\"top left\",\"top right\"],\"xaxis\":\"x\",\"y\":[164,3994,216,918],\"yaxis\":\"y\",\"type\":\"scatter\"},{\"hovertemplate\":\"colour=olive<br>location=%{x}<br>counts=%{marker.size}<extra></extra>\",\"legendgroup\":\"olive\",\"marker\":{\"color\":\"#00cc96\",\"size\":[3579],\"sizemode\":\"area\",\"sizeref\":11.354444444444445,\"symbol\":\"circle\"},\"mode\":\"markers\",\"name\":\"olive\",\"orientation\":\"v\",\"showlegend\":true,\"x\":[\"top in the middle\"],\"xaxis\":\"x\",\"y\":[3579],\"yaxis\":\"y\",\"type\":\"scatter\"},{\"hovertemplate\":\"colour=navy blue<br>location=%{x}<br>counts=%{marker.size}<extra></extra>\",\"legendgroup\":\"navy blue\",\"marker\":{\"color\":\"#ab63fa\",\"size\":[2664],\"sizemode\":\"area\",\"sizeref\":11.354444444444445,\"symbol\":\"circle\"},\"mode\":\"markers\",\"name\":\"navy blue\",\"orientation\":\"v\",\"showlegend\":true,\"x\":[\"top left\"],\"xaxis\":\"x\",\"y\":[2664],\"yaxis\":\"y\",\"type\":\"scatter\"}],                        {\"template\":{\"data\":{\"histogram2dcontour\":[{\"type\":\"histogram2dcontour\",\"colorbar\":{\"outlinewidth\":0,\"ticks\":\"\"},\"colorscale\":[[0.0,\"#0d0887\"],[0.1111111111111111,\"#46039f\"],[0.2222222222222222,\"#7201a8\"],[0.3333333333333333,\"#9c179e\"],[0.4444444444444444,\"#bd3786\"],[0.5555555555555556,\"#d8576b\"],[0.6666666666666666,\"#ed7953\"],[0.7777777777777778,\"#fb9f3a\"],[0.8888888888888888,\"#fdca26\"],[1.0,\"#f0f921\"]]}],\"choropleth\":[{\"type\":\"choropleth\",\"colorbar\":{\"outlinewidth\":0,\"ticks\":\"\"}}],\"histogram2d\":[{\"type\":\"histogram2d\",\"colorbar\":{\"outlinewidth\":0,\"ticks\":\"\"},\"colorscale\":[[0.0,\"#0d0887\"],[0.1111111111111111,\"#46039f\"],[0.2222222222222222,\"#7201a8\"],[0.3333333333333333,\"#9c179e\"],[0.4444444444444444,\"#bd3786\"],[0.5555555555555556,\"#d8576b\"],[0.6666666666666666,\"#ed7953\"],[0.7777777777777778,\"#fb9f3a\"],[0.8888888888888888,\"#fdca26\"],[1.0,\"#f0f921\"]]}],\"heatmap\":[{\"type\":\"heatmap\",\"colorbar\":{\"outlinewidth\":0,\"ticks\":\"\"},\"colorscale\":[[0.0,\"#0d0887\"],[0.1111111111111111,\"#46039f\"],[0.2222222222222222,\"#7201a8\"],[0.3333333333333333,\"#9c179e\"],[0.4444444444444444,\"#bd3786\"],[0.5555555555555556,\"#d8576b\"],[0.6666666666666666,\"#ed7953\"],[0.7777777777777778,\"#fb9f3a\"],[0.8888888888888888,\"#fdca26\"],[1.0,\"#f0f921\"]]}],\"heatmapgl\":[{\"type\":\"heatmapgl\",\"colorbar\":{\"outlinewidth\":0,\"ticks\":\"\"},\"colorscale\":[[0.0,\"#0d0887\"],[0.1111111111111111,\"#46039f\"],[0.2222222222222222,\"#7201a8\"],[0.3333333333333333,\"#9c179e\"],[0.4444444444444444,\"#bd3786\"],[0.5555555555555556,\"#d8576b\"],[0.6666666666666666,\"#ed7953\"],[0.7777777777777778,\"#fb9f3a\"],[0.8888888888888888,\"#fdca26\"],[1.0,\"#f0f921\"]]}],\"contourcarpet\":[{\"type\":\"contourcarpet\",\"colorbar\":{\"outlinewidth\":0,\"ticks\":\"\"}}],\"contour\":[{\"type\":\"contour\",\"colorbar\":{\"outlinewidth\":0,\"ticks\":\"\"},\"colorscale\":[[0.0,\"#0d0887\"],[0.1111111111111111,\"#46039f\"],[0.2222222222222222,\"#7201a8\"],[0.3333333333333333,\"#9c179e\"],[0.4444444444444444,\"#bd3786\"],[0.5555555555555556,\"#d8576b\"],[0.6666666666666666,\"#ed7953\"],[0.7777777777777778,\"#fb9f3a\"],[0.8888888888888888,\"#fdca26\"],[1.0,\"#f0f921\"]]}],\"surface\":[{\"type\":\"surface\",\"colorbar\":{\"outlinewidth\":0,\"ticks\":\"\"},\"colorscale\":[[0.0,\"#0d0887\"],[0.1111111111111111,\"#46039f\"],[0.2222222222222222,\"#7201a8\"],[0.3333333333333333,\"#9c179e\"],[0.4444444444444444,\"#bd3786\"],[0.5555555555555556,\"#d8576b\"],[0.6666666666666666,\"#ed7953\"],[0.7777777777777778,\"#fb9f3a\"],[0.8888888888888888,\"#fdca26\"],[1.0,\"#f0f921\"]]}],\"mesh3d\":[{\"type\":\"mesh3d\",\"colorbar\":{\"outlinewidth\":0,\"ticks\":\"\"}}],\"scatter\":[{\"fillpattern\":{\"fillmode\":\"overlay\",\"size\":10,\"solidity\":0.2},\"type\":\"scatter\"}],\"parcoords\":[{\"type\":\"parcoords\",\"line\":{\"colorbar\":{\"outlinewidth\":0,\"ticks\":\"\"}}}],\"scatterpolargl\":[{\"type\":\"scatterpolargl\",\"marker\":{\"colorbar\":{\"outlinewidth\":0,\"ticks\":\"\"}}}],\"bar\":[{\"error_x\":{\"color\":\"#2a3f5f\"},\"error_y\":{\"color\":\"#2a3f5f\"},\"marker\":{\"line\":{\"color\":\"#E5ECF6\",\"width\":0.5},\"pattern\":{\"fillmode\":\"overlay\",\"size\":10,\"solidity\":0.2}},\"type\":\"bar\"}],\"scattergeo\":[{\"type\":\"scattergeo\",\"marker\":{\"colorbar\":{\"outlinewidth\":0,\"ticks\":\"\"}}}],\"scatterpolar\":[{\"type\":\"scatterpolar\",\"marker\":{\"colorbar\":{\"outlinewidth\":0,\"ticks\":\"\"}}}],\"histogram\":[{\"marker\":{\"pattern\":{\"fillmode\":\"overlay\",\"size\":10,\"solidity\":0.2}},\"type\":\"histogram\"}],\"scattergl\":[{\"type\":\"scattergl\",\"marker\":{\"colorbar\":{\"outlinewidth\":0,\"ticks\":\"\"}}}],\"scatter3d\":[{\"type\":\"scatter3d\",\"line\":{\"colorbar\":{\"outlinewidth\":0,\"ticks\":\"\"}},\"marker\":{\"colorbar\":{\"outlinewidth\":0,\"ticks\":\"\"}}}],\"scattermapbox\":[{\"type\":\"scattermapbox\",\"marker\":{\"colorbar\":{\"outlinewidth\":0,\"ticks\":\"\"}}}],\"scatterternary\":[{\"type\":\"scatterternary\",\"marker\":{\"colorbar\":{\"outlinewidth\":0,\"ticks\":\"\"}}}],\"scattercarpet\":[{\"type\":\"scattercarpet\",\"marker\":{\"colorbar\":{\"outlinewidth\":0,\"ticks\":\"\"}}}],\"carpet\":[{\"aaxis\":{\"endlinecolor\":\"#2a3f5f\",\"gridcolor\":\"white\",\"linecolor\":\"white\",\"minorgridcolor\":\"white\",\"startlinecolor\":\"#2a3f5f\"},\"baxis\":{\"endlinecolor\":\"#2a3f5f\",\"gridcolor\":\"white\",\"linecolor\":\"white\",\"minorgridcolor\":\"white\",\"startlinecolor\":\"#2a3f5f\"},\"type\":\"carpet\"}],\"table\":[{\"cells\":{\"fill\":{\"color\":\"#EBF0F8\"},\"line\":{\"color\":\"white\"}},\"header\":{\"fill\":{\"color\":\"#C8D4E3\"},\"line\":{\"color\":\"white\"}},\"type\":\"table\"}],\"barpolar\":[{\"marker\":{\"line\":{\"color\":\"#E5ECF6\",\"width\":0.5},\"pattern\":{\"fillmode\":\"overlay\",\"size\":10,\"solidity\":0.2}},\"type\":\"barpolar\"}],\"pie\":[{\"automargin\":true,\"type\":\"pie\"}]},\"layout\":{\"autotypenumbers\":\"strict\",\"colorway\":[\"#636efa\",\"#EF553B\",\"#00cc96\",\"#ab63fa\",\"#FFA15A\",\"#19d3f3\",\"#FF6692\",\"#B6E880\",\"#FF97FF\",\"#FECB52\"],\"font\":{\"color\":\"#2a3f5f\"},\"hovermode\":\"closest\",\"hoverlabel\":{\"align\":\"left\"},\"paper_bgcolor\":\"white\",\"plot_bgcolor\":\"#E5ECF6\",\"polar\":{\"bgcolor\":\"#E5ECF6\",\"angularaxis\":{\"gridcolor\":\"white\",\"linecolor\":\"white\",\"ticks\":\"\"},\"radialaxis\":{\"gridcolor\":\"white\",\"linecolor\":\"white\",\"ticks\":\"\"}},\"ternary\":{\"bgcolor\":\"#E5ECF6\",\"aaxis\":{\"gridcolor\":\"white\",\"linecolor\":\"white\",\"ticks\":\"\"},\"baxis\":{\"gridcolor\":\"white\",\"linecolor\":\"white\",\"ticks\":\"\"},\"caxis\":{\"gridcolor\":\"white\",\"linecolor\":\"white\",\"ticks\":\"\"}},\"coloraxis\":{\"colorbar\":{\"outlinewidth\":0,\"ticks\":\"\"}},\"colorscale\":{\"sequential\":[[0.0,\"#0d0887\"],[0.1111111111111111,\"#46039f\"],[0.2222222222222222,\"#7201a8\"],[0.3333333333333333,\"#9c179e\"],[0.4444444444444444,\"#bd3786\"],[0.5555555555555556,\"#d8576b\"],[0.6666666666666666,\"#ed7953\"],[0.7777777777777778,\"#fb9f3a\"],[0.8888888888888888,\"#fdca26\"],[1.0,\"#f0f921\"]],\"sequentialminus\":[[0.0,\"#0d0887\"],[0.1111111111111111,\"#46039f\"],[0.2222222222222222,\"#7201a8\"],[0.3333333333333333,\"#9c179e\"],[0.4444444444444444,\"#bd3786\"],[0.5555555555555556,\"#d8576b\"],[0.6666666666666666,\"#ed7953\"],[0.7777777777777778,\"#fb9f3a\"],[0.8888888888888888,\"#fdca26\"],[1.0,\"#f0f921\"]],\"diverging\":[[0,\"#8e0152\"],[0.1,\"#c51b7d\"],[0.2,\"#de77ae\"],[0.3,\"#f1b6da\"],[0.4,\"#fde0ef\"],[0.5,\"#f7f7f7\"],[0.6,\"#e6f5d0\"],[0.7,\"#b8e186\"],[0.8,\"#7fbc41\"],[0.9,\"#4d9221\"],[1,\"#276419\"]]},\"xaxis\":{\"gridcolor\":\"white\",\"linecolor\":\"white\",\"ticks\":\"\",\"title\":{\"standoff\":15},\"zerolinecolor\":\"white\",\"automargin\":true,\"zerolinewidth\":2},\"yaxis\":{\"gridcolor\":\"white\",\"linecolor\":\"white\",\"ticks\":\"\",\"title\":{\"standoff\":15},\"zerolinecolor\":\"white\",\"automargin\":true,\"zerolinewidth\":2},\"scene\":{\"xaxis\":{\"backgroundcolor\":\"#E5ECF6\",\"gridcolor\":\"white\",\"linecolor\":\"white\",\"showbackground\":true,\"ticks\":\"\",\"zerolinecolor\":\"white\",\"gridwidth\":2},\"yaxis\":{\"backgroundcolor\":\"#E5ECF6\",\"gridcolor\":\"white\",\"linecolor\":\"white\",\"showbackground\":true,\"ticks\":\"\",\"zerolinecolor\":\"white\",\"gridwidth\":2},\"zaxis\":{\"backgroundcolor\":\"#E5ECF6\",\"gridcolor\":\"white\",\"linecolor\":\"white\",\"showbackground\":true,\"ticks\":\"\",\"zerolinecolor\":\"white\",\"gridwidth\":2}},\"shapedefaults\":{\"line\":{\"color\":\"#2a3f5f\"}},\"annotationdefaults\":{\"arrowcolor\":\"#2a3f5f\",\"arrowhead\":0,\"arrowwidth\":1},\"geo\":{\"bgcolor\":\"white\",\"landcolor\":\"#E5ECF6\",\"subunitcolor\":\"white\",\"showland\":true,\"showlakes\":true,\"lakecolor\":\"white\"},\"title\":{\"x\":0.05},\"mapbox\":{\"style\":\"light\"}}},\"xaxis\":{\"anchor\":\"y\",\"domain\":[0.0,1.0],\"title\":{\"text\":\"location\"}},\"yaxis\":{\"anchor\":\"x\",\"domain\":[0.0,1.0],\"title\":{\"text\":\"counts\"}},\"legend\":{\"title\":{\"text\":\"colour\"},\"tracegroupgap\":0,\"itemsizing\":\"constant\"},\"margin\":{\"t\":60}},                        {\"responsive\": true}                    ).then(function(){\n",
       "                            \n",
       "var gd = document.getElementById('5d5415c6-e6bb-4219-8ef1-2ffcd850abaa');\n",
       "var x = new MutationObserver(function (mutations, observer) {{\n",
       "        var display = window.getComputedStyle(gd).display;\n",
       "        if (!display || display === 'none') {{\n",
       "            console.log([gd, 'removed!']);\n",
       "            Plotly.purge(gd);\n",
       "            observer.disconnect();\n",
       "        }}\n",
       "}});\n",
       "\n",
       "// Listen for the removal of the full notebook cells\n",
       "var notebookContainer = gd.closest('#notebook-container');\n",
       "if (notebookContainer) {{\n",
       "    x.observe(notebookContainer, {childList: true});\n",
       "}}\n",
       "\n",
       "// Listen for the clearing of the current output cell\n",
       "var outputEl = gd.closest('.output');\n",
       "if (outputEl) {{\n",
       "    x.observe(outputEl, {childList: true});\n",
       "}}\n",
       "\n",
       "                        })                };                });            </script>        </div>"
      ]
     },
     "metadata": {},
     "output_type": "display_data"
    }
   ],
   "source": [
    "df2 = df.groupby(by=[\"location\", \"colour\"]).size().reset_index(name=\"counts\")\n",
    "fig = px.scatter(df2, x=\"location\", y=\"counts\",\n",
    "                 color='colour', size='counts', size_max=30)\n",
    "fig.show()\n"
   ]
  },
  {
   "cell_type": "markdown",
   "id": "b182cff8",
   "metadata": {
    "id": "VpoHIFjA7N8p",
    "papermill": {
     "duration": 0.082764,
     "end_time": "2022-10-17T18:55:14.127928",
     "exception": false,
     "start_time": "2022-10-17T18:55:14.045164",
     "status": "completed"
    },
    "tags": []
   },
   "source": [
    "We can see that:\n",
    "- First attractable location is **bottom left** specially for **black** color \n",
    "- Second attractable location is **top left** specially for **blue** color"
   ]
  },
  {
   "cell_type": "markdown",
   "id": "275bfa20",
   "metadata": {
    "id": "0b98ea04",
    "papermill": {
     "duration": 0.081157,
     "end_time": "2022-10-17T18:55:14.290922",
     "exception": false,
     "start_time": "2022-10-17T18:55:14.209765",
     "status": "completed"
    },
    "tags": []
   },
   "source": [
    "## Are selling products affected by colour ?"
   ]
  },
  {
   "cell_type": "code",
   "execution_count": 24,
   "id": "1377c5d0",
   "metadata": {
    "execution": {
     "iopub.execute_input": "2022-10-17T18:55:14.458445Z",
     "iopub.status.busy": "2022-10-17T18:55:14.457285Z",
     "iopub.status.idle": "2022-10-17T18:55:14.481637Z",
     "shell.execute_reply": "2022-10-17T18:55:14.480776Z"
    },
    "id": "13768ba6",
    "outputId": "3c563827-11d1-4d99-8407-12aaa2f31aa8",
    "papermill": {
     "duration": 0.109993,
     "end_time": "2022-10-17T18:55:14.484139",
     "exception": false,
     "start_time": "2022-10-17T18:55:14.374146",
     "status": "completed"
    },
    "tags": []
   },
   "outputs": [],
   "source": [
    "df3 = df.groupby(\"colour\")[[\"price\"]].sum()\n",
    "df3 = df3.sort_values(['price'], ascending=False)"
   ]
  },
  {
   "cell_type": "code",
   "execution_count": 25,
   "id": "b24b6a3c",
   "metadata": {
    "execution": {
     "iopub.execute_input": "2022-10-17T18:55:14.648367Z",
     "iopub.status.busy": "2022-10-17T18:55:14.647985Z",
     "iopub.status.idle": "2022-10-17T18:55:14.783796Z",
     "shell.execute_reply": "2022-10-17T18:55:14.782689Z"
    },
    "id": "79c17b9e",
    "outputId": "345916f6-6489-4a3f-c697-b629c2ded5ed",
    "papermill": {
     "duration": 0.221442,
     "end_time": "2022-10-17T18:55:14.786961",
     "exception": false,
     "start_time": "2022-10-17T18:55:14.565519",
     "status": "completed"
    },
    "tags": []
   },
   "outputs": [
    {
     "data": {
      "application/vnd.plotly.v1+json": {
       "config": {
        "plotlyServerURL": "https://plot.ly"
       },
       "data": [
        {
         "alignmentgroup": "True",
         "cliponaxis": false,
         "hovertemplate": "colour=%{x}<br>price=%{y}<extra></extra>",
         "legendgroup": "blue",
         "marker": {
          "color": "#636efa",
          "pattern": {
           "shape": ""
          }
         },
         "name": "blue",
         "offsetgroup": "blue",
         "orientation": "v",
         "showlegend": true,
         "textangle": 0,
         "textfont": {
          "size": 12
         },
         "textposition": "outside",
         "texttemplate": "%{y:.2s}",
         "type": "bar",
         "x": [
          "blue"
         ],
         "xaxis": "x",
         "y": [
          1441896
         ],
         "yaxis": "y"
        },
        {
         "alignmentgroup": "True",
         "cliponaxis": false,
         "hovertemplate": "colour=%{x}<br>price=%{y}<extra></extra>",
         "legendgroup": "black",
         "marker": {
          "color": "#EF553B",
          "pattern": {
           "shape": ""
          }
         },
         "name": "black",
         "offsetgroup": "black",
         "orientation": "v",
         "showlegend": true,
         "textangle": 0,
         "textfont": {
          "size": 12
         },
         "textposition": "outside",
         "texttemplate": "%{y:.2s}",
         "type": "bar",
         "x": [
          "black"
         ],
         "xaxis": "x",
         "y": [
          1398548
         ],
         "yaxis": "y"
        },
        {
         "alignmentgroup": "True",
         "cliponaxis": false,
         "hovertemplate": "colour=%{x}<br>price=%{y}<extra></extra>",
         "legendgroup": "gray",
         "marker": {
          "color": "#00cc96",
          "pattern": {
           "shape": ""
          }
         },
         "name": "gray",
         "offsetgroup": "gray",
         "orientation": "v",
         "showlegend": true,
         "textangle": 0,
         "textfont": {
          "size": 12
         },
         "textposition": "outside",
         "texttemplate": "%{y:.2s}",
         "type": "bar",
         "x": [
          "gray"
         ],
         "xaxis": "x",
         "y": [
          708940
         ],
         "yaxis": "y"
        },
        {
         "alignmentgroup": "True",
         "cliponaxis": false,
         "hovertemplate": "colour=%{x}<br>price=%{y}<extra></extra>",
         "legendgroup": "brown",
         "marker": {
          "color": "#ab63fa",
          "pattern": {
           "shape": ""
          }
         },
         "name": "brown",
         "offsetgroup": "brown",
         "orientation": "v",
         "showlegend": true,
         "textangle": 0,
         "textfont": {
          "size": 12
         },
         "textposition": "outside",
         "texttemplate": "%{y:.2s}",
         "type": "bar",
         "x": [
          "brown"
         ],
         "xaxis": "x",
         "y": [
          662594
         ],
         "yaxis": "y"
        },
        {
         "alignmentgroup": "True",
         "cliponaxis": false,
         "hovertemplate": "colour=%{x}<br>price=%{y}<extra></extra>",
         "legendgroup": "white",
         "marker": {
          "color": "#FFA15A",
          "pattern": {
           "shape": ""
          }
         },
         "name": "white",
         "offsetgroup": "white",
         "orientation": "v",
         "showlegend": true,
         "textangle": 0,
         "textfont": {
          "size": 12
         },
         "textposition": "outside",
         "texttemplate": "%{y:.2s}",
         "type": "bar",
         "x": [
          "white"
         ],
         "xaxis": "x",
         "y": [
          638416
         ],
         "yaxis": "y"
        },
        {
         "alignmentgroup": "True",
         "cliponaxis": false,
         "hovertemplate": "colour=%{x}<br>price=%{y}<extra></extra>",
         "legendgroup": "of many colors",
         "marker": {
          "color": "#19d3f3",
          "pattern": {
           "shape": ""
          }
         },
         "name": "of many colors",
         "offsetgroup": "of many colors",
         "orientation": "v",
         "showlegend": true,
         "textangle": 0,
         "textfont": {
          "size": 12
         },
         "textposition": "outside",
         "texttemplate": "%{y:.2s}",
         "type": "bar",
         "x": [
          "of many colors"
         ],
         "xaxis": "x",
         "y": [
          547852
         ],
         "yaxis": "y"
        },
        {
         "alignmentgroup": "True",
         "cliponaxis": false,
         "hovertemplate": "colour=%{x}<br>price=%{y}<extra></extra>",
         "legendgroup": "red",
         "marker": {
          "color": "#FF6692",
          "pattern": {
           "shape": ""
          }
         },
         "name": "red",
         "offsetgroup": "red",
         "orientation": "v",
         "showlegend": true,
         "textangle": 0,
         "textfont": {
          "size": 12
         },
         "textposition": "outside",
         "texttemplate": "%{y:.2s}",
         "type": "bar",
         "x": [
          "red"
         ],
         "xaxis": "x",
         "y": [
          445290
         ],
         "yaxis": "y"
        },
        {
         "alignmentgroup": "True",
         "cliponaxis": false,
         "hovertemplate": "colour=%{x}<br>price=%{y}<extra></extra>",
         "legendgroup": "beige",
         "marker": {
          "color": "#B6E880",
          "pattern": {
           "shape": ""
          }
         },
         "name": "beige",
         "offsetgroup": "beige",
         "orientation": "v",
         "showlegend": true,
         "textangle": 0,
         "textfont": {
          "size": 12
         },
         "textposition": "outside",
         "texttemplate": "%{y:.2s}",
         "type": "bar",
         "x": [
          "beige"
         ],
         "xaxis": "x",
         "y": [
          310327
         ],
         "yaxis": "y"
        },
        {
         "alignmentgroup": "True",
         "cliponaxis": false,
         "hovertemplate": "colour=%{x}<br>price=%{y}<extra></extra>",
         "legendgroup": "violet",
         "marker": {
          "color": "#FF97FF",
          "pattern": {
           "shape": ""
          }
         },
         "name": "violet",
         "offsetgroup": "violet",
         "orientation": "v",
         "showlegend": true,
         "textangle": 0,
         "textfont": {
          "size": 12
         },
         "textposition": "outside",
         "texttemplate": "%{y:.2s}",
         "type": "bar",
         "x": [
          "violet"
         ],
         "xaxis": "x",
         "y": [
          263609
         ],
         "yaxis": "y"
        },
        {
         "alignmentgroup": "True",
         "cliponaxis": false,
         "hovertemplate": "colour=%{x}<br>price=%{y}<extra></extra>",
         "legendgroup": "pink",
         "marker": {
          "color": "#FECB52",
          "pattern": {
           "shape": ""
          }
         },
         "name": "pink",
         "offsetgroup": "pink",
         "orientation": "v",
         "showlegend": true,
         "textangle": 0,
         "textfont": {
          "size": 12
         },
         "textposition": "outside",
         "texttemplate": "%{y:.2s}",
         "type": "bar",
         "x": [
          "pink"
         ],
         "xaxis": "x",
         "y": [
          259016
         ],
         "yaxis": "y"
        },
        {
         "alignmentgroup": "True",
         "cliponaxis": false,
         "hovertemplate": "colour=%{x}<br>price=%{y}<extra></extra>",
         "legendgroup": "green",
         "marker": {
          "color": "#636efa",
          "pattern": {
           "shape": ""
          }
         },
         "name": "green",
         "offsetgroup": "green",
         "orientation": "v",
         "showlegend": true,
         "textangle": 0,
         "textfont": {
          "size": 12
         },
         "textposition": "outside",
         "texttemplate": "%{y:.2s}",
         "type": "bar",
         "x": [
          "green"
         ],
         "xaxis": "x",
         "y": [
          240758
         ],
         "yaxis": "y"
        },
        {
         "alignmentgroup": "True",
         "cliponaxis": false,
         "hovertemplate": "colour=%{x}<br>price=%{y}<extra></extra>",
         "legendgroup": "olive",
         "marker": {
          "color": "#EF553B",
          "pattern": {
           "shape": ""
          }
         },
         "name": "olive",
         "offsetgroup": "olive",
         "orientation": "v",
         "showlegend": true,
         "textangle": 0,
         "textfont": {
          "size": 12
         },
         "textposition": "outside",
         "texttemplate": "%{y:.2s}",
         "type": "bar",
         "x": [
          "olive"
         ],
         "xaxis": "x",
         "y": [
          186108
         ],
         "yaxis": "y"
        },
        {
         "alignmentgroup": "True",
         "cliponaxis": false,
         "hovertemplate": "colour=%{x}<br>price=%{y}<extra></extra>",
         "legendgroup": "navy blue",
         "marker": {
          "color": "#00cc96",
          "pattern": {
           "shape": ""
          }
         },
         "name": "navy blue",
         "offsetgroup": "navy blue",
         "orientation": "v",
         "showlegend": true,
         "textangle": 0,
         "textfont": {
          "size": 12
         },
         "textposition": "outside",
         "texttemplate": "%{y:.2s}",
         "type": "bar",
         "x": [
          "navy blue"
         ],
         "xaxis": "x",
         "y": [
          80577
         ],
         "yaxis": "y"
        },
        {
         "alignmentgroup": "True",
         "cliponaxis": false,
         "hovertemplate": "colour=%{x}<br>price=%{y}<extra></extra>",
         "legendgroup": "burgundy",
         "marker": {
          "color": "#ab63fa",
          "pattern": {
           "shape": ""
          }
         },
         "name": "burgundy",
         "offsetgroup": "burgundy",
         "orientation": "v",
         "showlegend": true,
         "textangle": 0,
         "textfont": {
          "size": 12
         },
         "textposition": "outside",
         "texttemplate": "%{y:.2s}",
         "type": "bar",
         "x": [
          "burgundy"
         ],
         "xaxis": "x",
         "y": [
          64245
         ],
         "yaxis": "y"
        }
       ],
       "layout": {
        "barmode": "relative",
        "legend": {
         "title": {
          "text": "colour"
         },
         "tracegroupgap": 0
        },
        "template": {
         "data": {
          "bar": [
           {
            "error_x": {
             "color": "#2a3f5f"
            },
            "error_y": {
             "color": "#2a3f5f"
            },
            "marker": {
             "line": {
              "color": "#E5ECF6",
              "width": 0.5
             },
             "pattern": {
              "fillmode": "overlay",
              "size": 10,
              "solidity": 0.2
             }
            },
            "type": "bar"
           }
          ],
          "barpolar": [
           {
            "marker": {
             "line": {
              "color": "#E5ECF6",
              "width": 0.5
             },
             "pattern": {
              "fillmode": "overlay",
              "size": 10,
              "solidity": 0.2
             }
            },
            "type": "barpolar"
           }
          ],
          "carpet": [
           {
            "aaxis": {
             "endlinecolor": "#2a3f5f",
             "gridcolor": "white",
             "linecolor": "white",
             "minorgridcolor": "white",
             "startlinecolor": "#2a3f5f"
            },
            "baxis": {
             "endlinecolor": "#2a3f5f",
             "gridcolor": "white",
             "linecolor": "white",
             "minorgridcolor": "white",
             "startlinecolor": "#2a3f5f"
            },
            "type": "carpet"
           }
          ],
          "choropleth": [
           {
            "colorbar": {
             "outlinewidth": 0,
             "ticks": ""
            },
            "type": "choropleth"
           }
          ],
          "contour": [
           {
            "colorbar": {
             "outlinewidth": 0,
             "ticks": ""
            },
            "colorscale": [
             [
              0,
              "#0d0887"
             ],
             [
              0.1111111111111111,
              "#46039f"
             ],
             [
              0.2222222222222222,
              "#7201a8"
             ],
             [
              0.3333333333333333,
              "#9c179e"
             ],
             [
              0.4444444444444444,
              "#bd3786"
             ],
             [
              0.5555555555555556,
              "#d8576b"
             ],
             [
              0.6666666666666666,
              "#ed7953"
             ],
             [
              0.7777777777777778,
              "#fb9f3a"
             ],
             [
              0.8888888888888888,
              "#fdca26"
             ],
             [
              1,
              "#f0f921"
             ]
            ],
            "type": "contour"
           }
          ],
          "contourcarpet": [
           {
            "colorbar": {
             "outlinewidth": 0,
             "ticks": ""
            },
            "type": "contourcarpet"
           }
          ],
          "heatmap": [
           {
            "colorbar": {
             "outlinewidth": 0,
             "ticks": ""
            },
            "colorscale": [
             [
              0,
              "#0d0887"
             ],
             [
              0.1111111111111111,
              "#46039f"
             ],
             [
              0.2222222222222222,
              "#7201a8"
             ],
             [
              0.3333333333333333,
              "#9c179e"
             ],
             [
              0.4444444444444444,
              "#bd3786"
             ],
             [
              0.5555555555555556,
              "#d8576b"
             ],
             [
              0.6666666666666666,
              "#ed7953"
             ],
             [
              0.7777777777777778,
              "#fb9f3a"
             ],
             [
              0.8888888888888888,
              "#fdca26"
             ],
             [
              1,
              "#f0f921"
             ]
            ],
            "type": "heatmap"
           }
          ],
          "heatmapgl": [
           {
            "colorbar": {
             "outlinewidth": 0,
             "ticks": ""
            },
            "colorscale": [
             [
              0,
              "#0d0887"
             ],
             [
              0.1111111111111111,
              "#46039f"
             ],
             [
              0.2222222222222222,
              "#7201a8"
             ],
             [
              0.3333333333333333,
              "#9c179e"
             ],
             [
              0.4444444444444444,
              "#bd3786"
             ],
             [
              0.5555555555555556,
              "#d8576b"
             ],
             [
              0.6666666666666666,
              "#ed7953"
             ],
             [
              0.7777777777777778,
              "#fb9f3a"
             ],
             [
              0.8888888888888888,
              "#fdca26"
             ],
             [
              1,
              "#f0f921"
             ]
            ],
            "type": "heatmapgl"
           }
          ],
          "histogram": [
           {
            "marker": {
             "pattern": {
              "fillmode": "overlay",
              "size": 10,
              "solidity": 0.2
             }
            },
            "type": "histogram"
           }
          ],
          "histogram2d": [
           {
            "colorbar": {
             "outlinewidth": 0,
             "ticks": ""
            },
            "colorscale": [
             [
              0,
              "#0d0887"
             ],
             [
              0.1111111111111111,
              "#46039f"
             ],
             [
              0.2222222222222222,
              "#7201a8"
             ],
             [
              0.3333333333333333,
              "#9c179e"
             ],
             [
              0.4444444444444444,
              "#bd3786"
             ],
             [
              0.5555555555555556,
              "#d8576b"
             ],
             [
              0.6666666666666666,
              "#ed7953"
             ],
             [
              0.7777777777777778,
              "#fb9f3a"
             ],
             [
              0.8888888888888888,
              "#fdca26"
             ],
             [
              1,
              "#f0f921"
             ]
            ],
            "type": "histogram2d"
           }
          ],
          "histogram2dcontour": [
           {
            "colorbar": {
             "outlinewidth": 0,
             "ticks": ""
            },
            "colorscale": [
             [
              0,
              "#0d0887"
             ],
             [
              0.1111111111111111,
              "#46039f"
             ],
             [
              0.2222222222222222,
              "#7201a8"
             ],
             [
              0.3333333333333333,
              "#9c179e"
             ],
             [
              0.4444444444444444,
              "#bd3786"
             ],
             [
              0.5555555555555556,
              "#d8576b"
             ],
             [
              0.6666666666666666,
              "#ed7953"
             ],
             [
              0.7777777777777778,
              "#fb9f3a"
             ],
             [
              0.8888888888888888,
              "#fdca26"
             ],
             [
              1,
              "#f0f921"
             ]
            ],
            "type": "histogram2dcontour"
           }
          ],
          "mesh3d": [
           {
            "colorbar": {
             "outlinewidth": 0,
             "ticks": ""
            },
            "type": "mesh3d"
           }
          ],
          "parcoords": [
           {
            "line": {
             "colorbar": {
              "outlinewidth": 0,
              "ticks": ""
             }
            },
            "type": "parcoords"
           }
          ],
          "pie": [
           {
            "automargin": true,
            "type": "pie"
           }
          ],
          "scatter": [
           {
            "fillpattern": {
             "fillmode": "overlay",
             "size": 10,
             "solidity": 0.2
            },
            "type": "scatter"
           }
          ],
          "scatter3d": [
           {
            "line": {
             "colorbar": {
              "outlinewidth": 0,
              "ticks": ""
             }
            },
            "marker": {
             "colorbar": {
              "outlinewidth": 0,
              "ticks": ""
             }
            },
            "type": "scatter3d"
           }
          ],
          "scattercarpet": [
           {
            "marker": {
             "colorbar": {
              "outlinewidth": 0,
              "ticks": ""
             }
            },
            "type": "scattercarpet"
           }
          ],
          "scattergeo": [
           {
            "marker": {
             "colorbar": {
              "outlinewidth": 0,
              "ticks": ""
             }
            },
            "type": "scattergeo"
           }
          ],
          "scattergl": [
           {
            "marker": {
             "colorbar": {
              "outlinewidth": 0,
              "ticks": ""
             }
            },
            "type": "scattergl"
           }
          ],
          "scattermapbox": [
           {
            "marker": {
             "colorbar": {
              "outlinewidth": 0,
              "ticks": ""
             }
            },
            "type": "scattermapbox"
           }
          ],
          "scatterpolar": [
           {
            "marker": {
             "colorbar": {
              "outlinewidth": 0,
              "ticks": ""
             }
            },
            "type": "scatterpolar"
           }
          ],
          "scatterpolargl": [
           {
            "marker": {
             "colorbar": {
              "outlinewidth": 0,
              "ticks": ""
             }
            },
            "type": "scatterpolargl"
           }
          ],
          "scatterternary": [
           {
            "marker": {
             "colorbar": {
              "outlinewidth": 0,
              "ticks": ""
             }
            },
            "type": "scatterternary"
           }
          ],
          "surface": [
           {
            "colorbar": {
             "outlinewidth": 0,
             "ticks": ""
            },
            "colorscale": [
             [
              0,
              "#0d0887"
             ],
             [
              0.1111111111111111,
              "#46039f"
             ],
             [
              0.2222222222222222,
              "#7201a8"
             ],
             [
              0.3333333333333333,
              "#9c179e"
             ],
             [
              0.4444444444444444,
              "#bd3786"
             ],
             [
              0.5555555555555556,
              "#d8576b"
             ],
             [
              0.6666666666666666,
              "#ed7953"
             ],
             [
              0.7777777777777778,
              "#fb9f3a"
             ],
             [
              0.8888888888888888,
              "#fdca26"
             ],
             [
              1,
              "#f0f921"
             ]
            ],
            "type": "surface"
           }
          ],
          "table": [
           {
            "cells": {
             "fill": {
              "color": "#EBF0F8"
             },
             "line": {
              "color": "white"
             }
            },
            "header": {
             "fill": {
              "color": "#C8D4E3"
             },
             "line": {
              "color": "white"
             }
            },
            "type": "table"
           }
          ]
         },
         "layout": {
          "annotationdefaults": {
           "arrowcolor": "#2a3f5f",
           "arrowhead": 0,
           "arrowwidth": 1
          },
          "autotypenumbers": "strict",
          "coloraxis": {
           "colorbar": {
            "outlinewidth": 0,
            "ticks": ""
           }
          },
          "colorscale": {
           "diverging": [
            [
             0,
             "#8e0152"
            ],
            [
             0.1,
             "#c51b7d"
            ],
            [
             0.2,
             "#de77ae"
            ],
            [
             0.3,
             "#f1b6da"
            ],
            [
             0.4,
             "#fde0ef"
            ],
            [
             0.5,
             "#f7f7f7"
            ],
            [
             0.6,
             "#e6f5d0"
            ],
            [
             0.7,
             "#b8e186"
            ],
            [
             0.8,
             "#7fbc41"
            ],
            [
             0.9,
             "#4d9221"
            ],
            [
             1,
             "#276419"
            ]
           ],
           "sequential": [
            [
             0,
             "#0d0887"
            ],
            [
             0.1111111111111111,
             "#46039f"
            ],
            [
             0.2222222222222222,
             "#7201a8"
            ],
            [
             0.3333333333333333,
             "#9c179e"
            ],
            [
             0.4444444444444444,
             "#bd3786"
            ],
            [
             0.5555555555555556,
             "#d8576b"
            ],
            [
             0.6666666666666666,
             "#ed7953"
            ],
            [
             0.7777777777777778,
             "#fb9f3a"
            ],
            [
             0.8888888888888888,
             "#fdca26"
            ],
            [
             1,
             "#f0f921"
            ]
           ],
           "sequentialminus": [
            [
             0,
             "#0d0887"
            ],
            [
             0.1111111111111111,
             "#46039f"
            ],
            [
             0.2222222222222222,
             "#7201a8"
            ],
            [
             0.3333333333333333,
             "#9c179e"
            ],
            [
             0.4444444444444444,
             "#bd3786"
            ],
            [
             0.5555555555555556,
             "#d8576b"
            ],
            [
             0.6666666666666666,
             "#ed7953"
            ],
            [
             0.7777777777777778,
             "#fb9f3a"
            ],
            [
             0.8888888888888888,
             "#fdca26"
            ],
            [
             1,
             "#f0f921"
            ]
           ]
          },
          "colorway": [
           "#636efa",
           "#EF553B",
           "#00cc96",
           "#ab63fa",
           "#FFA15A",
           "#19d3f3",
           "#FF6692",
           "#B6E880",
           "#FF97FF",
           "#FECB52"
          ],
          "font": {
           "color": "#2a3f5f"
          },
          "geo": {
           "bgcolor": "white",
           "lakecolor": "white",
           "landcolor": "#E5ECF6",
           "showlakes": true,
           "showland": true,
           "subunitcolor": "white"
          },
          "hoverlabel": {
           "align": "left"
          },
          "hovermode": "closest",
          "mapbox": {
           "style": "light"
          },
          "paper_bgcolor": "white",
          "plot_bgcolor": "#E5ECF6",
          "polar": {
           "angularaxis": {
            "gridcolor": "white",
            "linecolor": "white",
            "ticks": ""
           },
           "bgcolor": "#E5ECF6",
           "radialaxis": {
            "gridcolor": "white",
            "linecolor": "white",
            "ticks": ""
           }
          },
          "scene": {
           "xaxis": {
            "backgroundcolor": "#E5ECF6",
            "gridcolor": "white",
            "gridwidth": 2,
            "linecolor": "white",
            "showbackground": true,
            "ticks": "",
            "zerolinecolor": "white"
           },
           "yaxis": {
            "backgroundcolor": "#E5ECF6",
            "gridcolor": "white",
            "gridwidth": 2,
            "linecolor": "white",
            "showbackground": true,
            "ticks": "",
            "zerolinecolor": "white"
           },
           "zaxis": {
            "backgroundcolor": "#E5ECF6",
            "gridcolor": "white",
            "gridwidth": 2,
            "linecolor": "white",
            "showbackground": true,
            "ticks": "",
            "zerolinecolor": "white"
           }
          },
          "shapedefaults": {
           "line": {
            "color": "#2a3f5f"
           }
          },
          "ternary": {
           "aaxis": {
            "gridcolor": "white",
            "linecolor": "white",
            "ticks": ""
           },
           "baxis": {
            "gridcolor": "white",
            "linecolor": "white",
            "ticks": ""
           },
           "bgcolor": "#E5ECF6",
           "caxis": {
            "gridcolor": "white",
            "linecolor": "white",
            "ticks": ""
           }
          },
          "title": {
           "x": 0.05
          },
          "xaxis": {
           "automargin": true,
           "gridcolor": "white",
           "linecolor": "white",
           "ticks": "",
           "title": {
            "standoff": 15
           },
           "zerolinecolor": "white",
           "zerolinewidth": 2
          },
          "yaxis": {
           "automargin": true,
           "gridcolor": "white",
           "linecolor": "white",
           "ticks": "",
           "title": {
            "standoff": 15
           },
           "zerolinecolor": "white",
           "zerolinewidth": 2
          }
         }
        },
        "title": {
         "text": "Colour of products with their prices"
        },
        "xaxis": {
         "anchor": "y",
         "categoryarray": [
          "blue",
          "black",
          "gray",
          "brown",
          "white",
          "of many colors",
          "red",
          "beige",
          "violet",
          "pink",
          "green",
          "olive",
          "navy blue",
          "burgundy"
         ],
         "categoryorder": "array",
         "domain": [
          0,
          1
         ],
         "title": {
          "text": "colour"
         }
        },
        "yaxis": {
         "anchor": "x",
         "domain": [
          0,
          1
         ],
         "title": {
          "text": "price"
         }
        }
       }
      },
      "text/html": [
       "<div>                            <div id=\"764fbdc5-d503-49e5-bd1a-5fd61ff39589\" class=\"plotly-graph-div\" style=\"height:525px; width:100%;\"></div>            <script type=\"text/javascript\">                require([\"plotly\"], function(Plotly) {                    window.PLOTLYENV=window.PLOTLYENV || {};                                    if (document.getElementById(\"764fbdc5-d503-49e5-bd1a-5fd61ff39589\")) {                    Plotly.newPlot(                        \"764fbdc5-d503-49e5-bd1a-5fd61ff39589\",                        [{\"alignmentgroup\":\"True\",\"hovertemplate\":\"colour=%{x}<br>price=%{y}<extra></extra>\",\"legendgroup\":\"blue\",\"marker\":{\"color\":\"#636efa\",\"pattern\":{\"shape\":\"\"}},\"name\":\"blue\",\"offsetgroup\":\"blue\",\"orientation\":\"v\",\"showlegend\":true,\"textposition\":\"outside\",\"texttemplate\":\"%{y:.2s}\",\"x\":[\"blue\"],\"xaxis\":\"x\",\"y\":[1441896],\"yaxis\":\"y\",\"type\":\"bar\",\"textfont\":{\"size\":12},\"cliponaxis\":false,\"textangle\":0},{\"alignmentgroup\":\"True\",\"hovertemplate\":\"colour=%{x}<br>price=%{y}<extra></extra>\",\"legendgroup\":\"black\",\"marker\":{\"color\":\"#EF553B\",\"pattern\":{\"shape\":\"\"}},\"name\":\"black\",\"offsetgroup\":\"black\",\"orientation\":\"v\",\"showlegend\":true,\"textposition\":\"outside\",\"texttemplate\":\"%{y:.2s}\",\"x\":[\"black\"],\"xaxis\":\"x\",\"y\":[1398548],\"yaxis\":\"y\",\"type\":\"bar\",\"textfont\":{\"size\":12},\"cliponaxis\":false,\"textangle\":0},{\"alignmentgroup\":\"True\",\"hovertemplate\":\"colour=%{x}<br>price=%{y}<extra></extra>\",\"legendgroup\":\"gray\",\"marker\":{\"color\":\"#00cc96\",\"pattern\":{\"shape\":\"\"}},\"name\":\"gray\",\"offsetgroup\":\"gray\",\"orientation\":\"v\",\"showlegend\":true,\"textposition\":\"outside\",\"texttemplate\":\"%{y:.2s}\",\"x\":[\"gray\"],\"xaxis\":\"x\",\"y\":[708940],\"yaxis\":\"y\",\"type\":\"bar\",\"textfont\":{\"size\":12},\"cliponaxis\":false,\"textangle\":0},{\"alignmentgroup\":\"True\",\"hovertemplate\":\"colour=%{x}<br>price=%{y}<extra></extra>\",\"legendgroup\":\"brown\",\"marker\":{\"color\":\"#ab63fa\",\"pattern\":{\"shape\":\"\"}},\"name\":\"brown\",\"offsetgroup\":\"brown\",\"orientation\":\"v\",\"showlegend\":true,\"textposition\":\"outside\",\"texttemplate\":\"%{y:.2s}\",\"x\":[\"brown\"],\"xaxis\":\"x\",\"y\":[662594],\"yaxis\":\"y\",\"type\":\"bar\",\"textfont\":{\"size\":12},\"cliponaxis\":false,\"textangle\":0},{\"alignmentgroup\":\"True\",\"hovertemplate\":\"colour=%{x}<br>price=%{y}<extra></extra>\",\"legendgroup\":\"white\",\"marker\":{\"color\":\"#FFA15A\",\"pattern\":{\"shape\":\"\"}},\"name\":\"white\",\"offsetgroup\":\"white\",\"orientation\":\"v\",\"showlegend\":true,\"textposition\":\"outside\",\"texttemplate\":\"%{y:.2s}\",\"x\":[\"white\"],\"xaxis\":\"x\",\"y\":[638416],\"yaxis\":\"y\",\"type\":\"bar\",\"textfont\":{\"size\":12},\"cliponaxis\":false,\"textangle\":0},{\"alignmentgroup\":\"True\",\"hovertemplate\":\"colour=%{x}<br>price=%{y}<extra></extra>\",\"legendgroup\":\"of many colors\",\"marker\":{\"color\":\"#19d3f3\",\"pattern\":{\"shape\":\"\"}},\"name\":\"of many colors\",\"offsetgroup\":\"of many colors\",\"orientation\":\"v\",\"showlegend\":true,\"textposition\":\"outside\",\"texttemplate\":\"%{y:.2s}\",\"x\":[\"of many colors\"],\"xaxis\":\"x\",\"y\":[547852],\"yaxis\":\"y\",\"type\":\"bar\",\"textfont\":{\"size\":12},\"cliponaxis\":false,\"textangle\":0},{\"alignmentgroup\":\"True\",\"hovertemplate\":\"colour=%{x}<br>price=%{y}<extra></extra>\",\"legendgroup\":\"red\",\"marker\":{\"color\":\"#FF6692\",\"pattern\":{\"shape\":\"\"}},\"name\":\"red\",\"offsetgroup\":\"red\",\"orientation\":\"v\",\"showlegend\":true,\"textposition\":\"outside\",\"texttemplate\":\"%{y:.2s}\",\"x\":[\"red\"],\"xaxis\":\"x\",\"y\":[445290],\"yaxis\":\"y\",\"type\":\"bar\",\"textfont\":{\"size\":12},\"cliponaxis\":false,\"textangle\":0},{\"alignmentgroup\":\"True\",\"hovertemplate\":\"colour=%{x}<br>price=%{y}<extra></extra>\",\"legendgroup\":\"beige\",\"marker\":{\"color\":\"#B6E880\",\"pattern\":{\"shape\":\"\"}},\"name\":\"beige\",\"offsetgroup\":\"beige\",\"orientation\":\"v\",\"showlegend\":true,\"textposition\":\"outside\",\"texttemplate\":\"%{y:.2s}\",\"x\":[\"beige\"],\"xaxis\":\"x\",\"y\":[310327],\"yaxis\":\"y\",\"type\":\"bar\",\"textfont\":{\"size\":12},\"cliponaxis\":false,\"textangle\":0},{\"alignmentgroup\":\"True\",\"hovertemplate\":\"colour=%{x}<br>price=%{y}<extra></extra>\",\"legendgroup\":\"violet\",\"marker\":{\"color\":\"#FF97FF\",\"pattern\":{\"shape\":\"\"}},\"name\":\"violet\",\"offsetgroup\":\"violet\",\"orientation\":\"v\",\"showlegend\":true,\"textposition\":\"outside\",\"texttemplate\":\"%{y:.2s}\",\"x\":[\"violet\"],\"xaxis\":\"x\",\"y\":[263609],\"yaxis\":\"y\",\"type\":\"bar\",\"textfont\":{\"size\":12},\"cliponaxis\":false,\"textangle\":0},{\"alignmentgroup\":\"True\",\"hovertemplate\":\"colour=%{x}<br>price=%{y}<extra></extra>\",\"legendgroup\":\"pink\",\"marker\":{\"color\":\"#FECB52\",\"pattern\":{\"shape\":\"\"}},\"name\":\"pink\",\"offsetgroup\":\"pink\",\"orientation\":\"v\",\"showlegend\":true,\"textposition\":\"outside\",\"texttemplate\":\"%{y:.2s}\",\"x\":[\"pink\"],\"xaxis\":\"x\",\"y\":[259016],\"yaxis\":\"y\",\"type\":\"bar\",\"textfont\":{\"size\":12},\"cliponaxis\":false,\"textangle\":0},{\"alignmentgroup\":\"True\",\"hovertemplate\":\"colour=%{x}<br>price=%{y}<extra></extra>\",\"legendgroup\":\"green\",\"marker\":{\"color\":\"#636efa\",\"pattern\":{\"shape\":\"\"}},\"name\":\"green\",\"offsetgroup\":\"green\",\"orientation\":\"v\",\"showlegend\":true,\"textposition\":\"outside\",\"texttemplate\":\"%{y:.2s}\",\"x\":[\"green\"],\"xaxis\":\"x\",\"y\":[240758],\"yaxis\":\"y\",\"type\":\"bar\",\"textfont\":{\"size\":12},\"cliponaxis\":false,\"textangle\":0},{\"alignmentgroup\":\"True\",\"hovertemplate\":\"colour=%{x}<br>price=%{y}<extra></extra>\",\"legendgroup\":\"olive\",\"marker\":{\"color\":\"#EF553B\",\"pattern\":{\"shape\":\"\"}},\"name\":\"olive\",\"offsetgroup\":\"olive\",\"orientation\":\"v\",\"showlegend\":true,\"textposition\":\"outside\",\"texttemplate\":\"%{y:.2s}\",\"x\":[\"olive\"],\"xaxis\":\"x\",\"y\":[186108],\"yaxis\":\"y\",\"type\":\"bar\",\"textfont\":{\"size\":12},\"cliponaxis\":false,\"textangle\":0},{\"alignmentgroup\":\"True\",\"hovertemplate\":\"colour=%{x}<br>price=%{y}<extra></extra>\",\"legendgroup\":\"navy blue\",\"marker\":{\"color\":\"#00cc96\",\"pattern\":{\"shape\":\"\"}},\"name\":\"navy blue\",\"offsetgroup\":\"navy blue\",\"orientation\":\"v\",\"showlegend\":true,\"textposition\":\"outside\",\"texttemplate\":\"%{y:.2s}\",\"x\":[\"navy blue\"],\"xaxis\":\"x\",\"y\":[80577],\"yaxis\":\"y\",\"type\":\"bar\",\"textfont\":{\"size\":12},\"cliponaxis\":false,\"textangle\":0},{\"alignmentgroup\":\"True\",\"hovertemplate\":\"colour=%{x}<br>price=%{y}<extra></extra>\",\"legendgroup\":\"burgundy\",\"marker\":{\"color\":\"#ab63fa\",\"pattern\":{\"shape\":\"\"}},\"name\":\"burgundy\",\"offsetgroup\":\"burgundy\",\"orientation\":\"v\",\"showlegend\":true,\"textposition\":\"outside\",\"texttemplate\":\"%{y:.2s}\",\"x\":[\"burgundy\"],\"xaxis\":\"x\",\"y\":[64245],\"yaxis\":\"y\",\"type\":\"bar\",\"textfont\":{\"size\":12},\"cliponaxis\":false,\"textangle\":0}],                        {\"template\":{\"data\":{\"histogram2dcontour\":[{\"type\":\"histogram2dcontour\",\"colorbar\":{\"outlinewidth\":0,\"ticks\":\"\"},\"colorscale\":[[0.0,\"#0d0887\"],[0.1111111111111111,\"#46039f\"],[0.2222222222222222,\"#7201a8\"],[0.3333333333333333,\"#9c179e\"],[0.4444444444444444,\"#bd3786\"],[0.5555555555555556,\"#d8576b\"],[0.6666666666666666,\"#ed7953\"],[0.7777777777777778,\"#fb9f3a\"],[0.8888888888888888,\"#fdca26\"],[1.0,\"#f0f921\"]]}],\"choropleth\":[{\"type\":\"choropleth\",\"colorbar\":{\"outlinewidth\":0,\"ticks\":\"\"}}],\"histogram2d\":[{\"type\":\"histogram2d\",\"colorbar\":{\"outlinewidth\":0,\"ticks\":\"\"},\"colorscale\":[[0.0,\"#0d0887\"],[0.1111111111111111,\"#46039f\"],[0.2222222222222222,\"#7201a8\"],[0.3333333333333333,\"#9c179e\"],[0.4444444444444444,\"#bd3786\"],[0.5555555555555556,\"#d8576b\"],[0.6666666666666666,\"#ed7953\"],[0.7777777777777778,\"#fb9f3a\"],[0.8888888888888888,\"#fdca26\"],[1.0,\"#f0f921\"]]}],\"heatmap\":[{\"type\":\"heatmap\",\"colorbar\":{\"outlinewidth\":0,\"ticks\":\"\"},\"colorscale\":[[0.0,\"#0d0887\"],[0.1111111111111111,\"#46039f\"],[0.2222222222222222,\"#7201a8\"],[0.3333333333333333,\"#9c179e\"],[0.4444444444444444,\"#bd3786\"],[0.5555555555555556,\"#d8576b\"],[0.6666666666666666,\"#ed7953\"],[0.7777777777777778,\"#fb9f3a\"],[0.8888888888888888,\"#fdca26\"],[1.0,\"#f0f921\"]]}],\"heatmapgl\":[{\"type\":\"heatmapgl\",\"colorbar\":{\"outlinewidth\":0,\"ticks\":\"\"},\"colorscale\":[[0.0,\"#0d0887\"],[0.1111111111111111,\"#46039f\"],[0.2222222222222222,\"#7201a8\"],[0.3333333333333333,\"#9c179e\"],[0.4444444444444444,\"#bd3786\"],[0.5555555555555556,\"#d8576b\"],[0.6666666666666666,\"#ed7953\"],[0.7777777777777778,\"#fb9f3a\"],[0.8888888888888888,\"#fdca26\"],[1.0,\"#f0f921\"]]}],\"contourcarpet\":[{\"type\":\"contourcarpet\",\"colorbar\":{\"outlinewidth\":0,\"ticks\":\"\"}}],\"contour\":[{\"type\":\"contour\",\"colorbar\":{\"outlinewidth\":0,\"ticks\":\"\"},\"colorscale\":[[0.0,\"#0d0887\"],[0.1111111111111111,\"#46039f\"],[0.2222222222222222,\"#7201a8\"],[0.3333333333333333,\"#9c179e\"],[0.4444444444444444,\"#bd3786\"],[0.5555555555555556,\"#d8576b\"],[0.6666666666666666,\"#ed7953\"],[0.7777777777777778,\"#fb9f3a\"],[0.8888888888888888,\"#fdca26\"],[1.0,\"#f0f921\"]]}],\"surface\":[{\"type\":\"surface\",\"colorbar\":{\"outlinewidth\":0,\"ticks\":\"\"},\"colorscale\":[[0.0,\"#0d0887\"],[0.1111111111111111,\"#46039f\"],[0.2222222222222222,\"#7201a8\"],[0.3333333333333333,\"#9c179e\"],[0.4444444444444444,\"#bd3786\"],[0.5555555555555556,\"#d8576b\"],[0.6666666666666666,\"#ed7953\"],[0.7777777777777778,\"#fb9f3a\"],[0.8888888888888888,\"#fdca26\"],[1.0,\"#f0f921\"]]}],\"mesh3d\":[{\"type\":\"mesh3d\",\"colorbar\":{\"outlinewidth\":0,\"ticks\":\"\"}}],\"scatter\":[{\"fillpattern\":{\"fillmode\":\"overlay\",\"size\":10,\"solidity\":0.2},\"type\":\"scatter\"}],\"parcoords\":[{\"type\":\"parcoords\",\"line\":{\"colorbar\":{\"outlinewidth\":0,\"ticks\":\"\"}}}],\"scatterpolargl\":[{\"type\":\"scatterpolargl\",\"marker\":{\"colorbar\":{\"outlinewidth\":0,\"ticks\":\"\"}}}],\"bar\":[{\"error_x\":{\"color\":\"#2a3f5f\"},\"error_y\":{\"color\":\"#2a3f5f\"},\"marker\":{\"line\":{\"color\":\"#E5ECF6\",\"width\":0.5},\"pattern\":{\"fillmode\":\"overlay\",\"size\":10,\"solidity\":0.2}},\"type\":\"bar\"}],\"scattergeo\":[{\"type\":\"scattergeo\",\"marker\":{\"colorbar\":{\"outlinewidth\":0,\"ticks\":\"\"}}}],\"scatterpolar\":[{\"type\":\"scatterpolar\",\"marker\":{\"colorbar\":{\"outlinewidth\":0,\"ticks\":\"\"}}}],\"histogram\":[{\"marker\":{\"pattern\":{\"fillmode\":\"overlay\",\"size\":10,\"solidity\":0.2}},\"type\":\"histogram\"}],\"scattergl\":[{\"type\":\"scattergl\",\"marker\":{\"colorbar\":{\"outlinewidth\":0,\"ticks\":\"\"}}}],\"scatter3d\":[{\"type\":\"scatter3d\",\"line\":{\"colorbar\":{\"outlinewidth\":0,\"ticks\":\"\"}},\"marker\":{\"colorbar\":{\"outlinewidth\":0,\"ticks\":\"\"}}}],\"scattermapbox\":[{\"type\":\"scattermapbox\",\"marker\":{\"colorbar\":{\"outlinewidth\":0,\"ticks\":\"\"}}}],\"scatterternary\":[{\"type\":\"scatterternary\",\"marker\":{\"colorbar\":{\"outlinewidth\":0,\"ticks\":\"\"}}}],\"scattercarpet\":[{\"type\":\"scattercarpet\",\"marker\":{\"colorbar\":{\"outlinewidth\":0,\"ticks\":\"\"}}}],\"carpet\":[{\"aaxis\":{\"endlinecolor\":\"#2a3f5f\",\"gridcolor\":\"white\",\"linecolor\":\"white\",\"minorgridcolor\":\"white\",\"startlinecolor\":\"#2a3f5f\"},\"baxis\":{\"endlinecolor\":\"#2a3f5f\",\"gridcolor\":\"white\",\"linecolor\":\"white\",\"minorgridcolor\":\"white\",\"startlinecolor\":\"#2a3f5f\"},\"type\":\"carpet\"}],\"table\":[{\"cells\":{\"fill\":{\"color\":\"#EBF0F8\"},\"line\":{\"color\":\"white\"}},\"header\":{\"fill\":{\"color\":\"#C8D4E3\"},\"line\":{\"color\":\"white\"}},\"type\":\"table\"}],\"barpolar\":[{\"marker\":{\"line\":{\"color\":\"#E5ECF6\",\"width\":0.5},\"pattern\":{\"fillmode\":\"overlay\",\"size\":10,\"solidity\":0.2}},\"type\":\"barpolar\"}],\"pie\":[{\"automargin\":true,\"type\":\"pie\"}]},\"layout\":{\"autotypenumbers\":\"strict\",\"colorway\":[\"#636efa\",\"#EF553B\",\"#00cc96\",\"#ab63fa\",\"#FFA15A\",\"#19d3f3\",\"#FF6692\",\"#B6E880\",\"#FF97FF\",\"#FECB52\"],\"font\":{\"color\":\"#2a3f5f\"},\"hovermode\":\"closest\",\"hoverlabel\":{\"align\":\"left\"},\"paper_bgcolor\":\"white\",\"plot_bgcolor\":\"#E5ECF6\",\"polar\":{\"bgcolor\":\"#E5ECF6\",\"angularaxis\":{\"gridcolor\":\"white\",\"linecolor\":\"white\",\"ticks\":\"\"},\"radialaxis\":{\"gridcolor\":\"white\",\"linecolor\":\"white\",\"ticks\":\"\"}},\"ternary\":{\"bgcolor\":\"#E5ECF6\",\"aaxis\":{\"gridcolor\":\"white\",\"linecolor\":\"white\",\"ticks\":\"\"},\"baxis\":{\"gridcolor\":\"white\",\"linecolor\":\"white\",\"ticks\":\"\"},\"caxis\":{\"gridcolor\":\"white\",\"linecolor\":\"white\",\"ticks\":\"\"}},\"coloraxis\":{\"colorbar\":{\"outlinewidth\":0,\"ticks\":\"\"}},\"colorscale\":{\"sequential\":[[0.0,\"#0d0887\"],[0.1111111111111111,\"#46039f\"],[0.2222222222222222,\"#7201a8\"],[0.3333333333333333,\"#9c179e\"],[0.4444444444444444,\"#bd3786\"],[0.5555555555555556,\"#d8576b\"],[0.6666666666666666,\"#ed7953\"],[0.7777777777777778,\"#fb9f3a\"],[0.8888888888888888,\"#fdca26\"],[1.0,\"#f0f921\"]],\"sequentialminus\":[[0.0,\"#0d0887\"],[0.1111111111111111,\"#46039f\"],[0.2222222222222222,\"#7201a8\"],[0.3333333333333333,\"#9c179e\"],[0.4444444444444444,\"#bd3786\"],[0.5555555555555556,\"#d8576b\"],[0.6666666666666666,\"#ed7953\"],[0.7777777777777778,\"#fb9f3a\"],[0.8888888888888888,\"#fdca26\"],[1.0,\"#f0f921\"]],\"diverging\":[[0,\"#8e0152\"],[0.1,\"#c51b7d\"],[0.2,\"#de77ae\"],[0.3,\"#f1b6da\"],[0.4,\"#fde0ef\"],[0.5,\"#f7f7f7\"],[0.6,\"#e6f5d0\"],[0.7,\"#b8e186\"],[0.8,\"#7fbc41\"],[0.9,\"#4d9221\"],[1,\"#276419\"]]},\"xaxis\":{\"gridcolor\":\"white\",\"linecolor\":\"white\",\"ticks\":\"\",\"title\":{\"standoff\":15},\"zerolinecolor\":\"white\",\"automargin\":true,\"zerolinewidth\":2},\"yaxis\":{\"gridcolor\":\"white\",\"linecolor\":\"white\",\"ticks\":\"\",\"title\":{\"standoff\":15},\"zerolinecolor\":\"white\",\"automargin\":true,\"zerolinewidth\":2},\"scene\":{\"xaxis\":{\"backgroundcolor\":\"#E5ECF6\",\"gridcolor\":\"white\",\"linecolor\":\"white\",\"showbackground\":true,\"ticks\":\"\",\"zerolinecolor\":\"white\",\"gridwidth\":2},\"yaxis\":{\"backgroundcolor\":\"#E5ECF6\",\"gridcolor\":\"white\",\"linecolor\":\"white\",\"showbackground\":true,\"ticks\":\"\",\"zerolinecolor\":\"white\",\"gridwidth\":2},\"zaxis\":{\"backgroundcolor\":\"#E5ECF6\",\"gridcolor\":\"white\",\"linecolor\":\"white\",\"showbackground\":true,\"ticks\":\"\",\"zerolinecolor\":\"white\",\"gridwidth\":2}},\"shapedefaults\":{\"line\":{\"color\":\"#2a3f5f\"}},\"annotationdefaults\":{\"arrowcolor\":\"#2a3f5f\",\"arrowhead\":0,\"arrowwidth\":1},\"geo\":{\"bgcolor\":\"white\",\"landcolor\":\"#E5ECF6\",\"subunitcolor\":\"white\",\"showland\":true,\"showlakes\":true,\"lakecolor\":\"white\"},\"title\":{\"x\":0.05},\"mapbox\":{\"style\":\"light\"}}},\"xaxis\":{\"anchor\":\"y\",\"domain\":[0.0,1.0],\"title\":{\"text\":\"colour\"},\"categoryorder\":\"array\",\"categoryarray\":[\"blue\",\"black\",\"gray\",\"brown\",\"white\",\"of many colors\",\"red\",\"beige\",\"violet\",\"pink\",\"green\",\"olive\",\"navy blue\",\"burgundy\"]},\"yaxis\":{\"anchor\":\"x\",\"domain\":[0.0,1.0],\"title\":{\"text\":\"price\"}},\"legend\":{\"title\":{\"text\":\"colour\"},\"tracegroupgap\":0},\"title\":{\"text\":\"Colour of products with their prices\"},\"barmode\":\"relative\"},                        {\"responsive\": true}                    ).then(function(){\n",
       "                            \n",
       "var gd = document.getElementById('764fbdc5-d503-49e5-bd1a-5fd61ff39589');\n",
       "var x = new MutationObserver(function (mutations, observer) {{\n",
       "        var display = window.getComputedStyle(gd).display;\n",
       "        if (!display || display === 'none') {{\n",
       "            console.log([gd, 'removed!']);\n",
       "            Plotly.purge(gd);\n",
       "            observer.disconnect();\n",
       "        }}\n",
       "}});\n",
       "\n",
       "// Listen for the removal of the full notebook cells\n",
       "var notebookContainer = gd.closest('#notebook-container');\n",
       "if (notebookContainer) {{\n",
       "    x.observe(notebookContainer, {childList: true});\n",
       "}}\n",
       "\n",
       "// Listen for the clearing of the current output cell\n",
       "var outputEl = gd.closest('.output');\n",
       "if (outputEl) {{\n",
       "    x.observe(outputEl, {childList: true});\n",
       "}}\n",
       "\n",
       "                        })                };                });            </script>        </div>"
      ]
     },
     "metadata": {},
     "output_type": "display_data"
    }
   ],
   "source": [
    "fig = px.bar(data_frame=df3, x=df3.index, y=\"price\", text_auto='.2s', color=df3.index,\n",
    "             title=\"Colour of products with their prices\")\n",
    "fig.update_traces(textfont_size=12, textangle=0,\n",
    "                  textposition=\"outside\", cliponaxis=False)\n",
    "fig.show()"
   ]
  },
  {
   "cell_type": "markdown",
   "id": "b3407a6a",
   "metadata": {
    "id": "6-Saj1PH8ooO",
    "papermill": {
     "duration": 0.093567,
     "end_time": "2022-10-17T18:55:14.971969",
     "exception": false,
     "start_time": "2022-10-17T18:55:14.878402",
     "status": "completed"
    },
    "tags": []
   },
   "source": [
    "It seems that selling products is affected by color and we can conclude that:\n",
    "- **blue** and **black** colors are preferred for customers"
   ]
  },
  {
   "cell_type": "markdown",
   "id": "79e7886e",
   "metadata": {
    "id": "52ab2f4e",
    "papermill": {
     "duration": 0.090001,
     "end_time": "2022-10-17T18:55:15.151855",
     "exception": false,
     "start_time": "2022-10-17T18:55:15.061854",
     "status": "completed"
    },
    "tags": []
   },
   "source": [
    "## Relation between countries and buying days"
   ]
  },
  {
   "cell_type": "code",
   "execution_count": 26,
   "id": "75d4a4ad",
   "metadata": {
    "execution": {
     "iopub.execute_input": "2022-10-17T18:55:15.335284Z",
     "iopub.status.busy": "2022-10-17T18:55:15.334537Z",
     "iopub.status.idle": "2022-10-17T18:55:15.465274Z",
     "shell.execute_reply": "2022-10-17T18:55:15.464413Z"
    },
    "id": "f1938720",
    "outputId": "3cb79db2-8ca4-4d4d-86bc-e8a1db35feb9",
    "papermill": {
     "duration": 0.227055,
     "end_time": "2022-10-17T18:55:15.469396",
     "exception": false,
     "start_time": "2022-10-17T18:55:15.242341",
     "status": "completed"
    },
    "tags": []
   },
   "outputs": [
    {
     "data": {
      "application/vnd.plotly.v1+json": {
       "config": {
        "plotlyServerURL": "https://plot.ly"
       },
       "data": [
        {
         "hovertemplate": "country=%{x}<br>day=%{y}<br>avreage_prices=%{marker.color}<extra></extra>",
         "legendgroup": "",
         "marker": {
          "color": [
           82,
           67,
           62,
           60.666666666666664,
           60.333333333333336,
           60,
           60,
           59.5,
           58.57142857142857,
           58.23076923076923,
           57.1875,
           57,
           57,
           57,
           57,
           57,
           57,
           55,
           54.75,
           54.5,
           54.5,
           54.22222222222222,
           53.75,
           53.666666666666664,
           53.625,
           53.07692307692308,
           52.9,
           52.7,
           52.666666666666664,
           52.666666666666664,
           52.5,
           52.5,
           52.5,
           52.5,
           52.333333333333336,
           52.333333333333336,
           52.25,
           52,
           52,
           51.5,
           51.25,
           51.2,
           51.166666666666664,
           51,
           51,
           50.875,
           50.75,
           50.4,
           50.285714285714285,
           50,
           50,
           50,
           50,
           49.888888888888886,
           49.7906976744186,
           49.77777777777778,
           49.714285714285715,
           49.714285714285715,
           49.666666666666664,
           49.6,
           49.429906542056074,
           49.42857142857143,
           49.4,
           49.333333333333336,
           49.333333333333336,
           49.32258064516129,
           49.26315789473684,
           49.04761904761905,
           49.02105263157895,
           49,
           48.78787878787879,
           48.75,
           48.733333333333334,
           48.57142857142857,
           48.5,
           48.42857142857143,
           48.391304347826086,
           48.36,
           48.096774193548384,
           48.08571428571429,
           48.07432432432432,
           48.05714285714286,
           48,
           48,
           48,
           48,
           48,
           48,
           47.97727272727273,
           47.96875,
           47.91803278688525,
           47.916666666666664,
           47.857142857142854,
           47.8,
           47.8,
           47.8,
           47.770833333333336,
           47.76190476190476,
           47.75,
           47.666666666666664,
           47.666666666666664,
           47.65,
           47.63513513513514,
           47.6,
           47.6,
           47.57142857142857,
           47.57142857142857,
           47.55102040816327,
           47.52777777777778,
           47.5,
           47.5,
           47.48,
           47.40625,
           47.371428571428574,
           47.333333333333336,
           47.303030303030305,
           47.22222222222222,
           47.19047619047619,
           47.18181818181818,
           47.16923076923077,
           47.1,
           47.06930693069307,
           47,
           47,
           47,
           46.91346153846154,
           46.90909090909091,
           46.859375,
           46.833333333333336,
           46.8,
           46.76470588235294,
           46.764227642276424,
           46.76119402985075,
           46.75,
           46.75,
           46.733333333333334,
           46.72470238095238,
           46.70454545454545,
           46.652,
           46.62264150943396,
           46.5632603406326,
           46.529411764705884,
           46.517857142857146,
           46.473684210526315,
           46.44117647058823,
           46.44,
           46.4375,
           46.42857142857143,
           46.42372881355932,
           46.39503816793893,
           46.375,
           46.36974789915966,
           46.333333333333336,
           46.30864197530864,
           46.256410256410255,
           46.23076923076923,
           46.2248447204969,
           46.214285714285715,
           46.214285714285715,
           46.129760225669955,
           46.11466165413534,
           46.111111111111114,
           46.103960396039604,
           46.0460947503201,
           46.01322751322751,
           46,
           46,
           46,
           45.94117647058823,
           45.9375,
           45.899371069182386,
           45.848837209302324,
           45.80555555555556,
           45.80357142857143,
           45.8,
           45.78787878787879,
           45.76470588235294,
           45.75378266850069,
           45.73721340388007,
           45.73684210526316,
           45.733333333333334,
           45.730593607305934,
           45.714285714285715,
           45.63636363636363,
           45.625,
           45.6,
           45.6,
           45.57553956834533,
           45.574074074074076,
           45.509433962264154,
           45.50782997762864,
           45.5,
           45.5,
           45.5,
           45.49122807017544,
           45.41095890410959,
           45.404347826086955,
           45.40350877192982,
           45.4,
           45.375,
           45.36488340192044,
           45.333333333333336,
           45.333333333333336,
           45.3125,
           45.2962962962963,
           45.294117647058826,
           45.28658536585366,
           45.285714285714285,
           45.27777777777778,
           45.22,
           45.207589285714285,
           45.20618556701031,
           45.18333333333333,
           45.18181818181818,
           45.13643926788686,
           45.125,
           45.11764705882353,
           45.06287425149701,
           45.06060606060606,
           45.0431654676259,
           45.03174603174603,
           45,
           44.94763513513514,
           44.911764705882355,
           44.888888888888886,
           44.80769230769231,
           44.8,
           44.77777777777778,
           44.77777777777778,
           44.76923076923077,
           44.734375,
           44.734177215189874,
           44.72727272727273,
           44.653333333333336,
           44.6,
           44.583333333333336,
           44.537254901960786,
           44.526315789473685,
           44.52010050251256,
           44.509803921568626,
           44.5,
           44.48571428571429,
           44.45454545454545,
           44.42857142857143,
           44.40760869565217,
           44.388888888888886,
           44.36842105263158,
           44.33734939759036,
           44.333333333333336,
           44.333333333333336,
           44.333333333333336,
           44.333333333333336,
           44.31818181818182,
           44.2962962962963,
           44.27777777777778,
           44.25,
           44.25,
           44.24444444444445,
           44.2,
           44.17857142857143,
           44.166666666666664,
           44.0990099009901,
           44.05555555555556,
           44.05172413793103,
           44,
           44,
           44,
           43.9811320754717,
           43.95652173913044,
           43.94117647058823,
           43.935483870967744,
           43.92857142857143,
           43.89655172413793,
           43.87692307692308,
           43.8421052631579,
           43.82691836234371,
           43.8,
           43.78947368421053,
           43.77272727272727,
           43.7710648615882,
           43.76923076923077,
           43.76470588235294,
           43.742574257425744,
           43.73112840466926,
           43.708333333333336,
           43.691893215772716,
           43.6864291542018,
           43.666666666666664,
           43.666666666666664,
           43.66646706586826,
           43.662611137108094,
           43.66226415094339,
           43.66035027275338,
           43.642857142857146,
           43.639683895771036,
           43.625,
           43.625,
           43.604763050276645,
           43.60466906105695,
           43.6,
           43.5625,
           43.55962916139907,
           43.54545454545455,
           43.52837155071901,
           43.495327102803735,
           43.494378135270715,
           43.48880407124682,
           43.47826086956522,
           43.45243430433897,
           43.45124716553288,
           43.42857142857143,
           43.425045890271264,
           43.4,
           43.4,
           43.386445565969716,
           43.377049180327866,
           43.36507543903042,
           43.36363636363637,
           43.359552765790504,
           43.34453781512605,
           43.3039129155634,
           43.290242386575514,
           43.28993055555556,
           43.289855072463766,
           43.280038948393376,
           43.27450980392157,
           43.27272727272727,
           43.24175824175824,
           43.19716494845361,
           43.18356970832218,
           43.18181818181818,
           43.15702479338843,
           43.152596603494956,
           43.15151515151515,
           43.12542703757931,
           43,
           43,
           43,
           43,
           43,
           43,
           43,
           43,
           43,
           43,
           43,
           43,
           43,
           42.951219512195124,
           42.853658536585364,
           42.83720930232558,
           42.80058417419012,
           42.78333333333333,
           42.76923076923077,
           42.75,
           42.71052631578947,
           42.69230769230769,
           42.666666666666664,
           42.666666666666664,
           42.666666666666664,
           42.602409638554214,
           42.583333333333336,
           42.507936507936506,
           42.5,
           42.5,
           42.5,
           42.48,
           42.43333333333333,
           42.4,
           42.36842105263158,
           42.333333333333336,
           42.333333333333336,
           42.23076923076923,
           42.22222222222222,
           42.125,
           42.083333333333336,
           42.07575757575758,
           42.04838709677419,
           42.03076923076923,
           42,
           42,
           42,
           42,
           41.976,
           41.92307692307692,
           41.888888888888886,
           41.833333333333336,
           41.833333333333336,
           41.833333333333336,
           41.82608695652174,
           41.80672268907563,
           41.785714285714285,
           41.774193548387096,
           41.75,
           41.74,
           41.583333333333336,
           41.5,
           41.44444444444444,
           41.34090909090909,
           41.333333333333336,
           41.333333333333336,
           41.30769230769231,
           41.285714285714285,
           41.285714285714285,
           41.285714285714285,
           41.2,
           41.18032786885246,
           41.1764705882353,
           41.166666666666664,
           41.166666666666664,
           41.149253731343286,
           41.04651162790697,
           41,
           41,
           41,
           41,
           41,
           40.94565217391305,
           40.94117647058823,
           40.857142857142854,
           40.833333333333336,
           40.733333333333334,
           40.714285714285715,
           40.515151515151516,
           40.5,
           40.49295774647887,
           40.4,
           40.4,
           40.34782608695652,
           40.333333333333336,
           40.333333333333336,
           40.333333333333336,
           40.25,
           40.11278195488722,
           40.111111111111114,
           40,
           40,
           39.92857142857143,
           39.90909090909091,
           39.8,
           39.75438596491228,
           39.72727272727273,
           39.705882352941174,
           39.666666666666664,
           39.6551724137931,
           39.55813953488372,
           39.48717948717949,
           39.25,
           39.25,
           39.2,
           39.19230769230769,
           39.166666666666664,
           39.04761904761905,
           39,
           39,
           38.91244239631337,
           38.8,
           38.54545454545455,
           38.5,
           38.44444444444444,
           38.4,
           38.333333333333336,
           38.25,
           38.125,
           38,
           38,
           38,
           38,
           38,
           38,
           38,
           38,
           38,
           38,
           38,
           38,
           38,
           38,
           38,
           38,
           38,
           38,
           38,
           37.94117647058823,
           37.77272727272727,
           37.4,
           37.166666666666664,
           37.142857142857146,
           37,
           36.9375,
           36.9,
           36.80952380952381,
           36.75,
           36.666666666666664,
           36.5,
           35.857142857142854,
           35.5,
           35.5,
           35.27272727272727,
           34.8,
           34.7,
           34.666666666666664,
           33.8,
           33,
           33,
           33,
           33,
           33,
           33,
           33,
           33,
           33,
           33,
           33,
           33,
           32.54545454545455,
           32.54545454545455,
           31.75,
           31.333333333333332,
           31.333333333333332,
           30.5,
           29.5,
           28,
           28,
           28,
           28,
           28,
           28,
           28,
           23
          ],
          "coloraxis": "coloraxis",
          "size": [
           82,
           67,
           62,
           60.666666666666664,
           60.333333333333336,
           60,
           60,
           59.5,
           58.57142857142857,
           58.23076923076923,
           57.1875,
           57,
           57,
           57,
           57,
           57,
           57,
           55,
           54.75,
           54.5,
           54.5,
           54.22222222222222,
           53.75,
           53.666666666666664,
           53.625,
           53.07692307692308,
           52.9,
           52.7,
           52.666666666666664,
           52.666666666666664,
           52.5,
           52.5,
           52.5,
           52.5,
           52.333333333333336,
           52.333333333333336,
           52.25,
           52,
           52,
           51.5,
           51.25,
           51.2,
           51.166666666666664,
           51,
           51,
           50.875,
           50.75,
           50.4,
           50.285714285714285,
           50,
           50,
           50,
           50,
           49.888888888888886,
           49.7906976744186,
           49.77777777777778,
           49.714285714285715,
           49.714285714285715,
           49.666666666666664,
           49.6,
           49.429906542056074,
           49.42857142857143,
           49.4,
           49.333333333333336,
           49.333333333333336,
           49.32258064516129,
           49.26315789473684,
           49.04761904761905,
           49.02105263157895,
           49,
           48.78787878787879,
           48.75,
           48.733333333333334,
           48.57142857142857,
           48.5,
           48.42857142857143,
           48.391304347826086,
           48.36,
           48.096774193548384,
           48.08571428571429,
           48.07432432432432,
           48.05714285714286,
           48,
           48,
           48,
           48,
           48,
           48,
           47.97727272727273,
           47.96875,
           47.91803278688525,
           47.916666666666664,
           47.857142857142854,
           47.8,
           47.8,
           47.8,
           47.770833333333336,
           47.76190476190476,
           47.75,
           47.666666666666664,
           47.666666666666664,
           47.65,
           47.63513513513514,
           47.6,
           47.6,
           47.57142857142857,
           47.57142857142857,
           47.55102040816327,
           47.52777777777778,
           47.5,
           47.5,
           47.48,
           47.40625,
           47.371428571428574,
           47.333333333333336,
           47.303030303030305,
           47.22222222222222,
           47.19047619047619,
           47.18181818181818,
           47.16923076923077,
           47.1,
           47.06930693069307,
           47,
           47,
           47,
           46.91346153846154,
           46.90909090909091,
           46.859375,
           46.833333333333336,
           46.8,
           46.76470588235294,
           46.764227642276424,
           46.76119402985075,
           46.75,
           46.75,
           46.733333333333334,
           46.72470238095238,
           46.70454545454545,
           46.652,
           46.62264150943396,
           46.5632603406326,
           46.529411764705884,
           46.517857142857146,
           46.473684210526315,
           46.44117647058823,
           46.44,
           46.4375,
           46.42857142857143,
           46.42372881355932,
           46.39503816793893,
           46.375,
           46.36974789915966,
           46.333333333333336,
           46.30864197530864,
           46.256410256410255,
           46.23076923076923,
           46.2248447204969,
           46.214285714285715,
           46.214285714285715,
           46.129760225669955,
           46.11466165413534,
           46.111111111111114,
           46.103960396039604,
           46.0460947503201,
           46.01322751322751,
           46,
           46,
           46,
           45.94117647058823,
           45.9375,
           45.899371069182386,
           45.848837209302324,
           45.80555555555556,
           45.80357142857143,
           45.8,
           45.78787878787879,
           45.76470588235294,
           45.75378266850069,
           45.73721340388007,
           45.73684210526316,
           45.733333333333334,
           45.730593607305934,
           45.714285714285715,
           45.63636363636363,
           45.625,
           45.6,
           45.6,
           45.57553956834533,
           45.574074074074076,
           45.509433962264154,
           45.50782997762864,
           45.5,
           45.5,
           45.5,
           45.49122807017544,
           45.41095890410959,
           45.404347826086955,
           45.40350877192982,
           45.4,
           45.375,
           45.36488340192044,
           45.333333333333336,
           45.333333333333336,
           45.3125,
           45.2962962962963,
           45.294117647058826,
           45.28658536585366,
           45.285714285714285,
           45.27777777777778,
           45.22,
           45.207589285714285,
           45.20618556701031,
           45.18333333333333,
           45.18181818181818,
           45.13643926788686,
           45.125,
           45.11764705882353,
           45.06287425149701,
           45.06060606060606,
           45.0431654676259,
           45.03174603174603,
           45,
           44.94763513513514,
           44.911764705882355,
           44.888888888888886,
           44.80769230769231,
           44.8,
           44.77777777777778,
           44.77777777777778,
           44.76923076923077,
           44.734375,
           44.734177215189874,
           44.72727272727273,
           44.653333333333336,
           44.6,
           44.583333333333336,
           44.537254901960786,
           44.526315789473685,
           44.52010050251256,
           44.509803921568626,
           44.5,
           44.48571428571429,
           44.45454545454545,
           44.42857142857143,
           44.40760869565217,
           44.388888888888886,
           44.36842105263158,
           44.33734939759036,
           44.333333333333336,
           44.333333333333336,
           44.333333333333336,
           44.333333333333336,
           44.31818181818182,
           44.2962962962963,
           44.27777777777778,
           44.25,
           44.25,
           44.24444444444445,
           44.2,
           44.17857142857143,
           44.166666666666664,
           44.0990099009901,
           44.05555555555556,
           44.05172413793103,
           44,
           44,
           44,
           43.9811320754717,
           43.95652173913044,
           43.94117647058823,
           43.935483870967744,
           43.92857142857143,
           43.89655172413793,
           43.87692307692308,
           43.8421052631579,
           43.82691836234371,
           43.8,
           43.78947368421053,
           43.77272727272727,
           43.7710648615882,
           43.76923076923077,
           43.76470588235294,
           43.742574257425744,
           43.73112840466926,
           43.708333333333336,
           43.691893215772716,
           43.6864291542018,
           43.666666666666664,
           43.666666666666664,
           43.66646706586826,
           43.662611137108094,
           43.66226415094339,
           43.66035027275338,
           43.642857142857146,
           43.639683895771036,
           43.625,
           43.625,
           43.604763050276645,
           43.60466906105695,
           43.6,
           43.5625,
           43.55962916139907,
           43.54545454545455,
           43.52837155071901,
           43.495327102803735,
           43.494378135270715,
           43.48880407124682,
           43.47826086956522,
           43.45243430433897,
           43.45124716553288,
           43.42857142857143,
           43.425045890271264,
           43.4,
           43.4,
           43.386445565969716,
           43.377049180327866,
           43.36507543903042,
           43.36363636363637,
           43.359552765790504,
           43.34453781512605,
           43.3039129155634,
           43.290242386575514,
           43.28993055555556,
           43.289855072463766,
           43.280038948393376,
           43.27450980392157,
           43.27272727272727,
           43.24175824175824,
           43.19716494845361,
           43.18356970832218,
           43.18181818181818,
           43.15702479338843,
           43.152596603494956,
           43.15151515151515,
           43.12542703757931,
           43,
           43,
           43,
           43,
           43,
           43,
           43,
           43,
           43,
           43,
           43,
           43,
           43,
           42.951219512195124,
           42.853658536585364,
           42.83720930232558,
           42.80058417419012,
           42.78333333333333,
           42.76923076923077,
           42.75,
           42.71052631578947,
           42.69230769230769,
           42.666666666666664,
           42.666666666666664,
           42.666666666666664,
           42.602409638554214,
           42.583333333333336,
           42.507936507936506,
           42.5,
           42.5,
           42.5,
           42.48,
           42.43333333333333,
           42.4,
           42.36842105263158,
           42.333333333333336,
           42.333333333333336,
           42.23076923076923,
           42.22222222222222,
           42.125,
           42.083333333333336,
           42.07575757575758,
           42.04838709677419,
           42.03076923076923,
           42,
           42,
           42,
           42,
           41.976,
           41.92307692307692,
           41.888888888888886,
           41.833333333333336,
           41.833333333333336,
           41.833333333333336,
           41.82608695652174,
           41.80672268907563,
           41.785714285714285,
           41.774193548387096,
           41.75,
           41.74,
           41.583333333333336,
           41.5,
           41.44444444444444,
           41.34090909090909,
           41.333333333333336,
           41.333333333333336,
           41.30769230769231,
           41.285714285714285,
           41.285714285714285,
           41.285714285714285,
           41.2,
           41.18032786885246,
           41.1764705882353,
           41.166666666666664,
           41.166666666666664,
           41.149253731343286,
           41.04651162790697,
           41,
           41,
           41,
           41,
           41,
           40.94565217391305,
           40.94117647058823,
           40.857142857142854,
           40.833333333333336,
           40.733333333333334,
           40.714285714285715,
           40.515151515151516,
           40.5,
           40.49295774647887,
           40.4,
           40.4,
           40.34782608695652,
           40.333333333333336,
           40.333333333333336,
           40.333333333333336,
           40.25,
           40.11278195488722,
           40.111111111111114,
           40,
           40,
           39.92857142857143,
           39.90909090909091,
           39.8,
           39.75438596491228,
           39.72727272727273,
           39.705882352941174,
           39.666666666666664,
           39.6551724137931,
           39.55813953488372,
           39.48717948717949,
           39.25,
           39.25,
           39.2,
           39.19230769230769,
           39.166666666666664,
           39.04761904761905,
           39,
           39,
           38.91244239631337,
           38.8,
           38.54545454545455,
           38.5,
           38.44444444444444,
           38.4,
           38.333333333333336,
           38.25,
           38.125,
           38,
           38,
           38,
           38,
           38,
           38,
           38,
           38,
           38,
           38,
           38,
           38,
           38,
           38,
           38,
           38,
           38,
           38,
           38,
           37.94117647058823,
           37.77272727272727,
           37.4,
           37.166666666666664,
           37.142857142857146,
           37,
           36.9375,
           36.9,
           36.80952380952381,
           36.75,
           36.666666666666664,
           36.5,
           35.857142857142854,
           35.5,
           35.5,
           35.27272727272727,
           34.8,
           34.7,
           34.666666666666664,
           33.8,
           33,
           33,
           33,
           33,
           33,
           33,
           33,
           33,
           33,
           33,
           33,
           33,
           32.54545454545455,
           32.54545454545455,
           31.75,
           31.333333333333332,
           31.333333333333332,
           30.5,
           29.5,
           28,
           28,
           28,
           28,
           28,
           28,
           28,
           23
          ],
          "sizemode": "area",
          "sizeref": 0.205,
          "symbol": "circle"
         },
         "mode": "markers",
         "name": "",
         "orientation": "v",
         "showlegend": false,
         "type": "scatter",
         "x": [
          "Denmark",
          "United Kingdom",
          "Switzerland",
          "Denmark",
          "Spain",
          "Belgium",
          "Italy",
          "United Kingdom",
          "Switzerland",
          "Finland",
          "Italy",
          "Switzerland",
          "India",
          "Romania",
          "USA",
          "Mexico",
          "Denmark",
          "Croatia",
          "Romania",
          "Spain",
          "Denmark",
          "Germany",
          "Denmark",
          "Slovakia",
          "Denmark",
          "Latvia",
          "Netherlands",
          "Ukraine",
          "Norway",
          "Denmark",
          "Norway",
          "France",
          "Austria",
          "Denmark",
          "Sweden",
          "biz (.biz)",
          "Greece",
          "Norway",
          "Romania",
          "Germany",
          "Italy",
          "Germany",
          "Netherlands",
          "Estonia",
          "Greece",
          "Switzerland",
          "unidentified",
          "Denmark",
          "Norway",
          "USA",
          "Switzerland",
          "Germany",
          "Finland",
          "Romania",
          "com (.com)",
          "USA",
          "Italy",
          "Germany",
          "Netherlands",
          "unidentified",
          "Lithuania",
          "Norway",
          "Norway",
          "Ireland",
          "Denmark",
          "Ireland",
          "com (.com)",
          "Slovakia",
          "net (.net)",
          "Austria",
          "com (.com)",
          "Finland",
          "com (.com)",
          "Slovakia",
          "France",
          "Italy",
          "Germany",
          "Slovakia",
          "Germany",
          "Slovakia",
          "Lithuania",
          "Slovakia",
          "USA",
          "USA",
          "Ukraine",
          "unidentified",
          "org (*.org)",
          "Finland",
          "Germany",
          "Slovakia",
          "com (.com)",
          "Ireland",
          "Estonia",
          "Slovakia",
          "Russia",
          "Denmark",
          "net (.net)",
          "Slovakia",
          "Ukraine",
          "unidentified",
          "Greece",
          "net (.net)",
          "net (.net)",
          "France",
          "unidentified",
          "com (.com)",
          "Germany",
          "Lithuania",
          "Italy",
          "Germany",
          "Finland",
          "Slovakia",
          "United Kingdom",
          "USA",
          "Russia",
          "Lithuania",
          "com (.com)",
          "com (.com)",
          "France",
          "Lithuania",
          "Slovakia",
          "net (.net)",
          "Austria",
          "Denmark",
          "unidentified",
          "Czech Republic",
          "United Kingdom",
          "net (.net)",
          "Romania",
          "Switzerland",
          "Germany",
          "net (.net)",
          "Czech Republic",
          "United Kingdom",
          "Switzerland",
          "Norway",
          "Czech Republic",
          "Czech Republic",
          "Czech Republic",
          "United Kingdom",
          "Czech Republic",
          "Belgium",
          "Czech Republic",
          "com (.com)",
          "Slovakia",
          "United Kingdom",
          "Netherlands",
          "unidentified",
          "net (.net)",
          "Czech Republic",
          "Iceland",
          "net (.net)",
          "unidentified",
          "Czech Republic",
          "Czech Republic",
          "United Kingdom",
          "Czech Republic",
          "Ireland",
          "USA",
          "Czech Republic",
          "Czech Republic",
          "Denmark",
          "Czech Republic",
          "Czech Republic",
          "Czech Republic",
          "Denmark",
          "Netherlands",
          "Germany",
          "Lithuania",
          "United Kingdom",
          "Lithuania",
          "Czech Republic",
          "net (.net)",
          "net (.net)",
          "Christmas Island",
          "Slovakia",
          "net (.net)",
          "Czech Republic",
          "Czech Republic",
          "Switzerland",
          "United Kingdom",
          "Czech Republic",
          "Norway",
          "Slovakia",
          "Lithuania",
          "unidentified",
          "Lithuania",
          "net (.net)",
          "Czech Republic",
          "com (.com)",
          "Czech Republic",
          "unidentified",
          "unidentified",
          "Ireland",
          "Lithuania",
          "Czech Republic",
          "Czech Republic",
          "Ireland",
          "Germany",
          "Luxembourg",
          "Czech Republic",
          "com (.com)",
          "Estonia",
          "Italy",
          "net (.net)",
          "com (.com)",
          "Lithuania",
          "Slovakia",
          "biz (.biz)",
          "Romania",
          "Czech Republic",
          "net (.net)",
          "net (.net)",
          "Russia",
          "Czech Republic",
          "Norway",
          "Germany",
          "Czech Republic",
          "com (.com)",
          "Lithuania",
          "com (.com)",
          "USA",
          "Czech Republic",
          "USA",
          "net (.net)",
          "France",
          "France",
          "Italy",
          "United Kingdom",
          "com (.com)",
          "net (.net)",
          "Lithuania",
          "Latvia",
          "Germany",
          "Estonia",
          "com (.com)",
          "Czech Republic",
          "com (.com)",
          "Czech Republic",
          "Lithuania",
          "Ireland",
          "Lithuania",
          "Finland",
          "Switzerland",
          "Lithuania",
          "Slovakia",
          "net (.net)",
          "net (.net)",
          "Estonia",
          "Netherlands",
          "Switzerland",
          "org (*.org)",
          "Lithuania",
          "Ireland",
          "Ireland",
          "net (.net)",
          "United Kingdom",
          "United Kingdom",
          "Sweden",
          "unidentified",
          "com (.com)",
          "net (.net)",
          "Estonia",
          "net (.net)",
          "USA",
          "Germany",
          "Germany",
          "com (.com)",
          "United Kingdom",
          "Ireland",
          "Netherlands",
          "Netherlands",
          "Netherlands",
          "com (.com)",
          "Denmark",
          "Poland",
          "Ukraine",
          "com (.com)",
          "Ireland",
          "Poland",
          "Lithuania",
          "Norway",
          "net (.net)",
          "Poland",
          "Lithuania",
          "Poland",
          "Poland",
          "net (.net)",
          "Russia",
          "Poland",
          "Poland",
          "Poland",
          "Poland",
          "Germany",
          "Poland",
          "Germany",
          "United Kingdom",
          "Poland",
          "Poland",
          "France",
          "Ireland",
          "Poland",
          "Slovakia",
          "Poland",
          "net (.net)",
          "Poland",
          "Poland",
          "Lithuania",
          "Poland",
          "Poland",
          "Austria",
          "Poland",
          "com (.com)",
          "Ireland",
          "Poland",
          "com (.com)",
          "Poland",
          "Ireland",
          "Poland",
          "Slovakia",
          "Poland",
          "Poland",
          "Poland",
          "Lithuania",
          "Poland",
          "United Kingdom",
          "unidentified",
          "net (.net)",
          "Poland",
          "Poland",
          "Belgium",
          "Lithuania",
          "Poland",
          "Lithuania",
          "Poland",
          "France",
          "int (.int)",
          "Belgium",
          "Faroe Islands",
          "Denmark",
          "Greece",
          "Ireland",
          "Estonia",
          "Ireland",
          "Romania",
          "Netherlands",
          "Estonia",
          "Italy",
          "Ireland",
          "com (.com)",
          "com (.com)",
          "Poland",
          "Slovakia",
          "Ireland",
          "Romania",
          "com (.com)",
          "United Kingdom",
          "United Kingdom",
          "Norway",
          "United Kingdom",
          "com (.com)",
          "United Kingdom",
          "net (.net)",
          "Italy",
          "Ireland",
          "Norway",
          "Lithuania",
          "com (.com)",
          "Netherlands",
          "Norway",
          "Slovakia",
          "United Kingdom",
          "Russia",
          "com (.com)",
          "Italy",
          "France",
          "Ireland",
          "net (.net)",
          "net (.net)",
          "Slovakia",
          "Germany",
          "int (.int)",
          "Romania",
          "Germany",
          "Germany",
          "Lithuania",
          "Netherlands",
          "Ireland",
          "Slovakia",
          "Ireland",
          "Lithuania",
          "Spain",
          "net (.net)",
          "Iceland",
          "Lithuania",
          "Switzerland",
          "Cayman Islands",
          "Belgium",
          "United Kingdom",
          "Austria",
          "United Kingdom",
          "Germany",
          "Netherlands",
          "Estonia",
          "Sweden",
          "Ireland",
          "Germany",
          "Austria",
          "United Kingdom",
          "Germany",
          "com (.com)",
          "com (.com)",
          "Belgium",
          "Russia",
          "France",
          "Germany",
          "France",
          "Lithuania",
          "United Kingdom",
          "United Kingdom",
          "United Kingdom",
          "United Kingdom",
          "Switzerland",
          "Belgium",
          "Belgium",
          "Lithuania",
          "USA",
          "Switzerland",
          "Belgium",
          "Ireland",
          "Switzerland",
          "United Kingdom",
          "Ukraine",
          "Lithuania",
          "Ireland",
          "Russia",
          "Slovakia",
          "Austria",
          "Belgium",
          "biz (.biz)",
          "Ireland",
          "Germany",
          "Germany",
          "org (*.org)",
          "Ireland",
          "Belgium",
          "Belgium",
          "Slovakia",
          "Ireland",
          "Switzerland",
          "Germany",
          "Netherlands",
          "Ireland",
          "Sweden",
          "Sweden",
          "Lithuania",
          "Belgium",
          "Luxembourg",
          "Germany",
          "India",
          "Sweden",
          "Slovakia",
          "Austria",
          "Slovakia",
          "Netherlands",
          "Sweden",
          "France",
          "France",
          "USA",
          "United Kingdom",
          "Switzerland",
          "British Virgin Islands",
          "USA",
          "Ireland",
          "Sweden",
          "Netherlands",
          "France",
          "Slovakia",
          "Italy",
          "Norway",
          "Netherlands",
          "France",
          "Norway",
          "Hungary",
          "United Kingdom",
          "Russia",
          "Denmark",
          "Croatia",
          "Netherlands",
          "Sweden",
          "Denmark",
          "Luxembourg",
          "Greece",
          "Italy",
          "Ireland",
          "Belgium",
          "USA",
          "Italy",
          "Belgium",
          "Iceland",
          "unidentified",
          "Australia",
          "Switzerland",
          "United Arab Emirates",
          "Luxembourg",
          "USA",
          "Netherlands",
          "Netherlands",
          "Austria",
          "Portugal",
          "unidentified",
          "Belgium",
          "Slovenia",
          "San Marion",
          "Germany",
          "Sweden",
          "Iceland",
          "Sweden",
          "Norway",
          "unidentified",
          "USA",
          "Switzerland",
          "Portugal",
          "unidentified",
          "Iceland",
          "Hungary",
          "Russia",
          "unidentified",
          "unidentified",
          "Cyprus"
         ],
         "xaxis": "x",
         "y": [
          17,
          25,
          31,
          13,
          7,
          4,
          27,
          24,
          25,
          22,
          11,
          21,
          3,
          12,
          7,
          2,
          24,
          18,
          9,
          14,
          5,
          15,
          16,
          9,
          9,
          14,
          25,
          2,
          22,
          28,
          7,
          1,
          6,
          7,
          10,
          27,
          13,
          15,
          24,
          13,
          3,
          21,
          6,
          6,
          7,
          26,
          7,
          23,
          29,
          8,
          3,
          12,
          14,
          10,
          9,
          29,
          25,
          23,
          28,
          20,
          4,
          17,
          5,
          6,
          8,
          14,
          19,
          16,
          7,
          8,
          25,
          18,
          12,
          18,
          17,
          14,
          19,
          15,
          28,
          23,
          5,
          25,
          19,
          17,
          4,
          17,
          8,
          25,
          24,
          14,
          26,
          28,
          13,
          3,
          4,
          29,
          6,
          22,
          30,
          12,
          8,
          25,
          1,
          13,
          10,
          29,
          8,
          20,
          9,
          29,
          23,
          8,
          7,
          27,
          2,
          6,
          23,
          3,
          7,
          1,
          10,
          21,
          24,
          18,
          1,
          9,
          17,
          15,
          11,
          29,
          1,
          4,
          22,
          8,
          13,
          1,
          7,
          21,
          26,
          9,
          2,
          1,
          17,
          27,
          5,
          23,
          26,
          23,
          27,
          3,
          26,
          24,
          25,
          30,
          16,
          2,
          29,
          23,
          30,
          5,
          15,
          22,
          11,
          1,
          4,
          11,
          4,
          17,
          31,
          18,
          2,
          10,
          23,
          16,
          23,
          4,
          14,
          6,
          13,
          10,
          5,
          18,
          19,
          19,
          25,
          4,
          13,
          3,
          25,
          17,
          27,
          29,
          14,
          3,
          24,
          28,
          19,
          1,
          5,
          6,
          14,
          31,
          7,
          12,
          28,
          2,
          16,
          13,
          12,
          29,
          24,
          12,
          17,
          28,
          12,
          31,
          14,
          8,
          15,
          21,
          28,
          26,
          23,
          2,
          31,
          21,
          5,
          5,
          13,
          14,
          2,
          17,
          11,
          2,
          14,
          22,
          31,
          21,
          20,
          18,
          15,
          15,
          11,
          16,
          22,
          2,
          26,
          18,
          18,
          19,
          6,
          14,
          29,
          18,
          30,
          8,
          30,
          16,
          19,
          8,
          8,
          22,
          10,
          9,
          15,
          18,
          22,
          10,
          1,
          11,
          3,
          29,
          14,
          5,
          2,
          21,
          21,
          13,
          9,
          7,
          28,
          18,
          29,
          6,
          19,
          14,
          30,
          11,
          30,
          5,
          24,
          23,
          27,
          9,
          16,
          30,
          28,
          17,
          28,
          19,
          16,
          9,
          29,
          4,
          19,
          2,
          20,
          30,
          10,
          8,
          17,
          12,
          4,
          10,
          31,
          6,
          22,
          26,
          3,
          12,
          13,
          26,
          1,
          11,
          11,
          4,
          24,
          20,
          18,
          19,
          11,
          7,
          25,
          26,
          29,
          18,
          12,
          5,
          24,
          12,
          28,
          20,
          26,
          7,
          1,
          24,
          15,
          23,
          25,
          7,
          1,
          15,
          1,
          22,
          5,
          30,
          15,
          22,
          24,
          12,
          11,
          20,
          10,
          18,
          4,
          27,
          3,
          20,
          2,
          4,
          7,
          10,
          11,
          24,
          22,
          8,
          12,
          5,
          13,
          30,
          20,
          28,
          27,
          7,
          6,
          14,
          13,
          13,
          24,
          17,
          8,
          22,
          30,
          24,
          27,
          1,
          5,
          14,
          3,
          16,
          19,
          25,
          8,
          19,
          9,
          27,
          26,
          12,
          6,
          27,
          18,
          16,
          10,
          14,
          16,
          3,
          3,
          23,
          31,
          14,
          11,
          29,
          2,
          7,
          29,
          10,
          1,
          7,
          18,
          21,
          4,
          21,
          17,
          9,
          31,
          22,
          27,
          4,
          21,
          11,
          8,
          4,
          11,
          12,
          2,
          19,
          12,
          20,
          29,
          11,
          16,
          18,
          24,
          23,
          16,
          12,
          15,
          26,
          31,
          21,
          13,
          28,
          21,
          11,
          12,
          31,
          20,
          30,
          14,
          27,
          19,
          24,
          6,
          5,
          18,
          9,
          2,
          6,
          19,
          28,
          7,
          22,
          13,
          12,
          26,
          6,
          3,
          2,
          11,
          12,
          6,
          14,
          5,
          26,
          19,
          9,
          12,
          15,
          13,
          3,
          21,
          11,
          14,
          22,
          2,
          21,
          17,
          27,
          14,
          26,
          3,
          20,
          15,
          17,
          10,
          8,
          6,
          21,
          20,
          2,
          10,
          24,
          10,
          19,
          5,
          1,
          21,
          26,
          11,
          6
         ],
         "yaxis": "y"
        }
       ],
       "layout": {
        "coloraxis": {
         "colorbar": {
          "title": {
           "text": "avreage_prices"
          }
         },
         "colorscale": [
          [
           0,
           "#0d0887"
          ],
          [
           0.1111111111111111,
           "#46039f"
          ],
          [
           0.2222222222222222,
           "#7201a8"
          ],
          [
           0.3333333333333333,
           "#9c179e"
          ],
          [
           0.4444444444444444,
           "#bd3786"
          ],
          [
           0.5555555555555556,
           "#d8576b"
          ],
          [
           0.6666666666666666,
           "#ed7953"
          ],
          [
           0.7777777777777778,
           "#fb9f3a"
          ],
          [
           0.8888888888888888,
           "#fdca26"
          ],
          [
           1,
           "#f0f921"
          ]
         ]
        },
        "legend": {
         "itemsizing": "constant",
         "tracegroupgap": 0
        },
        "margin": {
         "t": 60
        },
        "template": {
         "data": {
          "bar": [
           {
            "error_x": {
             "color": "#2a3f5f"
            },
            "error_y": {
             "color": "#2a3f5f"
            },
            "marker": {
             "line": {
              "color": "#E5ECF6",
              "width": 0.5
             },
             "pattern": {
              "fillmode": "overlay",
              "size": 10,
              "solidity": 0.2
             }
            },
            "type": "bar"
           }
          ],
          "barpolar": [
           {
            "marker": {
             "line": {
              "color": "#E5ECF6",
              "width": 0.5
             },
             "pattern": {
              "fillmode": "overlay",
              "size": 10,
              "solidity": 0.2
             }
            },
            "type": "barpolar"
           }
          ],
          "carpet": [
           {
            "aaxis": {
             "endlinecolor": "#2a3f5f",
             "gridcolor": "white",
             "linecolor": "white",
             "minorgridcolor": "white",
             "startlinecolor": "#2a3f5f"
            },
            "baxis": {
             "endlinecolor": "#2a3f5f",
             "gridcolor": "white",
             "linecolor": "white",
             "minorgridcolor": "white",
             "startlinecolor": "#2a3f5f"
            },
            "type": "carpet"
           }
          ],
          "choropleth": [
           {
            "colorbar": {
             "outlinewidth": 0,
             "ticks": ""
            },
            "type": "choropleth"
           }
          ],
          "contour": [
           {
            "colorbar": {
             "outlinewidth": 0,
             "ticks": ""
            },
            "colorscale": [
             [
              0,
              "#0d0887"
             ],
             [
              0.1111111111111111,
              "#46039f"
             ],
             [
              0.2222222222222222,
              "#7201a8"
             ],
             [
              0.3333333333333333,
              "#9c179e"
             ],
             [
              0.4444444444444444,
              "#bd3786"
             ],
             [
              0.5555555555555556,
              "#d8576b"
             ],
             [
              0.6666666666666666,
              "#ed7953"
             ],
             [
              0.7777777777777778,
              "#fb9f3a"
             ],
             [
              0.8888888888888888,
              "#fdca26"
             ],
             [
              1,
              "#f0f921"
             ]
            ],
            "type": "contour"
           }
          ],
          "contourcarpet": [
           {
            "colorbar": {
             "outlinewidth": 0,
             "ticks": ""
            },
            "type": "contourcarpet"
           }
          ],
          "heatmap": [
           {
            "colorbar": {
             "outlinewidth": 0,
             "ticks": ""
            },
            "colorscale": [
             [
              0,
              "#0d0887"
             ],
             [
              0.1111111111111111,
              "#46039f"
             ],
             [
              0.2222222222222222,
              "#7201a8"
             ],
             [
              0.3333333333333333,
              "#9c179e"
             ],
             [
              0.4444444444444444,
              "#bd3786"
             ],
             [
              0.5555555555555556,
              "#d8576b"
             ],
             [
              0.6666666666666666,
              "#ed7953"
             ],
             [
              0.7777777777777778,
              "#fb9f3a"
             ],
             [
              0.8888888888888888,
              "#fdca26"
             ],
             [
              1,
              "#f0f921"
             ]
            ],
            "type": "heatmap"
           }
          ],
          "heatmapgl": [
           {
            "colorbar": {
             "outlinewidth": 0,
             "ticks": ""
            },
            "colorscale": [
             [
              0,
              "#0d0887"
             ],
             [
              0.1111111111111111,
              "#46039f"
             ],
             [
              0.2222222222222222,
              "#7201a8"
             ],
             [
              0.3333333333333333,
              "#9c179e"
             ],
             [
              0.4444444444444444,
              "#bd3786"
             ],
             [
              0.5555555555555556,
              "#d8576b"
             ],
             [
              0.6666666666666666,
              "#ed7953"
             ],
             [
              0.7777777777777778,
              "#fb9f3a"
             ],
             [
              0.8888888888888888,
              "#fdca26"
             ],
             [
              1,
              "#f0f921"
             ]
            ],
            "type": "heatmapgl"
           }
          ],
          "histogram": [
           {
            "marker": {
             "pattern": {
              "fillmode": "overlay",
              "size": 10,
              "solidity": 0.2
             }
            },
            "type": "histogram"
           }
          ],
          "histogram2d": [
           {
            "colorbar": {
             "outlinewidth": 0,
             "ticks": ""
            },
            "colorscale": [
             [
              0,
              "#0d0887"
             ],
             [
              0.1111111111111111,
              "#46039f"
             ],
             [
              0.2222222222222222,
              "#7201a8"
             ],
             [
              0.3333333333333333,
              "#9c179e"
             ],
             [
              0.4444444444444444,
              "#bd3786"
             ],
             [
              0.5555555555555556,
              "#d8576b"
             ],
             [
              0.6666666666666666,
              "#ed7953"
             ],
             [
              0.7777777777777778,
              "#fb9f3a"
             ],
             [
              0.8888888888888888,
              "#fdca26"
             ],
             [
              1,
              "#f0f921"
             ]
            ],
            "type": "histogram2d"
           }
          ],
          "histogram2dcontour": [
           {
            "colorbar": {
             "outlinewidth": 0,
             "ticks": ""
            },
            "colorscale": [
             [
              0,
              "#0d0887"
             ],
             [
              0.1111111111111111,
              "#46039f"
             ],
             [
              0.2222222222222222,
              "#7201a8"
             ],
             [
              0.3333333333333333,
              "#9c179e"
             ],
             [
              0.4444444444444444,
              "#bd3786"
             ],
             [
              0.5555555555555556,
              "#d8576b"
             ],
             [
              0.6666666666666666,
              "#ed7953"
             ],
             [
              0.7777777777777778,
              "#fb9f3a"
             ],
             [
              0.8888888888888888,
              "#fdca26"
             ],
             [
              1,
              "#f0f921"
             ]
            ],
            "type": "histogram2dcontour"
           }
          ],
          "mesh3d": [
           {
            "colorbar": {
             "outlinewidth": 0,
             "ticks": ""
            },
            "type": "mesh3d"
           }
          ],
          "parcoords": [
           {
            "line": {
             "colorbar": {
              "outlinewidth": 0,
              "ticks": ""
             }
            },
            "type": "parcoords"
           }
          ],
          "pie": [
           {
            "automargin": true,
            "type": "pie"
           }
          ],
          "scatter": [
           {
            "fillpattern": {
             "fillmode": "overlay",
             "size": 10,
             "solidity": 0.2
            },
            "type": "scatter"
           }
          ],
          "scatter3d": [
           {
            "line": {
             "colorbar": {
              "outlinewidth": 0,
              "ticks": ""
             }
            },
            "marker": {
             "colorbar": {
              "outlinewidth": 0,
              "ticks": ""
             }
            },
            "type": "scatter3d"
           }
          ],
          "scattercarpet": [
           {
            "marker": {
             "colorbar": {
              "outlinewidth": 0,
              "ticks": ""
             }
            },
            "type": "scattercarpet"
           }
          ],
          "scattergeo": [
           {
            "marker": {
             "colorbar": {
              "outlinewidth": 0,
              "ticks": ""
             }
            },
            "type": "scattergeo"
           }
          ],
          "scattergl": [
           {
            "marker": {
             "colorbar": {
              "outlinewidth": 0,
              "ticks": ""
             }
            },
            "type": "scattergl"
           }
          ],
          "scattermapbox": [
           {
            "marker": {
             "colorbar": {
              "outlinewidth": 0,
              "ticks": ""
             }
            },
            "type": "scattermapbox"
           }
          ],
          "scatterpolar": [
           {
            "marker": {
             "colorbar": {
              "outlinewidth": 0,
              "ticks": ""
             }
            },
            "type": "scatterpolar"
           }
          ],
          "scatterpolargl": [
           {
            "marker": {
             "colorbar": {
              "outlinewidth": 0,
              "ticks": ""
             }
            },
            "type": "scatterpolargl"
           }
          ],
          "scatterternary": [
           {
            "marker": {
             "colorbar": {
              "outlinewidth": 0,
              "ticks": ""
             }
            },
            "type": "scatterternary"
           }
          ],
          "surface": [
           {
            "colorbar": {
             "outlinewidth": 0,
             "ticks": ""
            },
            "colorscale": [
             [
              0,
              "#0d0887"
             ],
             [
              0.1111111111111111,
              "#46039f"
             ],
             [
              0.2222222222222222,
              "#7201a8"
             ],
             [
              0.3333333333333333,
              "#9c179e"
             ],
             [
              0.4444444444444444,
              "#bd3786"
             ],
             [
              0.5555555555555556,
              "#d8576b"
             ],
             [
              0.6666666666666666,
              "#ed7953"
             ],
             [
              0.7777777777777778,
              "#fb9f3a"
             ],
             [
              0.8888888888888888,
              "#fdca26"
             ],
             [
              1,
              "#f0f921"
             ]
            ],
            "type": "surface"
           }
          ],
          "table": [
           {
            "cells": {
             "fill": {
              "color": "#EBF0F8"
             },
             "line": {
              "color": "white"
             }
            },
            "header": {
             "fill": {
              "color": "#C8D4E3"
             },
             "line": {
              "color": "white"
             }
            },
            "type": "table"
           }
          ]
         },
         "layout": {
          "annotationdefaults": {
           "arrowcolor": "#2a3f5f",
           "arrowhead": 0,
           "arrowwidth": 1
          },
          "autotypenumbers": "strict",
          "coloraxis": {
           "colorbar": {
            "outlinewidth": 0,
            "ticks": ""
           }
          },
          "colorscale": {
           "diverging": [
            [
             0,
             "#8e0152"
            ],
            [
             0.1,
             "#c51b7d"
            ],
            [
             0.2,
             "#de77ae"
            ],
            [
             0.3,
             "#f1b6da"
            ],
            [
             0.4,
             "#fde0ef"
            ],
            [
             0.5,
             "#f7f7f7"
            ],
            [
             0.6,
             "#e6f5d0"
            ],
            [
             0.7,
             "#b8e186"
            ],
            [
             0.8,
             "#7fbc41"
            ],
            [
             0.9,
             "#4d9221"
            ],
            [
             1,
             "#276419"
            ]
           ],
           "sequential": [
            [
             0,
             "#0d0887"
            ],
            [
             0.1111111111111111,
             "#46039f"
            ],
            [
             0.2222222222222222,
             "#7201a8"
            ],
            [
             0.3333333333333333,
             "#9c179e"
            ],
            [
             0.4444444444444444,
             "#bd3786"
            ],
            [
             0.5555555555555556,
             "#d8576b"
            ],
            [
             0.6666666666666666,
             "#ed7953"
            ],
            [
             0.7777777777777778,
             "#fb9f3a"
            ],
            [
             0.8888888888888888,
             "#fdca26"
            ],
            [
             1,
             "#f0f921"
            ]
           ],
           "sequentialminus": [
            [
             0,
             "#0d0887"
            ],
            [
             0.1111111111111111,
             "#46039f"
            ],
            [
             0.2222222222222222,
             "#7201a8"
            ],
            [
             0.3333333333333333,
             "#9c179e"
            ],
            [
             0.4444444444444444,
             "#bd3786"
            ],
            [
             0.5555555555555556,
             "#d8576b"
            ],
            [
             0.6666666666666666,
             "#ed7953"
            ],
            [
             0.7777777777777778,
             "#fb9f3a"
            ],
            [
             0.8888888888888888,
             "#fdca26"
            ],
            [
             1,
             "#f0f921"
            ]
           ]
          },
          "colorway": [
           "#636efa",
           "#EF553B",
           "#00cc96",
           "#ab63fa",
           "#FFA15A",
           "#19d3f3",
           "#FF6692",
           "#B6E880",
           "#FF97FF",
           "#FECB52"
          ],
          "font": {
           "color": "#2a3f5f"
          },
          "geo": {
           "bgcolor": "white",
           "lakecolor": "white",
           "landcolor": "#E5ECF6",
           "showlakes": true,
           "showland": true,
           "subunitcolor": "white"
          },
          "hoverlabel": {
           "align": "left"
          },
          "hovermode": "closest",
          "mapbox": {
           "style": "light"
          },
          "paper_bgcolor": "white",
          "plot_bgcolor": "#E5ECF6",
          "polar": {
           "angularaxis": {
            "gridcolor": "white",
            "linecolor": "white",
            "ticks": ""
           },
           "bgcolor": "#E5ECF6",
           "radialaxis": {
            "gridcolor": "white",
            "linecolor": "white",
            "ticks": ""
           }
          },
          "scene": {
           "xaxis": {
            "backgroundcolor": "#E5ECF6",
            "gridcolor": "white",
            "gridwidth": 2,
            "linecolor": "white",
            "showbackground": true,
            "ticks": "",
            "zerolinecolor": "white"
           },
           "yaxis": {
            "backgroundcolor": "#E5ECF6",
            "gridcolor": "white",
            "gridwidth": 2,
            "linecolor": "white",
            "showbackground": true,
            "ticks": "",
            "zerolinecolor": "white"
           },
           "zaxis": {
            "backgroundcolor": "#E5ECF6",
            "gridcolor": "white",
            "gridwidth": 2,
            "linecolor": "white",
            "showbackground": true,
            "ticks": "",
            "zerolinecolor": "white"
           }
          },
          "shapedefaults": {
           "line": {
            "color": "#2a3f5f"
           }
          },
          "ternary": {
           "aaxis": {
            "gridcolor": "white",
            "linecolor": "white",
            "ticks": ""
           },
           "baxis": {
            "gridcolor": "white",
            "linecolor": "white",
            "ticks": ""
           },
           "bgcolor": "#E5ECF6",
           "caxis": {
            "gridcolor": "white",
            "linecolor": "white",
            "ticks": ""
           }
          },
          "title": {
           "x": 0.05
          },
          "xaxis": {
           "automargin": true,
           "gridcolor": "white",
           "linecolor": "white",
           "ticks": "",
           "title": {
            "standoff": 15
           },
           "zerolinecolor": "white",
           "zerolinewidth": 2
          },
          "yaxis": {
           "automargin": true,
           "gridcolor": "white",
           "linecolor": "white",
           "ticks": "",
           "title": {
            "standoff": 15
           },
           "zerolinecolor": "white",
           "zerolinewidth": 2
          }
         }
        },
        "xaxis": {
         "anchor": "y",
         "domain": [
          0,
          1
         ],
         "title": {
          "text": "country"
         }
        },
        "yaxis": {
         "anchor": "x",
         "domain": [
          0,
          1
         ],
         "title": {
          "text": "day"
         }
        }
       }
      },
      "text/html": [
       "<div>                            <div id=\"a1614191-1a08-4381-a969-6a946672c3af\" class=\"plotly-graph-div\" style=\"height:525px; width:100%;\"></div>            <script type=\"text/javascript\">                require([\"plotly\"], function(Plotly) {                    window.PLOTLYENV=window.PLOTLYENV || {};                                    if (document.getElementById(\"a1614191-1a08-4381-a969-6a946672c3af\")) {                    Plotly.newPlot(                        \"a1614191-1a08-4381-a969-6a946672c3af\",                        [{\"hovertemplate\":\"country=%{x}<br>day=%{y}<br>avreage_prices=%{marker.color}<extra></extra>\",\"legendgroup\":\"\",\"marker\":{\"color\":[82.0,67.0,62.0,60.666666666666664,60.333333333333336,60.0,60.0,59.5,58.57142857142857,58.23076923076923,57.1875,57.0,57.0,57.0,57.0,57.0,57.0,55.0,54.75,54.5,54.5,54.22222222222222,53.75,53.666666666666664,53.625,53.07692307692308,52.9,52.7,52.666666666666664,52.666666666666664,52.5,52.5,52.5,52.5,52.333333333333336,52.333333333333336,52.25,52.0,52.0,51.5,51.25,51.2,51.166666666666664,51.0,51.0,50.875,50.75,50.4,50.285714285714285,50.0,50.0,50.0,50.0,49.888888888888886,49.7906976744186,49.77777777777778,49.714285714285715,49.714285714285715,49.666666666666664,49.6,49.429906542056074,49.42857142857143,49.4,49.333333333333336,49.333333333333336,49.32258064516129,49.26315789473684,49.04761904761905,49.02105263157895,49.0,48.78787878787879,48.75,48.733333333333334,48.57142857142857,48.5,48.42857142857143,48.391304347826086,48.36,48.096774193548384,48.08571428571429,48.07432432432432,48.05714285714286,48.0,48.0,48.0,48.0,48.0,48.0,47.97727272727273,47.96875,47.91803278688525,47.916666666666664,47.857142857142854,47.8,47.8,47.8,47.770833333333336,47.76190476190476,47.75,47.666666666666664,47.666666666666664,47.65,47.63513513513514,47.6,47.6,47.57142857142857,47.57142857142857,47.55102040816327,47.52777777777778,47.5,47.5,47.48,47.40625,47.371428571428574,47.333333333333336,47.303030303030305,47.22222222222222,47.19047619047619,47.18181818181818,47.16923076923077,47.1,47.06930693069307,47.0,47.0,47.0,46.91346153846154,46.90909090909091,46.859375,46.833333333333336,46.8,46.76470588235294,46.764227642276424,46.76119402985075,46.75,46.75,46.733333333333334,46.72470238095238,46.70454545454545,46.652,46.62264150943396,46.5632603406326,46.529411764705884,46.517857142857146,46.473684210526315,46.44117647058823,46.44,46.4375,46.42857142857143,46.42372881355932,46.39503816793893,46.375,46.36974789915966,46.333333333333336,46.30864197530864,46.256410256410255,46.23076923076923,46.2248447204969,46.214285714285715,46.214285714285715,46.129760225669955,46.11466165413534,46.111111111111114,46.103960396039604,46.0460947503201,46.01322751322751,46.0,46.0,46.0,45.94117647058823,45.9375,45.899371069182386,45.848837209302324,45.80555555555556,45.80357142857143,45.8,45.78787878787879,45.76470588235294,45.75378266850069,45.73721340388007,45.73684210526316,45.733333333333334,45.730593607305934,45.714285714285715,45.63636363636363,45.625,45.6,45.6,45.57553956834533,45.574074074074076,45.509433962264154,45.50782997762864,45.5,45.5,45.5,45.49122807017544,45.41095890410959,45.404347826086955,45.40350877192982,45.4,45.375,45.36488340192044,45.333333333333336,45.333333333333336,45.3125,45.2962962962963,45.294117647058826,45.28658536585366,45.285714285714285,45.27777777777778,45.22,45.207589285714285,45.20618556701031,45.18333333333333,45.18181818181818,45.13643926788686,45.125,45.11764705882353,45.06287425149701,45.06060606060606,45.0431654676259,45.03174603174603,45.0,44.94763513513514,44.911764705882355,44.888888888888886,44.80769230769231,44.8,44.77777777777778,44.77777777777778,44.76923076923077,44.734375,44.734177215189874,44.72727272727273,44.653333333333336,44.6,44.583333333333336,44.537254901960786,44.526315789473685,44.52010050251256,44.509803921568626,44.5,44.48571428571429,44.45454545454545,44.42857142857143,44.40760869565217,44.388888888888886,44.36842105263158,44.33734939759036,44.333333333333336,44.333333333333336,44.333333333333336,44.333333333333336,44.31818181818182,44.2962962962963,44.27777777777778,44.25,44.25,44.24444444444445,44.2,44.17857142857143,44.166666666666664,44.0990099009901,44.05555555555556,44.05172413793103,44.0,44.0,44.0,43.9811320754717,43.95652173913044,43.94117647058823,43.935483870967744,43.92857142857143,43.89655172413793,43.87692307692308,43.8421052631579,43.82691836234371,43.8,43.78947368421053,43.77272727272727,43.7710648615882,43.76923076923077,43.76470588235294,43.742574257425744,43.73112840466926,43.708333333333336,43.691893215772716,43.6864291542018,43.666666666666664,43.666666666666664,43.66646706586826,43.662611137108094,43.66226415094339,43.66035027275338,43.642857142857146,43.639683895771036,43.625,43.625,43.604763050276645,43.60466906105695,43.6,43.5625,43.55962916139907,43.54545454545455,43.52837155071901,43.495327102803735,43.494378135270715,43.48880407124682,43.47826086956522,43.45243430433897,43.45124716553288,43.42857142857143,43.425045890271264,43.4,43.4,43.386445565969716,43.377049180327866,43.36507543903042,43.36363636363637,43.359552765790504,43.34453781512605,43.3039129155634,43.290242386575514,43.28993055555556,43.289855072463766,43.280038948393376,43.27450980392157,43.27272727272727,43.24175824175824,43.19716494845361,43.18356970832218,43.18181818181818,43.15702479338843,43.152596603494956,43.15151515151515,43.12542703757931,43.0,43.0,43.0,43.0,43.0,43.0,43.0,43.0,43.0,43.0,43.0,43.0,43.0,42.951219512195124,42.853658536585364,42.83720930232558,42.80058417419012,42.78333333333333,42.76923076923077,42.75,42.71052631578947,42.69230769230769,42.666666666666664,42.666666666666664,42.666666666666664,42.602409638554214,42.583333333333336,42.507936507936506,42.5,42.5,42.5,42.48,42.43333333333333,42.4,42.36842105263158,42.333333333333336,42.333333333333336,42.23076923076923,42.22222222222222,42.125,42.083333333333336,42.07575757575758,42.04838709677419,42.03076923076923,42.0,42.0,42.0,42.0,41.976,41.92307692307692,41.888888888888886,41.833333333333336,41.833333333333336,41.833333333333336,41.82608695652174,41.80672268907563,41.785714285714285,41.774193548387096,41.75,41.74,41.583333333333336,41.5,41.44444444444444,41.34090909090909,41.333333333333336,41.333333333333336,41.30769230769231,41.285714285714285,41.285714285714285,41.285714285714285,41.2,41.18032786885246,41.1764705882353,41.166666666666664,41.166666666666664,41.149253731343286,41.04651162790697,41.0,41.0,41.0,41.0,41.0,40.94565217391305,40.94117647058823,40.857142857142854,40.833333333333336,40.733333333333334,40.714285714285715,40.515151515151516,40.5,40.49295774647887,40.4,40.4,40.34782608695652,40.333333333333336,40.333333333333336,40.333333333333336,40.25,40.11278195488722,40.111111111111114,40.0,40.0,39.92857142857143,39.90909090909091,39.8,39.75438596491228,39.72727272727273,39.705882352941174,39.666666666666664,39.6551724137931,39.55813953488372,39.48717948717949,39.25,39.25,39.2,39.19230769230769,39.166666666666664,39.04761904761905,39.0,39.0,38.91244239631337,38.8,38.54545454545455,38.5,38.44444444444444,38.4,38.333333333333336,38.25,38.125,38.0,38.0,38.0,38.0,38.0,38.0,38.0,38.0,38.0,38.0,38.0,38.0,38.0,38.0,38.0,38.0,38.0,38.0,38.0,37.94117647058823,37.77272727272727,37.4,37.166666666666664,37.142857142857146,37.0,36.9375,36.9,36.80952380952381,36.75,36.666666666666664,36.5,35.857142857142854,35.5,35.5,35.27272727272727,34.8,34.7,34.666666666666664,33.8,33.0,33.0,33.0,33.0,33.0,33.0,33.0,33.0,33.0,33.0,33.0,33.0,32.54545454545455,32.54545454545455,31.75,31.333333333333332,31.333333333333332,30.5,29.5,28.0,28.0,28.0,28.0,28.0,28.0,28.0,23.0],\"coloraxis\":\"coloraxis\",\"size\":[82.0,67.0,62.0,60.666666666666664,60.333333333333336,60.0,60.0,59.5,58.57142857142857,58.23076923076923,57.1875,57.0,57.0,57.0,57.0,57.0,57.0,55.0,54.75,54.5,54.5,54.22222222222222,53.75,53.666666666666664,53.625,53.07692307692308,52.9,52.7,52.666666666666664,52.666666666666664,52.5,52.5,52.5,52.5,52.333333333333336,52.333333333333336,52.25,52.0,52.0,51.5,51.25,51.2,51.166666666666664,51.0,51.0,50.875,50.75,50.4,50.285714285714285,50.0,50.0,50.0,50.0,49.888888888888886,49.7906976744186,49.77777777777778,49.714285714285715,49.714285714285715,49.666666666666664,49.6,49.429906542056074,49.42857142857143,49.4,49.333333333333336,49.333333333333336,49.32258064516129,49.26315789473684,49.04761904761905,49.02105263157895,49.0,48.78787878787879,48.75,48.733333333333334,48.57142857142857,48.5,48.42857142857143,48.391304347826086,48.36,48.096774193548384,48.08571428571429,48.07432432432432,48.05714285714286,48.0,48.0,48.0,48.0,48.0,48.0,47.97727272727273,47.96875,47.91803278688525,47.916666666666664,47.857142857142854,47.8,47.8,47.8,47.770833333333336,47.76190476190476,47.75,47.666666666666664,47.666666666666664,47.65,47.63513513513514,47.6,47.6,47.57142857142857,47.57142857142857,47.55102040816327,47.52777777777778,47.5,47.5,47.48,47.40625,47.371428571428574,47.333333333333336,47.303030303030305,47.22222222222222,47.19047619047619,47.18181818181818,47.16923076923077,47.1,47.06930693069307,47.0,47.0,47.0,46.91346153846154,46.90909090909091,46.859375,46.833333333333336,46.8,46.76470588235294,46.764227642276424,46.76119402985075,46.75,46.75,46.733333333333334,46.72470238095238,46.70454545454545,46.652,46.62264150943396,46.5632603406326,46.529411764705884,46.517857142857146,46.473684210526315,46.44117647058823,46.44,46.4375,46.42857142857143,46.42372881355932,46.39503816793893,46.375,46.36974789915966,46.333333333333336,46.30864197530864,46.256410256410255,46.23076923076923,46.2248447204969,46.214285714285715,46.214285714285715,46.129760225669955,46.11466165413534,46.111111111111114,46.103960396039604,46.0460947503201,46.01322751322751,46.0,46.0,46.0,45.94117647058823,45.9375,45.899371069182386,45.848837209302324,45.80555555555556,45.80357142857143,45.8,45.78787878787879,45.76470588235294,45.75378266850069,45.73721340388007,45.73684210526316,45.733333333333334,45.730593607305934,45.714285714285715,45.63636363636363,45.625,45.6,45.6,45.57553956834533,45.574074074074076,45.509433962264154,45.50782997762864,45.5,45.5,45.5,45.49122807017544,45.41095890410959,45.404347826086955,45.40350877192982,45.4,45.375,45.36488340192044,45.333333333333336,45.333333333333336,45.3125,45.2962962962963,45.294117647058826,45.28658536585366,45.285714285714285,45.27777777777778,45.22,45.207589285714285,45.20618556701031,45.18333333333333,45.18181818181818,45.13643926788686,45.125,45.11764705882353,45.06287425149701,45.06060606060606,45.0431654676259,45.03174603174603,45.0,44.94763513513514,44.911764705882355,44.888888888888886,44.80769230769231,44.8,44.77777777777778,44.77777777777778,44.76923076923077,44.734375,44.734177215189874,44.72727272727273,44.653333333333336,44.6,44.583333333333336,44.537254901960786,44.526315789473685,44.52010050251256,44.509803921568626,44.5,44.48571428571429,44.45454545454545,44.42857142857143,44.40760869565217,44.388888888888886,44.36842105263158,44.33734939759036,44.333333333333336,44.333333333333336,44.333333333333336,44.333333333333336,44.31818181818182,44.2962962962963,44.27777777777778,44.25,44.25,44.24444444444445,44.2,44.17857142857143,44.166666666666664,44.0990099009901,44.05555555555556,44.05172413793103,44.0,44.0,44.0,43.9811320754717,43.95652173913044,43.94117647058823,43.935483870967744,43.92857142857143,43.89655172413793,43.87692307692308,43.8421052631579,43.82691836234371,43.8,43.78947368421053,43.77272727272727,43.7710648615882,43.76923076923077,43.76470588235294,43.742574257425744,43.73112840466926,43.708333333333336,43.691893215772716,43.6864291542018,43.666666666666664,43.666666666666664,43.66646706586826,43.662611137108094,43.66226415094339,43.66035027275338,43.642857142857146,43.639683895771036,43.625,43.625,43.604763050276645,43.60466906105695,43.6,43.5625,43.55962916139907,43.54545454545455,43.52837155071901,43.495327102803735,43.494378135270715,43.48880407124682,43.47826086956522,43.45243430433897,43.45124716553288,43.42857142857143,43.425045890271264,43.4,43.4,43.386445565969716,43.377049180327866,43.36507543903042,43.36363636363637,43.359552765790504,43.34453781512605,43.3039129155634,43.290242386575514,43.28993055555556,43.289855072463766,43.280038948393376,43.27450980392157,43.27272727272727,43.24175824175824,43.19716494845361,43.18356970832218,43.18181818181818,43.15702479338843,43.152596603494956,43.15151515151515,43.12542703757931,43.0,43.0,43.0,43.0,43.0,43.0,43.0,43.0,43.0,43.0,43.0,43.0,43.0,42.951219512195124,42.853658536585364,42.83720930232558,42.80058417419012,42.78333333333333,42.76923076923077,42.75,42.71052631578947,42.69230769230769,42.666666666666664,42.666666666666664,42.666666666666664,42.602409638554214,42.583333333333336,42.507936507936506,42.5,42.5,42.5,42.48,42.43333333333333,42.4,42.36842105263158,42.333333333333336,42.333333333333336,42.23076923076923,42.22222222222222,42.125,42.083333333333336,42.07575757575758,42.04838709677419,42.03076923076923,42.0,42.0,42.0,42.0,41.976,41.92307692307692,41.888888888888886,41.833333333333336,41.833333333333336,41.833333333333336,41.82608695652174,41.80672268907563,41.785714285714285,41.774193548387096,41.75,41.74,41.583333333333336,41.5,41.44444444444444,41.34090909090909,41.333333333333336,41.333333333333336,41.30769230769231,41.285714285714285,41.285714285714285,41.285714285714285,41.2,41.18032786885246,41.1764705882353,41.166666666666664,41.166666666666664,41.149253731343286,41.04651162790697,41.0,41.0,41.0,41.0,41.0,40.94565217391305,40.94117647058823,40.857142857142854,40.833333333333336,40.733333333333334,40.714285714285715,40.515151515151516,40.5,40.49295774647887,40.4,40.4,40.34782608695652,40.333333333333336,40.333333333333336,40.333333333333336,40.25,40.11278195488722,40.111111111111114,40.0,40.0,39.92857142857143,39.90909090909091,39.8,39.75438596491228,39.72727272727273,39.705882352941174,39.666666666666664,39.6551724137931,39.55813953488372,39.48717948717949,39.25,39.25,39.2,39.19230769230769,39.166666666666664,39.04761904761905,39.0,39.0,38.91244239631337,38.8,38.54545454545455,38.5,38.44444444444444,38.4,38.333333333333336,38.25,38.125,38.0,38.0,38.0,38.0,38.0,38.0,38.0,38.0,38.0,38.0,38.0,38.0,38.0,38.0,38.0,38.0,38.0,38.0,38.0,37.94117647058823,37.77272727272727,37.4,37.166666666666664,37.142857142857146,37.0,36.9375,36.9,36.80952380952381,36.75,36.666666666666664,36.5,35.857142857142854,35.5,35.5,35.27272727272727,34.8,34.7,34.666666666666664,33.8,33.0,33.0,33.0,33.0,33.0,33.0,33.0,33.0,33.0,33.0,33.0,33.0,32.54545454545455,32.54545454545455,31.75,31.333333333333332,31.333333333333332,30.5,29.5,28.0,28.0,28.0,28.0,28.0,28.0,28.0,23.0],\"sizemode\":\"area\",\"sizeref\":0.205,\"symbol\":\"circle\"},\"mode\":\"markers\",\"name\":\"\",\"orientation\":\"v\",\"showlegend\":false,\"x\":[\"Denmark\",\"United Kingdom\",\"Switzerland\",\"Denmark\",\"Spain\",\"Belgium\",\"Italy\",\"United Kingdom\",\"Switzerland\",\"Finland\",\"Italy\",\"Switzerland\",\"India\",\"Romania\",\"USA\",\"Mexico\",\"Denmark\",\"Croatia\",\"Romania\",\"Spain\",\"Denmark\",\"Germany\",\"Denmark\",\"Slovakia\",\"Denmark\",\"Latvia\",\"Netherlands\",\"Ukraine\",\"Norway\",\"Denmark\",\"Norway\",\"France\",\"Austria\",\"Denmark\",\"Sweden\",\"biz (.biz)\",\"Greece\",\"Norway\",\"Romania\",\"Germany\",\"Italy\",\"Germany\",\"Netherlands\",\"Estonia\",\"Greece\",\"Switzerland\",\"unidentified\",\"Denmark\",\"Norway\",\"USA\",\"Switzerland\",\"Germany\",\"Finland\",\"Romania\",\"com (.com)\",\"USA\",\"Italy\",\"Germany\",\"Netherlands\",\"unidentified\",\"Lithuania\",\"Norway\",\"Norway\",\"Ireland\",\"Denmark\",\"Ireland\",\"com (.com)\",\"Slovakia\",\"net (.net)\",\"Austria\",\"com (.com)\",\"Finland\",\"com (.com)\",\"Slovakia\",\"France\",\"Italy\",\"Germany\",\"Slovakia\",\"Germany\",\"Slovakia\",\"Lithuania\",\"Slovakia\",\"USA\",\"USA\",\"Ukraine\",\"unidentified\",\"org (*.org)\",\"Finland\",\"Germany\",\"Slovakia\",\"com (.com)\",\"Ireland\",\"Estonia\",\"Slovakia\",\"Russia\",\"Denmark\",\"net (.net)\",\"Slovakia\",\"Ukraine\",\"unidentified\",\"Greece\",\"net (.net)\",\"net (.net)\",\"France\",\"unidentified\",\"com (.com)\",\"Germany\",\"Lithuania\",\"Italy\",\"Germany\",\"Finland\",\"Slovakia\",\"United Kingdom\",\"USA\",\"Russia\",\"Lithuania\",\"com (.com)\",\"com (.com)\",\"France\",\"Lithuania\",\"Slovakia\",\"net (.net)\",\"Austria\",\"Denmark\",\"unidentified\",\"Czech Republic\",\"United Kingdom\",\"net (.net)\",\"Romania\",\"Switzerland\",\"Germany\",\"net (.net)\",\"Czech Republic\",\"United Kingdom\",\"Switzerland\",\"Norway\",\"Czech Republic\",\"Czech Republic\",\"Czech Republic\",\"United Kingdom\",\"Czech Republic\",\"Belgium\",\"Czech Republic\",\"com (.com)\",\"Slovakia\",\"United Kingdom\",\"Netherlands\",\"unidentified\",\"net (.net)\",\"Czech Republic\",\"Iceland\",\"net (.net)\",\"unidentified\",\"Czech Republic\",\"Czech Republic\",\"United Kingdom\",\"Czech Republic\",\"Ireland\",\"USA\",\"Czech Republic\",\"Czech Republic\",\"Denmark\",\"Czech Republic\",\"Czech Republic\",\"Czech Republic\",\"Denmark\",\"Netherlands\",\"Germany\",\"Lithuania\",\"United Kingdom\",\"Lithuania\",\"Czech Republic\",\"net (.net)\",\"net (.net)\",\"Christmas Island\",\"Slovakia\",\"net (.net)\",\"Czech Republic\",\"Czech Republic\",\"Switzerland\",\"United Kingdom\",\"Czech Republic\",\"Norway\",\"Slovakia\",\"Lithuania\",\"unidentified\",\"Lithuania\",\"net (.net)\",\"Czech Republic\",\"com (.com)\",\"Czech Republic\",\"unidentified\",\"unidentified\",\"Ireland\",\"Lithuania\",\"Czech Republic\",\"Czech Republic\",\"Ireland\",\"Germany\",\"Luxembourg\",\"Czech Republic\",\"com (.com)\",\"Estonia\",\"Italy\",\"net (.net)\",\"com (.com)\",\"Lithuania\",\"Slovakia\",\"biz (.biz)\",\"Romania\",\"Czech Republic\",\"net (.net)\",\"net (.net)\",\"Russia\",\"Czech Republic\",\"Norway\",\"Germany\",\"Czech Republic\",\"com (.com)\",\"Lithuania\",\"com (.com)\",\"USA\",\"Czech Republic\",\"USA\",\"net (.net)\",\"France\",\"France\",\"Italy\",\"United Kingdom\",\"com (.com)\",\"net (.net)\",\"Lithuania\",\"Latvia\",\"Germany\",\"Estonia\",\"com (.com)\",\"Czech Republic\",\"com (.com)\",\"Czech Republic\",\"Lithuania\",\"Ireland\",\"Lithuania\",\"Finland\",\"Switzerland\",\"Lithuania\",\"Slovakia\",\"net (.net)\",\"net (.net)\",\"Estonia\",\"Netherlands\",\"Switzerland\",\"org (*.org)\",\"Lithuania\",\"Ireland\",\"Ireland\",\"net (.net)\",\"United Kingdom\",\"United Kingdom\",\"Sweden\",\"unidentified\",\"com (.com)\",\"net (.net)\",\"Estonia\",\"net (.net)\",\"USA\",\"Germany\",\"Germany\",\"com (.com)\",\"United Kingdom\",\"Ireland\",\"Netherlands\",\"Netherlands\",\"Netherlands\",\"com (.com)\",\"Denmark\",\"Poland\",\"Ukraine\",\"com (.com)\",\"Ireland\",\"Poland\",\"Lithuania\",\"Norway\",\"net (.net)\",\"Poland\",\"Lithuania\",\"Poland\",\"Poland\",\"net (.net)\",\"Russia\",\"Poland\",\"Poland\",\"Poland\",\"Poland\",\"Germany\",\"Poland\",\"Germany\",\"United Kingdom\",\"Poland\",\"Poland\",\"France\",\"Ireland\",\"Poland\",\"Slovakia\",\"Poland\",\"net (.net)\",\"Poland\",\"Poland\",\"Lithuania\",\"Poland\",\"Poland\",\"Austria\",\"Poland\",\"com (.com)\",\"Ireland\",\"Poland\",\"com (.com)\",\"Poland\",\"Ireland\",\"Poland\",\"Slovakia\",\"Poland\",\"Poland\",\"Poland\",\"Lithuania\",\"Poland\",\"United Kingdom\",\"unidentified\",\"net (.net)\",\"Poland\",\"Poland\",\"Belgium\",\"Lithuania\",\"Poland\",\"Lithuania\",\"Poland\",\"France\",\"int (.int)\",\"Belgium\",\"Faroe Islands\",\"Denmark\",\"Greece\",\"Ireland\",\"Estonia\",\"Ireland\",\"Romania\",\"Netherlands\",\"Estonia\",\"Italy\",\"Ireland\",\"com (.com)\",\"com (.com)\",\"Poland\",\"Slovakia\",\"Ireland\",\"Romania\",\"com (.com)\",\"United Kingdom\",\"United Kingdom\",\"Norway\",\"United Kingdom\",\"com (.com)\",\"United Kingdom\",\"net (.net)\",\"Italy\",\"Ireland\",\"Norway\",\"Lithuania\",\"com (.com)\",\"Netherlands\",\"Norway\",\"Slovakia\",\"United Kingdom\",\"Russia\",\"com (.com)\",\"Italy\",\"France\",\"Ireland\",\"net (.net)\",\"net (.net)\",\"Slovakia\",\"Germany\",\"int (.int)\",\"Romania\",\"Germany\",\"Germany\",\"Lithuania\",\"Netherlands\",\"Ireland\",\"Slovakia\",\"Ireland\",\"Lithuania\",\"Spain\",\"net (.net)\",\"Iceland\",\"Lithuania\",\"Switzerland\",\"Cayman Islands\",\"Belgium\",\"United Kingdom\",\"Austria\",\"United Kingdom\",\"Germany\",\"Netherlands\",\"Estonia\",\"Sweden\",\"Ireland\",\"Germany\",\"Austria\",\"United Kingdom\",\"Germany\",\"com (.com)\",\"com (.com)\",\"Belgium\",\"Russia\",\"France\",\"Germany\",\"France\",\"Lithuania\",\"United Kingdom\",\"United Kingdom\",\"United Kingdom\",\"United Kingdom\",\"Switzerland\",\"Belgium\",\"Belgium\",\"Lithuania\",\"USA\",\"Switzerland\",\"Belgium\",\"Ireland\",\"Switzerland\",\"United Kingdom\",\"Ukraine\",\"Lithuania\",\"Ireland\",\"Russia\",\"Slovakia\",\"Austria\",\"Belgium\",\"biz (.biz)\",\"Ireland\",\"Germany\",\"Germany\",\"org (*.org)\",\"Ireland\",\"Belgium\",\"Belgium\",\"Slovakia\",\"Ireland\",\"Switzerland\",\"Germany\",\"Netherlands\",\"Ireland\",\"Sweden\",\"Sweden\",\"Lithuania\",\"Belgium\",\"Luxembourg\",\"Germany\",\"India\",\"Sweden\",\"Slovakia\",\"Austria\",\"Slovakia\",\"Netherlands\",\"Sweden\",\"France\",\"France\",\"USA\",\"United Kingdom\",\"Switzerland\",\"British Virgin Islands\",\"USA\",\"Ireland\",\"Sweden\",\"Netherlands\",\"France\",\"Slovakia\",\"Italy\",\"Norway\",\"Netherlands\",\"France\",\"Norway\",\"Hungary\",\"United Kingdom\",\"Russia\",\"Denmark\",\"Croatia\",\"Netherlands\",\"Sweden\",\"Denmark\",\"Luxembourg\",\"Greece\",\"Italy\",\"Ireland\",\"Belgium\",\"USA\",\"Italy\",\"Belgium\",\"Iceland\",\"unidentified\",\"Australia\",\"Switzerland\",\"United Arab Emirates\",\"Luxembourg\",\"USA\",\"Netherlands\",\"Netherlands\",\"Austria\",\"Portugal\",\"unidentified\",\"Belgium\",\"Slovenia\",\"San Marion\",\"Germany\",\"Sweden\",\"Iceland\",\"Sweden\",\"Norway\",\"unidentified\",\"USA\",\"Switzerland\",\"Portugal\",\"unidentified\",\"Iceland\",\"Hungary\",\"Russia\",\"unidentified\",\"unidentified\",\"Cyprus\"],\"xaxis\":\"x\",\"y\":[17,25,31,13,7,4,27,24,25,22,11,21,3,12,7,2,24,18,9,14,5,15,16,9,9,14,25,2,22,28,7,1,6,7,10,27,13,15,24,13,3,21,6,6,7,26,7,23,29,8,3,12,14,10,9,29,25,23,28,20,4,17,5,6,8,14,19,16,7,8,25,18,12,18,17,14,19,15,28,23,5,25,19,17,4,17,8,25,24,14,26,28,13,3,4,29,6,22,30,12,8,25,1,13,10,29,8,20,9,29,23,8,7,27,2,6,23,3,7,1,10,21,24,18,1,9,17,15,11,29,1,4,22,8,13,1,7,21,26,9,2,1,17,27,5,23,26,23,27,3,26,24,25,30,16,2,29,23,30,5,15,22,11,1,4,11,4,17,31,18,2,10,23,16,23,4,14,6,13,10,5,18,19,19,25,4,13,3,25,17,27,29,14,3,24,28,19,1,5,6,14,31,7,12,28,2,16,13,12,29,24,12,17,28,12,31,14,8,15,21,28,26,23,2,31,21,5,5,13,14,2,17,11,2,14,22,31,21,20,18,15,15,11,16,22,2,26,18,18,19,6,14,29,18,30,8,30,16,19,8,8,22,10,9,15,18,22,10,1,11,3,29,14,5,2,21,21,13,9,7,28,18,29,6,19,14,30,11,30,5,24,23,27,9,16,30,28,17,28,19,16,9,29,4,19,2,20,30,10,8,17,12,4,10,31,6,22,26,3,12,13,26,1,11,11,4,24,20,18,19,11,7,25,26,29,18,12,5,24,12,28,20,26,7,1,24,15,23,25,7,1,15,1,22,5,30,15,22,24,12,11,20,10,18,4,27,3,20,2,4,7,10,11,24,22,8,12,5,13,30,20,28,27,7,6,14,13,13,24,17,8,22,30,24,27,1,5,14,3,16,19,25,8,19,9,27,26,12,6,27,18,16,10,14,16,3,3,23,31,14,11,29,2,7,29,10,1,7,18,21,4,21,17,9,31,22,27,4,21,11,8,4,11,12,2,19,12,20,29,11,16,18,24,23,16,12,15,26,31,21,13,28,21,11,12,31,20,30,14,27,19,24,6,5,18,9,2,6,19,28,7,22,13,12,26,6,3,2,11,12,6,14,5,26,19,9,12,15,13,3,21,11,14,22,2,21,17,27,14,26,3,20,15,17,10,8,6,21,20,2,10,24,10,19,5,1,21,26,11,6],\"yaxis\":\"y\",\"type\":\"scatter\"}],                        {\"template\":{\"data\":{\"histogram2dcontour\":[{\"type\":\"histogram2dcontour\",\"colorbar\":{\"outlinewidth\":0,\"ticks\":\"\"},\"colorscale\":[[0.0,\"#0d0887\"],[0.1111111111111111,\"#46039f\"],[0.2222222222222222,\"#7201a8\"],[0.3333333333333333,\"#9c179e\"],[0.4444444444444444,\"#bd3786\"],[0.5555555555555556,\"#d8576b\"],[0.6666666666666666,\"#ed7953\"],[0.7777777777777778,\"#fb9f3a\"],[0.8888888888888888,\"#fdca26\"],[1.0,\"#f0f921\"]]}],\"choropleth\":[{\"type\":\"choropleth\",\"colorbar\":{\"outlinewidth\":0,\"ticks\":\"\"}}],\"histogram2d\":[{\"type\":\"histogram2d\",\"colorbar\":{\"outlinewidth\":0,\"ticks\":\"\"},\"colorscale\":[[0.0,\"#0d0887\"],[0.1111111111111111,\"#46039f\"],[0.2222222222222222,\"#7201a8\"],[0.3333333333333333,\"#9c179e\"],[0.4444444444444444,\"#bd3786\"],[0.5555555555555556,\"#d8576b\"],[0.6666666666666666,\"#ed7953\"],[0.7777777777777778,\"#fb9f3a\"],[0.8888888888888888,\"#fdca26\"],[1.0,\"#f0f921\"]]}],\"heatmap\":[{\"type\":\"heatmap\",\"colorbar\":{\"outlinewidth\":0,\"ticks\":\"\"},\"colorscale\":[[0.0,\"#0d0887\"],[0.1111111111111111,\"#46039f\"],[0.2222222222222222,\"#7201a8\"],[0.3333333333333333,\"#9c179e\"],[0.4444444444444444,\"#bd3786\"],[0.5555555555555556,\"#d8576b\"],[0.6666666666666666,\"#ed7953\"],[0.7777777777777778,\"#fb9f3a\"],[0.8888888888888888,\"#fdca26\"],[1.0,\"#f0f921\"]]}],\"heatmapgl\":[{\"type\":\"heatmapgl\",\"colorbar\":{\"outlinewidth\":0,\"ticks\":\"\"},\"colorscale\":[[0.0,\"#0d0887\"],[0.1111111111111111,\"#46039f\"],[0.2222222222222222,\"#7201a8\"],[0.3333333333333333,\"#9c179e\"],[0.4444444444444444,\"#bd3786\"],[0.5555555555555556,\"#d8576b\"],[0.6666666666666666,\"#ed7953\"],[0.7777777777777778,\"#fb9f3a\"],[0.8888888888888888,\"#fdca26\"],[1.0,\"#f0f921\"]]}],\"contourcarpet\":[{\"type\":\"contourcarpet\",\"colorbar\":{\"outlinewidth\":0,\"ticks\":\"\"}}],\"contour\":[{\"type\":\"contour\",\"colorbar\":{\"outlinewidth\":0,\"ticks\":\"\"},\"colorscale\":[[0.0,\"#0d0887\"],[0.1111111111111111,\"#46039f\"],[0.2222222222222222,\"#7201a8\"],[0.3333333333333333,\"#9c179e\"],[0.4444444444444444,\"#bd3786\"],[0.5555555555555556,\"#d8576b\"],[0.6666666666666666,\"#ed7953\"],[0.7777777777777778,\"#fb9f3a\"],[0.8888888888888888,\"#fdca26\"],[1.0,\"#f0f921\"]]}],\"surface\":[{\"type\":\"surface\",\"colorbar\":{\"outlinewidth\":0,\"ticks\":\"\"},\"colorscale\":[[0.0,\"#0d0887\"],[0.1111111111111111,\"#46039f\"],[0.2222222222222222,\"#7201a8\"],[0.3333333333333333,\"#9c179e\"],[0.4444444444444444,\"#bd3786\"],[0.5555555555555556,\"#d8576b\"],[0.6666666666666666,\"#ed7953\"],[0.7777777777777778,\"#fb9f3a\"],[0.8888888888888888,\"#fdca26\"],[1.0,\"#f0f921\"]]}],\"mesh3d\":[{\"type\":\"mesh3d\",\"colorbar\":{\"outlinewidth\":0,\"ticks\":\"\"}}],\"scatter\":[{\"fillpattern\":{\"fillmode\":\"overlay\",\"size\":10,\"solidity\":0.2},\"type\":\"scatter\"}],\"parcoords\":[{\"type\":\"parcoords\",\"line\":{\"colorbar\":{\"outlinewidth\":0,\"ticks\":\"\"}}}],\"scatterpolargl\":[{\"type\":\"scatterpolargl\",\"marker\":{\"colorbar\":{\"outlinewidth\":0,\"ticks\":\"\"}}}],\"bar\":[{\"error_x\":{\"color\":\"#2a3f5f\"},\"error_y\":{\"color\":\"#2a3f5f\"},\"marker\":{\"line\":{\"color\":\"#E5ECF6\",\"width\":0.5},\"pattern\":{\"fillmode\":\"overlay\",\"size\":10,\"solidity\":0.2}},\"type\":\"bar\"}],\"scattergeo\":[{\"type\":\"scattergeo\",\"marker\":{\"colorbar\":{\"outlinewidth\":0,\"ticks\":\"\"}}}],\"scatterpolar\":[{\"type\":\"scatterpolar\",\"marker\":{\"colorbar\":{\"outlinewidth\":0,\"ticks\":\"\"}}}],\"histogram\":[{\"marker\":{\"pattern\":{\"fillmode\":\"overlay\",\"size\":10,\"solidity\":0.2}},\"type\":\"histogram\"}],\"scattergl\":[{\"type\":\"scattergl\",\"marker\":{\"colorbar\":{\"outlinewidth\":0,\"ticks\":\"\"}}}],\"scatter3d\":[{\"type\":\"scatter3d\",\"line\":{\"colorbar\":{\"outlinewidth\":0,\"ticks\":\"\"}},\"marker\":{\"colorbar\":{\"outlinewidth\":0,\"ticks\":\"\"}}}],\"scattermapbox\":[{\"type\":\"scattermapbox\",\"marker\":{\"colorbar\":{\"outlinewidth\":0,\"ticks\":\"\"}}}],\"scatterternary\":[{\"type\":\"scatterternary\",\"marker\":{\"colorbar\":{\"outlinewidth\":0,\"ticks\":\"\"}}}],\"scattercarpet\":[{\"type\":\"scattercarpet\",\"marker\":{\"colorbar\":{\"outlinewidth\":0,\"ticks\":\"\"}}}],\"carpet\":[{\"aaxis\":{\"endlinecolor\":\"#2a3f5f\",\"gridcolor\":\"white\",\"linecolor\":\"white\",\"minorgridcolor\":\"white\",\"startlinecolor\":\"#2a3f5f\"},\"baxis\":{\"endlinecolor\":\"#2a3f5f\",\"gridcolor\":\"white\",\"linecolor\":\"white\",\"minorgridcolor\":\"white\",\"startlinecolor\":\"#2a3f5f\"},\"type\":\"carpet\"}],\"table\":[{\"cells\":{\"fill\":{\"color\":\"#EBF0F8\"},\"line\":{\"color\":\"white\"}},\"header\":{\"fill\":{\"color\":\"#C8D4E3\"},\"line\":{\"color\":\"white\"}},\"type\":\"table\"}],\"barpolar\":[{\"marker\":{\"line\":{\"color\":\"#E5ECF6\",\"width\":0.5},\"pattern\":{\"fillmode\":\"overlay\",\"size\":10,\"solidity\":0.2}},\"type\":\"barpolar\"}],\"pie\":[{\"automargin\":true,\"type\":\"pie\"}]},\"layout\":{\"autotypenumbers\":\"strict\",\"colorway\":[\"#636efa\",\"#EF553B\",\"#00cc96\",\"#ab63fa\",\"#FFA15A\",\"#19d3f3\",\"#FF6692\",\"#B6E880\",\"#FF97FF\",\"#FECB52\"],\"font\":{\"color\":\"#2a3f5f\"},\"hovermode\":\"closest\",\"hoverlabel\":{\"align\":\"left\"},\"paper_bgcolor\":\"white\",\"plot_bgcolor\":\"#E5ECF6\",\"polar\":{\"bgcolor\":\"#E5ECF6\",\"angularaxis\":{\"gridcolor\":\"white\",\"linecolor\":\"white\",\"ticks\":\"\"},\"radialaxis\":{\"gridcolor\":\"white\",\"linecolor\":\"white\",\"ticks\":\"\"}},\"ternary\":{\"bgcolor\":\"#E5ECF6\",\"aaxis\":{\"gridcolor\":\"white\",\"linecolor\":\"white\",\"ticks\":\"\"},\"baxis\":{\"gridcolor\":\"white\",\"linecolor\":\"white\",\"ticks\":\"\"},\"caxis\":{\"gridcolor\":\"white\",\"linecolor\":\"white\",\"ticks\":\"\"}},\"coloraxis\":{\"colorbar\":{\"outlinewidth\":0,\"ticks\":\"\"}},\"colorscale\":{\"sequential\":[[0.0,\"#0d0887\"],[0.1111111111111111,\"#46039f\"],[0.2222222222222222,\"#7201a8\"],[0.3333333333333333,\"#9c179e\"],[0.4444444444444444,\"#bd3786\"],[0.5555555555555556,\"#d8576b\"],[0.6666666666666666,\"#ed7953\"],[0.7777777777777778,\"#fb9f3a\"],[0.8888888888888888,\"#fdca26\"],[1.0,\"#f0f921\"]],\"sequentialminus\":[[0.0,\"#0d0887\"],[0.1111111111111111,\"#46039f\"],[0.2222222222222222,\"#7201a8\"],[0.3333333333333333,\"#9c179e\"],[0.4444444444444444,\"#bd3786\"],[0.5555555555555556,\"#d8576b\"],[0.6666666666666666,\"#ed7953\"],[0.7777777777777778,\"#fb9f3a\"],[0.8888888888888888,\"#fdca26\"],[1.0,\"#f0f921\"]],\"diverging\":[[0,\"#8e0152\"],[0.1,\"#c51b7d\"],[0.2,\"#de77ae\"],[0.3,\"#f1b6da\"],[0.4,\"#fde0ef\"],[0.5,\"#f7f7f7\"],[0.6,\"#e6f5d0\"],[0.7,\"#b8e186\"],[0.8,\"#7fbc41\"],[0.9,\"#4d9221\"],[1,\"#276419\"]]},\"xaxis\":{\"gridcolor\":\"white\",\"linecolor\":\"white\",\"ticks\":\"\",\"title\":{\"standoff\":15},\"zerolinecolor\":\"white\",\"automargin\":true,\"zerolinewidth\":2},\"yaxis\":{\"gridcolor\":\"white\",\"linecolor\":\"white\",\"ticks\":\"\",\"title\":{\"standoff\":15},\"zerolinecolor\":\"white\",\"automargin\":true,\"zerolinewidth\":2},\"scene\":{\"xaxis\":{\"backgroundcolor\":\"#E5ECF6\",\"gridcolor\":\"white\",\"linecolor\":\"white\",\"showbackground\":true,\"ticks\":\"\",\"zerolinecolor\":\"white\",\"gridwidth\":2},\"yaxis\":{\"backgroundcolor\":\"#E5ECF6\",\"gridcolor\":\"white\",\"linecolor\":\"white\",\"showbackground\":true,\"ticks\":\"\",\"zerolinecolor\":\"white\",\"gridwidth\":2},\"zaxis\":{\"backgroundcolor\":\"#E5ECF6\",\"gridcolor\":\"white\",\"linecolor\":\"white\",\"showbackground\":true,\"ticks\":\"\",\"zerolinecolor\":\"white\",\"gridwidth\":2}},\"shapedefaults\":{\"line\":{\"color\":\"#2a3f5f\"}},\"annotationdefaults\":{\"arrowcolor\":\"#2a3f5f\",\"arrowhead\":0,\"arrowwidth\":1},\"geo\":{\"bgcolor\":\"white\",\"landcolor\":\"#E5ECF6\",\"subunitcolor\":\"white\",\"showland\":true,\"showlakes\":true,\"lakecolor\":\"white\"},\"title\":{\"x\":0.05},\"mapbox\":{\"style\":\"light\"}}},\"xaxis\":{\"anchor\":\"y\",\"domain\":[0.0,1.0],\"title\":{\"text\":\"country\"}},\"yaxis\":{\"anchor\":\"x\",\"domain\":[0.0,1.0],\"title\":{\"text\":\"day\"}},\"coloraxis\":{\"colorbar\":{\"title\":{\"text\":\"avreage_prices\"}},\"colorscale\":[[0.0,\"#0d0887\"],[0.1111111111111111,\"#46039f\"],[0.2222222222222222,\"#7201a8\"],[0.3333333333333333,\"#9c179e\"],[0.4444444444444444,\"#bd3786\"],[0.5555555555555556,\"#d8576b\"],[0.6666666666666666,\"#ed7953\"],[0.7777777777777778,\"#fb9f3a\"],[0.8888888888888888,\"#fdca26\"],[1.0,\"#f0f921\"]]},\"legend\":{\"tracegroupgap\":0,\"itemsizing\":\"constant\"},\"margin\":{\"t\":60}},                        {\"responsive\": true}                    ).then(function(){\n",
       "                            \n",
       "var gd = document.getElementById('a1614191-1a08-4381-a969-6a946672c3af');\n",
       "var x = new MutationObserver(function (mutations, observer) {{\n",
       "        var display = window.getComputedStyle(gd).display;\n",
       "        if (!display || display === 'none') {{\n",
       "            console.log([gd, 'removed!']);\n",
       "            Plotly.purge(gd);\n",
       "            observer.disconnect();\n",
       "        }}\n",
       "}});\n",
       "\n",
       "// Listen for the removal of the full notebook cells\n",
       "var notebookContainer = gd.closest('#notebook-container');\n",
       "if (notebookContainer) {{\n",
       "    x.observe(notebookContainer, {childList: true});\n",
       "}}\n",
       "\n",
       "// Listen for the clearing of the current output cell\n",
       "var outputEl = gd.closest('.output');\n",
       "if (outputEl) {{\n",
       "    x.observe(outputEl, {childList: true});\n",
       "}}\n",
       "\n",
       "                        })                };                });            </script>        </div>"
      ]
     },
     "metadata": {},
     "output_type": "display_data"
    }
   ],
   "source": [
    "sum = df.groupby(by=[\"country\", 'day'])[['price']].sum().reset_index() \n",
    "sum = sum.sort_values(['price'], ascending=False)\n",
    "\n",
    "count = df.groupby(by=[\"country\", 'day'])[['price']].count().reset_index() \n",
    "count = count.sort_values(['price'], ascending=False)\n",
    "\n",
    "sum['avreage_prices'] = sum['price']/count['price']\n",
    "sum = sum.sort_values(['avreage_prices'], ascending=False)\n",
    "sum\n",
    "fig = px.scatter(sum, x=sum[\"country\"], y=sum[\"day\"],color=sum['avreage_prices'],size=sum['avreage_prices'])\n",
    "fig.show()"
   ]
  },
  {
   "cell_type": "markdown",
   "id": "43e3b80a",
   "metadata": {
    "id": "X5oy_Oab9Ft2",
    "papermill": {
     "duration": 0.10612,
     "end_time": "2022-10-17T18:55:15.680388",
     "exception": false,
     "start_time": "2022-10-17T18:55:15.574268",
     "status": "completed"
    },
    "tags": []
   },
   "source": [
    "For **Switzerlnd**, selling products is **very low** in First of the month and then **increases** throughout the month   \n",
    "\n",
    "For **Ireland** and **United Kingdom**, selling products **constant** within the days of the month "
   ]
  },
  {
   "cell_type": "markdown",
   "id": "33284737",
   "metadata": {
    "id": "d5ccbc19",
    "papermill": {
     "duration": 0.104296,
     "end_time": "2022-10-17T18:55:15.888216",
     "exception": false,
     "start_time": "2022-10-17T18:55:15.783920",
     "status": "completed"
    },
    "tags": []
   },
   "source": [
    "## Should we put model photography in the face of the product or in the inside the profile ?"
   ]
  },
  {
   "cell_type": "code",
   "execution_count": 27,
   "id": "8911a561",
   "metadata": {
    "execution": {
     "iopub.execute_input": "2022-10-17T18:55:16.095722Z",
     "iopub.status.busy": "2022-10-17T18:55:16.095063Z",
     "iopub.status.idle": "2022-10-17T18:55:16.200560Z",
     "shell.execute_reply": "2022-10-17T18:55:16.199402Z"
    },
    "id": "60928db3",
    "outputId": "f78d3fd5-6969-4f28-9b23-e550169bb998",
    "papermill": {
     "duration": 0.212632,
     "end_time": "2022-10-17T18:55:16.203225",
     "exception": false,
     "start_time": "2022-10-17T18:55:15.990593",
     "status": "completed"
    },
    "tags": []
   },
   "outputs": [
    {
     "data": {
      "application/vnd.plotly.v1+json": {
       "config": {
        "plotlyServerURL": "https://plot.ly"
       },
       "data": [
        {
         "alignmentgroup": "True",
         "hovertemplate": "page 1 (main category)=blouses<br>model photography=%{x}<br>counts=%{y}<extra></extra>",
         "legendgroup": "blouses",
         "marker": {
          "color": "#636efa",
          "pattern": {
           "shape": ""
          }
         },
         "name": "blouses",
         "offsetgroup": "blouses",
         "orientation": "v",
         "showlegend": true,
         "textposition": "auto",
         "type": "bar",
         "x": [
          "En face",
          "Profile"
         ],
         "xaxis": "x",
         "y": [
          26959,
          11618
         ],
         "yaxis": "y"
        },
        {
         "alignmentgroup": "True",
         "hovertemplate": "page 1 (main category)=sale<br>model photography=%{x}<br>counts=%{y}<extra></extra>",
         "legendgroup": "sale",
         "marker": {
          "color": "#EF553B",
          "pattern": {
           "shape": ""
          }
         },
         "name": "sale",
         "offsetgroup": "sale",
         "orientation": "v",
         "showlegend": true,
         "textposition": "auto",
         "type": "bar",
         "x": [
          "En face",
          "Profile"
         ],
         "xaxis": "x",
         "y": [
          22534,
          16213
         ],
         "yaxis": "y"
        },
        {
         "alignmentgroup": "True",
         "hovertemplate": "page 1 (main category)=skirts<br>model photography=%{x}<br>counts=%{y}<extra></extra>",
         "legendgroup": "skirts",
         "marker": {
          "color": "#00cc96",
          "pattern": {
           "shape": ""
          }
         },
         "name": "skirts",
         "offsetgroup": "skirts",
         "orientation": "v",
         "showlegend": true,
         "textposition": "auto",
         "type": "bar",
         "x": [
          "En face",
          "Profile"
         ],
         "xaxis": "x",
         "y": [
          32294,
          6114
         ],
         "yaxis": "y"
        },
        {
         "alignmentgroup": "True",
         "hovertemplate": "page 1 (main category)=trousers<br>model photography=%{x}<br>counts=%{y}<extra></extra>",
         "legendgroup": "trousers",
         "marker": {
          "color": "#ab63fa",
          "pattern": {
           "shape": ""
          }
         },
         "name": "trousers",
         "offsetgroup": "trousers",
         "orientation": "v",
         "showlegend": true,
         "textposition": "auto",
         "type": "bar",
         "x": [
          "En face",
          "Profile"
         ],
         "xaxis": "x",
         "y": [
          40652,
          9090
         ],
         "yaxis": "y"
        }
       ],
       "layout": {
        "barmode": "group",
        "legend": {
         "title": {
          "text": "page 1 (main category)"
         },
         "tracegroupgap": 0
        },
        "margin": {
         "t": 60
        },
        "template": {
         "data": {
          "bar": [
           {
            "error_x": {
             "color": "#2a3f5f"
            },
            "error_y": {
             "color": "#2a3f5f"
            },
            "marker": {
             "line": {
              "color": "#E5ECF6",
              "width": 0.5
             },
             "pattern": {
              "fillmode": "overlay",
              "size": 10,
              "solidity": 0.2
             }
            },
            "type": "bar"
           }
          ],
          "barpolar": [
           {
            "marker": {
             "line": {
              "color": "#E5ECF6",
              "width": 0.5
             },
             "pattern": {
              "fillmode": "overlay",
              "size": 10,
              "solidity": 0.2
             }
            },
            "type": "barpolar"
           }
          ],
          "carpet": [
           {
            "aaxis": {
             "endlinecolor": "#2a3f5f",
             "gridcolor": "white",
             "linecolor": "white",
             "minorgridcolor": "white",
             "startlinecolor": "#2a3f5f"
            },
            "baxis": {
             "endlinecolor": "#2a3f5f",
             "gridcolor": "white",
             "linecolor": "white",
             "minorgridcolor": "white",
             "startlinecolor": "#2a3f5f"
            },
            "type": "carpet"
           }
          ],
          "choropleth": [
           {
            "colorbar": {
             "outlinewidth": 0,
             "ticks": ""
            },
            "type": "choropleth"
           }
          ],
          "contour": [
           {
            "colorbar": {
             "outlinewidth": 0,
             "ticks": ""
            },
            "colorscale": [
             [
              0,
              "#0d0887"
             ],
             [
              0.1111111111111111,
              "#46039f"
             ],
             [
              0.2222222222222222,
              "#7201a8"
             ],
             [
              0.3333333333333333,
              "#9c179e"
             ],
             [
              0.4444444444444444,
              "#bd3786"
             ],
             [
              0.5555555555555556,
              "#d8576b"
             ],
             [
              0.6666666666666666,
              "#ed7953"
             ],
             [
              0.7777777777777778,
              "#fb9f3a"
             ],
             [
              0.8888888888888888,
              "#fdca26"
             ],
             [
              1,
              "#f0f921"
             ]
            ],
            "type": "contour"
           }
          ],
          "contourcarpet": [
           {
            "colorbar": {
             "outlinewidth": 0,
             "ticks": ""
            },
            "type": "contourcarpet"
           }
          ],
          "heatmap": [
           {
            "colorbar": {
             "outlinewidth": 0,
             "ticks": ""
            },
            "colorscale": [
             [
              0,
              "#0d0887"
             ],
             [
              0.1111111111111111,
              "#46039f"
             ],
             [
              0.2222222222222222,
              "#7201a8"
             ],
             [
              0.3333333333333333,
              "#9c179e"
             ],
             [
              0.4444444444444444,
              "#bd3786"
             ],
             [
              0.5555555555555556,
              "#d8576b"
             ],
             [
              0.6666666666666666,
              "#ed7953"
             ],
             [
              0.7777777777777778,
              "#fb9f3a"
             ],
             [
              0.8888888888888888,
              "#fdca26"
             ],
             [
              1,
              "#f0f921"
             ]
            ],
            "type": "heatmap"
           }
          ],
          "heatmapgl": [
           {
            "colorbar": {
             "outlinewidth": 0,
             "ticks": ""
            },
            "colorscale": [
             [
              0,
              "#0d0887"
             ],
             [
              0.1111111111111111,
              "#46039f"
             ],
             [
              0.2222222222222222,
              "#7201a8"
             ],
             [
              0.3333333333333333,
              "#9c179e"
             ],
             [
              0.4444444444444444,
              "#bd3786"
             ],
             [
              0.5555555555555556,
              "#d8576b"
             ],
             [
              0.6666666666666666,
              "#ed7953"
             ],
             [
              0.7777777777777778,
              "#fb9f3a"
             ],
             [
              0.8888888888888888,
              "#fdca26"
             ],
             [
              1,
              "#f0f921"
             ]
            ],
            "type": "heatmapgl"
           }
          ],
          "histogram": [
           {
            "marker": {
             "pattern": {
              "fillmode": "overlay",
              "size": 10,
              "solidity": 0.2
             }
            },
            "type": "histogram"
           }
          ],
          "histogram2d": [
           {
            "colorbar": {
             "outlinewidth": 0,
             "ticks": ""
            },
            "colorscale": [
             [
              0,
              "#0d0887"
             ],
             [
              0.1111111111111111,
              "#46039f"
             ],
             [
              0.2222222222222222,
              "#7201a8"
             ],
             [
              0.3333333333333333,
              "#9c179e"
             ],
             [
              0.4444444444444444,
              "#bd3786"
             ],
             [
              0.5555555555555556,
              "#d8576b"
             ],
             [
              0.6666666666666666,
              "#ed7953"
             ],
             [
              0.7777777777777778,
              "#fb9f3a"
             ],
             [
              0.8888888888888888,
              "#fdca26"
             ],
             [
              1,
              "#f0f921"
             ]
            ],
            "type": "histogram2d"
           }
          ],
          "histogram2dcontour": [
           {
            "colorbar": {
             "outlinewidth": 0,
             "ticks": ""
            },
            "colorscale": [
             [
              0,
              "#0d0887"
             ],
             [
              0.1111111111111111,
              "#46039f"
             ],
             [
              0.2222222222222222,
              "#7201a8"
             ],
             [
              0.3333333333333333,
              "#9c179e"
             ],
             [
              0.4444444444444444,
              "#bd3786"
             ],
             [
              0.5555555555555556,
              "#d8576b"
             ],
             [
              0.6666666666666666,
              "#ed7953"
             ],
             [
              0.7777777777777778,
              "#fb9f3a"
             ],
             [
              0.8888888888888888,
              "#fdca26"
             ],
             [
              1,
              "#f0f921"
             ]
            ],
            "type": "histogram2dcontour"
           }
          ],
          "mesh3d": [
           {
            "colorbar": {
             "outlinewidth": 0,
             "ticks": ""
            },
            "type": "mesh3d"
           }
          ],
          "parcoords": [
           {
            "line": {
             "colorbar": {
              "outlinewidth": 0,
              "ticks": ""
             }
            },
            "type": "parcoords"
           }
          ],
          "pie": [
           {
            "automargin": true,
            "type": "pie"
           }
          ],
          "scatter": [
           {
            "fillpattern": {
             "fillmode": "overlay",
             "size": 10,
             "solidity": 0.2
            },
            "type": "scatter"
           }
          ],
          "scatter3d": [
           {
            "line": {
             "colorbar": {
              "outlinewidth": 0,
              "ticks": ""
             }
            },
            "marker": {
             "colorbar": {
              "outlinewidth": 0,
              "ticks": ""
             }
            },
            "type": "scatter3d"
           }
          ],
          "scattercarpet": [
           {
            "marker": {
             "colorbar": {
              "outlinewidth": 0,
              "ticks": ""
             }
            },
            "type": "scattercarpet"
           }
          ],
          "scattergeo": [
           {
            "marker": {
             "colorbar": {
              "outlinewidth": 0,
              "ticks": ""
             }
            },
            "type": "scattergeo"
           }
          ],
          "scattergl": [
           {
            "marker": {
             "colorbar": {
              "outlinewidth": 0,
              "ticks": ""
             }
            },
            "type": "scattergl"
           }
          ],
          "scattermapbox": [
           {
            "marker": {
             "colorbar": {
              "outlinewidth": 0,
              "ticks": ""
             }
            },
            "type": "scattermapbox"
           }
          ],
          "scatterpolar": [
           {
            "marker": {
             "colorbar": {
              "outlinewidth": 0,
              "ticks": ""
             }
            },
            "type": "scatterpolar"
           }
          ],
          "scatterpolargl": [
           {
            "marker": {
             "colorbar": {
              "outlinewidth": 0,
              "ticks": ""
             }
            },
            "type": "scatterpolargl"
           }
          ],
          "scatterternary": [
           {
            "marker": {
             "colorbar": {
              "outlinewidth": 0,
              "ticks": ""
             }
            },
            "type": "scatterternary"
           }
          ],
          "surface": [
           {
            "colorbar": {
             "outlinewidth": 0,
             "ticks": ""
            },
            "colorscale": [
             [
              0,
              "#0d0887"
             ],
             [
              0.1111111111111111,
              "#46039f"
             ],
             [
              0.2222222222222222,
              "#7201a8"
             ],
             [
              0.3333333333333333,
              "#9c179e"
             ],
             [
              0.4444444444444444,
              "#bd3786"
             ],
             [
              0.5555555555555556,
              "#d8576b"
             ],
             [
              0.6666666666666666,
              "#ed7953"
             ],
             [
              0.7777777777777778,
              "#fb9f3a"
             ],
             [
              0.8888888888888888,
              "#fdca26"
             ],
             [
              1,
              "#f0f921"
             ]
            ],
            "type": "surface"
           }
          ],
          "table": [
           {
            "cells": {
             "fill": {
              "color": "#EBF0F8"
             },
             "line": {
              "color": "white"
             }
            },
            "header": {
             "fill": {
              "color": "#C8D4E3"
             },
             "line": {
              "color": "white"
             }
            },
            "type": "table"
           }
          ]
         },
         "layout": {
          "annotationdefaults": {
           "arrowcolor": "#2a3f5f",
           "arrowhead": 0,
           "arrowwidth": 1
          },
          "autotypenumbers": "strict",
          "coloraxis": {
           "colorbar": {
            "outlinewidth": 0,
            "ticks": ""
           }
          },
          "colorscale": {
           "diverging": [
            [
             0,
             "#8e0152"
            ],
            [
             0.1,
             "#c51b7d"
            ],
            [
             0.2,
             "#de77ae"
            ],
            [
             0.3,
             "#f1b6da"
            ],
            [
             0.4,
             "#fde0ef"
            ],
            [
             0.5,
             "#f7f7f7"
            ],
            [
             0.6,
             "#e6f5d0"
            ],
            [
             0.7,
             "#b8e186"
            ],
            [
             0.8,
             "#7fbc41"
            ],
            [
             0.9,
             "#4d9221"
            ],
            [
             1,
             "#276419"
            ]
           ],
           "sequential": [
            [
             0,
             "#0d0887"
            ],
            [
             0.1111111111111111,
             "#46039f"
            ],
            [
             0.2222222222222222,
             "#7201a8"
            ],
            [
             0.3333333333333333,
             "#9c179e"
            ],
            [
             0.4444444444444444,
             "#bd3786"
            ],
            [
             0.5555555555555556,
             "#d8576b"
            ],
            [
             0.6666666666666666,
             "#ed7953"
            ],
            [
             0.7777777777777778,
             "#fb9f3a"
            ],
            [
             0.8888888888888888,
             "#fdca26"
            ],
            [
             1,
             "#f0f921"
            ]
           ],
           "sequentialminus": [
            [
             0,
             "#0d0887"
            ],
            [
             0.1111111111111111,
             "#46039f"
            ],
            [
             0.2222222222222222,
             "#7201a8"
            ],
            [
             0.3333333333333333,
             "#9c179e"
            ],
            [
             0.4444444444444444,
             "#bd3786"
            ],
            [
             0.5555555555555556,
             "#d8576b"
            ],
            [
             0.6666666666666666,
             "#ed7953"
            ],
            [
             0.7777777777777778,
             "#fb9f3a"
            ],
            [
             0.8888888888888888,
             "#fdca26"
            ],
            [
             1,
             "#f0f921"
            ]
           ]
          },
          "colorway": [
           "#636efa",
           "#EF553B",
           "#00cc96",
           "#ab63fa",
           "#FFA15A",
           "#19d3f3",
           "#FF6692",
           "#B6E880",
           "#FF97FF",
           "#FECB52"
          ],
          "font": {
           "color": "#2a3f5f"
          },
          "geo": {
           "bgcolor": "white",
           "lakecolor": "white",
           "landcolor": "#E5ECF6",
           "showlakes": true,
           "showland": true,
           "subunitcolor": "white"
          },
          "hoverlabel": {
           "align": "left"
          },
          "hovermode": "closest",
          "mapbox": {
           "style": "light"
          },
          "paper_bgcolor": "white",
          "plot_bgcolor": "#E5ECF6",
          "polar": {
           "angularaxis": {
            "gridcolor": "white",
            "linecolor": "white",
            "ticks": ""
           },
           "bgcolor": "#E5ECF6",
           "radialaxis": {
            "gridcolor": "white",
            "linecolor": "white",
            "ticks": ""
           }
          },
          "scene": {
           "xaxis": {
            "backgroundcolor": "#E5ECF6",
            "gridcolor": "white",
            "gridwidth": 2,
            "linecolor": "white",
            "showbackground": true,
            "ticks": "",
            "zerolinecolor": "white"
           },
           "yaxis": {
            "backgroundcolor": "#E5ECF6",
            "gridcolor": "white",
            "gridwidth": 2,
            "linecolor": "white",
            "showbackground": true,
            "ticks": "",
            "zerolinecolor": "white"
           },
           "zaxis": {
            "backgroundcolor": "#E5ECF6",
            "gridcolor": "white",
            "gridwidth": 2,
            "linecolor": "white",
            "showbackground": true,
            "ticks": "",
            "zerolinecolor": "white"
           }
          },
          "shapedefaults": {
           "line": {
            "color": "#2a3f5f"
           }
          },
          "ternary": {
           "aaxis": {
            "gridcolor": "white",
            "linecolor": "white",
            "ticks": ""
           },
           "baxis": {
            "gridcolor": "white",
            "linecolor": "white",
            "ticks": ""
           },
           "bgcolor": "#E5ECF6",
           "caxis": {
            "gridcolor": "white",
            "linecolor": "white",
            "ticks": ""
           }
          },
          "title": {
           "x": 0.05
          },
          "xaxis": {
           "automargin": true,
           "gridcolor": "white",
           "linecolor": "white",
           "ticks": "",
           "title": {
            "standoff": 15
           },
           "zerolinecolor": "white",
           "zerolinewidth": 2
          },
          "yaxis": {
           "automargin": true,
           "gridcolor": "white",
           "linecolor": "white",
           "ticks": "",
           "title": {
            "standoff": 15
           },
           "zerolinecolor": "white",
           "zerolinewidth": 2
          }
         }
        },
        "xaxis": {
         "anchor": "y",
         "domain": [
          0,
          1
         ],
         "title": {
          "text": "model photography"
         }
        },
        "yaxis": {
         "anchor": "x",
         "domain": [
          0,
          1
         ],
         "title": {
          "text": "counts"
         }
        }
       }
      },
      "text/html": [
       "<div>                            <div id=\"50507b46-b470-4eb0-8cfe-e2ab10f99cf3\" class=\"plotly-graph-div\" style=\"height:525px; width:100%;\"></div>            <script type=\"text/javascript\">                require([\"plotly\"], function(Plotly) {                    window.PLOTLYENV=window.PLOTLYENV || {};                                    if (document.getElementById(\"50507b46-b470-4eb0-8cfe-e2ab10f99cf3\")) {                    Plotly.newPlot(                        \"50507b46-b470-4eb0-8cfe-e2ab10f99cf3\",                        [{\"alignmentgroup\":\"True\",\"hovertemplate\":\"page 1 (main category)=blouses<br>model photography=%{x}<br>counts=%{y}<extra></extra>\",\"legendgroup\":\"blouses\",\"marker\":{\"color\":\"#636efa\",\"pattern\":{\"shape\":\"\"}},\"name\":\"blouses\",\"offsetgroup\":\"blouses\",\"orientation\":\"v\",\"showlegend\":true,\"textposition\":\"auto\",\"x\":[\"En face\",\"Profile\"],\"xaxis\":\"x\",\"y\":[26959,11618],\"yaxis\":\"y\",\"type\":\"bar\"},{\"alignmentgroup\":\"True\",\"hovertemplate\":\"page 1 (main category)=sale<br>model photography=%{x}<br>counts=%{y}<extra></extra>\",\"legendgroup\":\"sale\",\"marker\":{\"color\":\"#EF553B\",\"pattern\":{\"shape\":\"\"}},\"name\":\"sale\",\"offsetgroup\":\"sale\",\"orientation\":\"v\",\"showlegend\":true,\"textposition\":\"auto\",\"x\":[\"En face\",\"Profile\"],\"xaxis\":\"x\",\"y\":[22534,16213],\"yaxis\":\"y\",\"type\":\"bar\"},{\"alignmentgroup\":\"True\",\"hovertemplate\":\"page 1 (main category)=skirts<br>model photography=%{x}<br>counts=%{y}<extra></extra>\",\"legendgroup\":\"skirts\",\"marker\":{\"color\":\"#00cc96\",\"pattern\":{\"shape\":\"\"}},\"name\":\"skirts\",\"offsetgroup\":\"skirts\",\"orientation\":\"v\",\"showlegend\":true,\"textposition\":\"auto\",\"x\":[\"En face\",\"Profile\"],\"xaxis\":\"x\",\"y\":[32294,6114],\"yaxis\":\"y\",\"type\":\"bar\"},{\"alignmentgroup\":\"True\",\"hovertemplate\":\"page 1 (main category)=trousers<br>model photography=%{x}<br>counts=%{y}<extra></extra>\",\"legendgroup\":\"trousers\",\"marker\":{\"color\":\"#ab63fa\",\"pattern\":{\"shape\":\"\"}},\"name\":\"trousers\",\"offsetgroup\":\"trousers\",\"orientation\":\"v\",\"showlegend\":true,\"textposition\":\"auto\",\"x\":[\"En face\",\"Profile\"],\"xaxis\":\"x\",\"y\":[40652,9090],\"yaxis\":\"y\",\"type\":\"bar\"}],                        {\"template\":{\"data\":{\"histogram2dcontour\":[{\"type\":\"histogram2dcontour\",\"colorbar\":{\"outlinewidth\":0,\"ticks\":\"\"},\"colorscale\":[[0.0,\"#0d0887\"],[0.1111111111111111,\"#46039f\"],[0.2222222222222222,\"#7201a8\"],[0.3333333333333333,\"#9c179e\"],[0.4444444444444444,\"#bd3786\"],[0.5555555555555556,\"#d8576b\"],[0.6666666666666666,\"#ed7953\"],[0.7777777777777778,\"#fb9f3a\"],[0.8888888888888888,\"#fdca26\"],[1.0,\"#f0f921\"]]}],\"choropleth\":[{\"type\":\"choropleth\",\"colorbar\":{\"outlinewidth\":0,\"ticks\":\"\"}}],\"histogram2d\":[{\"type\":\"histogram2d\",\"colorbar\":{\"outlinewidth\":0,\"ticks\":\"\"},\"colorscale\":[[0.0,\"#0d0887\"],[0.1111111111111111,\"#46039f\"],[0.2222222222222222,\"#7201a8\"],[0.3333333333333333,\"#9c179e\"],[0.4444444444444444,\"#bd3786\"],[0.5555555555555556,\"#d8576b\"],[0.6666666666666666,\"#ed7953\"],[0.7777777777777778,\"#fb9f3a\"],[0.8888888888888888,\"#fdca26\"],[1.0,\"#f0f921\"]]}],\"heatmap\":[{\"type\":\"heatmap\",\"colorbar\":{\"outlinewidth\":0,\"ticks\":\"\"},\"colorscale\":[[0.0,\"#0d0887\"],[0.1111111111111111,\"#46039f\"],[0.2222222222222222,\"#7201a8\"],[0.3333333333333333,\"#9c179e\"],[0.4444444444444444,\"#bd3786\"],[0.5555555555555556,\"#d8576b\"],[0.6666666666666666,\"#ed7953\"],[0.7777777777777778,\"#fb9f3a\"],[0.8888888888888888,\"#fdca26\"],[1.0,\"#f0f921\"]]}],\"heatmapgl\":[{\"type\":\"heatmapgl\",\"colorbar\":{\"outlinewidth\":0,\"ticks\":\"\"},\"colorscale\":[[0.0,\"#0d0887\"],[0.1111111111111111,\"#46039f\"],[0.2222222222222222,\"#7201a8\"],[0.3333333333333333,\"#9c179e\"],[0.4444444444444444,\"#bd3786\"],[0.5555555555555556,\"#d8576b\"],[0.6666666666666666,\"#ed7953\"],[0.7777777777777778,\"#fb9f3a\"],[0.8888888888888888,\"#fdca26\"],[1.0,\"#f0f921\"]]}],\"contourcarpet\":[{\"type\":\"contourcarpet\",\"colorbar\":{\"outlinewidth\":0,\"ticks\":\"\"}}],\"contour\":[{\"type\":\"contour\",\"colorbar\":{\"outlinewidth\":0,\"ticks\":\"\"},\"colorscale\":[[0.0,\"#0d0887\"],[0.1111111111111111,\"#46039f\"],[0.2222222222222222,\"#7201a8\"],[0.3333333333333333,\"#9c179e\"],[0.4444444444444444,\"#bd3786\"],[0.5555555555555556,\"#d8576b\"],[0.6666666666666666,\"#ed7953\"],[0.7777777777777778,\"#fb9f3a\"],[0.8888888888888888,\"#fdca26\"],[1.0,\"#f0f921\"]]}],\"surface\":[{\"type\":\"surface\",\"colorbar\":{\"outlinewidth\":0,\"ticks\":\"\"},\"colorscale\":[[0.0,\"#0d0887\"],[0.1111111111111111,\"#46039f\"],[0.2222222222222222,\"#7201a8\"],[0.3333333333333333,\"#9c179e\"],[0.4444444444444444,\"#bd3786\"],[0.5555555555555556,\"#d8576b\"],[0.6666666666666666,\"#ed7953\"],[0.7777777777777778,\"#fb9f3a\"],[0.8888888888888888,\"#fdca26\"],[1.0,\"#f0f921\"]]}],\"mesh3d\":[{\"type\":\"mesh3d\",\"colorbar\":{\"outlinewidth\":0,\"ticks\":\"\"}}],\"scatter\":[{\"fillpattern\":{\"fillmode\":\"overlay\",\"size\":10,\"solidity\":0.2},\"type\":\"scatter\"}],\"parcoords\":[{\"type\":\"parcoords\",\"line\":{\"colorbar\":{\"outlinewidth\":0,\"ticks\":\"\"}}}],\"scatterpolargl\":[{\"type\":\"scatterpolargl\",\"marker\":{\"colorbar\":{\"outlinewidth\":0,\"ticks\":\"\"}}}],\"bar\":[{\"error_x\":{\"color\":\"#2a3f5f\"},\"error_y\":{\"color\":\"#2a3f5f\"},\"marker\":{\"line\":{\"color\":\"#E5ECF6\",\"width\":0.5},\"pattern\":{\"fillmode\":\"overlay\",\"size\":10,\"solidity\":0.2}},\"type\":\"bar\"}],\"scattergeo\":[{\"type\":\"scattergeo\",\"marker\":{\"colorbar\":{\"outlinewidth\":0,\"ticks\":\"\"}}}],\"scatterpolar\":[{\"type\":\"scatterpolar\",\"marker\":{\"colorbar\":{\"outlinewidth\":0,\"ticks\":\"\"}}}],\"histogram\":[{\"marker\":{\"pattern\":{\"fillmode\":\"overlay\",\"size\":10,\"solidity\":0.2}},\"type\":\"histogram\"}],\"scattergl\":[{\"type\":\"scattergl\",\"marker\":{\"colorbar\":{\"outlinewidth\":0,\"ticks\":\"\"}}}],\"scatter3d\":[{\"type\":\"scatter3d\",\"line\":{\"colorbar\":{\"outlinewidth\":0,\"ticks\":\"\"}},\"marker\":{\"colorbar\":{\"outlinewidth\":0,\"ticks\":\"\"}}}],\"scattermapbox\":[{\"type\":\"scattermapbox\",\"marker\":{\"colorbar\":{\"outlinewidth\":0,\"ticks\":\"\"}}}],\"scatterternary\":[{\"type\":\"scatterternary\",\"marker\":{\"colorbar\":{\"outlinewidth\":0,\"ticks\":\"\"}}}],\"scattercarpet\":[{\"type\":\"scattercarpet\",\"marker\":{\"colorbar\":{\"outlinewidth\":0,\"ticks\":\"\"}}}],\"carpet\":[{\"aaxis\":{\"endlinecolor\":\"#2a3f5f\",\"gridcolor\":\"white\",\"linecolor\":\"white\",\"minorgridcolor\":\"white\",\"startlinecolor\":\"#2a3f5f\"},\"baxis\":{\"endlinecolor\":\"#2a3f5f\",\"gridcolor\":\"white\",\"linecolor\":\"white\",\"minorgridcolor\":\"white\",\"startlinecolor\":\"#2a3f5f\"},\"type\":\"carpet\"}],\"table\":[{\"cells\":{\"fill\":{\"color\":\"#EBF0F8\"},\"line\":{\"color\":\"white\"}},\"header\":{\"fill\":{\"color\":\"#C8D4E3\"},\"line\":{\"color\":\"white\"}},\"type\":\"table\"}],\"barpolar\":[{\"marker\":{\"line\":{\"color\":\"#E5ECF6\",\"width\":0.5},\"pattern\":{\"fillmode\":\"overlay\",\"size\":10,\"solidity\":0.2}},\"type\":\"barpolar\"}],\"pie\":[{\"automargin\":true,\"type\":\"pie\"}]},\"layout\":{\"autotypenumbers\":\"strict\",\"colorway\":[\"#636efa\",\"#EF553B\",\"#00cc96\",\"#ab63fa\",\"#FFA15A\",\"#19d3f3\",\"#FF6692\",\"#B6E880\",\"#FF97FF\",\"#FECB52\"],\"font\":{\"color\":\"#2a3f5f\"},\"hovermode\":\"closest\",\"hoverlabel\":{\"align\":\"left\"},\"paper_bgcolor\":\"white\",\"plot_bgcolor\":\"#E5ECF6\",\"polar\":{\"bgcolor\":\"#E5ECF6\",\"angularaxis\":{\"gridcolor\":\"white\",\"linecolor\":\"white\",\"ticks\":\"\"},\"radialaxis\":{\"gridcolor\":\"white\",\"linecolor\":\"white\",\"ticks\":\"\"}},\"ternary\":{\"bgcolor\":\"#E5ECF6\",\"aaxis\":{\"gridcolor\":\"white\",\"linecolor\":\"white\",\"ticks\":\"\"},\"baxis\":{\"gridcolor\":\"white\",\"linecolor\":\"white\",\"ticks\":\"\"},\"caxis\":{\"gridcolor\":\"white\",\"linecolor\":\"white\",\"ticks\":\"\"}},\"coloraxis\":{\"colorbar\":{\"outlinewidth\":0,\"ticks\":\"\"}},\"colorscale\":{\"sequential\":[[0.0,\"#0d0887\"],[0.1111111111111111,\"#46039f\"],[0.2222222222222222,\"#7201a8\"],[0.3333333333333333,\"#9c179e\"],[0.4444444444444444,\"#bd3786\"],[0.5555555555555556,\"#d8576b\"],[0.6666666666666666,\"#ed7953\"],[0.7777777777777778,\"#fb9f3a\"],[0.8888888888888888,\"#fdca26\"],[1.0,\"#f0f921\"]],\"sequentialminus\":[[0.0,\"#0d0887\"],[0.1111111111111111,\"#46039f\"],[0.2222222222222222,\"#7201a8\"],[0.3333333333333333,\"#9c179e\"],[0.4444444444444444,\"#bd3786\"],[0.5555555555555556,\"#d8576b\"],[0.6666666666666666,\"#ed7953\"],[0.7777777777777778,\"#fb9f3a\"],[0.8888888888888888,\"#fdca26\"],[1.0,\"#f0f921\"]],\"diverging\":[[0,\"#8e0152\"],[0.1,\"#c51b7d\"],[0.2,\"#de77ae\"],[0.3,\"#f1b6da\"],[0.4,\"#fde0ef\"],[0.5,\"#f7f7f7\"],[0.6,\"#e6f5d0\"],[0.7,\"#b8e186\"],[0.8,\"#7fbc41\"],[0.9,\"#4d9221\"],[1,\"#276419\"]]},\"xaxis\":{\"gridcolor\":\"white\",\"linecolor\":\"white\",\"ticks\":\"\",\"title\":{\"standoff\":15},\"zerolinecolor\":\"white\",\"automargin\":true,\"zerolinewidth\":2},\"yaxis\":{\"gridcolor\":\"white\",\"linecolor\":\"white\",\"ticks\":\"\",\"title\":{\"standoff\":15},\"zerolinecolor\":\"white\",\"automargin\":true,\"zerolinewidth\":2},\"scene\":{\"xaxis\":{\"backgroundcolor\":\"#E5ECF6\",\"gridcolor\":\"white\",\"linecolor\":\"white\",\"showbackground\":true,\"ticks\":\"\",\"zerolinecolor\":\"white\",\"gridwidth\":2},\"yaxis\":{\"backgroundcolor\":\"#E5ECF6\",\"gridcolor\":\"white\",\"linecolor\":\"white\",\"showbackground\":true,\"ticks\":\"\",\"zerolinecolor\":\"white\",\"gridwidth\":2},\"zaxis\":{\"backgroundcolor\":\"#E5ECF6\",\"gridcolor\":\"white\",\"linecolor\":\"white\",\"showbackground\":true,\"ticks\":\"\",\"zerolinecolor\":\"white\",\"gridwidth\":2}},\"shapedefaults\":{\"line\":{\"color\":\"#2a3f5f\"}},\"annotationdefaults\":{\"arrowcolor\":\"#2a3f5f\",\"arrowhead\":0,\"arrowwidth\":1},\"geo\":{\"bgcolor\":\"white\",\"landcolor\":\"#E5ECF6\",\"subunitcolor\":\"white\",\"showland\":true,\"showlakes\":true,\"lakecolor\":\"white\"},\"title\":{\"x\":0.05},\"mapbox\":{\"style\":\"light\"}}},\"xaxis\":{\"anchor\":\"y\",\"domain\":[0.0,1.0],\"title\":{\"text\":\"model photography\"}},\"yaxis\":{\"anchor\":\"x\",\"domain\":[0.0,1.0],\"title\":{\"text\":\"counts\"}},\"legend\":{\"title\":{\"text\":\"page 1 (main category)\"},\"tracegroupgap\":0},\"margin\":{\"t\":60},\"barmode\":\"group\"},                        {\"responsive\": true}                    ).then(function(){\n",
       "                            \n",
       "var gd = document.getElementById('50507b46-b470-4eb0-8cfe-e2ab10f99cf3');\n",
       "var x = new MutationObserver(function (mutations, observer) {{\n",
       "        var display = window.getComputedStyle(gd).display;\n",
       "        if (!display || display === 'none') {{\n",
       "            console.log([gd, 'removed!']);\n",
       "            Plotly.purge(gd);\n",
       "            observer.disconnect();\n",
       "        }}\n",
       "}});\n",
       "\n",
       "// Listen for the removal of the full notebook cells\n",
       "var notebookContainer = gd.closest('#notebook-container');\n",
       "if (notebookContainer) {{\n",
       "    x.observe(notebookContainer, {childList: true});\n",
       "}}\n",
       "\n",
       "// Listen for the clearing of the current output cell\n",
       "var outputEl = gd.closest('.output');\n",
       "if (outputEl) {{\n",
       "    x.observe(outputEl, {childList: true});\n",
       "}}\n",
       "\n",
       "                        })                };                });            </script>        </div>"
      ]
     },
     "metadata": {},
     "output_type": "display_data"
    }
   ],
   "source": [
    "df5 = df.groupby(by=[\"model photography\", 'page 1 (main category)'])[\n",
    "    'price'].count().reset_index(name=\"counts\")\n",
    "px.bar(data_frame=df5, x=\"model photography\", y=\"counts\",\n",
    "       color=\"page 1 (main category)\", barmode=\"group\")"
   ]
  },
  {
   "cell_type": "markdown",
   "id": "9bdd1a84",
   "metadata": {
    "id": "GbZOPh-yAJ0-",
    "papermill": {
     "duration": 0.110179,
     "end_time": "2022-10-17T18:55:16.476359",
     "exception": false,
     "start_time": "2022-10-17T18:55:16.366180",
     "status": "completed"
    },
    "tags": []
   },
   "source": [
    "**YES** we should put model photography en face of the products"
   ]
  },
  {
   "cell_type": "markdown",
   "id": "a21d9a8a",
   "metadata": {
    "papermill": {
     "duration": 0.108983,
     "end_time": "2022-10-17T18:55:16.694348",
     "exception": false,
     "start_time": "2022-10-17T18:55:16.585365",
     "status": "completed"
    },
    "tags": []
   },
   "source": [
    "# Relation between sales , buying days and months"
   ]
  },
  {
   "cell_type": "code",
   "execution_count": 28,
   "id": "87f8187f",
   "metadata": {
    "execution": {
     "iopub.execute_input": "2022-10-17T18:55:16.914253Z",
     "iopub.status.busy": "2022-10-17T18:55:16.913879Z",
     "iopub.status.idle": "2022-10-17T18:55:17.022329Z",
     "shell.execute_reply": "2022-10-17T18:55:17.021027Z"
    },
    "papermill": {
     "duration": 0.222648,
     "end_time": "2022-10-17T18:55:17.025318",
     "exception": false,
     "start_time": "2022-10-17T18:55:16.802670",
     "status": "completed"
    },
    "tags": []
   },
   "outputs": [
    {
     "data": {
      "application/vnd.plotly.v1+json": {
       "config": {
        "plotlyServerURL": "https://plot.ly"
       },
       "data": [
        {
         "hovertemplate": "day=%{x}<br>month=%{y}<br>counts=%{marker.size}<extra></extra>",
         "legendgroup": "",
         "marker": {
          "color": "#636efa",
          "size": [
           3181,
           3456,
           1854,
           1801,
           1504,
           1296,
           1801,
           1717,
           1481,
           1854,
           1636,
           1330,
           961,
           1754,
           1426,
           1712,
           1611,
           1833,
           1537,
           1273,
           1608,
           1479,
           1466,
           1217,
           1091,
           841,
           1010,
           1478,
           1777,
           1214,
           1029,
           714,
           1022,
           1412,
           1212,
           1651,
           1042,
           1267,
           1056,
           929,
           1240,
           1374,
           200,
           917,
           1037,
           1250,
           946,
           819,
           1004,
           1029,
           1506,
           1160,
           1232,
           1253,
           874,
           1012,
           1351,
           1283,
           1385,
           1415,
           921,
           538,
           951,
           1355,
           1522,
           1443,
           1529,
           1143,
           898,
           819,
           1151,
           1169,
           1121,
           1198,
           803,
           1071,
           1384,
           1334,
           1224,
           1067,
           823,
           796,
           1271,
           1340,
           1191,
           1203,
           1193,
           627,
           781,
           1175,
           1266,
           1203,
           1237,
           988,
           645,
           862,
           1044,
           1284,
           1134,
           1316,
           1099,
           749,
           965,
           1167,
           1142,
           938,
           594,
           923,
           1408,
           1215,
           1475,
           1409,
           1009,
           806,
           1059,
           1401,
           1023,
           1600,
           1128,
           1480,
           767,
           867,
           1477,
           1351,
           1415,
           1001,
           1156,
           1036,
           1425,
           1048,
           1271,
           1281,
           1494,
           834,
           621
          ],
          "sizemode": "area",
          "sizeref": 8.64,
          "symbol": "circle"
         },
         "mode": "markers",
         "name": "",
         "orientation": "h",
         "showlegend": false,
         "type": "scatter",
         "x": [
          1,
          2,
          3,
          4,
          5,
          6,
          7,
          8,
          9,
          10,
          11,
          12,
          13,
          14,
          15,
          16,
          17,
          18,
          19,
          20,
          21,
          22,
          23,
          24,
          25,
          26,
          27,
          28,
          29,
          30,
          1,
          2,
          3,
          4,
          5,
          6,
          7,
          8,
          9,
          10,
          11,
          12,
          13,
          1,
          2,
          3,
          4,
          5,
          6,
          7,
          8,
          9,
          10,
          11,
          12,
          13,
          14,
          15,
          16,
          17,
          18,
          19,
          20,
          21,
          22,
          23,
          24,
          25,
          26,
          27,
          28,
          29,
          30,
          31,
          1,
          2,
          3,
          4,
          5,
          6,
          7,
          8,
          9,
          10,
          11,
          12,
          13,
          14,
          15,
          16,
          17,
          18,
          19,
          20,
          21,
          22,
          23,
          24,
          25,
          26,
          27,
          28,
          29,
          30,
          1,
          2,
          3,
          4,
          5,
          6,
          7,
          8,
          9,
          10,
          11,
          12,
          13,
          14,
          15,
          16,
          17,
          18,
          19,
          20,
          21,
          22,
          23,
          24,
          25,
          26,
          27,
          28,
          29,
          30,
          31
         ],
         "xaxis": "x",
         "y": [
          "April",
          "April",
          "April",
          "April",
          "April",
          "April",
          "April",
          "April",
          "April",
          "April",
          "April",
          "April",
          "April",
          "April",
          "April",
          "April",
          "April",
          "April",
          "April",
          "April",
          "April",
          "April",
          "April",
          "April",
          "April",
          "April",
          "April",
          "April",
          "April",
          "April",
          "August",
          "August",
          "August",
          "August",
          "August",
          "August",
          "August",
          "August",
          "August",
          "August",
          "August",
          "August",
          "August",
          "July",
          "July",
          "July",
          "July",
          "July",
          "July",
          "July",
          "July",
          "July",
          "July",
          "July",
          "July",
          "July",
          "July",
          "July",
          "July",
          "July",
          "July",
          "July",
          "July",
          "July",
          "July",
          "July",
          "July",
          "July",
          "July",
          "July",
          "July",
          "July",
          "July",
          "July",
          "June",
          "June",
          "June",
          "June",
          "June",
          "June",
          "June",
          "June",
          "June",
          "June",
          "June",
          "June",
          "June",
          "June",
          "June",
          "June",
          "June",
          "June",
          "June",
          "June",
          "June",
          "June",
          "June",
          "June",
          "June",
          "June",
          "June",
          "June",
          "June",
          "June",
          "May",
          "May",
          "May",
          "May",
          "May",
          "May",
          "May",
          "May",
          "May",
          "May",
          "May",
          "May",
          "May",
          "May",
          "May",
          "May",
          "May",
          "May",
          "May",
          "May",
          "May",
          "May",
          "May",
          "May",
          "May",
          "May",
          "May",
          "May",
          "May",
          "May",
          "May"
         ],
         "yaxis": "y"
        }
       ],
       "layout": {
        "legend": {
         "itemsizing": "constant",
         "tracegroupgap": 0
        },
        "margin": {
         "t": 60
        },
        "template": {
         "data": {
          "bar": [
           {
            "error_x": {
             "color": "#2a3f5f"
            },
            "error_y": {
             "color": "#2a3f5f"
            },
            "marker": {
             "line": {
              "color": "#E5ECF6",
              "width": 0.5
             },
             "pattern": {
              "fillmode": "overlay",
              "size": 10,
              "solidity": 0.2
             }
            },
            "type": "bar"
           }
          ],
          "barpolar": [
           {
            "marker": {
             "line": {
              "color": "#E5ECF6",
              "width": 0.5
             },
             "pattern": {
              "fillmode": "overlay",
              "size": 10,
              "solidity": 0.2
             }
            },
            "type": "barpolar"
           }
          ],
          "carpet": [
           {
            "aaxis": {
             "endlinecolor": "#2a3f5f",
             "gridcolor": "white",
             "linecolor": "white",
             "minorgridcolor": "white",
             "startlinecolor": "#2a3f5f"
            },
            "baxis": {
             "endlinecolor": "#2a3f5f",
             "gridcolor": "white",
             "linecolor": "white",
             "minorgridcolor": "white",
             "startlinecolor": "#2a3f5f"
            },
            "type": "carpet"
           }
          ],
          "choropleth": [
           {
            "colorbar": {
             "outlinewidth": 0,
             "ticks": ""
            },
            "type": "choropleth"
           }
          ],
          "contour": [
           {
            "colorbar": {
             "outlinewidth": 0,
             "ticks": ""
            },
            "colorscale": [
             [
              0,
              "#0d0887"
             ],
             [
              0.1111111111111111,
              "#46039f"
             ],
             [
              0.2222222222222222,
              "#7201a8"
             ],
             [
              0.3333333333333333,
              "#9c179e"
             ],
             [
              0.4444444444444444,
              "#bd3786"
             ],
             [
              0.5555555555555556,
              "#d8576b"
             ],
             [
              0.6666666666666666,
              "#ed7953"
             ],
             [
              0.7777777777777778,
              "#fb9f3a"
             ],
             [
              0.8888888888888888,
              "#fdca26"
             ],
             [
              1,
              "#f0f921"
             ]
            ],
            "type": "contour"
           }
          ],
          "contourcarpet": [
           {
            "colorbar": {
             "outlinewidth": 0,
             "ticks": ""
            },
            "type": "contourcarpet"
           }
          ],
          "heatmap": [
           {
            "colorbar": {
             "outlinewidth": 0,
             "ticks": ""
            },
            "colorscale": [
             [
              0,
              "#0d0887"
             ],
             [
              0.1111111111111111,
              "#46039f"
             ],
             [
              0.2222222222222222,
              "#7201a8"
             ],
             [
              0.3333333333333333,
              "#9c179e"
             ],
             [
              0.4444444444444444,
              "#bd3786"
             ],
             [
              0.5555555555555556,
              "#d8576b"
             ],
             [
              0.6666666666666666,
              "#ed7953"
             ],
             [
              0.7777777777777778,
              "#fb9f3a"
             ],
             [
              0.8888888888888888,
              "#fdca26"
             ],
             [
              1,
              "#f0f921"
             ]
            ],
            "type": "heatmap"
           }
          ],
          "heatmapgl": [
           {
            "colorbar": {
             "outlinewidth": 0,
             "ticks": ""
            },
            "colorscale": [
             [
              0,
              "#0d0887"
             ],
             [
              0.1111111111111111,
              "#46039f"
             ],
             [
              0.2222222222222222,
              "#7201a8"
             ],
             [
              0.3333333333333333,
              "#9c179e"
             ],
             [
              0.4444444444444444,
              "#bd3786"
             ],
             [
              0.5555555555555556,
              "#d8576b"
             ],
             [
              0.6666666666666666,
              "#ed7953"
             ],
             [
              0.7777777777777778,
              "#fb9f3a"
             ],
             [
              0.8888888888888888,
              "#fdca26"
             ],
             [
              1,
              "#f0f921"
             ]
            ],
            "type": "heatmapgl"
           }
          ],
          "histogram": [
           {
            "marker": {
             "pattern": {
              "fillmode": "overlay",
              "size": 10,
              "solidity": 0.2
             }
            },
            "type": "histogram"
           }
          ],
          "histogram2d": [
           {
            "colorbar": {
             "outlinewidth": 0,
             "ticks": ""
            },
            "colorscale": [
             [
              0,
              "#0d0887"
             ],
             [
              0.1111111111111111,
              "#46039f"
             ],
             [
              0.2222222222222222,
              "#7201a8"
             ],
             [
              0.3333333333333333,
              "#9c179e"
             ],
             [
              0.4444444444444444,
              "#bd3786"
             ],
             [
              0.5555555555555556,
              "#d8576b"
             ],
             [
              0.6666666666666666,
              "#ed7953"
             ],
             [
              0.7777777777777778,
              "#fb9f3a"
             ],
             [
              0.8888888888888888,
              "#fdca26"
             ],
             [
              1,
              "#f0f921"
             ]
            ],
            "type": "histogram2d"
           }
          ],
          "histogram2dcontour": [
           {
            "colorbar": {
             "outlinewidth": 0,
             "ticks": ""
            },
            "colorscale": [
             [
              0,
              "#0d0887"
             ],
             [
              0.1111111111111111,
              "#46039f"
             ],
             [
              0.2222222222222222,
              "#7201a8"
             ],
             [
              0.3333333333333333,
              "#9c179e"
             ],
             [
              0.4444444444444444,
              "#bd3786"
             ],
             [
              0.5555555555555556,
              "#d8576b"
             ],
             [
              0.6666666666666666,
              "#ed7953"
             ],
             [
              0.7777777777777778,
              "#fb9f3a"
             ],
             [
              0.8888888888888888,
              "#fdca26"
             ],
             [
              1,
              "#f0f921"
             ]
            ],
            "type": "histogram2dcontour"
           }
          ],
          "mesh3d": [
           {
            "colorbar": {
             "outlinewidth": 0,
             "ticks": ""
            },
            "type": "mesh3d"
           }
          ],
          "parcoords": [
           {
            "line": {
             "colorbar": {
              "outlinewidth": 0,
              "ticks": ""
             }
            },
            "type": "parcoords"
           }
          ],
          "pie": [
           {
            "automargin": true,
            "type": "pie"
           }
          ],
          "scatter": [
           {
            "fillpattern": {
             "fillmode": "overlay",
             "size": 10,
             "solidity": 0.2
            },
            "type": "scatter"
           }
          ],
          "scatter3d": [
           {
            "line": {
             "colorbar": {
              "outlinewidth": 0,
              "ticks": ""
             }
            },
            "marker": {
             "colorbar": {
              "outlinewidth": 0,
              "ticks": ""
             }
            },
            "type": "scatter3d"
           }
          ],
          "scattercarpet": [
           {
            "marker": {
             "colorbar": {
              "outlinewidth": 0,
              "ticks": ""
             }
            },
            "type": "scattercarpet"
           }
          ],
          "scattergeo": [
           {
            "marker": {
             "colorbar": {
              "outlinewidth": 0,
              "ticks": ""
             }
            },
            "type": "scattergeo"
           }
          ],
          "scattergl": [
           {
            "marker": {
             "colorbar": {
              "outlinewidth": 0,
              "ticks": ""
             }
            },
            "type": "scattergl"
           }
          ],
          "scattermapbox": [
           {
            "marker": {
             "colorbar": {
              "outlinewidth": 0,
              "ticks": ""
             }
            },
            "type": "scattermapbox"
           }
          ],
          "scatterpolar": [
           {
            "marker": {
             "colorbar": {
              "outlinewidth": 0,
              "ticks": ""
             }
            },
            "type": "scatterpolar"
           }
          ],
          "scatterpolargl": [
           {
            "marker": {
             "colorbar": {
              "outlinewidth": 0,
              "ticks": ""
             }
            },
            "type": "scatterpolargl"
           }
          ],
          "scatterternary": [
           {
            "marker": {
             "colorbar": {
              "outlinewidth": 0,
              "ticks": ""
             }
            },
            "type": "scatterternary"
           }
          ],
          "surface": [
           {
            "colorbar": {
             "outlinewidth": 0,
             "ticks": ""
            },
            "colorscale": [
             [
              0,
              "#0d0887"
             ],
             [
              0.1111111111111111,
              "#46039f"
             ],
             [
              0.2222222222222222,
              "#7201a8"
             ],
             [
              0.3333333333333333,
              "#9c179e"
             ],
             [
              0.4444444444444444,
              "#bd3786"
             ],
             [
              0.5555555555555556,
              "#d8576b"
             ],
             [
              0.6666666666666666,
              "#ed7953"
             ],
             [
              0.7777777777777778,
              "#fb9f3a"
             ],
             [
              0.8888888888888888,
              "#fdca26"
             ],
             [
              1,
              "#f0f921"
             ]
            ],
            "type": "surface"
           }
          ],
          "table": [
           {
            "cells": {
             "fill": {
              "color": "#EBF0F8"
             },
             "line": {
              "color": "white"
             }
            },
            "header": {
             "fill": {
              "color": "#C8D4E3"
             },
             "line": {
              "color": "white"
             }
            },
            "type": "table"
           }
          ]
         },
         "layout": {
          "annotationdefaults": {
           "arrowcolor": "#2a3f5f",
           "arrowhead": 0,
           "arrowwidth": 1
          },
          "autotypenumbers": "strict",
          "coloraxis": {
           "colorbar": {
            "outlinewidth": 0,
            "ticks": ""
           }
          },
          "colorscale": {
           "diverging": [
            [
             0,
             "#8e0152"
            ],
            [
             0.1,
             "#c51b7d"
            ],
            [
             0.2,
             "#de77ae"
            ],
            [
             0.3,
             "#f1b6da"
            ],
            [
             0.4,
             "#fde0ef"
            ],
            [
             0.5,
             "#f7f7f7"
            ],
            [
             0.6,
             "#e6f5d0"
            ],
            [
             0.7,
             "#b8e186"
            ],
            [
             0.8,
             "#7fbc41"
            ],
            [
             0.9,
             "#4d9221"
            ],
            [
             1,
             "#276419"
            ]
           ],
           "sequential": [
            [
             0,
             "#0d0887"
            ],
            [
             0.1111111111111111,
             "#46039f"
            ],
            [
             0.2222222222222222,
             "#7201a8"
            ],
            [
             0.3333333333333333,
             "#9c179e"
            ],
            [
             0.4444444444444444,
             "#bd3786"
            ],
            [
             0.5555555555555556,
             "#d8576b"
            ],
            [
             0.6666666666666666,
             "#ed7953"
            ],
            [
             0.7777777777777778,
             "#fb9f3a"
            ],
            [
             0.8888888888888888,
             "#fdca26"
            ],
            [
             1,
             "#f0f921"
            ]
           ],
           "sequentialminus": [
            [
             0,
             "#0d0887"
            ],
            [
             0.1111111111111111,
             "#46039f"
            ],
            [
             0.2222222222222222,
             "#7201a8"
            ],
            [
             0.3333333333333333,
             "#9c179e"
            ],
            [
             0.4444444444444444,
             "#bd3786"
            ],
            [
             0.5555555555555556,
             "#d8576b"
            ],
            [
             0.6666666666666666,
             "#ed7953"
            ],
            [
             0.7777777777777778,
             "#fb9f3a"
            ],
            [
             0.8888888888888888,
             "#fdca26"
            ],
            [
             1,
             "#f0f921"
            ]
           ]
          },
          "colorway": [
           "#636efa",
           "#EF553B",
           "#00cc96",
           "#ab63fa",
           "#FFA15A",
           "#19d3f3",
           "#FF6692",
           "#B6E880",
           "#FF97FF",
           "#FECB52"
          ],
          "font": {
           "color": "#2a3f5f"
          },
          "geo": {
           "bgcolor": "white",
           "lakecolor": "white",
           "landcolor": "#E5ECF6",
           "showlakes": true,
           "showland": true,
           "subunitcolor": "white"
          },
          "hoverlabel": {
           "align": "left"
          },
          "hovermode": "closest",
          "mapbox": {
           "style": "light"
          },
          "paper_bgcolor": "white",
          "plot_bgcolor": "#E5ECF6",
          "polar": {
           "angularaxis": {
            "gridcolor": "white",
            "linecolor": "white",
            "ticks": ""
           },
           "bgcolor": "#E5ECF6",
           "radialaxis": {
            "gridcolor": "white",
            "linecolor": "white",
            "ticks": ""
           }
          },
          "scene": {
           "xaxis": {
            "backgroundcolor": "#E5ECF6",
            "gridcolor": "white",
            "gridwidth": 2,
            "linecolor": "white",
            "showbackground": true,
            "ticks": "",
            "zerolinecolor": "white"
           },
           "yaxis": {
            "backgroundcolor": "#E5ECF6",
            "gridcolor": "white",
            "gridwidth": 2,
            "linecolor": "white",
            "showbackground": true,
            "ticks": "",
            "zerolinecolor": "white"
           },
           "zaxis": {
            "backgroundcolor": "#E5ECF6",
            "gridcolor": "white",
            "gridwidth": 2,
            "linecolor": "white",
            "showbackground": true,
            "ticks": "",
            "zerolinecolor": "white"
           }
          },
          "shapedefaults": {
           "line": {
            "color": "#2a3f5f"
           }
          },
          "ternary": {
           "aaxis": {
            "gridcolor": "white",
            "linecolor": "white",
            "ticks": ""
           },
           "baxis": {
            "gridcolor": "white",
            "linecolor": "white",
            "ticks": ""
           },
           "bgcolor": "#E5ECF6",
           "caxis": {
            "gridcolor": "white",
            "linecolor": "white",
            "ticks": ""
           }
          },
          "title": {
           "x": 0.05
          },
          "xaxis": {
           "automargin": true,
           "gridcolor": "white",
           "linecolor": "white",
           "ticks": "",
           "title": {
            "standoff": 15
           },
           "zerolinecolor": "white",
           "zerolinewidth": 2
          },
          "yaxis": {
           "automargin": true,
           "gridcolor": "white",
           "linecolor": "white",
           "ticks": "",
           "title": {
            "standoff": 15
           },
           "zerolinecolor": "white",
           "zerolinewidth": 2
          }
         }
        },
        "xaxis": {
         "anchor": "y",
         "domain": [
          0,
          1
         ],
         "title": {
          "text": "day"
         }
        },
        "yaxis": {
         "anchor": "x",
         "domain": [
          0,
          1
         ],
         "title": {
          "text": "month"
         }
        }
       }
      },
      "text/html": [
       "<div>                            <div id=\"484dd08c-c36a-4085-96b3-686e79343e66\" class=\"plotly-graph-div\" style=\"height:525px; width:100%;\"></div>            <script type=\"text/javascript\">                require([\"plotly\"], function(Plotly) {                    window.PLOTLYENV=window.PLOTLYENV || {};                                    if (document.getElementById(\"484dd08c-c36a-4085-96b3-686e79343e66\")) {                    Plotly.newPlot(                        \"484dd08c-c36a-4085-96b3-686e79343e66\",                        [{\"hovertemplate\":\"day=%{x}<br>month=%{y}<br>counts=%{marker.size}<extra></extra>\",\"legendgroup\":\"\",\"marker\":{\"color\":\"#636efa\",\"size\":[3181,3456,1854,1801,1504,1296,1801,1717,1481,1854,1636,1330,961,1754,1426,1712,1611,1833,1537,1273,1608,1479,1466,1217,1091,841,1010,1478,1777,1214,1029,714,1022,1412,1212,1651,1042,1267,1056,929,1240,1374,200,917,1037,1250,946,819,1004,1029,1506,1160,1232,1253,874,1012,1351,1283,1385,1415,921,538,951,1355,1522,1443,1529,1143,898,819,1151,1169,1121,1198,803,1071,1384,1334,1224,1067,823,796,1271,1340,1191,1203,1193,627,781,1175,1266,1203,1237,988,645,862,1044,1284,1134,1316,1099,749,965,1167,1142,938,594,923,1408,1215,1475,1409,1009,806,1059,1401,1023,1600,1128,1480,767,867,1477,1351,1415,1001,1156,1036,1425,1048,1271,1281,1494,834,621],\"sizemode\":\"area\",\"sizeref\":8.64,\"symbol\":\"circle\"},\"mode\":\"markers\",\"name\":\"\",\"orientation\":\"h\",\"showlegend\":false,\"x\":[1,2,3,4,5,6,7,8,9,10,11,12,13,14,15,16,17,18,19,20,21,22,23,24,25,26,27,28,29,30,1,2,3,4,5,6,7,8,9,10,11,12,13,1,2,3,4,5,6,7,8,9,10,11,12,13,14,15,16,17,18,19,20,21,22,23,24,25,26,27,28,29,30,31,1,2,3,4,5,6,7,8,9,10,11,12,13,14,15,16,17,18,19,20,21,22,23,24,25,26,27,28,29,30,1,2,3,4,5,6,7,8,9,10,11,12,13,14,15,16,17,18,19,20,21,22,23,24,25,26,27,28,29,30,31],\"xaxis\":\"x\",\"y\":[\"April\",\"April\",\"April\",\"April\",\"April\",\"April\",\"April\",\"April\",\"April\",\"April\",\"April\",\"April\",\"April\",\"April\",\"April\",\"April\",\"April\",\"April\",\"April\",\"April\",\"April\",\"April\",\"April\",\"April\",\"April\",\"April\",\"April\",\"April\",\"April\",\"April\",\"August\",\"August\",\"August\",\"August\",\"August\",\"August\",\"August\",\"August\",\"August\",\"August\",\"August\",\"August\",\"August\",\"July\",\"July\",\"July\",\"July\",\"July\",\"July\",\"July\",\"July\",\"July\",\"July\",\"July\",\"July\",\"July\",\"July\",\"July\",\"July\",\"July\",\"July\",\"July\",\"July\",\"July\",\"July\",\"July\",\"July\",\"July\",\"July\",\"July\",\"July\",\"July\",\"July\",\"July\",\"June\",\"June\",\"June\",\"June\",\"June\",\"June\",\"June\",\"June\",\"June\",\"June\",\"June\",\"June\",\"June\",\"June\",\"June\",\"June\",\"June\",\"June\",\"June\",\"June\",\"June\",\"June\",\"June\",\"June\",\"June\",\"June\",\"June\",\"June\",\"June\",\"June\",\"May\",\"May\",\"May\",\"May\",\"May\",\"May\",\"May\",\"May\",\"May\",\"May\",\"May\",\"May\",\"May\",\"May\",\"May\",\"May\",\"May\",\"May\",\"May\",\"May\",\"May\",\"May\",\"May\",\"May\",\"May\",\"May\",\"May\",\"May\",\"May\",\"May\",\"May\"],\"yaxis\":\"y\",\"type\":\"scatter\"}],                        {\"template\":{\"data\":{\"histogram2dcontour\":[{\"type\":\"histogram2dcontour\",\"colorbar\":{\"outlinewidth\":0,\"ticks\":\"\"},\"colorscale\":[[0.0,\"#0d0887\"],[0.1111111111111111,\"#46039f\"],[0.2222222222222222,\"#7201a8\"],[0.3333333333333333,\"#9c179e\"],[0.4444444444444444,\"#bd3786\"],[0.5555555555555556,\"#d8576b\"],[0.6666666666666666,\"#ed7953\"],[0.7777777777777778,\"#fb9f3a\"],[0.8888888888888888,\"#fdca26\"],[1.0,\"#f0f921\"]]}],\"choropleth\":[{\"type\":\"choropleth\",\"colorbar\":{\"outlinewidth\":0,\"ticks\":\"\"}}],\"histogram2d\":[{\"type\":\"histogram2d\",\"colorbar\":{\"outlinewidth\":0,\"ticks\":\"\"},\"colorscale\":[[0.0,\"#0d0887\"],[0.1111111111111111,\"#46039f\"],[0.2222222222222222,\"#7201a8\"],[0.3333333333333333,\"#9c179e\"],[0.4444444444444444,\"#bd3786\"],[0.5555555555555556,\"#d8576b\"],[0.6666666666666666,\"#ed7953\"],[0.7777777777777778,\"#fb9f3a\"],[0.8888888888888888,\"#fdca26\"],[1.0,\"#f0f921\"]]}],\"heatmap\":[{\"type\":\"heatmap\",\"colorbar\":{\"outlinewidth\":0,\"ticks\":\"\"},\"colorscale\":[[0.0,\"#0d0887\"],[0.1111111111111111,\"#46039f\"],[0.2222222222222222,\"#7201a8\"],[0.3333333333333333,\"#9c179e\"],[0.4444444444444444,\"#bd3786\"],[0.5555555555555556,\"#d8576b\"],[0.6666666666666666,\"#ed7953\"],[0.7777777777777778,\"#fb9f3a\"],[0.8888888888888888,\"#fdca26\"],[1.0,\"#f0f921\"]]}],\"heatmapgl\":[{\"type\":\"heatmapgl\",\"colorbar\":{\"outlinewidth\":0,\"ticks\":\"\"},\"colorscale\":[[0.0,\"#0d0887\"],[0.1111111111111111,\"#46039f\"],[0.2222222222222222,\"#7201a8\"],[0.3333333333333333,\"#9c179e\"],[0.4444444444444444,\"#bd3786\"],[0.5555555555555556,\"#d8576b\"],[0.6666666666666666,\"#ed7953\"],[0.7777777777777778,\"#fb9f3a\"],[0.8888888888888888,\"#fdca26\"],[1.0,\"#f0f921\"]]}],\"contourcarpet\":[{\"type\":\"contourcarpet\",\"colorbar\":{\"outlinewidth\":0,\"ticks\":\"\"}}],\"contour\":[{\"type\":\"contour\",\"colorbar\":{\"outlinewidth\":0,\"ticks\":\"\"},\"colorscale\":[[0.0,\"#0d0887\"],[0.1111111111111111,\"#46039f\"],[0.2222222222222222,\"#7201a8\"],[0.3333333333333333,\"#9c179e\"],[0.4444444444444444,\"#bd3786\"],[0.5555555555555556,\"#d8576b\"],[0.6666666666666666,\"#ed7953\"],[0.7777777777777778,\"#fb9f3a\"],[0.8888888888888888,\"#fdca26\"],[1.0,\"#f0f921\"]]}],\"surface\":[{\"type\":\"surface\",\"colorbar\":{\"outlinewidth\":0,\"ticks\":\"\"},\"colorscale\":[[0.0,\"#0d0887\"],[0.1111111111111111,\"#46039f\"],[0.2222222222222222,\"#7201a8\"],[0.3333333333333333,\"#9c179e\"],[0.4444444444444444,\"#bd3786\"],[0.5555555555555556,\"#d8576b\"],[0.6666666666666666,\"#ed7953\"],[0.7777777777777778,\"#fb9f3a\"],[0.8888888888888888,\"#fdca26\"],[1.0,\"#f0f921\"]]}],\"mesh3d\":[{\"type\":\"mesh3d\",\"colorbar\":{\"outlinewidth\":0,\"ticks\":\"\"}}],\"scatter\":[{\"fillpattern\":{\"fillmode\":\"overlay\",\"size\":10,\"solidity\":0.2},\"type\":\"scatter\"}],\"parcoords\":[{\"type\":\"parcoords\",\"line\":{\"colorbar\":{\"outlinewidth\":0,\"ticks\":\"\"}}}],\"scatterpolargl\":[{\"type\":\"scatterpolargl\",\"marker\":{\"colorbar\":{\"outlinewidth\":0,\"ticks\":\"\"}}}],\"bar\":[{\"error_x\":{\"color\":\"#2a3f5f\"},\"error_y\":{\"color\":\"#2a3f5f\"},\"marker\":{\"line\":{\"color\":\"#E5ECF6\",\"width\":0.5},\"pattern\":{\"fillmode\":\"overlay\",\"size\":10,\"solidity\":0.2}},\"type\":\"bar\"}],\"scattergeo\":[{\"type\":\"scattergeo\",\"marker\":{\"colorbar\":{\"outlinewidth\":0,\"ticks\":\"\"}}}],\"scatterpolar\":[{\"type\":\"scatterpolar\",\"marker\":{\"colorbar\":{\"outlinewidth\":0,\"ticks\":\"\"}}}],\"histogram\":[{\"marker\":{\"pattern\":{\"fillmode\":\"overlay\",\"size\":10,\"solidity\":0.2}},\"type\":\"histogram\"}],\"scattergl\":[{\"type\":\"scattergl\",\"marker\":{\"colorbar\":{\"outlinewidth\":0,\"ticks\":\"\"}}}],\"scatter3d\":[{\"type\":\"scatter3d\",\"line\":{\"colorbar\":{\"outlinewidth\":0,\"ticks\":\"\"}},\"marker\":{\"colorbar\":{\"outlinewidth\":0,\"ticks\":\"\"}}}],\"scattermapbox\":[{\"type\":\"scattermapbox\",\"marker\":{\"colorbar\":{\"outlinewidth\":0,\"ticks\":\"\"}}}],\"scatterternary\":[{\"type\":\"scatterternary\",\"marker\":{\"colorbar\":{\"outlinewidth\":0,\"ticks\":\"\"}}}],\"scattercarpet\":[{\"type\":\"scattercarpet\",\"marker\":{\"colorbar\":{\"outlinewidth\":0,\"ticks\":\"\"}}}],\"carpet\":[{\"aaxis\":{\"endlinecolor\":\"#2a3f5f\",\"gridcolor\":\"white\",\"linecolor\":\"white\",\"minorgridcolor\":\"white\",\"startlinecolor\":\"#2a3f5f\"},\"baxis\":{\"endlinecolor\":\"#2a3f5f\",\"gridcolor\":\"white\",\"linecolor\":\"white\",\"minorgridcolor\":\"white\",\"startlinecolor\":\"#2a3f5f\"},\"type\":\"carpet\"}],\"table\":[{\"cells\":{\"fill\":{\"color\":\"#EBF0F8\"},\"line\":{\"color\":\"white\"}},\"header\":{\"fill\":{\"color\":\"#C8D4E3\"},\"line\":{\"color\":\"white\"}},\"type\":\"table\"}],\"barpolar\":[{\"marker\":{\"line\":{\"color\":\"#E5ECF6\",\"width\":0.5},\"pattern\":{\"fillmode\":\"overlay\",\"size\":10,\"solidity\":0.2}},\"type\":\"barpolar\"}],\"pie\":[{\"automargin\":true,\"type\":\"pie\"}]},\"layout\":{\"autotypenumbers\":\"strict\",\"colorway\":[\"#636efa\",\"#EF553B\",\"#00cc96\",\"#ab63fa\",\"#FFA15A\",\"#19d3f3\",\"#FF6692\",\"#B6E880\",\"#FF97FF\",\"#FECB52\"],\"font\":{\"color\":\"#2a3f5f\"},\"hovermode\":\"closest\",\"hoverlabel\":{\"align\":\"left\"},\"paper_bgcolor\":\"white\",\"plot_bgcolor\":\"#E5ECF6\",\"polar\":{\"bgcolor\":\"#E5ECF6\",\"angularaxis\":{\"gridcolor\":\"white\",\"linecolor\":\"white\",\"ticks\":\"\"},\"radialaxis\":{\"gridcolor\":\"white\",\"linecolor\":\"white\",\"ticks\":\"\"}},\"ternary\":{\"bgcolor\":\"#E5ECF6\",\"aaxis\":{\"gridcolor\":\"white\",\"linecolor\":\"white\",\"ticks\":\"\"},\"baxis\":{\"gridcolor\":\"white\",\"linecolor\":\"white\",\"ticks\":\"\"},\"caxis\":{\"gridcolor\":\"white\",\"linecolor\":\"white\",\"ticks\":\"\"}},\"coloraxis\":{\"colorbar\":{\"outlinewidth\":0,\"ticks\":\"\"}},\"colorscale\":{\"sequential\":[[0.0,\"#0d0887\"],[0.1111111111111111,\"#46039f\"],[0.2222222222222222,\"#7201a8\"],[0.3333333333333333,\"#9c179e\"],[0.4444444444444444,\"#bd3786\"],[0.5555555555555556,\"#d8576b\"],[0.6666666666666666,\"#ed7953\"],[0.7777777777777778,\"#fb9f3a\"],[0.8888888888888888,\"#fdca26\"],[1.0,\"#f0f921\"]],\"sequentialminus\":[[0.0,\"#0d0887\"],[0.1111111111111111,\"#46039f\"],[0.2222222222222222,\"#7201a8\"],[0.3333333333333333,\"#9c179e\"],[0.4444444444444444,\"#bd3786\"],[0.5555555555555556,\"#d8576b\"],[0.6666666666666666,\"#ed7953\"],[0.7777777777777778,\"#fb9f3a\"],[0.8888888888888888,\"#fdca26\"],[1.0,\"#f0f921\"]],\"diverging\":[[0,\"#8e0152\"],[0.1,\"#c51b7d\"],[0.2,\"#de77ae\"],[0.3,\"#f1b6da\"],[0.4,\"#fde0ef\"],[0.5,\"#f7f7f7\"],[0.6,\"#e6f5d0\"],[0.7,\"#b8e186\"],[0.8,\"#7fbc41\"],[0.9,\"#4d9221\"],[1,\"#276419\"]]},\"xaxis\":{\"gridcolor\":\"white\",\"linecolor\":\"white\",\"ticks\":\"\",\"title\":{\"standoff\":15},\"zerolinecolor\":\"white\",\"automargin\":true,\"zerolinewidth\":2},\"yaxis\":{\"gridcolor\":\"white\",\"linecolor\":\"white\",\"ticks\":\"\",\"title\":{\"standoff\":15},\"zerolinecolor\":\"white\",\"automargin\":true,\"zerolinewidth\":2},\"scene\":{\"xaxis\":{\"backgroundcolor\":\"#E5ECF6\",\"gridcolor\":\"white\",\"linecolor\":\"white\",\"showbackground\":true,\"ticks\":\"\",\"zerolinecolor\":\"white\",\"gridwidth\":2},\"yaxis\":{\"backgroundcolor\":\"#E5ECF6\",\"gridcolor\":\"white\",\"linecolor\":\"white\",\"showbackground\":true,\"ticks\":\"\",\"zerolinecolor\":\"white\",\"gridwidth\":2},\"zaxis\":{\"backgroundcolor\":\"#E5ECF6\",\"gridcolor\":\"white\",\"linecolor\":\"white\",\"showbackground\":true,\"ticks\":\"\",\"zerolinecolor\":\"white\",\"gridwidth\":2}},\"shapedefaults\":{\"line\":{\"color\":\"#2a3f5f\"}},\"annotationdefaults\":{\"arrowcolor\":\"#2a3f5f\",\"arrowhead\":0,\"arrowwidth\":1},\"geo\":{\"bgcolor\":\"white\",\"landcolor\":\"#E5ECF6\",\"subunitcolor\":\"white\",\"showland\":true,\"showlakes\":true,\"lakecolor\":\"white\"},\"title\":{\"x\":0.05},\"mapbox\":{\"style\":\"light\"}}},\"xaxis\":{\"anchor\":\"y\",\"domain\":[0.0,1.0],\"title\":{\"text\":\"day\"}},\"yaxis\":{\"anchor\":\"x\",\"domain\":[0.0,1.0],\"title\":{\"text\":\"month\"}},\"legend\":{\"tracegroupgap\":0,\"itemsizing\":\"constant\"},\"margin\":{\"t\":60}},                        {\"responsive\": true}                    ).then(function(){\n",
       "                            \n",
       "var gd = document.getElementById('484dd08c-c36a-4085-96b3-686e79343e66');\n",
       "var x = new MutationObserver(function (mutations, observer) {{\n",
       "        var display = window.getComputedStyle(gd).display;\n",
       "        if (!display || display === 'none') {{\n",
       "            console.log([gd, 'removed!']);\n",
       "            Plotly.purge(gd);\n",
       "            observer.disconnect();\n",
       "        }}\n",
       "}});\n",
       "\n",
       "// Listen for the removal of the full notebook cells\n",
       "var notebookContainer = gd.closest('#notebook-container');\n",
       "if (notebookContainer) {{\n",
       "    x.observe(notebookContainer, {childList: true});\n",
       "}}\n",
       "\n",
       "// Listen for the clearing of the current output cell\n",
       "var outputEl = gd.closest('.output');\n",
       "if (outputEl) {{\n",
       "    x.observe(outputEl, {childList: true});\n",
       "}}\n",
       "\n",
       "                        })                };                });            </script>        </div>"
      ]
     },
     "metadata": {},
     "output_type": "display_data"
    }
   ],
   "source": [
    "df9 = df[df['page 1 (main category)']== \"sale\"]\n",
    "df9 = df.groupby(by=[\"month\",\"day\"])['page 1 (main category)'].count().reset_index(name=\"counts\")\n",
    "\n",
    "\n",
    "fig = px.scatter(df9, y='month', x=\"day\",\n",
    "                 size=\"counts\")\n",
    "fig.show()"
   ]
  },
  {
   "cell_type": "markdown",
   "id": "6476f958",
   "metadata": {
    "papermill": {
     "duration": 0.117037,
     "end_time": "2022-10-17T18:55:17.259612",
     "exception": false,
     "start_time": "2022-10-17T18:55:17.142575",
     "status": "completed"
    },
    "tags": []
   },
   "source": [
    "### It seems there is no relationship between sales , buying days and months \n",
    "- our data is not complete in August"
   ]
  },
  {
   "cell_type": "markdown",
   "id": "46b1b28e",
   "metadata": {
    "papermill": {
     "duration": 0.114138,
     "end_time": "2022-10-17T18:55:17.489975",
     "exception": false,
     "start_time": "2022-10-17T18:55:17.375837",
     "status": "completed"
    },
    "tags": []
   },
   "source": [
    "<a id=\"4\"></a> <br>\n",
    "# Business solutions and recommendations\n",
    "### Ideas to improve our website :\n",
    "\n",
    "1. Paying more attention to our prefered countries such as poland and czech republic through thier cultures and ceremonies by offering cultural kinds of products and making high sales in their ceremonies \n",
    "\n",
    "2. Attracting medium-buying countries such as Germany and Ireland by sales,coupons,dropshipping,.....\n",
    "\n",
    "3. Putting best selling products in first and second pages and adding adds to these pages\n",
    "\n",
    "4. Taking advantage of locations like bottom left with black color and top left with blue color\n",
    "\n",
    "5. Applying Marketing tools for countries that selling products reduces over a month\n",
    "\n",
    "6. Prefering model photography in face of the products to inside the profile as much as possible\n",
    "\n",
    "7. FaaS (Fulfillment as a Service) business, we provide eCommerce businesses from all over the world with Cross-Border Order Fulfillment Services.We can store your products in our warehouses pick & pack them once orders flow in, and ship them with the best, most reliable, fastest or cheapest couriers available per region or country.\n",
    "\n",
    "8. Full Product and Category Management: Create detailed product pages and organize all your products as you see fit, with robust categorization.\n",
    "\n",
    "9. Full Suite of Marketing and SEO tools: Use all the best SEO and marketing strategies available today, so you can reach new customers and keep them coming back."
   ]
  },
  {
   "cell_type": "markdown",
   "id": "f951c834",
   "metadata": {
    "papermill": {
     "duration": 0.114637,
     "end_time": "2022-10-17T18:55:17.718341",
     "exception": false,
     "start_time": "2022-10-17T18:55:17.603704",
     "status": "completed"
    },
    "tags": []
   },
   "source": [
    "<a id=\"5\"></a> <br>\n",
    "\n",
    "# Preprocessing"
   ]
  },
  {
   "cell_type": "code",
   "execution_count": 29,
   "id": "17fa3413",
   "metadata": {
    "execution": {
     "iopub.execute_input": "2022-10-17T18:55:17.948429Z",
     "iopub.status.busy": "2022-10-17T18:55:17.948064Z",
     "iopub.status.idle": "2022-10-17T18:55:18.128906Z",
     "shell.execute_reply": "2022-10-17T18:55:18.127744Z"
    },
    "papermill": {
     "duration": 0.298964,
     "end_time": "2022-10-17T18:55:18.131160",
     "exception": false,
     "start_time": "2022-10-17T18:55:17.832196",
     "status": "completed"
    },
    "tags": []
   },
   "outputs": [
    {
     "data": {
      "text/html": [
       "<div>\n",
       "<style scoped>\n",
       "    .dataframe tbody tr th:only-of-type {\n",
       "        vertical-align: middle;\n",
       "    }\n",
       "\n",
       "    .dataframe tbody tr th {\n",
       "        vertical-align: top;\n",
       "    }\n",
       "\n",
       "    .dataframe thead th {\n",
       "        text-align: right;\n",
       "    }\n",
       "</style>\n",
       "<table border=\"1\" class=\"dataframe\">\n",
       "  <thead>\n",
       "    <tr style=\"text-align: right;\">\n",
       "      <th></th>\n",
       "      <th>month</th>\n",
       "      <th>day</th>\n",
       "      <th>order</th>\n",
       "      <th>country</th>\n",
       "      <th>page 1 (main category)</th>\n",
       "      <th>page 2 (clothing model)</th>\n",
       "      <th>colour</th>\n",
       "      <th>location</th>\n",
       "      <th>model photography</th>\n",
       "      <th>price</th>\n",
       "      <th>price 2</th>\n",
       "      <th>page</th>\n",
       "    </tr>\n",
       "  </thead>\n",
       "  <tbody>\n",
       "    <tr>\n",
       "      <th>0</th>\n",
       "      <td>4</td>\n",
       "      <td>1</td>\n",
       "      <td>1</td>\n",
       "      <td>29</td>\n",
       "      <td>1</td>\n",
       "      <td>A13</td>\n",
       "      <td>1</td>\n",
       "      <td>5</td>\n",
       "      <td>1</td>\n",
       "      <td>28</td>\n",
       "      <td>2</td>\n",
       "      <td>1</td>\n",
       "    </tr>\n",
       "    <tr>\n",
       "      <th>1</th>\n",
       "      <td>4</td>\n",
       "      <td>1</td>\n",
       "      <td>2</td>\n",
       "      <td>29</td>\n",
       "      <td>1</td>\n",
       "      <td>A16</td>\n",
       "      <td>1</td>\n",
       "      <td>6</td>\n",
       "      <td>1</td>\n",
       "      <td>33</td>\n",
       "      <td>2</td>\n",
       "      <td>1</td>\n",
       "    </tr>\n",
       "    <tr>\n",
       "      <th>2</th>\n",
       "      <td>4</td>\n",
       "      <td>1</td>\n",
       "      <td>3</td>\n",
       "      <td>29</td>\n",
       "      <td>2</td>\n",
       "      <td>B4</td>\n",
       "      <td>10</td>\n",
       "      <td>2</td>\n",
       "      <td>1</td>\n",
       "      <td>52</td>\n",
       "      <td>1</td>\n",
       "      <td>1</td>\n",
       "    </tr>\n",
       "    <tr>\n",
       "      <th>3</th>\n",
       "      <td>4</td>\n",
       "      <td>1</td>\n",
       "      <td>4</td>\n",
       "      <td>29</td>\n",
       "      <td>2</td>\n",
       "      <td>B17</td>\n",
       "      <td>6</td>\n",
       "      <td>6</td>\n",
       "      <td>2</td>\n",
       "      <td>38</td>\n",
       "      <td>2</td>\n",
       "      <td>1</td>\n",
       "    </tr>\n",
       "    <tr>\n",
       "      <th>4</th>\n",
       "      <td>4</td>\n",
       "      <td>1</td>\n",
       "      <td>5</td>\n",
       "      <td>29</td>\n",
       "      <td>2</td>\n",
       "      <td>B8</td>\n",
       "      <td>4</td>\n",
       "      <td>3</td>\n",
       "      <td>2</td>\n",
       "      <td>52</td>\n",
       "      <td>1</td>\n",
       "      <td>1</td>\n",
       "    </tr>\n",
       "    <tr>\n",
       "      <th>...</th>\n",
       "      <td>...</td>\n",
       "      <td>...</td>\n",
       "      <td>...</td>\n",
       "      <td>...</td>\n",
       "      <td>...</td>\n",
       "      <td>...</td>\n",
       "      <td>...</td>\n",
       "      <td>...</td>\n",
       "      <td>...</td>\n",
       "      <td>...</td>\n",
       "      <td>...</td>\n",
       "      <td>...</td>\n",
       "    </tr>\n",
       "    <tr>\n",
       "      <th>165469</th>\n",
       "      <td>8</td>\n",
       "      <td>13</td>\n",
       "      <td>1</td>\n",
       "      <td>29</td>\n",
       "      <td>2</td>\n",
       "      <td>B10</td>\n",
       "      <td>2</td>\n",
       "      <td>4</td>\n",
       "      <td>1</td>\n",
       "      <td>67</td>\n",
       "      <td>1</td>\n",
       "      <td>1</td>\n",
       "    </tr>\n",
       "    <tr>\n",
       "      <th>165470</th>\n",
       "      <td>8</td>\n",
       "      <td>13</td>\n",
       "      <td>1</td>\n",
       "      <td>9</td>\n",
       "      <td>1</td>\n",
       "      <td>A11</td>\n",
       "      <td>3</td>\n",
       "      <td>4</td>\n",
       "      <td>1</td>\n",
       "      <td>62</td>\n",
       "      <td>1</td>\n",
       "      <td>1</td>\n",
       "    </tr>\n",
       "    <tr>\n",
       "      <th>165471</th>\n",
       "      <td>8</td>\n",
       "      <td>13</td>\n",
       "      <td>1</td>\n",
       "      <td>34</td>\n",
       "      <td>1</td>\n",
       "      <td>A2</td>\n",
       "      <td>3</td>\n",
       "      <td>1</td>\n",
       "      <td>1</td>\n",
       "      <td>43</td>\n",
       "      <td>2</td>\n",
       "      <td>1</td>\n",
       "    </tr>\n",
       "    <tr>\n",
       "      <th>165472</th>\n",
       "      <td>8</td>\n",
       "      <td>13</td>\n",
       "      <td>2</td>\n",
       "      <td>34</td>\n",
       "      <td>3</td>\n",
       "      <td>C2</td>\n",
       "      <td>12</td>\n",
       "      <td>1</td>\n",
       "      <td>1</td>\n",
       "      <td>43</td>\n",
       "      <td>1</td>\n",
       "      <td>1</td>\n",
       "    </tr>\n",
       "    <tr>\n",
       "      <th>165473</th>\n",
       "      <td>8</td>\n",
       "      <td>13</td>\n",
       "      <td>3</td>\n",
       "      <td>34</td>\n",
       "      <td>2</td>\n",
       "      <td>B2</td>\n",
       "      <td>3</td>\n",
       "      <td>1</td>\n",
       "      <td>2</td>\n",
       "      <td>57</td>\n",
       "      <td>1</td>\n",
       "      <td>1</td>\n",
       "    </tr>\n",
       "  </tbody>\n",
       "</table>\n",
       "<p>165474 rows × 12 columns</p>\n",
       "</div>"
      ],
      "text/plain": [
       "        month  day  order  country  page 1 (main category)  \\\n",
       "0           4    1      1       29                       1   \n",
       "1           4    1      2       29                       1   \n",
       "2           4    1      3       29                       2   \n",
       "3           4    1      4       29                       2   \n",
       "4           4    1      5       29                       2   \n",
       "...       ...  ...    ...      ...                     ...   \n",
       "165469      8   13      1       29                       2   \n",
       "165470      8   13      1        9                       1   \n",
       "165471      8   13      1       34                       1   \n",
       "165472      8   13      2       34                       3   \n",
       "165473      8   13      3       34                       2   \n",
       "\n",
       "       page 2 (clothing model)  colour  location  model photography  price  \\\n",
       "0                          A13       1         5                  1     28   \n",
       "1                          A16       1         6                  1     33   \n",
       "2                           B4      10         2                  1     52   \n",
       "3                          B17       6         6                  2     38   \n",
       "4                           B8       4         3                  2     52   \n",
       "...                        ...     ...       ...                ...    ...   \n",
       "165469                     B10       2         4                  1     67   \n",
       "165470                     A11       3         4                  1     62   \n",
       "165471                      A2       3         1                  1     43   \n",
       "165472                      C2      12         1                  1     43   \n",
       "165473                      B2       3         1                  2     57   \n",
       "\n",
       "        price 2  page  \n",
       "0             2     1  \n",
       "1             2     1  \n",
       "2             1     1  \n",
       "3             2     1  \n",
       "4             1     1  \n",
       "...         ...   ...  \n",
       "165469        1     1  \n",
       "165470        1     1  \n",
       "165471        2     1  \n",
       "165472        1     1  \n",
       "165473        1     1  \n",
       "\n",
       "[165474 rows x 12 columns]"
      ]
     },
     "execution_count": 29,
     "metadata": {},
     "output_type": "execute_result"
    }
   ],
   "source": [
    "df_copy = pd.read_csv(\"../input/eshop-clothing-dataset/e-shop clothing 2008.csv\")\n",
    "df_copy=df_copy.drop(['session ID','year'],axis=1)\n",
    "df_copy"
   ]
  },
  {
   "cell_type": "code",
   "execution_count": 30,
   "id": "0109a4b3",
   "metadata": {
    "execution": {
     "iopub.execute_input": "2022-10-17T18:55:18.364693Z",
     "iopub.status.busy": "2022-10-17T18:55:18.363860Z",
     "iopub.status.idle": "2022-10-17T18:55:19.602415Z",
     "shell.execute_reply": "2022-10-17T18:55:19.601524Z"
    },
    "papermill": {
     "duration": 1.35777,
     "end_time": "2022-10-17T18:55:19.604622",
     "exception": false,
     "start_time": "2022-10-17T18:55:18.246852",
     "status": "completed"
    },
    "tags": []
   },
   "outputs": [
    {
     "data": {
      "image/png": "[encoded data removed]",
      "text/plain": [
       "<Figure size 432x288 with 2 Axes>"
      ]
     },
     "metadata": {
      "needs_background": "light"
     },
     "output_type": "display_data"
    }
   ],
   "source": [
    "x = \"price\"\n",
    "fig, ax = plt.subplots(nrows=1, ncols=2,  sharex=False, sharey=False)\n",
    "fig.suptitle(x, fontsize=20)\n",
    "### distribution\n",
    "ax[0].title.set_text('distribution')\n",
    "\n",
    "\n",
    "sns.distplot(df_copy[x], hist=True, kde=True, kde_kws={\"shade\": True}, ax=ax[0])\n",
    "des = df_copy[x].describe()\n",
    "ax[0].axvline(des[\"25%\"], ls='--')\n",
    "ax[0].axvline(des[\"mean\"], ls='--')\n",
    "ax[0].axvline(des[\"75%\"], ls='--')\n",
    "ax[0].grid(True)\n",
    "des = round(des, 2).apply(lambda x: str(x))\n",
    "box = '\\n'.join((\"min: \"+des[\"min\"], \"25%: \"+des[\"25%\"], \"mean: \"+des[\"mean\"], \"75%: \"+des[\"75%\"], \"max: \"+des[\"max\"]))\n",
    "ax[0].text(0.95, 0.95, box, transform=ax[0].transAxes, fontsize=10, va='top', ha=\"right\", bbox=dict(boxstyle='round', facecolor='white', alpha=1))\n",
    "### boxplot \n",
    "ax[1].title.set_text('outliers (log scale)')\n",
    "tmp_dtf = pd.DataFrame(df_copy[x])\n",
    "tmp_dtf[x] = np.log(df_copy[x])\n",
    "tmp_dtf.boxplot(column=x, ax=ax[1])\n",
    "plt.show()"
   ]
  },
  {
   "cell_type": "code",
   "execution_count": 31,
   "id": "09508926",
   "metadata": {
    "execution": {
     "iopub.execute_input": "2022-10-17T18:55:19.841285Z",
     "iopub.status.busy": "2022-10-17T18:55:19.840643Z",
     "iopub.status.idle": "2022-10-17T18:55:19.854313Z",
     "shell.execute_reply": "2022-10-17T18:55:19.853288Z"
    },
    "papermill": {
     "duration": 0.135627,
     "end_time": "2022-10-17T18:55:19.856677",
     "exception": false,
     "start_time": "2022-10-17T18:55:19.721050",
     "status": "completed"
    },
    "scrolled": true,
    "tags": []
   },
   "outputs": [],
   "source": [
    "df_copy2=df_copy.drop(['price','price 2'],axis=1)"
   ]
  },
  {
   "cell_type": "code",
   "execution_count": 32,
   "id": "d778705d",
   "metadata": {
    "execution": {
     "iopub.execute_input": "2022-10-17T18:55:20.091926Z",
     "iopub.status.busy": "2022-10-17T18:55:20.091192Z",
     "iopub.status.idle": "2022-10-17T18:55:20.859611Z",
     "shell.execute_reply": "2022-10-17T18:55:20.858514Z"
    },
    "papermill": {
     "duration": 0.890008,
     "end_time": "2022-10-17T18:55:20.862216",
     "exception": false,
     "start_time": "2022-10-17T18:55:19.972208",
     "status": "completed"
    },
    "tags": []
   },
   "outputs": [
    {
     "data": {
      "text/plain": [
       "Text(0.5, 1.0, 'pearson correlation')"
      ]
     },
     "execution_count": 32,
     "metadata": {},
     "output_type": "execute_result"
    },
    {
     "data": {
      "image/png": "[encoded data removed]",
      "text/plain": [
       "<Figure size 720x432 with 2 Axes>"
      ]
     },
     "metadata": {
      "needs_background": "light"
     },
     "output_type": "display_data"
    }
   ],
   "source": [
    "plt.figure(figsize=(10,6))\n",
    "corr_matrix = df_copy2.corr(method=\"pearson\")\n",
    "sns.heatmap(corr_matrix, vmin=-1., vmax=1., annot=True, fmt='.2f', cmap=\"YlGnBu\", cbar=True, linewidths=0.5)\n",
    "plt.title(\"pearson correlation\")"
   ]
  },
  {
   "cell_type": "code",
   "execution_count": 33,
   "id": "7d8a3d73",
   "metadata": {
    "execution": {
     "iopub.execute_input": "2022-10-17T18:55:21.097091Z",
     "iopub.status.busy": "2022-10-17T18:55:21.096431Z",
     "iopub.status.idle": "2022-10-17T18:55:22.203384Z",
     "shell.execute_reply": "2022-10-17T18:55:22.202177Z"
    },
    "papermill": {
     "duration": 1.227621,
     "end_time": "2022-10-17T18:55:22.206035",
     "exception": false,
     "start_time": "2022-10-17T18:55:20.978414",
     "status": "completed"
    },
    "tags": []
   },
   "outputs": [],
   "source": [
    "import numpy as np #Mengolah matrix\n",
    "import pandas as pd #Read structured data\n",
    "import matplotlib.pyplot as plt #Data plot visualization\n",
    "import seaborn as sns\n",
    "\n",
    "#Machine Learning\n",
    "import statsmodels.api as sm\n",
    "from statsmodels.stats.outliers_influence import variance_inflation_factor\n",
    "from sklearn.preprocessing import StandardScaler  #Feature Scaling\n",
    "from sklearn.model_selection import train_test_split #Data Partition\n",
    "from sklearn.linear_model import LogisticRegression\n",
    "from sklearn.metrics import accuracy_score\n",
    "from sklearn.metrics import confusion_matrix,accuracy_score,roc_curve,classification_report\n",
    "from sklearn.linear_model import LogisticRegression \n",
    "from sklearn.svm import SVC\n",
    "from sklearn.tree import DecisionTreeClassifier\n",
    "from sklearn.neighbors import KNeighborsClassifier\n",
    "from sklearn.naive_bayes import GaussianNB\n",
    "from sklearn.ensemble import  RandomForestClassifier\n",
    "import warnings\n",
    "warnings.filterwarnings(\"ignore\")\n",
    "from xgboost import XGBClassifier\n",
    "from xgboost import plot_importance\n",
    "\n",
    "#ensembling\n",
    "from sklearn.ensemble import VotingClassifier"
   ]
  },
  {
   "cell_type": "markdown",
   "id": "3a779d72",
   "metadata": {
    "papermill": {
     "duration": 0.118116,
     "end_time": "2022-10-17T18:55:22.442244",
     "exception": false,
     "start_time": "2022-10-17T18:55:22.324128",
     "status": "completed"
    },
    "tags": []
   },
   "source": [
    "<a id=\"6\"></a> <br>\n",
    "\n",
    "# Encoding"
   ]
  },
  {
   "cell_type": "code",
   "execution_count": 34,
   "id": "a08109d1",
   "metadata": {
    "execution": {
     "iopub.execute_input": "2022-10-17T18:55:22.679327Z",
     "iopub.status.busy": "2022-10-17T18:55:22.678920Z",
     "iopub.status.idle": "2022-10-17T18:55:22.872692Z",
     "shell.execute_reply": "2022-10-17T18:55:22.871713Z"
    },
    "papermill": {
     "duration": 0.315419,
     "end_time": "2022-10-17T18:55:22.875350",
     "exception": false,
     "start_time": "2022-10-17T18:55:22.559931",
     "status": "completed"
    },
    "tags": []
   },
   "outputs": [],
   "source": [
    "df_copy = pd.read_csv(\"../input/eshop-clothing-dataset/e-shop clothing 2008.csv\")\n",
    "df_copy=df_copy.drop(['session ID','year'],axis=1)\n",
    "\n",
    "from sklearn import preprocessing\n",
    "le=preprocessing.LabelEncoder()\n",
    "clm=['page 2 (clothing model)']\n",
    "for x in clm:\n",
    "    df_copy[x]=le.fit_transform(df_copy[x])"
   ]
  },
  {
   "cell_type": "code",
   "execution_count": 35,
   "id": "32e7e5b9",
   "metadata": {
    "execution": {
     "iopub.execute_input": "2022-10-17T18:55:23.110138Z",
     "iopub.status.busy": "2022-10-17T18:55:23.109722Z",
     "iopub.status.idle": "2022-10-17T18:55:23.167086Z",
     "shell.execute_reply": "2022-10-17T18:55:23.166036Z"
    },
    "papermill": {
     "duration": 0.17718,
     "end_time": "2022-10-17T18:55:23.169725",
     "exception": false,
     "start_time": "2022-10-17T18:55:22.992545",
     "status": "completed"
    },
    "tags": []
   },
   "outputs": [],
   "source": [
    "y = df_copy[\"price\"]\n",
    "X = df_copy.drop('price',axis=1)\n",
    "X_train, X_test, y_train, y_test = train_test_split(X, y, train_size=0.7, random_state = 42)"
   ]
  },
  {
   "cell_type": "markdown",
   "id": "ca9d29b7",
   "metadata": {
    "papermill": {
     "duration": 0.116608,
     "end_time": "2022-10-17T18:55:23.402577",
     "exception": false,
     "start_time": "2022-10-17T18:55:23.285969",
     "status": "completed"
    },
    "tags": []
   },
   "source": [
    "<a id=\"7\"></a> <br>\n",
    "\n",
    "# Feature Engineering"
   ]
  },
  {
   "cell_type": "code",
   "execution_count": 36,
   "id": "2321f10d",
   "metadata": {
    "execution": {
     "iopub.execute_input": "2022-10-17T18:55:23.689664Z",
     "iopub.status.busy": "2022-10-17T18:55:23.688971Z",
     "iopub.status.idle": "2022-10-17T18:55:31.192002Z",
     "shell.execute_reply": "2022-10-17T18:55:31.190921Z"
    },
    "papermill": {
     "duration": 7.625862,
     "end_time": "2022-10-17T18:55:31.194350",
     "exception": false,
     "start_time": "2022-10-17T18:55:23.568488",
     "status": "completed"
    },
    "tags": []
   },
   "outputs": [
    {
     "data": {
      "text/plain": [
       "page 2 (clothing model)    2.377988\n",
       "colour                     0.560738\n",
       "page 1 (main category)     0.498460\n",
       "price 2                    0.444807\n",
       "location                   0.252918\n",
       "page                       0.168870\n",
       "model photography          0.066370\n",
       "country                    0.011110\n",
       "order                      0.010094\n",
       "month                      0.004430\n",
       "day                        0.000000\n",
       "dtype: float64"
      ]
     },
     "execution_count": 36,
     "metadata": {},
     "output_type": "execute_result"
    }
   ],
   "source": [
    "from sklearn.feature_selection import mutual_info_classif\n",
    "mutual_info = mutual_info_classif(X_train, y_train)\n",
    "mutual_info = pd.Series(mutual_info)\n",
    "mutual_info.index = X_train.columns\n",
    "mutual_info.sort_values(ascending=False)"
   ]
  },
  {
   "cell_type": "code",
   "execution_count": 37,
   "id": "9f59f4e0",
   "metadata": {
    "execution": {
     "iopub.execute_input": "2022-10-17T18:55:31.430119Z",
     "iopub.status.busy": "2022-10-17T18:55:31.429694Z",
     "iopub.status.idle": "2022-10-17T18:55:31.651352Z",
     "shell.execute_reply": "2022-10-17T18:55:31.650124Z"
    },
    "papermill": {
     "duration": 0.342536,
     "end_time": "2022-10-17T18:55:31.653873",
     "exception": false,
     "start_time": "2022-10-17T18:55:31.311337",
     "status": "completed"
    },
    "tags": []
   },
   "outputs": [
    {
     "data": {
      "image/png": "[encoded data removed]",
      "text/plain": [
       "<Figure size 1440x576 with 1 Axes>"
      ]
     },
     "metadata": {
      "needs_background": "light"
     },
     "output_type": "display_data"
    }
   ],
   "source": [
    "mutual_info.sort_values(ascending=False).plot.bar(figsize=(20, 8));"
   ]
  },
  {
   "cell_type": "code",
   "execution_count": 38,
   "id": "9853caf2",
   "metadata": {
    "execution": {
     "iopub.execute_input": "2022-10-17T18:55:31.889077Z",
     "iopub.status.busy": "2022-10-17T18:55:31.888649Z",
     "iopub.status.idle": "2022-10-17T18:55:39.374110Z",
     "shell.execute_reply": "2022-10-17T18:55:39.373040Z"
    },
    "papermill": {
     "duration": 7.606543,
     "end_time": "2022-10-17T18:55:39.376538",
     "exception": false,
     "start_time": "2022-10-17T18:55:31.769995",
     "status": "completed"
    },
    "tags": []
   },
   "outputs": [
    {
     "data": {
      "text/plain": [
       "Index(['page 1 (main category)', 'page 2 (clothing model)', 'colour',\n",
       "       'location', 'price 2', 'page'],\n",
       "      dtype='object')"
      ]
     },
     "execution_count": 38,
     "metadata": {},
     "output_type": "execute_result"
    }
   ],
   "source": [
    "# I will choose 6 features to select\n",
    "from sklearn.feature_selection import SelectKBest\n",
    "sel_five_cols = SelectKBest(mutual_info_classif, k=6)\n",
    "sel_five_cols.fit(X_train, y_train)\n",
    "X_train.columns[sel_five_cols.get_support()]"
   ]
  },
  {
   "cell_type": "code",
   "execution_count": 39,
   "id": "b0185471",
   "metadata": {
    "execution": {
     "iopub.execute_input": "2022-10-17T18:55:39.614346Z",
     "iopub.status.busy": "2022-10-17T18:55:39.613930Z",
     "iopub.status.idle": "2022-10-17T18:55:39.624266Z",
     "shell.execute_reply": "2022-10-17T18:55:39.623419Z"
    },
    "papermill": {
     "duration": 0.131742,
     "end_time": "2022-10-17T18:55:39.626356",
     "exception": false,
     "start_time": "2022-10-17T18:55:39.494614",
     "status": "completed"
    },
    "tags": []
   },
   "outputs": [],
   "source": [
    "col=['page 1 (main category)', 'page 2 (clothing model)', 'colour','location', 'price 2', 'page']\n",
    "X_train=X_train[col]\n",
    "X_test=X_test[col]"
   ]
  },
  {
   "cell_type": "code",
   "execution_count": null,
   "id": "dfe39973",
   "metadata": {
    "papermill": {
     "duration": 0.117941,
     "end_time": "2022-10-17T18:55:39.861588",
     "exception": false,
     "start_time": "2022-10-17T18:55:39.743647",
     "status": "completed"
    },
    "tags": []
   },
   "outputs": [],
   "source": []
  },
  {
   "cell_type": "markdown",
   "id": "03d5a1ac",
   "metadata": {
    "papermill": {
     "duration": 0.116572,
     "end_time": "2022-10-17T18:55:40.096649",
     "exception": false,
     "start_time": "2022-10-17T18:55:39.980077",
     "status": "completed"
    },
    "tags": []
   },
   "source": [
    "# Data Scaling"
   ]
  },
  {
   "cell_type": "code",
   "execution_count": 40,
   "id": "9b84465e",
   "metadata": {
    "execution": {
     "iopub.execute_input": "2022-10-17T18:55:40.335841Z",
     "iopub.status.busy": "2022-10-17T18:55:40.335414Z",
     "iopub.status.idle": "2022-10-17T18:55:40.353480Z",
     "shell.execute_reply": "2022-10-17T18:55:40.352317Z"
    },
    "papermill": {
     "duration": 0.140217,
     "end_time": "2022-10-17T18:55:40.356100",
     "exception": false,
     "start_time": "2022-10-17T18:55:40.215883",
     "status": "completed"
    },
    "tags": []
   },
   "outputs": [],
   "source": [
    "scaler = StandardScaler()\n",
    "X_train = scaler.fit_transform(X_train)\n",
    "X_test = scaler.transform(X_test)"
   ]
  },
  {
   "cell_type": "markdown",
   "id": "6ef18cc7",
   "metadata": {
    "papermill": {
     "duration": 0.116108,
     "end_time": "2022-10-17T18:55:40.590000",
     "exception": false,
     "start_time": "2022-10-17T18:55:40.473892",
     "status": "completed"
    },
    "tags": []
   },
   "source": [
    "<a id=\"8\"></a> <br>\n",
    "\n",
    "# Regression models\n",
    "1. Linear regression\n",
    "2. Ridge regression\n",
    "3. Lasso regression\n",
    "4. Random Forest Regressor\n",
    "5. Gradient Boosting Regressor"
   ]
  },
  {
   "cell_type": "markdown",
   "id": "c14c91ca",
   "metadata": {
    "papermill": {
     "duration": 0.118648,
     "end_time": "2022-10-17T18:55:40.834443",
     "exception": false,
     "start_time": "2022-10-17T18:55:40.715795",
     "status": "completed"
    },
    "tags": []
   },
   "source": [
    "# Linear regression"
   ]
  },
  {
   "cell_type": "code",
   "execution_count": 41,
   "id": "6244cdd4",
   "metadata": {
    "execution": {
     "iopub.execute_input": "2022-10-17T18:55:41.070587Z",
     "iopub.status.busy": "2022-10-17T18:55:41.070187Z",
     "iopub.status.idle": "2022-10-17T18:55:41.076409Z",
     "shell.execute_reply": "2022-10-17T18:55:41.075597Z"
    },
    "papermill": {
     "duration": 0.126472,
     "end_time": "2022-10-17T18:55:41.078695",
     "exception": false,
     "start_time": "2022-10-17T18:55:40.952223",
     "status": "completed"
    },
    "tags": []
   },
   "outputs": [],
   "source": [
    "# Required Libraries\n",
    "import numpy as np\n",
    "import pandas as pd\n",
    "from sklearn.linear_model import Ridge\n",
    "from sklearn.metrics import mean_squared_error,r2_score\n",
    "from sklearn.model_selection import train_test_split\n",
    "from sklearn import model_selection\n",
    "from sklearn.linear_model import RidgeCV\n",
    "\n",
    "R2=[]\n",
    "MAPE=[]\n",
    "MAE=[]\n",
    "RMSE=[]\n",
    "acc=[]"
   ]
  },
  {
   "cell_type": "code",
   "execution_count": 42,
   "id": "ed66be7e",
   "metadata": {
    "execution": {
     "iopub.execute_input": "2022-10-17T18:55:41.317018Z",
     "iopub.status.busy": "2022-10-17T18:55:41.316345Z",
     "iopub.status.idle": "2022-10-17T18:55:41.363135Z",
     "shell.execute_reply": "2022-10-17T18:55:41.361927Z"
    },
    "papermill": {
     "duration": 0.169181,
     "end_time": "2022-10-17T18:55:41.366097",
     "exception": false,
     "start_time": "2022-10-17T18:55:41.196916",
     "status": "completed"
    },
    "tags": []
   },
   "outputs": [
    {
     "data": {
      "text/plain": [
       "0.7833925668844591"
      ]
     },
     "execution_count": 42,
     "metadata": {},
     "output_type": "execute_result"
    }
   ],
   "source": [
    "from sklearn.linear_model import LinearRegression\n",
    "from sklearn import metrics\n",
    "lr = LinearRegression()\n",
    "lr.fit(X_train,y_train)\n",
    "lr_score = lr.score(X_test,y_test)\n",
    "acc.append(lr_score)\n",
    "lr_score"
   ]
  },
  {
   "cell_type": "code",
   "execution_count": 43,
   "id": "a271f171",
   "metadata": {
    "execution": {
     "iopub.execute_input": "2022-10-17T18:55:41.652288Z",
     "iopub.status.busy": "2022-10-17T18:55:41.651898Z",
     "iopub.status.idle": "2022-10-17T18:55:41.660138Z",
     "shell.execute_reply": "2022-10-17T18:55:41.658891Z"
    },
    "papermill": {
     "duration": 0.128894,
     "end_time": "2022-10-17T18:55:41.663097",
     "exception": false,
     "start_time": "2022-10-17T18:55:41.534203",
     "status": "completed"
    },
    "tags": []
   },
   "outputs": [],
   "source": [
    "## test\n",
    "predicted = lr.predict(X_test)"
   ]
  },
  {
   "cell_type": "code",
   "execution_count": 44,
   "id": "5d0a4c15",
   "metadata": {
    "execution": {
     "iopub.execute_input": "2022-10-17T18:55:41.942582Z",
     "iopub.status.busy": "2022-10-17T18:55:41.941820Z",
     "iopub.status.idle": "2022-10-17T18:55:41.957313Z",
     "shell.execute_reply": "2022-10-17T18:55:41.955715Z"
    },
    "papermill": {
     "duration": 0.136866,
     "end_time": "2022-10-17T18:55:41.959911",
     "exception": false,
     "start_time": "2022-10-17T18:55:41.823045",
     "status": "completed"
    },
    "tags": []
   },
   "outputs": [
    {
     "name": "stdout",
     "output_type": "stream",
     "text": [
      "R2 (explained variance): 0.78\n",
      "Mean Absolute Percentage Error: 0.11\n",
      "Mean Absolute Error: 4\n",
      "Root Mean Squared Error : 6\n"
     ]
    }
   ],
   "source": [
    "print(\"R2 (explained variance):\", round(metrics.r2_score(y_test, predicted), 2))\n",
    "print(\"Mean Absolute Percentage Error:\", round(np.mean(np.abs((y_test-predicted)/predicted)), 2))\n",
    "print(\"Mean Absolute Error:\", \"{:,.0f}\".format(metrics.mean_absolute_error(y_test, predicted)))\n",
    "print(\"Root Mean Squared Error :\", \"{:,.0f}\".format(np.sqrt(metrics.mean_squared_error(y_test, predicted))))\n",
    "R2.append(metrics.r2_score(y_test, predicted))\n",
    "MAPE.append(np.mean(np.abs((y_test-predicted)/predicted)))\n",
    "MAE.append(metrics.mean_absolute_error(y_test, predicted))\n",
    "RMSE.append(np.sqrt(metrics.mean_squared_error(y_test, predicted)))"
   ]
  },
  {
   "cell_type": "markdown",
   "id": "32380631",
   "metadata": {
    "papermill": {
     "duration": 0.119589,
     "end_time": "2022-10-17T18:55:42.716836",
     "exception": false,
     "start_time": "2022-10-17T18:55:42.597247",
     "status": "completed"
    },
    "tags": []
   },
   "source": [
    "# Ridge regression  "
   ]
  },
  {
   "cell_type": "code",
   "execution_count": 46,
   "id": "5b866fb4",
   "metadata": {
    "execution": {
     "iopub.execute_input": "2022-10-17T18:55:42.958484Z",
     "iopub.status.busy": "2022-10-17T18:55:42.957762Z",
     "iopub.status.idle": "2022-10-17T18:55:42.962799Z",
     "shell.execute_reply": "2022-10-17T18:55:42.962030Z"
    },
    "papermill": {
     "duration": 0.128646,
     "end_time": "2022-10-17T18:55:42.964823",
     "exception": false,
     "start_time": "2022-10-17T18:55:42.836177",
     "status": "completed"
    },
    "tags": []
   },
   "outputs": [],
   "source": [
    "# Required Libraries\n",
    "import numpy as np\n",
    "import pandas as pd\n",
    "from sklearn.linear_model import Ridge\n",
    "from sklearn.metrics import mean_squared_error,r2_score\n",
    "from sklearn.model_selection import train_test_split\n",
    "from sklearn import model_selection\n",
    "from sklearn.linear_model import RidgeCV"
   ]
  },
  {
   "cell_type": "code",
   "execution_count": 47,
   "id": "11f13d2a",
   "metadata": {
    "execution": {
     "iopub.execute_input": "2022-10-17T18:55:43.207109Z",
     "iopub.status.busy": "2022-10-17T18:55:43.206367Z",
     "iopub.status.idle": "2022-10-17T18:55:43.222545Z",
     "shell.execute_reply": "2022-10-17T18:55:43.221729Z"
    },
    "papermill": {
     "duration": 0.141335,
     "end_time": "2022-10-17T18:55:43.225208",
     "exception": false,
     "start_time": "2022-10-17T18:55:43.083873",
     "status": "completed"
    },
    "tags": []
   },
   "outputs": [
    {
     "data": {
      "text/plain": [
       "Ridge(alpha=0.1)"
      ]
     },
     "execution_count": 47,
     "metadata": {},
     "output_type": "execute_result"
    }
   ],
   "source": [
    "ridge_model = Ridge(alpha=0.1).fit(X_train, y_train)\n",
    "ridge_model"
   ]
  },
  {
   "cell_type": "code",
   "execution_count": 48,
   "id": "99947a25",
   "metadata": {
    "execution": {
     "iopub.execute_input": "2022-10-17T18:55:43.477687Z",
     "iopub.status.busy": "2022-10-17T18:55:43.476919Z",
     "iopub.status.idle": "2022-10-17T18:55:43.492753Z",
     "shell.execute_reply": "2022-10-17T18:55:43.491558Z"
    },
    "papermill": {
     "duration": 0.142044,
     "end_time": "2022-10-17T18:55:43.495772",
     "exception": false,
     "start_time": "2022-10-17T18:55:43.353728",
     "status": "completed"
    },
    "tags": []
   },
   "outputs": [
    {
     "data": {
      "text/plain": [
       "0.7831289374025826"
      ]
     },
     "execution_count": 48,
     "metadata": {},
     "output_type": "execute_result"
    }
   ],
   "source": [
    "## test\n",
    "predicted = ridge_model.predict(X_test)\n",
    "\n",
    "r=ridge_model.score(X_train, y_train)\n",
    "acc.append(r)\n",
    "r"
   ]
  },
  {
   "cell_type": "code",
   "execution_count": 49,
   "id": "6a722807",
   "metadata": {
    "execution": {
     "iopub.execute_input": "2022-10-17T18:55:43.777915Z",
     "iopub.status.busy": "2022-10-17T18:55:43.777513Z",
     "iopub.status.idle": "2022-10-17T18:55:43.792699Z",
     "shell.execute_reply": "2022-10-17T18:55:43.791395Z"
    },
    "papermill": {
     "duration": 0.139449,
     "end_time": "2022-10-17T18:55:43.795469",
     "exception": false,
     "start_time": "2022-10-17T18:55:43.656020",
     "status": "completed"
    },
    "tags": []
   },
   "outputs": [
    {
     "name": "stdout",
     "output_type": "stream",
     "text": [
      "R2 (explained variance): 0.78\n",
      "Mean Absolute Percentage Error: 0.11\n",
      "Mean Absolute Error: 4\n",
      "Root Mean Squared Error : 6\n"
     ]
    }
   ],
   "source": [
    "print(\"R2 (explained variance):\", round(metrics.r2_score(y_test, predicted), 2))\n",
    "print(\"Mean Absolute Percentage Error:\", round(np.mean(np.abs((y_test-predicted)/predicted)), 2))\n",
    "print(\"Mean Absolute Error:\", \"{:,.0f}\".format(metrics.mean_absolute_error(y_test, predicted)))\n",
    "print(\"Root Mean Squared Error :\", \"{:,.0f}\".format(np.sqrt(metrics.mean_squared_error(y_test, predicted))))\n",
    "R2.append(metrics.r2_score(y_test, predicted))\n",
    "MAPE.append(np.mean(np.abs((y_test-predicted)/predicted)))\n",
    "MAE.append(metrics.mean_absolute_error(y_test, predicted))\n",
    "RMSE.append(np.sqrt(metrics.mean_squared_error(y_test, predicted)))"
   ]
  },
  {
   "cell_type": "markdown",
   "id": "a8e5f30b",
   "metadata": {
    "papermill": {
     "duration": 0.122446,
     "end_time": "2022-10-17T18:55:44.555602",
     "exception": false,
     "start_time": "2022-10-17T18:55:44.433156",
     "status": "completed"
    },
    "tags": []
   },
   "source": [
    "# Lasso regression"
   ]
  },
  {
   "cell_type": "code",
   "execution_count": 51,
   "id": "15c8660b",
   "metadata": {
    "execution": {
     "iopub.execute_input": "2022-10-17T18:55:44.805856Z",
     "iopub.status.busy": "2022-10-17T18:55:44.805044Z",
     "iopub.status.idle": "2022-10-17T18:55:44.811199Z",
     "shell.execute_reply": "2022-10-17T18:55:44.810275Z"
    },
    "papermill": {
     "duration": 0.133508,
     "end_time": "2022-10-17T18:55:44.813403",
     "exception": false,
     "start_time": "2022-10-17T18:55:44.679895",
     "status": "completed"
    },
    "tags": []
   },
   "outputs": [],
   "source": [
    "# Required Libraries\n",
    "import numpy as np\n",
    "import pandas as pd\n",
    "from sklearn.linear_model import Ridge,Lasso\n",
    "from sklearn.metrics import mean_squared_error,r2_score\n",
    "from sklearn.model_selection import train_test_split, cross_val_score\n",
    "from sklearn import model_selection\n",
    "from sklearn.linear_model import RidgeCV, LassoCV"
   ]
  },
  {
   "cell_type": "code",
   "execution_count": 52,
   "id": "4b861c7b",
   "metadata": {
    "execution": {
     "iopub.execute_input": "2022-10-17T18:55:45.061045Z",
     "iopub.status.busy": "2022-10-17T18:55:45.059904Z",
     "iopub.status.idle": "2022-10-17T18:55:46.177869Z",
     "shell.execute_reply": "2022-10-17T18:55:46.176590Z"
    },
    "papermill": {
     "duration": 1.244622,
     "end_time": "2022-10-17T18:55:46.180999",
     "exception": false,
     "start_time": "2022-10-17T18:55:44.936377",
     "status": "completed"
    },
    "tags": []
   },
   "outputs": [
    {
     "data": {
      "text/plain": [
       "LassoCV(cv=10, max_iter=100000)"
      ]
     },
     "execution_count": 52,
     "metadata": {},
     "output_type": "execute_result"
    }
   ],
   "source": [
    "lasso_cv_model = LassoCV(cv=10,max_iter=100000).fit(X_train,y_train)\n",
    "lasso_cv_model"
   ]
  },
  {
   "cell_type": "code",
   "execution_count": 53,
   "id": "fa29ace2",
   "metadata": {
    "execution": {
     "iopub.execute_input": "2022-10-17T18:55:46.472258Z",
     "iopub.status.busy": "2022-10-17T18:55:46.471855Z",
     "iopub.status.idle": "2022-10-17T18:55:46.568401Z",
     "shell.execute_reply": "2022-10-17T18:55:46.567124Z"
    },
    "papermill": {
     "duration": 0.225435,
     "end_time": "2022-10-17T18:55:46.571557",
     "exception": false,
     "start_time": "2022-10-17T18:55:46.346122",
     "status": "completed"
    },
    "tags": []
   },
   "outputs": [
    {
     "data": {
      "text/plain": [
       "0.7831031908518635"
      ]
     },
     "execution_count": 53,
     "metadata": {},
     "output_type": "execute_result"
    }
   ],
   "source": [
    "lasso_tuned = Lasso().set_params(alpha= lasso_cv_model.alpha_).fit(X_train,y_train)\n",
    "predicted = lasso_tuned.predict(X_test)\n",
    "l=lasso_tuned.score(X_train, y_train)\n",
    "acc.append(l)\n",
    "l"
   ]
  },
  {
   "cell_type": "code",
   "execution_count": 54,
   "id": "b3703171",
   "metadata": {
    "execution": {
     "iopub.execute_input": "2022-10-17T18:55:46.882368Z",
     "iopub.status.busy": "2022-10-17T18:55:46.881989Z",
     "iopub.status.idle": "2022-10-17T18:55:46.896624Z",
     "shell.execute_reply": "2022-10-17T18:55:46.895601Z"
    },
    "papermill": {
     "duration": 0.140487,
     "end_time": "2022-10-17T18:55:46.899296",
     "exception": false,
     "start_time": "2022-10-17T18:55:46.758809",
     "status": "completed"
    },
    "tags": []
   },
   "outputs": [
    {
     "name": "stdout",
     "output_type": "stream",
     "text": [
      "R2 (explained variance): 0.78\n",
      "Mean Absolute Percentage Error: 0.11\n",
      "Mean Absolute Error: 4\n",
      "Root Mean Squared Error : 6\n"
     ]
    }
   ],
   "source": [
    "print(\"R2 (explained variance):\", round(metrics.r2_score(y_test, predicted), 2))\n",
    "print(\"Mean Absolute Percentage Error:\", round(np.mean(np.abs((y_test-predicted)/predicted)), 2))\n",
    "print(\"Mean Absolute Error:\", \"{:,.0f}\".format(metrics.mean_absolute_error(y_test, predicted)))\n",
    "print(\"Root Mean Squared Error :\", \"{:,.0f}\".format(np.sqrt(metrics.mean_squared_error(y_test, predicted))))\n",
    "R2.append(metrics.r2_score(y_test, predicted))\n",
    "MAPE.append(np.mean(np.abs((y_test-predicted)/predicted)))\n",
    "MAE.append(metrics.mean_absolute_error(y_test, predicted))\n",
    "RMSE.append(np.sqrt(metrics.mean_squared_error(y_test, predicted)))"
   ]
  },
  {
   "cell_type": "markdown",
   "id": "97c2b9bf",
   "metadata": {
    "papermill": {
     "duration": 0.174889,
     "end_time": "2022-10-17T18:55:47.674832",
     "exception": false,
     "start_time": "2022-10-17T18:55:47.499943",
     "status": "completed"
    },
    "tags": []
   },
   "source": [
    "# Random Forest Regressor"
   ]
  },
  {
   "cell_type": "code",
   "execution_count": 56,
   "id": "7f8de9f4",
   "metadata": {
    "execution": {
     "iopub.execute_input": "2022-10-17T18:55:47.927581Z",
     "iopub.status.busy": "2022-10-17T18:55:47.926327Z",
     "iopub.status.idle": "2022-10-17T18:55:52.515770Z",
     "shell.execute_reply": "2022-10-17T18:55:52.514968Z"
    },
    "papermill": {
     "duration": 4.717645,
     "end_time": "2022-10-17T18:55:52.517855",
     "exception": false,
     "start_time": "2022-10-17T18:55:47.800210",
     "status": "completed"
    },
    "tags": []
   },
   "outputs": [
    {
     "data": {
      "text/plain": [
       "0.9999999948895214"
      ]
     },
     "execution_count": 56,
     "metadata": {},
     "output_type": "execute_result"
    }
   ],
   "source": [
    "from sklearn.ensemble import RandomForestRegressor\n",
    "rfr = RandomForestRegressor()\n",
    "rfr.fit(X_train,y_train)\n",
    "rfr_score = rfr.score(X_test,y_test)\n",
    "acc.append(rfr_score)\n",
    "rfr_score"
   ]
  },
  {
   "cell_type": "code",
   "execution_count": 57,
   "id": "5b6ebdcc",
   "metadata": {
    "execution": {
     "iopub.execute_input": "2022-10-17T18:55:52.775077Z",
     "iopub.status.busy": "2022-10-17T18:55:52.774644Z",
     "iopub.status.idle": "2022-10-17T18:55:53.152222Z",
     "shell.execute_reply": "2022-10-17T18:55:53.151122Z"
    },
    "papermill": {
     "duration": 0.509432,
     "end_time": "2022-10-17T18:55:53.154813",
     "exception": false,
     "start_time": "2022-10-17T18:55:52.645381",
     "status": "completed"
    },
    "tags": []
   },
   "outputs": [],
   "source": [
    "predicted = rfr.predict(X_test)"
   ]
  },
  {
   "cell_type": "code",
   "execution_count": 58,
   "id": "d0754474",
   "metadata": {
    "execution": {
     "iopub.execute_input": "2022-10-17T18:55:53.408176Z",
     "iopub.status.busy": "2022-10-17T18:55:53.407716Z",
     "iopub.status.idle": "2022-10-17T18:55:53.422113Z",
     "shell.execute_reply": "2022-10-17T18:55:53.421320Z"
    },
    "papermill": {
     "duration": 0.145515,
     "end_time": "2022-10-17T18:55:53.424726",
     "exception": false,
     "start_time": "2022-10-17T18:55:53.279211",
     "status": "completed"
    },
    "tags": []
   },
   "outputs": [
    {
     "name": "stdout",
     "output_type": "stream",
     "text": [
      "R2 (explained variance): 1.0\n",
      "Mean Absolute Percentage Error: 0.0\n",
      "Mean Absolute Error: 0\n",
      "Root Mean Squared Error : 0\n"
     ]
    }
   ],
   "source": [
    "print(\"R2 (explained variance):\", round(metrics.r2_score(y_test, predicted), 2))\n",
    "print(\"Mean Absolute Percentage Error:\", round(np.mean(np.abs((y_test-predicted)/predicted)), 2))\n",
    "print(\"Mean Absolute Error:\", \"{:,.0f}\".format(metrics.mean_absolute_error(y_test, predicted)))\n",
    "print(\"Root Mean Squared Error :\", \"{:,.0f}\".format(np.sqrt(metrics.mean_squared_error(y_test, predicted))))\n",
    "R2.append(metrics.r2_score(y_test, predicted))\n",
    "MAPE.append(np.mean(np.abs((y_test-predicted)/predicted)))\n",
    "MAE.append(metrics.mean_absolute_error(y_test, predicted))\n",
    "RMSE.append(np.sqrt(metrics.mean_squared_error(y_test, predicted)))"
   ]
  },
  {
   "cell_type": "markdown",
   "id": "3779f652",
   "metadata": {
    "papermill": {
     "duration": 0.125143,
     "end_time": "2022-10-17T18:55:53.677139",
     "exception": false,
     "start_time": "2022-10-17T18:55:53.551996",
     "status": "completed"
    },
    "tags": []
   },
   "source": [
    "### An R-squared of 100% means that all movements of a price are completely explained by movements in other variables"
   ]
  },
  {
   "cell_type": "markdown",
   "id": "28b6d365",
   "metadata": {
    "papermill": {
     "duration": 0.128284,
     "end_time": "2022-10-17T18:55:54.408097",
     "exception": false,
     "start_time": "2022-10-17T18:55:54.279813",
     "status": "completed"
    },
    "tags": []
   },
   "source": [
    "# Gradient Boosting Regressor"
   ]
  },
  {
   "cell_type": "code",
   "execution_count": 60,
   "id": "e77f829a",
   "metadata": {
    "execution": {
     "iopub.execute_input": "2022-10-17T18:55:54.665271Z",
     "iopub.status.busy": "2022-10-17T18:55:54.664087Z",
     "iopub.status.idle": "2022-10-17T18:55:57.690090Z",
     "shell.execute_reply": "2022-10-17T18:55:57.689097Z"
    },
    "papermill": {
     "duration": 3.156786,
     "end_time": "2022-10-17T18:55:57.692410",
     "exception": false,
     "start_time": "2022-10-17T18:55:54.535624",
     "status": "completed"
    },
    "tags": []
   },
   "outputs": [
    {
     "data": {
      "text/plain": [
       "0.9937266956114691"
      ]
     },
     "execution_count": 60,
     "metadata": {},
     "output_type": "execute_result"
    }
   ],
   "source": [
    "from sklearn.ensemble import GradientBoostingRegressor\n",
    "\n",
    "GBRModel = GradientBoostingRegressor(n_estimators=100,max_depth=2,learning_rate = 1.5 ,random_state=33)\n",
    "GBRModel.fit(X_train, y_train)\n",
    "xg_score = GBRModel.score(X_test,y_test)\n",
    "acc.append(xg_score)\n",
    "predicted = GBRModel.predict(X_test)\n",
    "xg_score"
   ]
  },
  {
   "cell_type": "code",
   "execution_count": 61,
   "id": "11461ab5",
   "metadata": {
    "execution": {
     "iopub.execute_input": "2022-10-17T18:55:57.952623Z",
     "iopub.status.busy": "2022-10-17T18:55:57.951862Z",
     "iopub.status.idle": "2022-10-17T18:55:57.967653Z",
     "shell.execute_reply": "2022-10-17T18:55:57.966280Z"
    },
    "papermill": {
     "duration": 0.149912,
     "end_time": "2022-10-17T18:55:57.970218",
     "exception": false,
     "start_time": "2022-10-17T18:55:57.820306",
     "status": "completed"
    },
    "tags": []
   },
   "outputs": [
    {
     "name": "stdout",
     "output_type": "stream",
     "text": [
      "R2 (explained variance): 0.99\n",
      "Mean Absolute Percentage Error: 0.02\n",
      "Mean Absolute Error: 1\n",
      "Root Mean Squared Error : 1\n"
     ]
    }
   ],
   "source": [
    "print(\"R2 (explained variance):\", round(metrics.r2_score(y_test, predicted), 2))\n",
    "print(\"Mean Absolute Percentage Error:\", round(np.mean(np.abs((y_test-predicted)/predicted)), 2))\n",
    "print(\"Mean Absolute Error:\", \"{:,.0f}\".format(metrics.mean_absolute_error(y_test, predicted)))\n",
    "print(\"Root Mean Squared Error :\", \"{:,.0f}\".format(np.sqrt(metrics.mean_squared_error(y_test, predicted))))\n",
    "R2.append(metrics.r2_score(y_test, predicted))\n",
    "MAPE.append(np.mean(np.abs((y_test-predicted)/predicted)))\n",
    "MAE.append(metrics.mean_absolute_error(y_test, predicted))\n",
    "RMSE.append(np.sqrt(metrics.mean_squared_error(y_test, predicted)))"
   ]
  },
  {
   "cell_type": "markdown",
   "id": "8e5540a1",
   "metadata": {
    "papermill": {
     "duration": 0.12976,
     "end_time": "2022-10-17T18:55:58.756857",
     "exception": false,
     "start_time": "2022-10-17T18:55:58.627097",
     "status": "completed"
    },
    "tags": []
   },
   "source": [
    "<a id=\"9\"></a> <br>\n",
    "\n",
    "# Evaluation for regression models"
   ]
  },
  {
   "cell_type": "code",
   "execution_count": 63,
   "id": "ff055cd1",
   "metadata": {
    "execution": {
     "iopub.execute_input": "2022-10-17T18:55:59.019191Z",
     "iopub.status.busy": "2022-10-17T18:55:59.018785Z",
     "iopub.status.idle": "2022-10-17T18:55:59.024891Z",
     "shell.execute_reply": "2022-10-17T18:55:59.024105Z"
    },
    "papermill": {
     "duration": 0.139994,
     "end_time": "2022-10-17T18:55:59.026837",
     "exception": false,
     "start_time": "2022-10-17T18:55:58.886843",
     "status": "completed"
    },
    "tags": []
   },
   "outputs": [],
   "source": [
    "\n",
    "# import pandas as pd\n",
    "import pandas as pd \n",
    "    \n",
    "# List1 \n",
    "lst = [R2,MAPE,MAE,RMSE,acc]\n",
    "    \n",
    "d = pd.DataFrame({\"R2\":R2,\"MAPE\":MAPE,\"MAE\":MAE,\"RMSE\":RMSE,\"acc\":acc},index=[\"Linear regression\",\"Ridge regression\",\"Lasso regression\",\"Random Forest Regressor\",\"Gradient Boosting Regressor\"])"
   ]
  },
  {
   "cell_type": "code",
   "execution_count": 64,
   "id": "6c9a6004",
   "metadata": {
    "execution": {
     "iopub.execute_input": "2022-10-17T18:55:59.288883Z",
     "iopub.status.busy": "2022-10-17T18:55:59.288089Z",
     "iopub.status.idle": "2022-10-17T18:55:59.375992Z",
     "shell.execute_reply": "2022-10-17T18:55:59.375193Z"
    },
    "papermill": {
     "duration": 0.221576,
     "end_time": "2022-10-17T18:55:59.378288",
     "exception": false,
     "start_time": "2022-10-17T18:55:59.156712",
     "status": "completed"
    },
    "tags": []
   },
   "outputs": [
    {
     "data": {
      "application/vnd.plotly.v1+json": {
       "config": {
        "plotlyServerURL": "https://plot.ly"
       },
       "data": [
        {
         "alignmentgroup": "True",
         "cliponaxis": false,
         "hovertemplate": "variable=R2<br>value=%{x}<br>index=%{y}<extra></extra>",
         "legendgroup": "R2",
         "marker": {
          "color": "#636efa",
          "pattern": {
           "shape": ""
          }
         },
         "name": "R2",
         "offsetgroup": "R2",
         "orientation": "h",
         "showlegend": true,
         "textangle": 0,
         "textfont": {
          "size": 12
         },
         "textposition": "auto",
         "texttemplate": "%{x:0.2s}",
         "type": "bar",
         "x": [
          0.7833925668844591,
          0.7833925744001727,
          0.7833781427687094,
          0.9999999948895214,
          0.9937266956114691
         ],
         "xaxis": "x",
         "y": [
          "Linear regression",
          "Ridge regression",
          "Lasso regression",
          "Random Forest Regressor",
          "Gradient Boosting Regressor"
         ],
         "yaxis": "y"
        },
        {
         "alignmentgroup": "True",
         "cliponaxis": false,
         "hovertemplate": "variable=MAPE<br>value=%{x}<br>index=%{y}<extra></extra>",
         "legendgroup": "MAPE",
         "marker": {
          "color": "#EF553B",
          "pattern": {
           "shape": ""
          }
         },
         "name": "MAPE",
         "offsetgroup": "MAPE",
         "orientation": "h",
         "showlegend": true,
         "textangle": 0,
         "textfont": {
          "size": 12
         },
         "textposition": "auto",
         "texttemplate": "%{x:0.2s}",
         "type": "bar",
         "x": [
          0.11003852223369795,
          0.1100384556981002,
          0.1099937191585262,
          1.22828212952679e-7,
          0.017372576488034117
         ],
         "xaxis": "x",
         "y": [
          "Linear regression",
          "Ridge regression",
          "Lasso regression",
          "Random Forest Regressor",
          "Gradient Boosting Regressor"
         ],
         "yaxis": "y"
        },
        {
         "alignmentgroup": "True",
         "cliponaxis": false,
         "hovertemplate": "variable=MAE<br>value=%{x}<br>index=%{y}<extra></extra>",
         "legendgroup": "MAE",
         "marker": {
          "color": "#00cc96",
          "pattern": {
           "shape": ""
          }
         },
         "name": "MAE",
         "offsetgroup": "MAE",
         "orientation": "h",
         "showlegend": true,
         "textangle": 0,
         "textfont": {
          "size": 12
         },
         "textposition": "auto",
         "texttemplate": "%{x:0.2s}",
         "type": "bar",
         "x": [
          4.443046539956337,
          4.443044908379566,
          4.442140692949174,
          0.000004028765384847871,
          0.684635701224493
         ],
         "xaxis": "x",
         "y": [
          "Linear regression",
          "Ridge regression",
          "Lasso regression",
          "Random Forest Regressor",
          "Gradient Boosting Regressor"
         ],
         "yaxis": "y"
        },
        {
         "alignmentgroup": "True",
         "cliponaxis": false,
         "hovertemplate": "variable=RMSE<br>value=%{x}<br>index=%{y}<extra></extra>",
         "legendgroup": "RMSE",
         "marker": {
          "color": "#ab63fa",
          "pattern": {
           "shape": ""
          }
         },
         "name": "RMSE",
         "offsetgroup": "RMSE",
         "orientation": "h",
         "showlegend": true,
         "textangle": 0,
         "textfont": {
          "size": 12
         },
         "textposition": "auto",
         "texttemplate": "%{x:0.2s}",
         "type": "bar",
         "x": [
          5.843955203133291,
          5.8439551017482785,
          5.844149777441788,
          0.0008976374975286993,
          0.9945311275979262
         ],
         "xaxis": "x",
         "y": [
          "Linear regression",
          "Ridge regression",
          "Lasso regression",
          "Random Forest Regressor",
          "Gradient Boosting Regressor"
         ],
         "yaxis": "y"
        },
        {
         "alignmentgroup": "True",
         "cliponaxis": false,
         "hovertemplate": "variable=acc<br>value=%{x}<br>index=%{y}<extra></extra>",
         "legendgroup": "acc",
         "marker": {
          "color": "#FFA15A",
          "pattern": {
           "shape": ""
          }
         },
         "name": "acc",
         "offsetgroup": "acc",
         "orientation": "h",
         "showlegend": true,
         "textangle": 0,
         "textfont": {
          "size": 12
         },
         "textposition": "auto",
         "texttemplate": "%{x:0.2s}",
         "type": "bar",
         "x": [
          0.7833925668844591,
          0.7831289374025826,
          0.7831031908518635,
          0.9999999948895214,
          0.9937266956114691
         ],
         "xaxis": "x",
         "y": [
          "Linear regression",
          "Ridge regression",
          "Lasso regression",
          "Random Forest Regressor",
          "Gradient Boosting Regressor"
         ],
         "yaxis": "y"
        }
       ],
       "layout": {
        "barmode": "relative",
        "legend": {
         "title": {
          "text": "variable"
         },
         "tracegroupgap": 0
        },
        "template": {
         "data": {
          "bar": [
           {
            "error_x": {
             "color": "#2a3f5f"
            },
            "error_y": {
             "color": "#2a3f5f"
            },
            "marker": {
             "line": {
              "color": "#E5ECF6",
              "width": 0.5
             },
             "pattern": {
              "fillmode": "overlay",
              "size": 10,
              "solidity": 0.2
             }
            },
            "type": "bar"
           }
          ],
          "barpolar": [
           {
            "marker": {
             "line": {
              "color": "#E5ECF6",
              "width": 0.5
             },
             "pattern": {
              "fillmode": "overlay",
              "size": 10,
              "solidity": 0.2
             }
            },
            "type": "barpolar"
           }
          ],
          "carpet": [
           {
            "aaxis": {
             "endlinecolor": "#2a3f5f",
             "gridcolor": "white",
             "linecolor": "white",
             "minorgridcolor": "white",
             "startlinecolor": "#2a3f5f"
            },
            "baxis": {
             "endlinecolor": "#2a3f5f",
             "gridcolor": "white",
             "linecolor": "white",
             "minorgridcolor": "white",
             "startlinecolor": "#2a3f5f"
            },
            "type": "carpet"
           }
          ],
          "choropleth": [
           {
            "colorbar": {
             "outlinewidth": 0,
             "ticks": ""
            },
            "type": "choropleth"
           }
          ],
          "contour": [
           {
            "colorbar": {
             "outlinewidth": 0,
             "ticks": ""
            },
            "colorscale": [
             [
              0,
              "#0d0887"
             ],
             [
              0.1111111111111111,
              "#46039f"
             ],
             [
              0.2222222222222222,
              "#7201a8"
             ],
             [
              0.3333333333333333,
              "#9c179e"
             ],
             [
              0.4444444444444444,
              "#bd3786"
             ],
             [
              0.5555555555555556,
              "#d8576b"
             ],
             [
              0.6666666666666666,
              "#ed7953"
             ],
             [
              0.7777777777777778,
              "#fb9f3a"
             ],
             [
              0.8888888888888888,
              "#fdca26"
             ],
             [
              1,
              "#f0f921"
             ]
            ],
            "type": "contour"
           }
          ],
          "contourcarpet": [
           {
            "colorbar": {
             "outlinewidth": 0,
             "ticks": ""
            },
            "type": "contourcarpet"
           }
          ],
          "heatmap": [
           {
            "colorbar": {
             "outlinewidth": 0,
             "ticks": ""
            },
            "colorscale": [
             [
              0,
              "#0d0887"
             ],
             [
              0.1111111111111111,
              "#46039f"
             ],
             [
              0.2222222222222222,
              "#7201a8"
             ],
             [
              0.3333333333333333,
              "#9c179e"
             ],
             [
              0.4444444444444444,
              "#bd3786"
             ],
             [
              0.5555555555555556,
              "#d8576b"
             ],
             [
              0.6666666666666666,
              "#ed7953"
             ],
             [
              0.7777777777777778,
              "#fb9f3a"
             ],
             [
              0.8888888888888888,
              "#fdca26"
             ],
             [
              1,
              "#f0f921"
             ]
            ],
            "type": "heatmap"
           }
          ],
          "heatmapgl": [
           {
            "colorbar": {
             "outlinewidth": 0,
             "ticks": ""
            },
            "colorscale": [
             [
              0,
              "#0d0887"
             ],
             [
              0.1111111111111111,
              "#46039f"
             ],
             [
              0.2222222222222222,
              "#7201a8"
             ],
             [
              0.3333333333333333,
              "#9c179e"
             ],
             [
              0.4444444444444444,
              "#bd3786"
             ],
             [
              0.5555555555555556,
              "#d8576b"
             ],
             [
              0.6666666666666666,
              "#ed7953"
             ],
             [
              0.7777777777777778,
              "#fb9f3a"
             ],
             [
              0.8888888888888888,
              "#fdca26"
             ],
             [
              1,
              "#f0f921"
             ]
            ],
            "type": "heatmapgl"
           }
          ],
          "histogram": [
           {
            "marker": {
             "pattern": {
              "fillmode": "overlay",
              "size": 10,
              "solidity": 0.2
             }
            },
            "type": "histogram"
           }
          ],
          "histogram2d": [
           {
            "colorbar": {
             "outlinewidth": 0,
             "ticks": ""
            },
            "colorscale": [
             [
              0,
              "#0d0887"
             ],
             [
              0.1111111111111111,
              "#46039f"
             ],
             [
              0.2222222222222222,
              "#7201a8"
             ],
             [
              0.3333333333333333,
              "#9c179e"
             ],
             [
              0.4444444444444444,
              "#bd3786"
             ],
             [
              0.5555555555555556,
              "#d8576b"
             ],
             [
              0.6666666666666666,
              "#ed7953"
             ],
             [
              0.7777777777777778,
              "#fb9f3a"
             ],
             [
              0.8888888888888888,
              "#fdca26"
             ],
             [
              1,
              "#f0f921"
             ]
            ],
            "type": "histogram2d"
           }
          ],
          "histogram2dcontour": [
           {
            "colorbar": {
             "outlinewidth": 0,
             "ticks": ""
            },
            "colorscale": [
             [
              0,
              "#0d0887"
             ],
             [
              0.1111111111111111,
              "#46039f"
             ],
             [
              0.2222222222222222,
              "#7201a8"
             ],
             [
              0.3333333333333333,
              "#9c179e"
             ],
             [
              0.4444444444444444,
              "#bd3786"
             ],
             [
              0.5555555555555556,
              "#d8576b"
             ],
             [
              0.6666666666666666,
              "#ed7953"
             ],
             [
              0.7777777777777778,
              "#fb9f3a"
             ],
             [
              0.8888888888888888,
              "#fdca26"
             ],
             [
              1,
              "#f0f921"
             ]
            ],
            "type": "histogram2dcontour"
           }
          ],
          "mesh3d": [
           {
            "colorbar": {
             "outlinewidth": 0,
             "ticks": ""
            },
            "type": "mesh3d"
           }
          ],
          "parcoords": [
           {
            "line": {
             "colorbar": {
              "outlinewidth": 0,
              "ticks": ""
             }
            },
            "type": "parcoords"
           }
          ],
          "pie": [
           {
            "automargin": true,
            "type": "pie"
           }
          ],
          "scatter": [
           {
            "fillpattern": {
             "fillmode": "overlay",
             "size": 10,
             "solidity": 0.2
            },
            "type": "scatter"
           }
          ],
          "scatter3d": [
           {
            "line": {
             "colorbar": {
              "outlinewidth": 0,
              "ticks": ""
             }
            },
            "marker": {
             "colorbar": {
              "outlinewidth": 0,
              "ticks": ""
             }
            },
            "type": "scatter3d"
           }
          ],
          "scattercarpet": [
           {
            "marker": {
             "colorbar": {
              "outlinewidth": 0,
              "ticks": ""
             }
            },
            "type": "scattercarpet"
           }
          ],
          "scattergeo": [
           {
            "marker": {
             "colorbar": {
              "outlinewidth": 0,
              "ticks": ""
             }
            },
            "type": "scattergeo"
           }
          ],
          "scattergl": [
           {
            "marker": {
             "colorbar": {
              "outlinewidth": 0,
              "ticks": ""
             }
            },
            "type": "scattergl"
           }
          ],
          "scattermapbox": [
           {
            "marker": {
             "colorbar": {
              "outlinewidth": 0,
              "ticks": ""
             }
            },
            "type": "scattermapbox"
           }
          ],
          "scatterpolar": [
           {
            "marker": {
             "colorbar": {
              "outlinewidth": 0,
              "ticks": ""
             }
            },
            "type": "scatterpolar"
           }
          ],
          "scatterpolargl": [
           {
            "marker": {
             "colorbar": {
              "outlinewidth": 0,
              "ticks": ""
             }
            },
            "type": "scatterpolargl"
           }
          ],
          "scatterternary": [
           {
            "marker": {
             "colorbar": {
              "outlinewidth": 0,
              "ticks": ""
             }
            },
            "type": "scatterternary"
           }
          ],
          "surface": [
           {
            "colorbar": {
             "outlinewidth": 0,
             "ticks": ""
            },
            "colorscale": [
             [
              0,
              "#0d0887"
             ],
             [
              0.1111111111111111,
              "#46039f"
             ],
             [
              0.2222222222222222,
              "#7201a8"
             ],
             [
              0.3333333333333333,
              "#9c179e"
             ],
             [
              0.4444444444444444,
              "#bd3786"
             ],
             [
              0.5555555555555556,
              "#d8576b"
             ],
             [
              0.6666666666666666,
              "#ed7953"
             ],
             [
              0.7777777777777778,
              "#fb9f3a"
             ],
             [
              0.8888888888888888,
              "#fdca26"
             ],
             [
              1,
              "#f0f921"
             ]
            ],
            "type": "surface"
           }
          ],
          "table": [
           {
            "cells": {
             "fill": {
              "color": "#EBF0F8"
             },
             "line": {
              "color": "white"
             }
            },
            "header": {
             "fill": {
              "color": "#C8D4E3"
             },
             "line": {
              "color": "white"
             }
            },
            "type": "table"
           }
          ]
         },
         "layout": {
          "annotationdefaults": {
           "arrowcolor": "#2a3f5f",
           "arrowhead": 0,
           "arrowwidth": 1
          },
          "autotypenumbers": "strict",
          "coloraxis": {
           "colorbar": {
            "outlinewidth": 0,
            "ticks": ""
           }
          },
          "colorscale": {
           "diverging": [
            [
             0,
             "#8e0152"
            ],
            [
             0.1,
             "#c51b7d"
            ],
            [
             0.2,
             "#de77ae"
            ],
            [
             0.3,
             "#f1b6da"
            ],
            [
             0.4,
             "#fde0ef"
            ],
            [
             0.5,
             "#f7f7f7"
            ],
            [
             0.6,
             "#e6f5d0"
            ],
            [
             0.7,
             "#b8e186"
            ],
            [
             0.8,
             "#7fbc41"
            ],
            [
             0.9,
             "#4d9221"
            ],
            [
             1,
             "#276419"
            ]
           ],
           "sequential": [
            [
             0,
             "#0d0887"
            ],
            [
             0.1111111111111111,
             "#46039f"
            ],
            [
             0.2222222222222222,
             "#7201a8"
            ],
            [
             0.3333333333333333,
             "#9c179e"
            ],
            [
             0.4444444444444444,
             "#bd3786"
            ],
            [
             0.5555555555555556,
             "#d8576b"
            ],
            [
             0.6666666666666666,
             "#ed7953"
            ],
            [
             0.7777777777777778,
             "#fb9f3a"
            ],
            [
             0.8888888888888888,
             "#fdca26"
            ],
            [
             1,
             "#f0f921"
            ]
           ],
           "sequentialminus": [
            [
             0,
             "#0d0887"
            ],
            [
             0.1111111111111111,
             "#46039f"
            ],
            [
             0.2222222222222222,
             "#7201a8"
            ],
            [
             0.3333333333333333,
             "#9c179e"
            ],
            [
             0.4444444444444444,
             "#bd3786"
            ],
            [
             0.5555555555555556,
             "#d8576b"
            ],
            [
             0.6666666666666666,
             "#ed7953"
            ],
            [
             0.7777777777777778,
             "#fb9f3a"
            ],
            [
             0.8888888888888888,
             "#fdca26"
            ],
            [
             1,
             "#f0f921"
            ]
           ]
          },
          "colorway": [
           "#636efa",
           "#EF553B",
           "#00cc96",
           "#ab63fa",
           "#FFA15A",
           "#19d3f3",
           "#FF6692",
           "#B6E880",
           "#FF97FF",
           "#FECB52"
          ],
          "font": {
           "color": "#2a3f5f"
          },
          "geo": {
           "bgcolor": "white",
           "lakecolor": "white",
           "landcolor": "#E5ECF6",
           "showlakes": true,
           "showland": true,
           "subunitcolor": "white"
          },
          "hoverlabel": {
           "align": "left"
          },
          "hovermode": "closest",
          "mapbox": {
           "style": "light"
          },
          "paper_bgcolor": "white",
          "plot_bgcolor": "#E5ECF6",
          "polar": {
           "angularaxis": {
            "gridcolor": "white",
            "linecolor": "white",
            "ticks": ""
           },
           "bgcolor": "#E5ECF6",
           "radialaxis": {
            "gridcolor": "white",
            "linecolor": "white",
            "ticks": ""
           }
          },
          "scene": {
           "xaxis": {
            "backgroundcolor": "#E5ECF6",
            "gridcolor": "white",
            "gridwidth": 2,
            "linecolor": "white",
            "showbackground": true,
            "ticks": "",
            "zerolinecolor": "white"
           },
           "yaxis": {
            "backgroundcolor": "#E5ECF6",
            "gridcolor": "white",
            "gridwidth": 2,
            "linecolor": "white",
            "showbackground": true,
            "ticks": "",
            "zerolinecolor": "white"
           },
           "zaxis": {
            "backgroundcolor": "#E5ECF6",
            "gridcolor": "white",
            "gridwidth": 2,
            "linecolor": "white",
            "showbackground": true,
            "ticks": "",
            "zerolinecolor": "white"
           }
          },
          "shapedefaults": {
           "line": {
            "color": "#2a3f5f"
           }
          },
          "ternary": {
           "aaxis": {
            "gridcolor": "white",
            "linecolor": "white",
            "ticks": ""
           },
           "baxis": {
            "gridcolor": "white",
            "linecolor": "white",
            "ticks": ""
           },
           "bgcolor": "#E5ECF6",
           "caxis": {
            "gridcolor": "white",
            "linecolor": "white",
            "ticks": ""
           }
          },
          "title": {
           "x": 0.05
          },
          "xaxis": {
           "automargin": true,
           "gridcolor": "white",
           "linecolor": "white",
           "ticks": "",
           "title": {
            "standoff": 15
           },
           "zerolinecolor": "white",
           "zerolinewidth": 2
          },
          "yaxis": {
           "automargin": true,
           "gridcolor": "white",
           "linecolor": "white",
           "ticks": "",
           "title": {
            "standoff": 15
           },
           "zerolinecolor": "white",
           "zerolinewidth": 2
          }
         }
        },
        "title": {
         "text": "Regression models"
        },
        "xaxis": {
         "anchor": "y",
         "domain": [
          0,
          1
         ],
         "title": {
          "text": "value"
         }
        },
        "yaxis": {
         "anchor": "x",
         "domain": [
          0,
          1
         ],
         "title": {
          "text": "index"
         }
        }
       }
      },
      "text/html": [
       "<div>                            <div id=\"ec58dded-8d48-442b-b3a1-b6b348f2a967\" class=\"plotly-graph-div\" style=\"height:525px; width:100%;\"></div>            <script type=\"text/javascript\">                require([\"plotly\"], function(Plotly) {                    window.PLOTLYENV=window.PLOTLYENV || {};                                    if (document.getElementById(\"ec58dded-8d48-442b-b3a1-b6b348f2a967\")) {                    Plotly.newPlot(                        \"ec58dded-8d48-442b-b3a1-b6b348f2a967\",                        [{\"alignmentgroup\":\"True\",\"hovertemplate\":\"variable=R2<br>value=%{x}<br>index=%{y}<extra></extra>\",\"legendgroup\":\"R2\",\"marker\":{\"color\":\"#636efa\",\"pattern\":{\"shape\":\"\"}},\"name\":\"R2\",\"offsetgroup\":\"R2\",\"orientation\":\"h\",\"showlegend\":true,\"textposition\":\"auto\",\"texttemplate\":\"%{x:0.2s}\",\"x\":[0.7833925668844591,0.7833925744001727,0.7833781427687094,0.9999999948895214,0.9937266956114691],\"xaxis\":\"x\",\"y\":[\"Linear regression\",\"Ridge regression\",\"Lasso regression\",\"Random Forest Regressor\",\"Gradient Boosting Regressor\"],\"yaxis\":\"y\",\"type\":\"bar\",\"textfont\":{\"size\":12},\"cliponaxis\":false,\"textangle\":0},{\"alignmentgroup\":\"True\",\"hovertemplate\":\"variable=MAPE<br>value=%{x}<br>index=%{y}<extra></extra>\",\"legendgroup\":\"MAPE\",\"marker\":{\"color\":\"#EF553B\",\"pattern\":{\"shape\":\"\"}},\"name\":\"MAPE\",\"offsetgroup\":\"MAPE\",\"orientation\":\"h\",\"showlegend\":true,\"textposition\":\"auto\",\"texttemplate\":\"%{x:0.2s}\",\"x\":[0.11003852223369795,0.1100384556981002,0.1099937191585262,1.22828212952679e-7,0.017372576488034117],\"xaxis\":\"x\",\"y\":[\"Linear regression\",\"Ridge regression\",\"Lasso regression\",\"Random Forest Regressor\",\"Gradient Boosting Regressor\"],\"yaxis\":\"y\",\"type\":\"bar\",\"textfont\":{\"size\":12},\"cliponaxis\":false,\"textangle\":0},{\"alignmentgroup\":\"True\",\"hovertemplate\":\"variable=MAE<br>value=%{x}<br>index=%{y}<extra></extra>\",\"legendgroup\":\"MAE\",\"marker\":{\"color\":\"#00cc96\",\"pattern\":{\"shape\":\"\"}},\"name\":\"MAE\",\"offsetgroup\":\"MAE\",\"orientation\":\"h\",\"showlegend\":true,\"textposition\":\"auto\",\"texttemplate\":\"%{x:0.2s}\",\"x\":[4.443046539956337,4.443044908379566,4.442140692949174,4.028765384847871e-6,0.684635701224493],\"xaxis\":\"x\",\"y\":[\"Linear regression\",\"Ridge regression\",\"Lasso regression\",\"Random Forest Regressor\",\"Gradient Boosting Regressor\"],\"yaxis\":\"y\",\"type\":\"bar\",\"textfont\":{\"size\":12},\"cliponaxis\":false,\"textangle\":0},{\"alignmentgroup\":\"True\",\"hovertemplate\":\"variable=RMSE<br>value=%{x}<br>index=%{y}<extra></extra>\",\"legendgroup\":\"RMSE\",\"marker\":{\"color\":\"#ab63fa\",\"pattern\":{\"shape\":\"\"}},\"name\":\"RMSE\",\"offsetgroup\":\"RMSE\",\"orientation\":\"h\",\"showlegend\":true,\"textposition\":\"auto\",\"texttemplate\":\"%{x:0.2s}\",\"x\":[5.843955203133291,5.8439551017482785,5.844149777441788,0.0008976374975286993,0.9945311275979262],\"xaxis\":\"x\",\"y\":[\"Linear regression\",\"Ridge regression\",\"Lasso regression\",\"Random Forest Regressor\",\"Gradient Boosting Regressor\"],\"yaxis\":\"y\",\"type\":\"bar\",\"textfont\":{\"size\":12},\"cliponaxis\":false,\"textangle\":0},{\"alignmentgroup\":\"True\",\"hovertemplate\":\"variable=acc<br>value=%{x}<br>index=%{y}<extra></extra>\",\"legendgroup\":\"acc\",\"marker\":{\"color\":\"#FFA15A\",\"pattern\":{\"shape\":\"\"}},\"name\":\"acc\",\"offsetgroup\":\"acc\",\"orientation\":\"h\",\"showlegend\":true,\"textposition\":\"auto\",\"texttemplate\":\"%{x:0.2s}\",\"x\":[0.7833925668844591,0.7831289374025826,0.7831031908518635,0.9999999948895214,0.9937266956114691],\"xaxis\":\"x\",\"y\":[\"Linear regression\",\"Ridge regression\",\"Lasso regression\",\"Random Forest Regressor\",\"Gradient Boosting Regressor\"],\"yaxis\":\"y\",\"type\":\"bar\",\"textfont\":{\"size\":12},\"cliponaxis\":false,\"textangle\":0}],                        {\"template\":{\"data\":{\"histogram2dcontour\":[{\"type\":\"histogram2dcontour\",\"colorbar\":{\"outlinewidth\":0,\"ticks\":\"\"},\"colorscale\":[[0.0,\"#0d0887\"],[0.1111111111111111,\"#46039f\"],[0.2222222222222222,\"#7201a8\"],[0.3333333333333333,\"#9c179e\"],[0.4444444444444444,\"#bd3786\"],[0.5555555555555556,\"#d8576b\"],[0.6666666666666666,\"#ed7953\"],[0.7777777777777778,\"#fb9f3a\"],[0.8888888888888888,\"#fdca26\"],[1.0,\"#f0f921\"]]}],\"choropleth\":[{\"type\":\"choropleth\",\"colorbar\":{\"outlinewidth\":0,\"ticks\":\"\"}}],\"histogram2d\":[{\"type\":\"histogram2d\",\"colorbar\":{\"outlinewidth\":0,\"ticks\":\"\"},\"colorscale\":[[0.0,\"#0d0887\"],[0.1111111111111111,\"#46039f\"],[0.2222222222222222,\"#7201a8\"],[0.3333333333333333,\"#9c179e\"],[0.4444444444444444,\"#bd3786\"],[0.5555555555555556,\"#d8576b\"],[0.6666666666666666,\"#ed7953\"],[0.7777777777777778,\"#fb9f3a\"],[0.8888888888888888,\"#fdca26\"],[1.0,\"#f0f921\"]]}],\"heatmap\":[{\"type\":\"heatmap\",\"colorbar\":{\"outlinewidth\":0,\"ticks\":\"\"},\"colorscale\":[[0.0,\"#0d0887\"],[0.1111111111111111,\"#46039f\"],[0.2222222222222222,\"#7201a8\"],[0.3333333333333333,\"#9c179e\"],[0.4444444444444444,\"#bd3786\"],[0.5555555555555556,\"#d8576b\"],[0.6666666666666666,\"#ed7953\"],[0.7777777777777778,\"#fb9f3a\"],[0.8888888888888888,\"#fdca26\"],[1.0,\"#f0f921\"]]}],\"heatmapgl\":[{\"type\":\"heatmapgl\",\"colorbar\":{\"outlinewidth\":0,\"ticks\":\"\"},\"colorscale\":[[0.0,\"#0d0887\"],[0.1111111111111111,\"#46039f\"],[0.2222222222222222,\"#7201a8\"],[0.3333333333333333,\"#9c179e\"],[0.4444444444444444,\"#bd3786\"],[0.5555555555555556,\"#d8576b\"],[0.6666666666666666,\"#ed7953\"],[0.7777777777777778,\"#fb9f3a\"],[0.8888888888888888,\"#fdca26\"],[1.0,\"#f0f921\"]]}],\"contourcarpet\":[{\"type\":\"contourcarpet\",\"colorbar\":{\"outlinewidth\":0,\"ticks\":\"\"}}],\"contour\":[{\"type\":\"contour\",\"colorbar\":{\"outlinewidth\":0,\"ticks\":\"\"},\"colorscale\":[[0.0,\"#0d0887\"],[0.1111111111111111,\"#46039f\"],[0.2222222222222222,\"#7201a8\"],[0.3333333333333333,\"#9c179e\"],[0.4444444444444444,\"#bd3786\"],[0.5555555555555556,\"#d8576b\"],[0.6666666666666666,\"#ed7953\"],[0.7777777777777778,\"#fb9f3a\"],[0.8888888888888888,\"#fdca26\"],[1.0,\"#f0f921\"]]}],\"surface\":[{\"type\":\"surface\",\"colorbar\":{\"outlinewidth\":0,\"ticks\":\"\"},\"colorscale\":[[0.0,\"#0d0887\"],[0.1111111111111111,\"#46039f\"],[0.2222222222222222,\"#7201a8\"],[0.3333333333333333,\"#9c179e\"],[0.4444444444444444,\"#bd3786\"],[0.5555555555555556,\"#d8576b\"],[0.6666666666666666,\"#ed7953\"],[0.7777777777777778,\"#fb9f3a\"],[0.8888888888888888,\"#fdca26\"],[1.0,\"#f0f921\"]]}],\"mesh3d\":[{\"type\":\"mesh3d\",\"colorbar\":{\"outlinewidth\":0,\"ticks\":\"\"}}],\"scatter\":[{\"fillpattern\":{\"fillmode\":\"overlay\",\"size\":10,\"solidity\":0.2},\"type\":\"scatter\"}],\"parcoords\":[{\"type\":\"parcoords\",\"line\":{\"colorbar\":{\"outlinewidth\":0,\"ticks\":\"\"}}}],\"scatterpolargl\":[{\"type\":\"scatterpolargl\",\"marker\":{\"colorbar\":{\"outlinewidth\":0,\"ticks\":\"\"}}}],\"bar\":[{\"error_x\":{\"color\":\"#2a3f5f\"},\"error_y\":{\"color\":\"#2a3f5f\"},\"marker\":{\"line\":{\"color\":\"#E5ECF6\",\"width\":0.5},\"pattern\":{\"fillmode\":\"overlay\",\"size\":10,\"solidity\":0.2}},\"type\":\"bar\"}],\"scattergeo\":[{\"type\":\"scattergeo\",\"marker\":{\"colorbar\":{\"outlinewidth\":0,\"ticks\":\"\"}}}],\"scatterpolar\":[{\"type\":\"scatterpolar\",\"marker\":{\"colorbar\":{\"outlinewidth\":0,\"ticks\":\"\"}}}],\"histogram\":[{\"marker\":{\"pattern\":{\"fillmode\":\"overlay\",\"size\":10,\"solidity\":0.2}},\"type\":\"histogram\"}],\"scattergl\":[{\"type\":\"scattergl\",\"marker\":{\"colorbar\":{\"outlinewidth\":0,\"ticks\":\"\"}}}],\"scatter3d\":[{\"type\":\"scatter3d\",\"line\":{\"colorbar\":{\"outlinewidth\":0,\"ticks\":\"\"}},\"marker\":{\"colorbar\":{\"outlinewidth\":0,\"ticks\":\"\"}}}],\"scattermapbox\":[{\"type\":\"scattermapbox\",\"marker\":{\"colorbar\":{\"outlinewidth\":0,\"ticks\":\"\"}}}],\"scatterternary\":[{\"type\":\"scatterternary\",\"marker\":{\"colorbar\":{\"outlinewidth\":0,\"ticks\":\"\"}}}],\"scattercarpet\":[{\"type\":\"scattercarpet\",\"marker\":{\"colorbar\":{\"outlinewidth\":0,\"ticks\":\"\"}}}],\"carpet\":[{\"aaxis\":{\"endlinecolor\":\"#2a3f5f\",\"gridcolor\":\"white\",\"linecolor\":\"white\",\"minorgridcolor\":\"white\",\"startlinecolor\":\"#2a3f5f\"},\"baxis\":{\"endlinecolor\":\"#2a3f5f\",\"gridcolor\":\"white\",\"linecolor\":\"white\",\"minorgridcolor\":\"white\",\"startlinecolor\":\"#2a3f5f\"},\"type\":\"carpet\"}],\"table\":[{\"cells\":{\"fill\":{\"color\":\"#EBF0F8\"},\"line\":{\"color\":\"white\"}},\"header\":{\"fill\":{\"color\":\"#C8D4E3\"},\"line\":{\"color\":\"white\"}},\"type\":\"table\"}],\"barpolar\":[{\"marker\":{\"line\":{\"color\":\"#E5ECF6\",\"width\":0.5},\"pattern\":{\"fillmode\":\"overlay\",\"size\":10,\"solidity\":0.2}},\"type\":\"barpolar\"}],\"pie\":[{\"automargin\":true,\"type\":\"pie\"}]},\"layout\":{\"autotypenumbers\":\"strict\",\"colorway\":[\"#636efa\",\"#EF553B\",\"#00cc96\",\"#ab63fa\",\"#FFA15A\",\"#19d3f3\",\"#FF6692\",\"#B6E880\",\"#FF97FF\",\"#FECB52\"],\"font\":{\"color\":\"#2a3f5f\"},\"hovermode\":\"closest\",\"hoverlabel\":{\"align\":\"left\"},\"paper_bgcolor\":\"white\",\"plot_bgcolor\":\"#E5ECF6\",\"polar\":{\"bgcolor\":\"#E5ECF6\",\"angularaxis\":{\"gridcolor\":\"white\",\"linecolor\":\"white\",\"ticks\":\"\"},\"radialaxis\":{\"gridcolor\":\"white\",\"linecolor\":\"white\",\"ticks\":\"\"}},\"ternary\":{\"bgcolor\":\"#E5ECF6\",\"aaxis\":{\"gridcolor\":\"white\",\"linecolor\":\"white\",\"ticks\":\"\"},\"baxis\":{\"gridcolor\":\"white\",\"linecolor\":\"white\",\"ticks\":\"\"},\"caxis\":{\"gridcolor\":\"white\",\"linecolor\":\"white\",\"ticks\":\"\"}},\"coloraxis\":{\"colorbar\":{\"outlinewidth\":0,\"ticks\":\"\"}},\"colorscale\":{\"sequential\":[[0.0,\"#0d0887\"],[0.1111111111111111,\"#46039f\"],[0.2222222222222222,\"#7201a8\"],[0.3333333333333333,\"#9c179e\"],[0.4444444444444444,\"#bd3786\"],[0.5555555555555556,\"#d8576b\"],[0.6666666666666666,\"#ed7953\"],[0.7777777777777778,\"#fb9f3a\"],[0.8888888888888888,\"#fdca26\"],[1.0,\"#f0f921\"]],\"sequentialminus\":[[0.0,\"#0d0887\"],[0.1111111111111111,\"#46039f\"],[0.2222222222222222,\"#7201a8\"],[0.3333333333333333,\"#9c179e\"],[0.4444444444444444,\"#bd3786\"],[0.5555555555555556,\"#d8576b\"],[0.6666666666666666,\"#ed7953\"],[0.7777777777777778,\"#fb9f3a\"],[0.8888888888888888,\"#fdca26\"],[1.0,\"#f0f921\"]],\"diverging\":[[0,\"#8e0152\"],[0.1,\"#c51b7d\"],[0.2,\"#de77ae\"],[0.3,\"#f1b6da\"],[0.4,\"#fde0ef\"],[0.5,\"#f7f7f7\"],[0.6,\"#e6f5d0\"],[0.7,\"#b8e186\"],[0.8,\"#7fbc41\"],[0.9,\"#4d9221\"],[1,\"#276419\"]]},\"xaxis\":{\"gridcolor\":\"white\",\"linecolor\":\"white\",\"ticks\":\"\",\"title\":{\"standoff\":15},\"zerolinecolor\":\"white\",\"automargin\":true,\"zerolinewidth\":2},\"yaxis\":{\"gridcolor\":\"white\",\"linecolor\":\"white\",\"ticks\":\"\",\"title\":{\"standoff\":15},\"zerolinecolor\":\"white\",\"automargin\":true,\"zerolinewidth\":2},\"scene\":{\"xaxis\":{\"backgroundcolor\":\"#E5ECF6\",\"gridcolor\":\"white\",\"linecolor\":\"white\",\"showbackground\":true,\"ticks\":\"\",\"zerolinecolor\":\"white\",\"gridwidth\":2},\"yaxis\":{\"backgroundcolor\":\"#E5ECF6\",\"gridcolor\":\"white\",\"linecolor\":\"white\",\"showbackground\":true,\"ticks\":\"\",\"zerolinecolor\":\"white\",\"gridwidth\":2},\"zaxis\":{\"backgroundcolor\":\"#E5ECF6\",\"gridcolor\":\"white\",\"linecolor\":\"white\",\"showbackground\":true,\"ticks\":\"\",\"zerolinecolor\":\"white\",\"gridwidth\":2}},\"shapedefaults\":{\"line\":{\"color\":\"#2a3f5f\"}},\"annotationdefaults\":{\"arrowcolor\":\"#2a3f5f\",\"arrowhead\":0,\"arrowwidth\":1},\"geo\":{\"bgcolor\":\"white\",\"landcolor\":\"#E5ECF6\",\"subunitcolor\":\"white\",\"showland\":true,\"showlakes\":true,\"lakecolor\":\"white\"},\"title\":{\"x\":0.05},\"mapbox\":{\"style\":\"light\"}}},\"xaxis\":{\"anchor\":\"y\",\"domain\":[0.0,1.0],\"title\":{\"text\":\"value\"}},\"yaxis\":{\"anchor\":\"x\",\"domain\":[0.0,1.0],\"title\":{\"text\":\"index\"}},\"legend\":{\"title\":{\"text\":\"variable\"},\"tracegroupgap\":0},\"title\":{\"text\":\"Regression models\"},\"barmode\":\"relative\"},                        {\"responsive\": true}                    ).then(function(){\n",
       "                            \n",
       "var gd = document.getElementById('ec58dded-8d48-442b-b3a1-b6b348f2a967');\n",
       "var x = new MutationObserver(function (mutations, observer) {{\n",
       "        var display = window.getComputedStyle(gd).display;\n",
       "        if (!display || display === 'none') {{\n",
       "            console.log([gd, 'removed!']);\n",
       "            Plotly.purge(gd);\n",
       "            observer.disconnect();\n",
       "        }}\n",
       "}});\n",
       "\n",
       "// Listen for the removal of the full notebook cells\n",
       "var notebookContainer = gd.closest('#notebook-container');\n",
       "if (notebookContainer) {{\n",
       "    x.observe(notebookContainer, {childList: true});\n",
       "}}\n",
       "\n",
       "// Listen for the clearing of the current output cell\n",
       "var outputEl = gd.closest('.output');\n",
       "if (outputEl) {{\n",
       "    x.observe(outputEl, {childList: true});\n",
       "}}\n",
       "\n",
       "                        })                };                });            </script>        </div>"
      ]
     },
     "metadata": {},
     "output_type": "display_data"
    }
   ],
   "source": [
    "import plotly.express as px\n",
    "fig = px.bar(data_frame=d, y=d.index, x=[\"R2\",\"MAPE\",\"MAE\",\"RMSE\",\"acc\"], text_auto='0.2s',\n",
    "            title=\"Regression models\")\n",
    "fig.update_traces(textfont_size=12, textangle=0,textposition=\"auto\", cliponaxis=False)\n",
    "fig.show()"
   ]
  },
  {
   "cell_type": "markdown",
   "id": "05e03c83",
   "metadata": {
    "papermill": {
     "duration": 0.137042,
     "end_time": "2022-10-17T18:55:59.652445",
     "exception": false,
     "start_time": "2022-10-17T18:55:59.515403",
     "status": "completed"
    },
    "tags": []
   },
   "source": [
    "### Based on the results, GB and RF are the best regression models for this challenge"
   ]
  },
  {
   "cell_type": "markdown",
   "id": "39904a0d",
   "metadata": {
    "papermill": {
     "duration": 0.137373,
     "end_time": "2022-10-17T18:55:59.926507",
     "exception": false,
     "start_time": "2022-10-17T18:55:59.789134",
     "status": "completed"
    },
    "tags": []
   },
   "source": [
    "<a id=\"10\"></a> <br>\n",
    "# Classification models\n",
    "1. K Nearest Neighbours\n",
    "2. Decision Tree\n",
    "3. Naive Bayes\n",
    "4. Random Forest Classifier\n",
    "5. Logistic Regression \n",
    "6. Support Vector Machine"
   ]
  },
  {
   "cell_type": "code",
   "execution_count": 65,
   "id": "00fd8812",
   "metadata": {
    "execution": {
     "iopub.execute_input": "2022-10-17T18:56:00.204450Z",
     "iopub.status.busy": "2022-10-17T18:56:00.203702Z",
     "iopub.status.idle": "2022-10-17T18:56:00.882186Z",
     "shell.execute_reply": "2022-10-17T18:56:00.881000Z"
    },
    "papermill": {
     "duration": 0.820593,
     "end_time": "2022-10-17T18:56:00.884848",
     "exception": false,
     "start_time": "2022-10-17T18:56:00.064255",
     "status": "completed"
    },
    "tags": []
   },
   "outputs": [
    {
     "data": {
      "text/html": [
       "<style type='text/css'>\n",
       ".datatable table.frame { margin-bottom: 0; }\n",
       ".datatable table.frame thead { border-bottom: none; }\n",
       ".datatable table.frame tr.coltypes td {  color: #FFFFFF;  line-height: 6px;  padding: 0 0.5em;}\n",
       ".datatable .bool    { background: #DDDD99; }\n",
       ".datatable .object  { background: #565656; }\n",
       ".datatable .int     { background: #5D9E5D; }\n",
       ".datatable .float   { background: #4040CC; }\n",
       ".datatable .str     { background: #CC4040; }\n",
       ".datatable .time    { background: #40CC40; }\n",
       ".datatable .row_index {  background: var(--jp-border-color3);  border-right: 1px solid var(--jp-border-color0);  color: var(--jp-ui-font-color3);  font-size: 9px;}\n",
       ".datatable .frame tbody td { text-align: left; }\n",
       ".datatable .frame tr.coltypes .row_index {  background: var(--jp-border-color0);}\n",
       ".datatable th:nth-child(2) { padding-left: 12px; }\n",
       ".datatable .hellipsis {  color: var(--jp-cell-editor-border-color);}\n",
       ".datatable .vellipsis {  background: var(--jp-layout-color0);  color: var(--jp-cell-editor-border-color);}\n",
       ".datatable .na {  color: var(--jp-cell-editor-border-color);  font-size: 80%;}\n",
       ".datatable .sp {  opacity: 0.25;}\n",
       ".datatable .footer { font-size: 9px; }\n",
       ".datatable .frame_dimensions {  background: var(--jp-border-color3);  border-top: 1px solid var(--jp-border-color0);  color: var(--jp-ui-font-color3);  display: inline-block;  opacity: 0.6;  padding: 1px 10px 1px 5px;}\n",
       "</style>\n"
      ],
      "text/plain": [
       "<IPython.core.display.HTML object>"
      ]
     },
     "metadata": {},
     "output_type": "display_data"
    }
   ],
   "source": [
    "import numpy as np #Mengolah matrix\n",
    "import pandas as pd #Read structured data\n",
    "import matplotlib.pyplot as plt #Data plot visualization\n",
    "import seaborn as sns\n",
    "\n",
    "#Machine Learning\n",
    "import statsmodels.api as sm\n",
    "from statsmodels.stats.outliers_influence import variance_inflation_factor\n",
    "from sklearn.preprocessing import StandardScaler  #Feature Scaling\n",
    "from sklearn.model_selection import train_test_split #Data Partition\n",
    "from sklearn.linear_model import LogisticRegression\n",
    "from sklearn.metrics import accuracy_score\n",
    "from sklearn.metrics import confusion_matrix,accuracy_score,roc_curve,classification_report\n",
    "from sklearn.linear_model import LogisticRegression \n",
    "from sklearn.svm import SVC\n",
    "from sklearn.tree import DecisionTreeClassifier\n",
    "from sklearn.neighbors import KNeighborsClassifier\n",
    "from sklearn.naive_bayes import GaussianNB\n",
    "from sklearn.ensemble import  RandomForestClassifier\n",
    "import warnings\n",
    "warnings.filterwarnings(\"ignore\")\n",
    "from xgboost import XGBClassifier\n",
    "from xgboost import plot_importance\n",
    "from sklearn.ensemble import RandomForestClassifier, AdaBoostClassifier, RandomForestRegressor, AdaBoostRegressor\n",
    "from sklearn.svm import SVC, LinearSVC, SVR, LinearSVR\n",
    "from sklearn.naive_bayes import BernoulliNB\n",
    "from lightgbm import LGBMClassifier, LGBMRegressor\n",
    "from catboost import CatBoostClassifier, CatBoostRegressor\n",
    "from xgboost import XGBClassifier, XGBRegressor\n",
    "from tabulate import tabulate\n",
    "#ensembling\n",
    "from sklearn.ensemble import VotingClassifier\n",
    "from sklearn.metrics import accuracy_score, precision_score, recall_score\n",
    "from sklearn.preprocessing import StandardScaler, LabelEncoder\n",
    "\n",
    "\n",
    "df_copy = pd.read_csv(\"../input/eshop-clothing-dataset/e-shop clothing 2008.csv\")\n",
    "df_copy=df_copy.drop(['session ID','year'],axis=1)\n",
    "\n",
    "from sklearn import preprocessing\n",
    "encoders = {}\n",
    "for col in df_copy.columns:\n",
    "    if df_copy[col].dtype == 'object':\n",
    "            label_encoder = LabelEncoder()\n",
    "            df_copy[col] = label_encoder.fit_transform(df_copy[col])\n",
    "            encoders[col] = label_encoder\n",
    "df_copy[\"price 2\"] = df_copy[\"price 2\"] - 1\n",
    "\n",
    "y = df_copy[\"price 2\"]\n",
    "X = df_copy.drop(\"price 2\",axis=1)\n",
    "X_train, X_test, y_train, y_test = train_test_split(X, y, train_size=0.2, random_state = 0)\n",
    "\n",
    "scaler = StandardScaler()\n",
    "X_train = scaler.fit_transform(X_train)\n",
    "X_test = scaler.transform(X_test)\n",
    "\n",
    "accurac=[]\n",
    "precision=[]\n",
    "recall=[]"
   ]
  },
  {
   "cell_type": "markdown",
   "id": "a4591685",
   "metadata": {
    "papermill": {
     "duration": 0.137103,
     "end_time": "2022-10-17T18:56:01.160050",
     "exception": false,
     "start_time": "2022-10-17T18:56:01.022947",
     "status": "completed"
    },
    "tags": []
   },
   "source": [
    "# Cross-Validation and Hyperparameter Tuning (GridSearch)"
   ]
  },
  {
   "cell_type": "markdown",
   "id": "5b0091fd",
   "metadata": {
    "papermill": {
     "duration": 0.138544,
     "end_time": "2022-10-17T18:56:01.486761",
     "exception": false,
     "start_time": "2022-10-17T18:56:01.348217",
     "status": "completed"
    },
    "tags": []
   },
   "source": [
    "### We will use K-Fold Cross validation--> Ensures that every observation from the original dataset has the chance of appearing in training and test set."
   ]
  },
  {
   "cell_type": "code",
   "execution_count": 66,
   "id": "a7ebd010",
   "metadata": {
    "execution": {
     "iopub.execute_input": "2022-10-17T18:56:01.763618Z",
     "iopub.status.busy": "2022-10-17T18:56:01.763011Z",
     "iopub.status.idle": "2022-10-17T18:56:01.767603Z",
     "shell.execute_reply": "2022-10-17T18:56:01.766791Z"
    },
    "papermill": {
     "duration": 0.144987,
     "end_time": "2022-10-17T18:56:01.769574",
     "exception": false,
     "start_time": "2022-10-17T18:56:01.624587",
     "status": "completed"
    },
    "tags": []
   },
   "outputs": [],
   "source": [
    "from sklearn.model_selection import RepeatedStratifiedKFold\n",
    "\n",
    "cv_method = RepeatedStratifiedKFold(n_splits=5, \n",
    "                                    n_repeats=3, \n",
    "                                    random_state=999)"
   ]
  },
  {
   "cell_type": "markdown",
   "id": "923f83f8",
   "metadata": {
    "papermill": {
     "duration": 0.136622,
     "end_time": "2022-10-17T18:56:02.042418",
     "exception": false,
     "start_time": "2022-10-17T18:56:01.905796",
     "status": "completed"
    },
    "tags": []
   },
   "source": [
    "# K-Nearest Neighbour"
   ]
  },
  {
   "cell_type": "code",
   "execution_count": 67,
   "id": "0ebf0869",
   "metadata": {
    "execution": {
     "iopub.execute_input": "2022-10-17T18:56:02.318639Z",
     "iopub.status.busy": "2022-10-17T18:56:02.318046Z",
     "iopub.status.idle": "2022-10-17T18:56:15.060076Z",
     "shell.execute_reply": "2022-10-17T18:56:15.058823Z"
    },
    "papermill": {
     "duration": 12.883893,
     "end_time": "2022-10-17T18:56:15.062539",
     "exception": false,
     "start_time": "2022-10-17T18:56:02.178646",
     "status": "completed"
    },
    "tags": []
   },
   "outputs": [
    {
     "name": "stdout",
     "output_type": "stream",
     "text": [
      "Train Score: 0.9256360669607784\n",
      "Test Score: 0.927738329052727\n"
     ]
    }
   ],
   "source": [
    "KNN_model = KNeighborsClassifier(n_neighbors=4)\n",
    "KNN_model.fit(X_train[:1000], y_train[:1000])\n",
    "\n",
    "KNN_train, KNN_test = KNN_model.score(X_train, y_train), KNN_model.score(X_test, y_test)\n",
    "KNN_predict = KNN_model.predict(X_test)\n",
    "\n",
    "print(f\"Train Score: {KNN_train}\")\n",
    "print(f\"Test Score: {KNN_test}\")"
   ]
  },
  {
   "cell_type": "code",
   "execution_count": 68,
   "id": "24abb45d",
   "metadata": {
    "execution": {
     "iopub.execute_input": "2022-10-17T18:56:15.341821Z",
     "iopub.status.busy": "2022-10-17T18:56:15.341364Z",
     "iopub.status.idle": "2022-10-17T18:56:21.393254Z",
     "shell.execute_reply": "2022-10-17T18:56:21.391796Z"
    },
    "papermill": {
     "duration": 6.194947,
     "end_time": "2022-10-17T18:56:21.395981",
     "exception": false,
     "start_time": "2022-10-17T18:56:15.201034",
     "status": "completed"
    },
    "tags": []
   },
   "outputs": [
    {
     "name": "stdout",
     "output_type": "stream",
     "text": [
      "              precision    recall  f1-score   support\n",
      "\n",
      "           0       0.90      0.96      0.93     67836\n",
      "           1       0.96      0.89      0.92     64544\n",
      "\n",
      "    accuracy                           0.93    132380\n",
      "   macro avg       0.93      0.93      0.93    132380\n",
      "weighted avg       0.93      0.93      0.93    132380\n",
      "\n"
     ]
    }
   ],
   "source": [
    "KNN_predict = KNN_model.predict(X_test)\n",
    "accurac.append(accuracy_score(KNN_predict, y_test))\n",
    "precision.append(precision_score(KNN_predict, y_test))\n",
    "recall.append(recall_score(KNN_predict, y_test))\n",
    "\n",
    "\n",
    "print(classification_report(y_test, KNN_predict))"
   ]
  },
  {
   "cell_type": "code",
   "execution_count": 69,
   "id": "98dca60e",
   "metadata": {
    "execution": {
     "iopub.execute_input": "2022-10-17T18:56:21.671562Z",
     "iopub.status.busy": "2022-10-17T18:56:21.671179Z",
     "iopub.status.idle": "2022-10-17T18:56:27.588647Z",
     "shell.execute_reply": "2022-10-17T18:56:27.587774Z"
    },
    "papermill": {
     "duration": 6.058014,
     "end_time": "2022-10-17T18:56:27.591029",
     "exception": false,
     "start_time": "2022-10-17T18:56:21.533015",
     "status": "completed"
    },
    "tags": []
   },
   "outputs": [
    {
     "data": {
      "image/png": "[encoded data removed]",
      "text/plain": [
       "<Figure size 432x288 with 2 Axes>"
      ]
     },
     "metadata": {
      "needs_background": "light"
     },
     "output_type": "display_data"
    }
   ],
   "source": [
    "import matplotlib.pyplot as plt\n",
    "import numpy\n",
    "from sklearn import metrics\n",
    "predicted = KNN_model.predict(X_test)\n",
    "confusion_matrix = metrics.confusion_matrix(y_test, predicted)\n",
    "\n",
    "cm_display = metrics.ConfusionMatrixDisplay(confusion_matrix = confusion_matrix, display_labels = [False, True])\n",
    "\n",
    "cm_display.plot()\n",
    "plt.show()"
   ]
  },
  {
   "cell_type": "markdown",
   "id": "558b919c",
   "metadata": {
    "papermill": {
     "duration": 0.136213,
     "end_time": "2022-10-17T18:56:27.864319",
     "exception": false,
     "start_time": "2022-10-17T18:56:27.728106",
     "status": "completed"
    },
    "tags": []
   },
   "source": [
    "# Decision Tree Classifier"
   ]
  },
  {
   "cell_type": "code",
   "execution_count": 70,
   "id": "feca0b1a",
   "metadata": {
    "execution": {
     "iopub.execute_input": "2022-10-17T18:56:28.192039Z",
     "iopub.status.busy": "2022-10-17T18:56:28.191263Z",
     "iopub.status.idle": "2022-10-17T18:56:42.942766Z",
     "shell.execute_reply": "2022-10-17T18:56:42.941768Z"
    },
    "papermill": {
     "duration": 14.944527,
     "end_time": "2022-10-17T18:56:42.945540",
     "exception": false,
     "start_time": "2022-10-17T18:56:28.001013",
     "status": "completed"
    },
    "tags": []
   },
   "outputs": [
    {
     "name": "stdout",
     "output_type": "stream",
     "text": [
      "Fitting 15 folds for each of 32 candidates, totalling 480 fits\n"
     ]
    },
    {
     "data": {
      "text/plain": [
       "GridSearchCV(cv=RepeatedStratifiedKFold(n_repeats=3, n_splits=5, random_state=999),\n",
       "             estimator=DecisionTreeClassifier(random_state=999),\n",
       "             param_grid={'criterion': ['gini', 'entropy'],\n",
       "                         'max_depth': [1, 2, 3, 4, 5, 6, 7, 8],\n",
       "                         'min_samples_split': [2, 3]},\n",
       "             scoring='accuracy', verbose=1)"
      ]
     },
     "execution_count": 70,
     "metadata": {},
     "output_type": "execute_result"
    }
   ],
   "source": [
    "from sklearn.tree import DecisionTreeClassifier\n",
    "from sklearn.model_selection import GridSearchCV\n",
    "\n",
    "df_classifier = DecisionTreeClassifier(random_state=999)\n",
    "\n",
    "params_DT = {'criterion': ['gini', 'entropy'],\n",
    "             'max_depth': [1, 2, 3, 4, 5, 6, 7, 8],\n",
    "             'min_samples_split': [2, 3]}\n",
    "\n",
    "gs_DT = GridSearchCV(estimator=df_classifier, \n",
    "                     param_grid=params_DT, \n",
    "                     cv=cv_method,\n",
    "                     verbose=1, \n",
    "                     scoring='accuracy')\n",
    "\n",
    "gs_DT.fit(X_train, y_train)"
   ]
  },
  {
   "cell_type": "code",
   "execution_count": 71,
   "id": "87accbf7",
   "metadata": {
    "execution": {
     "iopub.execute_input": "2022-10-17T18:56:43.224597Z",
     "iopub.status.busy": "2022-10-17T18:56:43.223905Z",
     "iopub.status.idle": "2022-10-17T18:56:43.229521Z",
     "shell.execute_reply": "2022-10-17T18:56:43.228796Z"
    },
    "papermill": {
     "duration": 0.146601,
     "end_time": "2022-10-17T18:56:43.231484",
     "exception": false,
     "start_time": "2022-10-17T18:56:43.084883",
     "status": "completed"
    },
    "tags": []
   },
   "outputs": [
    {
     "data": {
      "text/plain": [
       "{'criterion': 'gini', 'max_depth': 5, 'min_samples_split': 2}"
      ]
     },
     "execution_count": 71,
     "metadata": {},
     "output_type": "execute_result"
    }
   ],
   "source": [
    "gs_DT.best_params_"
   ]
  },
  {
   "cell_type": "code",
   "execution_count": 72,
   "id": "ec8d0604",
   "metadata": {
    "execution": {
     "iopub.execute_input": "2022-10-17T18:56:43.510820Z",
     "iopub.status.busy": "2022-10-17T18:56:43.510099Z",
     "iopub.status.idle": "2022-10-17T18:56:43.515654Z",
     "shell.execute_reply": "2022-10-17T18:56:43.514942Z"
    },
    "papermill": {
     "duration": 0.148439,
     "end_time": "2022-10-17T18:56:43.517689",
     "exception": false,
     "start_time": "2022-10-17T18:56:43.369250",
     "status": "completed"
    },
    "tags": []
   },
   "outputs": [
    {
     "data": {
      "text/plain": [
       "1.0"
      ]
     },
     "execution_count": 72,
     "metadata": {},
     "output_type": "execute_result"
    }
   ],
   "source": [
    "gs_DT.best_score_"
   ]
  },
  {
   "cell_type": "code",
   "execution_count": 73,
   "id": "93908d33",
   "metadata": {
    "execution": {
     "iopub.execute_input": "2022-10-17T18:56:43.794764Z",
     "iopub.status.busy": "2022-10-17T18:56:43.794051Z",
     "iopub.status.idle": "2022-10-17T18:56:43.802469Z",
     "shell.execute_reply": "2022-10-17T18:56:43.801660Z"
    },
    "papermill": {
     "duration": 0.149158,
     "end_time": "2022-10-17T18:56:43.804400",
     "exception": false,
     "start_time": "2022-10-17T18:56:43.655242",
     "status": "completed"
    },
    "tags": []
   },
   "outputs": [
    {
     "data": {
      "text/plain": [
       "Index(['criterion', 'max_depth', 'min_samples_split', 'test_score'], dtype='object')"
      ]
     },
     "execution_count": 73,
     "metadata": {},
     "output_type": "execute_result"
    }
   ],
   "source": [
    "results_DT = pd.DataFrame(gs_DT.cv_results_['params'])\n",
    "results_DT['test_score'] = gs_DT.cv_results_['mean_test_score']\n",
    "results_DT.columns"
   ]
  },
  {
   "cell_type": "code",
   "execution_count": 74,
   "id": "103c909d",
   "metadata": {
    "execution": {
     "iopub.execute_input": "2022-10-17T18:56:44.081024Z",
     "iopub.status.busy": "2022-10-17T18:56:44.080403Z",
     "iopub.status.idle": "2022-10-17T18:56:44.445793Z",
     "shell.execute_reply": "2022-10-17T18:56:44.444618Z"
    },
    "papermill": {
     "duration": 0.507316,
     "end_time": "2022-10-17T18:56:44.448723",
     "exception": false,
     "start_time": "2022-10-17T18:56:43.941407",
     "status": "completed"
    },
    "tags": []
   },
   "outputs": [
    {
     "data": {
      "image/png": "[encoded data removed]",
      "text/plain": [
       "<Figure size 432x288 with 1 Axes>"
      ]
     },
     "metadata": {
      "needs_background": "light"
     },
     "output_type": "display_data"
    }
   ],
   "source": [
    "for i in ['gini', 'entropy']:\n",
    "    temp = results_DT[results_DT['criterion'] == i]\n",
    "    temp_average = temp.groupby('max_depth').agg({'test_score': 'mean'})\n",
    "    plt.plot(temp_average, marker = '.', label = i)\n",
    "    \n",
    "    \n",
    "plt.legend()\n",
    "plt.xlabel('Max Depth')\n",
    "plt.ylabel(\"Mean CV Score\")\n",
    "plt.title(\"DT Performance Comparison\")\n",
    "plt.show()\n",
    "\n",
    "\n",
    "predicted=gs_DT.predict(X_test)\n",
    "accurac.append(accuracy_score(predicted, y_test))\n",
    "precision.append(precision_score(predicted, y_test))\n",
    "recall.append(recall_score(predicted, y_test))"
   ]
  },
  {
   "cell_type": "code",
   "execution_count": 75,
   "id": "dc15d529",
   "metadata": {
    "execution": {
     "iopub.execute_input": "2022-10-17T18:56:44.729312Z",
     "iopub.status.busy": "2022-10-17T18:56:44.728903Z",
     "iopub.status.idle": "2022-10-17T18:56:45.009335Z",
     "shell.execute_reply": "2022-10-17T18:56:45.007909Z"
    },
    "papermill": {
     "duration": 0.424493,
     "end_time": "2022-10-17T18:56:45.011750",
     "exception": false,
     "start_time": "2022-10-17T18:56:44.587257",
     "status": "completed"
    },
    "tags": []
   },
   "outputs": [
    {
     "name": "stdout",
     "output_type": "stream",
     "text": [
      "              precision    recall  f1-score   support\n",
      "\n",
      "           0       1.00      1.00      1.00     67836\n",
      "           1       1.00      1.00      1.00     64544\n",
      "\n",
      "    accuracy                           1.00    132380\n",
      "   macro avg       1.00      1.00      1.00    132380\n",
      "weighted avg       1.00      1.00      1.00    132380\n",
      "\n"
     ]
    }
   ],
   "source": [
    "print(classification_report(y_test, predicted))"
   ]
  },
  {
   "cell_type": "markdown",
   "id": "5a72b243",
   "metadata": {
    "papermill": {
     "duration": 0.189738,
     "end_time": "2022-10-17T18:56:45.341403",
     "exception": false,
     "start_time": "2022-10-17T18:56:45.151665",
     "status": "completed"
    },
    "tags": []
   },
   "source": [
    "# Naive Bayes"
   ]
  },
  {
   "cell_type": "code",
   "execution_count": 76,
   "id": "9a5d8996",
   "metadata": {
    "execution": {
     "iopub.execute_input": "2022-10-17T18:56:45.623255Z",
     "iopub.status.busy": "2022-10-17T18:56:45.621845Z",
     "iopub.status.idle": "2022-10-17T18:57:04.598315Z",
     "shell.execute_reply": "2022-10-17T18:57:04.597335Z"
    },
    "papermill": {
     "duration": 19.120008,
     "end_time": "2022-10-17T18:57:04.601219",
     "exception": false,
     "start_time": "2022-10-17T18:56:45.481211",
     "status": "completed"
    },
    "tags": []
   },
   "outputs": [
    {
     "name": "stdout",
     "output_type": "stream",
     "text": [
      "Fitting 15 folds for each of 100 candidates, totalling 1500 fits\n"
     ]
    }
   ],
   "source": [
    "from sklearn.naive_bayes import GaussianNB\n",
    "\n",
    "np.random.seed(999)\n",
    "\n",
    "nb_classifier = GaussianNB()\n",
    "\n",
    "params_NB = {'var_smoothing': np.logspace(0,-9, num=100)}\n",
    "\n",
    "gs_NB = GridSearchCV(estimator=nb_classifier, \n",
    "                     param_grid=params_NB, \n",
    "                     cv=cv_method,\n",
    "                     verbose=1, \n",
    "                     scoring='accuracy')\n",
    "\n",
    "gs_NB.fit(X_train, y_train)\n",
    "\n",
    "predicted=gs_NB.predict(X_test)\n",
    "accurac.append(accuracy_score(predicted, y_test))\n",
    "precision.append(precision_score(predicted, y_test))\n",
    "recall.append(recall_score(predicted, y_test))"
   ]
  },
  {
   "cell_type": "code",
   "execution_count": 77,
   "id": "5aad56ab",
   "metadata": {
    "execution": {
     "iopub.execute_input": "2022-10-17T18:57:04.880681Z",
     "iopub.status.busy": "2022-10-17T18:57:04.880302Z",
     "iopub.status.idle": "2022-10-17T18:57:05.160952Z",
     "shell.execute_reply": "2022-10-17T18:57:05.159828Z"
    },
    "papermill": {
     "duration": 0.423682,
     "end_time": "2022-10-17T18:57:05.163565",
     "exception": false,
     "start_time": "2022-10-17T18:57:04.739883",
     "status": "completed"
    },
    "tags": []
   },
   "outputs": [
    {
     "name": "stdout",
     "output_type": "stream",
     "text": [
      "              precision    recall  f1-score   support\n",
      "\n",
      "           0       0.97      0.88      0.92     67836\n",
      "           1       0.88      0.97      0.93     64544\n",
      "\n",
      "    accuracy                           0.92    132380\n",
      "   macro avg       0.93      0.93      0.92    132380\n",
      "weighted avg       0.93      0.92      0.92    132380\n",
      "\n"
     ]
    }
   ],
   "source": [
    "print(classification_report(y_test, predicted))"
   ]
  },
  {
   "cell_type": "markdown",
   "id": "37ea5464",
   "metadata": {
    "papermill": {
     "duration": 0.13915,
     "end_time": "2022-10-17T18:57:05.441708",
     "exception": false,
     "start_time": "2022-10-17T18:57:05.302558",
     "status": "completed"
    },
    "tags": []
   },
   "source": [
    "# Random Forest Classifier"
   ]
  },
  {
   "cell_type": "code",
   "execution_count": 78,
   "id": "64725a0c",
   "metadata": {
    "execution": {
     "iopub.execute_input": "2022-10-17T18:57:05.723763Z",
     "iopub.status.busy": "2022-10-17T18:57:05.722957Z",
     "iopub.status.idle": "2022-10-17T18:57:52.637494Z",
     "shell.execute_reply": "2022-10-17T18:57:52.635616Z"
    },
    "papermill": {
     "duration": 47.060891,
     "end_time": "2022-10-17T18:57:52.641097",
     "exception": false,
     "start_time": "2022-10-17T18:57:05.580206",
     "status": "completed"
    },
    "tags": []
   },
   "outputs": [
    {
     "name": "stdout",
     "output_type": "stream",
     "text": [
      "Fitting 15 folds for each of 24 candidates, totalling 360 fits\n",
      "[CV] END bootstrap=True, max_depth=4, max_features=auto, n_estimators=20; total time=   0.4s\n",
      "[CV] END bootstrap=True, max_depth=4, max_features=auto, n_estimators=20; total time=   0.4s\n",
      "[CV] END bootstrap=True, max_depth=4, max_features=auto, n_estimators=20; total time=   0.3s\n",
      "[CV] END bootstrap=True, max_depth=4, max_features=auto, n_estimators=20; total time=   0.4s\n",
      "[CV] END bootstrap=True, max_depth=4, max_features=auto, n_estimators=30; total time=   0.5s\n",
      "[CV] END bootstrap=True, max_depth=4, max_features=auto, n_estimators=30; total time=   0.5s\n",
      "[CV] END bootstrap=True, max_depth=4, max_features=auto, n_estimators=30; total time=   0.5s\n",
      "[CV] END bootstrap=True, max_depth=4, max_features=sqrt, n_estimators=20; total time=   0.4s\n",
      "[CV] END bootstrap=True, max_depth=4, max_features=sqrt, n_estimators=20; total time=   0.4s\n",
      "[CV] END bootstrap=True, max_depth=4, max_features=sqrt, n_estimators=20; total time=   0.4s\n",
      "[CV] END bootstrap=True, max_depth=4, max_features=sqrt, n_estimators=20; total time=   0.4s\n",
      "[CV] END bootstrap=True, max_depth=4, max_features=sqrt, n_estimators=20; total time=   0.3s\n",
      "[CV] END bootstrap=True, max_depth=4, max_features=sqrt, n_estimators=30; total time=   0.5s\n",
      "[CV] END bootstrap=True, max_depth=4, max_features=sqrt, n_estimators=30; total time=   0.5s\n",
      "[CV] END bootstrap=True, max_depth=4, max_features=sqrt, n_estimators=30; total time=   0.5s\n",
      "[CV] END bootstrap=True, max_depth=4, max_features=log2, n_estimators=20; total time=   0.4s\n",
      "[CV] END bootstrap=True, max_depth=4, max_features=log2, n_estimators=20; total time=   0.4s\n",
      "[CV] END bootstrap=True, max_depth=4, max_features=log2, n_estimators=20; total time=   0.4s\n",
      "[CV] END bootstrap=True, max_depth=4, max_features=log2, n_estimators=20; total time=   0.4s\n",
      "[CV] END bootstrap=True, max_depth=4, max_features=log2, n_estimators=30; total time=   0.5s\n",
      "[CV] END bootstrap=True, max_depth=4, max_features=log2, n_estimators=30; total time=   0.5s\n",
      "[CV] END bootstrap=True, max_depth=4, max_features=log2, n_estimators=30; total time=   0.6s\n",
      "[CV] END bootstrap=True, max_depth=4, max_features=log2, n_estimators=30; total time=   0.5s\n",
      "[CV] END bootstrap=True, max_depth=5, max_features=auto, n_estimators=20; total time=   0.4s\n",
      "[CV] END bootstrap=True, max_depth=5, max_features=auto, n_estimators=20; total time=   0.4s\n",
      "[CV] END bootstrap=True, max_depth=5, max_features=auto, n_estimators=20; total time=   0.4s\n",
      "[CV] END bootstrap=True, max_depth=5, max_features=auto, n_estimators=20; total time=   0.4s\n",
      "[CV] END bootstrap=True, max_depth=5, max_features=auto, n_estimators=30; total time=   0.5s\n",
      "[CV] END bootstrap=True, max_depth=5, max_features=auto, n_estimators=30; total time=   0.6s\n",
      "[CV] END bootstrap=True, max_depth=5, max_features=auto, n_estimators=30; total time=   0.6s\n",
      "[CV] END bootstrap=True, max_depth=5, max_features=sqrt, n_estimators=20; total time=   0.4s\n",
      "[CV] END bootstrap=True, max_depth=5, max_features=sqrt, n_estimators=20; total time=   0.4s\n",
      "[CV] END bootstrap=True, max_depth=5, max_features=sqrt, n_estimators=20; total time=   0.4s\n",
      "[CV] END bootstrap=True, max_depth=5, max_features=sqrt, n_estimators=20; total time=   0.4s\n",
      "[CV] END bootstrap=True, max_depth=5, max_features=sqrt, n_estimators=20; total time=   0.4s\n",
      "[CV] END bootstrap=True, max_depth=5, max_features=sqrt, n_estimators=30; total time=   0.6s\n",
      "[CV] END bootstrap=True, max_depth=5, max_features=sqrt, n_estimators=30; total time=   0.6s\n",
      "[CV] END bootstrap=True, max_depth=5, max_features=sqrt, n_estimators=30; total time=   0.6s\n",
      "[CV] END bootstrap=True, max_depth=5, max_features=sqrt, n_estimators=30; total time=   0.6s\n",
      "[CV] END bootstrap=True, max_depth=5, max_features=log2, n_estimators=20; total time=   0.4s\n",
      "[CV] END bootstrap=True, max_depth=5, max_features=log2, n_estimators=20; total time=   0.4s\n",
      "[CV] END bootstrap=True, max_depth=5, max_features=log2, n_estimators=20; total time=   0.4s\n",
      "[CV] END bootstrap=True, max_depth=5, max_features=log2, n_estimators=30; total time=   0.6s\n",
      "[CV] END bootstrap=True, max_depth=5, max_features=log2, n_estimators=30; total time=   0.5s\n",
      "[CV] END bootstrap=True, max_depth=5, max_features=log2, n_estimators=30; total time=   0.6s\n",
      "[CV] END bootstrap=True, max_depth=5, max_features=log2, n_estimators=30; total time=   0.6s\n",
      "[CV] END bootstrap=True, max_depth=6, max_features=auto, n_estimators=20; total time=   0.4s\n",
      "[CV] END bootstrap=True, max_depth=6, max_features=auto, n_estimators=20; total time=   0.4s\n",
      "[CV] END bootstrap=True, max_depth=6, max_features=auto, n_estimators=20; total time=   0.4s\n",
      "[CV] END bootstrap=True, max_depth=6, max_features=auto, n_estimators=20; total time=   0.4s\n",
      "[CV] END bootstrap=True, max_depth=6, max_features=auto, n_estimators=30; total time=   0.6s\n",
      "[CV] END bootstrap=True, max_depth=6, max_features=auto, n_estimators=30; total time=   0.6s\n",
      "[CV] END bootstrap=True, max_depth=6, max_features=auto, n_estimators=30; total time=   0.6s\n",
      "[CV] END bootstrap=True, max_depth=6, max_features=sqrt, n_estimators=20; total time=   0.5s\n",
      "[CV] END bootstrap=True, max_depth=6, max_features=sqrt, n_estimators=20; total time=   0.5s\n",
      "[CV] END bootstrap=True, max_depth=6, max_features=sqrt, n_estimators=20; total time=   0.6s\n",
      "[CV] END bootstrap=True, max_depth=6, max_features=sqrt, n_estimators=20; total time=   0.4s\n",
      "[CV] END bootstrap=True, max_depth=6, max_features=sqrt, n_estimators=30; total time=   0.6s\n",
      "[CV] END bootstrap=True, max_depth=6, max_features=sqrt, n_estimators=30; total time=   0.6s\n",
      "[CV] END bootstrap=True, max_depth=6, max_features=sqrt, n_estimators=30; total time=   0.6s\n",
      "[CV] END bootstrap=True, max_depth=6, max_features=sqrt, n_estimators=30; total time=   0.6s\n",
      "[CV] END bootstrap=True, max_depth=6, max_features=log2, n_estimators=20; total time=   0.4s\n",
      "[CV] END bootstrap=True, max_depth=6, max_features=log2, n_estimators=20; total time=   0.4s\n",
      "[CV] END bootstrap=True, max_depth=6, max_features=log2, n_estimators=20; total time=   0.4s\n",
      "[CV] END bootstrap=True, max_depth=6, max_features=log2, n_estimators=20; total time=   0.4s\n",
      "[CV] END bootstrap=True, max_depth=6, max_features=log2, n_estimators=30; total time=   0.6s\n",
      "[CV] END bootstrap=True, max_depth=6, max_features=log2, n_estimators=30; total time=   0.6s\n",
      "[CV] END bootstrap=True, max_depth=6, max_features=log2, n_estimators=30; total time=   0.6s\n",
      "[CV] END bootstrap=True, max_depth=10, max_features=auto, n_estimators=20; total time=   0.4s\n",
      "[CV] END bootstrap=True, max_depth=10, max_features=auto, n_estimators=20; total time=   0.4s\n",
      "[CV] END bootstrap=True, max_depth=10, max_features=auto, n_estimators=20; total time=   0.4s\n",
      "[CV] END bootstrap=True, max_depth=10, max_features=auto, n_estimators=20; total time=   0.4s\n",
      "[CV] END bootstrap=True, max_depth=10, max_features=auto, n_estimators=30; total time=   0.6s\n",
      "[CV] END bootstrap=True, max_depth=10, max_features=auto, n_estimators=30; total time=   0.6s\n",
      "[CV] END bootstrap=True, max_depth=10, max_features=auto, n_estimators=30; total time=   0.6s\n",
      "[CV] END bootstrap=True, max_depth=10, max_features=auto, n_estimators=30; total time=   0.6s\n",
      "[CV] END bootstrap=True, max_depth=10, max_features=sqrt, n_estimators=20; total time=   0.4s\n",
      "[CV] END bootstrap=True, max_depth=10, max_features=sqrt, n_estimators=20; total time=   0.4s\n",
      "[CV] END bootstrap=True, max_depth=10, max_features=sqrt, n_estimators=20; total time=   0.4s\n",
      "[CV] END bootstrap=True, max_depth=10, max_features=sqrt, n_estimators=20; total time=   0.4s\n",
      "[CV] END bootstrap=True, max_depth=10, max_features=sqrt, n_estimators=30; total time=   0.6s\n",
      "[CV] END bootstrap=True, max_depth=10, max_features=sqrt, n_estimators=30; total time=   0.6s\n",
      "[CV] END bootstrap=True, max_depth=10, max_features=sqrt, n_estimators=30; total time=   0.6s\n",
      "[CV] END bootstrap=True, max_depth=10, max_features=sqrt, n_estimators=30; total time=   0.6s\n",
      "[CV] END bootstrap=True, max_depth=10, max_features=log2, n_estimators=20; total time=   0.4s\n",
      "[CV] END bootstrap=True, max_depth=10, max_features=log2, n_estimators=20; total time=   0.4s\n",
      "[CV] END bootstrap=True, max_depth=10, max_features=log2, n_estimators=20; total time=   0.4s\n",
      "[CV] END bootstrap=True, max_depth=10, max_features=log2, n_estimators=30; total time=   0.6s[CV] END bootstrap=True, max_depth=4, max_features=auto, n_estimators=20; total time=   0.4s\n",
      "[CV] END bootstrap=True, max_depth=4, max_features=auto, n_estimators=20; total time=   0.4s\n",
      "[CV] END bootstrap=True, max_depth=4, max_features=auto, n_estimators=20; total time=   0.4s\n",
      "[CV] END bootstrap=True, max_depth=4, max_features=auto, n_estimators=20; total time=   0.4s\n",
      "[CV] END bootstrap=True, max_depth=4, max_features=auto, n_estimators=30; total time=   0.6s\n",
      "[CV] END bootstrap=True, max_depth=4, max_features=auto, n_estimators=30; total time=   0.5s\n",
      "[CV] END bootstrap=True, max_depth=4, max_features=auto, n_estimators=30; total time=   0.5s\n",
      "[CV] END bootstrap=True, max_depth=4, max_features=auto, n_estimators=30; total time=   0.5s\n",
      "[CV] END bootstrap=True, max_depth=4, max_features=sqrt, n_estimators=20; total time=   0.4s\n",
      "[CV] END bootstrap=True, max_depth=4, max_features=sqrt, n_estimators=20; total time=   0.4s\n",
      "[CV] END bootstrap=True, max_depth=4, max_features=sqrt, n_estimators=20; total time=   0.4s\n",
      "[CV] END bootstrap=True, max_depth=4, max_features=sqrt, n_estimators=30; total time=   0.5s\n",
      "[CV] END bootstrap=True, max_depth=4, max_features=sqrt, n_estimators=30; total time=   0.5s\n",
      "[CV] END bootstrap=True, max_depth=4, max_features=sqrt, n_estimators=30; total time=   0.5s\n",
      "[CV] END bootstrap=True, max_depth=4, max_features=sqrt, n_estimators=30; total time=   0.5s\n",
      "[CV] END bootstrap=True, max_depth=4, max_features=log2, n_estimators=20; total time=   0.4s\n",
      "[CV] END bootstrap=True, max_depth=4, max_features=log2, n_estimators=20; total time=   0.4s\n",
      "[CV] END bootstrap=True, max_depth=4, max_features=log2, n_estimators=20; total time=   0.4s\n",
      "[CV] END bootstrap=True, max_depth=4, max_features=log2, n_estimators=20; total time=   0.4s\n",
      "[CV] END bootstrap=True, max_depth=4, max_features=log2, n_estimators=30; total time=   0.5s\n",
      "[CV] END bootstrap=True, max_depth=4, max_features=log2, n_estimators=30; total time=   0.6s\n",
      "[CV] END bootstrap=True, max_depth=4, max_features=log2, n_estimators=30; total time=   0.5s\n",
      "[CV] END bootstrap=True, max_depth=5, max_features=auto, n_estimators=20; total time=   0.4s\n",
      "[CV] END bootstrap=True, max_depth=5, max_features=auto, n_estimators=20; total time=   0.4s\n",
      "[CV] END bootstrap=True, max_depth=5, max_features=auto, n_estimators=20; total time=   0.4s\n",
      "[CV] END bootstrap=True, max_depth=5, max_features=auto, n_estimators=20; total time=   0.4s\n",
      "[CV] END bootstrap=True, max_depth=5, max_features=auto, n_estimators=30; total time=   0.6s\n",
      "[CV] END bootstrap=True, max_depth=5, max_features=auto, n_estimators=30; total time=   0.6s\n",
      "[CV] END bootstrap=True, max_depth=5, max_features=auto, n_estimators=30; total time=   0.6s\n",
      "[CV] END bootstrap=True, max_depth=5, max_features=auto, n_estimators=30; total time=   0.6s\n",
      "[CV] END bootstrap=True, max_depth=5, max_features=sqrt, n_estimators=20; total time=   0.4s\n",
      "[CV] END bootstrap=True, max_depth=5, max_features=sqrt, n_estimators=20; total time=   0.4s\n",
      "[CV] END bootstrap=True, max_depth=5, max_features=sqrt, n_estimators=20; total time=   0.4s\n",
      "[CV] END bootstrap=True, max_depth=5, max_features=sqrt, n_estimators=20; total time=   0.4s\n",
      "[CV] END bootstrap=True, max_depth=5, max_features=sqrt, n_estimators=30; total time=   0.6s\n",
      "[CV] END bootstrap=True, max_depth=5, max_features=sqrt, n_estimators=30; total time=   0.6s\n",
      "[CV] END bootstrap=True, max_depth=5, max_features=sqrt, n_estimators=30; total time=   0.6s\n",
      "[CV] END bootstrap=True, max_depth=5, max_features=log2, n_estimators=20; total time=   0.4s\n",
      "[CV] END bootstrap=True, max_depth=5, max_features=log2, n_estimators=20; total time=   0.4s\n",
      "[CV] END bootstrap=True, max_depth=5, max_features=log2, n_estimators=20; total time=   0.4s\n",
      "[CV] END bootstrap=True, max_depth=5, max_features=log2, n_estimators=20; total time=   0.4s\n",
      "[CV] END bootstrap=True, max_depth=5, max_features=log2, n_estimators=30; total time=   0.6s\n",
      "[CV] END bootstrap=True, max_depth=5, max_features=log2, n_estimators=30; total time=   0.5s\n",
      "[CV] END bootstrap=True, max_depth=5, max_features=log2, n_estimators=30; total time=   0.6s\n",
      "[CV] END bootstrap=True, max_depth=5, max_features=log2, n_estimators=30; total time=   0.6s\n",
      "[CV] END bootstrap=True, max_depth=6, max_features=auto, n_estimators=20; total time=   0.4s\n",
      "[CV] END bootstrap=True, max_depth=6, max_features=auto, n_estimators=20; total time=   0.4s\n",
      "[CV] END bootstrap=True, max_depth=6, max_features=auto, n_estimators=20; total time=   0.4s\n",
      "[CV] END bootstrap=True, max_depth=6, max_features=auto, n_estimators=20; total time=   0.4s\n",
      "[CV] END bootstrap=True, max_depth=6, max_features=auto, n_estimators=30; total time=   0.6s\n",
      "[CV] END bootstrap=True, max_depth=6, max_features=auto, n_estimators=30; total time=   0.6s\n",
      "[CV] END bootstrap=True, max_depth=6, max_features=auto, n_estimators=30; total time=   0.6s\n",
      "[CV] END bootstrap=True, max_depth=6, max_features=auto, n_estimators=30; total time=   0.6s\n",
      "[CV] END bootstrap=True, max_depth=6, max_features=sqrt, n_estimators=20; total time=   0.5s\n",
      "[CV] END bootstrap=True, max_depth=6, max_features=sqrt, n_estimators=20; total time=   0.4s\n",
      "[CV] END bootstrap=True, max_depth=6, max_features=sqrt, n_estimators=20; total time=   0.4s\n",
      "[CV] END bootstrap=True, max_depth=6, max_features=sqrt, n_estimators=20; total time=   0.4s\n",
      "[CV] END bootstrap=True, max_depth=6, max_features=sqrt, n_estimators=30; total time=   0.6s\n",
      "[CV] END bootstrap=True, max_depth=6, max_features=sqrt, n_estimators=30; total time=   0.6s\n",
      "[CV] END bootstrap=True, max_depth=6, max_features=sqrt, n_estimators=30; total time=   0.6s\n",
      "[CV] END bootstrap=True, max_depth=6, max_features=sqrt, n_estimators=30; total time=   0.6s\n",
      "[CV] END bootstrap=True, max_depth=6, max_features=log2, n_estimators=20; total time=   0.4s\n",
      "[CV] END bootstrap=True, max_depth=6, max_features=log2, n_estimators=20; total time=   0.4s\n",
      "[CV] END bootstrap=True, max_depth=6, max_features=log2, n_estimators=20; total time=   0.4s\n",
      "[CV] END bootstrap=True, max_depth=6, max_features=log2, n_estimators=30; total time=   0.6s\n",
      "[CV] END bootstrap=True, max_depth=6, max_features=log2, n_estimators=30; total time=   0.6s\n",
      "[CV] END bootstrap=True, max_depth=6, max_features=log2, n_estimators=30; total time=   0.6s\n",
      "[CV] END bootstrap=True, max_depth=6, max_features=log2, n_estimators=30; total time=   0.6s\n",
      "[CV] END bootstrap=True, max_depth=10, max_features=auto, n_estimators=20; total time=   0.4s\n",
      "[CV] END bootstrap=True, max_depth=10, max_features=auto, n_estimators=20; total time=   0.4s\n",
      "[CV] END bootstrap=True, max_depth=10, max_features=auto, n_estimators=20; total time=   0.4s\n",
      "[CV] END bootstrap=True, max_depth=10, max_features=auto, n_estimators=20; total time=   0.5s\n",
      "[CV] END bootstrap=True, max_depth=10, max_features=auto, n_estimators=30; total time=   0.6s\n",
      "[CV] END bootstrap=True, max_depth=10, max_features=auto, n_estimators=30; total time=   0.6s\n",
      "[CV] END bootstrap=True, max_depth=10, max_features=auto, n_estimators=30; total time=   0.6s\n",
      "[CV] END bootstrap=True, max_depth=10, max_features=sqrt, n_estimators=20; total time=   0.4s\n",
      "[CV] END bootstrap=True, max_depth=10, max_features=sqrt, n_estimators=20; total time=   0.4s\n",
      "[CV] END bootstrap=True, max_depth=10, max_features=sqrt, n_estimators=20; total time=   0.4s\n",
      "[CV] END bootstrap=True, max_depth=10, max_features=sqrt, n_estimators=20; total time=   0.4s\n",
      "[CV] END bootstrap=True, max_depth=10, max_features=sqrt, n_estimators=30; total time=   0.6s\n",
      "[CV] END bootstrap=True, max_depth=10, max_features=sqrt, n_estimators=30; total time=   0.6s\n",
      "[CV] END bootstrap=True, max_depth=10, max_features=sqrt, n_estimators=30; total time=   0.6s\n",
      "[CV] END bootstrap=True, max_depth=10, max_features=sqrt, n_estimators=30; total time=   0.6s\n",
      "[CV] END bootstrap=True, max_depth=10, max_features=log2, n_estimators=20; total time=   0.4s\n",
      "[CV] END bootstrap=True, max_depth=10, max_features=log2, n_estimators=20; total time=   0.4s\n",
      "[CV] END bootstrap=True, max_depth=10, max_features=log2, n_estimators=20; total time=   0.4s\n",
      "[CV] END bootstrap=True, max_depth=10, max_features=log2, n_estimators=20; total time=   0.4s\n",
      "[CV] END bootstrap=True, max_depth=10, max_features=log2, n_estimators=30; total time=   0.6s[CV] END bootstrap=True, max_depth=4, max_features=auto, n_estimators=20; total time=   0.4s\n",
      "[CV] END bootstrap=True, max_depth=4, max_features=auto, n_estimators=20; total time=   0.4s\n",
      "[CV] END bootstrap=True, max_depth=4, max_features=auto, n_estimators=20; total time=   0.4s\n",
      "[CV] END bootstrap=True, max_depth=4, max_features=auto, n_estimators=20; total time=   0.4s\n",
      "[CV] END bootstrap=True, max_depth=4, max_features=auto, n_estimators=30; total time=   0.5s\n",
      "[CV] END bootstrap=True, max_depth=4, max_features=auto, n_estimators=30; total time=   0.5s\n",
      "[CV] END bootstrap=True, max_depth=4, max_features=auto, n_estimators=30; total time=   0.5s\n",
      "[CV] END bootstrap=True, max_depth=4, max_features=auto, n_estimators=30; total time=   0.5s\n",
      "[CV] END bootstrap=True, max_depth=4, max_features=sqrt, n_estimators=20; total time=   0.3s\n",
      "[CV] END bootstrap=True, max_depth=4, max_features=sqrt, n_estimators=20; total time=   0.3s\n",
      "[CV] END bootstrap=True, max_depth=4, max_features=sqrt, n_estimators=20; total time=   0.4s\n",
      "[CV] END bootstrap=True, max_depth=4, max_features=sqrt, n_estimators=30; total time=   0.5s\n",
      "[CV] END bootstrap=True, max_depth=4, max_features=sqrt, n_estimators=30; total time=   0.5s\n",
      "[CV] END bootstrap=True, max_depth=4, max_features=sqrt, n_estimators=30; total time=   0.5s\n",
      "[CV] END bootstrap=True, max_depth=4, max_features=sqrt, n_estimators=30; total time=   0.5s\n",
      "[CV] END bootstrap=True, max_depth=4, max_features=log2, n_estimators=20; total time=   0.4s\n",
      "[CV] END bootstrap=True, max_depth=4, max_features=log2, n_estimators=20; total time=   0.4s\n",
      "[CV] END bootstrap=True, max_depth=4, max_features=log2, n_estimators=20; total time=   0.3s\n",
      "[CV] END bootstrap=True, max_depth=4, max_features=log2, n_estimators=20; total time=   0.4s\n",
      "[CV] END bootstrap=True, max_depth=4, max_features=log2, n_estimators=30; total time=   0.6s\n",
      "[CV] END bootstrap=True, max_depth=4, max_features=log2, n_estimators=30; total time=   0.6s\n",
      "[CV] END bootstrap=True, max_depth=4, max_features=log2, n_estimators=30; total time=   0.5s\n",
      "[CV] END bootstrap=True, max_depth=4, max_features=log2, n_estimators=30; total time=   0.5s\n",
      "[CV] END bootstrap=True, max_depth=5, max_features=auto, n_estimators=20; total time=   0.4s\n",
      "[CV] END bootstrap=True, max_depth=5, max_features=auto, n_estimators=20; total time=   0.4s\n",
      "[CV] END bootstrap=True, max_depth=5, max_features=auto, n_estimators=20; total time=   0.4s\n",
      "[CV] END bootstrap=True, max_depth=5, max_features=auto, n_estimators=30; total time=   0.6s\n",
      "[CV] END bootstrap=True, max_depth=5, max_features=auto, n_estimators=30; total time=   0.6s\n",
      "[CV] END bootstrap=True, max_depth=5, max_features=auto, n_estimators=30; total time=   0.6s\n",
      "[CV] END bootstrap=True, max_depth=5, max_features=auto, n_estimators=30; total time=   0.6s\n",
      "[CV] END bootstrap=True, max_depth=5, max_features=sqrt, n_estimators=20; total time=   0.4s\n",
      "[CV] END bootstrap=True, max_depth=5, max_features=sqrt, n_estimators=20; total time=   0.4s\n",
      "[CV] END bootstrap=True, max_depth=5, max_features=sqrt, n_estimators=20; total time=   0.4s\n",
      "[CV] END bootstrap=True, max_depth=5, max_features=sqrt, n_estimators=30; total time=   0.6s\n",
      "[CV] END bootstrap=True, max_depth=5, max_features=sqrt, n_estimators=30; total time=   0.5s\n",
      "[CV] END bootstrap=True, max_depth=5, max_features=sqrt, n_estimators=30; total time=   0.5s\n",
      "[CV] END bootstrap=True, max_depth=5, max_features=sqrt, n_estimators=30; total time=   0.6s\n",
      "[CV] END bootstrap=True, max_depth=5, max_features=log2, n_estimators=20; total time=   0.4s\n",
      "[CV] END bootstrap=True, max_depth=5, max_features=log2, n_estimators=20; total time=   0.4s\n",
      "[CV] END bootstrap=True, max_depth=5, max_features=log2, n_estimators=20; total time=   0.4s\n",
      "[CV] END bootstrap=True, max_depth=5, max_features=log2, n_estimators=20; total time=   0.4s\n",
      "[CV] END bootstrap=True, max_depth=5, max_features=log2, n_estimators=30; total time=   0.5s\n",
      "[CV] END bootstrap=True, max_depth=5, max_features=log2, n_estimators=30; total time=   0.6s\n",
      "[CV] END bootstrap=True, max_depth=5, max_features=log2, n_estimators=30; total time=   0.6s\n",
      "[CV] END bootstrap=True, max_depth=6, max_features=auto, n_estimators=20; total time=   0.4s\n",
      "[CV] END bootstrap=True, max_depth=6, max_features=auto, n_estimators=20; total time=   0.4s\n",
      "[CV] END bootstrap=True, max_depth=6, max_features=auto, n_estimators=20; total time=   0.4s\n",
      "[CV] END bootstrap=True, max_depth=6, max_features=auto, n_estimators=20; total time=   0.4s\n",
      "[CV] END bootstrap=True, max_depth=6, max_features=auto, n_estimators=30; total time=   0.6s\n",
      "[CV] END bootstrap=True, max_depth=6, max_features=auto, n_estimators=30; total time=   0.6s\n",
      "[CV] END bootstrap=True, max_depth=6, max_features=auto, n_estimators=30; total time=   0.6s\n",
      "[CV] END bootstrap=True, max_depth=6, max_features=auto, n_estimators=30; total time=   0.6s\n",
      "[CV] END bootstrap=True, max_depth=6, max_features=sqrt, n_estimators=20; total time=   0.6s\n",
      "[CV] END bootstrap=True, max_depth=6, max_features=sqrt, n_estimators=20; total time=   0.5s\n",
      "[CV] END bootstrap=True, max_depth=6, max_features=sqrt, n_estimators=20; total time=   0.5s\n",
      "[CV] END bootstrap=True, max_depth=6, max_features=sqrt, n_estimators=20; total time=   0.4s\n",
      "[CV] END bootstrap=True, max_depth=6, max_features=sqrt, n_estimators=30; total time=   0.6s\n",
      "[CV] END bootstrap=True, max_depth=6, max_features=sqrt, n_estimators=30; total time=   0.6s\n",
      "[CV] END bootstrap=True, max_depth=6, max_features=sqrt, n_estimators=30; total time=   0.6s\n",
      "[CV] END bootstrap=True, max_depth=6, max_features=log2, n_estimators=20; total time=   0.4s\n",
      "[CV] END bootstrap=True, max_depth=6, max_features=log2, n_estimators=20; total time=   0.4s\n",
      "[CV] END bootstrap=True, max_depth=6, max_features=log2, n_estimators=20; total time=   0.4s\n",
      "[CV] END bootstrap=True, max_depth=6, max_features=log2, n_estimators=20; total time=   0.4s\n",
      "[CV] END bootstrap=True, max_depth=6, max_features=log2, n_estimators=20; total time=   0.4s\n",
      "[CV] END bootstrap=True, max_depth=6, max_features=log2, n_estimators=30; total time=   0.6s\n",
      "[CV] END bootstrap=True, max_depth=6, max_features=log2, n_estimators=30; total time=   0.6s\n",
      "[CV] END bootstrap=True, max_depth=6, max_features=log2, n_estimators=30; total time=   0.6s\n",
      "[CV] END bootstrap=True, max_depth=6, max_features=log2, n_estimators=30; total time=   0.6s\n",
      "[CV] END bootstrap=True, max_depth=10, max_features=auto, n_estimators=20; total time=   0.4s\n",
      "[CV] END bootstrap=True, max_depth=10, max_features=auto, n_estimators=20; total time=   0.4s\n",
      "[CV] END bootstrap=True, max_depth=10, max_features=auto, n_estimators=20; total time=   0.4s\n",
      "[CV] END bootstrap=True, max_depth=10, max_features=auto, n_estimators=30; total time=   0.7s\n",
      "[CV] END bootstrap=True, max_depth=10, max_features=auto, n_estimators=30; total time=   0.6s\n",
      "[CV] END bootstrap=True, max_depth=10, max_features=auto, n_estimators=30; total time=   0.6s\n",
      "[CV] END bootstrap=True, max_depth=10, max_features=auto, n_estimators=30; total time=   0.6s\n",
      "[CV] END bootstrap=True, max_depth=10, max_features=sqrt, n_estimators=20; total time=   0.4s\n",
      "[CV] END bootstrap=True, max_depth=10, max_features=sqrt, n_estimators=20; total time=   0.4s\n",
      "[CV] END bootstrap=True, max_depth=10, max_features=sqrt, n_estimators=20; total time=   0.4s\n",
      "[CV] END bootstrap=True, max_depth=10, max_features=sqrt, n_estimators=20; total time=   0.4s\n",
      "[CV] END bootstrap=True, max_depth=10, max_features=sqrt, n_estimators=30; total time=   0.6s\n",
      "[CV] END bootstrap=True, max_depth=10, max_features=sqrt, n_estimators=30; total time=   0.6s\n",
      "[CV] END bootstrap=True, max_depth=10, max_features=sqrt, n_estimators=30; total time=   0.6s\n",
      "[CV] END bootstrap=True, max_depth=10, max_features=log2, n_estimators=20; total time=   0.4s\n",
      "[CV] END bootstrap=True, max_depth=10, max_features=log2, n_estimators=20; total time=   0.4s\n",
      "[CV] END bootstrap=True, max_depth=10, max_features=log2, n_estimators=20; total time=   0.4s\n",
      "[CV] END bootstrap=True, max_depth=10, max_features=log2, n_estimators=20; total time=   0.4s\n",
      "[CV] END bootstrap=True, max_depth=10, max_features=log2, n_estimators=30; total time=   0.6s\n",
      "[CV] END bootstrap=True, max_depth=10, max_features=log2, n_estimators=30; total time=   0.7s[CV] END bootstrap=True, max_depth=4, max_features=auto, n_estimators=20; total time=   0.4s\n",
      "[CV] END bootstrap=True, max_depth=4, max_features=auto, n_estimators=20; total time=   0.4s\n",
      "[CV] END bootstrap=True, max_depth=4, max_features=auto, n_estimators=20; total time=   0.4s\n",
      "[CV] END bootstrap=True, max_depth=4, max_features=auto, n_estimators=30; total time=   0.5s\n",
      "[CV] END bootstrap=True, max_depth=4, max_features=auto, n_estimators=30; total time=   0.5s\n",
      "[CV] END bootstrap=True, max_depth=4, max_features=auto, n_estimators=30; total time=   0.5s\n",
      "[CV] END bootstrap=True, max_depth=4, max_features=auto, n_estimators=30; total time=   0.5s\n",
      "[CV] END bootstrap=True, max_depth=4, max_features=sqrt, n_estimators=20; total time=   0.3s\n",
      "[CV] END bootstrap=True, max_depth=4, max_features=sqrt, n_estimators=20; total time=   0.3s\n",
      "[CV] END bootstrap=True, max_depth=4, max_features=sqrt, n_estimators=20; total time=   0.3s\n",
      "[CV] END bootstrap=True, max_depth=4, max_features=sqrt, n_estimators=20; total time=   0.4s\n",
      "[CV] END bootstrap=True, max_depth=4, max_features=sqrt, n_estimators=30; total time=   0.5s\n",
      "[CV] END bootstrap=True, max_depth=4, max_features=sqrt, n_estimators=30; total time=   0.5s\n",
      "[CV] END bootstrap=True, max_depth=4, max_features=sqrt, n_estimators=30; total time=   0.5s\n",
      "[CV] END bootstrap=True, max_depth=4, max_features=sqrt, n_estimators=30; total time=   0.5s\n",
      "[CV] END bootstrap=True, max_depth=4, max_features=log2, n_estimators=20; total time=   0.4s\n",
      "[CV] END bootstrap=True, max_depth=4, max_features=log2, n_estimators=20; total time=   0.4s\n",
      "[CV] END bootstrap=True, max_depth=4, max_features=log2, n_estimators=20; total time=   0.4s\n",
      "[CV] END bootstrap=True, max_depth=4, max_features=log2, n_estimators=30; total time=   0.5s\n",
      "[CV] END bootstrap=True, max_depth=4, max_features=log2, n_estimators=30; total time=   0.5s\n",
      "[CV] END bootstrap=True, max_depth=4, max_features=log2, n_estimators=30; total time=   0.5s\n",
      "[CV] END bootstrap=True, max_depth=4, max_features=log2, n_estimators=30; total time=   0.6s\n",
      "[CV] END bootstrap=True, max_depth=5, max_features=auto, n_estimators=20; total time=   0.4s\n",
      "[CV] END bootstrap=True, max_depth=5, max_features=auto, n_estimators=20; total time=   0.4s\n",
      "[CV] END bootstrap=True, max_depth=5, max_features=auto, n_estimators=20; total time=   0.4s\n",
      "[CV] END bootstrap=True, max_depth=5, max_features=auto, n_estimators=20; total time=   0.4s\n",
      "[CV] END bootstrap=True, max_depth=5, max_features=auto, n_estimators=30; total time=   0.6s\n",
      "[CV] END bootstrap=True, max_depth=5, max_features=auto, n_estimators=30; total time=   0.6s\n",
      "[CV] END bootstrap=True, max_depth=5, max_features=auto, n_estimators=30; total time=   0.6s\n",
      "[CV] END bootstrap=True, max_depth=5, max_features=auto, n_estimators=30; total time=   0.6s\n",
      "[CV] END bootstrap=True, max_depth=5, max_features=sqrt, n_estimators=20; total time=   0.4s\n",
      "[CV] END bootstrap=True, max_depth=5, max_features=sqrt, n_estimators=20; total time=   0.4s\n",
      "[CV] END bootstrap=True, max_depth=5, max_features=sqrt, n_estimators=20; total time=   0.4s\n",
      "[CV] END bootstrap=True, max_depth=5, max_features=sqrt, n_estimators=30; total time=   0.6s\n",
      "[CV] END bootstrap=True, max_depth=5, max_features=sqrt, n_estimators=30; total time=   0.6s\n",
      "[CV] END bootstrap=True, max_depth=5, max_features=sqrt, n_estimators=30; total time=   0.5s\n",
      "[CV] END bootstrap=True, max_depth=5, max_features=sqrt, n_estimators=30; total time=   0.6s\n",
      "[CV] END bootstrap=True, max_depth=5, max_features=log2, n_estimators=20; total time=   0.4s\n",
      "[CV] END bootstrap=True, max_depth=5, max_features=log2, n_estimators=20; total time=   0.4s\n",
      "[CV] END bootstrap=True, max_depth=5, max_features=log2, n_estimators=20; total time=   0.4s\n",
      "[CV] END bootstrap=True, max_depth=5, max_features=log2, n_estimators=20; total time=   0.4s\n",
      "[CV] END bootstrap=True, max_depth=5, max_features=log2, n_estimators=30; total time=   0.6s\n",
      "[CV] END bootstrap=True, max_depth=5, max_features=log2, n_estimators=30; total time=   0.6s\n",
      "[CV] END bootstrap=True, max_depth=5, max_features=log2, n_estimators=30; total time=   0.6s\n",
      "[CV] END bootstrap=True, max_depth=5, max_features=log2, n_estimators=30; total time=   0.6s\n",
      "[CV] END bootstrap=True, max_depth=6, max_features=auto, n_estimators=20; total time=   0.4s\n",
      "[CV] END bootstrap=True, max_depth=6, max_features=auto, n_estimators=20; total time=   0.4s\n",
      "[CV] END bootstrap=True, max_depth=6, max_features=auto, n_estimators=20; total time=   0.4s\n",
      "[CV] END bootstrap=True, max_depth=6, max_features=auto, n_estimators=30; total time=   0.6s\n",
      "[CV] END bootstrap=True, max_depth=6, max_features=auto, n_estimators=30; total time=   0.7s\n",
      "[CV] END bootstrap=True, max_depth=6, max_features=auto, n_estimators=30; total time=   0.6s\n",
      "[CV] END bootstrap=True, max_depth=6, max_features=auto, n_estimators=30; total time=   0.7s\n",
      "[CV] END bootstrap=True, max_depth=6, max_features=sqrt, n_estimators=20; total time=   0.5s\n",
      "[CV] END bootstrap=True, max_depth=6, max_features=sqrt, n_estimators=20; total time=   0.7s\n",
      "[CV] END bootstrap=True, max_depth=6, max_features=sqrt, n_estimators=20; total time=   0.4s\n",
      "[CV] END bootstrap=True, max_depth=6, max_features=sqrt, n_estimators=30; total time=   0.6s\n",
      "[CV] END bootstrap=True, max_depth=6, max_features=sqrt, n_estimators=30; total time=   0.6s\n",
      "[CV] END bootstrap=True, max_depth=6, max_features=sqrt, n_estimators=30; total time=   0.6s\n",
      "[CV] END bootstrap=True, max_depth=6, max_features=sqrt, n_estimators=30; total time=   0.6s\n",
      "[CV] END bootstrap=True, max_depth=6, max_features=log2, n_estimators=20; total time=   0.4s\n",
      "[CV] END bootstrap=True, max_depth=6, max_features=log2, n_estimators=20; total time=   0.4s\n",
      "[CV] END bootstrap=True, max_depth=6, max_features=log2, n_estimators=20; total time=   0.4s\n",
      "[CV] END bootstrap=True, max_depth=6, max_features=log2, n_estimators=30; total time=   0.6s\n",
      "[CV] END bootstrap=True, max_depth=6, max_features=log2, n_estimators=30; total time=   0.6s\n",
      "[CV] END bootstrap=True, max_depth=6, max_features=log2, n_estimators=30; total time=   0.6s\n",
      "[CV] END bootstrap=True, max_depth=6, max_features=log2, n_estimators=30; total time=   0.6s\n",
      "[CV] END bootstrap=True, max_depth=10, max_features=auto, n_estimators=20; total time=   0.4s\n",
      "[CV] END bootstrap=True, max_depth=10, max_features=auto, n_estimators=20; total time=   0.4s\n",
      "[CV] END bootstrap=True, max_depth=10, max_features=auto, n_estimators=20; total time=   0.4s\n",
      "[CV] END bootstrap=True, max_depth=10, max_features=auto, n_estimators=20; total time=   0.4s\n",
      "[CV] END bootstrap=True, max_depth=10, max_features=auto, n_estimators=30; total time=   0.7s\n",
      "[CV] END bootstrap=True, max_depth=10, max_features=auto, n_estimators=30; total time=   0.6s\n",
      "[CV] END bootstrap=True, max_depth=10, max_features=auto, n_estimators=30; total time=   0.6s\n",
      "[CV] END bootstrap=True, max_depth=10, max_features=auto, n_estimators=30; total time=   0.6s\n",
      "[CV] END bootstrap=True, max_depth=10, max_features=sqrt, n_estimators=20; total time=   0.4s\n",
      "[CV] END bootstrap=True, max_depth=10, max_features=sqrt, n_estimators=20; total time=   0.4s\n",
      "[CV] END bootstrap=True, max_depth=10, max_features=sqrt, n_estimators=20; total time=   0.4s\n",
      "[CV] END bootstrap=True, max_depth=10, max_features=sqrt, n_estimators=30; total time=   0.6s\n",
      "[CV] END bootstrap=True, max_depth=10, max_features=sqrt, n_estimators=30; total time=   0.6s\n",
      "[CV] END bootstrap=True, max_depth=10, max_features=sqrt, n_estimators=30; total time=   0.6s\n",
      "[CV] END bootstrap=True, max_depth=10, max_features=sqrt, n_estimators=30; total time=   0.6s\n",
      "[CV] END bootstrap=True, max_depth=10, max_features=log2, n_estimators=20; total time=   0.4s\n",
      "[CV] END bootstrap=True, max_depth=10, max_features=log2, n_estimators=20; total time=   0.4s\n",
      "[CV] END bootstrap=True, max_depth=10, max_features=log2, n_estimators=20; total time=   0.4s\n",
      "[CV] END bootstrap=True, max_depth=10, max_features=log2, n_estimators=20; total time=   0.4s\n",
      "[CV] END bootstrap=True, max_depth=10, max_features=log2, n_estimators=30; total time=   0.7s\n",
      "[CV] END bootstrap=True, max_depth=10, max_features=log2, n_estimators=30; total time=   0.7s\n",
      "[CV] END bootstrap=True, max_depth=10, max_features=log2, n_estimators=30; total time=   0.6s"
     ]
    }
   ],
   "source": [
    "from sklearn.model_selection import GridSearchCV\n",
    "# Create the parameter grid based on the results of random search \n",
    "param_grid = {\n",
    "    'bootstrap': [True],\n",
    "    'max_depth': [4,5,6,10],\n",
    "    'max_features': ['auto', 'sqrt', 'log2'],\n",
    "    'n_estimators': [20,30]\n",
    "}\n",
    "# Create a based model\n",
    "rf = RandomForestClassifier(random_state=12)\n",
    "# Instantiate the grid search model\n",
    "grid_search = GridSearchCV(estimator = rf, param_grid = param_grid, \n",
    "                          cv = cv_method , n_jobs = -1, verbose = 2)\n",
    "\n",
    "\n",
    "# Fit the grid search to the data\n",
    "grid_search.fit(X_train, y_train);"
   ]
  },
  {
   "cell_type": "code",
   "execution_count": 79,
   "id": "bc4bcbf6",
   "metadata": {
    "execution": {
     "iopub.execute_input": "2022-10-17T18:57:52.931342Z",
     "iopub.status.busy": "2022-10-17T18:57:52.930929Z",
     "iopub.status.idle": "2022-10-17T18:57:52.938447Z",
     "shell.execute_reply": "2022-10-17T18:57:52.937252Z"
    },
    "papermill": {
     "duration": 0.15122,
     "end_time": "2022-10-17T18:57:52.940778",
     "exception": false,
     "start_time": "2022-10-17T18:57:52.789558",
     "status": "completed"
    },
    "tags": []
   },
   "outputs": [
    {
     "data": {
      "text/plain": [
       "{'bootstrap': True,\n",
       " 'max_depth': 10,\n",
       " 'max_features': 'auto',\n",
       " 'n_estimators': 20}"
      ]
     },
     "execution_count": 79,
     "metadata": {},
     "output_type": "execute_result"
    }
   ],
   "source": [
    "grid_search.best_params_"
   ]
  },
  {
   "cell_type": "code",
   "execution_count": 80,
   "id": "001c91a6",
   "metadata": {
    "execution": {
     "iopub.execute_input": "2022-10-17T18:57:53.276095Z",
     "iopub.status.busy": "2022-10-17T18:57:53.275680Z",
     "iopub.status.idle": "2022-10-17T18:57:53.664062Z",
     "shell.execute_reply": "2022-10-17T18:57:53.662636Z"
    },
    "papermill": {
     "duration": 0.585827,
     "end_time": "2022-10-17T18:57:53.666603",
     "exception": false,
     "start_time": "2022-10-17T18:57:53.080776",
     "status": "completed"
    },
    "tags": []
   },
   "outputs": [
    {
     "name": "stdout",
     "output_type": "stream",
     "text": [
      "1.0\n"
     ]
    }
   ],
   "source": [
    "best_grid = grid_search.best_estimator_\n",
    "predicted=grid_search.predict(X_test)\n",
    "print(accuracy_score(predicted, y_test))\n",
    "\n",
    "accurac.append(accuracy_score(predicted, y_test))\n",
    "precision.append(precision_score(predicted, y_test))\n",
    "recall.append(recall_score(predicted, y_test))"
   ]
  },
  {
   "cell_type": "code",
   "execution_count": 81,
   "id": "243ab004",
   "metadata": {
    "execution": {
     "iopub.execute_input": "2022-10-17T18:57:53.949551Z",
     "iopub.status.busy": "2022-10-17T18:57:53.949148Z",
     "iopub.status.idle": "2022-10-17T18:57:54.233022Z",
     "shell.execute_reply": "2022-10-17T18:57:54.231963Z"
    },
    "papermill": {
     "duration": 0.428142,
     "end_time": "2022-10-17T18:57:54.235458",
     "exception": false,
     "start_time": "2022-10-17T18:57:53.807316",
     "status": "completed"
    },
    "tags": []
   },
   "outputs": [
    {
     "name": "stdout",
     "output_type": "stream",
     "text": [
      "              precision    recall  f1-score   support\n",
      "\n",
      "           0       1.00      1.00      1.00     67836\n",
      "           1       1.00      1.00      1.00     64544\n",
      "\n",
      "    accuracy                           1.00    132380\n",
      "   macro avg       1.00      1.00      1.00    132380\n",
      "weighted avg       1.00      1.00      1.00    132380\n",
      "\n"
     ]
    }
   ],
   "source": [
    "print(classification_report(y_test, predicted))"
   ]
  },
  {
   "cell_type": "markdown",
   "id": "26671163",
   "metadata": {
    "papermill": {
     "duration": 0.14089,
     "end_time": "2022-10-17T18:57:54.517016",
     "exception": false,
     "start_time": "2022-10-17T18:57:54.376126",
     "status": "completed"
    },
    "tags": []
   },
   "source": [
    "# Logistic Regression"
   ]
  },
  {
   "cell_type": "code",
   "execution_count": 82,
   "id": "a0d4fa2f",
   "metadata": {
    "execution": {
     "iopub.execute_input": "2022-10-17T18:57:54.798077Z",
     "iopub.status.busy": "2022-10-17T18:57:54.797317Z",
     "iopub.status.idle": "2022-10-17T18:57:55.048500Z",
     "shell.execute_reply": "2022-10-17T18:57:55.047265Z"
    },
    "papermill": {
     "duration": 0.394885,
     "end_time": "2022-10-17T18:57:55.051238",
     "exception": false,
     "start_time": "2022-10-17T18:57:54.656353",
     "status": "completed"
    },
    "tags": []
   },
   "outputs": [],
   "source": [
    "df_copy = pd.read_csv(\"../input/eshop-clothing-dataset/e-shop clothing 2008.csv\")\n",
    "df_copy=df_copy.drop(['session ID','year'],axis=1)\n",
    "\n",
    "from sklearn import preprocessing\n",
    "le=preprocessing.LabelEncoder()\n",
    "clm=['page 2 (clothing model)']\n",
    "for x in clm:\n",
    "    df_copy[x]=le.fit_transform(df_copy[x])\n",
    "\n",
    "\n",
    "\n",
    "y = df_copy[\"price 2\"]\n",
    "X = df_copy.drop(\"price 2\",axis=1)\n",
    "X_train, X_test, y_train, y_test = train_test_split(X, y, train_size=0.3, random_state = 42)\n",
    "\n",
    "scaler = StandardScaler()\n",
    "X_train = scaler.fit_transform(X_train)\n",
    "X_test = scaler.transform(X_test)"
   ]
  },
  {
   "cell_type": "code",
   "execution_count": 83,
   "id": "b191dcaa",
   "metadata": {
    "execution": {
     "iopub.execute_input": "2022-10-17T18:57:55.336338Z",
     "iopub.status.busy": "2022-10-17T18:57:55.335924Z",
     "iopub.status.idle": "2022-10-17T18:57:55.764951Z",
     "shell.execute_reply": "2022-10-17T18:57:55.763653Z"
    },
    "papermill": {
     "duration": 0.575356,
     "end_time": "2022-10-17T18:57:55.767444",
     "exception": false,
     "start_time": "2022-10-17T18:57:55.192088",
     "status": "completed"
    },
    "tags": []
   },
   "outputs": [
    {
     "name": "stdout",
     "output_type": "stream",
     "text": [
      "confussion matrix\n",
      "\n",
      "\n",
      "Accuracy of Logistic Regression: 99.82474618412874 \n",
      "\n",
      "              precision    recall  f1-score   support\n",
      "\n",
      "           1       1.00      1.00      1.00     59384\n",
      "           2       1.00      1.00      1.00     56448\n",
      "\n",
      "    accuracy                           1.00    115832\n",
      "   macro avg       1.00      1.00      1.00    115832\n",
      "weighted avg       1.00      1.00      1.00    115832\n",
      "\n"
     ]
    }
   ],
   "source": [
    "m1 = 'Logistic Regression'\n",
    "lr = LogisticRegression(random_state=42)\n",
    "model = lr.fit(X_train, y_train)\n",
    "lr_predict = lr.predict(X_test)\n",
    "lr_acc_score = accuracy_score( lr_predict,y_test)\n",
    "print(\"confussion matrix\")\n",
    "print(\"\\n\")\n",
    "print(\"Accuracy of Logistic Regression:\",lr_acc_score*100,'\\n')\n",
    "print(classification_report(y_test,lr_predict))"
   ]
  },
  {
   "cell_type": "code",
   "execution_count": 84,
   "id": "dc49278c",
   "metadata": {
    "execution": {
     "iopub.execute_input": "2022-10-17T18:57:56.052831Z",
     "iopub.status.busy": "2022-10-17T18:57:56.052080Z",
     "iopub.status.idle": "2022-10-17T18:57:56.178450Z",
     "shell.execute_reply": "2022-10-17T18:57:56.177214Z"
    },
    "papermill": {
     "duration": 0.271208,
     "end_time": "2022-10-17T18:57:56.181231",
     "exception": false,
     "start_time": "2022-10-17T18:57:55.910023",
     "status": "completed"
    },
    "tags": []
   },
   "outputs": [],
   "source": [
    "accurac.append(accuracy_score(lr_predict, y_test))\n",
    "precision.append(precision_score(lr_predict, y_test))\n",
    "recall.append(recall_score(lr_predict, y_test))"
   ]
  },
  {
   "cell_type": "code",
   "execution_count": 85,
   "id": "5ca7ace3",
   "metadata": {
    "execution": {
     "iopub.execute_input": "2022-10-17T18:57:56.462567Z",
     "iopub.status.busy": "2022-10-17T18:57:56.461893Z",
     "iopub.status.idle": "2022-10-17T18:57:56.708063Z",
     "shell.execute_reply": "2022-10-17T18:57:56.706882Z"
    },
    "papermill": {
     "duration": 0.390224,
     "end_time": "2022-10-17T18:57:56.710488",
     "exception": false,
     "start_time": "2022-10-17T18:57:56.320264",
     "status": "completed"
    },
    "tags": []
   },
   "outputs": [
    {
     "name": "stdout",
     "output_type": "stream",
     "text": [
      "              precision    recall  f1-score   support\n",
      "\n",
      "           1       1.00      1.00      1.00     59384\n",
      "           2       1.00      1.00      1.00     56448\n",
      "\n",
      "    accuracy                           1.00    115832\n",
      "   macro avg       1.00      1.00      1.00    115832\n",
      "weighted avg       1.00      1.00      1.00    115832\n",
      "\n"
     ]
    }
   ],
   "source": [
    "print(classification_report(y_test, lr_predict))"
   ]
  },
  {
   "cell_type": "markdown",
   "id": "6b202348",
   "metadata": {
    "papermill": {
     "duration": 0.139676,
     "end_time": "2022-10-17T18:57:57.039252",
     "exception": false,
     "start_time": "2022-10-17T18:57:56.899576",
     "status": "completed"
    },
    "tags": []
   },
   "source": [
    "# SVM"
   ]
  },
  {
   "cell_type": "code",
   "execution_count": 86,
   "id": "e2b30635",
   "metadata": {
    "execution": {
     "iopub.execute_input": "2022-10-17T18:57:57.321049Z",
     "iopub.status.busy": "2022-10-17T18:57:57.320623Z",
     "iopub.status.idle": "2022-10-17T18:58:07.714433Z",
     "shell.execute_reply": "2022-10-17T18:58:07.712721Z"
    },
    "papermill": {
     "duration": 10.537179,
     "end_time": "2022-10-17T18:58:07.717072",
     "exception": false,
     "start_time": "2022-10-17T18:57:57.179893",
     "status": "completed"
    },
    "tags": []
   },
   "outputs": [
    {
     "name": "stdout",
     "output_type": "stream",
     "text": [
      "\n",
      "\n",
      "Accuracy of Support Vector Classifier: 99.99136680709994 \n",
      "\n",
      "              precision    recall  f1-score   support\n",
      "\n",
      "           1       1.00      1.00      1.00     59384\n",
      "           2       1.00      1.00      1.00     56448\n",
      "\n",
      "    accuracy                           1.00    115832\n",
      "   macro avg       1.00      1.00      1.00    115832\n",
      "weighted avg       1.00      1.00      1.00    115832\n",
      "\n"
     ]
    }
   ],
   "source": [
    "m6 = 'Support Vector Classifier'\n",
    "svc =  SVC(kernel='rbf', C=2)\n",
    "svc.fit(X_train, y_train)\n",
    "svc_predicted = svc.predict(X_test)\n",
    "\n",
    "\n",
    "\n",
    "svc_acc_score = accuracy_score(y_test, svc_predicted)\n",
    "print(\"\\n\")\n",
    "print(\"Accuracy of Support Vector Classifier:\",svc_acc_score*100,'\\n')\n",
    "print(classification_report(y_test,svc_predicted))"
   ]
  },
  {
   "cell_type": "code",
   "execution_count": 87,
   "id": "7aff8e19",
   "metadata": {
    "execution": {
     "iopub.execute_input": "2022-10-17T18:58:08.003395Z",
     "iopub.status.busy": "2022-10-17T18:58:08.002602Z",
     "iopub.status.idle": "2022-10-17T18:58:08.248694Z",
     "shell.execute_reply": "2022-10-17T18:58:08.247405Z"
    },
    "papermill": {
     "duration": 0.389852,
     "end_time": "2022-10-17T18:58:08.250991",
     "exception": false,
     "start_time": "2022-10-17T18:58:07.861139",
     "status": "completed"
    },
    "tags": []
   },
   "outputs": [
    {
     "name": "stdout",
     "output_type": "stream",
     "text": [
      "              precision    recall  f1-score   support\n",
      "\n",
      "           1       1.00      1.00      1.00     59384\n",
      "           2       1.00      1.00      1.00     56448\n",
      "\n",
      "    accuracy                           1.00    115832\n",
      "   macro avg       1.00      1.00      1.00    115832\n",
      "weighted avg       1.00      1.00      1.00    115832\n",
      "\n"
     ]
    }
   ],
   "source": [
    "print(classification_report(y_test, svc_predicted))"
   ]
  },
  {
   "cell_type": "code",
   "execution_count": 88,
   "id": "58632b12",
   "metadata": {
    "execution": {
     "iopub.execute_input": "2022-10-17T18:58:08.533748Z",
     "iopub.status.busy": "2022-10-17T18:58:08.533079Z",
     "iopub.status.idle": "2022-10-17T18:58:08.660288Z",
     "shell.execute_reply": "2022-10-17T18:58:08.659139Z"
    },
    "papermill": {
     "duration": 0.271449,
     "end_time": "2022-10-17T18:58:08.662971",
     "exception": false,
     "start_time": "2022-10-17T18:58:08.391522",
     "status": "completed"
    },
    "tags": []
   },
   "outputs": [],
   "source": [
    "accurac.append(accuracy_score(svc_predicted, y_test))\n",
    "precision.append(precision_score(svc_predicted, y_test))\n",
    "recall.append(recall_score(svc_predicted, y_test))"
   ]
  },
  {
   "cell_type": "markdown",
   "id": "b6b2ebd7",
   "metadata": {
    "papermill": {
     "duration": 0.14109,
     "end_time": "2022-10-17T18:58:08.943041",
     "exception": false,
     "start_time": "2022-10-17T18:58:08.801951",
     "status": "completed"
    },
    "tags": []
   },
   "source": [
    "<a id=\"11\"></a> <br>\n",
    "\n",
    "# Evaluation for Classification models"
   ]
  },
  {
   "cell_type": "code",
   "execution_count": 89,
   "id": "23b12d76",
   "metadata": {
    "execution": {
     "iopub.execute_input": "2022-10-17T18:58:09.231002Z",
     "iopub.status.busy": "2022-10-17T18:58:09.230598Z",
     "iopub.status.idle": "2022-10-17T18:58:09.244866Z",
     "shell.execute_reply": "2022-10-17T18:58:09.243668Z"
    },
    "papermill": {
     "duration": 0.161288,
     "end_time": "2022-10-17T18:58:09.247200",
     "exception": false,
     "start_time": "2022-10-17T18:58:09.085912",
     "status": "completed"
    },
    "tags": []
   },
   "outputs": [
    {
     "data": {
      "text/html": [
       "<div>\n",
       "<style scoped>\n",
       "    .dataframe tbody tr th:only-of-type {\n",
       "        vertical-align: middle;\n",
       "    }\n",
       "\n",
       "    .dataframe tbody tr th {\n",
       "        vertical-align: top;\n",
       "    }\n",
       "\n",
       "    .dataframe thead th {\n",
       "        text-align: right;\n",
       "    }\n",
       "</style>\n",
       "<table border=\"1\" class=\"dataframe\">\n",
       "  <thead>\n",
       "    <tr style=\"text-align: right;\">\n",
       "      <th></th>\n",
       "      <th>accuracy</th>\n",
       "      <th>preision</th>\n",
       "      <th>recall</th>\n",
       "    </tr>\n",
       "  </thead>\n",
       "  <tbody>\n",
       "    <tr>\n",
       "      <th>K Nearest Neighbours</th>\n",
       "      <td>0.927738</td>\n",
       "      <td>0.893236</td>\n",
       "      <td>0.955659</td>\n",
       "    </tr>\n",
       "    <tr>\n",
       "      <th>Decision Tree</th>\n",
       "      <td>1.000000</td>\n",
       "      <td>1.000000</td>\n",
       "      <td>1.000000</td>\n",
       "    </tr>\n",
       "    <tr>\n",
       "      <th>Naive Bayes</th>\n",
       "      <td>0.923931</td>\n",
       "      <td>0.974544</td>\n",
       "      <td>0.881856</td>\n",
       "    </tr>\n",
       "    <tr>\n",
       "      <th>Random Forest Classifier</th>\n",
       "      <td>1.000000</td>\n",
       "      <td>1.000000</td>\n",
       "      <td>1.000000</td>\n",
       "    </tr>\n",
       "    <tr>\n",
       "      <th>Logistic Regression</th>\n",
       "      <td>0.998247</td>\n",
       "      <td>0.996582</td>\n",
       "      <td>1.000000</td>\n",
       "    </tr>\n",
       "    <tr>\n",
       "      <th>Support Vector Machine</th>\n",
       "      <td>0.999914</td>\n",
       "      <td>0.999882</td>\n",
       "      <td>0.999949</td>\n",
       "    </tr>\n",
       "  </tbody>\n",
       "</table>\n",
       "</div>"
      ],
      "text/plain": [
       "                          accuracy  preision    recall\n",
       "K Nearest Neighbours      0.927738  0.893236  0.955659\n",
       "Decision Tree             1.000000  1.000000  1.000000\n",
       "Naive Bayes               0.923931  0.974544  0.881856\n",
       "Random Forest Classifier  1.000000  1.000000  1.000000\n",
       "Logistic Regression       0.998247  0.996582  1.000000\n",
       "Support Vector Machine    0.999914  0.999882  0.999949"
      ]
     },
     "execution_count": 89,
     "metadata": {},
     "output_type": "execute_result"
    }
   ],
   "source": [
    "# import pandas as pd\n",
    "import pandas as pd \n",
    "    \n",
    "# List1 \n",
    "lst = [accurac,precision,recall]\n",
    "    \n",
    "d = pd.DataFrame({\"accuracy\":accurac,\"preision\":precision,\"recall\":recall},index=[\"K Nearest Neighbours\",\n",
    "\"Decision Tree\",\n",
    "\"Naive Bayes\",\n",
    "\"Random Forest Classifier\",\n",
    "\"Logistic Regression\",\n",
    "\"Support Vector Machine\"])\n",
    "\n",
    "d"
   ]
  },
  {
   "cell_type": "code",
   "execution_count": 90,
   "id": "6bb96609",
   "metadata": {
    "execution": {
     "iopub.execute_input": "2022-10-17T18:58:09.536437Z",
     "iopub.status.busy": "2022-10-17T18:58:09.535331Z",
     "iopub.status.idle": "2022-10-17T18:58:09.794092Z",
     "shell.execute_reply": "2022-10-17T18:58:09.792992Z"
    },
    "papermill": {
     "duration": 0.404811,
     "end_time": "2022-10-17T18:58:09.796452",
     "exception": false,
     "start_time": "2022-10-17T18:58:09.391641",
     "status": "completed"
    },
    "tags": []
   },
   "outputs": [
    {
     "data": {
      "image/png": "[encoded data removed]",
      "text/plain": [
       "<Figure size 432x288 with 1 Axes>"
      ]
     },
     "metadata": {
      "needs_background": "light"
     },
     "output_type": "display_data"
    }
   ],
   "source": [
    "ax = d.plot.barh()\n",
    "ax.legend(\n",
    "    ncol=6, \n",
    "    bbox_to_anchor=(0, 1),\n",
    "    loc='lower left', \n",
    "    prop={'size': 10}\n",
    ")\n",
    "plt.tight_layout()"
   ]
  },
  {
   "cell_type": "markdown",
   "id": "8348bdae",
   "metadata": {
    "papermill": {
     "duration": 0.19013,
     "end_time": "2022-10-17T18:58:10.129149",
     "exception": false,
     "start_time": "2022-10-17T18:58:09.939019",
     "status": "completed"
    },
    "tags": []
   },
   "source": [
    "### Based on the results, KNN are the best classification model for this challenge and this is the classification report for this mode :\n"
   ]
  },
  {
   "cell_type": "code",
   "execution_count": 91,
   "id": "c215d78b",
   "metadata": {
    "execution": {
     "iopub.execute_input": "2022-10-17T18:58:10.420726Z",
     "iopub.status.busy": "2022-10-17T18:58:10.420021Z",
     "iopub.status.idle": "2022-10-17T18:58:22.857235Z",
     "shell.execute_reply": "2022-10-17T18:58:22.856007Z"
    },
    "papermill": {
     "duration": 12.585499,
     "end_time": "2022-10-17T18:58:22.859826",
     "exception": false,
     "start_time": "2022-10-17T18:58:10.274327",
     "status": "completed"
    },
    "tags": []
   },
   "outputs": [
    {
     "name": "stdout",
     "output_type": "stream",
     "text": [
      "              precision    recall  f1-score   support\n",
      "\n",
      "           1       0.91      0.97      0.94     59384\n",
      "           2       0.97      0.90      0.93     56448\n",
      "\n",
      "    accuracy                           0.94    115832\n",
      "   macro avg       0.94      0.93      0.94    115832\n",
      "weighted avg       0.94      0.94      0.94    115832\n",
      "\n"
     ]
    }
   ],
   "source": [
    "KNN_model = KNeighborsClassifier(n_neighbors=4)\n",
    "KNN_model.fit(X_train[:1000], y_train[:1000])\n",
    "\n",
    "KNN_train, KNN_test = KNN_model.score(X_train, y_train), KNN_model.score(X_test, y_test)\n",
    "KNN_predict = KNN_model.predict(X_test)\n",
    "\n",
    "print(classification_report(y_test, KNN_predict))"
   ]
  },
  {
   "cell_type": "markdown",
   "id": "6f6260af",
   "metadata": {
    "papermill": {
     "duration": 0.14024,
     "end_time": "2022-10-17T18:58:23.140539",
     "exception": false,
     "start_time": "2022-10-17T18:58:23.000299",
     "status": "completed"
    },
    "tags": []
   },
   "source": [
    "### And confusion matrix is :"
   ]
  },
  {
   "cell_type": "code",
   "execution_count": 92,
   "id": "7270a309",
   "metadata": {
    "execution": {
     "iopub.execute_input": "2022-10-17T18:58:23.425353Z",
     "iopub.status.busy": "2022-10-17T18:58:23.424391Z",
     "iopub.status.idle": "2022-10-17T18:58:28.700200Z",
     "shell.execute_reply": "2022-10-17T18:58:28.699034Z"
    },
    "papermill": {
     "duration": 5.421952,
     "end_time": "2022-10-17T18:58:28.703306",
     "exception": false,
     "start_time": "2022-10-17T18:58:23.281354",
     "status": "completed"
    },
    "tags": []
   },
   "outputs": [
    {
     "data": {
      "image/png": "[encoded data removed]",
      "text/plain": [
       "<Figure size 432x288 with 2 Axes>"
      ]
     },
     "metadata": {
      "needs_background": "light"
     },
     "output_type": "display_data"
    }
   ],
   "source": [
    "import matplotlib.pyplot as plt\n",
    "import numpy\n",
    "from sklearn import metrics\n",
    "predicted = KNN_model.predict(X_test)\n",
    "confusion_matrix = metrics.confusion_matrix(y_test, predicted)\n",
    "\n",
    "cm_display = metrics.ConfusionMatrixDisplay(confusion_matrix = confusion_matrix, display_labels = [False, True])\n",
    "\n",
    "cm_display.plot()\n",
    "plt.show()"
   ]
  }
 ],
 "metadata": {
  "kernelspec": {
   "display_name": "Python 3",
   "language": "python",
   "name": "python3"
  },
  "language_info": {
   "codemirror_mode": {
    "name": "ipython",
    "version": 3
   },
   "file_extension": ".py",
   "mimetype": "text/x-python",
   "name": "python",
   "nbconvert_exporter": "python",
   "pygments_lexer": "ipython3",
   "version": "3.7.12"
  },
  "papermill": {
   "default_parameters": {},
   "duration": 215.885419,
   "end_time": "2022-10-17T18:58:31.469654",
   "environment_variables": {},
   "exception": null,
   "input_path": "__notebook__.ipynb",
   "output_path": "__notebook__.ipynb",
   "parameters": {},
   "start_time": "2022-10-17T18:54:55.584235",
   "version": "2.3.4"
  }
 },
 "nbformat": 4,
 "nbformat_minor": 5
}
