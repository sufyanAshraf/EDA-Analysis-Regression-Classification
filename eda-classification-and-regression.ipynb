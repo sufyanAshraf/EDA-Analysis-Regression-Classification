{
 "cells": [
  {
   "cell_type": "markdown",
   "id": "2df67103",
   "metadata": {
    "id": "7rsukDcFpxw3",
    "papermill": {
     "duration": 0.02781,
     "end_time": "2022-10-06T12:40:34.909316",
     "exception": false,
     "start_time": "2022-10-06T12:40:34.881506",
     "status": "completed"
    },
    "tags": []
   },
   "source": [
    "# Imports & Configs"
   ]
  },
  {
   "cell_type": "code",
   "execution_count": 1,
   "id": "0d110988",
   "metadata": {
    "execution": {
     "iopub.execute_input": "2022-10-06T12:40:34.963455Z",
     "iopub.status.busy": "2022-10-06T12:40:34.962526Z",
     "iopub.status.idle": "2022-10-06T12:40:38.600035Z",
     "shell.execute_reply": "2022-10-06T12:40:38.598830Z"
    },
    "id": "819dbdbe",
    "papermill": {
     "duration": 3.667847,
     "end_time": "2022-10-06T12:40:38.602730",
     "exception": false,
     "start_time": "2022-10-06T12:40:34.934883",
     "status": "completed"
    },
    "tags": []
   },
   "outputs": [
    {
     "data": {
      "text/html": [
       "<style type='text/css'>\n",
       ".datatable table.frame { margin-bottom: 0; }\n",
       ".datatable table.frame thead { border-bottom: none; }\n",
       ".datatable table.frame tr.coltypes td {  color: #FFFFFF;  line-height: 6px;  padding: 0 0.5em;}\n",
       ".datatable .bool    { background: #DDDD99; }\n",
       ".datatable .object  { background: #565656; }\n",
       ".datatable .int     { background: #5D9E5D; }\n",
       ".datatable .float   { background: #4040CC; }\n",
       ".datatable .str     { background: #CC4040; }\n",
       ".datatable .time    { background: #40CC40; }\n",
       ".datatable .row_index {  background: var(--jp-border-color3);  border-right: 1px solid var(--jp-border-color0);  color: var(--jp-ui-font-color3);  font-size: 9px;}\n",
       ".datatable .frame tbody td { text-align: left; }\n",
       ".datatable .frame tr.coltypes .row_index {  background: var(--jp-border-color0);}\n",
       ".datatable th:nth-child(2) { padding-left: 12px; }\n",
       ".datatable .hellipsis {  color: var(--jp-cell-editor-border-color);}\n",
       ".datatable .vellipsis {  background: var(--jp-layout-color0);  color: var(--jp-cell-editor-border-color);}\n",
       ".datatable .na {  color: var(--jp-cell-editor-border-color);  font-size: 80%;}\n",
       ".datatable .sp {  opacity: 0.25;}\n",
       ".datatable .footer { font-size: 9px; }\n",
       ".datatable .frame_dimensions {  background: var(--jp-border-color3);  border-top: 1px solid var(--jp-border-color0);  color: var(--jp-ui-font-color3);  display: inline-block;  opacity: 0.6;  padding: 1px 10px 1px 5px;}\n",
       "</style>\n"
      ],
      "text/plain": [
       "<IPython.core.display.HTML object>"
      ]
     },
     "metadata": {},
     "output_type": "display_data"
    },
    {
     "name": "stdout",
     "output_type": "stream",
     "text": [
      "/kaggle/input/d/aeryss/clickstream-data-for-online-shopping/e-shop clothing 2008.csv\n",
      "/kaggle/input/d/aeryss/clickstream-data-for-online-shopping/e-shop clothing 2008 data description.txt\n",
      "/kaggle/input/eshop-clothing-dataset/e-shop clothing 2008.csv\n",
      "/kaggle/input/clickstream-data-for-online-shopping/e-shop clothing 2008.csv\n",
      "['__notebook__.ipynb']\n"
     ]
    }
   ],
   "source": [
    "from plotly.subplots import make_subplots\n",
    "import plotly.graph_objects as go\n",
    "import plotly.express as px\n",
    "import numpy as np\n",
    "import pandas as pd\n",
    "import seaborn as sns\n",
    "import matplotlib.pyplot as plt\n",
    "from pandas.api.types import is_numeric_dtype\n",
    "import warnings\n",
    "import optuna\n",
    "from sklearn import tree\n",
    "from sklearn.model_selection import train_test_split\n",
    "from sklearn.neighbors import KNeighborsClassifier, KNeighborsRegressor\n",
    "from sklearn.linear_model import LogisticRegression\n",
    "from sklearn.linear_model import LinearRegression\n",
    "from sklearn.preprocessing import StandardScaler, LabelEncoder\n",
    "from sklearn.tree  import DecisionTreeClassifier\n",
    "from sklearn.ensemble import RandomForestClassifier, AdaBoostClassifier, RandomForestRegressor, AdaBoostRegressor\n",
    "from sklearn.svm import SVC, LinearSVC, SVR, LinearSVR\n",
    "from sklearn.naive_bayes import BernoulliNB\n",
    "from lightgbm import LGBMClassifier, LGBMRegressor\n",
    "from catboost import CatBoostClassifier, CatBoostRegressor\n",
    "from xgboost import XGBClassifier, XGBRegressor\n",
    "from tabulate import tabulate\n",
    "import os\n",
    "warnings.filterwarnings('ignore')\n",
    "optuna.logging.set_verbosity(optuna.logging.WARNING)\n",
    "for dirname, _, filenames in os.walk('/kaggle/input'):\n",
    "    for filename in filenames:\n",
    "        print(os.path.join(dirname, filename))\n",
    "else:\n",
    "    print(os.listdir(os.getcwd()))\n"
   ]
  },
  {
   "cell_type": "code",
   "execution_count": 2,
   "id": "44e98241",
   "metadata": {
    "execution": {
     "iopub.execute_input": "2022-10-06T12:40:38.657748Z",
     "iopub.status.busy": "2022-10-06T12:40:38.657036Z",
     "iopub.status.idle": "2022-10-06T12:40:38.949065Z",
     "shell.execute_reply": "2022-10-06T12:40:38.947605Z"
    },
    "id": "KDaFodmxGkD0",
    "outputId": "8804e874-d649-4cd7-dc99-8899ccc00633",
    "papermill": {
     "duration": 0.322263,
     "end_time": "2022-10-06T12:40:38.951724",
     "exception": false,
     "start_time": "2022-10-06T12:40:38.629461",
     "status": "completed"
    },
    "tags": []
   },
   "outputs": [
    {
     "data": {
      "text/html": [
       "<div>\n",
       "<style scoped>\n",
       "    .dataframe tbody tr th:only-of-type {\n",
       "        vertical-align: middle;\n",
       "    }\n",
       "\n",
       "    .dataframe tbody tr th {\n",
       "        vertical-align: top;\n",
       "    }\n",
       "\n",
       "    .dataframe thead th {\n",
       "        text-align: right;\n",
       "    }\n",
       "</style>\n",
       "<table border=\"1\" class=\"dataframe\">\n",
       "  <thead>\n",
       "    <tr style=\"text-align: right;\">\n",
       "      <th></th>\n",
       "      <th>year</th>\n",
       "      <th>month</th>\n",
       "      <th>day</th>\n",
       "      <th>order</th>\n",
       "      <th>country</th>\n",
       "      <th>session ID</th>\n",
       "      <th>page 1 (main category)</th>\n",
       "      <th>page 2 (clothing model)</th>\n",
       "      <th>colour</th>\n",
       "      <th>location</th>\n",
       "      <th>model photography</th>\n",
       "      <th>price</th>\n",
       "      <th>price 2</th>\n",
       "      <th>page</th>\n",
       "    </tr>\n",
       "  </thead>\n",
       "  <tbody>\n",
       "    <tr>\n",
       "      <th>0</th>\n",
       "      <td>2008</td>\n",
       "      <td>4</td>\n",
       "      <td>1</td>\n",
       "      <td>1</td>\n",
       "      <td>29</td>\n",
       "      <td>1</td>\n",
       "      <td>1</td>\n",
       "      <td>A13</td>\n",
       "      <td>1</td>\n",
       "      <td>5</td>\n",
       "      <td>1</td>\n",
       "      <td>28</td>\n",
       "      <td>2</td>\n",
       "      <td>1</td>\n",
       "    </tr>\n",
       "    <tr>\n",
       "      <th>1</th>\n",
       "      <td>2008</td>\n",
       "      <td>4</td>\n",
       "      <td>1</td>\n",
       "      <td>2</td>\n",
       "      <td>29</td>\n",
       "      <td>1</td>\n",
       "      <td>1</td>\n",
       "      <td>A16</td>\n",
       "      <td>1</td>\n",
       "      <td>6</td>\n",
       "      <td>1</td>\n",
       "      <td>33</td>\n",
       "      <td>2</td>\n",
       "      <td>1</td>\n",
       "    </tr>\n",
       "    <tr>\n",
       "      <th>2</th>\n",
       "      <td>2008</td>\n",
       "      <td>4</td>\n",
       "      <td>1</td>\n",
       "      <td>3</td>\n",
       "      <td>29</td>\n",
       "      <td>1</td>\n",
       "      <td>2</td>\n",
       "      <td>B4</td>\n",
       "      <td>10</td>\n",
       "      <td>2</td>\n",
       "      <td>1</td>\n",
       "      <td>52</td>\n",
       "      <td>1</td>\n",
       "      <td>1</td>\n",
       "    </tr>\n",
       "    <tr>\n",
       "      <th>3</th>\n",
       "      <td>2008</td>\n",
       "      <td>4</td>\n",
       "      <td>1</td>\n",
       "      <td>4</td>\n",
       "      <td>29</td>\n",
       "      <td>1</td>\n",
       "      <td>2</td>\n",
       "      <td>B17</td>\n",
       "      <td>6</td>\n",
       "      <td>6</td>\n",
       "      <td>2</td>\n",
       "      <td>38</td>\n",
       "      <td>2</td>\n",
       "      <td>1</td>\n",
       "    </tr>\n",
       "    <tr>\n",
       "      <th>4</th>\n",
       "      <td>2008</td>\n",
       "      <td>4</td>\n",
       "      <td>1</td>\n",
       "      <td>5</td>\n",
       "      <td>29</td>\n",
       "      <td>1</td>\n",
       "      <td>2</td>\n",
       "      <td>B8</td>\n",
       "      <td>4</td>\n",
       "      <td>3</td>\n",
       "      <td>2</td>\n",
       "      <td>52</td>\n",
       "      <td>1</td>\n",
       "      <td>1</td>\n",
       "    </tr>\n",
       "    <tr>\n",
       "      <th>...</th>\n",
       "      <td>...</td>\n",
       "      <td>...</td>\n",
       "      <td>...</td>\n",
       "      <td>...</td>\n",
       "      <td>...</td>\n",
       "      <td>...</td>\n",
       "      <td>...</td>\n",
       "      <td>...</td>\n",
       "      <td>...</td>\n",
       "      <td>...</td>\n",
       "      <td>...</td>\n",
       "      <td>...</td>\n",
       "      <td>...</td>\n",
       "      <td>...</td>\n",
       "    </tr>\n",
       "    <tr>\n",
       "      <th>165469</th>\n",
       "      <td>2008</td>\n",
       "      <td>8</td>\n",
       "      <td>13</td>\n",
       "      <td>1</td>\n",
       "      <td>29</td>\n",
       "      <td>24024</td>\n",
       "      <td>2</td>\n",
       "      <td>B10</td>\n",
       "      <td>2</td>\n",
       "      <td>4</td>\n",
       "      <td>1</td>\n",
       "      <td>67</td>\n",
       "      <td>1</td>\n",
       "      <td>1</td>\n",
       "    </tr>\n",
       "    <tr>\n",
       "      <th>165470</th>\n",
       "      <td>2008</td>\n",
       "      <td>8</td>\n",
       "      <td>13</td>\n",
       "      <td>1</td>\n",
       "      <td>9</td>\n",
       "      <td>24025</td>\n",
       "      <td>1</td>\n",
       "      <td>A11</td>\n",
       "      <td>3</td>\n",
       "      <td>4</td>\n",
       "      <td>1</td>\n",
       "      <td>62</td>\n",
       "      <td>1</td>\n",
       "      <td>1</td>\n",
       "    </tr>\n",
       "    <tr>\n",
       "      <th>165471</th>\n",
       "      <td>2008</td>\n",
       "      <td>8</td>\n",
       "      <td>13</td>\n",
       "      <td>1</td>\n",
       "      <td>34</td>\n",
       "      <td>24026</td>\n",
       "      <td>1</td>\n",
       "      <td>A2</td>\n",
       "      <td>3</td>\n",
       "      <td>1</td>\n",
       "      <td>1</td>\n",
       "      <td>43</td>\n",
       "      <td>2</td>\n",
       "      <td>1</td>\n",
       "    </tr>\n",
       "    <tr>\n",
       "      <th>165472</th>\n",
       "      <td>2008</td>\n",
       "      <td>8</td>\n",
       "      <td>13</td>\n",
       "      <td>2</td>\n",
       "      <td>34</td>\n",
       "      <td>24026</td>\n",
       "      <td>3</td>\n",
       "      <td>C2</td>\n",
       "      <td>12</td>\n",
       "      <td>1</td>\n",
       "      <td>1</td>\n",
       "      <td>43</td>\n",
       "      <td>1</td>\n",
       "      <td>1</td>\n",
       "    </tr>\n",
       "    <tr>\n",
       "      <th>165473</th>\n",
       "      <td>2008</td>\n",
       "      <td>8</td>\n",
       "      <td>13</td>\n",
       "      <td>3</td>\n",
       "      <td>34</td>\n",
       "      <td>24026</td>\n",
       "      <td>2</td>\n",
       "      <td>B2</td>\n",
       "      <td>3</td>\n",
       "      <td>1</td>\n",
       "      <td>2</td>\n",
       "      <td>57</td>\n",
       "      <td>1</td>\n",
       "      <td>1</td>\n",
       "    </tr>\n",
       "  </tbody>\n",
       "</table>\n",
       "<p>165474 rows × 14 columns</p>\n",
       "</div>"
      ],
      "text/plain": [
       "        year  month  day  order  country  session ID  page 1 (main category)  \\\n",
       "0       2008      4    1      1       29           1                       1   \n",
       "1       2008      4    1      2       29           1                       1   \n",
       "2       2008      4    1      3       29           1                       2   \n",
       "3       2008      4    1      4       29           1                       2   \n",
       "4       2008      4    1      5       29           1                       2   \n",
       "...      ...    ...  ...    ...      ...         ...                     ...   \n",
       "165469  2008      8   13      1       29       24024                       2   \n",
       "165470  2008      8   13      1        9       24025                       1   \n",
       "165471  2008      8   13      1       34       24026                       1   \n",
       "165472  2008      8   13      2       34       24026                       3   \n",
       "165473  2008      8   13      3       34       24026                       2   \n",
       "\n",
       "       page 2 (clothing model)  colour  location  model photography  price  \\\n",
       "0                          A13       1         5                  1     28   \n",
       "1                          A16       1         6                  1     33   \n",
       "2                           B4      10         2                  1     52   \n",
       "3                          B17       6         6                  2     38   \n",
       "4                           B8       4         3                  2     52   \n",
       "...                        ...     ...       ...                ...    ...   \n",
       "165469                     B10       2         4                  1     67   \n",
       "165470                     A11       3         4                  1     62   \n",
       "165471                      A2       3         1                  1     43   \n",
       "165472                      C2      12         1                  1     43   \n",
       "165473                      B2       3         1                  2     57   \n",
       "\n",
       "        price 2  page  \n",
       "0             2     1  \n",
       "1             2     1  \n",
       "2             1     1  \n",
       "3             2     1  \n",
       "4             1     1  \n",
       "...         ...   ...  \n",
       "165469        1     1  \n",
       "165470        1     1  \n",
       "165471        2     1  \n",
       "165472        1     1  \n",
       "165473        1     1  \n",
       "\n",
       "[165474 rows x 14 columns]"
      ]
     },
     "execution_count": 2,
     "metadata": {},
     "output_type": "execute_result"
    }
   ],
   "source": [
    "df = pd.read_csv(\"/kaggle/input/eshop-clothing-dataset/e-shop clothing 2008.csv\")\n",
    "df\n"
   ]
  },
  {
   "cell_type": "markdown",
   "id": "de088427",
   "metadata": {
    "id": "B619enJFp4yY",
    "papermill": {
     "duration": 0.026065,
     "end_time": "2022-10-06T12:40:39.004112",
     "exception": false,
     "start_time": "2022-10-06T12:40:38.978047",
     "status": "completed"
    },
    "tags": []
   },
   "source": [
    "# Data preparation for EDA"
   ]
  },
  {
   "cell_type": "code",
   "execution_count": 3,
   "id": "ad628fd2",
   "metadata": {
    "execution": {
     "iopub.execute_input": "2022-10-06T12:40:39.058690Z",
     "iopub.status.busy": "2022-10-06T12:40:39.057732Z",
     "iopub.status.idle": "2022-10-06T12:40:39.091872Z",
     "shell.execute_reply": "2022-10-06T12:40:39.090644Z"
    },
    "id": "cf4ddd9e",
    "papermill": {
     "duration": 0.064119,
     "end_time": "2022-10-06T12:40:39.094239",
     "exception": false,
     "start_time": "2022-10-06T12:40:39.030120",
     "status": "completed"
    },
    "tags": []
   },
   "outputs": [
    {
     "name": "stdout",
     "output_type": "stream",
     "text": [
      "<class 'pandas.core.frame.DataFrame'>\n",
      "RangeIndex: 165474 entries, 0 to 165473\n",
      "Data columns (total 14 columns):\n",
      " #   Column                   Non-Null Count   Dtype \n",
      "---  ------                   --------------   ----- \n",
      " 0   year                     165474 non-null  int64 \n",
      " 1   month                    165474 non-null  int64 \n",
      " 2   day                      165474 non-null  int64 \n",
      " 3   order                    165474 non-null  int64 \n",
      " 4   country                  165474 non-null  int64 \n",
      " 5   session ID               165474 non-null  int64 \n",
      " 6   page 1 (main category)   165474 non-null  int64 \n",
      " 7   page 2 (clothing model)  165474 non-null  object\n",
      " 8   colour                   165474 non-null  int64 \n",
      " 9   location                 165474 non-null  int64 \n",
      " 10  model photography        165474 non-null  int64 \n",
      " 11  price                    165474 non-null  int64 \n",
      " 12  price 2                  165474 non-null  int64 \n",
      " 13  page                     165474 non-null  int64 \n",
      "dtypes: int64(13), object(1)\n",
      "memory usage: 17.7+ MB\n"
     ]
    }
   ],
   "source": [
    "df.info()\n"
   ]
  },
  {
   "cell_type": "code",
   "execution_count": 4,
   "id": "f4000b25",
   "metadata": {
    "execution": {
     "iopub.execute_input": "2022-10-06T12:40:39.148855Z",
     "iopub.status.busy": "2022-10-06T12:40:39.148054Z",
     "iopub.status.idle": "2022-10-06T12:40:39.157395Z",
     "shell.execute_reply": "2022-10-06T12:40:39.156489Z"
    },
    "id": "30253eb0",
    "papermill": {
     "duration": 0.039498,
     "end_time": "2022-10-06T12:40:39.159790",
     "exception": false,
     "start_time": "2022-10-06T12:40:39.120292",
     "status": "completed"
    },
    "tags": []
   },
   "outputs": [],
   "source": [
    "country_map = {\n",
    "    \"1\": \"Australia\",\n",
    "    \"2\": \"Austria\",\n",
    "    \"3\": \"Belgium\",\n",
    "    \"4\": \"British Virgin Islands\",\n",
    "    \"5\": \"Cayman Islands\",\n",
    "    \"6\": \"Christmas Island\",\n",
    "    '7': \"Croatia\",\n",
    "    '8': \"Cyprus\",\n",
    "    '9': \"Czech Republic\",\n",
    "    '10': \"Denmark\",\n",
    "    \"11\": \"Estonia\",\n",
    "    \"12\": \"unidentified\",\n",
    "    \"13\": \"Faroe Islands\",\n",
    "    \"14\": \"Finland\",\n",
    "    \"15\": \"France\",\n",
    "    \"16\": \"Germany\",\n",
    "    '17': \"Greece\",\n",
    "    \"18\": \"Hungary\",\n",
    "    \"19\": \"Iceland\",\n",
    "    \"20\": \"India\",\n",
    "    \"21\": \"Ireland\",\n",
    "    \"22\": \"Italy\",\n",
    "    \"23\": \"Latvia\",\n",
    "    \"24\": \"Lithuania\",\n",
    "    \"25\": \"Luxembourg\",\n",
    "    \"26\": \"Mexico\",\n",
    "    \"27\": \"Netherlands\",\n",
    "    \"28\": \"Norway\",\n",
    "    \"29\": \"Poland\",\n",
    "    \"30\": \"Portugal\",\n",
    "    \"31\": \"Romania\",\n",
    "    '32': \"Russia\",\n",
    "    '33': \"San Marion\",\n",
    "    \"34\": \"Slovakia\",\n",
    "    \"35\": \"Slovenia\",\n",
    "    \"36\": \"Spain\",\n",
    "    '37': \"Sweden\",\n",
    "    \"38\": \"Switzerland\",\n",
    "    \"39\": \"Ukraine\",\n",
    "    \"40\": \"United Arab Emirates\",\n",
    "    \"41\": \"United Kingdom\",\n",
    "    \"42\": \"USA\",\n",
    "    \"43\": \"biz (.biz)\",\n",
    "    \"44\": \"com (.com)\",\n",
    "    \"45\": \"int (.int)\",\n",
    "    \"46\": \"net (.net)\",\n",
    "    \"47\": \"org (*.org)\"\n",
    "}\n"
   ]
  },
  {
   "cell_type": "code",
   "execution_count": 5,
   "id": "3b477f54",
   "metadata": {
    "execution": {
     "iopub.execute_input": "2022-10-06T12:40:39.215212Z",
     "iopub.status.busy": "2022-10-06T12:40:39.214423Z",
     "iopub.status.idle": "2022-10-06T12:40:39.356486Z",
     "shell.execute_reply": "2022-10-06T12:40:39.355542Z"
    },
    "id": "76542578",
    "papermill": {
     "duration": 0.172032,
     "end_time": "2022-10-06T12:40:39.358895",
     "exception": false,
     "start_time": "2022-10-06T12:40:39.186863",
     "status": "completed"
    },
    "tags": []
   },
   "outputs": [],
   "source": [
    "df['country'] = df['country'].astype(\"string\")\n",
    "df[\"country\"] = df[\"country\"].map(country_map)"
   ]
  },
  {
   "cell_type": "code",
   "execution_count": 6,
   "id": "06e9b04f",
   "metadata": {
    "execution": {
     "iopub.execute_input": "2022-10-06T12:40:39.413277Z",
     "iopub.status.busy": "2022-10-06T12:40:39.412550Z",
     "iopub.status.idle": "2022-10-06T12:40:39.431322Z",
     "shell.execute_reply": "2022-10-06T12:40:39.429642Z"
    },
    "id": "1f56ab99",
    "papermill": {
     "duration": 0.049021,
     "end_time": "2022-10-06T12:40:39.434025",
     "exception": false,
     "start_time": "2022-10-06T12:40:39.385004",
     "status": "completed"
    },
    "tags": []
   },
   "outputs": [],
   "source": [
    "page1_map = {\n",
    "    1: \"trousers\",\n",
    "    2: \"skirts\",\n",
    "    3: \"blouses\",\n",
    "    4: \"sale\"\n",
    "}\n",
    "df[\"page 1 (main category)\"] = df[\"page 1 (main category)\"].map(page1_map)\n"
   ]
  },
  {
   "cell_type": "code",
   "execution_count": 7,
   "id": "4df377b6",
   "metadata": {
    "execution": {
     "iopub.execute_input": "2022-10-06T12:40:39.488261Z",
     "iopub.status.busy": "2022-10-06T12:40:39.487822Z",
     "iopub.status.idle": "2022-10-06T12:40:39.504474Z",
     "shell.execute_reply": "2022-10-06T12:40:39.503085Z"
    },
    "id": "1668793e",
    "papermill": {
     "duration": 0.046408,
     "end_time": "2022-10-06T12:40:39.506918",
     "exception": false,
     "start_time": "2022-10-06T12:40:39.460510",
     "status": "completed"
    },
    "tags": []
   },
   "outputs": [],
   "source": [
    "location_map = {\n",
    "    1: \"top left\",\n",
    "    2: \"top in the middle\",\n",
    "    3: \"top right\",\n",
    "    4: 'bottom left',\n",
    "    5: \"bottom in the middle\",\n",
    "    6: \"bottom right\"\n",
    "}\n",
    "\n",
    "df[\"location\"] = df[\"location\"].map(location_map)\n"
   ]
  },
  {
   "cell_type": "code",
   "execution_count": 8,
   "id": "5b92f43d",
   "metadata": {
    "execution": {
     "iopub.execute_input": "2022-10-06T12:40:39.561602Z",
     "iopub.status.busy": "2022-10-06T12:40:39.561153Z",
     "iopub.status.idle": "2022-10-06T12:40:39.575108Z",
     "shell.execute_reply": "2022-10-06T12:40:39.574037Z"
    },
    "id": "0626e7ad",
    "papermill": {
     "duration": 0.044095,
     "end_time": "2022-10-06T12:40:39.577613",
     "exception": false,
     "start_time": "2022-10-06T12:40:39.533518",
     "status": "completed"
    },
    "tags": []
   },
   "outputs": [],
   "source": [
    "color_map = {\n",
    "    1: \"beige\",\n",
    "    2: \"black\",\n",
    "    3: \"blue\",\n",
    "    4: \"brown\",\n",
    "    5: \"burgundy\",\n",
    "    6: \"gray\",\n",
    "    7: \"green\",\n",
    "    8: \"navy blue\",\n",
    "    9: \"of many colors\",\n",
    "    10: \"olive\",\n",
    "    11: \"pink\",\n",
    "    12: \"red\",\n",
    "    13: \"violet\",\n",
    "    14: \"white\"\n",
    "}\n",
    "\n",
    "df[\"colour\"] = df[\"colour\"].map(color_map)\n"
   ]
  },
  {
   "cell_type": "code",
   "execution_count": 9,
   "id": "1846f5b9",
   "metadata": {
    "execution": {
     "iopub.execute_input": "2022-10-06T12:40:39.631686Z",
     "iopub.status.busy": "2022-10-06T12:40:39.631262Z",
     "iopub.status.idle": "2022-10-06T12:40:39.643657Z",
     "shell.execute_reply": "2022-10-06T12:40:39.642510Z"
    },
    "id": "d2483a2c",
    "papermill": {
     "duration": 0.042474,
     "end_time": "2022-10-06T12:40:39.646078",
     "exception": false,
     "start_time": "2022-10-06T12:40:39.603604",
     "status": "completed"
    },
    "tags": []
   },
   "outputs": [],
   "source": [
    "model_map = {\n",
    "    1: \"En face\",\n",
    "    2: \"Profile\"}\n",
    "\n",
    "df[\"model photography\"] = df[\"model photography\"].map(model_map)\n"
   ]
  },
  {
   "cell_type": "code",
   "execution_count": 10,
   "id": "2d8d7385",
   "metadata": {
    "execution": {
     "iopub.execute_input": "2022-10-06T12:40:39.699464Z",
     "iopub.status.busy": "2022-10-06T12:40:39.699049Z",
     "iopub.status.idle": "2022-10-06T12:40:39.711246Z",
     "shell.execute_reply": "2022-10-06T12:40:39.710206Z"
    },
    "id": "-V0I8YNVApug",
    "papermill": {
     "duration": 0.042118,
     "end_time": "2022-10-06T12:40:39.714174",
     "exception": false,
     "start_time": "2022-10-06T12:40:39.672056",
     "status": "completed"
    },
    "tags": []
   },
   "outputs": [],
   "source": [
    "month_map = {\n",
    "    4: \"April\",\n",
    "    5: \"May\",\n",
    "    6: \"June\",\n",
    "    7: \"July\",\n",
    "    8: \"August\",\n",
    "}\n",
    "\n",
    "df[\"month\"] = df[\"month\"].map(month_map)\n"
   ]
  },
  {
   "cell_type": "markdown",
   "id": "485f07ee",
   "metadata": {
    "id": "gqS88DWbp8dw",
    "papermill": {
     "duration": 0.025471,
     "end_time": "2022-10-06T12:40:39.765828",
     "exception": false,
     "start_time": "2022-10-06T12:40:39.740357",
     "status": "completed"
    },
    "tags": []
   },
   "source": [
    "# EDA"
   ]
  },
  {
   "cell_type": "markdown",
   "id": "e0feaede",
   "metadata": {
    "id": "4ab66ab0",
    "papermill": {
     "duration": 0.025552,
     "end_time": "2022-10-06T12:40:39.817855",
     "exception": false,
     "start_time": "2022-10-06T12:40:39.792303",
     "status": "completed"
    },
    "tags": []
   },
   "source": [
    "## Which country has the most  website visitors?"
   ]
  },
  {
   "cell_type": "code",
   "execution_count": 11,
   "id": "7714c113",
   "metadata": {
    "execution": {
     "iopub.execute_input": "2022-10-06T12:40:39.871838Z",
     "iopub.status.busy": "2022-10-06T12:40:39.871460Z",
     "iopub.status.idle": "2022-10-06T12:40:40.934650Z",
     "shell.execute_reply": "2022-10-06T12:40:40.933559Z"
    },
    "id": "7b3243b0",
    "papermill": {
     "duration": 1.09312,
     "end_time": "2022-10-06T12:40:40.937170",
     "exception": false,
     "start_time": "2022-10-06T12:40:39.844050",
     "status": "completed"
    },
    "tags": []
   },
   "outputs": [
    {
     "data": {
      "text/html": [
       "        <script type=\"text/javascript\">\n",
       "        window.PlotlyConfig = {MathJaxConfig: 'local'};\n",
       "        if (window.MathJax && window.MathJax.Hub && window.MathJax.Hub.Config) {window.MathJax.Hub.Config({SVG: {font: \"STIX-Web\"}});}\n",
       "        if (typeof require !== 'undefined') {\n",
       "        require.undef(\"plotly\");\n",
       "        requirejs.config({\n",
       "            paths: {\n",
       "                'plotly': ['https://cdn.plot.ly/plotly-2.14.0.min']\n",
       "            }\n",
       "        });\n",
       "        require(['plotly'], function(Plotly) {\n",
       "            window._Plotly = Plotly;\n",
       "        });\n",
       "        }\n",
       "        </script>\n",
       "        "
      ]
     },
     "metadata": {},
     "output_type": "display_data"
    },
    {
     "data": {
      "text/html": [
       "<div>                            <div id=\"155dc551-b679-4ec2-a20e-c38c9b0e8956\" class=\"plotly-graph-div\" style=\"height:525px; width:100%;\"></div>            <script type=\"text/javascript\">                require([\"plotly\"], function(Plotly) {                    window.PLOTLYENV=window.PLOTLYENV || {};                                    if (document.getElementById(\"155dc551-b679-4ec2-a20e-c38c9b0e8956\")) {                    Plotly.newPlot(                        \"155dc551-b679-4ec2-a20e-c38c9b0e8956\",                        [{\"alignmentgroup\":\"True\",\"hovertemplate\":\"country=%{x}<br>price=%{y}<extra></extra>\",\"legendgroup\":\"\",\"marker\":{\"color\":\"#636efa\",\"pattern\":{\"shape\":\"\"}},\"name\":\"\",\"offsetgroup\":\"\",\"orientation\":\"v\",\"showlegend\":false,\"textposition\":\"auto\",\"x\":[\"Poland\",\"Czech Republic\",\"Lithuania\",\"net (.net)\",\"com (.com)\",\"Germany\",\"Ireland\",\"Slovakia\",\"United Kingdom\",\"Belgium\",\"Netherlands\",\"unidentified\",\"USA\",\"Sweden\",\"Denmark\",\"Italy\",\"Romania\",\"Norway\",\"Switzerland\",\"France\",\"Estonia\"],\"xaxis\":\"x\",\"y\":[133963,18003,4091,2522,1385,834,811,716,684,256,227,210,170,163,152,144,144,139,137,125,115],\"yaxis\":\"y\",\"type\":\"bar\"}],                        {\"template\":{\"data\":{\"histogram2dcontour\":[{\"type\":\"histogram2dcontour\",\"colorbar\":{\"outlinewidth\":0,\"ticks\":\"\"},\"colorscale\":[[0.0,\"#0d0887\"],[0.1111111111111111,\"#46039f\"],[0.2222222222222222,\"#7201a8\"],[0.3333333333333333,\"#9c179e\"],[0.4444444444444444,\"#bd3786\"],[0.5555555555555556,\"#d8576b\"],[0.6666666666666666,\"#ed7953\"],[0.7777777777777778,\"#fb9f3a\"],[0.8888888888888888,\"#fdca26\"],[1.0,\"#f0f921\"]]}],\"choropleth\":[{\"type\":\"choropleth\",\"colorbar\":{\"outlinewidth\":0,\"ticks\":\"\"}}],\"histogram2d\":[{\"type\":\"histogram2d\",\"colorbar\":{\"outlinewidth\":0,\"ticks\":\"\"},\"colorscale\":[[0.0,\"#0d0887\"],[0.1111111111111111,\"#46039f\"],[0.2222222222222222,\"#7201a8\"],[0.3333333333333333,\"#9c179e\"],[0.4444444444444444,\"#bd3786\"],[0.5555555555555556,\"#d8576b\"],[0.6666666666666666,\"#ed7953\"],[0.7777777777777778,\"#fb9f3a\"],[0.8888888888888888,\"#fdca26\"],[1.0,\"#f0f921\"]]}],\"heatmap\":[{\"type\":\"heatmap\",\"colorbar\":{\"outlinewidth\":0,\"ticks\":\"\"},\"colorscale\":[[0.0,\"#0d0887\"],[0.1111111111111111,\"#46039f\"],[0.2222222222222222,\"#7201a8\"],[0.3333333333333333,\"#9c179e\"],[0.4444444444444444,\"#bd3786\"],[0.5555555555555556,\"#d8576b\"],[0.6666666666666666,\"#ed7953\"],[0.7777777777777778,\"#fb9f3a\"],[0.8888888888888888,\"#fdca26\"],[1.0,\"#f0f921\"]]}],\"heatmapgl\":[{\"type\":\"heatmapgl\",\"colorbar\":{\"outlinewidth\":0,\"ticks\":\"\"},\"colorscale\":[[0.0,\"#0d0887\"],[0.1111111111111111,\"#46039f\"],[0.2222222222222222,\"#7201a8\"],[0.3333333333333333,\"#9c179e\"],[0.4444444444444444,\"#bd3786\"],[0.5555555555555556,\"#d8576b\"],[0.6666666666666666,\"#ed7953\"],[0.7777777777777778,\"#fb9f3a\"],[0.8888888888888888,\"#fdca26\"],[1.0,\"#f0f921\"]]}],\"contourcarpet\":[{\"type\":\"contourcarpet\",\"colorbar\":{\"outlinewidth\":0,\"ticks\":\"\"}}],\"contour\":[{\"type\":\"contour\",\"colorbar\":{\"outlinewidth\":0,\"ticks\":\"\"},\"colorscale\":[[0.0,\"#0d0887\"],[0.1111111111111111,\"#46039f\"],[0.2222222222222222,\"#7201a8\"],[0.3333333333333333,\"#9c179e\"],[0.4444444444444444,\"#bd3786\"],[0.5555555555555556,\"#d8576b\"],[0.6666666666666666,\"#ed7953\"],[0.7777777777777778,\"#fb9f3a\"],[0.8888888888888888,\"#fdca26\"],[1.0,\"#f0f921\"]]}],\"surface\":[{\"type\":\"surface\",\"colorbar\":{\"outlinewidth\":0,\"ticks\":\"\"},\"colorscale\":[[0.0,\"#0d0887\"],[0.1111111111111111,\"#46039f\"],[0.2222222222222222,\"#7201a8\"],[0.3333333333333333,\"#9c179e\"],[0.4444444444444444,\"#bd3786\"],[0.5555555555555556,\"#d8576b\"],[0.6666666666666666,\"#ed7953\"],[0.7777777777777778,\"#fb9f3a\"],[0.8888888888888888,\"#fdca26\"],[1.0,\"#f0f921\"]]}],\"mesh3d\":[{\"type\":\"mesh3d\",\"colorbar\":{\"outlinewidth\":0,\"ticks\":\"\"}}],\"scatter\":[{\"fillpattern\":{\"fillmode\":\"overlay\",\"size\":10,\"solidity\":0.2},\"type\":\"scatter\"}],\"parcoords\":[{\"type\":\"parcoords\",\"line\":{\"colorbar\":{\"outlinewidth\":0,\"ticks\":\"\"}}}],\"scatterpolargl\":[{\"type\":\"scatterpolargl\",\"marker\":{\"colorbar\":{\"outlinewidth\":0,\"ticks\":\"\"}}}],\"bar\":[{\"error_x\":{\"color\":\"#2a3f5f\"},\"error_y\":{\"color\":\"#2a3f5f\"},\"marker\":{\"line\":{\"color\":\"#E5ECF6\",\"width\":0.5},\"pattern\":{\"fillmode\":\"overlay\",\"size\":10,\"solidity\":0.2}},\"type\":\"bar\"}],\"scattergeo\":[{\"type\":\"scattergeo\",\"marker\":{\"colorbar\":{\"outlinewidth\":0,\"ticks\":\"\"}}}],\"scatterpolar\":[{\"type\":\"scatterpolar\",\"marker\":{\"colorbar\":{\"outlinewidth\":0,\"ticks\":\"\"}}}],\"histogram\":[{\"marker\":{\"pattern\":{\"fillmode\":\"overlay\",\"size\":10,\"solidity\":0.2}},\"type\":\"histogram\"}],\"scattergl\":[{\"type\":\"scattergl\",\"marker\":{\"colorbar\":{\"outlinewidth\":0,\"ticks\":\"\"}}}],\"scatter3d\":[{\"type\":\"scatter3d\",\"line\":{\"colorbar\":{\"outlinewidth\":0,\"ticks\":\"\"}},\"marker\":{\"colorbar\":{\"outlinewidth\":0,\"ticks\":\"\"}}}],\"scattermapbox\":[{\"type\":\"scattermapbox\",\"marker\":{\"colorbar\":{\"outlinewidth\":0,\"ticks\":\"\"}}}],\"scatterternary\":[{\"type\":\"scatterternary\",\"marker\":{\"colorbar\":{\"outlinewidth\":0,\"ticks\":\"\"}}}],\"scattercarpet\":[{\"type\":\"scattercarpet\",\"marker\":{\"colorbar\":{\"outlinewidth\":0,\"ticks\":\"\"}}}],\"carpet\":[{\"aaxis\":{\"endlinecolor\":\"#2a3f5f\",\"gridcolor\":\"white\",\"linecolor\":\"white\",\"minorgridcolor\":\"white\",\"startlinecolor\":\"#2a3f5f\"},\"baxis\":{\"endlinecolor\":\"#2a3f5f\",\"gridcolor\":\"white\",\"linecolor\":\"white\",\"minorgridcolor\":\"white\",\"startlinecolor\":\"#2a3f5f\"},\"type\":\"carpet\"}],\"table\":[{\"cells\":{\"fill\":{\"color\":\"#EBF0F8\"},\"line\":{\"color\":\"white\"}},\"header\":{\"fill\":{\"color\":\"#C8D4E3\"},\"line\":{\"color\":\"white\"}},\"type\":\"table\"}],\"barpolar\":[{\"marker\":{\"line\":{\"color\":\"#E5ECF6\",\"width\":0.5},\"pattern\":{\"fillmode\":\"overlay\",\"size\":10,\"solidity\":0.2}},\"type\":\"barpolar\"}],\"pie\":[{\"automargin\":true,\"type\":\"pie\"}]},\"layout\":{\"autotypenumbers\":\"strict\",\"colorway\":[\"#636efa\",\"#EF553B\",\"#00cc96\",\"#ab63fa\",\"#FFA15A\",\"#19d3f3\",\"#FF6692\",\"#B6E880\",\"#FF97FF\",\"#FECB52\"],\"font\":{\"color\":\"#2a3f5f\"},\"hovermode\":\"closest\",\"hoverlabel\":{\"align\":\"left\"},\"paper_bgcolor\":\"white\",\"plot_bgcolor\":\"#E5ECF6\",\"polar\":{\"bgcolor\":\"#E5ECF6\",\"angularaxis\":{\"gridcolor\":\"white\",\"linecolor\":\"white\",\"ticks\":\"\"},\"radialaxis\":{\"gridcolor\":\"white\",\"linecolor\":\"white\",\"ticks\":\"\"}},\"ternary\":{\"bgcolor\":\"#E5ECF6\",\"aaxis\":{\"gridcolor\":\"white\",\"linecolor\":\"white\",\"ticks\":\"\"},\"baxis\":{\"gridcolor\":\"white\",\"linecolor\":\"white\",\"ticks\":\"\"},\"caxis\":{\"gridcolor\":\"white\",\"linecolor\":\"white\",\"ticks\":\"\"}},\"coloraxis\":{\"colorbar\":{\"outlinewidth\":0,\"ticks\":\"\"}},\"colorscale\":{\"sequential\":[[0.0,\"#0d0887\"],[0.1111111111111111,\"#46039f\"],[0.2222222222222222,\"#7201a8\"],[0.3333333333333333,\"#9c179e\"],[0.4444444444444444,\"#bd3786\"],[0.5555555555555556,\"#d8576b\"],[0.6666666666666666,\"#ed7953\"],[0.7777777777777778,\"#fb9f3a\"],[0.8888888888888888,\"#fdca26\"],[1.0,\"#f0f921\"]],\"sequentialminus\":[[0.0,\"#0d0887\"],[0.1111111111111111,\"#46039f\"],[0.2222222222222222,\"#7201a8\"],[0.3333333333333333,\"#9c179e\"],[0.4444444444444444,\"#bd3786\"],[0.5555555555555556,\"#d8576b\"],[0.6666666666666666,\"#ed7953\"],[0.7777777777777778,\"#fb9f3a\"],[0.8888888888888888,\"#fdca26\"],[1.0,\"#f0f921\"]],\"diverging\":[[0,\"#8e0152\"],[0.1,\"#c51b7d\"],[0.2,\"#de77ae\"],[0.3,\"#f1b6da\"],[0.4,\"#fde0ef\"],[0.5,\"#f7f7f7\"],[0.6,\"#e6f5d0\"],[0.7,\"#b8e186\"],[0.8,\"#7fbc41\"],[0.9,\"#4d9221\"],[1,\"#276419\"]]},\"xaxis\":{\"gridcolor\":\"white\",\"linecolor\":\"white\",\"ticks\":\"\",\"title\":{\"standoff\":15},\"zerolinecolor\":\"white\",\"automargin\":true,\"zerolinewidth\":2},\"yaxis\":{\"gridcolor\":\"white\",\"linecolor\":\"white\",\"ticks\":\"\",\"title\":{\"standoff\":15},\"zerolinecolor\":\"white\",\"automargin\":true,\"zerolinewidth\":2},\"scene\":{\"xaxis\":{\"backgroundcolor\":\"#E5ECF6\",\"gridcolor\":\"white\",\"linecolor\":\"white\",\"showbackground\":true,\"ticks\":\"\",\"zerolinecolor\":\"white\",\"gridwidth\":2},\"yaxis\":{\"backgroundcolor\":\"#E5ECF6\",\"gridcolor\":\"white\",\"linecolor\":\"white\",\"showbackground\":true,\"ticks\":\"\",\"zerolinecolor\":\"white\",\"gridwidth\":2},\"zaxis\":{\"backgroundcolor\":\"#E5ECF6\",\"gridcolor\":\"white\",\"linecolor\":\"white\",\"showbackground\":true,\"ticks\":\"\",\"zerolinecolor\":\"white\",\"gridwidth\":2}},\"shapedefaults\":{\"line\":{\"color\":\"#2a3f5f\"}},\"annotationdefaults\":{\"arrowcolor\":\"#2a3f5f\",\"arrowhead\":0,\"arrowwidth\":1},\"geo\":{\"bgcolor\":\"white\",\"landcolor\":\"#E5ECF6\",\"subunitcolor\":\"white\",\"showland\":true,\"showlakes\":true,\"lakecolor\":\"white\"},\"title\":{\"x\":0.05},\"mapbox\":{\"style\":\"light\"}}},\"xaxis\":{\"anchor\":\"y\",\"domain\":[0.0,1.0],\"title\":{\"text\":\"country\"}},\"yaxis\":{\"anchor\":\"x\",\"domain\":[0.0,1.0],\"title\":{\"text\":\"price\"}},\"legend\":{\"tracegroupgap\":0},\"margin\":{\"t\":60},\"barmode\":\"relative\"},                        {\"responsive\": true}                    ).then(function(){\n",
       "                            \n",
       "var gd = document.getElementById('155dc551-b679-4ec2-a20e-c38c9b0e8956');\n",
       "var x = new MutationObserver(function (mutations, observer) {{\n",
       "        var display = window.getComputedStyle(gd).display;\n",
       "        if (!display || display === 'none') {{\n",
       "            console.log([gd, 'removed!']);\n",
       "            Plotly.purge(gd);\n",
       "            observer.disconnect();\n",
       "        }}\n",
       "}});\n",
       "\n",
       "// Listen for the removal of the full notebook cells\n",
       "var notebookContainer = gd.closest('#notebook-container');\n",
       "if (notebookContainer) {{\n",
       "    x.observe(notebookContainer, {childList: true});\n",
       "}}\n",
       "\n",
       "// Listen for the clearing of the current output cell\n",
       "var outputEl = gd.closest('.output');\n",
       "if (outputEl) {{\n",
       "    x.observe(outputEl, {childList: true});\n",
       "}}\n",
       "\n",
       "                        })                };                });            </script>        </div>"
      ]
     },
     "metadata": {},
     "output_type": "display_data"
    }
   ],
   "source": [
    "df7 = df.groupby('country')[['price']].count()\n",
    "df7 = df7.sort_values(['price'], ascending=False)\n",
    "df7 = df7.query(\"price > 100\")\n",
    "fig = px.bar(df7, x=df7.index, y='price')\n",
    "fig.show()\n"
   ]
  },
  {
   "cell_type": "markdown",
   "id": "a56191ea",
   "metadata": {
    "id": "_Jsqq_dJ1pVl",
    "papermill": {
     "duration": 0.0258,
     "end_time": "2022-10-06T12:40:40.989881",
     "exception": false,
     "start_time": "2022-10-06T12:40:40.964081",
     "status": "completed"
    },
    "tags": []
   },
   "source": [
    "It seems that Poland and Czech Republic are the countries that have most visitors"
   ]
  },
  {
   "cell_type": "markdown",
   "id": "b42eb5ea",
   "metadata": {
    "id": "25f1d025",
    "papermill": {
     "duration": 0.026131,
     "end_time": "2022-10-06T12:40:41.042320",
     "exception": false,
     "start_time": "2022-10-06T12:40:41.016189",
     "status": "completed"
    },
    "tags": []
   },
   "source": [
    "## Flexibility in buying products for each country "
   ]
  },
  {
   "cell_type": "code",
   "execution_count": 12,
   "id": "ec9c2f74",
   "metadata": {
    "execution": {
     "iopub.execute_input": "2022-10-06T12:40:41.096243Z",
     "iopub.status.busy": "2022-10-06T12:40:41.095874Z",
     "iopub.status.idle": "2022-10-06T12:40:41.141857Z",
     "shell.execute_reply": "2022-10-06T12:40:41.141009Z"
    },
    "id": "3ecd3bde",
    "papermill": {
     "duration": 0.0762,
     "end_time": "2022-10-06T12:40:41.144410",
     "exception": false,
     "start_time": "2022-10-06T12:40:41.068210",
     "status": "completed"
    },
    "scrolled": true,
    "tags": []
   },
   "outputs": [],
   "source": [
    "df8 = df.groupby('country')[['order']].sum()\n",
    "df8 = df8.sort_values(['order'], ascending=False)\n",
    "\n",
    "df9 = df.groupby('country')[['order']].count()\n",
    "df9 = df9.sort_values(['order'], ascending=False)\n",
    "\n",
    "df8['avreage_clicks'] = df8/df9\n",
    "df8 = df8.sort_values(['avreage_clicks'], ascending=False)\n",
    "df8 = df8.query(\"avreage_clicks > 3 \")\n"
   ]
  },
  {
   "cell_type": "code",
   "execution_count": 13,
   "id": "6b2fa049",
   "metadata": {
    "execution": {
     "iopub.execute_input": "2022-10-06T12:40:41.199483Z",
     "iopub.status.busy": "2022-10-06T12:40:41.198659Z",
     "iopub.status.idle": "2022-10-06T12:40:41.423071Z",
     "shell.execute_reply": "2022-10-06T12:40:41.421906Z"
    },
    "id": "e2274c6f",
    "outputId": "a36add34-0db8-4a17-dc7b-227906d3d6b1",
    "papermill": {
     "duration": 0.255083,
     "end_time": "2022-10-06T12:40:41.425895",
     "exception": false,
     "start_time": "2022-10-06T12:40:41.170812",
     "status": "completed"
    },
    "tags": []
   },
   "outputs": [
    {
     "data": {
      "text/html": [
       "<div>                            <div id=\"d8b852b3-7f3d-4e77-8f6d-df1517b255ba\" class=\"plotly-graph-div\" style=\"height:525px; width:100%;\"></div>            <script type=\"text/javascript\">                require([\"plotly\"], function(Plotly) {                    window.PLOTLYENV=window.PLOTLYENV || {};                                    if (document.getElementById(\"d8b852b3-7f3d-4e77-8f6d-df1517b255ba\")) {                    Plotly.newPlot(                        \"d8b852b3-7f3d-4e77-8f6d-df1517b255ba\",                        [{\"hovertemplate\":\"country=%{x}<br>avreage_clicks=%{marker.size}<extra></extra>\",\"legendgroup\":\"Romania\",\"marker\":{\"color\":\"#636efa\",\"size\":[23.22222222222222],\"sizemode\":\"area\",\"sizeref\":0.006450617283950617,\"symbol\":\"circle\"},\"mode\":\"markers\",\"name\":\"Romania\",\"orientation\":\"v\",\"showlegend\":true,\"x\":[\"Romania\"],\"xaxis\":\"x\",\"y\":[23.22222222222222],\"yaxis\":\"y\",\"type\":\"scatter\"},{\"hovertemplate\":\"country=%{x}<br>avreage_clicks=%{marker.size}<extra></extra>\",\"legendgroup\":\"Estonia\",\"marker\":{\"color\":\"#EF553B\",\"size\":[16.14782608695652],\"sizemode\":\"area\",\"sizeref\":0.006450617283950617,\"symbol\":\"circle\"},\"mode\":\"markers\",\"name\":\"Estonia\",\"orientation\":\"v\",\"showlegend\":true,\"x\":[\"Estonia\"],\"xaxis\":\"x\",\"y\":[16.14782608695652],\"yaxis\":\"y\",\"type\":\"scatter\"},{\"hovertemplate\":\"country=%{x}<br>avreage_clicks=%{marker.size}<extra></extra>\",\"legendgroup\":\"Germany\",\"marker\":{\"color\":\"#00cc96\",\"size\":[15.88968824940048],\"sizemode\":\"area\",\"sizeref\":0.006450617283950617,\"symbol\":\"circle\"},\"mode\":\"markers\",\"name\":\"Germany\",\"orientation\":\"v\",\"showlegend\":true,\"x\":[\"Germany\"],\"xaxis\":\"x\",\"y\":[15.88968824940048],\"yaxis\":\"y\",\"type\":\"scatter\"},{\"hovertemplate\":\"country=%{x}<br>avreage_clicks=%{marker.size}<extra></extra>\",\"legendgroup\":\"Slovakia\",\"marker\":{\"color\":\"#ab63fa\",\"size\":[14.76536312849162],\"sizemode\":\"area\",\"sizeref\":0.006450617283950617,\"symbol\":\"circle\"},\"mode\":\"markers\",\"name\":\"Slovakia\",\"orientation\":\"v\",\"showlegend\":true,\"x\":[\"Slovakia\"],\"xaxis\":\"x\",\"y\":[14.76536312849162],\"yaxis\":\"y\",\"type\":\"scatter\"},{\"hovertemplate\":\"country=%{x}<br>avreage_clicks=%{marker.size}<extra></extra>\",\"legendgroup\":\"Latvia\",\"marker\":{\"color\":\"#FFA15A\",\"size\":[14.173913043478262],\"sizemode\":\"area\",\"sizeref\":0.006450617283950617,\"symbol\":\"circle\"},\"mode\":\"markers\",\"name\":\"Latvia\",\"orientation\":\"v\",\"showlegend\":true,\"x\":[\"Latvia\"],\"xaxis\":\"x\",\"y\":[14.173913043478262],\"yaxis\":\"y\",\"type\":\"scatter\"},{\"hovertemplate\":\"country=%{x}<br>avreage_clicks=%{marker.size}<extra></extra>\",\"legendgroup\":\"Lithuania\",\"marker\":{\"color\":\"#19d3f3\",\"size\":[13.710095331214863],\"sizemode\":\"area\",\"sizeref\":0.006450617283950617,\"symbol\":\"circle\"},\"mode\":\"markers\",\"name\":\"Lithuania\",\"orientation\":\"v\",\"showlegend\":true,\"x\":[\"Lithuania\"],\"xaxis\":\"x\",\"y\":[13.710095331214863],\"yaxis\":\"y\",\"type\":\"scatter\"},{\"hovertemplate\":\"country=%{x}<br>avreage_clicks=%{marker.size}<extra></extra>\",\"legendgroup\":\"Belgium\",\"marker\":{\"color\":\"#FF6692\",\"size\":[12.77734375],\"sizemode\":\"area\",\"sizeref\":0.006450617283950617,\"symbol\":\"circle\"},\"mode\":\"markers\",\"name\":\"Belgium\",\"orientation\":\"v\",\"showlegend\":true,\"x\":[\"Belgium\"],\"xaxis\":\"x\",\"y\":[12.77734375],\"yaxis\":\"y\",\"type\":\"scatter\"},{\"hovertemplate\":\"country=%{x}<br>avreage_clicks=%{marker.size}<extra></extra>\",\"legendgroup\":\"Sweden\",\"marker\":{\"color\":\"#B6E880\",\"size\":[11.969325153374234],\"sizemode\":\"area\",\"sizeref\":0.006450617283950617,\"symbol\":\"circle\"},\"mode\":\"markers\",\"name\":\"Sweden\",\"orientation\":\"v\",\"showlegend\":true,\"x\":[\"Sweden\"],\"xaxis\":\"x\",\"y\":[11.969325153374234],\"yaxis\":\"y\",\"type\":\"scatter\"},{\"hovertemplate\":\"country=%{x}<br>avreage_clicks=%{marker.size}<extra></extra>\",\"legendgroup\":\"Luxembourg\",\"marker\":{\"color\":\"#FF97FF\",\"size\":[11.816901408450704],\"sizemode\":\"area\",\"sizeref\":0.006450617283950617,\"symbol\":\"circle\"},\"mode\":\"markers\",\"name\":\"Luxembourg\",\"orientation\":\"v\",\"showlegend\":true,\"x\":[\"Luxembourg\"],\"xaxis\":\"x\",\"y\":[11.816901408450704],\"yaxis\":\"y\",\"type\":\"scatter\"},{\"hovertemplate\":\"country=%{x}<br>avreage_clicks=%{marker.size}<extra></extra>\",\"legendgroup\":\"Czech Republic\",\"marker\":{\"color\":\"#FECB52\",\"size\":[11.643837138254735],\"sizemode\":\"area\",\"sizeref\":0.006450617283950617,\"symbol\":\"circle\"},\"mode\":\"markers\",\"name\":\"Czech Republic\",\"orientation\":\"v\",\"showlegend\":true,\"x\":[\"Czech Republic\"],\"xaxis\":\"x\",\"y\":[11.643837138254735],\"yaxis\":\"y\",\"type\":\"scatter\"},{\"hovertemplate\":\"country=%{x}<br>avreage_clicks=%{marker.size}<extra></extra>\",\"legendgroup\":\"unidentified\",\"marker\":{\"color\":\"#636efa\",\"size\":[11.461904761904762],\"sizemode\":\"area\",\"sizeref\":0.006450617283950617,\"symbol\":\"circle\"},\"mode\":\"markers\",\"name\":\"unidentified\",\"orientation\":\"v\",\"showlegend\":true,\"x\":[\"unidentified\"],\"xaxis\":\"x\",\"y\":[11.461904761904762],\"yaxis\":\"y\",\"type\":\"scatter\"},{\"hovertemplate\":\"country=%{x}<br>avreage_clicks=%{marker.size}<extra></extra>\",\"legendgroup\":\"Netherlands\",\"marker\":{\"color\":\"#EF553B\",\"size\":[9.572687224669604],\"sizemode\":\"area\",\"sizeref\":0.006450617283950617,\"symbol\":\"circle\"},\"mode\":\"markers\",\"name\":\"Netherlands\",\"orientation\":\"v\",\"showlegend\":true,\"x\":[\"Netherlands\"],\"xaxis\":\"x\",\"y\":[9.572687224669604],\"yaxis\":\"y\",\"type\":\"scatter\"},{\"hovertemplate\":\"country=%{x}<br>avreage_clicks=%{marker.size}<extra></extra>\",\"legendgroup\":\"Poland\",\"marker\":{\"color\":\"#00cc96\",\"size\":[9.502832871763099],\"sizemode\":\"area\",\"sizeref\":0.006450617283950617,\"symbol\":\"circle\"},\"mode\":\"markers\",\"name\":\"Poland\",\"orientation\":\"v\",\"showlegend\":true,\"x\":[\"Poland\"],\"xaxis\":\"x\",\"y\":[9.502832871763099],\"yaxis\":\"y\",\"type\":\"scatter\"},{\"hovertemplate\":\"country=%{x}<br>avreage_clicks=%{marker.size}<extra></extra>\",\"legendgroup\":\"Italy\",\"marker\":{\"color\":\"#ab63fa\",\"size\":[8.770833333333334],\"sizemode\":\"area\",\"sizeref\":0.006450617283950617,\"symbol\":\"circle\"},\"mode\":\"markers\",\"name\":\"Italy\",\"orientation\":\"v\",\"showlegend\":true,\"x\":[\"Italy\"],\"xaxis\":\"x\",\"y\":[8.770833333333334],\"yaxis\":\"y\",\"type\":\"scatter\"},{\"hovertemplate\":\"country=%{x}<br>avreage_clicks=%{marker.size}<extra></extra>\",\"legendgroup\":\"Ireland\",\"marker\":{\"color\":\"#FFA15A\",\"size\":[8.56596794081381],\"sizemode\":\"area\",\"sizeref\":0.006450617283950617,\"symbol\":\"circle\"},\"mode\":\"markers\",\"name\":\"Ireland\",\"orientation\":\"v\",\"showlegend\":true,\"x\":[\"Ireland\"],\"xaxis\":\"x\",\"y\":[8.56596794081381],\"yaxis\":\"y\",\"type\":\"scatter\"},{\"hovertemplate\":\"country=%{x}<br>avreage_clicks=%{marker.size}<extra></extra>\",\"legendgroup\":\"Hungary\",\"marker\":{\"color\":\"#19d3f3\",\"size\":[8.555555555555555],\"sizemode\":\"area\",\"sizeref\":0.006450617283950617,\"symbol\":\"circle\"},\"mode\":\"markers\",\"name\":\"Hungary\",\"orientation\":\"v\",\"showlegend\":true,\"x\":[\"Hungary\"],\"xaxis\":\"x\",\"y\":[8.555555555555555],\"yaxis\":\"y\",\"type\":\"scatter\"},{\"hovertemplate\":\"country=%{x}<br>avreage_clicks=%{marker.size}<extra></extra>\",\"legendgroup\":\"USA\",\"marker\":{\"color\":\"#FF6692\",\"size\":[8.352941176470589],\"sizemode\":\"area\",\"sizeref\":0.006450617283950617,\"symbol\":\"circle\"},\"mode\":\"markers\",\"name\":\"USA\",\"orientation\":\"v\",\"showlegend\":true,\"x\":[\"USA\"],\"xaxis\":\"x\",\"y\":[8.352941176470589],\"yaxis\":\"y\",\"type\":\"scatter\"},{\"hovertemplate\":\"country=%{x}<br>avreage_clicks=%{marker.size}<extra></extra>\",\"legendgroup\":\"France\",\"marker\":{\"color\":\"#B6E880\",\"size\":[7.984],\"sizemode\":\"area\",\"sizeref\":0.006450617283950617,\"symbol\":\"circle\"},\"mode\":\"markers\",\"name\":\"France\",\"orientation\":\"v\",\"showlegend\":true,\"x\":[\"France\"],\"xaxis\":\"x\",\"y\":[7.984],\"yaxis\":\"y\",\"type\":\"scatter\"},{\"hovertemplate\":\"country=%{x}<br>avreage_clicks=%{marker.size}<extra></extra>\",\"legendgroup\":\"com (.com)\",\"marker\":{\"color\":\"#FF97FF\",\"size\":[7.885198555956679],\"sizemode\":\"area\",\"sizeref\":0.006450617283950617,\"symbol\":\"circle\"},\"mode\":\"markers\",\"name\":\"com (.com)\",\"orientation\":\"v\",\"showlegend\":true,\"x\":[\"com (.com)\"],\"xaxis\":\"x\",\"y\":[7.885198555956679],\"yaxis\":\"y\",\"type\":\"scatter\"},{\"hovertemplate\":\"country=%{x}<br>avreage_clicks=%{marker.size}<extra></extra>\",\"legendgroup\":\"Norway\",\"marker\":{\"color\":\"#FECB52\",\"size\":[7.510791366906475],\"sizemode\":\"area\",\"sizeref\":0.006450617283950617,\"symbol\":\"circle\"},\"mode\":\"markers\",\"name\":\"Norway\",\"orientation\":\"v\",\"showlegend\":true,\"x\":[\"Norway\"],\"xaxis\":\"x\",\"y\":[7.510791366906475],\"yaxis\":\"y\",\"type\":\"scatter\"},{\"hovertemplate\":\"country=%{x}<br>avreage_clicks=%{marker.size}<extra></extra>\",\"legendgroup\":\"biz (.biz)\",\"marker\":{\"color\":\"#636efa\",\"size\":[6.967741935483871],\"sizemode\":\"area\",\"sizeref\":0.006450617283950617,\"symbol\":\"circle\"},\"mode\":\"markers\",\"name\":\"biz (.biz)\",\"orientation\":\"v\",\"showlegend\":true,\"x\":[\"biz (.biz)\"],\"xaxis\":\"x\",\"y\":[6.967741935483871],\"yaxis\":\"y\",\"type\":\"scatter\"},{\"hovertemplate\":\"country=%{x}<br>avreage_clicks=%{marker.size}<extra></extra>\",\"legendgroup\":\"Denmark\",\"marker\":{\"color\":\"#EF553B\",\"size\":[6.921052631578948],\"sizemode\":\"area\",\"sizeref\":0.006450617283950617,\"symbol\":\"circle\"},\"mode\":\"markers\",\"name\":\"Denmark\",\"orientation\":\"v\",\"showlegend\":true,\"x\":[\"Denmark\"],\"xaxis\":\"x\",\"y\":[6.921052631578948],\"yaxis\":\"y\",\"type\":\"scatter\"},{\"hovertemplate\":\"country=%{x}<br>avreage_clicks=%{marker.size}<extra></extra>\",\"legendgroup\":\"United Kingdom\",\"marker\":{\"color\":\"#00cc96\",\"size\":[6.701754385964913],\"sizemode\":\"area\",\"sizeref\":0.006450617283950617,\"symbol\":\"circle\"},\"mode\":\"markers\",\"name\":\"United Kingdom\",\"orientation\":\"v\",\"showlegend\":true,\"x\":[\"United Kingdom\"],\"xaxis\":\"x\",\"y\":[6.701754385964913],\"yaxis\":\"y\",\"type\":\"scatter\"},{\"hovertemplate\":\"country=%{x}<br>avreage_clicks=%{marker.size}<extra></extra>\",\"legendgroup\":\"Ukraine\",\"marker\":{\"color\":\"#ab63fa\",\"size\":[6.176470588235294],\"sizemode\":\"area\",\"sizeref\":0.006450617283950617,\"symbol\":\"circle\"},\"mode\":\"markers\",\"name\":\"Ukraine\",\"orientation\":\"v\",\"showlegend\":true,\"x\":[\"Ukraine\"],\"xaxis\":\"x\",\"y\":[6.176470588235294],\"yaxis\":\"y\",\"type\":\"scatter\"},{\"hovertemplate\":\"country=%{x}<br>avreage_clicks=%{marker.size}<extra></extra>\",\"legendgroup\":\"Spain\",\"marker\":{\"color\":\"#FFA15A\",\"size\":[6.0],\"sizemode\":\"area\",\"sizeref\":0.006450617283950617,\"symbol\":\"circle\"},\"mode\":\"markers\",\"name\":\"Spain\",\"orientation\":\"v\",\"showlegend\":true,\"x\":[\"Spain\"],\"xaxis\":\"x\",\"y\":[6.0],\"yaxis\":\"y\",\"type\":\"scatter\"},{\"hovertemplate\":\"country=%{x}<br>avreage_clicks=%{marker.size}<extra></extra>\",\"legendgroup\":\"net (.net)\",\"marker\":{\"color\":\"#19d3f3\",\"size\":[5.837430610626487],\"sizemode\":\"area\",\"sizeref\":0.006450617283950617,\"symbol\":\"circle\"},\"mode\":\"markers\",\"name\":\"net (.net)\",\"orientation\":\"v\",\"showlegend\":true,\"x\":[\"net (.net)\"],\"xaxis\":\"x\",\"y\":[5.837430610626487],\"yaxis\":\"y\",\"type\":\"scatter\"},{\"hovertemplate\":\"country=%{x}<br>avreage_clicks=%{marker.size}<extra></extra>\",\"legendgroup\":\"Austria\",\"marker\":{\"color\":\"#FF6692\",\"size\":[5.672413793103448],\"sizemode\":\"area\",\"sizeref\":0.006450617283950617,\"symbol\":\"circle\"},\"mode\":\"markers\",\"name\":\"Austria\",\"orientation\":\"v\",\"showlegend\":true,\"x\":[\"Austria\"],\"xaxis\":\"x\",\"y\":[5.672413793103448],\"yaxis\":\"y\",\"type\":\"scatter\"},{\"hovertemplate\":\"country=%{x}<br>avreage_clicks=%{marker.size}<extra></extra>\",\"legendgroup\":\"Finland\",\"marker\":{\"color\":\"#B6E880\",\"size\":[5.511627906976744],\"sizemode\":\"area\",\"sizeref\":0.006450617283950617,\"symbol\":\"circle\"},\"mode\":\"markers\",\"name\":\"Finland\",\"orientation\":\"v\",\"showlegend\":true,\"x\":[\"Finland\"],\"xaxis\":\"x\",\"y\":[5.511627906976744],\"yaxis\":\"y\",\"type\":\"scatter\"},{\"hovertemplate\":\"country=%{x}<br>avreage_clicks=%{marker.size}<extra></extra>\",\"legendgroup\":\"Switzerland\",\"marker\":{\"color\":\"#FF97FF\",\"size\":[4.905109489051095],\"sizemode\":\"area\",\"sizeref\":0.006450617283950617,\"symbol\":\"circle\"},\"mode\":\"markers\",\"name\":\"Switzerland\",\"orientation\":\"v\",\"showlegend\":true,\"x\":[\"Switzerland\"],\"xaxis\":\"x\",\"y\":[4.905109489051095],\"yaxis\":\"y\",\"type\":\"scatter\"},{\"hovertemplate\":\"country=%{x}<br>avreage_clicks=%{marker.size}<extra></extra>\",\"legendgroup\":\"India\",\"marker\":{\"color\":\"#FECB52\",\"size\":[4.6],\"sizemode\":\"area\",\"sizeref\":0.006450617283950617,\"symbol\":\"circle\"},\"mode\":\"markers\",\"name\":\"India\",\"orientation\":\"v\",\"showlegend\":true,\"x\":[\"India\"],\"xaxis\":\"x\",\"y\":[4.6],\"yaxis\":\"y\",\"type\":\"scatter\"},{\"hovertemplate\":\"country=%{x}<br>avreage_clicks=%{marker.size}<extra></extra>\",\"legendgroup\":\"Russia\",\"marker\":{\"color\":\"#636efa\",\"size\":[4.571428571428571],\"sizemode\":\"area\",\"sizeref\":0.006450617283950617,\"symbol\":\"circle\"},\"mode\":\"markers\",\"name\":\"Russia\",\"orientation\":\"v\",\"showlegend\":true,\"x\":[\"Russia\"],\"xaxis\":\"x\",\"y\":[4.571428571428571],\"yaxis\":\"y\",\"type\":\"scatter\"},{\"hovertemplate\":\"country=%{x}<br>avreage_clicks=%{marker.size}<extra></extra>\",\"legendgroup\":\"Iceland\",\"marker\":{\"color\":\"#EF553B\",\"size\":[4.413793103448276],\"sizemode\":\"area\",\"sizeref\":0.006450617283950617,\"symbol\":\"circle\"},\"mode\":\"markers\",\"name\":\"Iceland\",\"orientation\":\"v\",\"showlegend\":true,\"x\":[\"Iceland\"],\"xaxis\":\"x\",\"y\":[4.413793103448276],\"yaxis\":\"y\",\"type\":\"scatter\"},{\"hovertemplate\":\"country=%{x}<br>avreage_clicks=%{marker.size}<extra></extra>\",\"legendgroup\":\"Croatia\",\"marker\":{\"color\":\"#00cc96\",\"size\":[3.4444444444444446],\"sizemode\":\"area\",\"sizeref\":0.006450617283950617,\"symbol\":\"circle\"},\"mode\":\"markers\",\"name\":\"Croatia\",\"orientation\":\"v\",\"showlegend\":true,\"x\":[\"Croatia\"],\"xaxis\":\"x\",\"y\":[3.4444444444444446],\"yaxis\":\"y\",\"type\":\"scatter\"},{\"hovertemplate\":\"country=%{x}<br>avreage_clicks=%{marker.size}<extra></extra>\",\"legendgroup\":\"Greece\",\"marker\":{\"color\":\"#ab63fa\",\"size\":[3.391304347826087],\"sizemode\":\"area\",\"sizeref\":0.006450617283950617,\"symbol\":\"circle\"},\"mode\":\"markers\",\"name\":\"Greece\",\"orientation\":\"v\",\"showlegend\":true,\"x\":[\"Greece\"],\"xaxis\":\"x\",\"y\":[3.391304347826087],\"yaxis\":\"y\",\"type\":\"scatter\"}],                        {\"template\":{\"data\":{\"histogram2dcontour\":[{\"type\":\"histogram2dcontour\",\"colorbar\":{\"outlinewidth\":0,\"ticks\":\"\"},\"colorscale\":[[0.0,\"#0d0887\"],[0.1111111111111111,\"#46039f\"],[0.2222222222222222,\"#7201a8\"],[0.3333333333333333,\"#9c179e\"],[0.4444444444444444,\"#bd3786\"],[0.5555555555555556,\"#d8576b\"],[0.6666666666666666,\"#ed7953\"],[0.7777777777777778,\"#fb9f3a\"],[0.8888888888888888,\"#fdca26\"],[1.0,\"#f0f921\"]]}],\"choropleth\":[{\"type\":\"choropleth\",\"colorbar\":{\"outlinewidth\":0,\"ticks\":\"\"}}],\"histogram2d\":[{\"type\":\"histogram2d\",\"colorbar\":{\"outlinewidth\":0,\"ticks\":\"\"},\"colorscale\":[[0.0,\"#0d0887\"],[0.1111111111111111,\"#46039f\"],[0.2222222222222222,\"#7201a8\"],[0.3333333333333333,\"#9c179e\"],[0.4444444444444444,\"#bd3786\"],[0.5555555555555556,\"#d8576b\"],[0.6666666666666666,\"#ed7953\"],[0.7777777777777778,\"#fb9f3a\"],[0.8888888888888888,\"#fdca26\"],[1.0,\"#f0f921\"]]}],\"heatmap\":[{\"type\":\"heatmap\",\"colorbar\":{\"outlinewidth\":0,\"ticks\":\"\"},\"colorscale\":[[0.0,\"#0d0887\"],[0.1111111111111111,\"#46039f\"],[0.2222222222222222,\"#7201a8\"],[0.3333333333333333,\"#9c179e\"],[0.4444444444444444,\"#bd3786\"],[0.5555555555555556,\"#d8576b\"],[0.6666666666666666,\"#ed7953\"],[0.7777777777777778,\"#fb9f3a\"],[0.8888888888888888,\"#fdca26\"],[1.0,\"#f0f921\"]]}],\"heatmapgl\":[{\"type\":\"heatmapgl\",\"colorbar\":{\"outlinewidth\":0,\"ticks\":\"\"},\"colorscale\":[[0.0,\"#0d0887\"],[0.1111111111111111,\"#46039f\"],[0.2222222222222222,\"#7201a8\"],[0.3333333333333333,\"#9c179e\"],[0.4444444444444444,\"#bd3786\"],[0.5555555555555556,\"#d8576b\"],[0.6666666666666666,\"#ed7953\"],[0.7777777777777778,\"#fb9f3a\"],[0.8888888888888888,\"#fdca26\"],[1.0,\"#f0f921\"]]}],\"contourcarpet\":[{\"type\":\"contourcarpet\",\"colorbar\":{\"outlinewidth\":0,\"ticks\":\"\"}}],\"contour\":[{\"type\":\"contour\",\"colorbar\":{\"outlinewidth\":0,\"ticks\":\"\"},\"colorscale\":[[0.0,\"#0d0887\"],[0.1111111111111111,\"#46039f\"],[0.2222222222222222,\"#7201a8\"],[0.3333333333333333,\"#9c179e\"],[0.4444444444444444,\"#bd3786\"],[0.5555555555555556,\"#d8576b\"],[0.6666666666666666,\"#ed7953\"],[0.7777777777777778,\"#fb9f3a\"],[0.8888888888888888,\"#fdca26\"],[1.0,\"#f0f921\"]]}],\"surface\":[{\"type\":\"surface\",\"colorbar\":{\"outlinewidth\":0,\"ticks\":\"\"},\"colorscale\":[[0.0,\"#0d0887\"],[0.1111111111111111,\"#46039f\"],[0.2222222222222222,\"#7201a8\"],[0.3333333333333333,\"#9c179e\"],[0.4444444444444444,\"#bd3786\"],[0.5555555555555556,\"#d8576b\"],[0.6666666666666666,\"#ed7953\"],[0.7777777777777778,\"#fb9f3a\"],[0.8888888888888888,\"#fdca26\"],[1.0,\"#f0f921\"]]}],\"mesh3d\":[{\"type\":\"mesh3d\",\"colorbar\":{\"outlinewidth\":0,\"ticks\":\"\"}}],\"scatter\":[{\"fillpattern\":{\"fillmode\":\"overlay\",\"size\":10,\"solidity\":0.2},\"type\":\"scatter\"}],\"parcoords\":[{\"type\":\"parcoords\",\"line\":{\"colorbar\":{\"outlinewidth\":0,\"ticks\":\"\"}}}],\"scatterpolargl\":[{\"type\":\"scatterpolargl\",\"marker\":{\"colorbar\":{\"outlinewidth\":0,\"ticks\":\"\"}}}],\"bar\":[{\"error_x\":{\"color\":\"#2a3f5f\"},\"error_y\":{\"color\":\"#2a3f5f\"},\"marker\":{\"line\":{\"color\":\"#E5ECF6\",\"width\":0.5},\"pattern\":{\"fillmode\":\"overlay\",\"size\":10,\"solidity\":0.2}},\"type\":\"bar\"}],\"scattergeo\":[{\"type\":\"scattergeo\",\"marker\":{\"colorbar\":{\"outlinewidth\":0,\"ticks\":\"\"}}}],\"scatterpolar\":[{\"type\":\"scatterpolar\",\"marker\":{\"colorbar\":{\"outlinewidth\":0,\"ticks\":\"\"}}}],\"histogram\":[{\"marker\":{\"pattern\":{\"fillmode\":\"overlay\",\"size\":10,\"solidity\":0.2}},\"type\":\"histogram\"}],\"scattergl\":[{\"type\":\"scattergl\",\"marker\":{\"colorbar\":{\"outlinewidth\":0,\"ticks\":\"\"}}}],\"scatter3d\":[{\"type\":\"scatter3d\",\"line\":{\"colorbar\":{\"outlinewidth\":0,\"ticks\":\"\"}},\"marker\":{\"colorbar\":{\"outlinewidth\":0,\"ticks\":\"\"}}}],\"scattermapbox\":[{\"type\":\"scattermapbox\",\"marker\":{\"colorbar\":{\"outlinewidth\":0,\"ticks\":\"\"}}}],\"scatterternary\":[{\"type\":\"scatterternary\",\"marker\":{\"colorbar\":{\"outlinewidth\":0,\"ticks\":\"\"}}}],\"scattercarpet\":[{\"type\":\"scattercarpet\",\"marker\":{\"colorbar\":{\"outlinewidth\":0,\"ticks\":\"\"}}}],\"carpet\":[{\"aaxis\":{\"endlinecolor\":\"#2a3f5f\",\"gridcolor\":\"white\",\"linecolor\":\"white\",\"minorgridcolor\":\"white\",\"startlinecolor\":\"#2a3f5f\"},\"baxis\":{\"endlinecolor\":\"#2a3f5f\",\"gridcolor\":\"white\",\"linecolor\":\"white\",\"minorgridcolor\":\"white\",\"startlinecolor\":\"#2a3f5f\"},\"type\":\"carpet\"}],\"table\":[{\"cells\":{\"fill\":{\"color\":\"#EBF0F8\"},\"line\":{\"color\":\"white\"}},\"header\":{\"fill\":{\"color\":\"#C8D4E3\"},\"line\":{\"color\":\"white\"}},\"type\":\"table\"}],\"barpolar\":[{\"marker\":{\"line\":{\"color\":\"#E5ECF6\",\"width\":0.5},\"pattern\":{\"fillmode\":\"overlay\",\"size\":10,\"solidity\":0.2}},\"type\":\"barpolar\"}],\"pie\":[{\"automargin\":true,\"type\":\"pie\"}]},\"layout\":{\"autotypenumbers\":\"strict\",\"colorway\":[\"#636efa\",\"#EF553B\",\"#00cc96\",\"#ab63fa\",\"#FFA15A\",\"#19d3f3\",\"#FF6692\",\"#B6E880\",\"#FF97FF\",\"#FECB52\"],\"font\":{\"color\":\"#2a3f5f\"},\"hovermode\":\"closest\",\"hoverlabel\":{\"align\":\"left\"},\"paper_bgcolor\":\"white\",\"plot_bgcolor\":\"#E5ECF6\",\"polar\":{\"bgcolor\":\"#E5ECF6\",\"angularaxis\":{\"gridcolor\":\"white\",\"linecolor\":\"white\",\"ticks\":\"\"},\"radialaxis\":{\"gridcolor\":\"white\",\"linecolor\":\"white\",\"ticks\":\"\"}},\"ternary\":{\"bgcolor\":\"#E5ECF6\",\"aaxis\":{\"gridcolor\":\"white\",\"linecolor\":\"white\",\"ticks\":\"\"},\"baxis\":{\"gridcolor\":\"white\",\"linecolor\":\"white\",\"ticks\":\"\"},\"caxis\":{\"gridcolor\":\"white\",\"linecolor\":\"white\",\"ticks\":\"\"}},\"coloraxis\":{\"colorbar\":{\"outlinewidth\":0,\"ticks\":\"\"}},\"colorscale\":{\"sequential\":[[0.0,\"#0d0887\"],[0.1111111111111111,\"#46039f\"],[0.2222222222222222,\"#7201a8\"],[0.3333333333333333,\"#9c179e\"],[0.4444444444444444,\"#bd3786\"],[0.5555555555555556,\"#d8576b\"],[0.6666666666666666,\"#ed7953\"],[0.7777777777777778,\"#fb9f3a\"],[0.8888888888888888,\"#fdca26\"],[1.0,\"#f0f921\"]],\"sequentialminus\":[[0.0,\"#0d0887\"],[0.1111111111111111,\"#46039f\"],[0.2222222222222222,\"#7201a8\"],[0.3333333333333333,\"#9c179e\"],[0.4444444444444444,\"#bd3786\"],[0.5555555555555556,\"#d8576b\"],[0.6666666666666666,\"#ed7953\"],[0.7777777777777778,\"#fb9f3a\"],[0.8888888888888888,\"#fdca26\"],[1.0,\"#f0f921\"]],\"diverging\":[[0,\"#8e0152\"],[0.1,\"#c51b7d\"],[0.2,\"#de77ae\"],[0.3,\"#f1b6da\"],[0.4,\"#fde0ef\"],[0.5,\"#f7f7f7\"],[0.6,\"#e6f5d0\"],[0.7,\"#b8e186\"],[0.8,\"#7fbc41\"],[0.9,\"#4d9221\"],[1,\"#276419\"]]},\"xaxis\":{\"gridcolor\":\"white\",\"linecolor\":\"white\",\"ticks\":\"\",\"title\":{\"standoff\":15},\"zerolinecolor\":\"white\",\"automargin\":true,\"zerolinewidth\":2},\"yaxis\":{\"gridcolor\":\"white\",\"linecolor\":\"white\",\"ticks\":\"\",\"title\":{\"standoff\":15},\"zerolinecolor\":\"white\",\"automargin\":true,\"zerolinewidth\":2},\"scene\":{\"xaxis\":{\"backgroundcolor\":\"#E5ECF6\",\"gridcolor\":\"white\",\"linecolor\":\"white\",\"showbackground\":true,\"ticks\":\"\",\"zerolinecolor\":\"white\",\"gridwidth\":2},\"yaxis\":{\"backgroundcolor\":\"#E5ECF6\",\"gridcolor\":\"white\",\"linecolor\":\"white\",\"showbackground\":true,\"ticks\":\"\",\"zerolinecolor\":\"white\",\"gridwidth\":2},\"zaxis\":{\"backgroundcolor\":\"#E5ECF6\",\"gridcolor\":\"white\",\"linecolor\":\"white\",\"showbackground\":true,\"ticks\":\"\",\"zerolinecolor\":\"white\",\"gridwidth\":2}},\"shapedefaults\":{\"line\":{\"color\":\"#2a3f5f\"}},\"annotationdefaults\":{\"arrowcolor\":\"#2a3f5f\",\"arrowhead\":0,\"arrowwidth\":1},\"geo\":{\"bgcolor\":\"white\",\"landcolor\":\"#E5ECF6\",\"subunitcolor\":\"white\",\"showland\":true,\"showlakes\":true,\"lakecolor\":\"white\"},\"title\":{\"x\":0.05},\"mapbox\":{\"style\":\"light\"}}},\"xaxis\":{\"anchor\":\"y\",\"domain\":[0.0,1.0],\"title\":{\"text\":\"country\"},\"categoryorder\":\"array\",\"categoryarray\":[\"Romania\",\"Estonia\",\"Germany\",\"Slovakia\",\"Latvia\",\"Lithuania\",\"Belgium\",\"Sweden\",\"Luxembourg\",\"Czech Republic\",\"unidentified\",\"Netherlands\",\"Poland\",\"Italy\",\"Ireland\",\"Hungary\",\"USA\",\"France\",\"com (.com)\",\"Norway\",\"biz (.biz)\",\"Denmark\",\"United Kingdom\",\"Ukraine\",\"Spain\",\"net (.net)\",\"Austria\",\"Finland\",\"Switzerland\",\"India\",\"Russia\",\"Iceland\",\"Croatia\",\"Greece\"]},\"yaxis\":{\"anchor\":\"x\",\"domain\":[0.0,1.0],\"title\":{\"text\":\"avreage_clicks\"}},\"legend\":{\"title\":{\"text\":\"country\"},\"tracegroupgap\":0,\"itemsizing\":\"constant\"},\"margin\":{\"t\":60}},                        {\"responsive\": true}                    ).then(function(){\n",
       "                            \n",
       "var gd = document.getElementById('d8b852b3-7f3d-4e77-8f6d-df1517b255ba');\n",
       "var x = new MutationObserver(function (mutations, observer) {{\n",
       "        var display = window.getComputedStyle(gd).display;\n",
       "        if (!display || display === 'none') {{\n",
       "            console.log([gd, 'removed!']);\n",
       "            Plotly.purge(gd);\n",
       "            observer.disconnect();\n",
       "        }}\n",
       "}});\n",
       "\n",
       "// Listen for the removal of the full notebook cells\n",
       "var notebookContainer = gd.closest('#notebook-container');\n",
       "if (notebookContainer) {{\n",
       "    x.observe(notebookContainer, {childList: true});\n",
       "}}\n",
       "\n",
       "// Listen for the clearing of the current output cell\n",
       "var outputEl = gd.closest('.output');\n",
       "if (outputEl) {{\n",
       "    x.observe(outputEl, {childList: true});\n",
       "}}\n",
       "\n",
       "                        })                };                });            </script>        </div>"
      ]
     },
     "metadata": {},
     "output_type": "display_data"
    }
   ],
   "source": [
    "fig = px.scatter(df8, x=df8.index, y=\"avreage_clicks\",\n",
    "                 size=\"avreage_clicks\", color=df8.index, size_max=60)\n",
    "fig.show()\n"
   ]
  },
  {
   "cell_type": "markdown",
   "id": "942b4a0d",
   "metadata": {
    "id": "HuXe5W8K2P5Y",
    "papermill": {
     "duration": 0.026562,
     "end_time": "2022-10-06T12:40:41.479920",
     "exception": false,
     "start_time": "2022-10-06T12:40:41.453358",
     "status": "completed"
    },
    "tags": []
   },
   "source": [
    "**Countries like Romani and Estonia have high flexibility (It`s Great) and countries like Greece and Croatia have low flexibility. I think there are things that affect it like**:\n",
    "- Different language that they use \n",
    "- stranger products that they searched \n",
    "- They was browsing only (viewing products)\n",
    "- Hardly getting their products (We will discuss this problem later)"
   ]
  },
  {
   "cell_type": "markdown",
   "id": "c8bbf7dd",
   "metadata": {
    "id": "d462c992",
    "papermill": {
     "duration": 0.026793,
     "end_time": "2022-10-06T12:40:41.533974",
     "exception": false,
     "start_time": "2022-10-06T12:40:41.507181",
     "status": "completed"
    },
    "tags": []
   },
   "source": [
    "## Relationship between month and buying from the website"
   ]
  },
  {
   "cell_type": "code",
   "execution_count": 14,
   "id": "cb5b4133",
   "metadata": {
    "execution": {
     "iopub.execute_input": "2022-10-06T12:40:41.591459Z",
     "iopub.status.busy": "2022-10-06T12:40:41.590419Z",
     "iopub.status.idle": "2022-10-06T12:40:41.701150Z",
     "shell.execute_reply": "2022-10-06T12:40:41.700296Z"
    },
    "id": "61e05dc3",
    "outputId": "6a10521b-631d-4ad1-fa05-7e9066b7f214",
    "papermill": {
     "duration": 0.141832,
     "end_time": "2022-10-06T12:40:41.703696",
     "exception": false,
     "start_time": "2022-10-06T12:40:41.561864",
     "status": "completed"
    },
    "tags": []
   },
   "outputs": [
    {
     "data": {
      "text/html": [
       "<div>                            <div id=\"be827728-01b2-4239-882a-8e0729004a6a\" class=\"plotly-graph-div\" style=\"height:525px; width:100%;\"></div>            <script type=\"text/javascript\">                require([\"plotly\"], function(Plotly) {                    window.PLOTLYENV=window.PLOTLYENV || {};                                    if (document.getElementById(\"be827728-01b2-4239-882a-8e0729004a6a\")) {                    Plotly.newPlot(                        \"be827728-01b2-4239-882a-8e0729004a6a\",                        [{\"labels\":[\"April\",\"August\",\"July\",\"June\",\"May\"],\"name\":\"All monthes\",\"values\":[2100924,625180,1547518,1411981,1562573],\"type\":\"pie\",\"domain\":{\"x\":[0.0,0.45],\"y\":[0.0,1.0]},\"hoverinfo\":\"label+percent\"},{\"labels\":[\"April\",\"July\",\"June\",\"May\"],\"name\":\"All months except August\",\"values\":[2100924,1547518,1411981,1562573],\"type\":\"pie\",\"domain\":{\"x\":[0.55,1.0],\"y\":[0.0,1.0]},\"hoverinfo\":\"label+percent\"}],                        {\"template\":{\"data\":{\"histogram2dcontour\":[{\"type\":\"histogram2dcontour\",\"colorbar\":{\"outlinewidth\":0,\"ticks\":\"\"},\"colorscale\":[[0.0,\"#0d0887\"],[0.1111111111111111,\"#46039f\"],[0.2222222222222222,\"#7201a8\"],[0.3333333333333333,\"#9c179e\"],[0.4444444444444444,\"#bd3786\"],[0.5555555555555556,\"#d8576b\"],[0.6666666666666666,\"#ed7953\"],[0.7777777777777778,\"#fb9f3a\"],[0.8888888888888888,\"#fdca26\"],[1.0,\"#f0f921\"]]}],\"choropleth\":[{\"type\":\"choropleth\",\"colorbar\":{\"outlinewidth\":0,\"ticks\":\"\"}}],\"histogram2d\":[{\"type\":\"histogram2d\",\"colorbar\":{\"outlinewidth\":0,\"ticks\":\"\"},\"colorscale\":[[0.0,\"#0d0887\"],[0.1111111111111111,\"#46039f\"],[0.2222222222222222,\"#7201a8\"],[0.3333333333333333,\"#9c179e\"],[0.4444444444444444,\"#bd3786\"],[0.5555555555555556,\"#d8576b\"],[0.6666666666666666,\"#ed7953\"],[0.7777777777777778,\"#fb9f3a\"],[0.8888888888888888,\"#fdca26\"],[1.0,\"#f0f921\"]]}],\"heatmap\":[{\"type\":\"heatmap\",\"colorbar\":{\"outlinewidth\":0,\"ticks\":\"\"},\"colorscale\":[[0.0,\"#0d0887\"],[0.1111111111111111,\"#46039f\"],[0.2222222222222222,\"#7201a8\"],[0.3333333333333333,\"#9c179e\"],[0.4444444444444444,\"#bd3786\"],[0.5555555555555556,\"#d8576b\"],[0.6666666666666666,\"#ed7953\"],[0.7777777777777778,\"#fb9f3a\"],[0.8888888888888888,\"#fdca26\"],[1.0,\"#f0f921\"]]}],\"heatmapgl\":[{\"type\":\"heatmapgl\",\"colorbar\":{\"outlinewidth\":0,\"ticks\":\"\"},\"colorscale\":[[0.0,\"#0d0887\"],[0.1111111111111111,\"#46039f\"],[0.2222222222222222,\"#7201a8\"],[0.3333333333333333,\"#9c179e\"],[0.4444444444444444,\"#bd3786\"],[0.5555555555555556,\"#d8576b\"],[0.6666666666666666,\"#ed7953\"],[0.7777777777777778,\"#fb9f3a\"],[0.8888888888888888,\"#fdca26\"],[1.0,\"#f0f921\"]]}],\"contourcarpet\":[{\"type\":\"contourcarpet\",\"colorbar\":{\"outlinewidth\":0,\"ticks\":\"\"}}],\"contour\":[{\"type\":\"contour\",\"colorbar\":{\"outlinewidth\":0,\"ticks\":\"\"},\"colorscale\":[[0.0,\"#0d0887\"],[0.1111111111111111,\"#46039f\"],[0.2222222222222222,\"#7201a8\"],[0.3333333333333333,\"#9c179e\"],[0.4444444444444444,\"#bd3786\"],[0.5555555555555556,\"#d8576b\"],[0.6666666666666666,\"#ed7953\"],[0.7777777777777778,\"#fb9f3a\"],[0.8888888888888888,\"#fdca26\"],[1.0,\"#f0f921\"]]}],\"surface\":[{\"type\":\"surface\",\"colorbar\":{\"outlinewidth\":0,\"ticks\":\"\"},\"colorscale\":[[0.0,\"#0d0887\"],[0.1111111111111111,\"#46039f\"],[0.2222222222222222,\"#7201a8\"],[0.3333333333333333,\"#9c179e\"],[0.4444444444444444,\"#bd3786\"],[0.5555555555555556,\"#d8576b\"],[0.6666666666666666,\"#ed7953\"],[0.7777777777777778,\"#fb9f3a\"],[0.8888888888888888,\"#fdca26\"],[1.0,\"#f0f921\"]]}],\"mesh3d\":[{\"type\":\"mesh3d\",\"colorbar\":{\"outlinewidth\":0,\"ticks\":\"\"}}],\"scatter\":[{\"fillpattern\":{\"fillmode\":\"overlay\",\"size\":10,\"solidity\":0.2},\"type\":\"scatter\"}],\"parcoords\":[{\"type\":\"parcoords\",\"line\":{\"colorbar\":{\"outlinewidth\":0,\"ticks\":\"\"}}}],\"scatterpolargl\":[{\"type\":\"scatterpolargl\",\"marker\":{\"colorbar\":{\"outlinewidth\":0,\"ticks\":\"\"}}}],\"bar\":[{\"error_x\":{\"color\":\"#2a3f5f\"},\"error_y\":{\"color\":\"#2a3f5f\"},\"marker\":{\"line\":{\"color\":\"#E5ECF6\",\"width\":0.5},\"pattern\":{\"fillmode\":\"overlay\",\"size\":10,\"solidity\":0.2}},\"type\":\"bar\"}],\"scattergeo\":[{\"type\":\"scattergeo\",\"marker\":{\"colorbar\":{\"outlinewidth\":0,\"ticks\":\"\"}}}],\"scatterpolar\":[{\"type\":\"scatterpolar\",\"marker\":{\"colorbar\":{\"outlinewidth\":0,\"ticks\":\"\"}}}],\"histogram\":[{\"marker\":{\"pattern\":{\"fillmode\":\"overlay\",\"size\":10,\"solidity\":0.2}},\"type\":\"histogram\"}],\"scattergl\":[{\"type\":\"scattergl\",\"marker\":{\"colorbar\":{\"outlinewidth\":0,\"ticks\":\"\"}}}],\"scatter3d\":[{\"type\":\"scatter3d\",\"line\":{\"colorbar\":{\"outlinewidth\":0,\"ticks\":\"\"}},\"marker\":{\"colorbar\":{\"outlinewidth\":0,\"ticks\":\"\"}}}],\"scattermapbox\":[{\"type\":\"scattermapbox\",\"marker\":{\"colorbar\":{\"outlinewidth\":0,\"ticks\":\"\"}}}],\"scatterternary\":[{\"type\":\"scatterternary\",\"marker\":{\"colorbar\":{\"outlinewidth\":0,\"ticks\":\"\"}}}],\"scattercarpet\":[{\"type\":\"scattercarpet\",\"marker\":{\"colorbar\":{\"outlinewidth\":0,\"ticks\":\"\"}}}],\"carpet\":[{\"aaxis\":{\"endlinecolor\":\"#2a3f5f\",\"gridcolor\":\"white\",\"linecolor\":\"white\",\"minorgridcolor\":\"white\",\"startlinecolor\":\"#2a3f5f\"},\"baxis\":{\"endlinecolor\":\"#2a3f5f\",\"gridcolor\":\"white\",\"linecolor\":\"white\",\"minorgridcolor\":\"white\",\"startlinecolor\":\"#2a3f5f\"},\"type\":\"carpet\"}],\"table\":[{\"cells\":{\"fill\":{\"color\":\"#EBF0F8\"},\"line\":{\"color\":\"white\"}},\"header\":{\"fill\":{\"color\":\"#C8D4E3\"},\"line\":{\"color\":\"white\"}},\"type\":\"table\"}],\"barpolar\":[{\"marker\":{\"line\":{\"color\":\"#E5ECF6\",\"width\":0.5},\"pattern\":{\"fillmode\":\"overlay\",\"size\":10,\"solidity\":0.2}},\"type\":\"barpolar\"}],\"pie\":[{\"automargin\":true,\"type\":\"pie\"}]},\"layout\":{\"autotypenumbers\":\"strict\",\"colorway\":[\"#636efa\",\"#EF553B\",\"#00cc96\",\"#ab63fa\",\"#FFA15A\",\"#19d3f3\",\"#FF6692\",\"#B6E880\",\"#FF97FF\",\"#FECB52\"],\"font\":{\"color\":\"#2a3f5f\"},\"hovermode\":\"closest\",\"hoverlabel\":{\"align\":\"left\"},\"paper_bgcolor\":\"white\",\"plot_bgcolor\":\"#E5ECF6\",\"polar\":{\"bgcolor\":\"#E5ECF6\",\"angularaxis\":{\"gridcolor\":\"white\",\"linecolor\":\"white\",\"ticks\":\"\"},\"radialaxis\":{\"gridcolor\":\"white\",\"linecolor\":\"white\",\"ticks\":\"\"}},\"ternary\":{\"bgcolor\":\"#E5ECF6\",\"aaxis\":{\"gridcolor\":\"white\",\"linecolor\":\"white\",\"ticks\":\"\"},\"baxis\":{\"gridcolor\":\"white\",\"linecolor\":\"white\",\"ticks\":\"\"},\"caxis\":{\"gridcolor\":\"white\",\"linecolor\":\"white\",\"ticks\":\"\"}},\"coloraxis\":{\"colorbar\":{\"outlinewidth\":0,\"ticks\":\"\"}},\"colorscale\":{\"sequential\":[[0.0,\"#0d0887\"],[0.1111111111111111,\"#46039f\"],[0.2222222222222222,\"#7201a8\"],[0.3333333333333333,\"#9c179e\"],[0.4444444444444444,\"#bd3786\"],[0.5555555555555556,\"#d8576b\"],[0.6666666666666666,\"#ed7953\"],[0.7777777777777778,\"#fb9f3a\"],[0.8888888888888888,\"#fdca26\"],[1.0,\"#f0f921\"]],\"sequentialminus\":[[0.0,\"#0d0887\"],[0.1111111111111111,\"#46039f\"],[0.2222222222222222,\"#7201a8\"],[0.3333333333333333,\"#9c179e\"],[0.4444444444444444,\"#bd3786\"],[0.5555555555555556,\"#d8576b\"],[0.6666666666666666,\"#ed7953\"],[0.7777777777777778,\"#fb9f3a\"],[0.8888888888888888,\"#fdca26\"],[1.0,\"#f0f921\"]],\"diverging\":[[0,\"#8e0152\"],[0.1,\"#c51b7d\"],[0.2,\"#de77ae\"],[0.3,\"#f1b6da\"],[0.4,\"#fde0ef\"],[0.5,\"#f7f7f7\"],[0.6,\"#e6f5d0\"],[0.7,\"#b8e186\"],[0.8,\"#7fbc41\"],[0.9,\"#4d9221\"],[1,\"#276419\"]]},\"xaxis\":{\"gridcolor\":\"white\",\"linecolor\":\"white\",\"ticks\":\"\",\"title\":{\"standoff\":15},\"zerolinecolor\":\"white\",\"automargin\":true,\"zerolinewidth\":2},\"yaxis\":{\"gridcolor\":\"white\",\"linecolor\":\"white\",\"ticks\":\"\",\"title\":{\"standoff\":15},\"zerolinecolor\":\"white\",\"automargin\":true,\"zerolinewidth\":2},\"scene\":{\"xaxis\":{\"backgroundcolor\":\"#E5ECF6\",\"gridcolor\":\"white\",\"linecolor\":\"white\",\"showbackground\":true,\"ticks\":\"\",\"zerolinecolor\":\"white\",\"gridwidth\":2},\"yaxis\":{\"backgroundcolor\":\"#E5ECF6\",\"gridcolor\":\"white\",\"linecolor\":\"white\",\"showbackground\":true,\"ticks\":\"\",\"zerolinecolor\":\"white\",\"gridwidth\":2},\"zaxis\":{\"backgroundcolor\":\"#E5ECF6\",\"gridcolor\":\"white\",\"linecolor\":\"white\",\"showbackground\":true,\"ticks\":\"\",\"zerolinecolor\":\"white\",\"gridwidth\":2}},\"shapedefaults\":{\"line\":{\"color\":\"#2a3f5f\"}},\"annotationdefaults\":{\"arrowcolor\":\"#2a3f5f\",\"arrowhead\":0,\"arrowwidth\":1},\"geo\":{\"bgcolor\":\"white\",\"landcolor\":\"#E5ECF6\",\"subunitcolor\":\"white\",\"showland\":true,\"showlakes\":true,\"lakecolor\":\"white\"},\"title\":{\"x\":0.05},\"mapbox\":{\"style\":\"light\"}}},\"title\":{\"text\":\"Relationship between month and buying from the website\"}},                        {\"responsive\": true}                    ).then(function(){\n",
       "                            \n",
       "var gd = document.getElementById('be827728-01b2-4239-882a-8e0729004a6a');\n",
       "var x = new MutationObserver(function (mutations, observer) {{\n",
       "        var display = window.getComputedStyle(gd).display;\n",
       "        if (!display || display === 'none') {{\n",
       "            console.log([gd, 'removed!']);\n",
       "            Plotly.purge(gd);\n",
       "            observer.disconnect();\n",
       "        }}\n",
       "}});\n",
       "\n",
       "// Listen for the removal of the full notebook cells\n",
       "var notebookContainer = gd.closest('#notebook-container');\n",
       "if (notebookContainer) {{\n",
       "    x.observe(notebookContainer, {childList: true});\n",
       "}}\n",
       "\n",
       "// Listen for the clearing of the current output cell\n",
       "var outputEl = gd.closest('.output');\n",
       "if (outputEl) {{\n",
       "    x.observe(outputEl, {childList: true});\n",
       "}}\n",
       "\n",
       "                        })                };                });            </script>        </div>"
      ]
     },
     "metadata": {},
     "output_type": "display_data"
    }
   ],
   "source": [
    "df_1 = df.groupby(\"month\")[[\"price\"]].sum()\n",
    "df_2 = df[df['month'] != 'August'].groupby(\"month\")[[\"price\"]].sum()\n",
    "\n",
    "# Create subplots: use 'domain' type for Pie subplot\n",
    "fig = make_subplots(rows=1, cols=2, specs=[\n",
    "                    [{'type': 'domain'}, {'type': 'domain'}]])\n",
    "\n",
    "fig.add_trace(go.Pie(labels=df_1.index, values=df_1[\"price\"], name=\"All monthes\"),\n",
    "              1, 1)\n",
    "fig.add_trace(go.Pie(labels=df_2.index, values=df_2['price'], name=\"All months except August\"),\n",
    "              1, 2)\n",
    "\n",
    "# Use `hole` to create a donut-like pie chart\n",
    "fig.update_traces(hoverinfo=\"label+percent\")\n",
    "\n",
    "fig.update_layout(\n",
    "    title_text=\"Relationship between month and buying from the website\")\n",
    "\n",
    "fig.show()\n"
   ]
  },
  {
   "cell_type": "markdown",
   "id": "ec70f224",
   "metadata": {
    "id": "JvzLlWww4U26",
    "papermill": {
     "duration": 0.026705,
     "end_time": "2022-10-06T12:40:41.757738",
     "exception": false,
     "start_time": "2022-10-06T12:40:41.731033",
     "status": "completed"
    },
    "tags": []
   },
   "source": [
    "As we can see April and May is the most selling months and June is the lowest selling month \n",
    "\n",
    "The data for August is incomplete. it stops at day 13 only"
   ]
  },
  {
   "cell_type": "code",
   "execution_count": 15,
   "id": "78537c4d",
   "metadata": {
    "execution": {
     "iopub.execute_input": "2022-10-06T12:40:41.814324Z",
     "iopub.status.busy": "2022-10-06T12:40:41.813219Z",
     "iopub.status.idle": "2022-10-06T12:40:41.836194Z",
     "shell.execute_reply": "2022-10-06T12:40:41.835011Z"
    },
    "id": "qfvaIwJh42xJ",
    "outputId": "75569ecf-5372-414a-a6da-1b0825621541",
    "papermill": {
     "duration": 0.053386,
     "end_time": "2022-10-06T12:40:41.838418",
     "exception": false,
     "start_time": "2022-10-06T12:40:41.785032",
     "status": "completed"
    },
    "tags": []
   },
   "outputs": [
    {
     "data": {
      "text/plain": [
       "array([ 1,  2,  3,  4,  5,  6,  7,  8,  9, 10, 11, 12, 13])"
      ]
     },
     "execution_count": 15,
     "metadata": {},
     "output_type": "execute_result"
    }
   ],
   "source": [
    "df[df['month'] == 'August']['day'].unique()"
   ]
  },
  {
   "cell_type": "markdown",
   "id": "835ec0cf",
   "metadata": {
    "papermill": {
     "duration": 0.027937,
     "end_time": "2022-10-06T12:40:41.893072",
     "exception": false,
     "start_time": "2022-10-06T12:40:41.865135",
     "status": "completed"
    },
    "tags": []
   },
   "source": [
    "## Does users seek cheaper products ?"
   ]
  },
  {
   "cell_type": "code",
   "execution_count": 16,
   "id": "26e804f5",
   "metadata": {
    "execution": {
     "iopub.execute_input": "2022-10-06T12:40:41.951521Z",
     "iopub.status.busy": "2022-10-06T12:40:41.950729Z",
     "iopub.status.idle": "2022-10-06T12:40:42.594292Z",
     "shell.execute_reply": "2022-10-06T12:40:42.592719Z"
    },
    "papermill": {
     "duration": 0.675359,
     "end_time": "2022-10-06T12:40:42.596719",
     "exception": false,
     "start_time": "2022-10-06T12:40:41.921360",
     "status": "completed"
    },
    "tags": []
   },
   "outputs": [
    {
     "data": {
      "image/png": "[encoded data removed]",
      "text/plain": [
       "<Figure size 936x360 with 3 Axes>"
      ]
     },
     "metadata": {
      "needs_background": "light"
     },
     "output_type": "display_data"
    }
   ],
   "source": [
    "df_copy = df.copy()\n",
    "df_copy['product price status'] = df_copy['price 2'].map({\n",
    "    1: 'above average',\n",
    "    2: 'below average'\n",
    "}).astype('category')\n",
    "\n",
    "plt.figure(figsize= (13, 5))\n",
    "#LEFT plot: Heatmap\n",
    "plt.subplot(1, 2, 1)\n",
    "# Use group_by() and size() to get the number of cars and each combination of the two variable levels as a pandas Series\n",
    "ct_counts = df_copy.groupby(['page 1 (main category)', 'product price status']).size()\n",
    "# Use Series.reset_index() to convert a series into a dataframe object\n",
    "ct_counts = ct_counts.reset_index(name='count')\n",
    "# Use DataFrame.pivot() to rearrange the data, to have page 1 (main category) names class on rows\n",
    "ct_counts = ct_counts.pivot(index = 'page 1 (main category)', columns = 'product price status', values = 'count')\n",
    "sns.heatmap(ct_counts, annot = True, fmt = 'd')\n",
    "# RIGHT plot: Clustered box plot\n",
    "plt.subplot(1, 2, 2)\n",
    "sns.countplot(data = df_copy, x = 'page 1 (main category)', hue = 'product price status')\n",
    "plt.show()"
   ]
  },
  {
   "cell_type": "markdown",
   "id": "3964c9c1",
   "metadata": {
    "id": "c62d6cbf",
    "papermill": {
     "duration": 0.027942,
     "end_time": "2022-10-06T12:40:42.651855",
     "exception": false,
     "start_time": "2022-10-06T12:40:42.623913",
     "status": "completed"
    },
    "tags": []
   },
   "source": [
    "## Are more clicks on the website refer to higher sales? and is the main category related?\n"
   ]
  },
  {
   "cell_type": "code",
   "execution_count": 17,
   "id": "41c38a32",
   "metadata": {
    "execution": {
     "iopub.execute_input": "2022-10-06T12:40:42.708585Z",
     "iopub.status.busy": "2022-10-06T12:40:42.708180Z",
     "iopub.status.idle": "2022-10-06T12:40:42.808334Z",
     "shell.execute_reply": "2022-10-06T12:40:42.807516Z"
    },
    "id": "19546b2e",
    "outputId": "5c1560f7-14ef-4e29-ee37-01c1b1bac405",
    "papermill": {
     "duration": 0.131107,
     "end_time": "2022-10-06T12:40:42.810462",
     "exception": false,
     "start_time": "2022-10-06T12:40:42.679355",
     "status": "completed"
    },
    "tags": []
   },
   "outputs": [
    {
     "data": {
      "text/html": [
       "<div>                            <div id=\"b226488f-8a25-46e8-8203-7fb30c7dc3ed\" class=\"plotly-graph-div\" style=\"height:525px; width:100%;\"></div>            <script type=\"text/javascript\">                require([\"plotly\"], function(Plotly) {                    window.PLOTLYENV=window.PLOTLYENV || {};                                    if (document.getElementById(\"b226488f-8a25-46e8-8203-7fb30c7dc3ed\")) {                    Plotly.newPlot(                        \"b226488f-8a25-46e8-8203-7fb30c7dc3ed\",                        [{\"hovertemplate\":\"page 1 (main category)=blouses<br>order=%{x}<br>price=%{y}<extra></extra>\",\"legendgroup\":\"blouses\",\"marker\":{\"color\":\"#636efa\",\"symbol\":\"circle\"},\"mode\":\"markers\",\"name\":\"blouses\",\"orientation\":\"v\",\"showlegend\":true,\"x\":[1,2,3,4,5,6,7,8,9,10,11,12,13,14,15,16,17,18,19,20,21,22,23,24,25,26,27,28,29,30,31,32,33,34,35,36,37,38,39,40,41,42,43,44,45,46,47,48,49,50,51,52,53,54,55,56,57,58,59,60,61,62,63,64,65,66,67,68,69,70,71,72,73,74,75,76,77,78,79,80,81,82,83,84,85,86,87,88,89,90,91,92,93,94,95,96,97,98,99,100,101,102,103,104,105,106,107,108,109,110,111,112,113,114,115,116,117,118,119,120,121,122,123,124,125,126,127,128,129,130,131,132,133,134,135,136,137,138,139,140,141,142,143,144,145,146,147,148,149,150,151,152,153,154,155,156,157,158,159,160,161,162,163,164,165,166,167,168,169,170,171,172,173,174,175,176,177,178,179,180,181,182,183,184,185,186,187,188,189,190,191,192,193,194,195],\"xaxis\":\"x\",\"y\":[178830,149814,135706,116232,101521,90751,78590,71148,61374,53847,47942,41986,37795,34494,30801,26999,24785,21078,18748,17847,16011,13717,13110,12257,10745,10095,9130,7794,7669,7244,6086,4975,4954,4177,4351,4109,3837,3828,3469,3138,2741,2597,2347,2599,2167,2051,1718,1639,1538,1588,1493,1602,1384,1436,1566,1392,1167,1293,1131,1338,960,899,907,912,896,837,806,899,766,719,662,591,428,465,557,465,471,436,384,406,447,484,459,501,597,528,381,431,396,369,250,240,324,245,257,173,88,88,180,315,268,280,262,262,174,118,96,96,76,95,71,56,81,96,129,126,134,124,141,153,76,61,61,71,103,78,81,46,56,74,68,68,86,86,105,96,114,90,91,91,91,85,33,33,33,28,48,48,48,52,33,33,96,105,105,98,93,86,76,71,105,125,76,80,56,51,61,56,103,103,98,86,125,46,56,54,54,48,75,75,86,56,85,83,40,40,68,95,95,90,96,109,33,48,52],\"yaxis\":\"y\",\"type\":\"scatter\"},{\"hovertemplate\":\"page 1 (main category)=sale<br>order=%{x}<br>price=%{y}<extra></extra>\",\"legendgroup\":\"sale\",\"marker\":{\"color\":\"#EF553B\",\"symbol\":\"circle\"},\"mode\":\"markers\",\"name\":\"sale\",\"orientation\":\"v\",\"showlegend\":true,\"x\":[1,2,3,4,5,6,7,8,9,10,11,12,13,14,15,16,17,18,19,20,21,22,23,24,25,26,27,28,29,30,31,32,33,34,35,36,37,38,39,40,41,42,43,44,45,46,47,48,49,50,51,52,53,54,55,56,57,58,59,60,61,62,63,64,65,66,67,68,69,70,71,72,73,74,75,76,77,78,79,80,81,82,83,84,85,86,87,88,89,90,91,92,93,94,95,96,97,98,99,100,101,102,103,104,105,106,107,108,109,110,111,112,113,114,115,116,117,118,119,120,121,122,123,124,125,126,127,128,129,130,131,132,133,134,135,136,137,138,139,140,141,142,143,144,145],\"xaxis\":\"x\",\"y\":[140666,112391,99490,90462,81697,74144,67763,61694,56603,51421,47128,42232,38055,34026,30060,28551,25806,23541,21716,19571,18604,16503,15173,14547,13958,12396,11409,10428,9850,9471,8450,7759,7507,6486,6000,5598,4739,4532,4072,4056,3750,3305,3146,2863,2656,2377,2033,1762,1855,1828,1698,1440,1379,1384,1439,1043,1253,1173,1012,931,928,819,786,922,753,705,662,724,740,700,667,718,654,538,449,519,429,423,428,473,388,408,340,350,335,360,456,406,466,393,411,433,365,350,332,312,309,352,292,251,279,266,276,251,261,201,304,266,241,246,259,286,208,233,175,185,205,180,175,200,137,104,119,99,99,109,109,89,71,71,71,76,86,76,71,71,61,61,66,71,76,81,61,43,48],\"yaxis\":\"y\",\"type\":\"scatter\"},{\"hovertemplate\":\"page 1 (main category)=skirts<br>order=%{x}<br>price=%{y}<extra></extra>\",\"legendgroup\":\"skirts\",\"marker\":{\"color\":\"#00cc96\",\"symbol\":\"circle\"},\"mode\":\"markers\",\"name\":\"skirts\",\"orientation\":\"v\",\"showlegend\":true,\"x\":[1,2,3,4,5,6,7,8,9,10,11,12,13,14,15,16,17,18,19,20,21,22,23,24,25,26,27,28,29,30,31,32,33,34,35,36,37,38,39,40,41,42,43,44,45,46,47,48,49,50,51,52,53,54,55,56,57,58,59,60,61,62,63,64,65,66,67,68,69,70,71,72,73,74,75,76,77,78,79,80,81,82,83,84,85,86,87,88,89,90,91,92,93,94,95,96,97,98,99,100,101,102,103,104,105,106,107,108,121,122,123,124,125,126,127,128,129,130,131,132,133,134,135,146,147,148,149,150,151,152,153,154,155,156,157,158,159,160,161],\"xaxis\":\"x\",\"y\":[339955,262770,213501,173002,140334,115755,96572,80861,67162,57532,47315,40377,34411,29549,27338,24047,21661,19408,15923,14771,11341,10449,9299,8356,7143,6741,6082,6437,5757,4865,4792,4250,3440,3508,3371,2805,2796,2353,2122,2068,1831,1683,1446,1431,1245,1435,1225,1166,1227,946,1107,1418,999,842,655,1004,942,712,584,484,485,475,585,609,480,603,647,598,499,394,446,520,337,376,418,352,276,248,201,124,162,114,180,185,114,119,167,224,105,162,162,95,162,133,138,152,152,190,71,95,110,95,57,57,38,33,48,48,38,43,67,67,38,57,57,38,57,38,62,57,57,38,48,38,43,67,67,38,57,38,57,57,38,62,57,57,38,33,48],\"yaxis\":\"y\",\"type\":\"scatter\"},{\"hovertemplate\":\"page 1 (main category)=trousers<br>order=%{x}<br>price=%{y}<extra></extra>\",\"legendgroup\":\"trousers\",\"marker\":{\"color\":\"#ab63fa\",\"symbol\":\"circle\"},\"mode\":\"markers\",\"name\":\"trousers\",\"orientation\":\"v\",\"showlegend\":true,\"x\":[1,2,3,4,5,6,7,8,9,10,11,12,13,14,15,16,17,18,19,20,21,22,23,24,25,26,27,28,29,30,31,32,33,34,35,36,37,38,39,40,41,42,43,44,45,46,47,48,49,50,51,52,53,54,55,56,57,58,59,60,61,62,63,64,65,66,67,68,69,70,71,72,73,74,75,76,77,78,79,80,81,82,83,84,85,86,87,88,89,90,91,92,93,94,95,96,97,98,99,100,101,102,103,104,105,106,107,108,109,110,136,137,138,139,140,141,142,143,144,145,146,147,148,149,150,151,152,153,154,155,156,157,158,159,160,161,162,163,164,165,166,167,168,169,170,171,172,173,174,175,176,177,178,179,180,181,182,183,184,185],\"xaxis\":\"x\",\"y\":[405935,329640,257795,203414,164476,132761,107983,86903,72819,62245,53389,44754,38181,33904,29311,25857,22077,19367,18841,17044,15879,14733,13675,11988,10082,9193,8359,7044,6473,6223,5866,6084,5472,5100,4523,4439,4222,4112,3496,2943,2857,2853,2386,2143,1985,1628,1957,1831,1633,1543,1395,1292,1156,985,895,748,804,737,835,674,815,850,819,694,725,542,542,436,414,388,365,274,417,387,291,307,424,324,496,458,363,315,353,233,352,277,263,148,258,71,71,128,33,100,100,76,148,38,62,38,62,38,62,38,66,172,43,43,60,28,33,38,62,62,33,48,38,55,71,103,110,100,81,105,105,81,124,82,62,28,60,33,33,38,62,38,33,38,62,62,33,48,38,38,55,33,33,43,60,38,62,38,38,38,62,62,38,38,43,28],\"yaxis\":\"y\",\"type\":\"scatter\"}],                        {\"template\":{\"data\":{\"histogram2dcontour\":[{\"type\":\"histogram2dcontour\",\"colorbar\":{\"outlinewidth\":0,\"ticks\":\"\"},\"colorscale\":[[0.0,\"#0d0887\"],[0.1111111111111111,\"#46039f\"],[0.2222222222222222,\"#7201a8\"],[0.3333333333333333,\"#9c179e\"],[0.4444444444444444,\"#bd3786\"],[0.5555555555555556,\"#d8576b\"],[0.6666666666666666,\"#ed7953\"],[0.7777777777777778,\"#fb9f3a\"],[0.8888888888888888,\"#fdca26\"],[1.0,\"#f0f921\"]]}],\"choropleth\":[{\"type\":\"choropleth\",\"colorbar\":{\"outlinewidth\":0,\"ticks\":\"\"}}],\"histogram2d\":[{\"type\":\"histogram2d\",\"colorbar\":{\"outlinewidth\":0,\"ticks\":\"\"},\"colorscale\":[[0.0,\"#0d0887\"],[0.1111111111111111,\"#46039f\"],[0.2222222222222222,\"#7201a8\"],[0.3333333333333333,\"#9c179e\"],[0.4444444444444444,\"#bd3786\"],[0.5555555555555556,\"#d8576b\"],[0.6666666666666666,\"#ed7953\"],[0.7777777777777778,\"#fb9f3a\"],[0.8888888888888888,\"#fdca26\"],[1.0,\"#f0f921\"]]}],\"heatmap\":[{\"type\":\"heatmap\",\"colorbar\":{\"outlinewidth\":0,\"ticks\":\"\"},\"colorscale\":[[0.0,\"#0d0887\"],[0.1111111111111111,\"#46039f\"],[0.2222222222222222,\"#7201a8\"],[0.3333333333333333,\"#9c179e\"],[0.4444444444444444,\"#bd3786\"],[0.5555555555555556,\"#d8576b\"],[0.6666666666666666,\"#ed7953\"],[0.7777777777777778,\"#fb9f3a\"],[0.8888888888888888,\"#fdca26\"],[1.0,\"#f0f921\"]]}],\"heatmapgl\":[{\"type\":\"heatmapgl\",\"colorbar\":{\"outlinewidth\":0,\"ticks\":\"\"},\"colorscale\":[[0.0,\"#0d0887\"],[0.1111111111111111,\"#46039f\"],[0.2222222222222222,\"#7201a8\"],[0.3333333333333333,\"#9c179e\"],[0.4444444444444444,\"#bd3786\"],[0.5555555555555556,\"#d8576b\"],[0.6666666666666666,\"#ed7953\"],[0.7777777777777778,\"#fb9f3a\"],[0.8888888888888888,\"#fdca26\"],[1.0,\"#f0f921\"]]}],\"contourcarpet\":[{\"type\":\"contourcarpet\",\"colorbar\":{\"outlinewidth\":0,\"ticks\":\"\"}}],\"contour\":[{\"type\":\"contour\",\"colorbar\":{\"outlinewidth\":0,\"ticks\":\"\"},\"colorscale\":[[0.0,\"#0d0887\"],[0.1111111111111111,\"#46039f\"],[0.2222222222222222,\"#7201a8\"],[0.3333333333333333,\"#9c179e\"],[0.4444444444444444,\"#bd3786\"],[0.5555555555555556,\"#d8576b\"],[0.6666666666666666,\"#ed7953\"],[0.7777777777777778,\"#fb9f3a\"],[0.8888888888888888,\"#fdca26\"],[1.0,\"#f0f921\"]]}],\"surface\":[{\"type\":\"surface\",\"colorbar\":{\"outlinewidth\":0,\"ticks\":\"\"},\"colorscale\":[[0.0,\"#0d0887\"],[0.1111111111111111,\"#46039f\"],[0.2222222222222222,\"#7201a8\"],[0.3333333333333333,\"#9c179e\"],[0.4444444444444444,\"#bd3786\"],[0.5555555555555556,\"#d8576b\"],[0.6666666666666666,\"#ed7953\"],[0.7777777777777778,\"#fb9f3a\"],[0.8888888888888888,\"#fdca26\"],[1.0,\"#f0f921\"]]}],\"mesh3d\":[{\"type\":\"mesh3d\",\"colorbar\":{\"outlinewidth\":0,\"ticks\":\"\"}}],\"scatter\":[{\"fillpattern\":{\"fillmode\":\"overlay\",\"size\":10,\"solidity\":0.2},\"type\":\"scatter\"}],\"parcoords\":[{\"type\":\"parcoords\",\"line\":{\"colorbar\":{\"outlinewidth\":0,\"ticks\":\"\"}}}],\"scatterpolargl\":[{\"type\":\"scatterpolargl\",\"marker\":{\"colorbar\":{\"outlinewidth\":0,\"ticks\":\"\"}}}],\"bar\":[{\"error_x\":{\"color\":\"#2a3f5f\"},\"error_y\":{\"color\":\"#2a3f5f\"},\"marker\":{\"line\":{\"color\":\"#E5ECF6\",\"width\":0.5},\"pattern\":{\"fillmode\":\"overlay\",\"size\":10,\"solidity\":0.2}},\"type\":\"bar\"}],\"scattergeo\":[{\"type\":\"scattergeo\",\"marker\":{\"colorbar\":{\"outlinewidth\":0,\"ticks\":\"\"}}}],\"scatterpolar\":[{\"type\":\"scatterpolar\",\"marker\":{\"colorbar\":{\"outlinewidth\":0,\"ticks\":\"\"}}}],\"histogram\":[{\"marker\":{\"pattern\":{\"fillmode\":\"overlay\",\"size\":10,\"solidity\":0.2}},\"type\":\"histogram\"}],\"scattergl\":[{\"type\":\"scattergl\",\"marker\":{\"colorbar\":{\"outlinewidth\":0,\"ticks\":\"\"}}}],\"scatter3d\":[{\"type\":\"scatter3d\",\"line\":{\"colorbar\":{\"outlinewidth\":0,\"ticks\":\"\"}},\"marker\":{\"colorbar\":{\"outlinewidth\":0,\"ticks\":\"\"}}}],\"scattermapbox\":[{\"type\":\"scattermapbox\",\"marker\":{\"colorbar\":{\"outlinewidth\":0,\"ticks\":\"\"}}}],\"scatterternary\":[{\"type\":\"scatterternary\",\"marker\":{\"colorbar\":{\"outlinewidth\":0,\"ticks\":\"\"}}}],\"scattercarpet\":[{\"type\":\"scattercarpet\",\"marker\":{\"colorbar\":{\"outlinewidth\":0,\"ticks\":\"\"}}}],\"carpet\":[{\"aaxis\":{\"endlinecolor\":\"#2a3f5f\",\"gridcolor\":\"white\",\"linecolor\":\"white\",\"minorgridcolor\":\"white\",\"startlinecolor\":\"#2a3f5f\"},\"baxis\":{\"endlinecolor\":\"#2a3f5f\",\"gridcolor\":\"white\",\"linecolor\":\"white\",\"minorgridcolor\":\"white\",\"startlinecolor\":\"#2a3f5f\"},\"type\":\"carpet\"}],\"table\":[{\"cells\":{\"fill\":{\"color\":\"#EBF0F8\"},\"line\":{\"color\":\"white\"}},\"header\":{\"fill\":{\"color\":\"#C8D4E3\"},\"line\":{\"color\":\"white\"}},\"type\":\"table\"}],\"barpolar\":[{\"marker\":{\"line\":{\"color\":\"#E5ECF6\",\"width\":0.5},\"pattern\":{\"fillmode\":\"overlay\",\"size\":10,\"solidity\":0.2}},\"type\":\"barpolar\"}],\"pie\":[{\"automargin\":true,\"type\":\"pie\"}]},\"layout\":{\"autotypenumbers\":\"strict\",\"colorway\":[\"#636efa\",\"#EF553B\",\"#00cc96\",\"#ab63fa\",\"#FFA15A\",\"#19d3f3\",\"#FF6692\",\"#B6E880\",\"#FF97FF\",\"#FECB52\"],\"font\":{\"color\":\"#2a3f5f\"},\"hovermode\":\"closest\",\"hoverlabel\":{\"align\":\"left\"},\"paper_bgcolor\":\"white\",\"plot_bgcolor\":\"#E5ECF6\",\"polar\":{\"bgcolor\":\"#E5ECF6\",\"angularaxis\":{\"gridcolor\":\"white\",\"linecolor\":\"white\",\"ticks\":\"\"},\"radialaxis\":{\"gridcolor\":\"white\",\"linecolor\":\"white\",\"ticks\":\"\"}},\"ternary\":{\"bgcolor\":\"#E5ECF6\",\"aaxis\":{\"gridcolor\":\"white\",\"linecolor\":\"white\",\"ticks\":\"\"},\"baxis\":{\"gridcolor\":\"white\",\"linecolor\":\"white\",\"ticks\":\"\"},\"caxis\":{\"gridcolor\":\"white\",\"linecolor\":\"white\",\"ticks\":\"\"}},\"coloraxis\":{\"colorbar\":{\"outlinewidth\":0,\"ticks\":\"\"}},\"colorscale\":{\"sequential\":[[0.0,\"#0d0887\"],[0.1111111111111111,\"#46039f\"],[0.2222222222222222,\"#7201a8\"],[0.3333333333333333,\"#9c179e\"],[0.4444444444444444,\"#bd3786\"],[0.5555555555555556,\"#d8576b\"],[0.6666666666666666,\"#ed7953\"],[0.7777777777777778,\"#fb9f3a\"],[0.8888888888888888,\"#fdca26\"],[1.0,\"#f0f921\"]],\"sequentialminus\":[[0.0,\"#0d0887\"],[0.1111111111111111,\"#46039f\"],[0.2222222222222222,\"#7201a8\"],[0.3333333333333333,\"#9c179e\"],[0.4444444444444444,\"#bd3786\"],[0.5555555555555556,\"#d8576b\"],[0.6666666666666666,\"#ed7953\"],[0.7777777777777778,\"#fb9f3a\"],[0.8888888888888888,\"#fdca26\"],[1.0,\"#f0f921\"]],\"diverging\":[[0,\"#8e0152\"],[0.1,\"#c51b7d\"],[0.2,\"#de77ae\"],[0.3,\"#f1b6da\"],[0.4,\"#fde0ef\"],[0.5,\"#f7f7f7\"],[0.6,\"#e6f5d0\"],[0.7,\"#b8e186\"],[0.8,\"#7fbc41\"],[0.9,\"#4d9221\"],[1,\"#276419\"]]},\"xaxis\":{\"gridcolor\":\"white\",\"linecolor\":\"white\",\"ticks\":\"\",\"title\":{\"standoff\":15},\"zerolinecolor\":\"white\",\"automargin\":true,\"zerolinewidth\":2},\"yaxis\":{\"gridcolor\":\"white\",\"linecolor\":\"white\",\"ticks\":\"\",\"title\":{\"standoff\":15},\"zerolinecolor\":\"white\",\"automargin\":true,\"zerolinewidth\":2},\"scene\":{\"xaxis\":{\"backgroundcolor\":\"#E5ECF6\",\"gridcolor\":\"white\",\"linecolor\":\"white\",\"showbackground\":true,\"ticks\":\"\",\"zerolinecolor\":\"white\",\"gridwidth\":2},\"yaxis\":{\"backgroundcolor\":\"#E5ECF6\",\"gridcolor\":\"white\",\"linecolor\":\"white\",\"showbackground\":true,\"ticks\":\"\",\"zerolinecolor\":\"white\",\"gridwidth\":2},\"zaxis\":{\"backgroundcolor\":\"#E5ECF6\",\"gridcolor\":\"white\",\"linecolor\":\"white\",\"showbackground\":true,\"ticks\":\"\",\"zerolinecolor\":\"white\",\"gridwidth\":2}},\"shapedefaults\":{\"line\":{\"color\":\"#2a3f5f\"}},\"annotationdefaults\":{\"arrowcolor\":\"#2a3f5f\",\"arrowhead\":0,\"arrowwidth\":1},\"geo\":{\"bgcolor\":\"white\",\"landcolor\":\"#E5ECF6\",\"subunitcolor\":\"white\",\"showland\":true,\"showlakes\":true,\"lakecolor\":\"white\"},\"title\":{\"x\":0.05},\"mapbox\":{\"style\":\"light\"}}},\"xaxis\":{\"anchor\":\"y\",\"domain\":[0.0,1.0],\"title\":{\"text\":\"order\"}},\"yaxis\":{\"anchor\":\"x\",\"domain\":[0.0,1.0],\"title\":{\"text\":\"price\"}},\"legend\":{\"title\":{\"text\":\"page 1 (main category)\"},\"tracegroupgap\":0},\"margin\":{\"t\":60}},                        {\"responsive\": true}                    ).then(function(){\n",
       "                            \n",
       "var gd = document.getElementById('b226488f-8a25-46e8-8203-7fb30c7dc3ed');\n",
       "var x = new MutationObserver(function (mutations, observer) {{\n",
       "        var display = window.getComputedStyle(gd).display;\n",
       "        if (!display || display === 'none') {{\n",
       "            console.log([gd, 'removed!']);\n",
       "            Plotly.purge(gd);\n",
       "            observer.disconnect();\n",
       "        }}\n",
       "}});\n",
       "\n",
       "// Listen for the removal of the full notebook cells\n",
       "var notebookContainer = gd.closest('#notebook-container');\n",
       "if (notebookContainer) {{\n",
       "    x.observe(notebookContainer, {childList: true});\n",
       "}}\n",
       "\n",
       "// Listen for the clearing of the current output cell\n",
       "var outputEl = gd.closest('.output');\n",
       "if (outputEl) {{\n",
       "    x.observe(outputEl, {childList: true});\n",
       "}}\n",
       "\n",
       "                        })                };                });            </script>        </div>"
      ]
     },
     "metadata": {},
     "output_type": "display_data"
    }
   ],
   "source": [
    "df11 = df.groupby(by=[\"order\",'page 1 (main category)'])[[\"price\"]].sum().reset_index()\n",
    "fig = px.scatter(df11, x=\"order\", y=\"price\",color=df11['page 1 (main category)'])\n",
    "fig.show()"
   ]
  },
  {
   "cell_type": "markdown",
   "id": "c900a447",
   "metadata": {
    "id": "57_SPwtN4omK",
    "papermill": {
     "duration": 0.027523,
     "end_time": "2022-10-06T12:40:42.866147",
     "exception": false,
     "start_time": "2022-10-06T12:40:42.838624",
     "status": "completed"
    },
    "tags": []
   },
   "source": [
    "The answer for our question is NO because clicks higher than 100 are not highly selling.Generally trousers are most selling for most orders and then blouses"
   ]
  },
  {
   "cell_type": "markdown",
   "id": "861cde06",
   "metadata": {
    "id": "eb32492d",
    "papermill": {
     "duration": 0.027534,
     "end_time": "2022-10-06T12:40:42.921388",
     "exception": false,
     "start_time": "2022-10-06T12:40:42.893854",
     "status": "completed"
    },
    "tags": []
   },
   "source": [
    "## What is the best selling category?"
   ]
  },
  {
   "cell_type": "code",
   "execution_count": 18,
   "id": "950fa9c1",
   "metadata": {
    "execution": {
     "iopub.execute_input": "2022-10-06T12:40:42.979376Z",
     "iopub.status.busy": "2022-10-06T12:40:42.978650Z",
     "iopub.status.idle": "2022-10-06T12:40:43.052766Z",
     "shell.execute_reply": "2022-10-06T12:40:43.051564Z"
    },
    "id": "61778635",
    "outputId": "22894afd-75e7-4b93-a6b9-1ab4de848709",
    "papermill": {
     "duration": 0.105676,
     "end_time": "2022-10-06T12:40:43.055156",
     "exception": false,
     "start_time": "2022-10-06T12:40:42.949480",
     "status": "completed"
    },
    "tags": []
   },
   "outputs": [
    {
     "data": {
      "text/html": [
       "<div>                            <div id=\"583d9122-a79b-4d46-a946-4b20316cc70d\" class=\"plotly-graph-div\" style=\"height:525px; width:100%;\"></div>            <script type=\"text/javascript\">                require([\"plotly\"], function(Plotly) {                    window.PLOTLYENV=window.PLOTLYENV || {};                                    if (document.getElementById(\"583d9122-a79b-4d46-a946-4b20316cc70d\")) {                    Plotly.newPlot(                        \"583d9122-a79b-4d46-a946-4b20316cc70d\",                        [{\"labels\":[\"blouses\",\"sale\",\"skirts\",\"trousers\"],\"name\":\"All monthes\",\"values\":[38577,38747,38408,49742],\"type\":\"pie\",\"domain\":{\"x\":[0.0,0.45],\"y\":[0.0,1.0]},\"hoverinfo\":\"label+percent\"},{\"labels\":[\"blouses\",\"sale\",\"skirts\",\"trousers\"],\"name\":\"All months except August\",\"values\":[1554334,1403951,1966199,2323692],\"type\":\"pie\",\"domain\":{\"x\":[0.55,1.0],\"y\":[0.0,1.0]},\"hoverinfo\":\"label+percent\"}],                        {\"template\":{\"data\":{\"histogram2dcontour\":[{\"type\":\"histogram2dcontour\",\"colorbar\":{\"outlinewidth\":0,\"ticks\":\"\"},\"colorscale\":[[0.0,\"#0d0887\"],[0.1111111111111111,\"#46039f\"],[0.2222222222222222,\"#7201a8\"],[0.3333333333333333,\"#9c179e\"],[0.4444444444444444,\"#bd3786\"],[0.5555555555555556,\"#d8576b\"],[0.6666666666666666,\"#ed7953\"],[0.7777777777777778,\"#fb9f3a\"],[0.8888888888888888,\"#fdca26\"],[1.0,\"#f0f921\"]]}],\"choropleth\":[{\"type\":\"choropleth\",\"colorbar\":{\"outlinewidth\":0,\"ticks\":\"\"}}],\"histogram2d\":[{\"type\":\"histogram2d\",\"colorbar\":{\"outlinewidth\":0,\"ticks\":\"\"},\"colorscale\":[[0.0,\"#0d0887\"],[0.1111111111111111,\"#46039f\"],[0.2222222222222222,\"#7201a8\"],[0.3333333333333333,\"#9c179e\"],[0.4444444444444444,\"#bd3786\"],[0.5555555555555556,\"#d8576b\"],[0.6666666666666666,\"#ed7953\"],[0.7777777777777778,\"#fb9f3a\"],[0.8888888888888888,\"#fdca26\"],[1.0,\"#f0f921\"]]}],\"heatmap\":[{\"type\":\"heatmap\",\"colorbar\":{\"outlinewidth\":0,\"ticks\":\"\"},\"colorscale\":[[0.0,\"#0d0887\"],[0.1111111111111111,\"#46039f\"],[0.2222222222222222,\"#7201a8\"],[0.3333333333333333,\"#9c179e\"],[0.4444444444444444,\"#bd3786\"],[0.5555555555555556,\"#d8576b\"],[0.6666666666666666,\"#ed7953\"],[0.7777777777777778,\"#fb9f3a\"],[0.8888888888888888,\"#fdca26\"],[1.0,\"#f0f921\"]]}],\"heatmapgl\":[{\"type\":\"heatmapgl\",\"colorbar\":{\"outlinewidth\":0,\"ticks\":\"\"},\"colorscale\":[[0.0,\"#0d0887\"],[0.1111111111111111,\"#46039f\"],[0.2222222222222222,\"#7201a8\"],[0.3333333333333333,\"#9c179e\"],[0.4444444444444444,\"#bd3786\"],[0.5555555555555556,\"#d8576b\"],[0.6666666666666666,\"#ed7953\"],[0.7777777777777778,\"#fb9f3a\"],[0.8888888888888888,\"#fdca26\"],[1.0,\"#f0f921\"]]}],\"contourcarpet\":[{\"type\":\"contourcarpet\",\"colorbar\":{\"outlinewidth\":0,\"ticks\":\"\"}}],\"contour\":[{\"type\":\"contour\",\"colorbar\":{\"outlinewidth\":0,\"ticks\":\"\"},\"colorscale\":[[0.0,\"#0d0887\"],[0.1111111111111111,\"#46039f\"],[0.2222222222222222,\"#7201a8\"],[0.3333333333333333,\"#9c179e\"],[0.4444444444444444,\"#bd3786\"],[0.5555555555555556,\"#d8576b\"],[0.6666666666666666,\"#ed7953\"],[0.7777777777777778,\"#fb9f3a\"],[0.8888888888888888,\"#fdca26\"],[1.0,\"#f0f921\"]]}],\"surface\":[{\"type\":\"surface\",\"colorbar\":{\"outlinewidth\":0,\"ticks\":\"\"},\"colorscale\":[[0.0,\"#0d0887\"],[0.1111111111111111,\"#46039f\"],[0.2222222222222222,\"#7201a8\"],[0.3333333333333333,\"#9c179e\"],[0.4444444444444444,\"#bd3786\"],[0.5555555555555556,\"#d8576b\"],[0.6666666666666666,\"#ed7953\"],[0.7777777777777778,\"#fb9f3a\"],[0.8888888888888888,\"#fdca26\"],[1.0,\"#f0f921\"]]}],\"mesh3d\":[{\"type\":\"mesh3d\",\"colorbar\":{\"outlinewidth\":0,\"ticks\":\"\"}}],\"scatter\":[{\"fillpattern\":{\"fillmode\":\"overlay\",\"size\":10,\"solidity\":0.2},\"type\":\"scatter\"}],\"parcoords\":[{\"type\":\"parcoords\",\"line\":{\"colorbar\":{\"outlinewidth\":0,\"ticks\":\"\"}}}],\"scatterpolargl\":[{\"type\":\"scatterpolargl\",\"marker\":{\"colorbar\":{\"outlinewidth\":0,\"ticks\":\"\"}}}],\"bar\":[{\"error_x\":{\"color\":\"#2a3f5f\"},\"error_y\":{\"color\":\"#2a3f5f\"},\"marker\":{\"line\":{\"color\":\"#E5ECF6\",\"width\":0.5},\"pattern\":{\"fillmode\":\"overlay\",\"size\":10,\"solidity\":0.2}},\"type\":\"bar\"}],\"scattergeo\":[{\"type\":\"scattergeo\",\"marker\":{\"colorbar\":{\"outlinewidth\":0,\"ticks\":\"\"}}}],\"scatterpolar\":[{\"type\":\"scatterpolar\",\"marker\":{\"colorbar\":{\"outlinewidth\":0,\"ticks\":\"\"}}}],\"histogram\":[{\"marker\":{\"pattern\":{\"fillmode\":\"overlay\",\"size\":10,\"solidity\":0.2}},\"type\":\"histogram\"}],\"scattergl\":[{\"type\":\"scattergl\",\"marker\":{\"colorbar\":{\"outlinewidth\":0,\"ticks\":\"\"}}}],\"scatter3d\":[{\"type\":\"scatter3d\",\"line\":{\"colorbar\":{\"outlinewidth\":0,\"ticks\":\"\"}},\"marker\":{\"colorbar\":{\"outlinewidth\":0,\"ticks\":\"\"}}}],\"scattermapbox\":[{\"type\":\"scattermapbox\",\"marker\":{\"colorbar\":{\"outlinewidth\":0,\"ticks\":\"\"}}}],\"scatterternary\":[{\"type\":\"scatterternary\",\"marker\":{\"colorbar\":{\"outlinewidth\":0,\"ticks\":\"\"}}}],\"scattercarpet\":[{\"type\":\"scattercarpet\",\"marker\":{\"colorbar\":{\"outlinewidth\":0,\"ticks\":\"\"}}}],\"carpet\":[{\"aaxis\":{\"endlinecolor\":\"#2a3f5f\",\"gridcolor\":\"white\",\"linecolor\":\"white\",\"minorgridcolor\":\"white\",\"startlinecolor\":\"#2a3f5f\"},\"baxis\":{\"endlinecolor\":\"#2a3f5f\",\"gridcolor\":\"white\",\"linecolor\":\"white\",\"minorgridcolor\":\"white\",\"startlinecolor\":\"#2a3f5f\"},\"type\":\"carpet\"}],\"table\":[{\"cells\":{\"fill\":{\"color\":\"#EBF0F8\"},\"line\":{\"color\":\"white\"}},\"header\":{\"fill\":{\"color\":\"#C8D4E3\"},\"line\":{\"color\":\"white\"}},\"type\":\"table\"}],\"barpolar\":[{\"marker\":{\"line\":{\"color\":\"#E5ECF6\",\"width\":0.5},\"pattern\":{\"fillmode\":\"overlay\",\"size\":10,\"solidity\":0.2}},\"type\":\"barpolar\"}],\"pie\":[{\"automargin\":true,\"type\":\"pie\"}]},\"layout\":{\"autotypenumbers\":\"strict\",\"colorway\":[\"#636efa\",\"#EF553B\",\"#00cc96\",\"#ab63fa\",\"#FFA15A\",\"#19d3f3\",\"#FF6692\",\"#B6E880\",\"#FF97FF\",\"#FECB52\"],\"font\":{\"color\":\"#2a3f5f\"},\"hovermode\":\"closest\",\"hoverlabel\":{\"align\":\"left\"},\"paper_bgcolor\":\"white\",\"plot_bgcolor\":\"#E5ECF6\",\"polar\":{\"bgcolor\":\"#E5ECF6\",\"angularaxis\":{\"gridcolor\":\"white\",\"linecolor\":\"white\",\"ticks\":\"\"},\"radialaxis\":{\"gridcolor\":\"white\",\"linecolor\":\"white\",\"ticks\":\"\"}},\"ternary\":{\"bgcolor\":\"#E5ECF6\",\"aaxis\":{\"gridcolor\":\"white\",\"linecolor\":\"white\",\"ticks\":\"\"},\"baxis\":{\"gridcolor\":\"white\",\"linecolor\":\"white\",\"ticks\":\"\"},\"caxis\":{\"gridcolor\":\"white\",\"linecolor\":\"white\",\"ticks\":\"\"}},\"coloraxis\":{\"colorbar\":{\"outlinewidth\":0,\"ticks\":\"\"}},\"colorscale\":{\"sequential\":[[0.0,\"#0d0887\"],[0.1111111111111111,\"#46039f\"],[0.2222222222222222,\"#7201a8\"],[0.3333333333333333,\"#9c179e\"],[0.4444444444444444,\"#bd3786\"],[0.5555555555555556,\"#d8576b\"],[0.6666666666666666,\"#ed7953\"],[0.7777777777777778,\"#fb9f3a\"],[0.8888888888888888,\"#fdca26\"],[1.0,\"#f0f921\"]],\"sequentialminus\":[[0.0,\"#0d0887\"],[0.1111111111111111,\"#46039f\"],[0.2222222222222222,\"#7201a8\"],[0.3333333333333333,\"#9c179e\"],[0.4444444444444444,\"#bd3786\"],[0.5555555555555556,\"#d8576b\"],[0.6666666666666666,\"#ed7953\"],[0.7777777777777778,\"#fb9f3a\"],[0.8888888888888888,\"#fdca26\"],[1.0,\"#f0f921\"]],\"diverging\":[[0,\"#8e0152\"],[0.1,\"#c51b7d\"],[0.2,\"#de77ae\"],[0.3,\"#f1b6da\"],[0.4,\"#fde0ef\"],[0.5,\"#f7f7f7\"],[0.6,\"#e6f5d0\"],[0.7,\"#b8e186\"],[0.8,\"#7fbc41\"],[0.9,\"#4d9221\"],[1,\"#276419\"]]},\"xaxis\":{\"gridcolor\":\"white\",\"linecolor\":\"white\",\"ticks\":\"\",\"title\":{\"standoff\":15},\"zerolinecolor\":\"white\",\"automargin\":true,\"zerolinewidth\":2},\"yaxis\":{\"gridcolor\":\"white\",\"linecolor\":\"white\",\"ticks\":\"\",\"title\":{\"standoff\":15},\"zerolinecolor\":\"white\",\"automargin\":true,\"zerolinewidth\":2},\"scene\":{\"xaxis\":{\"backgroundcolor\":\"#E5ECF6\",\"gridcolor\":\"white\",\"linecolor\":\"white\",\"showbackground\":true,\"ticks\":\"\",\"zerolinecolor\":\"white\",\"gridwidth\":2},\"yaxis\":{\"backgroundcolor\":\"#E5ECF6\",\"gridcolor\":\"white\",\"linecolor\":\"white\",\"showbackground\":true,\"ticks\":\"\",\"zerolinecolor\":\"white\",\"gridwidth\":2},\"zaxis\":{\"backgroundcolor\":\"#E5ECF6\",\"gridcolor\":\"white\",\"linecolor\":\"white\",\"showbackground\":true,\"ticks\":\"\",\"zerolinecolor\":\"white\",\"gridwidth\":2}},\"shapedefaults\":{\"line\":{\"color\":\"#2a3f5f\"}},\"annotationdefaults\":{\"arrowcolor\":\"#2a3f5f\",\"arrowhead\":0,\"arrowwidth\":1},\"geo\":{\"bgcolor\":\"white\",\"landcolor\":\"#E5ECF6\",\"subunitcolor\":\"white\",\"showland\":true,\"showlakes\":true,\"lakecolor\":\"white\"},\"title\":{\"x\":0.05},\"mapbox\":{\"style\":\"light\"}}},\"annotations\":[{\"font\":{\"size\":16},\"showarrow\":false,\"text\":\"Total sales per Type\",\"x\":0.225,\"xanchor\":\"center\",\"xref\":\"paper\",\"y\":1.0,\"yanchor\":\"bottom\",\"yref\":\"paper\"},{\"font\":{\"size\":16},\"showarrow\":false,\"text\":\"Total sales in dollars per Type\",\"x\":0.775,\"xanchor\":\"center\",\"xref\":\"paper\",\"y\":1.0,\"yanchor\":\"bottom\",\"yref\":\"paper\"}],\"title\":{\"text\":\"Relationship between month and buying from the website\"}},                        {\"responsive\": true}                    ).then(function(){\n",
       "                            \n",
       "var gd = document.getElementById('583d9122-a79b-4d46-a946-4b20316cc70d');\n",
       "var x = new MutationObserver(function (mutations, observer) {{\n",
       "        var display = window.getComputedStyle(gd).display;\n",
       "        if (!display || display === 'none') {{\n",
       "            console.log([gd, 'removed!']);\n",
       "            Plotly.purge(gd);\n",
       "            observer.disconnect();\n",
       "        }}\n",
       "}});\n",
       "\n",
       "// Listen for the removal of the full notebook cells\n",
       "var notebookContainer = gd.closest('#notebook-container');\n",
       "if (notebookContainer) {{\n",
       "    x.observe(notebookContainer, {childList: true});\n",
       "}}\n",
       "\n",
       "// Listen for the clearing of the current output cell\n",
       "var outputEl = gd.closest('.output');\n",
       "if (outputEl) {{\n",
       "    x.observe(outputEl, {childList: true});\n",
       "}}\n",
       "\n",
       "                        })                };                });            </script>        </div>"
      ]
     },
     "metadata": {},
     "output_type": "display_data"
    }
   ],
   "source": [
    "df_1 = df.groupby(\"page 1 (main category)\")[[\"price\"]].count()\n",
    "df_2 = df.groupby(\"page 1 (main category)\")[[\"price\"]].sum()\n",
    "\n",
    "# Create subplots: use 'domain' type for Pie subplot\n",
    "fig = make_subplots(rows=1, cols=2, specs=[[{'type': 'domain'}, {'type': 'domain'}]], \n",
    "                    subplot_titles = [\n",
    "                        'Total sales per Type',\n",
    "                        'Total sales in dollars per Type'])\n",
    "\n",
    "fig.add_trace(go.Pie(labels=df_1.index, values=df_1[\"price\"], name=\"All monthes\"),\n",
    "              1, 1)\n",
    "fig.add_trace(go.Pie(labels=df_2.index, values=df_2['price'], name=\"All months except August\"),\n",
    "              1, 2)\n",
    "\n",
    "# Use `hole` to create a donut-like pie chart\n",
    "fig.update_traces(hoverinfo=\"label+percent\")\n",
    "\n",
    "fig.update_layout(\n",
    "    title_text=\"Relationship between month and buying from the website\")\n",
    "\n",
    "fig.show()\n"
   ]
  },
  {
   "cell_type": "markdown",
   "id": "8ca6d8f3",
   "metadata": {
    "id": "XukjnCrx5Nw_",
    "papermill": {
     "duration": 0.028242,
     "end_time": "2022-10-06T12:40:43.112127",
     "exception": false,
     "start_time": "2022-10-06T12:40:43.083885",
     "status": "completed"
    },
    "tags": []
   },
   "source": [
    "It seems that trousers are prefered buying but our categories is fairly distributed "
   ]
  },
  {
   "cell_type": "markdown",
   "id": "0b74058b",
   "metadata": {
    "id": "4d2f77da",
    "papermill": {
     "duration": 0.027597,
     "end_time": "2022-10-06T12:40:43.168139",
     "exception": false,
     "start_time": "2022-10-06T12:40:43.140542",
     "status": "completed"
    },
    "tags": []
   },
   "source": [
    "## What does customers buy from each page?"
   ]
  },
  {
   "cell_type": "code",
   "execution_count": 19,
   "id": "63472890",
   "metadata": {
    "execution": {
     "iopub.execute_input": "2022-10-06T12:40:43.225965Z",
     "iopub.status.busy": "2022-10-06T12:40:43.225569Z",
     "iopub.status.idle": "2022-10-06T12:40:43.317134Z",
     "shell.execute_reply": "2022-10-06T12:40:43.315927Z"
    },
    "id": "457cc585",
    "outputId": "f8eb40cc-0efa-4dc4-d99e-2c1693758626",
    "papermill": {
     "duration": 0.12344,
     "end_time": "2022-10-06T12:40:43.319416",
     "exception": false,
     "start_time": "2022-10-06T12:40:43.195976",
     "status": "completed"
    },
    "tags": []
   },
   "outputs": [
    {
     "data": {
      "text/html": [
       "<div>                            <div id=\"e9b58ae6-0e4d-4c71-9e59-82e7df0d29df\" class=\"plotly-graph-div\" style=\"height:525px; width:100%;\"></div>            <script type=\"text/javascript\">                require([\"plotly\"], function(Plotly) {                    window.PLOTLYENV=window.PLOTLYENV || {};                                    if (document.getElementById(\"e9b58ae6-0e4d-4c71-9e59-82e7df0d29df\")) {                    Plotly.newPlot(                        \"e9b58ae6-0e4d-4c71-9e59-82e7df0d29df\",                        [{\"alignmentgroup\":\"True\",\"hovertemplate\":\"page 1 (main category)=blouses<br>page=%{x}<br>counts=%{y}<extra></extra>\",\"legendgroup\":\"blouses\",\"marker\":{\"color\":\"#636efa\",\"pattern\":{\"shape\":\"\"}},\"name\":\"blouses\",\"offsetgroup\":\"blouses\",\"orientation\":\"v\",\"showlegend\":true,\"textposition\":\"auto\",\"x\":[1,2,3,4],\"xaxis\":\"x\",\"y\":[16830,9056,9080,3611],\"yaxis\":\"y\",\"type\":\"bar\"},{\"alignmentgroup\":\"True\",\"hovertemplate\":\"page 1 (main category)=sale<br>page=%{x}<br>counts=%{y}<extra></extra>\",\"legendgroup\":\"sale\",\"marker\":{\"color\":\"#EF553B\",\"pattern\":{\"shape\":\"\"}},\"name\":\"sale\",\"offsetgroup\":\"sale\",\"orientation\":\"v\",\"showlegend\":true,\"textposition\":\"auto\",\"x\":[1,2,3,4,5],\"xaxis\":\"x\",\"y\":[18086,6070,6518,5250,2823],\"yaxis\":\"y\",\"type\":\"bar\"},{\"alignmentgroup\":\"True\",\"hovertemplate\":\"page 1 (main category)=skirts<br>page=%{x}<br>counts=%{y}<extra></extra>\",\"legendgroup\":\"skirts\",\"marker\":{\"color\":\"#00cc96\",\"pattern\":{\"shape\":\"\"}},\"name\":\"skirts\",\"offsetgroup\":\"skirts\",\"orientation\":\"v\",\"showlegend\":true,\"textposition\":\"auto\",\"x\":[1,2],\"xaxis\":\"x\",\"y\":[23591,14817],\"yaxis\":\"y\",\"type\":\"bar\"},{\"alignmentgroup\":\"True\",\"hovertemplate\":\"page 1 (main category)=trousers<br>page=%{x}<br>counts=%{y}<extra></extra>\",\"legendgroup\":\"trousers\",\"marker\":{\"color\":\"#ab63fa\",\"pattern\":{\"shape\":\"\"}},\"name\":\"trousers\",\"offsetgroup\":\"trousers\",\"orientation\":\"v\",\"showlegend\":true,\"textposition\":\"auto\",\"x\":[1,2,3],\"xaxis\":\"x\",\"y\":[34945,11094,3703],\"yaxis\":\"y\",\"type\":\"bar\"}],                        {\"template\":{\"data\":{\"histogram2dcontour\":[{\"type\":\"histogram2dcontour\",\"colorbar\":{\"outlinewidth\":0,\"ticks\":\"\"},\"colorscale\":[[0.0,\"#0d0887\"],[0.1111111111111111,\"#46039f\"],[0.2222222222222222,\"#7201a8\"],[0.3333333333333333,\"#9c179e\"],[0.4444444444444444,\"#bd3786\"],[0.5555555555555556,\"#d8576b\"],[0.6666666666666666,\"#ed7953\"],[0.7777777777777778,\"#fb9f3a\"],[0.8888888888888888,\"#fdca26\"],[1.0,\"#f0f921\"]]}],\"choropleth\":[{\"type\":\"choropleth\",\"colorbar\":{\"outlinewidth\":0,\"ticks\":\"\"}}],\"histogram2d\":[{\"type\":\"histogram2d\",\"colorbar\":{\"outlinewidth\":0,\"ticks\":\"\"},\"colorscale\":[[0.0,\"#0d0887\"],[0.1111111111111111,\"#46039f\"],[0.2222222222222222,\"#7201a8\"],[0.3333333333333333,\"#9c179e\"],[0.4444444444444444,\"#bd3786\"],[0.5555555555555556,\"#d8576b\"],[0.6666666666666666,\"#ed7953\"],[0.7777777777777778,\"#fb9f3a\"],[0.8888888888888888,\"#fdca26\"],[1.0,\"#f0f921\"]]}],\"heatmap\":[{\"type\":\"heatmap\",\"colorbar\":{\"outlinewidth\":0,\"ticks\":\"\"},\"colorscale\":[[0.0,\"#0d0887\"],[0.1111111111111111,\"#46039f\"],[0.2222222222222222,\"#7201a8\"],[0.3333333333333333,\"#9c179e\"],[0.4444444444444444,\"#bd3786\"],[0.5555555555555556,\"#d8576b\"],[0.6666666666666666,\"#ed7953\"],[0.7777777777777778,\"#fb9f3a\"],[0.8888888888888888,\"#fdca26\"],[1.0,\"#f0f921\"]]}],\"heatmapgl\":[{\"type\":\"heatmapgl\",\"colorbar\":{\"outlinewidth\":0,\"ticks\":\"\"},\"colorscale\":[[0.0,\"#0d0887\"],[0.1111111111111111,\"#46039f\"],[0.2222222222222222,\"#7201a8\"],[0.3333333333333333,\"#9c179e\"],[0.4444444444444444,\"#bd3786\"],[0.5555555555555556,\"#d8576b\"],[0.6666666666666666,\"#ed7953\"],[0.7777777777777778,\"#fb9f3a\"],[0.8888888888888888,\"#fdca26\"],[1.0,\"#f0f921\"]]}],\"contourcarpet\":[{\"type\":\"contourcarpet\",\"colorbar\":{\"outlinewidth\":0,\"ticks\":\"\"}}],\"contour\":[{\"type\":\"contour\",\"colorbar\":{\"outlinewidth\":0,\"ticks\":\"\"},\"colorscale\":[[0.0,\"#0d0887\"],[0.1111111111111111,\"#46039f\"],[0.2222222222222222,\"#7201a8\"],[0.3333333333333333,\"#9c179e\"],[0.4444444444444444,\"#bd3786\"],[0.5555555555555556,\"#d8576b\"],[0.6666666666666666,\"#ed7953\"],[0.7777777777777778,\"#fb9f3a\"],[0.8888888888888888,\"#fdca26\"],[1.0,\"#f0f921\"]]}],\"surface\":[{\"type\":\"surface\",\"colorbar\":{\"outlinewidth\":0,\"ticks\":\"\"},\"colorscale\":[[0.0,\"#0d0887\"],[0.1111111111111111,\"#46039f\"],[0.2222222222222222,\"#7201a8\"],[0.3333333333333333,\"#9c179e\"],[0.4444444444444444,\"#bd3786\"],[0.5555555555555556,\"#d8576b\"],[0.6666666666666666,\"#ed7953\"],[0.7777777777777778,\"#fb9f3a\"],[0.8888888888888888,\"#fdca26\"],[1.0,\"#f0f921\"]]}],\"mesh3d\":[{\"type\":\"mesh3d\",\"colorbar\":{\"outlinewidth\":0,\"ticks\":\"\"}}],\"scatter\":[{\"fillpattern\":{\"fillmode\":\"overlay\",\"size\":10,\"solidity\":0.2},\"type\":\"scatter\"}],\"parcoords\":[{\"type\":\"parcoords\",\"line\":{\"colorbar\":{\"outlinewidth\":0,\"ticks\":\"\"}}}],\"scatterpolargl\":[{\"type\":\"scatterpolargl\",\"marker\":{\"colorbar\":{\"outlinewidth\":0,\"ticks\":\"\"}}}],\"bar\":[{\"error_x\":{\"color\":\"#2a3f5f\"},\"error_y\":{\"color\":\"#2a3f5f\"},\"marker\":{\"line\":{\"color\":\"#E5ECF6\",\"width\":0.5},\"pattern\":{\"fillmode\":\"overlay\",\"size\":10,\"solidity\":0.2}},\"type\":\"bar\"}],\"scattergeo\":[{\"type\":\"scattergeo\",\"marker\":{\"colorbar\":{\"outlinewidth\":0,\"ticks\":\"\"}}}],\"scatterpolar\":[{\"type\":\"scatterpolar\",\"marker\":{\"colorbar\":{\"outlinewidth\":0,\"ticks\":\"\"}}}],\"histogram\":[{\"marker\":{\"pattern\":{\"fillmode\":\"overlay\",\"size\":10,\"solidity\":0.2}},\"type\":\"histogram\"}],\"scattergl\":[{\"type\":\"scattergl\",\"marker\":{\"colorbar\":{\"outlinewidth\":0,\"ticks\":\"\"}}}],\"scatter3d\":[{\"type\":\"scatter3d\",\"line\":{\"colorbar\":{\"outlinewidth\":0,\"ticks\":\"\"}},\"marker\":{\"colorbar\":{\"outlinewidth\":0,\"ticks\":\"\"}}}],\"scattermapbox\":[{\"type\":\"scattermapbox\",\"marker\":{\"colorbar\":{\"outlinewidth\":0,\"ticks\":\"\"}}}],\"scatterternary\":[{\"type\":\"scatterternary\",\"marker\":{\"colorbar\":{\"outlinewidth\":0,\"ticks\":\"\"}}}],\"scattercarpet\":[{\"type\":\"scattercarpet\",\"marker\":{\"colorbar\":{\"outlinewidth\":0,\"ticks\":\"\"}}}],\"carpet\":[{\"aaxis\":{\"endlinecolor\":\"#2a3f5f\",\"gridcolor\":\"white\",\"linecolor\":\"white\",\"minorgridcolor\":\"white\",\"startlinecolor\":\"#2a3f5f\"},\"baxis\":{\"endlinecolor\":\"#2a3f5f\",\"gridcolor\":\"white\",\"linecolor\":\"white\",\"minorgridcolor\":\"white\",\"startlinecolor\":\"#2a3f5f\"},\"type\":\"carpet\"}],\"table\":[{\"cells\":{\"fill\":{\"color\":\"#EBF0F8\"},\"line\":{\"color\":\"white\"}},\"header\":{\"fill\":{\"color\":\"#C8D4E3\"},\"line\":{\"color\":\"white\"}},\"type\":\"table\"}],\"barpolar\":[{\"marker\":{\"line\":{\"color\":\"#E5ECF6\",\"width\":0.5},\"pattern\":{\"fillmode\":\"overlay\",\"size\":10,\"solidity\":0.2}},\"type\":\"barpolar\"}],\"pie\":[{\"automargin\":true,\"type\":\"pie\"}]},\"layout\":{\"autotypenumbers\":\"strict\",\"colorway\":[\"#636efa\",\"#EF553B\",\"#00cc96\",\"#ab63fa\",\"#FFA15A\",\"#19d3f3\",\"#FF6692\",\"#B6E880\",\"#FF97FF\",\"#FECB52\"],\"font\":{\"color\":\"#2a3f5f\"},\"hovermode\":\"closest\",\"hoverlabel\":{\"align\":\"left\"},\"paper_bgcolor\":\"white\",\"plot_bgcolor\":\"#E5ECF6\",\"polar\":{\"bgcolor\":\"#E5ECF6\",\"angularaxis\":{\"gridcolor\":\"white\",\"linecolor\":\"white\",\"ticks\":\"\"},\"radialaxis\":{\"gridcolor\":\"white\",\"linecolor\":\"white\",\"ticks\":\"\"}},\"ternary\":{\"bgcolor\":\"#E5ECF6\",\"aaxis\":{\"gridcolor\":\"white\",\"linecolor\":\"white\",\"ticks\":\"\"},\"baxis\":{\"gridcolor\":\"white\",\"linecolor\":\"white\",\"ticks\":\"\"},\"caxis\":{\"gridcolor\":\"white\",\"linecolor\":\"white\",\"ticks\":\"\"}},\"coloraxis\":{\"colorbar\":{\"outlinewidth\":0,\"ticks\":\"\"}},\"colorscale\":{\"sequential\":[[0.0,\"#0d0887\"],[0.1111111111111111,\"#46039f\"],[0.2222222222222222,\"#7201a8\"],[0.3333333333333333,\"#9c179e\"],[0.4444444444444444,\"#bd3786\"],[0.5555555555555556,\"#d8576b\"],[0.6666666666666666,\"#ed7953\"],[0.7777777777777778,\"#fb9f3a\"],[0.8888888888888888,\"#fdca26\"],[1.0,\"#f0f921\"]],\"sequentialminus\":[[0.0,\"#0d0887\"],[0.1111111111111111,\"#46039f\"],[0.2222222222222222,\"#7201a8\"],[0.3333333333333333,\"#9c179e\"],[0.4444444444444444,\"#bd3786\"],[0.5555555555555556,\"#d8576b\"],[0.6666666666666666,\"#ed7953\"],[0.7777777777777778,\"#fb9f3a\"],[0.8888888888888888,\"#fdca26\"],[1.0,\"#f0f921\"]],\"diverging\":[[0,\"#8e0152\"],[0.1,\"#c51b7d\"],[0.2,\"#de77ae\"],[0.3,\"#f1b6da\"],[0.4,\"#fde0ef\"],[0.5,\"#f7f7f7\"],[0.6,\"#e6f5d0\"],[0.7,\"#b8e186\"],[0.8,\"#7fbc41\"],[0.9,\"#4d9221\"],[1,\"#276419\"]]},\"xaxis\":{\"gridcolor\":\"white\",\"linecolor\":\"white\",\"ticks\":\"\",\"title\":{\"standoff\":15},\"zerolinecolor\":\"white\",\"automargin\":true,\"zerolinewidth\":2},\"yaxis\":{\"gridcolor\":\"white\",\"linecolor\":\"white\",\"ticks\":\"\",\"title\":{\"standoff\":15},\"zerolinecolor\":\"white\",\"automargin\":true,\"zerolinewidth\":2},\"scene\":{\"xaxis\":{\"backgroundcolor\":\"#E5ECF6\",\"gridcolor\":\"white\",\"linecolor\":\"white\",\"showbackground\":true,\"ticks\":\"\",\"zerolinecolor\":\"white\",\"gridwidth\":2},\"yaxis\":{\"backgroundcolor\":\"#E5ECF6\",\"gridcolor\":\"white\",\"linecolor\":\"white\",\"showbackground\":true,\"ticks\":\"\",\"zerolinecolor\":\"white\",\"gridwidth\":2},\"zaxis\":{\"backgroundcolor\":\"#E5ECF6\",\"gridcolor\":\"white\",\"linecolor\":\"white\",\"showbackground\":true,\"ticks\":\"\",\"zerolinecolor\":\"white\",\"gridwidth\":2}},\"shapedefaults\":{\"line\":{\"color\":\"#2a3f5f\"}},\"annotationdefaults\":{\"arrowcolor\":\"#2a3f5f\",\"arrowhead\":0,\"arrowwidth\":1},\"geo\":{\"bgcolor\":\"white\",\"landcolor\":\"#E5ECF6\",\"subunitcolor\":\"white\",\"showland\":true,\"showlakes\":true,\"lakecolor\":\"white\"},\"title\":{\"x\":0.05},\"mapbox\":{\"style\":\"light\"}}},\"xaxis\":{\"anchor\":\"y\",\"domain\":[0.0,1.0],\"title\":{\"text\":\"page\"}},\"yaxis\":{\"anchor\":\"x\",\"domain\":[0.0,1.0],\"title\":{\"text\":\"counts\"}},\"legend\":{\"title\":{\"text\":\"page 1 (main category)\"},\"tracegroupgap\":0},\"margin\":{\"t\":60},\"barmode\":\"group\"},                        {\"responsive\": true}                    ).then(function(){\n",
       "                            \n",
       "var gd = document.getElementById('e9b58ae6-0e4d-4c71-9e59-82e7df0d29df');\n",
       "var x = new MutationObserver(function (mutations, observer) {{\n",
       "        var display = window.getComputedStyle(gd).display;\n",
       "        if (!display || display === 'none') {{\n",
       "            console.log([gd, 'removed!']);\n",
       "            Plotly.purge(gd);\n",
       "            observer.disconnect();\n",
       "        }}\n",
       "}});\n",
       "\n",
       "// Listen for the removal of the full notebook cells\n",
       "var notebookContainer = gd.closest('#notebook-container');\n",
       "if (notebookContainer) {{\n",
       "    x.observe(notebookContainer, {childList: true});\n",
       "}}\n",
       "\n",
       "// Listen for the clearing of the current output cell\n",
       "var outputEl = gd.closest('.output');\n",
       "if (outputEl) {{\n",
       "    x.observe(outputEl, {childList: true});\n",
       "}}\n",
       "\n",
       "                        })                };                });            </script>        </div>"
      ]
     },
     "metadata": {},
     "output_type": "display_data"
    }
   ],
   "source": [
    "df1 = df.groupby(by=[\"page\", \"page 1 (main category)\"]).size().reset_index(name=\"counts\")\n",
    "\n",
    "px.bar(data_frame=df1, x=\"page\", y=\"counts\",\n",
    "       color=\"page 1 (main category)\", barmode=\"group\")"
   ]
  },
  {
   "cell_type": "markdown",
   "id": "8bef063c",
   "metadata": {
    "id": "4D9vSn6e6krm",
    "papermill": {
     "duration": 0.030894,
     "end_time": "2022-10-06T12:40:43.383466",
     "exception": false,
     "start_time": "2022-10-06T12:40:43.352572",
     "status": "completed"
    },
    "tags": []
   },
   "source": [
    "- The first page is the best for selling specially for trousers and skirts categories \n",
    "- It seems also that last page is preferred for sale products"
   ]
  },
  {
   "cell_type": "markdown",
   "id": "0a22dc4a",
   "metadata": {
    "id": "XkRQNbYNNn5v",
    "papermill": {
     "duration": 0.02875,
     "end_time": "2022-10-06T12:40:43.440200",
     "exception": false,
     "start_time": "2022-10-06T12:40:43.411450",
     "status": "completed"
    },
    "tags": []
   },
   "source": [
    "we can also conclude that:\n",
    "- In page 1, The trousers are better than the other products\n",
    "- In page 2, The skirts are better than the other products\n",
    "- In page 3, The blouses are better than the other products\n",
    "- Finnaly in page 4 and 5, users taget the sales\n"
   ]
  },
  {
   "cell_type": "markdown",
   "id": "94a89502",
   "metadata": {
    "id": "4ce605c4",
    "papermill": {
     "duration": 0.029955,
     "end_time": "2022-10-06T12:40:43.501063",
     "exception": false,
     "start_time": "2022-10-06T12:40:43.471108",
     "status": "completed"
    },
    "tags": []
   },
   "source": [
    "## What is the most attractable section in page and color of product per type?"
   ]
  },
  {
   "cell_type": "code",
   "execution_count": 20,
   "id": "ec01c425",
   "metadata": {
    "execution": {
     "iopub.execute_input": "2022-10-06T12:40:43.560851Z",
     "iopub.status.busy": "2022-10-06T12:40:43.560048Z",
     "iopub.status.idle": "2022-10-06T12:40:43.704491Z",
     "shell.execute_reply": "2022-10-06T12:40:43.703104Z"
    },
    "id": "b98da751",
    "outputId": "87119f98-3d34-4241-8292-0fc027ba4776",
    "papermill": {
     "duration": 0.17704,
     "end_time": "2022-10-06T12:40:43.706994",
     "exception": false,
     "start_time": "2022-10-06T12:40:43.529954",
     "status": "completed"
    },
    "tags": []
   },
   "outputs": [
    {
     "data": {
      "text/html": [
       "<div>                            <div id=\"3dc8e360-6397-4285-b660-ead52d77b7b9\" class=\"plotly-graph-div\" style=\"height:525px; width:100%;\"></div>            <script type=\"text/javascript\">                require([\"plotly\"], function(Plotly) {                    window.PLOTLYENV=window.PLOTLYENV || {};                                    if (document.getElementById(\"3dc8e360-6397-4285-b660-ead52d77b7b9\")) {                    Plotly.newPlot(                        \"3dc8e360-6397-4285-b660-ead52d77b7b9\",                        [{\"hovertemplate\":\"colour=beige<br>location=%{x}<br>counts=%{marker.size}<extra></extra>\",\"legendgroup\":\"beige\",\"marker\":{\"color\":\"#636efa\",\"size\":[2416,509,1744,1388,1728],\"sizemode\":\"area\",\"sizeref\":11.354444444444445,\"symbol\":\"circle\"},\"mode\":\"markers\",\"name\":\"beige\",\"orientation\":\"v\",\"showlegend\":true,\"x\":[\"bottom in the middle\",\"bottom left\",\"bottom right\",\"top left\",\"top right\"],\"xaxis\":\"x\",\"y\":[2416,509,1744,1388,1728],\"yaxis\":\"y\",\"type\":\"scatter\"},{\"hovertemplate\":\"colour=black<br>location=%{x}<br>counts=%{marker.size}<extra></extra>\",\"legendgroup\":\"black\",\"marker\":{\"color\":\"#EF553B\",\"size\":[3062,10219,5349,3422,3820,3892],\"sizemode\":\"area\",\"sizeref\":11.354444444444445,\"symbol\":\"circle\"},\"mode\":\"markers\",\"name\":\"black\",\"orientation\":\"v\",\"showlegend\":true,\"x\":[\"bottom in the middle\",\"bottom left\",\"bottom right\",\"top in the middle\",\"top left\",\"top right\"],\"xaxis\":\"x\",\"y\":[3062,10219,5349,3422,3820,3892],\"yaxis\":\"y\",\"type\":\"scatter\"},{\"hovertemplate\":\"colour=blue<br>location=%{x}<br>counts=%{marker.size}<extra></extra>\",\"legendgroup\":\"blue\",\"marker\":{\"color\":\"#00cc96\",\"size\":[1024,5069,7771,9845,5550],\"sizemode\":\"area\",\"sizeref\":11.354444444444445,\"symbol\":\"circle\"},\"mode\":\"markers\",\"name\":\"blue\",\"orientation\":\"v\",\"showlegend\":true,\"x\":[\"bottom in the middle\",\"bottom left\",\"top in the middle\",\"top left\",\"top right\"],\"xaxis\":\"x\",\"y\":[1024,5069,7771,9845,5550],\"yaxis\":\"y\",\"type\":\"scatter\"},{\"hovertemplate\":\"colour=brown<br>location=%{x}<br>counts=%{marker.size}<extra></extra>\",\"legendgroup\":\"brown\",\"marker\":{\"color\":\"#ab63fa\",\"size\":[2834,2388,1157,3923,3682,2533],\"sizemode\":\"area\",\"sizeref\":11.354444444444445,\"symbol\":\"circle\"},\"mode\":\"markers\",\"name\":\"brown\",\"orientation\":\"v\",\"showlegend\":true,\"x\":[\"bottom in the middle\",\"bottom left\",\"bottom right\",\"top in the middle\",\"top left\",\"top right\"],\"xaxis\":\"x\",\"y\":[2834,2388,1157,3923,3682,2533],\"yaxis\":\"y\",\"type\":\"scatter\"},{\"hovertemplate\":\"colour=gray<br>location=%{x}<br>counts=%{marker.size}<extra></extra>\",\"legendgroup\":\"gray\",\"marker\":{\"color\":\"#FFA15A\",\"size\":[4879,2655,2008,3057,2427,2450],\"sizemode\":\"area\",\"sizeref\":11.354444444444445,\"symbol\":\"circle\"},\"mode\":\"markers\",\"name\":\"gray\",\"orientation\":\"v\",\"showlegend\":true,\"x\":[\"bottom in the middle\",\"bottom left\",\"bottom right\",\"top in the middle\",\"top left\",\"top right\"],\"xaxis\":\"x\",\"y\":[4879,2655,2008,3057,2427,2450],\"yaxis\":\"y\",\"type\":\"scatter\"},{\"hovertemplate\":\"colour=of many colors<br>location=%{x}<br>counts=%{marker.size}<extra></extra>\",\"legendgroup\":\"of many colors\",\"marker\":{\"color\":\"#19d3f3\",\"size\":[7481,3323,1830,529,218,150],\"sizemode\":\"area\",\"sizeref\":11.354444444444445,\"symbol\":\"circle\"},\"mode\":\"markers\",\"name\":\"of many colors\",\"orientation\":\"v\",\"showlegend\":true,\"x\":[\"bottom in the middle\",\"bottom left\",\"bottom right\",\"top in the middle\",\"top left\",\"top right\"],\"xaxis\":\"x\",\"y\":[7481,3323,1830,529,218,150],\"yaxis\":\"y\",\"type\":\"scatter\"},{\"hovertemplate\":\"colour=red<br>location=%{x}<br>counts=%{marker.size}<extra></extra>\",\"legendgroup\":\"red\",\"marker\":{\"color\":\"#FF6692\",\"size\":[2254,148,1408,465,4401,154],\"sizemode\":\"area\",\"sizeref\":11.354444444444445,\"symbol\":\"circle\"},\"mode\":\"markers\",\"name\":\"red\",\"orientation\":\"v\",\"showlegend\":true,\"x\":[\"bottom in the middle\",\"bottom left\",\"bottom right\",\"top in the middle\",\"top left\",\"top right\"],\"xaxis\":\"x\",\"y\":[2254,148,1408,465,4401,154],\"yaxis\":\"y\",\"type\":\"scatter\"},{\"hovertemplate\":\"colour=white<br>location=%{x}<br>counts=%{marker.size}<extra></extra>\",\"legendgroup\":\"white\",\"marker\":{\"color\":\"#B6E880\",\"size\":[3833,1523,4266,3069,1959,1289],\"sizemode\":\"area\",\"sizeref\":11.354444444444445,\"symbol\":\"circle\"},\"mode\":\"markers\",\"name\":\"white\",\"orientation\":\"v\",\"showlegend\":true,\"x\":[\"bottom in the middle\",\"bottom left\",\"bottom right\",\"top in the middle\",\"top left\",\"top right\"],\"xaxis\":\"x\",\"y\":[3833,1523,4266,3069,1959,1289],\"yaxis\":\"y\",\"type\":\"scatter\"},{\"hovertemplate\":\"colour=burgundy<br>location=%{x}<br>counts=%{marker.size}<extra></extra>\",\"legendgroup\":\"burgundy\",\"marker\":{\"color\":\"#FF97FF\",\"size\":[379,486,802],\"sizemode\":\"area\",\"sizeref\":11.354444444444445,\"symbol\":\"circle\"},\"mode\":\"markers\",\"name\":\"burgundy\",\"orientation\":\"v\",\"showlegend\":true,\"x\":[\"bottom left\",\"top in the middle\",\"top left\"],\"xaxis\":\"x\",\"y\":[379,486,802],\"yaxis\":\"y\",\"type\":\"scatter\"},{\"hovertemplate\":\"colour=green<br>location=%{x}<br>counts=%{marker.size}<extra></extra>\",\"legendgroup\":\"green\",\"marker\":{\"color\":\"#FECB52\",\"size\":[884,2222,2330,831,609],\"sizemode\":\"area\",\"sizeref\":11.354444444444445,\"symbol\":\"circle\"},\"mode\":\"markers\",\"name\":\"green\",\"orientation\":\"v\",\"showlegend\":true,\"x\":[\"bottom left\",\"bottom right\",\"top in the middle\",\"top left\",\"top right\"],\"xaxis\":\"x\",\"y\":[884,2222,2330,831,609],\"yaxis\":\"y\",\"type\":\"scatter\"},{\"hovertemplate\":\"colour=violet<br>location=%{x}<br>counts=%{marker.size}<extra></extra>\",\"legendgroup\":\"violet\",\"marker\":{\"color\":\"#636efa\",\"size\":[280,595,758,2279,2383],\"sizemode\":\"area\",\"sizeref\":11.354444444444445,\"symbol\":\"circle\"},\"mode\":\"markers\",\"name\":\"violet\",\"orientation\":\"v\",\"showlegend\":true,\"x\":[\"bottom left\",\"bottom right\",\"top in the middle\",\"top left\",\"top right\"],\"xaxis\":\"x\",\"y\":[280,595,758,2279,2383],\"yaxis\":\"y\",\"type\":\"scatter\"},{\"hovertemplate\":\"colour=pink<br>location=%{x}<br>counts=%{marker.size}<extra></extra>\",\"legendgroup\":\"pink\",\"marker\":{\"color\":\"#EF553B\",\"size\":[164,3994,216,918],\"sizemode\":\"area\",\"sizeref\":11.354444444444445,\"symbol\":\"circle\"},\"mode\":\"markers\",\"name\":\"pink\",\"orientation\":\"v\",\"showlegend\":true,\"x\":[\"bottom right\",\"top in the middle\",\"top left\",\"top right\"],\"xaxis\":\"x\",\"y\":[164,3994,216,918],\"yaxis\":\"y\",\"type\":\"scatter\"},{\"hovertemplate\":\"colour=olive<br>location=%{x}<br>counts=%{marker.size}<extra></extra>\",\"legendgroup\":\"olive\",\"marker\":{\"color\":\"#00cc96\",\"size\":[3579],\"sizemode\":\"area\",\"sizeref\":11.354444444444445,\"symbol\":\"circle\"},\"mode\":\"markers\",\"name\":\"olive\",\"orientation\":\"v\",\"showlegend\":true,\"x\":[\"top in the middle\"],\"xaxis\":\"x\",\"y\":[3579],\"yaxis\":\"y\",\"type\":\"scatter\"},{\"hovertemplate\":\"colour=navy blue<br>location=%{x}<br>counts=%{marker.size}<extra></extra>\",\"legendgroup\":\"navy blue\",\"marker\":{\"color\":\"#ab63fa\",\"size\":[2664],\"sizemode\":\"area\",\"sizeref\":11.354444444444445,\"symbol\":\"circle\"},\"mode\":\"markers\",\"name\":\"navy blue\",\"orientation\":\"v\",\"showlegend\":true,\"x\":[\"top left\"],\"xaxis\":\"x\",\"y\":[2664],\"yaxis\":\"y\",\"type\":\"scatter\"}],                        {\"template\":{\"data\":{\"histogram2dcontour\":[{\"type\":\"histogram2dcontour\",\"colorbar\":{\"outlinewidth\":0,\"ticks\":\"\"},\"colorscale\":[[0.0,\"#0d0887\"],[0.1111111111111111,\"#46039f\"],[0.2222222222222222,\"#7201a8\"],[0.3333333333333333,\"#9c179e\"],[0.4444444444444444,\"#bd3786\"],[0.5555555555555556,\"#d8576b\"],[0.6666666666666666,\"#ed7953\"],[0.7777777777777778,\"#fb9f3a\"],[0.8888888888888888,\"#fdca26\"],[1.0,\"#f0f921\"]]}],\"choropleth\":[{\"type\":\"choropleth\",\"colorbar\":{\"outlinewidth\":0,\"ticks\":\"\"}}],\"histogram2d\":[{\"type\":\"histogram2d\",\"colorbar\":{\"outlinewidth\":0,\"ticks\":\"\"},\"colorscale\":[[0.0,\"#0d0887\"],[0.1111111111111111,\"#46039f\"],[0.2222222222222222,\"#7201a8\"],[0.3333333333333333,\"#9c179e\"],[0.4444444444444444,\"#bd3786\"],[0.5555555555555556,\"#d8576b\"],[0.6666666666666666,\"#ed7953\"],[0.7777777777777778,\"#fb9f3a\"],[0.8888888888888888,\"#fdca26\"],[1.0,\"#f0f921\"]]}],\"heatmap\":[{\"type\":\"heatmap\",\"colorbar\":{\"outlinewidth\":0,\"ticks\":\"\"},\"colorscale\":[[0.0,\"#0d0887\"],[0.1111111111111111,\"#46039f\"],[0.2222222222222222,\"#7201a8\"],[0.3333333333333333,\"#9c179e\"],[0.4444444444444444,\"#bd3786\"],[0.5555555555555556,\"#d8576b\"],[0.6666666666666666,\"#ed7953\"],[0.7777777777777778,\"#fb9f3a\"],[0.8888888888888888,\"#fdca26\"],[1.0,\"#f0f921\"]]}],\"heatmapgl\":[{\"type\":\"heatmapgl\",\"colorbar\":{\"outlinewidth\":0,\"ticks\":\"\"},\"colorscale\":[[0.0,\"#0d0887\"],[0.1111111111111111,\"#46039f\"],[0.2222222222222222,\"#7201a8\"],[0.3333333333333333,\"#9c179e\"],[0.4444444444444444,\"#bd3786\"],[0.5555555555555556,\"#d8576b\"],[0.6666666666666666,\"#ed7953\"],[0.7777777777777778,\"#fb9f3a\"],[0.8888888888888888,\"#fdca26\"],[1.0,\"#f0f921\"]]}],\"contourcarpet\":[{\"type\":\"contourcarpet\",\"colorbar\":{\"outlinewidth\":0,\"ticks\":\"\"}}],\"contour\":[{\"type\":\"contour\",\"colorbar\":{\"outlinewidth\":0,\"ticks\":\"\"},\"colorscale\":[[0.0,\"#0d0887\"],[0.1111111111111111,\"#46039f\"],[0.2222222222222222,\"#7201a8\"],[0.3333333333333333,\"#9c179e\"],[0.4444444444444444,\"#bd3786\"],[0.5555555555555556,\"#d8576b\"],[0.6666666666666666,\"#ed7953\"],[0.7777777777777778,\"#fb9f3a\"],[0.8888888888888888,\"#fdca26\"],[1.0,\"#f0f921\"]]}],\"surface\":[{\"type\":\"surface\",\"colorbar\":{\"outlinewidth\":0,\"ticks\":\"\"},\"colorscale\":[[0.0,\"#0d0887\"],[0.1111111111111111,\"#46039f\"],[0.2222222222222222,\"#7201a8\"],[0.3333333333333333,\"#9c179e\"],[0.4444444444444444,\"#bd3786\"],[0.5555555555555556,\"#d8576b\"],[0.6666666666666666,\"#ed7953\"],[0.7777777777777778,\"#fb9f3a\"],[0.8888888888888888,\"#fdca26\"],[1.0,\"#f0f921\"]]}],\"mesh3d\":[{\"type\":\"mesh3d\",\"colorbar\":{\"outlinewidth\":0,\"ticks\":\"\"}}],\"scatter\":[{\"fillpattern\":{\"fillmode\":\"overlay\",\"size\":10,\"solidity\":0.2},\"type\":\"scatter\"}],\"parcoords\":[{\"type\":\"parcoords\",\"line\":{\"colorbar\":{\"outlinewidth\":0,\"ticks\":\"\"}}}],\"scatterpolargl\":[{\"type\":\"scatterpolargl\",\"marker\":{\"colorbar\":{\"outlinewidth\":0,\"ticks\":\"\"}}}],\"bar\":[{\"error_x\":{\"color\":\"#2a3f5f\"},\"error_y\":{\"color\":\"#2a3f5f\"},\"marker\":{\"line\":{\"color\":\"#E5ECF6\",\"width\":0.5},\"pattern\":{\"fillmode\":\"overlay\",\"size\":10,\"solidity\":0.2}},\"type\":\"bar\"}],\"scattergeo\":[{\"type\":\"scattergeo\",\"marker\":{\"colorbar\":{\"outlinewidth\":0,\"ticks\":\"\"}}}],\"scatterpolar\":[{\"type\":\"scatterpolar\",\"marker\":{\"colorbar\":{\"outlinewidth\":0,\"ticks\":\"\"}}}],\"histogram\":[{\"marker\":{\"pattern\":{\"fillmode\":\"overlay\",\"size\":10,\"solidity\":0.2}},\"type\":\"histogram\"}],\"scattergl\":[{\"type\":\"scattergl\",\"marker\":{\"colorbar\":{\"outlinewidth\":0,\"ticks\":\"\"}}}],\"scatter3d\":[{\"type\":\"scatter3d\",\"line\":{\"colorbar\":{\"outlinewidth\":0,\"ticks\":\"\"}},\"marker\":{\"colorbar\":{\"outlinewidth\":0,\"ticks\":\"\"}}}],\"scattermapbox\":[{\"type\":\"scattermapbox\",\"marker\":{\"colorbar\":{\"outlinewidth\":0,\"ticks\":\"\"}}}],\"scatterternary\":[{\"type\":\"scatterternary\",\"marker\":{\"colorbar\":{\"outlinewidth\":0,\"ticks\":\"\"}}}],\"scattercarpet\":[{\"type\":\"scattercarpet\",\"marker\":{\"colorbar\":{\"outlinewidth\":0,\"ticks\":\"\"}}}],\"carpet\":[{\"aaxis\":{\"endlinecolor\":\"#2a3f5f\",\"gridcolor\":\"white\",\"linecolor\":\"white\",\"minorgridcolor\":\"white\",\"startlinecolor\":\"#2a3f5f\"},\"baxis\":{\"endlinecolor\":\"#2a3f5f\",\"gridcolor\":\"white\",\"linecolor\":\"white\",\"minorgridcolor\":\"white\",\"startlinecolor\":\"#2a3f5f\"},\"type\":\"carpet\"}],\"table\":[{\"cells\":{\"fill\":{\"color\":\"#EBF0F8\"},\"line\":{\"color\":\"white\"}},\"header\":{\"fill\":{\"color\":\"#C8D4E3\"},\"line\":{\"color\":\"white\"}},\"type\":\"table\"}],\"barpolar\":[{\"marker\":{\"line\":{\"color\":\"#E5ECF6\",\"width\":0.5},\"pattern\":{\"fillmode\":\"overlay\",\"size\":10,\"solidity\":0.2}},\"type\":\"barpolar\"}],\"pie\":[{\"automargin\":true,\"type\":\"pie\"}]},\"layout\":{\"autotypenumbers\":\"strict\",\"colorway\":[\"#636efa\",\"#EF553B\",\"#00cc96\",\"#ab63fa\",\"#FFA15A\",\"#19d3f3\",\"#FF6692\",\"#B6E880\",\"#FF97FF\",\"#FECB52\"],\"font\":{\"color\":\"#2a3f5f\"},\"hovermode\":\"closest\",\"hoverlabel\":{\"align\":\"left\"},\"paper_bgcolor\":\"white\",\"plot_bgcolor\":\"#E5ECF6\",\"polar\":{\"bgcolor\":\"#E5ECF6\",\"angularaxis\":{\"gridcolor\":\"white\",\"linecolor\":\"white\",\"ticks\":\"\"},\"radialaxis\":{\"gridcolor\":\"white\",\"linecolor\":\"white\",\"ticks\":\"\"}},\"ternary\":{\"bgcolor\":\"#E5ECF6\",\"aaxis\":{\"gridcolor\":\"white\",\"linecolor\":\"white\",\"ticks\":\"\"},\"baxis\":{\"gridcolor\":\"white\",\"linecolor\":\"white\",\"ticks\":\"\"},\"caxis\":{\"gridcolor\":\"white\",\"linecolor\":\"white\",\"ticks\":\"\"}},\"coloraxis\":{\"colorbar\":{\"outlinewidth\":0,\"ticks\":\"\"}},\"colorscale\":{\"sequential\":[[0.0,\"#0d0887\"],[0.1111111111111111,\"#46039f\"],[0.2222222222222222,\"#7201a8\"],[0.3333333333333333,\"#9c179e\"],[0.4444444444444444,\"#bd3786\"],[0.5555555555555556,\"#d8576b\"],[0.6666666666666666,\"#ed7953\"],[0.7777777777777778,\"#fb9f3a\"],[0.8888888888888888,\"#fdca26\"],[1.0,\"#f0f921\"]],\"sequentialminus\":[[0.0,\"#0d0887\"],[0.1111111111111111,\"#46039f\"],[0.2222222222222222,\"#7201a8\"],[0.3333333333333333,\"#9c179e\"],[0.4444444444444444,\"#bd3786\"],[0.5555555555555556,\"#d8576b\"],[0.6666666666666666,\"#ed7953\"],[0.7777777777777778,\"#fb9f3a\"],[0.8888888888888888,\"#fdca26\"],[1.0,\"#f0f921\"]],\"diverging\":[[0,\"#8e0152\"],[0.1,\"#c51b7d\"],[0.2,\"#de77ae\"],[0.3,\"#f1b6da\"],[0.4,\"#fde0ef\"],[0.5,\"#f7f7f7\"],[0.6,\"#e6f5d0\"],[0.7,\"#b8e186\"],[0.8,\"#7fbc41\"],[0.9,\"#4d9221\"],[1,\"#276419\"]]},\"xaxis\":{\"gridcolor\":\"white\",\"linecolor\":\"white\",\"ticks\":\"\",\"title\":{\"standoff\":15},\"zerolinecolor\":\"white\",\"automargin\":true,\"zerolinewidth\":2},\"yaxis\":{\"gridcolor\":\"white\",\"linecolor\":\"white\",\"ticks\":\"\",\"title\":{\"standoff\":15},\"zerolinecolor\":\"white\",\"automargin\":true,\"zerolinewidth\":2},\"scene\":{\"xaxis\":{\"backgroundcolor\":\"#E5ECF6\",\"gridcolor\":\"white\",\"linecolor\":\"white\",\"showbackground\":true,\"ticks\":\"\",\"zerolinecolor\":\"white\",\"gridwidth\":2},\"yaxis\":{\"backgroundcolor\":\"#E5ECF6\",\"gridcolor\":\"white\",\"linecolor\":\"white\",\"showbackground\":true,\"ticks\":\"\",\"zerolinecolor\":\"white\",\"gridwidth\":2},\"zaxis\":{\"backgroundcolor\":\"#E5ECF6\",\"gridcolor\":\"white\",\"linecolor\":\"white\",\"showbackground\":true,\"ticks\":\"\",\"zerolinecolor\":\"white\",\"gridwidth\":2}},\"shapedefaults\":{\"line\":{\"color\":\"#2a3f5f\"}},\"annotationdefaults\":{\"arrowcolor\":\"#2a3f5f\",\"arrowhead\":0,\"arrowwidth\":1},\"geo\":{\"bgcolor\":\"white\",\"landcolor\":\"#E5ECF6\",\"subunitcolor\":\"white\",\"showland\":true,\"showlakes\":true,\"lakecolor\":\"white\"},\"title\":{\"x\":0.05},\"mapbox\":{\"style\":\"light\"}}},\"xaxis\":{\"anchor\":\"y\",\"domain\":[0.0,1.0],\"title\":{\"text\":\"location\"}},\"yaxis\":{\"anchor\":\"x\",\"domain\":[0.0,1.0],\"title\":{\"text\":\"counts\"}},\"legend\":{\"title\":{\"text\":\"colour\"},\"tracegroupgap\":0,\"itemsizing\":\"constant\"},\"margin\":{\"t\":60}},                        {\"responsive\": true}                    ).then(function(){\n",
       "                            \n",
       "var gd = document.getElementById('3dc8e360-6397-4285-b660-ead52d77b7b9');\n",
       "var x = new MutationObserver(function (mutations, observer) {{\n",
       "        var display = window.getComputedStyle(gd).display;\n",
       "        if (!display || display === 'none') {{\n",
       "            console.log([gd, 'removed!']);\n",
       "            Plotly.purge(gd);\n",
       "            observer.disconnect();\n",
       "        }}\n",
       "}});\n",
       "\n",
       "// Listen for the removal of the full notebook cells\n",
       "var notebookContainer = gd.closest('#notebook-container');\n",
       "if (notebookContainer) {{\n",
       "    x.observe(notebookContainer, {childList: true});\n",
       "}}\n",
       "\n",
       "// Listen for the clearing of the current output cell\n",
       "var outputEl = gd.closest('.output');\n",
       "if (outputEl) {{\n",
       "    x.observe(outputEl, {childList: true});\n",
       "}}\n",
       "\n",
       "                        })                };                });            </script>        </div>"
      ]
     },
     "metadata": {},
     "output_type": "display_data"
    }
   ],
   "source": [
    "df2 = df.groupby(by=[\"location\", \"colour\"]).size().reset_index(name=\"counts\")\n",
    "fig = px.scatter(df2, x=\"location\", y=\"counts\",\n",
    "                 color='colour', size='counts', size_max=30)\n",
    "fig.show()\n"
   ]
  },
  {
   "cell_type": "markdown",
   "id": "030609a0",
   "metadata": {
    "id": "VpoHIFjA7N8p",
    "papermill": {
     "duration": 0.028674,
     "end_time": "2022-10-06T12:40:43.764747",
     "exception": false,
     "start_time": "2022-10-06T12:40:43.736073",
     "status": "completed"
    },
    "tags": []
   },
   "source": [
    "We can see:\n",
    "- The Bottom left and the top left are the most attractible sections on the website\n",
    "- Users prefer products with blue color in the top section\n",
    "- Users prefer products with black color in the bottom left and bottom right sections\n",
    "- Users prefer products that has many colors in the bottom-middle section"
   ]
  },
  {
   "cell_type": "markdown",
   "id": "e0fc2e50",
   "metadata": {
    "id": "0b98ea04",
    "papermill": {
     "duration": 0.028374,
     "end_time": "2022-10-06T12:40:43.821744",
     "exception": false,
     "start_time": "2022-10-06T12:40:43.793370",
     "status": "completed"
    },
    "tags": []
   },
   "source": [
    "## Are selling products affected by colour ?"
   ]
  },
  {
   "cell_type": "code",
   "execution_count": 21,
   "id": "015e2faf",
   "metadata": {
    "execution": {
     "iopub.execute_input": "2022-10-06T12:40:43.880492Z",
     "iopub.status.busy": "2022-10-06T12:40:43.880060Z",
     "iopub.status.idle": "2022-10-06T12:40:43.903780Z",
     "shell.execute_reply": "2022-10-06T12:40:43.902616Z"
    },
    "id": "13768ba6",
    "outputId": "3c563827-11d1-4d99-8407-12aaa2f31aa8",
    "papermill": {
     "duration": 0.056096,
     "end_time": "2022-10-06T12:40:43.906211",
     "exception": false,
     "start_time": "2022-10-06T12:40:43.850115",
     "status": "completed"
    },
    "tags": []
   },
   "outputs": [],
   "source": [
    "df3 = df.groupby(\"colour\")[[\"price\"]].sum()\n",
    "df3 = df3.sort_values(['price'], ascending=False)"
   ]
  },
  {
   "cell_type": "code",
   "execution_count": 22,
   "id": "b320fe65",
   "metadata": {
    "execution": {
     "iopub.execute_input": "2022-10-06T12:40:43.968003Z",
     "iopub.status.busy": "2022-10-06T12:40:43.967566Z",
     "iopub.status.idle": "2022-10-06T12:40:44.105651Z",
     "shell.execute_reply": "2022-10-06T12:40:44.104863Z"
    },
    "id": "79c17b9e",
    "outputId": "345916f6-6489-4a3f-c697-b629c2ded5ed",
    "papermill": {
     "duration": 0.172301,
     "end_time": "2022-10-06T12:40:44.107708",
     "exception": false,
     "start_time": "2022-10-06T12:40:43.935407",
     "status": "completed"
    },
    "tags": []
   },
   "outputs": [
    {
     "data": {
      "text/html": [
       "<div>                            <div id=\"8c4b9fca-9bb3-4925-a403-d1d68e0c22e9\" class=\"plotly-graph-div\" style=\"height:525px; width:100%;\"></div>            <script type=\"text/javascript\">                require([\"plotly\"], function(Plotly) {                    window.PLOTLYENV=window.PLOTLYENV || {};                                    if (document.getElementById(\"8c4b9fca-9bb3-4925-a403-d1d68e0c22e9\")) {                    Plotly.newPlot(                        \"8c4b9fca-9bb3-4925-a403-d1d68e0c22e9\",                        [{\"alignmentgroup\":\"True\",\"hovertemplate\":\"colour=%{x}<br>price=%{y}<extra></extra>\",\"legendgroup\":\"blue\",\"marker\":{\"color\":\"#636efa\",\"pattern\":{\"shape\":\"\"}},\"name\":\"blue\",\"offsetgroup\":\"blue\",\"orientation\":\"v\",\"showlegend\":true,\"textposition\":\"outside\",\"texttemplate\":\"%{y:.2s}\",\"x\":[\"blue\"],\"xaxis\":\"x\",\"y\":[1441896],\"yaxis\":\"y\",\"type\":\"bar\",\"textfont\":{\"size\":12},\"cliponaxis\":false,\"textangle\":0},{\"alignmentgroup\":\"True\",\"hovertemplate\":\"colour=%{x}<br>price=%{y}<extra></extra>\",\"legendgroup\":\"black\",\"marker\":{\"color\":\"#EF553B\",\"pattern\":{\"shape\":\"\"}},\"name\":\"black\",\"offsetgroup\":\"black\",\"orientation\":\"v\",\"showlegend\":true,\"textposition\":\"outside\",\"texttemplate\":\"%{y:.2s}\",\"x\":[\"black\"],\"xaxis\":\"x\",\"y\":[1398548],\"yaxis\":\"y\",\"type\":\"bar\",\"textfont\":{\"size\":12},\"cliponaxis\":false,\"textangle\":0},{\"alignmentgroup\":\"True\",\"hovertemplate\":\"colour=%{x}<br>price=%{y}<extra></extra>\",\"legendgroup\":\"gray\",\"marker\":{\"color\":\"#00cc96\",\"pattern\":{\"shape\":\"\"}},\"name\":\"gray\",\"offsetgroup\":\"gray\",\"orientation\":\"v\",\"showlegend\":true,\"textposition\":\"outside\",\"texttemplate\":\"%{y:.2s}\",\"x\":[\"gray\"],\"xaxis\":\"x\",\"y\":[708940],\"yaxis\":\"y\",\"type\":\"bar\",\"textfont\":{\"size\":12},\"cliponaxis\":false,\"textangle\":0},{\"alignmentgroup\":\"True\",\"hovertemplate\":\"colour=%{x}<br>price=%{y}<extra></extra>\",\"legendgroup\":\"brown\",\"marker\":{\"color\":\"#ab63fa\",\"pattern\":{\"shape\":\"\"}},\"name\":\"brown\",\"offsetgroup\":\"brown\",\"orientation\":\"v\",\"showlegend\":true,\"textposition\":\"outside\",\"texttemplate\":\"%{y:.2s}\",\"x\":[\"brown\"],\"xaxis\":\"x\",\"y\":[662594],\"yaxis\":\"y\",\"type\":\"bar\",\"textfont\":{\"size\":12},\"cliponaxis\":false,\"textangle\":0},{\"alignmentgroup\":\"True\",\"hovertemplate\":\"colour=%{x}<br>price=%{y}<extra></extra>\",\"legendgroup\":\"white\",\"marker\":{\"color\":\"#FFA15A\",\"pattern\":{\"shape\":\"\"}},\"name\":\"white\",\"offsetgroup\":\"white\",\"orientation\":\"v\",\"showlegend\":true,\"textposition\":\"outside\",\"texttemplate\":\"%{y:.2s}\",\"x\":[\"white\"],\"xaxis\":\"x\",\"y\":[638416],\"yaxis\":\"y\",\"type\":\"bar\",\"textfont\":{\"size\":12},\"cliponaxis\":false,\"textangle\":0},{\"alignmentgroup\":\"True\",\"hovertemplate\":\"colour=%{x}<br>price=%{y}<extra></extra>\",\"legendgroup\":\"of many colors\",\"marker\":{\"color\":\"#19d3f3\",\"pattern\":{\"shape\":\"\"}},\"name\":\"of many colors\",\"offsetgroup\":\"of many colors\",\"orientation\":\"v\",\"showlegend\":true,\"textposition\":\"outside\",\"texttemplate\":\"%{y:.2s}\",\"x\":[\"of many colors\"],\"xaxis\":\"x\",\"y\":[547852],\"yaxis\":\"y\",\"type\":\"bar\",\"textfont\":{\"size\":12},\"cliponaxis\":false,\"textangle\":0},{\"alignmentgroup\":\"True\",\"hovertemplate\":\"colour=%{x}<br>price=%{y}<extra></extra>\",\"legendgroup\":\"red\",\"marker\":{\"color\":\"#FF6692\",\"pattern\":{\"shape\":\"\"}},\"name\":\"red\",\"offsetgroup\":\"red\",\"orientation\":\"v\",\"showlegend\":true,\"textposition\":\"outside\",\"texttemplate\":\"%{y:.2s}\",\"x\":[\"red\"],\"xaxis\":\"x\",\"y\":[445290],\"yaxis\":\"y\",\"type\":\"bar\",\"textfont\":{\"size\":12},\"cliponaxis\":false,\"textangle\":0},{\"alignmentgroup\":\"True\",\"hovertemplate\":\"colour=%{x}<br>price=%{y}<extra></extra>\",\"legendgroup\":\"beige\",\"marker\":{\"color\":\"#B6E880\",\"pattern\":{\"shape\":\"\"}},\"name\":\"beige\",\"offsetgroup\":\"beige\",\"orientation\":\"v\",\"showlegend\":true,\"textposition\":\"outside\",\"texttemplate\":\"%{y:.2s}\",\"x\":[\"beige\"],\"xaxis\":\"x\",\"y\":[310327],\"yaxis\":\"y\",\"type\":\"bar\",\"textfont\":{\"size\":12},\"cliponaxis\":false,\"textangle\":0},{\"alignmentgroup\":\"True\",\"hovertemplate\":\"colour=%{x}<br>price=%{y}<extra></extra>\",\"legendgroup\":\"violet\",\"marker\":{\"color\":\"#FF97FF\",\"pattern\":{\"shape\":\"\"}},\"name\":\"violet\",\"offsetgroup\":\"violet\",\"orientation\":\"v\",\"showlegend\":true,\"textposition\":\"outside\",\"texttemplate\":\"%{y:.2s}\",\"x\":[\"violet\"],\"xaxis\":\"x\",\"y\":[263609],\"yaxis\":\"y\",\"type\":\"bar\",\"textfont\":{\"size\":12},\"cliponaxis\":false,\"textangle\":0},{\"alignmentgroup\":\"True\",\"hovertemplate\":\"colour=%{x}<br>price=%{y}<extra></extra>\",\"legendgroup\":\"pink\",\"marker\":{\"color\":\"#FECB52\",\"pattern\":{\"shape\":\"\"}},\"name\":\"pink\",\"offsetgroup\":\"pink\",\"orientation\":\"v\",\"showlegend\":true,\"textposition\":\"outside\",\"texttemplate\":\"%{y:.2s}\",\"x\":[\"pink\"],\"xaxis\":\"x\",\"y\":[259016],\"yaxis\":\"y\",\"type\":\"bar\",\"textfont\":{\"size\":12},\"cliponaxis\":false,\"textangle\":0},{\"alignmentgroup\":\"True\",\"hovertemplate\":\"colour=%{x}<br>price=%{y}<extra></extra>\",\"legendgroup\":\"green\",\"marker\":{\"color\":\"#636efa\",\"pattern\":{\"shape\":\"\"}},\"name\":\"green\",\"offsetgroup\":\"green\",\"orientation\":\"v\",\"showlegend\":true,\"textposition\":\"outside\",\"texttemplate\":\"%{y:.2s}\",\"x\":[\"green\"],\"xaxis\":\"x\",\"y\":[240758],\"yaxis\":\"y\",\"type\":\"bar\",\"textfont\":{\"size\":12},\"cliponaxis\":false,\"textangle\":0},{\"alignmentgroup\":\"True\",\"hovertemplate\":\"colour=%{x}<br>price=%{y}<extra></extra>\",\"legendgroup\":\"olive\",\"marker\":{\"color\":\"#EF553B\",\"pattern\":{\"shape\":\"\"}},\"name\":\"olive\",\"offsetgroup\":\"olive\",\"orientation\":\"v\",\"showlegend\":true,\"textposition\":\"outside\",\"texttemplate\":\"%{y:.2s}\",\"x\":[\"olive\"],\"xaxis\":\"x\",\"y\":[186108],\"yaxis\":\"y\",\"type\":\"bar\",\"textfont\":{\"size\":12},\"cliponaxis\":false,\"textangle\":0},{\"alignmentgroup\":\"True\",\"hovertemplate\":\"colour=%{x}<br>price=%{y}<extra></extra>\",\"legendgroup\":\"navy blue\",\"marker\":{\"color\":\"#00cc96\",\"pattern\":{\"shape\":\"\"}},\"name\":\"navy blue\",\"offsetgroup\":\"navy blue\",\"orientation\":\"v\",\"showlegend\":true,\"textposition\":\"outside\",\"texttemplate\":\"%{y:.2s}\",\"x\":[\"navy blue\"],\"xaxis\":\"x\",\"y\":[80577],\"yaxis\":\"y\",\"type\":\"bar\",\"textfont\":{\"size\":12},\"cliponaxis\":false,\"textangle\":0},{\"alignmentgroup\":\"True\",\"hovertemplate\":\"colour=%{x}<br>price=%{y}<extra></extra>\",\"legendgroup\":\"burgundy\",\"marker\":{\"color\":\"#ab63fa\",\"pattern\":{\"shape\":\"\"}},\"name\":\"burgundy\",\"offsetgroup\":\"burgundy\",\"orientation\":\"v\",\"showlegend\":true,\"textposition\":\"outside\",\"texttemplate\":\"%{y:.2s}\",\"x\":[\"burgundy\"],\"xaxis\":\"x\",\"y\":[64245],\"yaxis\":\"y\",\"type\":\"bar\",\"textfont\":{\"size\":12},\"cliponaxis\":false,\"textangle\":0}],                        {\"template\":{\"data\":{\"histogram2dcontour\":[{\"type\":\"histogram2dcontour\",\"colorbar\":{\"outlinewidth\":0,\"ticks\":\"\"},\"colorscale\":[[0.0,\"#0d0887\"],[0.1111111111111111,\"#46039f\"],[0.2222222222222222,\"#7201a8\"],[0.3333333333333333,\"#9c179e\"],[0.4444444444444444,\"#bd3786\"],[0.5555555555555556,\"#d8576b\"],[0.6666666666666666,\"#ed7953\"],[0.7777777777777778,\"#fb9f3a\"],[0.8888888888888888,\"#fdca26\"],[1.0,\"#f0f921\"]]}],\"choropleth\":[{\"type\":\"choropleth\",\"colorbar\":{\"outlinewidth\":0,\"ticks\":\"\"}}],\"histogram2d\":[{\"type\":\"histogram2d\",\"colorbar\":{\"outlinewidth\":0,\"ticks\":\"\"},\"colorscale\":[[0.0,\"#0d0887\"],[0.1111111111111111,\"#46039f\"],[0.2222222222222222,\"#7201a8\"],[0.3333333333333333,\"#9c179e\"],[0.4444444444444444,\"#bd3786\"],[0.5555555555555556,\"#d8576b\"],[0.6666666666666666,\"#ed7953\"],[0.7777777777777778,\"#fb9f3a\"],[0.8888888888888888,\"#fdca26\"],[1.0,\"#f0f921\"]]}],\"heatmap\":[{\"type\":\"heatmap\",\"colorbar\":{\"outlinewidth\":0,\"ticks\":\"\"},\"colorscale\":[[0.0,\"#0d0887\"],[0.1111111111111111,\"#46039f\"],[0.2222222222222222,\"#7201a8\"],[0.3333333333333333,\"#9c179e\"],[0.4444444444444444,\"#bd3786\"],[0.5555555555555556,\"#d8576b\"],[0.6666666666666666,\"#ed7953\"],[0.7777777777777778,\"#fb9f3a\"],[0.8888888888888888,\"#fdca26\"],[1.0,\"#f0f921\"]]}],\"heatmapgl\":[{\"type\":\"heatmapgl\",\"colorbar\":{\"outlinewidth\":0,\"ticks\":\"\"},\"colorscale\":[[0.0,\"#0d0887\"],[0.1111111111111111,\"#46039f\"],[0.2222222222222222,\"#7201a8\"],[0.3333333333333333,\"#9c179e\"],[0.4444444444444444,\"#bd3786\"],[0.5555555555555556,\"#d8576b\"],[0.6666666666666666,\"#ed7953\"],[0.7777777777777778,\"#fb9f3a\"],[0.8888888888888888,\"#fdca26\"],[1.0,\"#f0f921\"]]}],\"contourcarpet\":[{\"type\":\"contourcarpet\",\"colorbar\":{\"outlinewidth\":0,\"ticks\":\"\"}}],\"contour\":[{\"type\":\"contour\",\"colorbar\":{\"outlinewidth\":0,\"ticks\":\"\"},\"colorscale\":[[0.0,\"#0d0887\"],[0.1111111111111111,\"#46039f\"],[0.2222222222222222,\"#7201a8\"],[0.3333333333333333,\"#9c179e\"],[0.4444444444444444,\"#bd3786\"],[0.5555555555555556,\"#d8576b\"],[0.6666666666666666,\"#ed7953\"],[0.7777777777777778,\"#fb9f3a\"],[0.8888888888888888,\"#fdca26\"],[1.0,\"#f0f921\"]]}],\"surface\":[{\"type\":\"surface\",\"colorbar\":{\"outlinewidth\":0,\"ticks\":\"\"},\"colorscale\":[[0.0,\"#0d0887\"],[0.1111111111111111,\"#46039f\"],[0.2222222222222222,\"#7201a8\"],[0.3333333333333333,\"#9c179e\"],[0.4444444444444444,\"#bd3786\"],[0.5555555555555556,\"#d8576b\"],[0.6666666666666666,\"#ed7953\"],[0.7777777777777778,\"#fb9f3a\"],[0.8888888888888888,\"#fdca26\"],[1.0,\"#f0f921\"]]}],\"mesh3d\":[{\"type\":\"mesh3d\",\"colorbar\":{\"outlinewidth\":0,\"ticks\":\"\"}}],\"scatter\":[{\"fillpattern\":{\"fillmode\":\"overlay\",\"size\":10,\"solidity\":0.2},\"type\":\"scatter\"}],\"parcoords\":[{\"type\":\"parcoords\",\"line\":{\"colorbar\":{\"outlinewidth\":0,\"ticks\":\"\"}}}],\"scatterpolargl\":[{\"type\":\"scatterpolargl\",\"marker\":{\"colorbar\":{\"outlinewidth\":0,\"ticks\":\"\"}}}],\"bar\":[{\"error_x\":{\"color\":\"#2a3f5f\"},\"error_y\":{\"color\":\"#2a3f5f\"},\"marker\":{\"line\":{\"color\":\"#E5ECF6\",\"width\":0.5},\"pattern\":{\"fillmode\":\"overlay\",\"size\":10,\"solidity\":0.2}},\"type\":\"bar\"}],\"scattergeo\":[{\"type\":\"scattergeo\",\"marker\":{\"colorbar\":{\"outlinewidth\":0,\"ticks\":\"\"}}}],\"scatterpolar\":[{\"type\":\"scatterpolar\",\"marker\":{\"colorbar\":{\"outlinewidth\":0,\"ticks\":\"\"}}}],\"histogram\":[{\"marker\":{\"pattern\":{\"fillmode\":\"overlay\",\"size\":10,\"solidity\":0.2}},\"type\":\"histogram\"}],\"scattergl\":[{\"type\":\"scattergl\",\"marker\":{\"colorbar\":{\"outlinewidth\":0,\"ticks\":\"\"}}}],\"scatter3d\":[{\"type\":\"scatter3d\",\"line\":{\"colorbar\":{\"outlinewidth\":0,\"ticks\":\"\"}},\"marker\":{\"colorbar\":{\"outlinewidth\":0,\"ticks\":\"\"}}}],\"scattermapbox\":[{\"type\":\"scattermapbox\",\"marker\":{\"colorbar\":{\"outlinewidth\":0,\"ticks\":\"\"}}}],\"scatterternary\":[{\"type\":\"scatterternary\",\"marker\":{\"colorbar\":{\"outlinewidth\":0,\"ticks\":\"\"}}}],\"scattercarpet\":[{\"type\":\"scattercarpet\",\"marker\":{\"colorbar\":{\"outlinewidth\":0,\"ticks\":\"\"}}}],\"carpet\":[{\"aaxis\":{\"endlinecolor\":\"#2a3f5f\",\"gridcolor\":\"white\",\"linecolor\":\"white\",\"minorgridcolor\":\"white\",\"startlinecolor\":\"#2a3f5f\"},\"baxis\":{\"endlinecolor\":\"#2a3f5f\",\"gridcolor\":\"white\",\"linecolor\":\"white\",\"minorgridcolor\":\"white\",\"startlinecolor\":\"#2a3f5f\"},\"type\":\"carpet\"}],\"table\":[{\"cells\":{\"fill\":{\"color\":\"#EBF0F8\"},\"line\":{\"color\":\"white\"}},\"header\":{\"fill\":{\"color\":\"#C8D4E3\"},\"line\":{\"color\":\"white\"}},\"type\":\"table\"}],\"barpolar\":[{\"marker\":{\"line\":{\"color\":\"#E5ECF6\",\"width\":0.5},\"pattern\":{\"fillmode\":\"overlay\",\"size\":10,\"solidity\":0.2}},\"type\":\"barpolar\"}],\"pie\":[{\"automargin\":true,\"type\":\"pie\"}]},\"layout\":{\"autotypenumbers\":\"strict\",\"colorway\":[\"#636efa\",\"#EF553B\",\"#00cc96\",\"#ab63fa\",\"#FFA15A\",\"#19d3f3\",\"#FF6692\",\"#B6E880\",\"#FF97FF\",\"#FECB52\"],\"font\":{\"color\":\"#2a3f5f\"},\"hovermode\":\"closest\",\"hoverlabel\":{\"align\":\"left\"},\"paper_bgcolor\":\"white\",\"plot_bgcolor\":\"#E5ECF6\",\"polar\":{\"bgcolor\":\"#E5ECF6\",\"angularaxis\":{\"gridcolor\":\"white\",\"linecolor\":\"white\",\"ticks\":\"\"},\"radialaxis\":{\"gridcolor\":\"white\",\"linecolor\":\"white\",\"ticks\":\"\"}},\"ternary\":{\"bgcolor\":\"#E5ECF6\",\"aaxis\":{\"gridcolor\":\"white\",\"linecolor\":\"white\",\"ticks\":\"\"},\"baxis\":{\"gridcolor\":\"white\",\"linecolor\":\"white\",\"ticks\":\"\"},\"caxis\":{\"gridcolor\":\"white\",\"linecolor\":\"white\",\"ticks\":\"\"}},\"coloraxis\":{\"colorbar\":{\"outlinewidth\":0,\"ticks\":\"\"}},\"colorscale\":{\"sequential\":[[0.0,\"#0d0887\"],[0.1111111111111111,\"#46039f\"],[0.2222222222222222,\"#7201a8\"],[0.3333333333333333,\"#9c179e\"],[0.4444444444444444,\"#bd3786\"],[0.5555555555555556,\"#d8576b\"],[0.6666666666666666,\"#ed7953\"],[0.7777777777777778,\"#fb9f3a\"],[0.8888888888888888,\"#fdca26\"],[1.0,\"#f0f921\"]],\"sequentialminus\":[[0.0,\"#0d0887\"],[0.1111111111111111,\"#46039f\"],[0.2222222222222222,\"#7201a8\"],[0.3333333333333333,\"#9c179e\"],[0.4444444444444444,\"#bd3786\"],[0.5555555555555556,\"#d8576b\"],[0.6666666666666666,\"#ed7953\"],[0.7777777777777778,\"#fb9f3a\"],[0.8888888888888888,\"#fdca26\"],[1.0,\"#f0f921\"]],\"diverging\":[[0,\"#8e0152\"],[0.1,\"#c51b7d\"],[0.2,\"#de77ae\"],[0.3,\"#f1b6da\"],[0.4,\"#fde0ef\"],[0.5,\"#f7f7f7\"],[0.6,\"#e6f5d0\"],[0.7,\"#b8e186\"],[0.8,\"#7fbc41\"],[0.9,\"#4d9221\"],[1,\"#276419\"]]},\"xaxis\":{\"gridcolor\":\"white\",\"linecolor\":\"white\",\"ticks\":\"\",\"title\":{\"standoff\":15},\"zerolinecolor\":\"white\",\"automargin\":true,\"zerolinewidth\":2},\"yaxis\":{\"gridcolor\":\"white\",\"linecolor\":\"white\",\"ticks\":\"\",\"title\":{\"standoff\":15},\"zerolinecolor\":\"white\",\"automargin\":true,\"zerolinewidth\":2},\"scene\":{\"xaxis\":{\"backgroundcolor\":\"#E5ECF6\",\"gridcolor\":\"white\",\"linecolor\":\"white\",\"showbackground\":true,\"ticks\":\"\",\"zerolinecolor\":\"white\",\"gridwidth\":2},\"yaxis\":{\"backgroundcolor\":\"#E5ECF6\",\"gridcolor\":\"white\",\"linecolor\":\"white\",\"showbackground\":true,\"ticks\":\"\",\"zerolinecolor\":\"white\",\"gridwidth\":2},\"zaxis\":{\"backgroundcolor\":\"#E5ECF6\",\"gridcolor\":\"white\",\"linecolor\":\"white\",\"showbackground\":true,\"ticks\":\"\",\"zerolinecolor\":\"white\",\"gridwidth\":2}},\"shapedefaults\":{\"line\":{\"color\":\"#2a3f5f\"}},\"annotationdefaults\":{\"arrowcolor\":\"#2a3f5f\",\"arrowhead\":0,\"arrowwidth\":1},\"geo\":{\"bgcolor\":\"white\",\"landcolor\":\"#E5ECF6\",\"subunitcolor\":\"white\",\"showland\":true,\"showlakes\":true,\"lakecolor\":\"white\"},\"title\":{\"x\":0.05},\"mapbox\":{\"style\":\"light\"}}},\"xaxis\":{\"anchor\":\"y\",\"domain\":[0.0,1.0],\"title\":{\"text\":\"colour\"},\"categoryorder\":\"array\",\"categoryarray\":[\"blue\",\"black\",\"gray\",\"brown\",\"white\",\"of many colors\",\"red\",\"beige\",\"violet\",\"pink\",\"green\",\"olive\",\"navy blue\",\"burgundy\"]},\"yaxis\":{\"anchor\":\"x\",\"domain\":[0.0,1.0],\"title\":{\"text\":\"price\"}},\"legend\":{\"title\":{\"text\":\"colour\"},\"tracegroupgap\":0},\"title\":{\"text\":\"Colour of products with their prices\"},\"barmode\":\"relative\"},                        {\"responsive\": true}                    ).then(function(){\n",
       "                            \n",
       "var gd = document.getElementById('8c4b9fca-9bb3-4925-a403-d1d68e0c22e9');\n",
       "var x = new MutationObserver(function (mutations, observer) {{\n",
       "        var display = window.getComputedStyle(gd).display;\n",
       "        if (!display || display === 'none') {{\n",
       "            console.log([gd, 'removed!']);\n",
       "            Plotly.purge(gd);\n",
       "            observer.disconnect();\n",
       "        }}\n",
       "}});\n",
       "\n",
       "// Listen for the removal of the full notebook cells\n",
       "var notebookContainer = gd.closest('#notebook-container');\n",
       "if (notebookContainer) {{\n",
       "    x.observe(notebookContainer, {childList: true});\n",
       "}}\n",
       "\n",
       "// Listen for the clearing of the current output cell\n",
       "var outputEl = gd.closest('.output');\n",
       "if (outputEl) {{\n",
       "    x.observe(outputEl, {childList: true});\n",
       "}}\n",
       "\n",
       "                        })                };                });            </script>        </div>"
      ]
     },
     "metadata": {},
     "output_type": "display_data"
    }
   ],
   "source": [
    "fig = px.bar(data_frame=df3, x=df3.index, y=\"price\", text_auto='.2s', color=df3.index,\n",
    "             title=\"Colour of products with their prices\")\n",
    "fig.update_traces(textfont_size=12, textangle=0,\n",
    "                  textposition=\"outside\", cliponaxis=False)\n",
    "fig.show()"
   ]
  },
  {
   "cell_type": "markdown",
   "id": "f6464903",
   "metadata": {
    "id": "6-Saj1PH8ooO",
    "papermill": {
     "duration": 0.028812,
     "end_time": "2022-10-06T12:40:44.165890",
     "exception": false,
     "start_time": "2022-10-06T12:40:44.137078",
     "status": "completed"
    },
    "tags": []
   },
   "source": [
    "It seems that selling products is affected by color and we can conclude that:\n",
    "- **blue** and **black** colors are preferred for customers"
   ]
  },
  {
   "cell_type": "markdown",
   "id": "1f14cded",
   "metadata": {
    "id": "52ab2f4e",
    "papermill": {
     "duration": 0.028714,
     "end_time": "2022-10-06T12:40:44.223835",
     "exception": false,
     "start_time": "2022-10-06T12:40:44.195121",
     "status": "completed"
    },
    "tags": []
   },
   "source": [
    "## Relationship between countries and buying days"
   ]
  },
  {
   "cell_type": "code",
   "execution_count": 23,
   "id": "02897652",
   "metadata": {
    "execution": {
     "iopub.execute_input": "2022-10-06T12:40:44.283805Z",
     "iopub.status.busy": "2022-10-06T12:40:44.283205Z",
     "iopub.status.idle": "2022-10-06T12:40:44.413869Z",
     "shell.execute_reply": "2022-10-06T12:40:44.412780Z"
    },
    "id": "f1938720",
    "outputId": "3cb79db2-8ca4-4d4d-86bc-e8a1db35feb9",
    "papermill": {
     "duration": 0.163981,
     "end_time": "2022-10-06T12:40:44.416679",
     "exception": false,
     "start_time": "2022-10-06T12:40:44.252698",
     "status": "completed"
    },
    "tags": []
   },
   "outputs": [
    {
     "data": {
      "text/html": [
       "<div>                            <div id=\"45839e04-40f8-4b69-b80b-7ef105e8b209\" class=\"plotly-graph-div\" style=\"height:525px; width:100%;\"></div>            <script type=\"text/javascript\">                require([\"plotly\"], function(Plotly) {                    window.PLOTLYENV=window.PLOTLYENV || {};                                    if (document.getElementById(\"45839e04-40f8-4b69-b80b-7ef105e8b209\")) {                    Plotly.newPlot(                        \"45839e04-40f8-4b69-b80b-7ef105e8b209\",                        [{\"hovertemplate\":\"country=%{x}<br>day=%{y}<br>avreage_prices=%{marker.color}<extra></extra>\",\"legendgroup\":\"\",\"marker\":{\"color\":[82.0,67.0,62.0,60.666666666666664,60.333333333333336,60.0,60.0,59.5,58.57142857142857,58.23076923076923,57.1875,57.0,57.0,57.0,57.0,57.0,57.0,55.0,54.75,54.5,54.5,54.22222222222222,53.75,53.666666666666664,53.625,53.07692307692308,52.9,52.7,52.666666666666664,52.666666666666664,52.5,52.5,52.5,52.5,52.333333333333336,52.333333333333336,52.25,52.0,52.0,51.5,51.25,51.2,51.166666666666664,51.0,51.0,50.875,50.75,50.4,50.285714285714285,50.0,50.0,50.0,50.0,49.888888888888886,49.7906976744186,49.77777777777778,49.714285714285715,49.714285714285715,49.666666666666664,49.6,49.429906542056074,49.42857142857143,49.4,49.333333333333336,49.333333333333336,49.32258064516129,49.26315789473684,49.04761904761905,49.02105263157895,49.0,48.78787878787879,48.75,48.733333333333334,48.57142857142857,48.5,48.42857142857143,48.391304347826086,48.36,48.096774193548384,48.08571428571429,48.07432432432432,48.05714285714286,48.0,48.0,48.0,48.0,48.0,48.0,47.97727272727273,47.96875,47.91803278688525,47.916666666666664,47.857142857142854,47.8,47.8,47.8,47.770833333333336,47.76190476190476,47.75,47.666666666666664,47.666666666666664,47.65,47.63513513513514,47.6,47.6,47.57142857142857,47.57142857142857,47.55102040816327,47.52777777777778,47.5,47.5,47.48,47.40625,47.371428571428574,47.333333333333336,47.303030303030305,47.22222222222222,47.19047619047619,47.18181818181818,47.16923076923077,47.1,47.06930693069307,47.0,47.0,47.0,46.91346153846154,46.90909090909091,46.859375,46.833333333333336,46.8,46.76470588235294,46.764227642276424,46.76119402985075,46.75,46.75,46.733333333333334,46.72470238095238,46.70454545454545,46.652,46.62264150943396,46.5632603406326,46.529411764705884,46.517857142857146,46.473684210526315,46.44117647058823,46.44,46.4375,46.42857142857143,46.42372881355932,46.39503816793893,46.375,46.36974789915966,46.333333333333336,46.30864197530864,46.256410256410255,46.23076923076923,46.2248447204969,46.214285714285715,46.214285714285715,46.129760225669955,46.11466165413534,46.111111111111114,46.103960396039604,46.0460947503201,46.01322751322751,46.0,46.0,46.0,45.94117647058823,45.9375,45.899371069182386,45.848837209302324,45.80555555555556,45.80357142857143,45.8,45.78787878787879,45.76470588235294,45.75378266850069,45.73721340388007,45.73684210526316,45.733333333333334,45.730593607305934,45.714285714285715,45.63636363636363,45.625,45.6,45.6,45.57553956834533,45.574074074074076,45.509433962264154,45.50782997762864,45.5,45.5,45.5,45.49122807017544,45.41095890410959,45.404347826086955,45.40350877192982,45.4,45.375,45.36488340192044,45.333333333333336,45.333333333333336,45.3125,45.2962962962963,45.294117647058826,45.28658536585366,45.285714285714285,45.27777777777778,45.22,45.207589285714285,45.20618556701031,45.18333333333333,45.18181818181818,45.13643926788686,45.125,45.11764705882353,45.06287425149701,45.06060606060606,45.0431654676259,45.03174603174603,45.0,44.94763513513514,44.911764705882355,44.888888888888886,44.80769230769231,44.8,44.77777777777778,44.77777777777778,44.76923076923077,44.734375,44.734177215189874,44.72727272727273,44.653333333333336,44.6,44.583333333333336,44.537254901960786,44.526315789473685,44.52010050251256,44.509803921568626,44.5,44.48571428571429,44.45454545454545,44.42857142857143,44.40760869565217,44.388888888888886,44.36842105263158,44.33734939759036,44.333333333333336,44.333333333333336,44.333333333333336,44.333333333333336,44.31818181818182,44.2962962962963,44.27777777777778,44.25,44.25,44.24444444444445,44.2,44.17857142857143,44.166666666666664,44.0990099009901,44.05555555555556,44.05172413793103,44.0,44.0,44.0,43.9811320754717,43.95652173913044,43.94117647058823,43.935483870967744,43.92857142857143,43.89655172413793,43.87692307692308,43.8421052631579,43.82691836234371,43.8,43.78947368421053,43.77272727272727,43.7710648615882,43.76923076923077,43.76470588235294,43.742574257425744,43.73112840466926,43.708333333333336,43.691893215772716,43.6864291542018,43.666666666666664,43.666666666666664,43.66646706586826,43.662611137108094,43.66226415094339,43.66035027275338,43.642857142857146,43.639683895771036,43.625,43.625,43.604763050276645,43.60466906105695,43.6,43.5625,43.55962916139907,43.54545454545455,43.52837155071901,43.495327102803735,43.494378135270715,43.48880407124682,43.47826086956522,43.45243430433897,43.45124716553288,43.42857142857143,43.425045890271264,43.4,43.4,43.386445565969716,43.377049180327866,43.36507543903042,43.36363636363637,43.359552765790504,43.34453781512605,43.3039129155634,43.290242386575514,43.28993055555556,43.289855072463766,43.280038948393376,43.27450980392157,43.27272727272727,43.24175824175824,43.19716494845361,43.18356970832218,43.18181818181818,43.15702479338843,43.152596603494956,43.15151515151515,43.12542703757931,43.0,43.0,43.0,43.0,43.0,43.0,43.0,43.0,43.0,43.0,43.0,43.0,43.0,42.951219512195124,42.853658536585364,42.83720930232558,42.80058417419012,42.78333333333333,42.76923076923077,42.75,42.71052631578947,42.69230769230769,42.666666666666664,42.666666666666664,42.666666666666664,42.602409638554214,42.583333333333336,42.507936507936506,42.5,42.5,42.5,42.48,42.43333333333333,42.4,42.36842105263158,42.333333333333336,42.333333333333336,42.23076923076923,42.22222222222222,42.125,42.083333333333336,42.07575757575758,42.04838709677419,42.03076923076923,42.0,42.0,42.0,42.0,41.976,41.92307692307692,41.888888888888886,41.833333333333336,41.833333333333336,41.833333333333336,41.82608695652174,41.80672268907563,41.785714285714285,41.774193548387096,41.75,41.74,41.583333333333336,41.5,41.44444444444444,41.34090909090909,41.333333333333336,41.333333333333336,41.30769230769231,41.285714285714285,41.285714285714285,41.285714285714285,41.2,41.18032786885246,41.1764705882353,41.166666666666664,41.166666666666664,41.149253731343286,41.04651162790697,41.0,41.0,41.0,41.0,41.0,40.94565217391305,40.94117647058823,40.857142857142854,40.833333333333336,40.733333333333334,40.714285714285715,40.515151515151516,40.5,40.49295774647887,40.4,40.4,40.34782608695652,40.333333333333336,40.333333333333336,40.333333333333336,40.25,40.11278195488722,40.111111111111114,40.0,40.0,39.92857142857143,39.90909090909091,39.8,39.75438596491228,39.72727272727273,39.705882352941174,39.666666666666664,39.6551724137931,39.55813953488372,39.48717948717949,39.25,39.25,39.2,39.19230769230769,39.166666666666664,39.04761904761905,39.0,39.0,38.91244239631337,38.8,38.54545454545455,38.5,38.44444444444444,38.4,38.333333333333336,38.25,38.125,38.0,38.0,38.0,38.0,38.0,38.0,38.0,38.0,38.0,38.0,38.0,38.0,38.0,38.0,38.0,38.0,38.0,38.0,38.0,37.94117647058823,37.77272727272727,37.4,37.166666666666664,37.142857142857146,37.0,36.9375,36.9,36.80952380952381,36.75,36.666666666666664,36.5,35.857142857142854,35.5,35.5,35.27272727272727,34.8,34.7,34.666666666666664,33.8,33.0,33.0,33.0,33.0,33.0,33.0,33.0,33.0,33.0,33.0,33.0,33.0,32.54545454545455,32.54545454545455,31.75,31.333333333333332,31.333333333333332,30.5,29.5,28.0,28.0,28.0,28.0,28.0,28.0,28.0,23.0],\"coloraxis\":\"coloraxis\",\"size\":[82.0,67.0,62.0,60.666666666666664,60.333333333333336,60.0,60.0,59.5,58.57142857142857,58.23076923076923,57.1875,57.0,57.0,57.0,57.0,57.0,57.0,55.0,54.75,54.5,54.5,54.22222222222222,53.75,53.666666666666664,53.625,53.07692307692308,52.9,52.7,52.666666666666664,52.666666666666664,52.5,52.5,52.5,52.5,52.333333333333336,52.333333333333336,52.25,52.0,52.0,51.5,51.25,51.2,51.166666666666664,51.0,51.0,50.875,50.75,50.4,50.285714285714285,50.0,50.0,50.0,50.0,49.888888888888886,49.7906976744186,49.77777777777778,49.714285714285715,49.714285714285715,49.666666666666664,49.6,49.429906542056074,49.42857142857143,49.4,49.333333333333336,49.333333333333336,49.32258064516129,49.26315789473684,49.04761904761905,49.02105263157895,49.0,48.78787878787879,48.75,48.733333333333334,48.57142857142857,48.5,48.42857142857143,48.391304347826086,48.36,48.096774193548384,48.08571428571429,48.07432432432432,48.05714285714286,48.0,48.0,48.0,48.0,48.0,48.0,47.97727272727273,47.96875,47.91803278688525,47.916666666666664,47.857142857142854,47.8,47.8,47.8,47.770833333333336,47.76190476190476,47.75,47.666666666666664,47.666666666666664,47.65,47.63513513513514,47.6,47.6,47.57142857142857,47.57142857142857,47.55102040816327,47.52777777777778,47.5,47.5,47.48,47.40625,47.371428571428574,47.333333333333336,47.303030303030305,47.22222222222222,47.19047619047619,47.18181818181818,47.16923076923077,47.1,47.06930693069307,47.0,47.0,47.0,46.91346153846154,46.90909090909091,46.859375,46.833333333333336,46.8,46.76470588235294,46.764227642276424,46.76119402985075,46.75,46.75,46.733333333333334,46.72470238095238,46.70454545454545,46.652,46.62264150943396,46.5632603406326,46.529411764705884,46.517857142857146,46.473684210526315,46.44117647058823,46.44,46.4375,46.42857142857143,46.42372881355932,46.39503816793893,46.375,46.36974789915966,46.333333333333336,46.30864197530864,46.256410256410255,46.23076923076923,46.2248447204969,46.214285714285715,46.214285714285715,46.129760225669955,46.11466165413534,46.111111111111114,46.103960396039604,46.0460947503201,46.01322751322751,46.0,46.0,46.0,45.94117647058823,45.9375,45.899371069182386,45.848837209302324,45.80555555555556,45.80357142857143,45.8,45.78787878787879,45.76470588235294,45.75378266850069,45.73721340388007,45.73684210526316,45.733333333333334,45.730593607305934,45.714285714285715,45.63636363636363,45.625,45.6,45.6,45.57553956834533,45.574074074074076,45.509433962264154,45.50782997762864,45.5,45.5,45.5,45.49122807017544,45.41095890410959,45.404347826086955,45.40350877192982,45.4,45.375,45.36488340192044,45.333333333333336,45.333333333333336,45.3125,45.2962962962963,45.294117647058826,45.28658536585366,45.285714285714285,45.27777777777778,45.22,45.207589285714285,45.20618556701031,45.18333333333333,45.18181818181818,45.13643926788686,45.125,45.11764705882353,45.06287425149701,45.06060606060606,45.0431654676259,45.03174603174603,45.0,44.94763513513514,44.911764705882355,44.888888888888886,44.80769230769231,44.8,44.77777777777778,44.77777777777778,44.76923076923077,44.734375,44.734177215189874,44.72727272727273,44.653333333333336,44.6,44.583333333333336,44.537254901960786,44.526315789473685,44.52010050251256,44.509803921568626,44.5,44.48571428571429,44.45454545454545,44.42857142857143,44.40760869565217,44.388888888888886,44.36842105263158,44.33734939759036,44.333333333333336,44.333333333333336,44.333333333333336,44.333333333333336,44.31818181818182,44.2962962962963,44.27777777777778,44.25,44.25,44.24444444444445,44.2,44.17857142857143,44.166666666666664,44.0990099009901,44.05555555555556,44.05172413793103,44.0,44.0,44.0,43.9811320754717,43.95652173913044,43.94117647058823,43.935483870967744,43.92857142857143,43.89655172413793,43.87692307692308,43.8421052631579,43.82691836234371,43.8,43.78947368421053,43.77272727272727,43.7710648615882,43.76923076923077,43.76470588235294,43.742574257425744,43.73112840466926,43.708333333333336,43.691893215772716,43.6864291542018,43.666666666666664,43.666666666666664,43.66646706586826,43.662611137108094,43.66226415094339,43.66035027275338,43.642857142857146,43.639683895771036,43.625,43.625,43.604763050276645,43.60466906105695,43.6,43.5625,43.55962916139907,43.54545454545455,43.52837155071901,43.495327102803735,43.494378135270715,43.48880407124682,43.47826086956522,43.45243430433897,43.45124716553288,43.42857142857143,43.425045890271264,43.4,43.4,43.386445565969716,43.377049180327866,43.36507543903042,43.36363636363637,43.359552765790504,43.34453781512605,43.3039129155634,43.290242386575514,43.28993055555556,43.289855072463766,43.280038948393376,43.27450980392157,43.27272727272727,43.24175824175824,43.19716494845361,43.18356970832218,43.18181818181818,43.15702479338843,43.152596603494956,43.15151515151515,43.12542703757931,43.0,43.0,43.0,43.0,43.0,43.0,43.0,43.0,43.0,43.0,43.0,43.0,43.0,42.951219512195124,42.853658536585364,42.83720930232558,42.80058417419012,42.78333333333333,42.76923076923077,42.75,42.71052631578947,42.69230769230769,42.666666666666664,42.666666666666664,42.666666666666664,42.602409638554214,42.583333333333336,42.507936507936506,42.5,42.5,42.5,42.48,42.43333333333333,42.4,42.36842105263158,42.333333333333336,42.333333333333336,42.23076923076923,42.22222222222222,42.125,42.083333333333336,42.07575757575758,42.04838709677419,42.03076923076923,42.0,42.0,42.0,42.0,41.976,41.92307692307692,41.888888888888886,41.833333333333336,41.833333333333336,41.833333333333336,41.82608695652174,41.80672268907563,41.785714285714285,41.774193548387096,41.75,41.74,41.583333333333336,41.5,41.44444444444444,41.34090909090909,41.333333333333336,41.333333333333336,41.30769230769231,41.285714285714285,41.285714285714285,41.285714285714285,41.2,41.18032786885246,41.1764705882353,41.166666666666664,41.166666666666664,41.149253731343286,41.04651162790697,41.0,41.0,41.0,41.0,41.0,40.94565217391305,40.94117647058823,40.857142857142854,40.833333333333336,40.733333333333334,40.714285714285715,40.515151515151516,40.5,40.49295774647887,40.4,40.4,40.34782608695652,40.333333333333336,40.333333333333336,40.333333333333336,40.25,40.11278195488722,40.111111111111114,40.0,40.0,39.92857142857143,39.90909090909091,39.8,39.75438596491228,39.72727272727273,39.705882352941174,39.666666666666664,39.6551724137931,39.55813953488372,39.48717948717949,39.25,39.25,39.2,39.19230769230769,39.166666666666664,39.04761904761905,39.0,39.0,38.91244239631337,38.8,38.54545454545455,38.5,38.44444444444444,38.4,38.333333333333336,38.25,38.125,38.0,38.0,38.0,38.0,38.0,38.0,38.0,38.0,38.0,38.0,38.0,38.0,38.0,38.0,38.0,38.0,38.0,38.0,38.0,37.94117647058823,37.77272727272727,37.4,37.166666666666664,37.142857142857146,37.0,36.9375,36.9,36.80952380952381,36.75,36.666666666666664,36.5,35.857142857142854,35.5,35.5,35.27272727272727,34.8,34.7,34.666666666666664,33.8,33.0,33.0,33.0,33.0,33.0,33.0,33.0,33.0,33.0,33.0,33.0,33.0,32.54545454545455,32.54545454545455,31.75,31.333333333333332,31.333333333333332,30.5,29.5,28.0,28.0,28.0,28.0,28.0,28.0,28.0,23.0],\"sizemode\":\"area\",\"sizeref\":0.205,\"symbol\":\"circle\"},\"mode\":\"markers\",\"name\":\"\",\"orientation\":\"v\",\"showlegend\":false,\"x\":[\"Denmark\",\"United Kingdom\",\"Switzerland\",\"Denmark\",\"Spain\",\"Belgium\",\"Italy\",\"United Kingdom\",\"Switzerland\",\"Finland\",\"Italy\",\"Switzerland\",\"India\",\"Romania\",\"USA\",\"Mexico\",\"Denmark\",\"Croatia\",\"Romania\",\"Spain\",\"Denmark\",\"Germany\",\"Denmark\",\"Slovakia\",\"Denmark\",\"Latvia\",\"Netherlands\",\"Ukraine\",\"Norway\",\"Denmark\",\"Norway\",\"France\",\"Austria\",\"Denmark\",\"Sweden\",\"biz (.biz)\",\"Greece\",\"Norway\",\"Romania\",\"Germany\",\"Italy\",\"Germany\",\"Netherlands\",\"Estonia\",\"Greece\",\"Switzerland\",\"unidentified\",\"Denmark\",\"Norway\",\"USA\",\"Switzerland\",\"Germany\",\"Finland\",\"Romania\",\"com (.com)\",\"USA\",\"Italy\",\"Germany\",\"Netherlands\",\"unidentified\",\"Lithuania\",\"Norway\",\"Norway\",\"Ireland\",\"Denmark\",\"Ireland\",\"com (.com)\",\"Slovakia\",\"net (.net)\",\"Austria\",\"com (.com)\",\"Finland\",\"com (.com)\",\"Slovakia\",\"France\",\"Italy\",\"Germany\",\"Slovakia\",\"Germany\",\"Slovakia\",\"Lithuania\",\"Slovakia\",\"USA\",\"USA\",\"Ukraine\",\"unidentified\",\"org (*.org)\",\"Finland\",\"Germany\",\"Slovakia\",\"com (.com)\",\"Ireland\",\"Estonia\",\"Slovakia\",\"Russia\",\"Denmark\",\"net (.net)\",\"Slovakia\",\"Ukraine\",\"unidentified\",\"Greece\",\"net (.net)\",\"net (.net)\",\"France\",\"unidentified\",\"com (.com)\",\"Germany\",\"Lithuania\",\"Italy\",\"Germany\",\"Finland\",\"Slovakia\",\"United Kingdom\",\"USA\",\"Russia\",\"Lithuania\",\"com (.com)\",\"com (.com)\",\"France\",\"Lithuania\",\"Slovakia\",\"net (.net)\",\"Austria\",\"Denmark\",\"unidentified\",\"Czech Republic\",\"United Kingdom\",\"net (.net)\",\"Romania\",\"Switzerland\",\"Germany\",\"net (.net)\",\"Czech Republic\",\"United Kingdom\",\"Switzerland\",\"Norway\",\"Czech Republic\",\"Czech Republic\",\"Czech Republic\",\"United Kingdom\",\"Czech Republic\",\"Belgium\",\"Czech Republic\",\"com (.com)\",\"Slovakia\",\"United Kingdom\",\"Netherlands\",\"unidentified\",\"net (.net)\",\"Czech Republic\",\"Iceland\",\"net (.net)\",\"unidentified\",\"Czech Republic\",\"Czech Republic\",\"United Kingdom\",\"Czech Republic\",\"Ireland\",\"USA\",\"Czech Republic\",\"Czech Republic\",\"Denmark\",\"Czech Republic\",\"Czech Republic\",\"Czech Republic\",\"Denmark\",\"Netherlands\",\"Germany\",\"Lithuania\",\"United Kingdom\",\"Lithuania\",\"Czech Republic\",\"net (.net)\",\"net (.net)\",\"Christmas Island\",\"Slovakia\",\"net (.net)\",\"Czech Republic\",\"Czech Republic\",\"Switzerland\",\"United Kingdom\",\"Czech Republic\",\"Norway\",\"Slovakia\",\"Lithuania\",\"unidentified\",\"Lithuania\",\"net (.net)\",\"Czech Republic\",\"com (.com)\",\"Czech Republic\",\"unidentified\",\"unidentified\",\"Ireland\",\"Lithuania\",\"Czech Republic\",\"Czech Republic\",\"Ireland\",\"Germany\",\"Luxembourg\",\"Czech Republic\",\"com (.com)\",\"Estonia\",\"Italy\",\"net (.net)\",\"com (.com)\",\"Lithuania\",\"Slovakia\",\"biz (.biz)\",\"Romania\",\"Czech Republic\",\"net (.net)\",\"net (.net)\",\"Russia\",\"Czech Republic\",\"Norway\",\"Germany\",\"Czech Republic\",\"com (.com)\",\"Lithuania\",\"com (.com)\",\"USA\",\"Czech Republic\",\"USA\",\"net (.net)\",\"France\",\"France\",\"Italy\",\"United Kingdom\",\"com (.com)\",\"net (.net)\",\"Lithuania\",\"Latvia\",\"Germany\",\"Estonia\",\"com (.com)\",\"Czech Republic\",\"com (.com)\",\"Czech Republic\",\"Lithuania\",\"Ireland\",\"Lithuania\",\"Finland\",\"Switzerland\",\"Lithuania\",\"Slovakia\",\"net (.net)\",\"net (.net)\",\"Estonia\",\"Netherlands\",\"Switzerland\",\"org (*.org)\",\"Lithuania\",\"Ireland\",\"Ireland\",\"net (.net)\",\"United Kingdom\",\"United Kingdom\",\"Sweden\",\"unidentified\",\"com (.com)\",\"net (.net)\",\"Estonia\",\"net (.net)\",\"USA\",\"Germany\",\"Germany\",\"com (.com)\",\"United Kingdom\",\"Ireland\",\"Netherlands\",\"Netherlands\",\"Netherlands\",\"com (.com)\",\"Denmark\",\"Poland\",\"Ukraine\",\"com (.com)\",\"Ireland\",\"Poland\",\"Lithuania\",\"Norway\",\"net (.net)\",\"Poland\",\"Lithuania\",\"Poland\",\"Poland\",\"net (.net)\",\"Russia\",\"Poland\",\"Poland\",\"Poland\",\"Poland\",\"Germany\",\"Poland\",\"Germany\",\"United Kingdom\",\"Poland\",\"Poland\",\"France\",\"Ireland\",\"Poland\",\"Slovakia\",\"Poland\",\"net (.net)\",\"Poland\",\"Poland\",\"Lithuania\",\"Poland\",\"Poland\",\"Austria\",\"Poland\",\"com (.com)\",\"Ireland\",\"Poland\",\"com (.com)\",\"Poland\",\"Ireland\",\"Poland\",\"Slovakia\",\"Poland\",\"Poland\",\"Poland\",\"Lithuania\",\"Poland\",\"United Kingdom\",\"unidentified\",\"net (.net)\",\"Poland\",\"Poland\",\"Belgium\",\"Lithuania\",\"Poland\",\"Lithuania\",\"Poland\",\"France\",\"int (.int)\",\"Belgium\",\"Faroe Islands\",\"Denmark\",\"Greece\",\"Ireland\",\"Estonia\",\"Ireland\",\"Romania\",\"Netherlands\",\"Estonia\",\"Italy\",\"Ireland\",\"com (.com)\",\"com (.com)\",\"Poland\",\"Slovakia\",\"Ireland\",\"Romania\",\"com (.com)\",\"United Kingdom\",\"United Kingdom\",\"Norway\",\"United Kingdom\",\"com (.com)\",\"United Kingdom\",\"net (.net)\",\"Italy\",\"Ireland\",\"Norway\",\"Lithuania\",\"com (.com)\",\"Netherlands\",\"Norway\",\"Slovakia\",\"United Kingdom\",\"Russia\",\"com (.com)\",\"Italy\",\"France\",\"Ireland\",\"net (.net)\",\"net (.net)\",\"Slovakia\",\"Germany\",\"int (.int)\",\"Romania\",\"Germany\",\"Germany\",\"Lithuania\",\"Netherlands\",\"Ireland\",\"Slovakia\",\"Ireland\",\"Lithuania\",\"Spain\",\"net (.net)\",\"Iceland\",\"Lithuania\",\"Switzerland\",\"Cayman Islands\",\"Belgium\",\"United Kingdom\",\"Austria\",\"United Kingdom\",\"Germany\",\"Netherlands\",\"Estonia\",\"Sweden\",\"Ireland\",\"Germany\",\"Austria\",\"United Kingdom\",\"Germany\",\"com (.com)\",\"com (.com)\",\"Belgium\",\"Russia\",\"France\",\"Germany\",\"France\",\"Lithuania\",\"United Kingdom\",\"United Kingdom\",\"United Kingdom\",\"United Kingdom\",\"Switzerland\",\"Belgium\",\"Belgium\",\"Lithuania\",\"USA\",\"Switzerland\",\"Belgium\",\"Ireland\",\"Switzerland\",\"United Kingdom\",\"Ukraine\",\"Lithuania\",\"Ireland\",\"Russia\",\"Slovakia\",\"Austria\",\"Belgium\",\"biz (.biz)\",\"Ireland\",\"Germany\",\"Germany\",\"org (*.org)\",\"Ireland\",\"Belgium\",\"Belgium\",\"Slovakia\",\"Ireland\",\"Switzerland\",\"Germany\",\"Netherlands\",\"Ireland\",\"Sweden\",\"Sweden\",\"Lithuania\",\"Belgium\",\"Luxembourg\",\"Germany\",\"India\",\"Sweden\",\"Slovakia\",\"Austria\",\"Slovakia\",\"Netherlands\",\"Sweden\",\"France\",\"France\",\"USA\",\"United Kingdom\",\"Switzerland\",\"British Virgin Islands\",\"USA\",\"Ireland\",\"Sweden\",\"Netherlands\",\"France\",\"Slovakia\",\"Italy\",\"Norway\",\"Netherlands\",\"France\",\"Norway\",\"Hungary\",\"United Kingdom\",\"Russia\",\"Denmark\",\"Croatia\",\"Netherlands\",\"Sweden\",\"Denmark\",\"Luxembourg\",\"Greece\",\"Italy\",\"Ireland\",\"Belgium\",\"USA\",\"Italy\",\"Belgium\",\"Iceland\",\"unidentified\",\"Australia\",\"Switzerland\",\"United Arab Emirates\",\"Luxembourg\",\"USA\",\"Netherlands\",\"Netherlands\",\"Austria\",\"Portugal\",\"unidentified\",\"Belgium\",\"Slovenia\",\"San Marion\",\"Germany\",\"Sweden\",\"Iceland\",\"Sweden\",\"Norway\",\"unidentified\",\"USA\",\"Switzerland\",\"Portugal\",\"unidentified\",\"Iceland\",\"Hungary\",\"Russia\",\"unidentified\",\"unidentified\",\"Cyprus\"],\"xaxis\":\"x\",\"y\":[17,25,31,13,7,4,27,24,25,22,11,21,3,12,7,2,24,18,9,14,5,15,16,9,9,14,25,2,22,28,7,1,6,7,10,27,13,15,24,13,3,21,6,6,7,26,7,23,29,8,3,12,14,10,9,29,25,23,28,20,4,17,5,6,8,14,19,16,7,8,25,18,12,18,17,14,19,15,28,23,5,25,19,17,4,17,8,25,24,14,26,28,13,3,4,29,6,22,30,12,8,25,1,13,10,29,8,20,9,29,23,8,7,27,2,6,23,3,7,1,10,21,24,18,1,9,17,15,11,29,1,4,22,8,13,1,7,21,26,9,2,1,17,27,5,23,26,23,27,3,26,24,25,30,16,2,29,23,30,5,15,22,11,1,4,11,4,17,31,18,2,10,23,16,23,4,14,6,13,10,5,18,19,19,25,4,13,3,25,17,27,29,14,3,24,28,19,1,5,6,14,31,7,12,28,2,16,13,12,29,24,12,17,28,12,31,14,8,15,21,28,26,23,2,31,21,5,5,13,14,2,17,11,2,14,22,31,21,20,18,15,15,11,16,22,2,26,18,18,19,6,14,29,18,30,8,30,16,19,8,8,22,10,9,15,18,22,10,1,11,3,29,14,5,2,21,21,13,9,7,28,18,29,6,19,14,30,11,30,5,24,23,27,9,16,30,28,17,28,19,16,9,29,4,19,2,20,30,10,8,17,12,4,10,31,6,22,26,3,12,13,26,1,11,11,4,24,20,18,19,11,7,25,26,29,18,12,5,24,12,28,20,26,7,1,24,15,23,25,7,1,15,1,22,5,30,15,22,24,12,11,20,10,18,4,27,3,20,2,4,7,10,11,24,22,8,12,5,13,30,20,28,27,7,6,14,13,13,24,17,8,22,30,24,27,1,5,14,3,16,19,25,8,19,9,27,26,12,6,27,18,16,10,14,16,3,3,23,31,14,11,29,2,7,29,10,1,7,18,21,4,21,17,9,31,22,27,4,21,11,8,4,11,12,2,19,12,20,29,11,16,18,24,23,16,12,15,26,31,21,13,28,21,11,12,31,20,30,14,27,19,24,6,5,18,9,2,6,19,28,7,22,13,12,26,6,3,2,11,12,6,14,5,26,19,9,12,15,13,3,21,11,14,22,2,21,17,27,14,26,3,20,15,17,10,8,6,21,20,2,10,24,10,19,5,1,21,26,11,6],\"yaxis\":\"y\",\"type\":\"scatter\"}],                        {\"template\":{\"data\":{\"histogram2dcontour\":[{\"type\":\"histogram2dcontour\",\"colorbar\":{\"outlinewidth\":0,\"ticks\":\"\"},\"colorscale\":[[0.0,\"#0d0887\"],[0.1111111111111111,\"#46039f\"],[0.2222222222222222,\"#7201a8\"],[0.3333333333333333,\"#9c179e\"],[0.4444444444444444,\"#bd3786\"],[0.5555555555555556,\"#d8576b\"],[0.6666666666666666,\"#ed7953\"],[0.7777777777777778,\"#fb9f3a\"],[0.8888888888888888,\"#fdca26\"],[1.0,\"#f0f921\"]]}],\"choropleth\":[{\"type\":\"choropleth\",\"colorbar\":{\"outlinewidth\":0,\"ticks\":\"\"}}],\"histogram2d\":[{\"type\":\"histogram2d\",\"colorbar\":{\"outlinewidth\":0,\"ticks\":\"\"},\"colorscale\":[[0.0,\"#0d0887\"],[0.1111111111111111,\"#46039f\"],[0.2222222222222222,\"#7201a8\"],[0.3333333333333333,\"#9c179e\"],[0.4444444444444444,\"#bd3786\"],[0.5555555555555556,\"#d8576b\"],[0.6666666666666666,\"#ed7953\"],[0.7777777777777778,\"#fb9f3a\"],[0.8888888888888888,\"#fdca26\"],[1.0,\"#f0f921\"]]}],\"heatmap\":[{\"type\":\"heatmap\",\"colorbar\":{\"outlinewidth\":0,\"ticks\":\"\"},\"colorscale\":[[0.0,\"#0d0887\"],[0.1111111111111111,\"#46039f\"],[0.2222222222222222,\"#7201a8\"],[0.3333333333333333,\"#9c179e\"],[0.4444444444444444,\"#bd3786\"],[0.5555555555555556,\"#d8576b\"],[0.6666666666666666,\"#ed7953\"],[0.7777777777777778,\"#fb9f3a\"],[0.8888888888888888,\"#fdca26\"],[1.0,\"#f0f921\"]]}],\"heatmapgl\":[{\"type\":\"heatmapgl\",\"colorbar\":{\"outlinewidth\":0,\"ticks\":\"\"},\"colorscale\":[[0.0,\"#0d0887\"],[0.1111111111111111,\"#46039f\"],[0.2222222222222222,\"#7201a8\"],[0.3333333333333333,\"#9c179e\"],[0.4444444444444444,\"#bd3786\"],[0.5555555555555556,\"#d8576b\"],[0.6666666666666666,\"#ed7953\"],[0.7777777777777778,\"#fb9f3a\"],[0.8888888888888888,\"#fdca26\"],[1.0,\"#f0f921\"]]}],\"contourcarpet\":[{\"type\":\"contourcarpet\",\"colorbar\":{\"outlinewidth\":0,\"ticks\":\"\"}}],\"contour\":[{\"type\":\"contour\",\"colorbar\":{\"outlinewidth\":0,\"ticks\":\"\"},\"colorscale\":[[0.0,\"#0d0887\"],[0.1111111111111111,\"#46039f\"],[0.2222222222222222,\"#7201a8\"],[0.3333333333333333,\"#9c179e\"],[0.4444444444444444,\"#bd3786\"],[0.5555555555555556,\"#d8576b\"],[0.6666666666666666,\"#ed7953\"],[0.7777777777777778,\"#fb9f3a\"],[0.8888888888888888,\"#fdca26\"],[1.0,\"#f0f921\"]]}],\"surface\":[{\"type\":\"surface\",\"colorbar\":{\"outlinewidth\":0,\"ticks\":\"\"},\"colorscale\":[[0.0,\"#0d0887\"],[0.1111111111111111,\"#46039f\"],[0.2222222222222222,\"#7201a8\"],[0.3333333333333333,\"#9c179e\"],[0.4444444444444444,\"#bd3786\"],[0.5555555555555556,\"#d8576b\"],[0.6666666666666666,\"#ed7953\"],[0.7777777777777778,\"#fb9f3a\"],[0.8888888888888888,\"#fdca26\"],[1.0,\"#f0f921\"]]}],\"mesh3d\":[{\"type\":\"mesh3d\",\"colorbar\":{\"outlinewidth\":0,\"ticks\":\"\"}}],\"scatter\":[{\"fillpattern\":{\"fillmode\":\"overlay\",\"size\":10,\"solidity\":0.2},\"type\":\"scatter\"}],\"parcoords\":[{\"type\":\"parcoords\",\"line\":{\"colorbar\":{\"outlinewidth\":0,\"ticks\":\"\"}}}],\"scatterpolargl\":[{\"type\":\"scatterpolargl\",\"marker\":{\"colorbar\":{\"outlinewidth\":0,\"ticks\":\"\"}}}],\"bar\":[{\"error_x\":{\"color\":\"#2a3f5f\"},\"error_y\":{\"color\":\"#2a3f5f\"},\"marker\":{\"line\":{\"color\":\"#E5ECF6\",\"width\":0.5},\"pattern\":{\"fillmode\":\"overlay\",\"size\":10,\"solidity\":0.2}},\"type\":\"bar\"}],\"scattergeo\":[{\"type\":\"scattergeo\",\"marker\":{\"colorbar\":{\"outlinewidth\":0,\"ticks\":\"\"}}}],\"scatterpolar\":[{\"type\":\"scatterpolar\",\"marker\":{\"colorbar\":{\"outlinewidth\":0,\"ticks\":\"\"}}}],\"histogram\":[{\"marker\":{\"pattern\":{\"fillmode\":\"overlay\",\"size\":10,\"solidity\":0.2}},\"type\":\"histogram\"}],\"scattergl\":[{\"type\":\"scattergl\",\"marker\":{\"colorbar\":{\"outlinewidth\":0,\"ticks\":\"\"}}}],\"scatter3d\":[{\"type\":\"scatter3d\",\"line\":{\"colorbar\":{\"outlinewidth\":0,\"ticks\":\"\"}},\"marker\":{\"colorbar\":{\"outlinewidth\":0,\"ticks\":\"\"}}}],\"scattermapbox\":[{\"type\":\"scattermapbox\",\"marker\":{\"colorbar\":{\"outlinewidth\":0,\"ticks\":\"\"}}}],\"scatterternary\":[{\"type\":\"scatterternary\",\"marker\":{\"colorbar\":{\"outlinewidth\":0,\"ticks\":\"\"}}}],\"scattercarpet\":[{\"type\":\"scattercarpet\",\"marker\":{\"colorbar\":{\"outlinewidth\":0,\"ticks\":\"\"}}}],\"carpet\":[{\"aaxis\":{\"endlinecolor\":\"#2a3f5f\",\"gridcolor\":\"white\",\"linecolor\":\"white\",\"minorgridcolor\":\"white\",\"startlinecolor\":\"#2a3f5f\"},\"baxis\":{\"endlinecolor\":\"#2a3f5f\",\"gridcolor\":\"white\",\"linecolor\":\"white\",\"minorgridcolor\":\"white\",\"startlinecolor\":\"#2a3f5f\"},\"type\":\"carpet\"}],\"table\":[{\"cells\":{\"fill\":{\"color\":\"#EBF0F8\"},\"line\":{\"color\":\"white\"}},\"header\":{\"fill\":{\"color\":\"#C8D4E3\"},\"line\":{\"color\":\"white\"}},\"type\":\"table\"}],\"barpolar\":[{\"marker\":{\"line\":{\"color\":\"#E5ECF6\",\"width\":0.5},\"pattern\":{\"fillmode\":\"overlay\",\"size\":10,\"solidity\":0.2}},\"type\":\"barpolar\"}],\"pie\":[{\"automargin\":true,\"type\":\"pie\"}]},\"layout\":{\"autotypenumbers\":\"strict\",\"colorway\":[\"#636efa\",\"#EF553B\",\"#00cc96\",\"#ab63fa\",\"#FFA15A\",\"#19d3f3\",\"#FF6692\",\"#B6E880\",\"#FF97FF\",\"#FECB52\"],\"font\":{\"color\":\"#2a3f5f\"},\"hovermode\":\"closest\",\"hoverlabel\":{\"align\":\"left\"},\"paper_bgcolor\":\"white\",\"plot_bgcolor\":\"#E5ECF6\",\"polar\":{\"bgcolor\":\"#E5ECF6\",\"angularaxis\":{\"gridcolor\":\"white\",\"linecolor\":\"white\",\"ticks\":\"\"},\"radialaxis\":{\"gridcolor\":\"white\",\"linecolor\":\"white\",\"ticks\":\"\"}},\"ternary\":{\"bgcolor\":\"#E5ECF6\",\"aaxis\":{\"gridcolor\":\"white\",\"linecolor\":\"white\",\"ticks\":\"\"},\"baxis\":{\"gridcolor\":\"white\",\"linecolor\":\"white\",\"ticks\":\"\"},\"caxis\":{\"gridcolor\":\"white\",\"linecolor\":\"white\",\"ticks\":\"\"}},\"coloraxis\":{\"colorbar\":{\"outlinewidth\":0,\"ticks\":\"\"}},\"colorscale\":{\"sequential\":[[0.0,\"#0d0887\"],[0.1111111111111111,\"#46039f\"],[0.2222222222222222,\"#7201a8\"],[0.3333333333333333,\"#9c179e\"],[0.4444444444444444,\"#bd3786\"],[0.5555555555555556,\"#d8576b\"],[0.6666666666666666,\"#ed7953\"],[0.7777777777777778,\"#fb9f3a\"],[0.8888888888888888,\"#fdca26\"],[1.0,\"#f0f921\"]],\"sequentialminus\":[[0.0,\"#0d0887\"],[0.1111111111111111,\"#46039f\"],[0.2222222222222222,\"#7201a8\"],[0.3333333333333333,\"#9c179e\"],[0.4444444444444444,\"#bd3786\"],[0.5555555555555556,\"#d8576b\"],[0.6666666666666666,\"#ed7953\"],[0.7777777777777778,\"#fb9f3a\"],[0.8888888888888888,\"#fdca26\"],[1.0,\"#f0f921\"]],\"diverging\":[[0,\"#8e0152\"],[0.1,\"#c51b7d\"],[0.2,\"#de77ae\"],[0.3,\"#f1b6da\"],[0.4,\"#fde0ef\"],[0.5,\"#f7f7f7\"],[0.6,\"#e6f5d0\"],[0.7,\"#b8e186\"],[0.8,\"#7fbc41\"],[0.9,\"#4d9221\"],[1,\"#276419\"]]},\"xaxis\":{\"gridcolor\":\"white\",\"linecolor\":\"white\",\"ticks\":\"\",\"title\":{\"standoff\":15},\"zerolinecolor\":\"white\",\"automargin\":true,\"zerolinewidth\":2},\"yaxis\":{\"gridcolor\":\"white\",\"linecolor\":\"white\",\"ticks\":\"\",\"title\":{\"standoff\":15},\"zerolinecolor\":\"white\",\"automargin\":true,\"zerolinewidth\":2},\"scene\":{\"xaxis\":{\"backgroundcolor\":\"#E5ECF6\",\"gridcolor\":\"white\",\"linecolor\":\"white\",\"showbackground\":true,\"ticks\":\"\",\"zerolinecolor\":\"white\",\"gridwidth\":2},\"yaxis\":{\"backgroundcolor\":\"#E5ECF6\",\"gridcolor\":\"white\",\"linecolor\":\"white\",\"showbackground\":true,\"ticks\":\"\",\"zerolinecolor\":\"white\",\"gridwidth\":2},\"zaxis\":{\"backgroundcolor\":\"#E5ECF6\",\"gridcolor\":\"white\",\"linecolor\":\"white\",\"showbackground\":true,\"ticks\":\"\",\"zerolinecolor\":\"white\",\"gridwidth\":2}},\"shapedefaults\":{\"line\":{\"color\":\"#2a3f5f\"}},\"annotationdefaults\":{\"arrowcolor\":\"#2a3f5f\",\"arrowhead\":0,\"arrowwidth\":1},\"geo\":{\"bgcolor\":\"white\",\"landcolor\":\"#E5ECF6\",\"subunitcolor\":\"white\",\"showland\":true,\"showlakes\":true,\"lakecolor\":\"white\"},\"title\":{\"x\":0.05},\"mapbox\":{\"style\":\"light\"}}},\"xaxis\":{\"anchor\":\"y\",\"domain\":[0.0,1.0],\"title\":{\"text\":\"country\"}},\"yaxis\":{\"anchor\":\"x\",\"domain\":[0.0,1.0],\"title\":{\"text\":\"day\"}},\"coloraxis\":{\"colorbar\":{\"title\":{\"text\":\"avreage_prices\"}},\"colorscale\":[[0.0,\"#0d0887\"],[0.1111111111111111,\"#46039f\"],[0.2222222222222222,\"#7201a8\"],[0.3333333333333333,\"#9c179e\"],[0.4444444444444444,\"#bd3786\"],[0.5555555555555556,\"#d8576b\"],[0.6666666666666666,\"#ed7953\"],[0.7777777777777778,\"#fb9f3a\"],[0.8888888888888888,\"#fdca26\"],[1.0,\"#f0f921\"]]},\"legend\":{\"tracegroupgap\":0,\"itemsizing\":\"constant\"},\"margin\":{\"t\":60}},                        {\"responsive\": true}                    ).then(function(){\n",
       "                            \n",
       "var gd = document.getElementById('45839e04-40f8-4b69-b80b-7ef105e8b209');\n",
       "var x = new MutationObserver(function (mutations, observer) {{\n",
       "        var display = window.getComputedStyle(gd).display;\n",
       "        if (!display || display === 'none') {{\n",
       "            console.log([gd, 'removed!']);\n",
       "            Plotly.purge(gd);\n",
       "            observer.disconnect();\n",
       "        }}\n",
       "}});\n",
       "\n",
       "// Listen for the removal of the full notebook cells\n",
       "var notebookContainer = gd.closest('#notebook-container');\n",
       "if (notebookContainer) {{\n",
       "    x.observe(notebookContainer, {childList: true});\n",
       "}}\n",
       "\n",
       "// Listen for the clearing of the current output cell\n",
       "var outputEl = gd.closest('.output');\n",
       "if (outputEl) {{\n",
       "    x.observe(outputEl, {childList: true});\n",
       "}}\n",
       "\n",
       "                        })                };                });            </script>        </div>"
      ]
     },
     "metadata": {},
     "output_type": "display_data"
    }
   ],
   "source": [
    "df_sum = df.groupby(by=[\"country\", 'day'])[['price']].sum().reset_index() \n",
    "df_sum = df_sum.sort_values(['price'], ascending=False)\n",
    "\n",
    "count = df.groupby(by=[\"country\", 'day'])[['price']].count().reset_index() \n",
    "count = count.sort_values(['price'], ascending=False)\n",
    "\n",
    "df_sum['avreage_prices'] = df_sum['price']/count['price']\n",
    "df_sum = df_sum.sort_values(['avreage_prices'], ascending=False)\n",
    "\n",
    "fig = px.scatter(df_sum, x=df_sum[\"country\"], y=df_sum[\"day\"],color=df_sum['avreage_prices'],size=df_sum['avreage_prices'])\n",
    "fig.show()"
   ]
  },
  {
   "cell_type": "markdown",
   "id": "630c8264",
   "metadata": {
    "id": "X5oy_Oab9Ft2",
    "papermill": {
     "duration": 0.029434,
     "end_time": "2022-10-06T12:40:44.476561",
     "exception": false,
     "start_time": "2022-10-06T12:40:44.447127",
     "status": "completed"
    },
    "tags": []
   },
   "source": [
    "For **Poland**, selling products is **very high** in First of the month and then **decreases** by the last day of the month   \n",
    "\n",
    "For **Czech Republic**, selling products **goes up and down** within the days of the month \n"
   ]
  },
  {
   "cell_type": "markdown",
   "id": "e4352246",
   "metadata": {
    "id": "d5ccbc19",
    "papermill": {
     "duration": 0.029394,
     "end_time": "2022-10-06T12:40:44.535668",
     "exception": false,
     "start_time": "2022-10-06T12:40:44.506274",
     "status": "completed"
    },
    "tags": []
   },
   "source": [
    "## Should we put model photography in the face of the product or in the inside the profile ?"
   ]
  },
  {
   "cell_type": "code",
   "execution_count": 24,
   "id": "91bea324",
   "metadata": {
    "execution": {
     "iopub.execute_input": "2022-10-06T12:40:44.597240Z",
     "iopub.status.busy": "2022-10-06T12:40:44.596174Z",
     "iopub.status.idle": "2022-10-06T12:40:44.700250Z",
     "shell.execute_reply": "2022-10-06T12:40:44.698883Z"
    },
    "id": "60928db3",
    "outputId": "f78d3fd5-6969-4f28-9b23-e550169bb998",
    "papermill": {
     "duration": 0.137585,
     "end_time": "2022-10-06T12:40:44.702819",
     "exception": false,
     "start_time": "2022-10-06T12:40:44.565234",
     "status": "completed"
    },
    "tags": []
   },
   "outputs": [
    {
     "data": {
      "text/html": [
       "<div>                            <div id=\"bb94afa7-4790-43b4-92f7-94753c96f366\" class=\"plotly-graph-div\" style=\"height:525px; width:100%;\"></div>            <script type=\"text/javascript\">                require([\"plotly\"], function(Plotly) {                    window.PLOTLYENV=window.PLOTLYENV || {};                                    if (document.getElementById(\"bb94afa7-4790-43b4-92f7-94753c96f366\")) {                    Plotly.newPlot(                        \"bb94afa7-4790-43b4-92f7-94753c96f366\",                        [{\"alignmentgroup\":\"True\",\"hovertemplate\":\"page 1 (main category)=blouses<br>model photography=%{x}<br>counts=%{y}<extra></extra>\",\"legendgroup\":\"blouses\",\"marker\":{\"color\":\"#636efa\",\"pattern\":{\"shape\":\"\"}},\"name\":\"blouses\",\"offsetgroup\":\"blouses\",\"orientation\":\"v\",\"showlegend\":true,\"textposition\":\"auto\",\"x\":[\"En face\",\"Profile\"],\"xaxis\":\"x\",\"y\":[26959,11618],\"yaxis\":\"y\",\"type\":\"bar\"},{\"alignmentgroup\":\"True\",\"hovertemplate\":\"page 1 (main category)=sale<br>model photography=%{x}<br>counts=%{y}<extra></extra>\",\"legendgroup\":\"sale\",\"marker\":{\"color\":\"#EF553B\",\"pattern\":{\"shape\":\"\"}},\"name\":\"sale\",\"offsetgroup\":\"sale\",\"orientation\":\"v\",\"showlegend\":true,\"textposition\":\"auto\",\"x\":[\"En face\",\"Profile\"],\"xaxis\":\"x\",\"y\":[22534,16213],\"yaxis\":\"y\",\"type\":\"bar\"},{\"alignmentgroup\":\"True\",\"hovertemplate\":\"page 1 (main category)=skirts<br>model photography=%{x}<br>counts=%{y}<extra></extra>\",\"legendgroup\":\"skirts\",\"marker\":{\"color\":\"#00cc96\",\"pattern\":{\"shape\":\"\"}},\"name\":\"skirts\",\"offsetgroup\":\"skirts\",\"orientation\":\"v\",\"showlegend\":true,\"textposition\":\"auto\",\"x\":[\"En face\",\"Profile\"],\"xaxis\":\"x\",\"y\":[32294,6114],\"yaxis\":\"y\",\"type\":\"bar\"},{\"alignmentgroup\":\"True\",\"hovertemplate\":\"page 1 (main category)=trousers<br>model photography=%{x}<br>counts=%{y}<extra></extra>\",\"legendgroup\":\"trousers\",\"marker\":{\"color\":\"#ab63fa\",\"pattern\":{\"shape\":\"\"}},\"name\":\"trousers\",\"offsetgroup\":\"trousers\",\"orientation\":\"v\",\"showlegend\":true,\"textposition\":\"auto\",\"x\":[\"En face\",\"Profile\"],\"xaxis\":\"x\",\"y\":[40652,9090],\"yaxis\":\"y\",\"type\":\"bar\"}],                        {\"template\":{\"data\":{\"histogram2dcontour\":[{\"type\":\"histogram2dcontour\",\"colorbar\":{\"outlinewidth\":0,\"ticks\":\"\"},\"colorscale\":[[0.0,\"#0d0887\"],[0.1111111111111111,\"#46039f\"],[0.2222222222222222,\"#7201a8\"],[0.3333333333333333,\"#9c179e\"],[0.4444444444444444,\"#bd3786\"],[0.5555555555555556,\"#d8576b\"],[0.6666666666666666,\"#ed7953\"],[0.7777777777777778,\"#fb9f3a\"],[0.8888888888888888,\"#fdca26\"],[1.0,\"#f0f921\"]]}],\"choropleth\":[{\"type\":\"choropleth\",\"colorbar\":{\"outlinewidth\":0,\"ticks\":\"\"}}],\"histogram2d\":[{\"type\":\"histogram2d\",\"colorbar\":{\"outlinewidth\":0,\"ticks\":\"\"},\"colorscale\":[[0.0,\"#0d0887\"],[0.1111111111111111,\"#46039f\"],[0.2222222222222222,\"#7201a8\"],[0.3333333333333333,\"#9c179e\"],[0.4444444444444444,\"#bd3786\"],[0.5555555555555556,\"#d8576b\"],[0.6666666666666666,\"#ed7953\"],[0.7777777777777778,\"#fb9f3a\"],[0.8888888888888888,\"#fdca26\"],[1.0,\"#f0f921\"]]}],\"heatmap\":[{\"type\":\"heatmap\",\"colorbar\":{\"outlinewidth\":0,\"ticks\":\"\"},\"colorscale\":[[0.0,\"#0d0887\"],[0.1111111111111111,\"#46039f\"],[0.2222222222222222,\"#7201a8\"],[0.3333333333333333,\"#9c179e\"],[0.4444444444444444,\"#bd3786\"],[0.5555555555555556,\"#d8576b\"],[0.6666666666666666,\"#ed7953\"],[0.7777777777777778,\"#fb9f3a\"],[0.8888888888888888,\"#fdca26\"],[1.0,\"#f0f921\"]]}],\"heatmapgl\":[{\"type\":\"heatmapgl\",\"colorbar\":{\"outlinewidth\":0,\"ticks\":\"\"},\"colorscale\":[[0.0,\"#0d0887\"],[0.1111111111111111,\"#46039f\"],[0.2222222222222222,\"#7201a8\"],[0.3333333333333333,\"#9c179e\"],[0.4444444444444444,\"#bd3786\"],[0.5555555555555556,\"#d8576b\"],[0.6666666666666666,\"#ed7953\"],[0.7777777777777778,\"#fb9f3a\"],[0.8888888888888888,\"#fdca26\"],[1.0,\"#f0f921\"]]}],\"contourcarpet\":[{\"type\":\"contourcarpet\",\"colorbar\":{\"outlinewidth\":0,\"ticks\":\"\"}}],\"contour\":[{\"type\":\"contour\",\"colorbar\":{\"outlinewidth\":0,\"ticks\":\"\"},\"colorscale\":[[0.0,\"#0d0887\"],[0.1111111111111111,\"#46039f\"],[0.2222222222222222,\"#7201a8\"],[0.3333333333333333,\"#9c179e\"],[0.4444444444444444,\"#bd3786\"],[0.5555555555555556,\"#d8576b\"],[0.6666666666666666,\"#ed7953\"],[0.7777777777777778,\"#fb9f3a\"],[0.8888888888888888,\"#fdca26\"],[1.0,\"#f0f921\"]]}],\"surface\":[{\"type\":\"surface\",\"colorbar\":{\"outlinewidth\":0,\"ticks\":\"\"},\"colorscale\":[[0.0,\"#0d0887\"],[0.1111111111111111,\"#46039f\"],[0.2222222222222222,\"#7201a8\"],[0.3333333333333333,\"#9c179e\"],[0.4444444444444444,\"#bd3786\"],[0.5555555555555556,\"#d8576b\"],[0.6666666666666666,\"#ed7953\"],[0.7777777777777778,\"#fb9f3a\"],[0.8888888888888888,\"#fdca26\"],[1.0,\"#f0f921\"]]}],\"mesh3d\":[{\"type\":\"mesh3d\",\"colorbar\":{\"outlinewidth\":0,\"ticks\":\"\"}}],\"scatter\":[{\"fillpattern\":{\"fillmode\":\"overlay\",\"size\":10,\"solidity\":0.2},\"type\":\"scatter\"}],\"parcoords\":[{\"type\":\"parcoords\",\"line\":{\"colorbar\":{\"outlinewidth\":0,\"ticks\":\"\"}}}],\"scatterpolargl\":[{\"type\":\"scatterpolargl\",\"marker\":{\"colorbar\":{\"outlinewidth\":0,\"ticks\":\"\"}}}],\"bar\":[{\"error_x\":{\"color\":\"#2a3f5f\"},\"error_y\":{\"color\":\"#2a3f5f\"},\"marker\":{\"line\":{\"color\":\"#E5ECF6\",\"width\":0.5},\"pattern\":{\"fillmode\":\"overlay\",\"size\":10,\"solidity\":0.2}},\"type\":\"bar\"}],\"scattergeo\":[{\"type\":\"scattergeo\",\"marker\":{\"colorbar\":{\"outlinewidth\":0,\"ticks\":\"\"}}}],\"scatterpolar\":[{\"type\":\"scatterpolar\",\"marker\":{\"colorbar\":{\"outlinewidth\":0,\"ticks\":\"\"}}}],\"histogram\":[{\"marker\":{\"pattern\":{\"fillmode\":\"overlay\",\"size\":10,\"solidity\":0.2}},\"type\":\"histogram\"}],\"scattergl\":[{\"type\":\"scattergl\",\"marker\":{\"colorbar\":{\"outlinewidth\":0,\"ticks\":\"\"}}}],\"scatter3d\":[{\"type\":\"scatter3d\",\"line\":{\"colorbar\":{\"outlinewidth\":0,\"ticks\":\"\"}},\"marker\":{\"colorbar\":{\"outlinewidth\":0,\"ticks\":\"\"}}}],\"scattermapbox\":[{\"type\":\"scattermapbox\",\"marker\":{\"colorbar\":{\"outlinewidth\":0,\"ticks\":\"\"}}}],\"scatterternary\":[{\"type\":\"scatterternary\",\"marker\":{\"colorbar\":{\"outlinewidth\":0,\"ticks\":\"\"}}}],\"scattercarpet\":[{\"type\":\"scattercarpet\",\"marker\":{\"colorbar\":{\"outlinewidth\":0,\"ticks\":\"\"}}}],\"carpet\":[{\"aaxis\":{\"endlinecolor\":\"#2a3f5f\",\"gridcolor\":\"white\",\"linecolor\":\"white\",\"minorgridcolor\":\"white\",\"startlinecolor\":\"#2a3f5f\"},\"baxis\":{\"endlinecolor\":\"#2a3f5f\",\"gridcolor\":\"white\",\"linecolor\":\"white\",\"minorgridcolor\":\"white\",\"startlinecolor\":\"#2a3f5f\"},\"type\":\"carpet\"}],\"table\":[{\"cells\":{\"fill\":{\"color\":\"#EBF0F8\"},\"line\":{\"color\":\"white\"}},\"header\":{\"fill\":{\"color\":\"#C8D4E3\"},\"line\":{\"color\":\"white\"}},\"type\":\"table\"}],\"barpolar\":[{\"marker\":{\"line\":{\"color\":\"#E5ECF6\",\"width\":0.5},\"pattern\":{\"fillmode\":\"overlay\",\"size\":10,\"solidity\":0.2}},\"type\":\"barpolar\"}],\"pie\":[{\"automargin\":true,\"type\":\"pie\"}]},\"layout\":{\"autotypenumbers\":\"strict\",\"colorway\":[\"#636efa\",\"#EF553B\",\"#00cc96\",\"#ab63fa\",\"#FFA15A\",\"#19d3f3\",\"#FF6692\",\"#B6E880\",\"#FF97FF\",\"#FECB52\"],\"font\":{\"color\":\"#2a3f5f\"},\"hovermode\":\"closest\",\"hoverlabel\":{\"align\":\"left\"},\"paper_bgcolor\":\"white\",\"plot_bgcolor\":\"#E5ECF6\",\"polar\":{\"bgcolor\":\"#E5ECF6\",\"angularaxis\":{\"gridcolor\":\"white\",\"linecolor\":\"white\",\"ticks\":\"\"},\"radialaxis\":{\"gridcolor\":\"white\",\"linecolor\":\"white\",\"ticks\":\"\"}},\"ternary\":{\"bgcolor\":\"#E5ECF6\",\"aaxis\":{\"gridcolor\":\"white\",\"linecolor\":\"white\",\"ticks\":\"\"},\"baxis\":{\"gridcolor\":\"white\",\"linecolor\":\"white\",\"ticks\":\"\"},\"caxis\":{\"gridcolor\":\"white\",\"linecolor\":\"white\",\"ticks\":\"\"}},\"coloraxis\":{\"colorbar\":{\"outlinewidth\":0,\"ticks\":\"\"}},\"colorscale\":{\"sequential\":[[0.0,\"#0d0887\"],[0.1111111111111111,\"#46039f\"],[0.2222222222222222,\"#7201a8\"],[0.3333333333333333,\"#9c179e\"],[0.4444444444444444,\"#bd3786\"],[0.5555555555555556,\"#d8576b\"],[0.6666666666666666,\"#ed7953\"],[0.7777777777777778,\"#fb9f3a\"],[0.8888888888888888,\"#fdca26\"],[1.0,\"#f0f921\"]],\"sequentialminus\":[[0.0,\"#0d0887\"],[0.1111111111111111,\"#46039f\"],[0.2222222222222222,\"#7201a8\"],[0.3333333333333333,\"#9c179e\"],[0.4444444444444444,\"#bd3786\"],[0.5555555555555556,\"#d8576b\"],[0.6666666666666666,\"#ed7953\"],[0.7777777777777778,\"#fb9f3a\"],[0.8888888888888888,\"#fdca26\"],[1.0,\"#f0f921\"]],\"diverging\":[[0,\"#8e0152\"],[0.1,\"#c51b7d\"],[0.2,\"#de77ae\"],[0.3,\"#f1b6da\"],[0.4,\"#fde0ef\"],[0.5,\"#f7f7f7\"],[0.6,\"#e6f5d0\"],[0.7,\"#b8e186\"],[0.8,\"#7fbc41\"],[0.9,\"#4d9221\"],[1,\"#276419\"]]},\"xaxis\":{\"gridcolor\":\"white\",\"linecolor\":\"white\",\"ticks\":\"\",\"title\":{\"standoff\":15},\"zerolinecolor\":\"white\",\"automargin\":true,\"zerolinewidth\":2},\"yaxis\":{\"gridcolor\":\"white\",\"linecolor\":\"white\",\"ticks\":\"\",\"title\":{\"standoff\":15},\"zerolinecolor\":\"white\",\"automargin\":true,\"zerolinewidth\":2},\"scene\":{\"xaxis\":{\"backgroundcolor\":\"#E5ECF6\",\"gridcolor\":\"white\",\"linecolor\":\"white\",\"showbackground\":true,\"ticks\":\"\",\"zerolinecolor\":\"white\",\"gridwidth\":2},\"yaxis\":{\"backgroundcolor\":\"#E5ECF6\",\"gridcolor\":\"white\",\"linecolor\":\"white\",\"showbackground\":true,\"ticks\":\"\",\"zerolinecolor\":\"white\",\"gridwidth\":2},\"zaxis\":{\"backgroundcolor\":\"#E5ECF6\",\"gridcolor\":\"white\",\"linecolor\":\"white\",\"showbackground\":true,\"ticks\":\"\",\"zerolinecolor\":\"white\",\"gridwidth\":2}},\"shapedefaults\":{\"line\":{\"color\":\"#2a3f5f\"}},\"annotationdefaults\":{\"arrowcolor\":\"#2a3f5f\",\"arrowhead\":0,\"arrowwidth\":1},\"geo\":{\"bgcolor\":\"white\",\"landcolor\":\"#E5ECF6\",\"subunitcolor\":\"white\",\"showland\":true,\"showlakes\":true,\"lakecolor\":\"white\"},\"title\":{\"x\":0.05},\"mapbox\":{\"style\":\"light\"}}},\"xaxis\":{\"anchor\":\"y\",\"domain\":[0.0,1.0],\"title\":{\"text\":\"model photography\"}},\"yaxis\":{\"anchor\":\"x\",\"domain\":[0.0,1.0],\"title\":{\"text\":\"counts\"}},\"legend\":{\"title\":{\"text\":\"page 1 (main category)\"},\"tracegroupgap\":0},\"margin\":{\"t\":60},\"barmode\":\"group\"},                        {\"responsive\": true}                    ).then(function(){\n",
       "                            \n",
       "var gd = document.getElementById('bb94afa7-4790-43b4-92f7-94753c96f366');\n",
       "var x = new MutationObserver(function (mutations, observer) {{\n",
       "        var display = window.getComputedStyle(gd).display;\n",
       "        if (!display || display === 'none') {{\n",
       "            console.log([gd, 'removed!']);\n",
       "            Plotly.purge(gd);\n",
       "            observer.disconnect();\n",
       "        }}\n",
       "}});\n",
       "\n",
       "// Listen for the removal of the full notebook cells\n",
       "var notebookContainer = gd.closest('#notebook-container');\n",
       "if (notebookContainer) {{\n",
       "    x.observe(notebookContainer, {childList: true});\n",
       "}}\n",
       "\n",
       "// Listen for the clearing of the current output cell\n",
       "var outputEl = gd.closest('.output');\n",
       "if (outputEl) {{\n",
       "    x.observe(outputEl, {childList: true});\n",
       "}}\n",
       "\n",
       "                        })                };                });            </script>        </div>"
      ]
     },
     "metadata": {},
     "output_type": "display_data"
    }
   ],
   "source": [
    "df5 = df.groupby(by=[\"model photography\", 'page 1 (main category)'])[\n",
    "    'price'].count().reset_index(name=\"counts\")\n",
    "px.bar(data_frame=df5, x=\"model photography\", y=\"counts\",\n",
    "       color=\"page 1 (main category)\", barmode=\"group\")\n"
   ]
  },
  {
   "cell_type": "markdown",
   "id": "70cc323a",
   "metadata": {
    "id": "GbZOPh-yAJ0-",
    "papermill": {
     "duration": 0.029217,
     "end_time": "2022-10-06T12:40:44.762246",
     "exception": false,
     "start_time": "2022-10-06T12:40:44.733029",
     "status": "completed"
    },
    "tags": []
   },
   "source": [
    "**YES** we should put model photography en face of the products"
   ]
  },
  {
   "cell_type": "markdown",
   "id": "c4f47857",
   "metadata": {
    "papermill": {
     "duration": 0.029694,
     "end_time": "2022-10-06T12:40:44.821939",
     "exception": false,
     "start_time": "2022-10-06T12:40:44.792245",
     "status": "completed"
    },
    "tags": []
   },
   "source": [
    "## Relation between sales and buying days per month"
   ]
  },
  {
   "cell_type": "code",
   "execution_count": 25,
   "id": "d60fe5ae",
   "metadata": {
    "execution": {
     "iopub.execute_input": "2022-10-06T12:40:44.884528Z",
     "iopub.status.busy": "2022-10-06T12:40:44.884133Z",
     "iopub.status.idle": "2022-10-06T12:40:44.991983Z",
     "shell.execute_reply": "2022-10-06T12:40:44.990582Z"
    },
    "papermill": {
     "duration": 0.142962,
     "end_time": "2022-10-06T12:40:44.995507",
     "exception": false,
     "start_time": "2022-10-06T12:40:44.852545",
     "status": "completed"
    },
    "tags": []
   },
   "outputs": [
    {
     "data": {
      "text/html": [
       "<div>                            <div id=\"ebe76594-5b6e-417a-bcdd-73bb41828122\" class=\"plotly-graph-div\" style=\"height:525px; width:100%;\"></div>            <script type=\"text/javascript\">                require([\"plotly\"], function(Plotly) {                    window.PLOTLYENV=window.PLOTLYENV || {};                                    if (document.getElementById(\"ebe76594-5b6e-417a-bcdd-73bb41828122\")) {                    Plotly.newPlot(                        \"ebe76594-5b6e-417a-bcdd-73bb41828122\",                        [{\"hovertemplate\":\"day=%{x}<br>month=%{y}<br>counts=%{marker.size}<extra></extra>\",\"legendgroup\":\"\",\"marker\":{\"color\":\"#636efa\",\"size\":[3181,3456,1854,1801,1504,1296,1801,1717,1481,1854,1636,1330,961,1754,1426,1712,1611,1833,1537,1273,1608,1479,1466,1217,1091,841,1010,1478,1777,1214,1029,714,1022,1412,1212,1651,1042,1267,1056,929,1240,1374,200,917,1037,1250,946,819,1004,1029,1506,1160,1232,1253,874,1012,1351,1283,1385,1415,921,538,951,1355,1522,1443,1529,1143,898,819,1151,1169,1121,1198,803,1071,1384,1334,1224,1067,823,796,1271,1340,1191,1203,1193,627,781,1175,1266,1203,1237,988,645,862,1044,1284,1134,1316,1099,749,965,1167,1142,938,594,923,1408,1215,1475,1409,1009,806,1059,1401,1023,1600,1128,1480,767,867,1477,1351,1415,1001,1156,1036,1425,1048,1271,1281,1494,834,621],\"sizemode\":\"area\",\"sizeref\":8.64,\"symbol\":\"circle\"},\"mode\":\"markers\",\"name\":\"\",\"orientation\":\"h\",\"showlegend\":false,\"x\":[1,2,3,4,5,6,7,8,9,10,11,12,13,14,15,16,17,18,19,20,21,22,23,24,25,26,27,28,29,30,1,2,3,4,5,6,7,8,9,10,11,12,13,1,2,3,4,5,6,7,8,9,10,11,12,13,14,15,16,17,18,19,20,21,22,23,24,25,26,27,28,29,30,31,1,2,3,4,5,6,7,8,9,10,11,12,13,14,15,16,17,18,19,20,21,22,23,24,25,26,27,28,29,30,1,2,3,4,5,6,7,8,9,10,11,12,13,14,15,16,17,18,19,20,21,22,23,24,25,26,27,28,29,30,31],\"xaxis\":\"x\",\"y\":[\"April\",\"April\",\"April\",\"April\",\"April\",\"April\",\"April\",\"April\",\"April\",\"April\",\"April\",\"April\",\"April\",\"April\",\"April\",\"April\",\"April\",\"April\",\"April\",\"April\",\"April\",\"April\",\"April\",\"April\",\"April\",\"April\",\"April\",\"April\",\"April\",\"April\",\"August\",\"August\",\"August\",\"August\",\"August\",\"August\",\"August\",\"August\",\"August\",\"August\",\"August\",\"August\",\"August\",\"July\",\"July\",\"July\",\"July\",\"July\",\"July\",\"July\",\"July\",\"July\",\"July\",\"July\",\"July\",\"July\",\"July\",\"July\",\"July\",\"July\",\"July\",\"July\",\"July\",\"July\",\"July\",\"July\",\"July\",\"July\",\"July\",\"July\",\"July\",\"July\",\"July\",\"July\",\"June\",\"June\",\"June\",\"June\",\"June\",\"June\",\"June\",\"June\",\"June\",\"June\",\"June\",\"June\",\"June\",\"June\",\"June\",\"June\",\"June\",\"June\",\"June\",\"June\",\"June\",\"June\",\"June\",\"June\",\"June\",\"June\",\"June\",\"June\",\"June\",\"June\",\"May\",\"May\",\"May\",\"May\",\"May\",\"May\",\"May\",\"May\",\"May\",\"May\",\"May\",\"May\",\"May\",\"May\",\"May\",\"May\",\"May\",\"May\",\"May\",\"May\",\"May\",\"May\",\"May\",\"May\",\"May\",\"May\",\"May\",\"May\",\"May\",\"May\",\"May\"],\"yaxis\":\"y\",\"type\":\"scatter\"}],                        {\"template\":{\"data\":{\"histogram2dcontour\":[{\"type\":\"histogram2dcontour\",\"colorbar\":{\"outlinewidth\":0,\"ticks\":\"\"},\"colorscale\":[[0.0,\"#0d0887\"],[0.1111111111111111,\"#46039f\"],[0.2222222222222222,\"#7201a8\"],[0.3333333333333333,\"#9c179e\"],[0.4444444444444444,\"#bd3786\"],[0.5555555555555556,\"#d8576b\"],[0.6666666666666666,\"#ed7953\"],[0.7777777777777778,\"#fb9f3a\"],[0.8888888888888888,\"#fdca26\"],[1.0,\"#f0f921\"]]}],\"choropleth\":[{\"type\":\"choropleth\",\"colorbar\":{\"outlinewidth\":0,\"ticks\":\"\"}}],\"histogram2d\":[{\"type\":\"histogram2d\",\"colorbar\":{\"outlinewidth\":0,\"ticks\":\"\"},\"colorscale\":[[0.0,\"#0d0887\"],[0.1111111111111111,\"#46039f\"],[0.2222222222222222,\"#7201a8\"],[0.3333333333333333,\"#9c179e\"],[0.4444444444444444,\"#bd3786\"],[0.5555555555555556,\"#d8576b\"],[0.6666666666666666,\"#ed7953\"],[0.7777777777777778,\"#fb9f3a\"],[0.8888888888888888,\"#fdca26\"],[1.0,\"#f0f921\"]]}],\"heatmap\":[{\"type\":\"heatmap\",\"colorbar\":{\"outlinewidth\":0,\"ticks\":\"\"},\"colorscale\":[[0.0,\"#0d0887\"],[0.1111111111111111,\"#46039f\"],[0.2222222222222222,\"#7201a8\"],[0.3333333333333333,\"#9c179e\"],[0.4444444444444444,\"#bd3786\"],[0.5555555555555556,\"#d8576b\"],[0.6666666666666666,\"#ed7953\"],[0.7777777777777778,\"#fb9f3a\"],[0.8888888888888888,\"#fdca26\"],[1.0,\"#f0f921\"]]}],\"heatmapgl\":[{\"type\":\"heatmapgl\",\"colorbar\":{\"outlinewidth\":0,\"ticks\":\"\"},\"colorscale\":[[0.0,\"#0d0887\"],[0.1111111111111111,\"#46039f\"],[0.2222222222222222,\"#7201a8\"],[0.3333333333333333,\"#9c179e\"],[0.4444444444444444,\"#bd3786\"],[0.5555555555555556,\"#d8576b\"],[0.6666666666666666,\"#ed7953\"],[0.7777777777777778,\"#fb9f3a\"],[0.8888888888888888,\"#fdca26\"],[1.0,\"#f0f921\"]]}],\"contourcarpet\":[{\"type\":\"contourcarpet\",\"colorbar\":{\"outlinewidth\":0,\"ticks\":\"\"}}],\"contour\":[{\"type\":\"contour\",\"colorbar\":{\"outlinewidth\":0,\"ticks\":\"\"},\"colorscale\":[[0.0,\"#0d0887\"],[0.1111111111111111,\"#46039f\"],[0.2222222222222222,\"#7201a8\"],[0.3333333333333333,\"#9c179e\"],[0.4444444444444444,\"#bd3786\"],[0.5555555555555556,\"#d8576b\"],[0.6666666666666666,\"#ed7953\"],[0.7777777777777778,\"#fb9f3a\"],[0.8888888888888888,\"#fdca26\"],[1.0,\"#f0f921\"]]}],\"surface\":[{\"type\":\"surface\",\"colorbar\":{\"outlinewidth\":0,\"ticks\":\"\"},\"colorscale\":[[0.0,\"#0d0887\"],[0.1111111111111111,\"#46039f\"],[0.2222222222222222,\"#7201a8\"],[0.3333333333333333,\"#9c179e\"],[0.4444444444444444,\"#bd3786\"],[0.5555555555555556,\"#d8576b\"],[0.6666666666666666,\"#ed7953\"],[0.7777777777777778,\"#fb9f3a\"],[0.8888888888888888,\"#fdca26\"],[1.0,\"#f0f921\"]]}],\"mesh3d\":[{\"type\":\"mesh3d\",\"colorbar\":{\"outlinewidth\":0,\"ticks\":\"\"}}],\"scatter\":[{\"fillpattern\":{\"fillmode\":\"overlay\",\"size\":10,\"solidity\":0.2},\"type\":\"scatter\"}],\"parcoords\":[{\"type\":\"parcoords\",\"line\":{\"colorbar\":{\"outlinewidth\":0,\"ticks\":\"\"}}}],\"scatterpolargl\":[{\"type\":\"scatterpolargl\",\"marker\":{\"colorbar\":{\"outlinewidth\":0,\"ticks\":\"\"}}}],\"bar\":[{\"error_x\":{\"color\":\"#2a3f5f\"},\"error_y\":{\"color\":\"#2a3f5f\"},\"marker\":{\"line\":{\"color\":\"#E5ECF6\",\"width\":0.5},\"pattern\":{\"fillmode\":\"overlay\",\"size\":10,\"solidity\":0.2}},\"type\":\"bar\"}],\"scattergeo\":[{\"type\":\"scattergeo\",\"marker\":{\"colorbar\":{\"outlinewidth\":0,\"ticks\":\"\"}}}],\"scatterpolar\":[{\"type\":\"scatterpolar\",\"marker\":{\"colorbar\":{\"outlinewidth\":0,\"ticks\":\"\"}}}],\"histogram\":[{\"marker\":{\"pattern\":{\"fillmode\":\"overlay\",\"size\":10,\"solidity\":0.2}},\"type\":\"histogram\"}],\"scattergl\":[{\"type\":\"scattergl\",\"marker\":{\"colorbar\":{\"outlinewidth\":0,\"ticks\":\"\"}}}],\"scatter3d\":[{\"type\":\"scatter3d\",\"line\":{\"colorbar\":{\"outlinewidth\":0,\"ticks\":\"\"}},\"marker\":{\"colorbar\":{\"outlinewidth\":0,\"ticks\":\"\"}}}],\"scattermapbox\":[{\"type\":\"scattermapbox\",\"marker\":{\"colorbar\":{\"outlinewidth\":0,\"ticks\":\"\"}}}],\"scatterternary\":[{\"type\":\"scatterternary\",\"marker\":{\"colorbar\":{\"outlinewidth\":0,\"ticks\":\"\"}}}],\"scattercarpet\":[{\"type\":\"scattercarpet\",\"marker\":{\"colorbar\":{\"outlinewidth\":0,\"ticks\":\"\"}}}],\"carpet\":[{\"aaxis\":{\"endlinecolor\":\"#2a3f5f\",\"gridcolor\":\"white\",\"linecolor\":\"white\",\"minorgridcolor\":\"white\",\"startlinecolor\":\"#2a3f5f\"},\"baxis\":{\"endlinecolor\":\"#2a3f5f\",\"gridcolor\":\"white\",\"linecolor\":\"white\",\"minorgridcolor\":\"white\",\"startlinecolor\":\"#2a3f5f\"},\"type\":\"carpet\"}],\"table\":[{\"cells\":{\"fill\":{\"color\":\"#EBF0F8\"},\"line\":{\"color\":\"white\"}},\"header\":{\"fill\":{\"color\":\"#C8D4E3\"},\"line\":{\"color\":\"white\"}},\"type\":\"table\"}],\"barpolar\":[{\"marker\":{\"line\":{\"color\":\"#E5ECF6\",\"width\":0.5},\"pattern\":{\"fillmode\":\"overlay\",\"size\":10,\"solidity\":0.2}},\"type\":\"barpolar\"}],\"pie\":[{\"automargin\":true,\"type\":\"pie\"}]},\"layout\":{\"autotypenumbers\":\"strict\",\"colorway\":[\"#636efa\",\"#EF553B\",\"#00cc96\",\"#ab63fa\",\"#FFA15A\",\"#19d3f3\",\"#FF6692\",\"#B6E880\",\"#FF97FF\",\"#FECB52\"],\"font\":{\"color\":\"#2a3f5f\"},\"hovermode\":\"closest\",\"hoverlabel\":{\"align\":\"left\"},\"paper_bgcolor\":\"white\",\"plot_bgcolor\":\"#E5ECF6\",\"polar\":{\"bgcolor\":\"#E5ECF6\",\"angularaxis\":{\"gridcolor\":\"white\",\"linecolor\":\"white\",\"ticks\":\"\"},\"radialaxis\":{\"gridcolor\":\"white\",\"linecolor\":\"white\",\"ticks\":\"\"}},\"ternary\":{\"bgcolor\":\"#E5ECF6\",\"aaxis\":{\"gridcolor\":\"white\",\"linecolor\":\"white\",\"ticks\":\"\"},\"baxis\":{\"gridcolor\":\"white\",\"linecolor\":\"white\",\"ticks\":\"\"},\"caxis\":{\"gridcolor\":\"white\",\"linecolor\":\"white\",\"ticks\":\"\"}},\"coloraxis\":{\"colorbar\":{\"outlinewidth\":0,\"ticks\":\"\"}},\"colorscale\":{\"sequential\":[[0.0,\"#0d0887\"],[0.1111111111111111,\"#46039f\"],[0.2222222222222222,\"#7201a8\"],[0.3333333333333333,\"#9c179e\"],[0.4444444444444444,\"#bd3786\"],[0.5555555555555556,\"#d8576b\"],[0.6666666666666666,\"#ed7953\"],[0.7777777777777778,\"#fb9f3a\"],[0.8888888888888888,\"#fdca26\"],[1.0,\"#f0f921\"]],\"sequentialminus\":[[0.0,\"#0d0887\"],[0.1111111111111111,\"#46039f\"],[0.2222222222222222,\"#7201a8\"],[0.3333333333333333,\"#9c179e\"],[0.4444444444444444,\"#bd3786\"],[0.5555555555555556,\"#d8576b\"],[0.6666666666666666,\"#ed7953\"],[0.7777777777777778,\"#fb9f3a\"],[0.8888888888888888,\"#fdca26\"],[1.0,\"#f0f921\"]],\"diverging\":[[0,\"#8e0152\"],[0.1,\"#c51b7d\"],[0.2,\"#de77ae\"],[0.3,\"#f1b6da\"],[0.4,\"#fde0ef\"],[0.5,\"#f7f7f7\"],[0.6,\"#e6f5d0\"],[0.7,\"#b8e186\"],[0.8,\"#7fbc41\"],[0.9,\"#4d9221\"],[1,\"#276419\"]]},\"xaxis\":{\"gridcolor\":\"white\",\"linecolor\":\"white\",\"ticks\":\"\",\"title\":{\"standoff\":15},\"zerolinecolor\":\"white\",\"automargin\":true,\"zerolinewidth\":2},\"yaxis\":{\"gridcolor\":\"white\",\"linecolor\":\"white\",\"ticks\":\"\",\"title\":{\"standoff\":15},\"zerolinecolor\":\"white\",\"automargin\":true,\"zerolinewidth\":2},\"scene\":{\"xaxis\":{\"backgroundcolor\":\"#E5ECF6\",\"gridcolor\":\"white\",\"linecolor\":\"white\",\"showbackground\":true,\"ticks\":\"\",\"zerolinecolor\":\"white\",\"gridwidth\":2},\"yaxis\":{\"backgroundcolor\":\"#E5ECF6\",\"gridcolor\":\"white\",\"linecolor\":\"white\",\"showbackground\":true,\"ticks\":\"\",\"zerolinecolor\":\"white\",\"gridwidth\":2},\"zaxis\":{\"backgroundcolor\":\"#E5ECF6\",\"gridcolor\":\"white\",\"linecolor\":\"white\",\"showbackground\":true,\"ticks\":\"\",\"zerolinecolor\":\"white\",\"gridwidth\":2}},\"shapedefaults\":{\"line\":{\"color\":\"#2a3f5f\"}},\"annotationdefaults\":{\"arrowcolor\":\"#2a3f5f\",\"arrowhead\":0,\"arrowwidth\":1},\"geo\":{\"bgcolor\":\"white\",\"landcolor\":\"#E5ECF6\",\"subunitcolor\":\"white\",\"showland\":true,\"showlakes\":true,\"lakecolor\":\"white\"},\"title\":{\"x\":0.05},\"mapbox\":{\"style\":\"light\"}}},\"xaxis\":{\"anchor\":\"y\",\"domain\":[0.0,1.0],\"title\":{\"text\":\"day\"}},\"yaxis\":{\"anchor\":\"x\",\"domain\":[0.0,1.0],\"title\":{\"text\":\"month\"}},\"legend\":{\"tracegroupgap\":0,\"itemsizing\":\"constant\"},\"margin\":{\"t\":60}},                        {\"responsive\": true}                    ).then(function(){\n",
       "                            \n",
       "var gd = document.getElementById('ebe76594-5b6e-417a-bcdd-73bb41828122');\n",
       "var x = new MutationObserver(function (mutations, observer) {{\n",
       "        var display = window.getComputedStyle(gd).display;\n",
       "        if (!display || display === 'none') {{\n",
       "            console.log([gd, 'removed!']);\n",
       "            Plotly.purge(gd);\n",
       "            observer.disconnect();\n",
       "        }}\n",
       "}});\n",
       "\n",
       "// Listen for the removal of the full notebook cells\n",
       "var notebookContainer = gd.closest('#notebook-container');\n",
       "if (notebookContainer) {{\n",
       "    x.observe(notebookContainer, {childList: true});\n",
       "}}\n",
       "\n",
       "// Listen for the clearing of the current output cell\n",
       "var outputEl = gd.closest('.output');\n",
       "if (outputEl) {{\n",
       "    x.observe(outputEl, {childList: true});\n",
       "}}\n",
       "\n",
       "                        })                };                });            </script>        </div>"
      ]
     },
     "metadata": {},
     "output_type": "display_data"
    }
   ],
   "source": [
    "df9 = df[df['page 1 (main category)']== \"sale\"]\n",
    "df9 = df.groupby(by=[\"month\",\"day\"])['page 1 (main category)'].count().reset_index(name=\"counts\")\n",
    "\n",
    "\n",
    "fig = px.scatter(df9, y='month', x=\"day\",\n",
    "                 size=\"counts\")\n",
    "fig.show()"
   ]
  },
  {
   "cell_type": "markdown",
   "id": "bad804a5",
   "metadata": {
    "papermill": {
     "duration": 0.038265,
     "end_time": "2022-10-06T12:40:45.072457",
     "exception": false,
     "start_time": "2022-10-06T12:40:45.034192",
     "status": "completed"
    },
    "tags": []
   },
   "source": [
    "# Data Preprocessing"
   ]
  },
  {
   "cell_type": "markdown",
   "id": "c479fb02",
   "metadata": {
    "papermill": {
     "duration": 0.031063,
     "end_time": "2022-10-06T12:40:45.138089",
     "exception": false,
     "start_time": "2022-10-06T12:40:45.107026",
     "status": "completed"
    },
    "tags": []
   },
   "source": [
    "## Missing Data"
   ]
  },
  {
   "cell_type": "code",
   "execution_count": 26,
   "id": "2bc83609",
   "metadata": {
    "execution": {
     "iopub.execute_input": "2022-10-06T12:40:45.202100Z",
     "iopub.status.busy": "2022-10-06T12:40:45.201702Z",
     "iopub.status.idle": "2022-10-06T12:40:45.261799Z",
     "shell.execute_reply": "2022-10-06T12:40:45.260881Z"
    },
    "papermill": {
     "duration": 0.094674,
     "end_time": "2022-10-06T12:40:45.264464",
     "exception": false,
     "start_time": "2022-10-06T12:40:45.169790",
     "status": "completed"
    },
    "tags": []
   },
   "outputs": [],
   "source": [
    "total = df.shape[0]\n",
    "missing_columns = [col for col in df.columns if df[col].isnull().sum() > 0]\n",
    "for col in missing_columns:\n",
    "    null_count = df[col].isnull().sum()\n",
    "    per = (null_count/total) * 100\n",
    "    print(f\"{col}: {null_count} ({round(per, 3)}%)\")"
   ]
  },
  {
   "cell_type": "markdown",
   "id": "c15a8a5e",
   "metadata": {
    "papermill": {
     "duration": 0.029938,
     "end_time": "2022-10-06T12:40:45.324812",
     "exception": false,
     "start_time": "2022-10-06T12:40:45.294874",
     "status": "completed"
    },
    "tags": []
   },
   "source": [
    "Great, No missing values"
   ]
  },
  {
   "cell_type": "markdown",
   "id": "5b024dfe",
   "metadata": {
    "papermill": {
     "duration": 0.02976,
     "end_time": "2022-10-06T12:40:45.384606",
     "exception": false,
     "start_time": "2022-10-06T12:40:45.354846",
     "status": "completed"
    },
    "tags": []
   },
   "source": [
    "## Duplicates "
   ]
  },
  {
   "cell_type": "code",
   "execution_count": 27,
   "id": "e872a1eb",
   "metadata": {
    "execution": {
     "iopub.execute_input": "2022-10-06T12:40:45.447049Z",
     "iopub.status.busy": "2022-10-06T12:40:45.446649Z",
     "iopub.status.idle": "2022-10-06T12:40:45.567060Z",
     "shell.execute_reply": "2022-10-06T12:40:45.565550Z"
    },
    "papermill": {
     "duration": 0.154554,
     "end_time": "2022-10-06T12:40:45.569446",
     "exception": false,
     "start_time": "2022-10-06T12:40:45.414892",
     "status": "completed"
    },
    "tags": []
   },
   "outputs": [
    {
     "name": "stdout",
     "output_type": "stream",
     "text": [
      "Number of duplicate rows: 0\n"
     ]
    }
   ],
   "source": [
    "print(f\"Number of duplicate rows: {df.duplicated().sum()}\")"
   ]
  },
  {
   "cell_type": "markdown",
   "id": "76f24958",
   "metadata": {
    "papermill": {
     "duration": 0.029525,
     "end_time": "2022-10-06T12:40:45.629485",
     "exception": false,
     "start_time": "2022-10-06T12:40:45.599960",
     "status": "completed"
    },
    "tags": []
   },
   "source": [
    "No duplicate rows"
   ]
  },
  {
   "cell_type": "markdown",
   "id": "4ea104f0",
   "metadata": {
    "papermill": {
     "duration": 0.030113,
     "end_time": "2022-10-06T12:40:45.690391",
     "exception": false,
     "start_time": "2022-10-06T12:40:45.660278",
     "status": "completed"
    },
    "tags": []
   },
   "source": [
    "## Remove useless columns"
   ]
  },
  {
   "cell_type": "code",
   "execution_count": 28,
   "id": "b74709c6",
   "metadata": {
    "execution": {
     "iopub.execute_input": "2022-10-06T12:40:45.752937Z",
     "iopub.status.busy": "2022-10-06T12:40:45.752510Z",
     "iopub.status.idle": "2022-10-06T12:40:45.774075Z",
     "shell.execute_reply": "2022-10-06T12:40:45.772678Z"
    },
    "papermill": {
     "duration": 0.056209,
     "end_time": "2022-10-06T12:40:45.776929",
     "exception": false,
     "start_time": "2022-10-06T12:40:45.720720",
     "status": "completed"
    },
    "tags": []
   },
   "outputs": [],
   "source": [
    "df.drop('session ID', axis=1, inplace=True)"
   ]
  },
  {
   "cell_type": "markdown",
   "id": "d839a5f5",
   "metadata": {
    "papermill": {
     "duration": 0.03037,
     "end_time": "2022-10-06T12:40:45.838318",
     "exception": false,
     "start_time": "2022-10-06T12:40:45.807948",
     "status": "completed"
    },
    "tags": []
   },
   "source": [
    "## Data Distribution"
   ]
  },
  {
   "cell_type": "code",
   "execution_count": 29,
   "id": "403464a7",
   "metadata": {
    "execution": {
     "iopub.execute_input": "2022-10-06T12:40:45.902097Z",
     "iopub.status.busy": "2022-10-06T12:40:45.901733Z",
     "iopub.status.idle": "2022-10-06T12:40:47.165542Z",
     "shell.execute_reply": "2022-10-06T12:40:47.164752Z"
    },
    "papermill": {
     "duration": 1.298278,
     "end_time": "2022-10-06T12:40:47.167770",
     "exception": false,
     "start_time": "2022-10-06T12:40:45.869492",
     "status": "completed"
    },
    "tags": []
   },
   "outputs": [
    {
     "data": {
      "image/png": "[encoded data removed]",
      "text/plain": [
       "<Figure size 432x288 with 2 Axes>"
      ]
     },
     "metadata": {
      "needs_background": "light"
     },
     "output_type": "display_data"
    }
   ],
   "source": [
    "x = \"price\"\n",
    "fig, ax = plt.subplots(nrows=1, ncols=2,  sharex=False, sharey=False)\n",
    "fig.suptitle(x, fontsize=20)\n",
    "### distribution\n",
    "ax[0].title.set_text('distribution')\n",
    "sns.distplot(df_copy[x], hist=True, kde=True, kde_kws={\"shade\": True}, ax=ax[0])\n",
    "des = df_copy[x].describe()\n",
    "ax[0].axvline(des[\"25%\"], ls='--')\n",
    "ax[0].axvline(des[\"mean\"], ls='--')\n",
    "ax[0].axvline(des[\"75%\"], ls='--')\n",
    "ax[0].grid(True)\n",
    "des = round(des, 2).apply(lambda x: str(x))\n",
    "box = '\\n'.join((\"min: \"+des[\"min\"], \"25%: \"+des[\"25%\"], \"mean: \"+des[\"mean\"], \"75%: \"+des[\"75%\"], \"max: \"+des[\"max\"]))\n",
    "ax[0].text(0.95, 0.95, box, transform=ax[0].transAxes, fontsize=10, va='top', ha=\"right\", bbox=dict(boxstyle='round', facecolor='white', alpha=1))\n",
    "### boxplot \n",
    "ax[1].title.set_text('outliers (log scale)')\n",
    "tmp_dtf = pd.DataFrame(df_copy[x])\n",
    "tmp_dtf[x] = np.log(df_copy[x])\n",
    "tmp_dtf.boxplot(column=x, ax=ax[1])\n",
    "plt.show()"
   ]
  },
  {
   "cell_type": "markdown",
   "id": "5ac3aaf7",
   "metadata": {
    "papermill": {
     "duration": 0.036176,
     "end_time": "2022-10-06T12:40:47.236526",
     "exception": false,
     "start_time": "2022-10-06T12:40:47.200350",
     "status": "completed"
    },
    "tags": []
   },
   "source": [
    "## Outliers"
   ]
  },
  {
   "cell_type": "code",
   "execution_count": 30,
   "id": "15ce9ea3",
   "metadata": {
    "execution": {
     "iopub.execute_input": "2022-10-06T12:40:47.302728Z",
     "iopub.status.busy": "2022-10-06T12:40:47.301927Z",
     "iopub.status.idle": "2022-10-06T12:40:47.306401Z",
     "shell.execute_reply": "2022-10-06T12:40:47.305658Z"
    },
    "papermill": {
     "duration": 0.038614,
     "end_time": "2022-10-06T12:40:47.308396",
     "exception": false,
     "start_time": "2022-10-06T12:40:47.269782",
     "status": "completed"
    },
    "tags": []
   },
   "outputs": [],
   "source": [
    "# for col in df:\n",
    "#     if col != 'price' and is_numeric_dtype(df[col]):\n",
    "#         print('-'*30)\n",
    "#         fig, ax = plt.subplots(2, 1, figsize=(12, 4))\n",
    "#         g1 = sns.boxplot(x = df[col], ax=ax[0])\n",
    "#         g2 = sns.scatterplot(data=df, x=df[col],y=df['price'], ax=ax[1])\n",
    "#         plt.show()"
   ]
  },
  {
   "cell_type": "markdown",
   "id": "323677b0",
   "metadata": {
    "papermill": {
     "duration": 0.030362,
     "end_time": "2022-10-06T12:40:47.369658",
     "exception": false,
     "start_time": "2022-10-06T12:40:47.339296",
     "status": "completed"
    },
    "tags": []
   },
   "source": [
    "After inspecting the outliers, It seems to be important data "
   ]
  },
  {
   "cell_type": "markdown",
   "id": "bf18ef7c",
   "metadata": {
    "papermill": {
     "duration": 0.030512,
     "end_time": "2022-10-06T12:40:47.431021",
     "exception": false,
     "start_time": "2022-10-06T12:40:47.400509",
     "status": "completed"
    },
    "tags": []
   },
   "source": [
    "## Label Encoding "
   ]
  },
  {
   "cell_type": "code",
   "execution_count": 31,
   "id": "b310904f",
   "metadata": {
    "execution": {
     "iopub.execute_input": "2022-10-06T12:40:47.494996Z",
     "iopub.status.busy": "2022-10-06T12:40:47.494168Z",
     "iopub.status.idle": "2022-10-06T12:40:47.807184Z",
     "shell.execute_reply": "2022-10-06T12:40:47.806022Z"
    },
    "id": "UeGCZJArgaM2",
    "papermill": {
     "duration": 0.347996,
     "end_time": "2022-10-06T12:40:47.810033",
     "exception": false,
     "start_time": "2022-10-06T12:40:47.462037",
     "status": "completed"
    },
    "tags": []
   },
   "outputs": [],
   "source": [
    "encoders = {}\n",
    "for col in df.columns:\n",
    "    if df[col].dtype == 'object':\n",
    "            label_encoder = LabelEncoder()\n",
    "            df[col] = label_encoder.fit_transform(df[col])\n",
    "            encoders[col] = label_encoder"
   ]
  },
  {
   "cell_type": "code",
   "execution_count": 32,
   "id": "ccaf572e",
   "metadata": {
    "execution": {
     "iopub.execute_input": "2022-10-06T12:40:47.876516Z",
     "iopub.status.busy": "2022-10-06T12:40:47.876103Z",
     "iopub.status.idle": "2022-10-06T12:40:47.882006Z",
     "shell.execute_reply": "2022-10-06T12:40:47.881240Z"
    },
    "papermill": {
     "duration": 0.040095,
     "end_time": "2022-10-06T12:40:47.883977",
     "exception": false,
     "start_time": "2022-10-06T12:40:47.843882",
     "status": "completed"
    },
    "tags": []
   },
   "outputs": [],
   "source": [
    "df[\"price 2\"] = df[\"price 2\"] - 1"
   ]
  },
  {
   "cell_type": "markdown",
   "id": "da5cf04e",
   "metadata": {
    "papermill": {
     "duration": 0.03071,
     "end_time": "2022-10-06T12:40:47.945545",
     "exception": false,
     "start_time": "2022-10-06T12:40:47.914835",
     "status": "completed"
    },
    "tags": []
   },
   "source": [
    "## Correlation Matrix"
   ]
  },
  {
   "cell_type": "code",
   "execution_count": 33,
   "id": "1b011293",
   "metadata": {
    "execution": {
     "iopub.execute_input": "2022-10-06T12:40:48.009760Z",
     "iopub.status.busy": "2022-10-06T12:40:48.008994Z",
     "iopub.status.idle": "2022-10-06T12:40:48.969930Z",
     "shell.execute_reply": "2022-10-06T12:40:48.968790Z"
    },
    "papermill": {
     "duration": 0.99569,
     "end_time": "2022-10-06T12:40:48.972488",
     "exception": false,
     "start_time": "2022-10-06T12:40:47.976798",
     "status": "completed"
    },
    "tags": []
   },
   "outputs": [
    {
     "data": {
      "text/plain": [
       "Text(0.5, 1.0, 'pearson correlation')"
      ]
     },
     "execution_count": 33,
     "metadata": {},
     "output_type": "execute_result"
    },
    {
     "data": {
      "image/png": "[encoded data removed]",
      "text/plain": [
       "<Figure size 720x432 with 2 Axes>"
      ]
     },
     "metadata": {
      "needs_background": "light"
     },
     "output_type": "display_data"
    }
   ],
   "source": [
    "df_copy2 = df.drop(['price','price 2'], axis=1)\n",
    "plt.figure(figsize=(10,6))\n",
    "corr_matrix = df_copy2.corr(method=\"pearson\")\n",
    "sns.heatmap(corr_matrix, vmin=0, vmax=1, annot=True, fmt='.2f', cmap=\"YlGnBu\", cbar=True, linewidths=0.5)\n",
    "plt.title(\"pearson correlation\")"
   ]
  },
  {
   "cell_type": "markdown",
   "id": "e286f195",
   "metadata": {
    "papermill": {
     "duration": 0.031807,
     "end_time": "2022-10-06T12:40:49.036770",
     "exception": false,
     "start_time": "2022-10-06T12:40:49.004963",
     "status": "completed"
    },
    "tags": []
   },
   "source": [
    "# Model Training - Classification on 'price 2' "
   ]
  },
  {
   "cell_type": "markdown",
   "id": "253224a4",
   "metadata": {
    "papermill": {
     "duration": 0.032779,
     "end_time": "2022-10-06T12:40:49.101976",
     "exception": false,
     "start_time": "2022-10-06T12:40:49.069197",
     "status": "completed"
    },
    "tags": []
   },
   "source": [
    "## Splitting & Feature Scaling  "
   ]
  },
  {
   "cell_type": "code",
   "execution_count": 34,
   "id": "00827843",
   "metadata": {
    "execution": {
     "iopub.execute_input": "2022-10-06T12:40:49.169619Z",
     "iopub.status.busy": "2022-10-06T12:40:49.168800Z",
     "iopub.status.idle": "2022-10-06T12:40:49.207686Z",
     "shell.execute_reply": "2022-10-06T12:40:49.206384Z"
    },
    "papermill": {
     "duration": 0.075611,
     "end_time": "2022-10-06T12:40:49.210605",
     "exception": false,
     "start_time": "2022-10-06T12:40:49.134994",
     "status": "completed"
    },
    "tags": []
   },
   "outputs": [],
   "source": [
    "X = df.drop('price 2', axis=1)\n",
    "y = df[\"price 2\"]\n",
    "x_train, x_test, y_train, y_test = train_test_split(X, y, train_size=0.20, random_state = 0)"
   ]
  },
  {
   "cell_type": "code",
   "execution_count": 35,
   "id": "1adb2470",
   "metadata": {
    "execution": {
     "iopub.execute_input": "2022-10-06T12:40:49.278957Z",
     "iopub.status.busy": "2022-10-06T12:40:49.278544Z",
     "iopub.status.idle": "2022-10-06T12:40:49.301381Z",
     "shell.execute_reply": "2022-10-06T12:40:49.300156Z"
    },
    "papermill": {
     "duration": 0.060628,
     "end_time": "2022-10-06T12:40:49.304109",
     "exception": false,
     "start_time": "2022-10-06T12:40:49.243481",
     "status": "completed"
    },
    "tags": []
   },
   "outputs": [],
   "source": [
    "scaler = StandardScaler()\n",
    "x_train = scaler.fit_transform(x_train)\n",
    "x_test = scaler.transform(x_test)"
   ]
  },
  {
   "cell_type": "markdown",
   "id": "8694a34b",
   "metadata": {
    "papermill": {
     "duration": 0.032558,
     "end_time": "2022-10-06T12:40:49.370492",
     "exception": false,
     "start_time": "2022-10-06T12:40:49.337934",
     "status": "completed"
    },
    "tags": []
   },
   "source": [
    "## Logistic Regression"
   ]
  },
  {
   "cell_type": "code",
   "execution_count": 36,
   "id": "d7a73e22",
   "metadata": {
    "execution": {
     "iopub.execute_input": "2022-10-06T12:40:49.438091Z",
     "iopub.status.busy": "2022-10-06T12:40:49.437655Z",
     "iopub.status.idle": "2022-10-06T12:40:49.558583Z",
     "shell.execute_reply": "2022-10-06T12:40:49.557118Z"
    },
    "papermill": {
     "duration": 0.158757,
     "end_time": "2022-10-06T12:40:49.562692",
     "exception": false,
     "start_time": "2022-10-06T12:40:49.403935",
     "status": "completed"
    },
    "tags": []
   },
   "outputs": [
    {
     "data": {
      "text/plain": [
       "LogisticRegression(random_state=42)"
      ]
     },
     "execution_count": 36,
     "metadata": {},
     "output_type": "execute_result"
    }
   ],
   "source": [
    "lg_model = LogisticRegression(random_state = 42)\n",
    "lg_model.fit(x_train, y_train)"
   ]
  },
  {
   "cell_type": "code",
   "execution_count": 37,
   "id": "1fe0b7ca",
   "metadata": {
    "execution": {
     "iopub.execute_input": "2022-10-06T12:40:49.695733Z",
     "iopub.status.busy": "2022-10-06T12:40:49.695321Z",
     "iopub.status.idle": "2022-10-06T12:40:49.962298Z",
     "shell.execute_reply": "2022-10-06T12:40:49.961079Z"
    },
    "papermill": {
     "duration": 0.319488,
     "end_time": "2022-10-06T12:40:49.965978",
     "exception": false,
     "start_time": "2022-10-06T12:40:49.646490",
     "status": "completed"
    },
    "tags": []
   },
   "outputs": [
    {
     "name": "stdout",
     "output_type": "stream",
     "text": [
      "Training Score: 0.9896053665316976\n",
      "Test Score: 0.9891297779120714\n"
     ]
    }
   ],
   "source": [
    "lg_train, lg_test = lg_model.score(x_train , y_train), lg_model.score(x_test , y_test)\n",
    "\n",
    "print(f\"Training Score: {lg_train}\")\n",
    "print(f\"Test Score: {lg_test}\")"
   ]
  },
  {
   "cell_type": "markdown",
   "id": "9f6dd6df",
   "metadata": {
    "id": "ky9U56wagaM3",
    "papermill": {
     "duration": 0.033921,
     "end_time": "2022-10-06T12:40:50.083736",
     "exception": false,
     "start_time": "2022-10-06T12:40:50.049815",
     "status": "completed"
    },
    "tags": []
   },
   "source": [
    "## K Nearest Neighbors (KNN) classification model"
   ]
  },
  {
   "cell_type": "code",
   "execution_count": 38,
   "id": "911894b1",
   "metadata": {
    "execution": {
     "iopub.execute_input": "2022-10-06T12:40:50.151064Z",
     "iopub.status.busy": "2022-10-06T12:40:50.150618Z",
     "iopub.status.idle": "2022-10-06T12:41:07.743908Z",
     "shell.execute_reply": "2022-10-06T12:41:07.742717Z"
    },
    "id": "urIn1Y_4gaM4",
    "papermill": {
     "duration": 17.629434,
     "end_time": "2022-10-06T12:41:07.746369",
     "exception": false,
     "start_time": "2022-10-06T12:40:50.116935",
     "status": "completed"
    },
    "tags": []
   },
   "outputs": [
    {
     "name": "stdout",
     "output_type": "stream",
     "text": [
      "Train Score: 0.9962228802804134\n",
      "Test Score: 0.9927103792113612\n"
     ]
    }
   ],
   "source": [
    "KNN_model = KNeighborsClassifier(n_neighbors=4)\n",
    "KNN_model.fit(x_train, y_train)\n",
    "\n",
    "KNN_train, KNN_test = KNN_model.score(x_train, y_train), KNN_model.score(x_test, y_test)\n",
    "\n",
    "print(f\"Train Score: {KNN_train}\")\n",
    "print(f\"Test Score: {KNN_test}\")"
   ]
  },
  {
   "cell_type": "markdown",
   "id": "41ba21b4",
   "metadata": {
    "id": "LQuE5mKtgaM5",
    "papermill": {
     "duration": 0.032602,
     "end_time": "2022-10-06T12:41:07.811689",
     "exception": false,
     "start_time": "2022-10-06T12:41:07.779087",
     "status": "completed"
    },
    "tags": []
   },
   "source": [
    "## Random Forest Classifier"
   ]
  },
  {
   "cell_type": "code",
   "execution_count": 39,
   "id": "ab489e6f",
   "metadata": {
    "execution": {
     "iopub.execute_input": "2022-10-06T12:41:07.878877Z",
     "iopub.status.busy": "2022-10-06T12:41:07.878480Z",
     "iopub.status.idle": "2022-10-06T12:41:07.884628Z",
     "shell.execute_reply": "2022-10-06T12:41:07.883479Z"
    },
    "id": "BMtGNGQEgaM5",
    "papermill": {
     "duration": 0.04233,
     "end_time": "2022-10-06T12:41:07.886963",
     "exception": false,
     "start_time": "2022-10-06T12:41:07.844633",
     "status": "completed"
    },
    "tags": []
   },
   "outputs": [],
   "source": [
    "def objective(trial):\n",
    "    rf_max_depth = trial.suggest_int('rf_max_depth', 2, 32)\n",
    "    rf_max_features = trial.suggest_int('rf_max_features', 2, 12)\n",
    "    classifier_obj = RandomForestClassifier(max_features = rf_max_features, max_depth = rf_max_depth)\n",
    "    classifier_obj.fit(x_train, y_train)\n",
    "    accuracy = classifier_obj.score(x_test, y_test)\n",
    "    return accuracy"
   ]
  },
  {
   "cell_type": "code",
   "execution_count": 40,
   "id": "d2302c03",
   "metadata": {
    "execution": {
     "iopub.execute_input": "2022-10-06T12:41:07.954144Z",
     "iopub.status.busy": "2022-10-06T12:41:07.953744Z",
     "iopub.status.idle": "2022-10-06T12:42:39.623172Z",
     "shell.execute_reply": "2022-10-06T12:42:39.622041Z"
    },
    "id": "HMs_LgD4gaM5",
    "papermill": {
     "duration": 91.739361,
     "end_time": "2022-10-06T12:42:39.658736",
     "exception": false,
     "start_time": "2022-10-06T12:41:07.919375",
     "status": "completed"
    },
    "tags": []
   },
   "outputs": [
    {
     "name": "stdout",
     "output_type": "stream",
     "text": [
      "FrozenTrial(number=0, values=[1.0], datetime_start=datetime.datetime(2022, 10, 6, 12, 41, 7, 957166), datetime_complete=datetime.datetime(2022, 10, 6, 12, 41, 10, 831016), params={'rf_max_depth': 27, 'rf_max_features': 4}, distributions={'rf_max_depth': IntDistribution(high=32, log=False, low=2, step=1), 'rf_max_features': IntDistribution(high=12, log=False, low=2, step=1)}, user_attrs={}, system_attrs={}, intermediate_values={}, trial_id=0, state=TrialState.COMPLETE, value=None)\n"
     ]
    }
   ],
   "source": [
    "study_rf = optuna.create_study(direction='maximize')\n",
    "study_rf.optimize(objective, n_trials=30)\n",
    "print(study_rf.best_trial)"
   ]
  },
  {
   "cell_type": "code",
   "execution_count": 41,
   "id": "7ddff9a9",
   "metadata": {
    "execution": {
     "iopub.execute_input": "2022-10-06T12:42:39.732588Z",
     "iopub.status.busy": "2022-10-06T12:42:39.731816Z",
     "iopub.status.idle": "2022-10-06T12:42:42.812708Z",
     "shell.execute_reply": "2022-10-06T12:42:42.811384Z"
    },
    "id": "zgBGWPvegaM6",
    "papermill": {
     "duration": 3.120798,
     "end_time": "2022-10-06T12:42:42.815332",
     "exception": false,
     "start_time": "2022-10-06T12:42:39.694534",
     "status": "completed"
    },
    "tags": []
   },
   "outputs": [
    {
     "name": "stdout",
     "output_type": "stream",
     "text": [
      "Train Score: 1.0\n",
      "Test Score: 1.0\n"
     ]
    }
   ],
   "source": [
    "rf = RandomForestClassifier(max_features = study_rf.best_trial.params['rf_max_features'], max_depth = study_rf.best_trial.params['rf_max_depth'])\n",
    "rf.fit(x_train, y_train)\n",
    "\n",
    "rf_train, rf_test = rf.score(x_train, y_train), rf.score(x_test, y_test)\n",
    "\n",
    "print(f\"Train Score: {rf_train}\")\n",
    "print(f\"Test Score: {rf_test}\")"
   ]
  },
  {
   "cell_type": "markdown",
   "id": "9446753b",
   "metadata": {
    "id": "oGi7cqwVgaM6",
    "papermill": {
     "duration": 0.032095,
     "end_time": "2022-10-06T12:42:42.880140",
     "exception": false,
     "start_time": "2022-10-06T12:42:42.848045",
     "status": "completed"
    },
    "tags": []
   },
   "source": [
    "## XGBoost Gradient Boosting Model"
   ]
  },
  {
   "cell_type": "code",
   "execution_count": 42,
   "id": "bc3c4bd3",
   "metadata": {
    "execution": {
     "iopub.execute_input": "2022-10-06T12:42:42.947072Z",
     "iopub.status.busy": "2022-10-06T12:42:42.946648Z",
     "iopub.status.idle": "2022-10-06T12:42:43.952836Z",
     "shell.execute_reply": "2022-10-06T12:42:43.951796Z"
    },
    "id": "iIRaFkXSgaM7",
    "papermill": {
     "duration": 1.043185,
     "end_time": "2022-10-06T12:42:43.955693",
     "exception": false,
     "start_time": "2022-10-06T12:42:42.912508",
     "status": "completed"
    },
    "tags": []
   },
   "outputs": [
    {
     "data": {
      "text/plain": [
       "XGBClassifier(base_score=0.5, booster='gbtree', callbacks=None,\n",
       "              colsample_bylevel=1, colsample_bynode=1, colsample_bytree=1,\n",
       "              early_stopping_rounds=None, enable_categorical=False,\n",
       "              eval_metric=None, gamma=0, gpu_id=-1, grow_policy='depthwise',\n",
       "              importance_type=None, interaction_constraints='',\n",
       "              learning_rate=0.300000012, max_bin=256, max_cat_to_onehot=4,\n",
       "              max_delta_step=0, max_depth=6, max_leaves=0, min_child_weight=1,\n",
       "              missing=nan, monotone_constraints='()', n_estimators=100,\n",
       "              n_jobs=0, num_parallel_tree=1, predictor='auto', random_state=42,\n",
       "              reg_alpha=0, reg_lambda=1, ...)"
      ]
     },
     "execution_count": 42,
     "metadata": {},
     "output_type": "execute_result"
    }
   ],
   "source": [
    "xgb_model = XGBClassifier(objective=\"binary:logistic\", random_state=42)\n",
    "xgb_model.fit(x_train, y_train)"
   ]
  },
  {
   "cell_type": "code",
   "execution_count": 43,
   "id": "8ce70f3a",
   "metadata": {
    "execution": {
     "iopub.execute_input": "2022-10-06T12:42:44.024048Z",
     "iopub.status.busy": "2022-10-06T12:42:44.023269Z",
     "iopub.status.idle": "2022-10-06T12:42:44.128603Z",
     "shell.execute_reply": "2022-10-06T12:42:44.127239Z"
    },
    "id": "mi0Ls5Y_gaM7",
    "papermill": {
     "duration": 0.141611,
     "end_time": "2022-10-06T12:42:44.131001",
     "exception": false,
     "start_time": "2022-10-06T12:42:43.989390",
     "status": "completed"
    },
    "tags": []
   },
   "outputs": [
    {
     "name": "stdout",
     "output_type": "stream",
     "text": [
      "Training Score: 1.0\n",
      "Test Score: 1.0\n"
     ]
    }
   ],
   "source": [
    "xgb_train, xgb_test = xgb_model.score(x_train , y_train), xgb_model.score(x_test , y_test)\n",
    "\n",
    "print(f\"Training Score: {xgb_train}\")\n",
    "print(f\"Test Score: {xgb_test}\")"
   ]
  },
  {
   "cell_type": "markdown",
   "id": "e2fe22ec",
   "metadata": {
    "id": "ghUaUhBbkujg",
    "papermill": {
     "duration": 0.031988,
     "end_time": "2022-10-06T12:42:44.195374",
     "exception": false,
     "start_time": "2022-10-06T12:42:44.163386",
     "status": "completed"
    },
    "tags": []
   },
   "source": [
    "## Light Gradient Boosting Model"
   ]
  },
  {
   "cell_type": "code",
   "execution_count": 44,
   "id": "af530e49",
   "metadata": {
    "execution": {
     "iopub.execute_input": "2022-10-06T12:42:44.261219Z",
     "iopub.status.busy": "2022-10-06T12:42:44.260853Z",
     "iopub.status.idle": "2022-10-06T12:42:44.626426Z",
     "shell.execute_reply": "2022-10-06T12:42:44.625465Z"
    },
    "id": "kfcPg5BOk-m9",
    "outputId": "9c423abe-e607-4b96-bbfe-eb4c69cc6093",
    "papermill": {
     "duration": 0.401677,
     "end_time": "2022-10-06T12:42:44.628940",
     "exception": false,
     "start_time": "2022-10-06T12:42:44.227263",
     "status": "completed"
    },
    "tags": []
   },
   "outputs": [
    {
     "data": {
      "text/plain": [
       "LGBMClassifier(random_state=42)"
      ]
     },
     "execution_count": 44,
     "metadata": {},
     "output_type": "execute_result"
    }
   ],
   "source": [
    "lgb_model = LGBMClassifier(random_state=42)\n",
    "lgb_model.fit(x_train, y_train)"
   ]
  },
  {
   "cell_type": "code",
   "execution_count": 45,
   "id": "14eb1721",
   "metadata": {
    "execution": {
     "iopub.execute_input": "2022-10-06T12:42:44.699951Z",
     "iopub.status.busy": "2022-10-06T12:42:44.698704Z",
     "iopub.status.idle": "2022-10-06T12:42:44.978132Z",
     "shell.execute_reply": "2022-10-06T12:42:44.977031Z"
    },
    "id": "Y40nISynlIRT",
    "outputId": "46ee6dc6-e597-4a2b-ab92-756d66fd30e1",
    "papermill": {
     "duration": 0.317733,
     "end_time": "2022-10-06T12:42:44.980966",
     "exception": false,
     "start_time": "2022-10-06T12:42:44.663233",
     "status": "completed"
    },
    "tags": []
   },
   "outputs": [
    {
     "name": "stdout",
     "output_type": "stream",
     "text": [
      "Training Score: 1.0\n",
      "Test Score: 1.0\n"
     ]
    }
   ],
   "source": [
    "lgb_train, lgb_test = lgb_model.score(x_train , y_train), lgb_model.score(x_test , y_test)\n",
    "\n",
    "print(f\"Training Score: {lgb_train}\")\n",
    "print(f\"Test Score: {lgb_test}\")"
   ]
  },
  {
   "cell_type": "markdown",
   "id": "a7782c13",
   "metadata": {
    "id": "RkCRpu2Djj-R",
    "papermill": {
     "duration": 0.032607,
     "end_time": "2022-10-06T12:42:45.048404",
     "exception": false,
     "start_time": "2022-10-06T12:42:45.015797",
     "status": "completed"
    },
    "tags": []
   },
   "source": [
    "## SKLearn AdaBoost Model"
   ]
  },
  {
   "cell_type": "code",
   "execution_count": 46,
   "id": "2fd167f0",
   "metadata": {
    "execution": {
     "iopub.execute_input": "2022-10-06T12:42:45.114909Z",
     "iopub.status.busy": "2022-10-06T12:42:45.114301Z",
     "iopub.status.idle": "2022-10-06T12:42:45.118540Z",
     "shell.execute_reply": "2022-10-06T12:42:45.117681Z"
    },
    "id": "DnXWqmDmjnMl",
    "papermill": {
     "duration": 0.04103,
     "end_time": "2022-10-06T12:42:45.121494",
     "exception": false,
     "start_time": "2022-10-06T12:42:45.080464",
     "status": "completed"
    },
    "tags": []
   },
   "outputs": [],
   "source": [
    "ab_model = AdaBoostClassifier(random_state=42)"
   ]
  },
  {
   "cell_type": "code",
   "execution_count": 47,
   "id": "297b8e32",
   "metadata": {
    "execution": {
     "iopub.execute_input": "2022-10-06T12:42:45.188356Z",
     "iopub.status.busy": "2022-10-06T12:42:45.187622Z",
     "iopub.status.idle": "2022-10-06T12:42:46.397394Z",
     "shell.execute_reply": "2022-10-06T12:42:46.396245Z"
    },
    "id": "ksnwKwX9kLId",
    "outputId": "9341174c-403d-444e-bdfa-66d2b54a7402",
    "papermill": {
     "duration": 1.246352,
     "end_time": "2022-10-06T12:42:46.400092",
     "exception": false,
     "start_time": "2022-10-06T12:42:45.153740",
     "status": "completed"
    },
    "tags": []
   },
   "outputs": [
    {
     "data": {
      "text/plain": [
       "AdaBoostClassifier(random_state=42)"
      ]
     },
     "execution_count": 47,
     "metadata": {},
     "output_type": "execute_result"
    }
   ],
   "source": [
    "ab_model.fit(x_train, y_train)"
   ]
  },
  {
   "cell_type": "code",
   "execution_count": 48,
   "id": "50586974",
   "metadata": {
    "execution": {
     "iopub.execute_input": "2022-10-06T12:42:46.468888Z",
     "iopub.status.busy": "2022-10-06T12:42:46.468473Z",
     "iopub.status.idle": "2022-10-06T12:42:47.559144Z",
     "shell.execute_reply": "2022-10-06T12:42:47.557973Z"
    },
    "id": "bGrOgEYjkOOF",
    "outputId": "2dc4b251-0a7b-41c5-b583-909e7627e99e",
    "papermill": {
     "duration": 1.128475,
     "end_time": "2022-10-06T12:42:47.561465",
     "exception": false,
     "start_time": "2022-10-06T12:42:46.432990",
     "status": "completed"
    },
    "tags": []
   },
   "outputs": [
    {
     "name": "stdout",
     "output_type": "stream",
     "text": [
      "Training Score: 1.0\n",
      "Test Score: 1.0\n"
     ]
    }
   ],
   "source": [
    "ab_train, ab_test = ab_model.score(x_train , y_train), ab_model.score(x_test , y_test)\n",
    "\n",
    "print(f\"Training Score: {ab_train}\")\n",
    "print(f\"Test Score: {ab_test}\")"
   ]
  },
  {
   "cell_type": "markdown",
   "id": "742351a1",
   "metadata": {
    "id": "XmfcuMDsmT_4",
    "papermill": {
     "duration": 0.03368,
     "end_time": "2022-10-06T12:42:47.629009",
     "exception": false,
     "start_time": "2022-10-06T12:42:47.595329",
     "status": "completed"
    },
    "tags": []
   },
   "source": [
    "## CatBoost Classifier Model"
   ]
  },
  {
   "cell_type": "code",
   "execution_count": 49,
   "id": "bd031f59",
   "metadata": {
    "execution": {
     "iopub.execute_input": "2022-10-06T12:42:47.697379Z",
     "iopub.status.busy": "2022-10-06T12:42:47.696942Z",
     "iopub.status.idle": "2022-10-06T12:42:47.705366Z",
     "shell.execute_reply": "2022-10-06T12:42:47.704564Z"
    },
    "id": "ij_ABdLNmTou",
    "papermill": {
     "duration": 0.045332,
     "end_time": "2022-10-06T12:42:47.707461",
     "exception": false,
     "start_time": "2022-10-06T12:42:47.662129",
     "status": "completed"
    },
    "tags": []
   },
   "outputs": [],
   "source": [
    "cb_model = CatBoostClassifier(verbose=0)"
   ]
  },
  {
   "cell_type": "code",
   "execution_count": 50,
   "id": "25cf6dac",
   "metadata": {
    "execution": {
     "iopub.execute_input": "2022-10-06T12:42:47.776756Z",
     "iopub.status.busy": "2022-10-06T12:42:47.776339Z",
     "iopub.status.idle": "2022-10-06T12:42:53.608507Z",
     "shell.execute_reply": "2022-10-06T12:42:53.607362Z"
    },
    "id": "FoGAf8dnoGZb",
    "outputId": "33e4cb16-d6bf-470d-913d-483335fb41f1",
    "papermill": {
     "duration": 5.868932,
     "end_time": "2022-10-06T12:42:53.611078",
     "exception": false,
     "start_time": "2022-10-06T12:42:47.742146",
     "status": "completed"
    },
    "tags": []
   },
   "outputs": [
    {
     "data": {
      "text/plain": [
       "<catboost.core.CatBoostClassifier at 0x7f919420cdd0>"
      ]
     },
     "execution_count": 50,
     "metadata": {},
     "output_type": "execute_result"
    }
   ],
   "source": [
    "cb_model.fit(x_train, y_train)"
   ]
  },
  {
   "cell_type": "code",
   "execution_count": 51,
   "id": "6eae35a3",
   "metadata": {
    "execution": {
     "iopub.execute_input": "2022-10-06T12:42:53.679302Z",
     "iopub.status.busy": "2022-10-06T12:42:53.678895Z",
     "iopub.status.idle": "2022-10-06T12:42:53.811606Z",
     "shell.execute_reply": "2022-10-06T12:42:53.810267Z"
    },
    "id": "ln9RUK03oMh8",
    "outputId": "38794fbb-b471-4184-9e99-430795514712",
    "papermill": {
     "duration": 0.16999,
     "end_time": "2022-10-06T12:42:53.814210",
     "exception": false,
     "start_time": "2022-10-06T12:42:53.644220",
     "status": "completed"
    },
    "tags": []
   },
   "outputs": [
    {
     "name": "stdout",
     "output_type": "stream",
     "text": [
      "Training Score: 1.0\n",
      "Test Score: 1.0\n"
     ]
    }
   ],
   "source": [
    "cb_train, cb_test = cb_model.score(x_train , y_train), cb_model.score(x_test , y_test)\n",
    "\n",
    "print(f\"Training Score: {cb_train}\")\n",
    "print(f\"Test Score: {cb_test}\")"
   ]
  },
  {
   "cell_type": "markdown",
   "id": "09562642",
   "metadata": {
    "papermill": {
     "duration": 0.033633,
     "end_time": "2022-10-06T12:42:53.880713",
     "exception": false,
     "start_time": "2022-10-06T12:42:53.847080",
     "status": "completed"
    },
    "tags": []
   },
   "source": [
    "## SVM Model"
   ]
  },
  {
   "cell_type": "code",
   "execution_count": 52,
   "id": "f86723f0",
   "metadata": {
    "execution": {
     "iopub.execute_input": "2022-10-06T12:42:53.950714Z",
     "iopub.status.busy": "2022-10-06T12:42:53.949545Z",
     "iopub.status.idle": "2022-10-06T12:42:53.958481Z",
     "shell.execute_reply": "2022-10-06T12:42:53.957635Z"
    },
    "papermill": {
     "duration": 0.045628,
     "end_time": "2022-10-06T12:42:53.960665",
     "exception": false,
     "start_time": "2022-10-06T12:42:53.915037",
     "status": "completed"
    },
    "tags": []
   },
   "outputs": [],
   "source": [
    "def objective(trial):\n",
    "    kernel = trial.suggest_categorical('kernel', ['linear', 'rbf', 'poly', 'linearSVC'])\n",
    "    c = trial.suggest_float('c', 0.02, 1.0, step=0.02)\n",
    "    if kernel in ['linear', 'rbf']:\n",
    "        classifier_obj = SVC(kernel=kernel, C=c).fit(x_train, y_train)\n",
    "    elif kernel == 'linearSVC':\n",
    "        classifier_obj = LinearSVC(C=c).fit(x_train, y_train)\n",
    "    elif kernel == 'poly':\n",
    "        degree = trial.suggest_int('degree', 2, 10)\n",
    "        classifier_obj = SVC(kernel=kernel, C=c, degree=degree).fit(x_train, y_train)\n",
    "        \n",
    "    accuracy = classifier_obj.score(x_test, y_test)\n",
    "    return accuracy"
   ]
  },
  {
   "cell_type": "code",
   "execution_count": 53,
   "id": "af9af6b7",
   "metadata": {
    "execution": {
     "iopub.execute_input": "2022-10-06T12:42:54.029586Z",
     "iopub.status.busy": "2022-10-06T12:42:54.028614Z",
     "iopub.status.idle": "2022-10-06T13:04:28.765633Z",
     "shell.execute_reply": "2022-10-06T13:04:28.764383Z"
    },
    "papermill": {
     "duration": 1294.807249,
     "end_time": "2022-10-06T13:04:28.801203",
     "exception": false,
     "start_time": "2022-10-06T12:42:53.993954",
     "status": "completed"
    },
    "tags": []
   },
   "outputs": [
    {
     "name": "stdout",
     "output_type": "stream",
     "text": [
      "FrozenTrial(number=25, values=[0.9995392053180239], datetime_start=datetime.datetime(2022, 10, 6, 12, 59, 13, 903831), datetime_complete=datetime.datetime(2022, 10, 6, 12, 59, 25, 507397), params={'kernel': 'poly', 'c': 1.0, 'degree': 3}, distributions={'kernel': CategoricalDistribution(choices=('linear', 'rbf', 'poly', 'linearSVC')), 'c': FloatDistribution(high=1.0, log=False, low=0.02, step=0.02), 'degree': IntDistribution(high=10, log=False, low=2, step=1)}, user_attrs={}, system_attrs={}, intermediate_values={}, trial_id=25, state=TrialState.COMPLETE, value=None)\n"
     ]
    }
   ],
   "source": [
    "study_svm = optuna.create_study(direction='maximize')\n",
    "study_svm.optimize(objective, n_trials=30)\n",
    "print(study_svm.best_trial)"
   ]
  },
  {
   "cell_type": "code",
   "execution_count": 54,
   "id": "dc5621be",
   "metadata": {
    "execution": {
     "iopub.execute_input": "2022-10-06T13:04:28.952436Z",
     "iopub.status.busy": "2022-10-06T13:04:28.951647Z",
     "iopub.status.idle": "2022-10-06T13:04:32.756354Z",
     "shell.execute_reply": "2022-10-06T13:04:32.755228Z"
    },
    "papermill": {
     "duration": 3.841996,
     "end_time": "2022-10-06T13:04:32.758701",
     "exception": false,
     "start_time": "2022-10-06T13:04:28.916705",
     "status": "completed"
    },
    "tags": []
   },
   "outputs": [
    {
     "data": {
      "text/plain": [
       "SVC(kernel='poly')"
      ]
     },
     "execution_count": 54,
     "metadata": {},
     "output_type": "execute_result"
    }
   ],
   "source": [
    "if study_svm.best_trial.params['kernel'] in ['linear', 'rbf']:\n",
    "    SVM_model = SVC(kernel=study_svm.best_trial.params['kernel'], C=study_svm.best_trial.params['c'])\n",
    "elif study_svm.best_trial.params['kernel'] == 'linearSVC':\n",
    "    SVM_model = LinearSVC(C=study_svm.best_trial.params['c'])\n",
    "elif study_svm.best_trial.params['kernel'] == 'poly':\n",
    "    SVM_model = SVC(kernel=study_svm.best_trial.params['kernel'], C=study_svm.best_trial.params['c'], degree=study_svm.best_trial.params['degree'])\n",
    "\n",
    "SVM_model.fit(x_train, y_train)"
   ]
  },
  {
   "cell_type": "code",
   "execution_count": 55,
   "id": "0cf2fd73",
   "metadata": {
    "execution": {
     "iopub.execute_input": "2022-10-06T13:04:32.829759Z",
     "iopub.status.busy": "2022-10-06T13:04:32.829344Z",
     "iopub.status.idle": "2022-10-06T13:04:42.401546Z",
     "shell.execute_reply": "2022-10-06T13:04:42.400227Z"
    },
    "papermill": {
     "duration": 9.610975,
     "end_time": "2022-10-06T13:04:42.404096",
     "exception": false,
     "start_time": "2022-10-06T13:04:32.793121",
     "status": "completed"
    },
    "tags": []
   },
   "outputs": [
    {
     "name": "stdout",
     "output_type": "stream",
     "text": [
      "Training Score: 0.9997280473801897\n",
      "Test Score: 0.9995392053180239\n"
     ]
    }
   ],
   "source": [
    "SVM_train, SVM_test = SVM_model.score(x_train , y_train), SVM_model.score(x_test , y_test)\n",
    "\n",
    "print(f\"Training Score: {SVM_train}\")\n",
    "print(f\"Test Score: {SVM_test}\")"
   ]
  },
  {
   "cell_type": "markdown",
   "id": "84ad1daa",
   "metadata": {
    "papermill": {
     "duration": 0.033325,
     "end_time": "2022-10-06T13:04:42.471971",
     "exception": false,
     "start_time": "2022-10-06T13:04:42.438646",
     "status": "completed"
    },
    "tags": []
   },
   "source": [
    "# Summary - Classification on 'price 2' "
   ]
  },
  {
   "cell_type": "code",
   "execution_count": 56,
   "id": "6eb582c8",
   "metadata": {
    "execution": {
     "iopub.execute_input": "2022-10-06T13:04:42.541686Z",
     "iopub.status.busy": "2022-10-06T13:04:42.541268Z",
     "iopub.status.idle": "2022-10-06T13:04:42.550347Z",
     "shell.execute_reply": "2022-10-06T13:04:42.549190Z"
    },
    "papermill": {
     "duration": 0.046737,
     "end_time": "2022-10-06T13:04:42.552649",
     "exception": false,
     "start_time": "2022-10-06T13:04:42.505912",
     "status": "completed"
    },
    "tags": []
   },
   "outputs": [
    {
     "name": "stdout",
     "output_type": "stream",
     "text": [
      "╒═════════════════════╤═══════════════╤══════════════╕\n",
      "│ Model               │   Train Score │   Test Score │\n",
      "╞═════════════════════╪═══════════════╪══════════════╡\n",
      "│ KNN                 │      0.996223 │     0.99271  │\n",
      "├─────────────────────┼───────────────┼──────────────┤\n",
      "│ Logistic Regression │      0.989605 │     0.98913  │\n",
      "├─────────────────────┼───────────────┼──────────────┤\n",
      "│ Random Forest       │      1        │     1        │\n",
      "├─────────────────────┼───────────────┼──────────────┤\n",
      "│ XGBM                │      1        │     1        │\n",
      "├─────────────────────┼───────────────┼──────────────┤\n",
      "│ Adaboost            │      1        │     1        │\n",
      "├─────────────────────┼───────────────┼──────────────┤\n",
      "│ light GBM           │      1        │     1        │\n",
      "├─────────────────────┼───────────────┼──────────────┤\n",
      "│ CatBoost            │      1        │     1        │\n",
      "├─────────────────────┼───────────────┼──────────────┤\n",
      "│ SVM                 │      0.999728 │     0.999539 │\n",
      "╘═════════════════════╧═══════════════╧══════════════╛\n"
     ]
    }
   ],
   "source": [
    "data = [[\"KNN\", KNN_train, KNN_test], \n",
    "        [\"Logistic Regression\", lg_train, lg_test],\n",
    "        [\"Random Forest\", rf_train, rf_test], \n",
    "        [\"XGBM\", xgb_train, xgb_test], \n",
    "        [\"Adaboost\", ab_train, ab_test], \n",
    "        [\"light GBM\", lgb_train, lgb_test],\n",
    "        [\"CatBoost\", cb_train, cb_test], \n",
    "        [\"SVM\", SVM_train, SVM_test]]\n",
    "\n",
    "col_names = [\"Model\", \"Train Score\", \"Test Score\"]\n",
    "print(tabulate(data, headers=col_names, tablefmt=\"fancy_grid\"))"
   ]
  },
  {
   "cell_type": "markdown",
   "id": "32a8ded1",
   "metadata": {
    "papermill": {
     "duration": 0.035716,
     "end_time": "2022-10-06T13:04:42.623120",
     "exception": false,
     "start_time": "2022-10-06T13:04:42.587404",
     "status": "completed"
    },
    "tags": []
   },
   "source": [
    "**Conclusion**: for this problem, all models yielded great results"
   ]
  },
  {
   "cell_type": "markdown",
   "id": "6c7cd5e1",
   "metadata": {
    "papermill": {
     "duration": 0.035676,
     "end_time": "2022-10-06T13:04:42.694781",
     "exception": false,
     "start_time": "2022-10-06T13:04:42.659105",
     "status": "completed"
    },
    "tags": []
   },
   "source": [
    "# Model Selection - Regression on 'price'"
   ]
  },
  {
   "cell_type": "markdown",
   "id": "a83ca4dd",
   "metadata": {
    "papermill": {
     "duration": 0.035267,
     "end_time": "2022-10-06T13:04:42.766034",
     "exception": false,
     "start_time": "2022-10-06T13:04:42.730767",
     "status": "completed"
    },
    "tags": []
   },
   "source": [
    "## Splitting"
   ]
  },
  {
   "cell_type": "code",
   "execution_count": 57,
   "id": "a0471d13",
   "metadata": {
    "execution": {
     "iopub.execute_input": "2022-10-06T13:04:42.839183Z",
     "iopub.status.busy": "2022-10-06T13:04:42.838439Z",
     "iopub.status.idle": "2022-10-06T13:04:42.874657Z",
     "shell.execute_reply": "2022-10-06T13:04:42.873594Z"
    },
    "papermill": {
     "duration": 0.076003,
     "end_time": "2022-10-06T13:04:42.877437",
     "exception": false,
     "start_time": "2022-10-06T13:04:42.801434",
     "status": "completed"
    },
    "tags": []
   },
   "outputs": [],
   "source": [
    "x = df.drop(columns=['price'])\n",
    "y = df.price\n",
    "\n",
    "x_train, x_test, y_train, y_test = train_test_split(x, y, test_size=0.2, random_state=42)"
   ]
  },
  {
   "cell_type": "code",
   "execution_count": 58,
   "id": "e3bf4061",
   "metadata": {
    "execution": {
     "iopub.execute_input": "2022-10-06T13:04:42.951551Z",
     "iopub.status.busy": "2022-10-06T13:04:42.950584Z",
     "iopub.status.idle": "2022-10-06T13:04:42.980832Z",
     "shell.execute_reply": "2022-10-06T13:04:42.979614Z"
    },
    "papermill": {
     "duration": 0.070268,
     "end_time": "2022-10-06T13:04:42.983434",
     "exception": false,
     "start_time": "2022-10-06T13:04:42.913166",
     "status": "completed"
    },
    "tags": []
   },
   "outputs": [],
   "source": [
    "scaler = StandardScaler()\n",
    "x_train = scaler.fit_transform(x_train)\n",
    "x_test = scaler.transform(x_test)"
   ]
  },
  {
   "cell_type": "markdown",
   "id": "472540c3",
   "metadata": {
    "papermill": {
     "duration": 0.035483,
     "end_time": "2022-10-06T13:04:43.054901",
     "exception": false,
     "start_time": "2022-10-06T13:04:43.019418",
     "status": "completed"
    },
    "tags": []
   },
   "source": [
    "## Linear Regression"
   ]
  },
  {
   "cell_type": "code",
   "execution_count": 59,
   "id": "a6ad2e2f",
   "metadata": {
    "execution": {
     "iopub.execute_input": "2022-10-06T13:04:43.128164Z",
     "iopub.status.busy": "2022-10-06T13:04:43.127468Z",
     "iopub.status.idle": "2022-10-06T13:04:43.179762Z",
     "shell.execute_reply": "2022-10-06T13:04:43.178171Z"
    },
    "papermill": {
     "duration": 0.091988,
     "end_time": "2022-10-06T13:04:43.182266",
     "exception": false,
     "start_time": "2022-10-06T13:04:43.090278",
     "status": "completed"
    },
    "tags": []
   },
   "outputs": [
    {
     "data": {
      "text/plain": [
       "LinearRegression()"
      ]
     },
     "execution_count": 59,
     "metadata": {},
     "output_type": "execute_result"
    }
   ],
   "source": [
    "lr_model = LinearRegression()\n",
    "lr_model.fit(x_train, y_train)"
   ]
  },
  {
   "cell_type": "code",
   "execution_count": 60,
   "id": "d543885c",
   "metadata": {
    "execution": {
     "iopub.execute_input": "2022-10-06T13:04:43.319855Z",
     "iopub.status.busy": "2022-10-06T13:04:43.319142Z",
     "iopub.status.idle": "2022-10-06T13:04:43.335653Z",
     "shell.execute_reply": "2022-10-06T13:04:43.333799Z"
    },
    "papermill": {
     "duration": 0.058634,
     "end_time": "2022-10-06T13:04:43.339716",
     "exception": false,
     "start_time": "2022-10-06T13:04:43.281082",
     "status": "completed"
    },
    "tags": []
   },
   "outputs": [
    {
     "name": "stdout",
     "output_type": "stream",
     "text": [
      "Training Score: 0.7736351990480395\n",
      "Test Score: 0.7764506317157037\n"
     ]
    }
   ],
   "source": [
    "lr_train, lr_test = lr_model.score(x_train , y_train), lr_model.score(x_test , y_test)\n",
    "\n",
    "print(f\"Training Score: {lr_train}\")\n",
    "print(f\"Test Score: {lr_test}\")"
   ]
  },
  {
   "cell_type": "markdown",
   "id": "76069750",
   "metadata": {
    "id": "ky9U56wagaM3",
    "papermill": {
     "duration": 0.047872,
     "end_time": "2022-10-06T13:04:43.478841",
     "exception": false,
     "start_time": "2022-10-06T13:04:43.430969",
     "status": "completed"
    },
    "tags": []
   },
   "source": [
    "## K Nearest Neighbors (KNN) Regressor"
   ]
  },
  {
   "cell_type": "code",
   "execution_count": 61,
   "id": "cd10ec9e",
   "metadata": {
    "execution": {
     "iopub.execute_input": "2022-10-06T13:04:43.551692Z",
     "iopub.status.busy": "2022-10-06T13:04:43.551303Z",
     "iopub.status.idle": "2022-10-06T13:04:43.557552Z",
     "shell.execute_reply": "2022-10-06T13:04:43.556516Z"
    },
    "id": "h-AVjDgqgaM3",
    "papermill": {
     "duration": 0.044946,
     "end_time": "2022-10-06T13:04:43.559593",
     "exception": false,
     "start_time": "2022-10-06T13:04:43.514647",
     "status": "completed"
    },
    "tags": []
   },
   "outputs": [],
   "source": [
    "def objective(trial):\n",
    "    n_neighbors = trial.suggest_int('KNN_n_neighbors', 2, 16, step=2)\n",
    "    classifier_obj = KNeighborsRegressor(n_neighbors=n_neighbors)\n",
    "    classifier_obj.fit(x_train, y_train)\n",
    "    accuracy = classifier_obj.score(x_test, y_test)\n",
    "    return accuracy"
   ]
  },
  {
   "cell_type": "code",
   "execution_count": 62,
   "id": "0424333b",
   "metadata": {
    "execution": {
     "iopub.execute_input": "2022-10-06T13:04:43.632906Z",
     "iopub.status.busy": "2022-10-06T13:04:43.631884Z",
     "iopub.status.idle": "2022-10-06T13:07:50.038940Z",
     "shell.execute_reply": "2022-10-06T13:07:50.037814Z"
    },
    "id": "6aYzhDhPgaM3",
    "papermill": {
     "duration": 186.481959,
     "end_time": "2022-10-06T13:07:50.077299",
     "exception": false,
     "start_time": "2022-10-06T13:04:43.595340",
     "status": "completed"
    },
    "tags": []
   },
   "outputs": [
    {
     "name": "stdout",
     "output_type": "stream",
     "text": [
      "FrozenTrial(number=9, values=[0.9691819335320631], datetime_start=datetime.datetime(2022, 10, 6, 13, 5, 57, 752438), datetime_complete=datetime.datetime(2022, 10, 6, 13, 6, 3, 274415), params={'KNN_n_neighbors': 6}, distributions={'KNN_n_neighbors': IntDistribution(high=16, log=False, low=2, step=2)}, user_attrs={}, system_attrs={}, intermediate_values={}, trial_id=9, state=TrialState.COMPLETE, value=None)\n"
     ]
    }
   ],
   "source": [
    "study_KNN = optuna.create_study(direction='maximize')\n",
    "study_KNN.optimize(objective, n_trials=30)\n",
    "print(study_KNN.best_trial)"
   ]
  },
  {
   "cell_type": "code",
   "execution_count": 63,
   "id": "8540687d",
   "metadata": {
    "execution": {
     "iopub.execute_input": "2022-10-06T13:07:50.150182Z",
     "iopub.status.busy": "2022-10-06T13:07:50.149810Z",
     "iopub.status.idle": "2022-10-06T13:08:13.288385Z",
     "shell.execute_reply": "2022-10-06T13:08:13.287173Z"
    },
    "id": "urIn1Y_4gaM4",
    "papermill": {
     "duration": 23.178361,
     "end_time": "2022-10-06T13:08:13.291106",
     "exception": false,
     "start_time": "2022-10-06T13:07:50.112745",
     "status": "completed"
    },
    "tags": []
   },
   "outputs": [
    {
     "name": "stdout",
     "output_type": "stream",
     "text": [
      "Train Score: 0.9793132844225859\n",
      "Test Score: 0.9691819335320631\n"
     ]
    }
   ],
   "source": [
    "KNR_model = KNeighborsRegressor(n_neighbors=study_KNN.best_trial.params['KNN_n_neighbors'])\n",
    "KNR_model.fit(x_train, y_train)\n",
    "\n",
    "KNR_train, KNR_test = KNR_model.score(x_train, y_train), KNR_model.score(x_test, y_test)\n",
    "\n",
    "print(f\"Train Score: {KNR_train}\")\n",
    "print(f\"Test Score: {KNR_test}\")"
   ]
  },
  {
   "cell_type": "markdown",
   "id": "b0f4ccd9",
   "metadata": {
    "id": "LQuE5mKtgaM5",
    "papermill": {
     "duration": 0.034853,
     "end_time": "2022-10-06T13:08:13.361758",
     "exception": false,
     "start_time": "2022-10-06T13:08:13.326905",
     "status": "completed"
    },
    "tags": []
   },
   "source": [
    "## Random Forest Regressor"
   ]
  },
  {
   "cell_type": "code",
   "execution_count": 64,
   "id": "b38f2765",
   "metadata": {
    "execution": {
     "iopub.execute_input": "2022-10-06T13:08:13.435087Z",
     "iopub.status.busy": "2022-10-06T13:08:13.434439Z",
     "iopub.status.idle": "2022-10-06T13:08:13.440691Z",
     "shell.execute_reply": "2022-10-06T13:08:13.439881Z"
    },
    "id": "BMtGNGQEgaM5",
    "papermill": {
     "duration": 0.045579,
     "end_time": "2022-10-06T13:08:13.442784",
     "exception": false,
     "start_time": "2022-10-06T13:08:13.397205",
     "status": "completed"
    },
    "tags": []
   },
   "outputs": [],
   "source": [
    "def objective(trial):\n",
    "    rf_max_depth = trial.suggest_int('rf_max_depth', 2, 32, log=False)\n",
    "    rf_max_features = trial.suggest_int('rf_max_features', 2, 12, log=False)\n",
    "    classifier_obj = RandomForestRegressor(max_features = rf_max_features, max_depth = rf_max_depth)\n",
    "    classifier_obj.fit(x_train, y_train)\n",
    "    accuracy = classifier_obj.score(x_test, y_test)\n",
    "    return accuracy"
   ]
  },
  {
   "cell_type": "code",
   "execution_count": 65,
   "id": "ad26ecff",
   "metadata": {
    "execution": {
     "iopub.execute_input": "2022-10-06T13:08:13.517049Z",
     "iopub.status.busy": "2022-10-06T13:08:13.516335Z",
     "iopub.status.idle": "2022-10-06T13:14:25.004305Z",
     "shell.execute_reply": "2022-10-06T13:14:25.003074Z"
    },
    "id": "HMs_LgD4gaM5",
    "papermill": {
     "duration": 371.564903,
     "end_time": "2022-10-06T13:14:25.043277",
     "exception": false,
     "start_time": "2022-10-06T13:08:13.478374",
     "status": "completed"
    },
    "tags": []
   },
   "outputs": [
    {
     "name": "stdout",
     "output_type": "stream",
     "text": [
      "FrozenTrial(number=12, values=[0.9999989904364716], datetime_start=datetime.datetime(2022, 10, 6, 13, 10, 24, 162188), datetime_complete=datetime.datetime(2022, 10, 6, 13, 10, 39, 868062), params={'rf_max_depth': 18, 'rf_max_features': 12}, distributions={'rf_max_depth': IntDistribution(high=32, log=False, low=2, step=1), 'rf_max_features': IntDistribution(high=12, log=False, low=2, step=1)}, user_attrs={}, system_attrs={}, intermediate_values={}, trial_id=12, state=TrialState.COMPLETE, value=None)\n"
     ]
    }
   ],
   "source": [
    "study_rfr = optuna.create_study(direction='maximize')\n",
    "study_rfr.optimize(objective, n_trials=30)\n",
    "print(study_rfr.best_trial)"
   ]
  },
  {
   "cell_type": "code",
   "execution_count": 66,
   "id": "c9aa8438",
   "metadata": {
    "execution": {
     "iopub.execute_input": "2022-10-06T13:14:25.116558Z",
     "iopub.status.busy": "2022-10-06T13:14:25.116122Z",
     "iopub.status.idle": "2022-10-06T13:14:41.579601Z",
     "shell.execute_reply": "2022-10-06T13:14:41.578480Z"
    },
    "id": "zgBGWPvegaM6",
    "papermill": {
     "duration": 16.502973,
     "end_time": "2022-10-06T13:14:41.581933",
     "exception": false,
     "start_time": "2022-10-06T13:14:25.078960",
     "status": "completed"
    },
    "tags": []
   },
   "outputs": [
    {
     "name": "stdout",
     "output_type": "stream",
     "text": [
      "Train Score: 0.9999996598833932\n",
      "Test Score: 0.9999989904364716\n"
     ]
    }
   ],
   "source": [
    "rfr = RandomForestRegressor(max_features = study_rfr.best_trial.params['rf_max_features'], max_depth = study_rfr.best_trial.params['rf_max_depth'])\n",
    "\n",
    "rfr.fit(x_train, y_train)\n",
    "rfr_train, rfr_test = rfr.score(x_train, y_train), rfr.score(x_test, y_test)\n",
    "\n",
    "print(f\"Train Score: {rfr_train}\")\n",
    "print(f\"Test Score: {rfr_test}\")"
   ]
  },
  {
   "cell_type": "markdown",
   "id": "79f7cc2b",
   "metadata": {
    "id": "oGi7cqwVgaM6",
    "papermill": {
     "duration": 0.035703,
     "end_time": "2022-10-06T13:14:41.653941",
     "exception": false,
     "start_time": "2022-10-06T13:14:41.618238",
     "status": "completed"
    },
    "tags": []
   },
   "source": [
    "## XGBoost Gradient Boosting Regressor"
   ]
  },
  {
   "cell_type": "code",
   "execution_count": 67,
   "id": "4bc149fe",
   "metadata": {
    "execution": {
     "iopub.execute_input": "2022-10-06T13:14:41.729175Z",
     "iopub.status.busy": "2022-10-06T13:14:41.728014Z",
     "iopub.status.idle": "2022-10-06T13:14:47.208306Z",
     "shell.execute_reply": "2022-10-06T13:14:47.207454Z"
    },
    "id": "iIRaFkXSgaM7",
    "papermill": {
     "duration": 5.521346,
     "end_time": "2022-10-06T13:14:47.210943",
     "exception": false,
     "start_time": "2022-10-06T13:14:41.689597",
     "status": "completed"
    },
    "tags": []
   },
   "outputs": [
    {
     "data": {
      "text/plain": [
       "XGBRegressor(base_score=0.5, booster='gbtree', callbacks=None,\n",
       "             colsample_bylevel=1, colsample_bynode=1, colsample_bytree=1,\n",
       "             early_stopping_rounds=None, enable_categorical=False,\n",
       "             eval_metric=None, gamma=0, gpu_id=-1, grow_policy='depthwise',\n",
       "             importance_type=None, interaction_constraints='',\n",
       "             learning_rate=0.300000012, max_bin=256, max_cat_to_onehot=4,\n",
       "             max_delta_step=0, max_depth=6, max_leaves=0, min_child_weight=1,\n",
       "             missing=nan, monotone_constraints='()', n_estimators=100, n_jobs=0,\n",
       "             num_parallel_tree=1, predictor='auto', random_state=0, reg_alpha=0,\n",
       "             reg_lambda=1, ...)"
      ]
     },
     "execution_count": 67,
     "metadata": {},
     "output_type": "execute_result"
    }
   ],
   "source": [
    "xgbr_model = XGBRegressor()\n",
    "xgbr_model.fit(x_train, y_train)"
   ]
  },
  {
   "cell_type": "code",
   "execution_count": 68,
   "id": "33fc5e00",
   "metadata": {
    "execution": {
     "iopub.execute_input": "2022-10-06T13:14:47.286923Z",
     "iopub.status.busy": "2022-10-06T13:14:47.285745Z",
     "iopub.status.idle": "2022-10-06T13:14:47.471755Z",
     "shell.execute_reply": "2022-10-06T13:14:47.470828Z"
    },
    "id": "mi0Ls5Y_gaM7",
    "papermill": {
     "duration": 0.226846,
     "end_time": "2022-10-06T13:14:47.474523",
     "exception": false,
     "start_time": "2022-10-06T13:14:47.247677",
     "status": "completed"
    },
    "tags": []
   },
   "outputs": [
    {
     "name": "stdout",
     "output_type": "stream",
     "text": [
      "Training Score: 0.9999996582890976\n",
      "Test Score: 0.9999996657009846\n"
     ]
    }
   ],
   "source": [
    "xgbr_train, xgbr_test = xgbr_model.score(x_train , y_train), xgbr_model.score(x_test , y_test)\n",
    "\n",
    "print(f\"Training Score: {xgbr_train}\")\n",
    "print(f\"Test Score: {xgbr_test}\")"
   ]
  },
  {
   "cell_type": "markdown",
   "id": "7c4b876a",
   "metadata": {
    "id": "ghUaUhBbkujg",
    "papermill": {
     "duration": 0.035261,
     "end_time": "2022-10-06T13:14:47.547664",
     "exception": false,
     "start_time": "2022-10-06T13:14:47.512403",
     "status": "completed"
    },
    "tags": []
   },
   "source": [
    "## Light Gradient Boosting Model"
   ]
  },
  {
   "cell_type": "code",
   "execution_count": 69,
   "id": "3f892942",
   "metadata": {
    "execution": {
     "iopub.execute_input": "2022-10-06T13:14:47.620620Z",
     "iopub.status.busy": "2022-10-06T13:14:47.620227Z",
     "iopub.status.idle": "2022-10-06T13:14:48.483782Z",
     "shell.execute_reply": "2022-10-06T13:14:48.482770Z"
    },
    "id": "kfcPg5BOk-m9",
    "outputId": "9c423abe-e607-4b96-bbfe-eb4c69cc6093",
    "papermill": {
     "duration": 0.903068,
     "end_time": "2022-10-06T13:14:48.486597",
     "exception": false,
     "start_time": "2022-10-06T13:14:47.583529",
     "status": "completed"
    },
    "tags": []
   },
   "outputs": [
    {
     "data": {
      "text/plain": [
       "LGBMRegressor()"
      ]
     },
     "execution_count": 69,
     "metadata": {},
     "output_type": "execute_result"
    }
   ],
   "source": [
    "lgbr_model = LGBMRegressor()\n",
    "lgbr_model.fit(x_train, y_train)"
   ]
  },
  {
   "cell_type": "code",
   "execution_count": 70,
   "id": "7f6c738d",
   "metadata": {
    "execution": {
     "iopub.execute_input": "2022-10-06T13:14:48.561776Z",
     "iopub.status.busy": "2022-10-06T13:14:48.561110Z",
     "iopub.status.idle": "2022-10-06T13:14:48.950986Z",
     "shell.execute_reply": "2022-10-06T13:14:48.950003Z"
    },
    "id": "Y40nISynlIRT",
    "outputId": "46ee6dc6-e597-4a2b-ab92-756d66fd30e1",
    "papermill": {
     "duration": 0.429818,
     "end_time": "2022-10-06T13:14:48.953889",
     "exception": false,
     "start_time": "2022-10-06T13:14:48.524071",
     "status": "completed"
    },
    "tags": []
   },
   "outputs": [
    {
     "name": "stdout",
     "output_type": "stream",
     "text": [
      "Training Score: 0.9997065682071354\n",
      "Test Score: 0.9997175790970568\n"
     ]
    }
   ],
   "source": [
    "lgbr_train, lgbr_test = lgbr_model.score(x_train , y_train), lgbr_model.score(x_test , y_test)\n",
    "\n",
    "print(f\"Training Score: {lgbr_train}\")\n",
    "print(f\"Test Score: {lgbr_test}\")"
   ]
  },
  {
   "cell_type": "markdown",
   "id": "16f1400f",
   "metadata": {
    "id": "RkCRpu2Djj-R",
    "papermill": {
     "duration": 0.036223,
     "end_time": "2022-10-06T13:14:49.028665",
     "exception": false,
     "start_time": "2022-10-06T13:14:48.992442",
     "status": "completed"
    },
    "tags": []
   },
   "source": [
    "## SKLearn AdaBoost Model"
   ]
  },
  {
   "cell_type": "code",
   "execution_count": 71,
   "id": "79ddc36d",
   "metadata": {
    "execution": {
     "iopub.execute_input": "2022-10-06T13:14:49.104367Z",
     "iopub.status.busy": "2022-10-06T13:14:49.103930Z",
     "iopub.status.idle": "2022-10-06T13:14:55.826315Z",
     "shell.execute_reply": "2022-10-06T13:14:55.825146Z"
    },
    "id": "DnXWqmDmjnMl",
    "papermill": {
     "duration": 6.763095,
     "end_time": "2022-10-06T13:14:55.828712",
     "exception": false,
     "start_time": "2022-10-06T13:14:49.065617",
     "status": "completed"
    },
    "tags": []
   },
   "outputs": [
    {
     "data": {
      "text/plain": [
       "AdaBoostRegressor()"
      ]
     },
     "execution_count": 71,
     "metadata": {},
     "output_type": "execute_result"
    }
   ],
   "source": [
    "abr_model = AdaBoostRegressor()\n",
    "abr_model.fit(x_train, y_train)"
   ]
  },
  {
   "cell_type": "code",
   "execution_count": 72,
   "id": "cb69ec2e",
   "metadata": {
    "execution": {
     "iopub.execute_input": "2022-10-06T13:14:55.905449Z",
     "iopub.status.busy": "2022-10-06T13:14:55.905000Z",
     "iopub.status.idle": "2022-10-06T13:14:56.637914Z",
     "shell.execute_reply": "2022-10-06T13:14:56.636474Z"
    },
    "id": "bGrOgEYjkOOF",
    "outputId": "2dc4b251-0a7b-41c5-b583-909e7627e99e",
    "papermill": {
     "duration": 0.774335,
     "end_time": "2022-10-06T13:14:56.640430",
     "exception": false,
     "start_time": "2022-10-06T13:14:55.866095",
     "status": "completed"
    },
    "tags": []
   },
   "outputs": [
    {
     "name": "stdout",
     "output_type": "stream",
     "text": [
      "Training Score: 0.8852492219082346\n",
      "Test Score: 0.8854136433039486\n"
     ]
    }
   ],
   "source": [
    "abr_train, abr_test = abr_model.score(x_train , y_train), abr_model.score(x_test , y_test)\n",
    "\n",
    "print(f\"Training Score: {abr_train}\")\n",
    "print(f\"Test Score: {abr_test}\")"
   ]
  },
  {
   "cell_type": "markdown",
   "id": "fd2717f7",
   "metadata": {
    "id": "XmfcuMDsmT_4",
    "papermill": {
     "duration": 0.03513,
     "end_time": "2022-10-06T13:14:56.711633",
     "exception": false,
     "start_time": "2022-10-06T13:14:56.676503",
     "status": "completed"
    },
    "tags": []
   },
   "source": [
    "## CatBoost Classifier Model"
   ]
  },
  {
   "cell_type": "code",
   "execution_count": 73,
   "id": "e6500345",
   "metadata": {
    "execution": {
     "iopub.execute_input": "2022-10-06T13:14:56.784684Z",
     "iopub.status.busy": "2022-10-06T13:14:56.784248Z",
     "iopub.status.idle": "2022-10-06T13:15:10.746474Z",
     "shell.execute_reply": "2022-10-06T13:15:10.745331Z"
    },
    "id": "ij_ABdLNmTou",
    "papermill": {
     "duration": 14.001861,
     "end_time": "2022-10-06T13:15:10.749209",
     "exception": false,
     "start_time": "2022-10-06T13:14:56.747348",
     "status": "completed"
    },
    "tags": []
   },
   "outputs": [
    {
     "data": {
      "text/plain": [
       "<catboost.core.CatBoostRegressor at 0x7f9194075450>"
      ]
     },
     "execution_count": 73,
     "metadata": {},
     "output_type": "execute_result"
    }
   ],
   "source": [
    "cbr_model = CatBoostRegressor(verbose=0)\n",
    "cbr_model.fit(x_train, y_train)"
   ]
  },
  {
   "cell_type": "code",
   "execution_count": 74,
   "id": "c90c35ba",
   "metadata": {
    "execution": {
     "iopub.execute_input": "2022-10-06T13:15:10.825474Z",
     "iopub.status.busy": "2022-10-06T13:15:10.824913Z",
     "iopub.status.idle": "2022-10-06T13:15:10.937878Z",
     "shell.execute_reply": "2022-10-06T13:15:10.936971Z"
    },
    "id": "ln9RUK03oMh8",
    "outputId": "38794fbb-b471-4184-9e99-430795514712",
    "papermill": {
     "duration": 0.154228,
     "end_time": "2022-10-06T13:15:10.940019",
     "exception": false,
     "start_time": "2022-10-06T13:15:10.785791",
     "status": "completed"
    },
    "tags": []
   },
   "outputs": [
    {
     "name": "stdout",
     "output_type": "stream",
     "text": [
      "Training Score: 0.9999982316018718\n",
      "Test Score: 0.9999979619529021\n"
     ]
    }
   ],
   "source": [
    "cbr_train, cbr_test = cbr_model.score(x_train , y_train), cbr_model.score(x_test , y_test)\n",
    "\n",
    "print(f\"Training Score: {cbr_train}\")\n",
    "print(f\"Test Score: {cbr_test}\")"
   ]
  },
  {
   "cell_type": "markdown",
   "id": "de9456d4",
   "metadata": {
    "papermill": {
     "duration": 0.036143,
     "end_time": "2022-10-06T13:15:11.012691",
     "exception": false,
     "start_time": "2022-10-06T13:15:10.976548",
     "status": "completed"
    },
    "tags": []
   },
   "source": [
    "## SVR Model"
   ]
  },
  {
   "cell_type": "code",
   "execution_count": 75,
   "id": "a770ee23",
   "metadata": {
    "execution": {
     "iopub.execute_input": "2022-10-06T13:15:11.089546Z",
     "iopub.status.busy": "2022-10-06T13:15:11.088635Z",
     "iopub.status.idle": "2022-10-06T14:10:53.711089Z",
     "shell.execute_reply": "2022-10-06T14:10:53.709777Z"
    },
    "papermill": {
     "duration": 3342.704793,
     "end_time": "2022-10-06T14:10:53.754207",
     "exception": false,
     "start_time": "2022-10-06T13:15:11.049414",
     "status": "completed"
    },
    "tags": []
   },
   "outputs": [
    {
     "data": {
      "text/plain": [
       "SVR()"
      ]
     },
     "execution_count": 75,
     "metadata": {},
     "output_type": "execute_result"
    }
   ],
   "source": [
    "SVR_model = SVR(kernel='rbf')\n",
    "\n",
    "SVR_model.fit(x_train, y_train)"
   ]
  },
  {
   "cell_type": "code",
   "execution_count": 76,
   "id": "86097681",
   "metadata": {
    "execution": {
     "iopub.execute_input": "2022-10-06T14:10:53.834086Z",
     "iopub.status.busy": "2022-10-06T14:10:53.833211Z",
     "iopub.status.idle": "2022-10-06T14:26:50.504587Z",
     "shell.execute_reply": "2022-10-06T14:26:50.503259Z"
    },
    "papermill": {
     "duration": 956.753657,
     "end_time": "2022-10-06T14:26:50.547576",
     "exception": false,
     "start_time": "2022-10-06T14:10:53.793919",
     "status": "completed"
    },
    "tags": []
   },
   "outputs": [
    {
     "name": "stdout",
     "output_type": "stream",
     "text": [
      "Training Score: 0.9326950603482219\n",
      "Test Score: 0.9306723872249485\n"
     ]
    }
   ],
   "source": [
    "SVR_train, SVR_test = SVR_model.score(x_train , y_train), SVR_model.score(x_test , y_test)\n",
    "\n",
    "print(f\"Training Score: {SVR_train}\")\n",
    "print(f\"Test Score: {SVR_test}\")"
   ]
  },
  {
   "cell_type": "markdown",
   "id": "a961f769",
   "metadata": {
    "papermill": {
     "duration": 0.038137,
     "end_time": "2022-10-06T14:26:50.622967",
     "exception": false,
     "start_time": "2022-10-06T14:26:50.584830",
     "status": "completed"
    },
    "tags": []
   },
   "source": [
    "# Summary - Regression on 'price 2' "
   ]
  },
  {
   "cell_type": "code",
   "execution_count": 77,
   "id": "3b893029",
   "metadata": {
    "execution": {
     "iopub.execute_input": "2022-10-06T14:26:50.699534Z",
     "iopub.status.busy": "2022-10-06T14:26:50.698773Z",
     "iopub.status.idle": "2022-10-06T14:26:50.708563Z",
     "shell.execute_reply": "2022-10-06T14:26:50.707302Z"
    },
    "papermill": {
     "duration": 0.050456,
     "end_time": "2022-10-06T14:26:50.710958",
     "exception": false,
     "start_time": "2022-10-06T14:26:50.660502",
     "status": "completed"
    },
    "tags": []
   },
   "outputs": [
    {
     "name": "stdout",
     "output_type": "stream",
     "text": [
      "╒═════════════════════════╤═══════════════╤══════════════╕\n",
      "│ Model                   │   Train Score │   Test Score │\n",
      "╞═════════════════════════╪═══════════════╪══════════════╡\n",
      "│ KNN Regressor           │      0.979313 │     0.969182 │\n",
      "├─────────────────────────┼───────────────┼──────────────┤\n",
      "│ Logistic Regression     │      0.773635 │     0.776451 │\n",
      "├─────────────────────────┼───────────────┼──────────────┤\n",
      "│ Random Forest Regressor │      1        │     0.999999 │\n",
      "├─────────────────────────┼───────────────┼──────────────┤\n",
      "│ XGBM                    │      1        │     1        │\n",
      "├─────────────────────────┼───────────────┼──────────────┤\n",
      "│ Adaboost                │      0.885249 │     0.885414 │\n",
      "├─────────────────────────┼───────────────┼──────────────┤\n",
      "│ light GBM               │      0.999707 │     0.999718 │\n",
      "├─────────────────────────┼───────────────┼──────────────┤\n",
      "│ CatBoost                │      0.999998 │     0.999998 │\n",
      "├─────────────────────────┼───────────────┼──────────────┤\n",
      "│ SVM                     │      0.932695 │     0.930672 │\n",
      "╘═════════════════════════╧═══════════════╧══════════════╛\n"
     ]
    }
   ],
   "source": [
    "data = [[\"KNN Regressor\", KNR_train, KNR_test], \n",
    "        [\"Logistic Regression\", lr_train, lr_test],\n",
    "        [\"Random Forest Regressor\", rfr_train, rfr_test], \n",
    "        [\"XGBM\", xgbr_train, xgbr_test], \n",
    "        [\"Adaboost\", abr_train, abr_test], \n",
    "        [\"light GBM\", lgbr_train, lgbr_test],\n",
    "        [\"CatBoost\", cbr_train, cbr_test], \n",
    "        [\"SVM\", SVR_train, SVR_test]]\n",
    "\n",
    "col_names = [\"Model\", \"Train Score\", \"Test Score\"]\n",
    "print(tabulate(data, headers=col_names, tablefmt=\"fancy_grid\"))"
   ]
  }
 ],
 "metadata": {
  "kernelspec": {
   "display_name": "Python 3",
   "language": "python",
   "name": "python3"
  },
  "language_info": {
   "codemirror_mode": {
    "name": "ipython",
    "version": 3
   },
   "file_extension": ".py",
   "mimetype": "text/x-python",
   "name": "python",
   "nbconvert_exporter": "python",
   "pygments_lexer": "ipython3",
   "version": "3.7.12"
  },
  "papermill": {
   "default_parameters": {},
   "duration": 6387.438771,
   "end_time": "2022-10-06T14:26:51.884106",
   "environment_variables": {},
   "exception": null,
   "input_path": "__notebook__.ipynb",
   "output_path": "__notebook__.ipynb",
   "parameters": {},
   "start_time": "2022-10-06T12:40:24.445335",
   "version": "2.3.4"
  }
 },
 "nbformat": 4,
 "nbformat_minor": 5
}
